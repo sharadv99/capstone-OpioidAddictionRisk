{
 "cells": [
  {
   "cell_type": "code",
   "execution_count": 3,
   "metadata": {
    "collapsed": true
   },
   "outputs": [],
   "source": [
    "import pandas as pd\n",
    "import numpy as np\n",
    "import matplotlib.pyplot as plt\n",
    "import zipfile\n",
    "%matplotlib inline"
   ]
  },
  {
   "cell_type": "code",
   "execution_count": 4,
   "metadata": {
    "collapsed": true
   },
   "outputs": [],
   "source": [
    "#Read in all survey data from 2015-2017\n",
    "with zipfile.ZipFile(\"NSDUH-2017-DS0001-bndl-data-tsv.zip\") as z:\n",
    "    data_2017 = pd.read_csv(z.open(\"NSDUH_2017_Tab.tsv\"), sep=\"\\t\", low_memory= False)\n",
    "with zipfile.ZipFile(\"NSDUH-2016-DS0001-bndl-data-tsv.zip\") as z:\n",
    "    data_2016 = pd.read_csv(z.open(\"NSDUH_2016_Tab.tsv\"), sep=\"\\t\", low_memory= False)\n",
    "with zipfile.ZipFile(\"NSDUH-2015-DS0001-bndl-data-tsv.zip\") as z:\n",
    "    data_2015 = pd.read_csv(z.open(\"NSDUH_2015_Tab.tsv\"), sep=\"\\t\", low_memory= False)"
   ]
  },
  {
   "cell_type": "code",
   "execution_count": 5,
   "metadata": {},
   "outputs": [
    {
     "name": "stdout",
     "output_type": "stream",
     "text": [
      "(56276, 2668)\n",
      "(56897, 2668)\n",
      "(57146, 2679)\n"
     ]
    }
   ],
   "source": [
    "#verify shapes\n",
    "print(data_2017.shape)\n",
    "print(data_2016.shape)\n",
    "print(data_2015.shape) #cols that werent collected in 2016 and 2017 need to be removed"
   ]
  },
  {
   "cell_type": "code",
   "execution_count": 6,
   "metadata": {
    "collapsed": true
   },
   "outputs": [],
   "source": [
    "#Based on PUFVariableCrossWalk2017 there are inconsistent column headers - change to match 2017\n",
    "data_2015.rename(columns={\"COLLENRST\": 'COLLENRLST', 'COLLENRFT': 'COLLENRLFT'}, inplace=True)"
   ]
  },
  {
   "cell_type": "code",
   "execution_count": 7,
   "metadata": {},
   "outputs": [
    {
     "data": {
      "text/plain": [
       "Index(['PNROTNMYR3', 'SEDOTNMYR3', 'STMOTNMYR3', 'TRQOTNMYR3'], dtype='object')"
      ]
     },
     "execution_count": 7,
     "metadata": {},
     "output_type": "execute_result"
    }
   ],
   "source": [
    "#columns in 2016 that arent in 2017\n",
    "data_2016.columns.difference(data_2017.columns)"
   ]
  },
  {
   "cell_type": "code",
   "execution_count": 8,
   "metadata": {},
   "outputs": [
    {
     "data": {
      "text/plain": [
       "Index(['EDUSCKCOM', 'EDUSCKEST', 'EDUSKPCOM', 'EDUSKPEST'], dtype='object')"
      ]
     },
     "execution_count": 8,
     "metadata": {},
     "output_type": "execute_result"
    }
   ],
   "source": [
    "#columns in 2017 that arent in 2016\n",
    "data_2017.columns.difference(data_2016.columns)"
   ]
  },
  {
   "cell_type": "code",
   "execution_count": 10,
   "metadata": {},
   "outputs": [],
   "source": [
    "#Begin removing inconsistent columns\n",
    "data_2016.drop(['PNROTNMYR3', 'SEDOTNMYR3', 'STMOTNMYR3', 'TRQOTNMYR3'], axis = 1, inplace= True)\n",
    "data_2017.drop(['EDUSCKCOM', 'EDUSCKEST', 'EDUSKPCOM', 'EDUSKPEST'], axis = 1, inplace=True)"
   ]
  },
  {
   "cell_type": "code",
   "execution_count": 15,
   "metadata": {},
   "outputs": [],
   "source": [
    "#merge 2016 and 2017 data\n",
    "data = pd.concat([data_2017, data_2016], ignore_index= True)"
   ]
  },
  {
   "cell_type": "code",
   "execution_count": 25,
   "metadata": {
    "scrolled": true
   },
   "outputs": [],
   "source": [
    "#columns in 2016/2017 that arent in 2015\n",
    "missing_cols_2015 = data.columns.difference(data_2015.columns)\n",
    "#columns in 2015 that arent in 2016/2017\n",
    "extra_cols_2015 = data_2015.columns.difference(data.columns)"
   ]
  },
  {
   "cell_type": "code",
   "execution_count": 28,
   "metadata": {},
   "outputs": [],
   "source": [
    "#Run only if we want to include 2015 data\n",
    "data.drop(list(missing_cols_2015), axis = 1, inplace = True)\n",
    "data_2015.drop(list(extra_cols_2015), axis = 1, inplace = True)"
   ]
  },
  {
   "cell_type": "code",
   "execution_count": 31,
   "metadata": {},
   "outputs": [
    {
     "name": "stdout",
     "output_type": "stream",
     "text": [
      "(113173, 2631)\n",
      "(57146, 2631)\n"
     ]
    }
   ],
   "source": [
    "print(data.shape)\n",
    "print(data_2015.shape)"
   ]
  },
  {
   "cell_type": "code",
   "execution_count": 32,
   "metadata": {},
   "outputs": [
    {
     "name": "stdout",
     "output_type": "stream",
     "text": [
      "(170319, 2631)\n"
     ]
    }
   ],
   "source": [
    "#merge 2015 and 2016/2017 data\n",
    "data = pd.concat([data, data_2015], ignore_index= True)\n",
    "print(data.shape)"
   ]
  },
  {
   "cell_type": "code",
   "execution_count": 34,
   "metadata": {
    "collapsed": true
   },
   "outputs": [],
   "source": [
    "dep_var_counts = data[\"PNRNMINIT\"].astype(\"str\").value_counts()"
   ]
  },
  {
   "cell_type": "code",
   "execution_count": 35,
   "metadata": {},
   "outputs": [
    {
     "data": {
      "text/plain": [
       "<matplotlib.axes._subplots.AxesSubplot at 0x108c7e198>"
      ]
     },
     "execution_count": 35,
     "metadata": {},
     "output_type": "execute_result"
    },
    {
     "data": {
      "image/png": "[encoded data removed]",
      "text/plain": [
       "<matplotlib.figure.Figure at 0x1151a7d30>"
      ]
     },
     "metadata": {},
     "output_type": "display_data"
    }
   ],
   "source": [
    "dep_var_counts.plot(kind='bar', figsize = (8,6), title= \"Frequency of Misuse by code\")"
   ]
  },
  {
   "cell_type": "code",
   "execution_count": 36,
   "metadata": {},
   "outputs": [
    {
     "name": "stdout",
     "output_type": "stream",
     "text": [
      "91 makes up 88.24558622349826% of the total\n",
      "93 makes up 5.49263440954914% of the total\n",
      "4 makes up 3.639640909117597% of the total\n",
      "1 makes up 1.0621246014830994% of the total\n",
      "83 makes up 0.6934047287736541% of the total\n",
      "98 makes up 0.4702939777711236% of the total\n",
      "2 makes up 0.36226140360147724% of the total\n",
      "94 makes up 0.018201140213364334% of the total\n",
      "97 makes up 0.015852605992285065% of the total\n"
     ]
    }
   ],
   "source": [
    "for i,j in list(dep_var_counts.to_dict().items()):\n",
    "    print(\"{} makes up {}% of the total\".format(i,100*j/sum(list(dep_var_counts.to_dict().values()))))"
   ]
  },
  {
   "cell_type": "code",
   "execution_count": 37,
   "metadata": {
    "collapsed": true
   },
   "outputs": [],
   "source": [
    "unique_vals_per_col = data.nunique()"
   ]
  },
  {
   "cell_type": "code",
   "execution_count": 38,
   "metadata": {},
   "outputs": [
    {
     "data": {
      "text/plain": [
       "[(2, 728),\n",
       " (3, 91),\n",
       " (4, 121),\n",
       " (5, 106),\n",
       " (6, 248),\n",
       " (7, 287),\n",
       " (8, 202),\n",
       " (9, 243),\n",
       " (10, 138),\n",
       " (11, 68),\n",
       " (12, 52),\n",
       " (13, 12),\n",
       " (14, 12),\n",
       " (15, 6),\n",
       " (16, 13),\n",
       " (17, 5),\n",
       " (18, 3),\n",
       " (19, 32),\n",
       " (20, 5),\n",
       " (21, 7),\n",
       " (22, 4),\n",
       " (23, 4),\n",
       " (24, 3),\n",
       " (25, 7),\n",
       " (26, 1),\n",
       " (27, 5),\n",
       " (28, 2),\n",
       " (29, 5),\n",
       " (30, 5),\n",
       " (31, 6),\n",
       " (32, 8),\n",
       " (33, 11),\n",
       " (34, 3),\n",
       " (35, 10),\n",
       " (36, 17),\n",
       " (37, 2),\n",
       " (38, 6),\n",
       " (39, 2),\n",
       " (41, 1),\n",
       " (43, 1),\n",
       " (44, 2),\n",
       " (46, 2),\n",
       " (47, 2),\n",
       " (48, 3),\n",
       " (49, 3),\n",
       " (50, 2),\n",
       " (51, 1),\n",
       " (52, 2),\n",
       " (53, 1),\n",
       " (54, 2),\n",
       " (55, 3),\n",
       " (56, 3),\n",
       " (57, 4),\n",
       " (58, 4),\n",
       " (59, 6),\n",
       " (60, 5),\n",
       " (61, 4),\n",
       " (62, 5),\n",
       " (63, 3),\n",
       " (64, 1),\n",
       " (65, 6),\n",
       " (66, 1),\n",
       " (67, 4),\n",
       " (68, 2),\n",
       " (71, 5),\n",
       " (72, 3),\n",
       " (74, 2),\n",
       " (75, 3),\n",
       " (76, 1),\n",
       " (77, 3),\n",
       " (78, 1),\n",
       " (79, 1),\n",
       " (80, 1),\n",
       " (81, 1),\n",
       " (83, 1),\n",
       " (86, 1),\n",
       " (87, 2),\n",
       " (88, 3),\n",
       " (89, 3),\n",
       " (90, 1),\n",
       " (92, 1),\n",
       " (93, 1),\n",
       " (94, 2),\n",
       " (95, 1),\n",
       " (96, 1),\n",
       " (97, 4),\n",
       " (98, 1),\n",
       " (102, 1),\n",
       " (103, 1),\n",
       " (106, 2),\n",
       " (109, 1),\n",
       " (111, 2),\n",
       " (113, 1),\n",
       " (114, 1),\n",
       " (115, 1),\n",
       " (119, 1),\n",
       " (120, 1),\n",
       " (122, 1),\n",
       " (127, 1),\n",
       " (128, 1),\n",
       " (153, 1),\n",
       " (170, 1),\n",
       " (176, 2),\n",
       " (182, 1),\n",
       " (185, 1),\n",
       " (199, 1),\n",
       " (224, 1),\n",
       " (225, 1),\n",
       " (260, 1),\n",
       " (263, 1),\n",
       " (272, 1),\n",
       " (284, 1),\n",
       " (290, 1),\n",
       " (291, 1),\n",
       " (382, 1),\n",
       " (3765, 1),\n",
       " (5763, 1),\n",
       " (168700, 1),\n",
       " (169993, 1)]"
      ]
     },
     "execution_count": 38,
     "metadata": {},
     "output_type": "execute_result"
    }
   ],
   "source": [
    "#x = Unique vals in a column   y = Number of cols that share that unique value\n",
    "freq_counts = pd.Series(list(unique_vals_per_col)).value_counts().to_dict()\n",
    "freq_counts = sorted(freq_counts.items())\n",
    "freq_counts"
   ]
  },
  {
   "cell_type": "code",
   "execution_count": 40,
   "metadata": {},
   "outputs": [
    {
     "data": {
      "text/plain": [
       "<matplotlib.text.Text at 0x2cae88860>"
      ]
     },
     "execution_count": 40,
     "metadata": {},
     "output_type": "execute_result"
    },
    {
     "data": {
      "image/png": "[encoded data removed]",
      "text/plain": [
       "<matplotlib.figure.Figure at 0x108ca27b8>"
      ]
     },
     "metadata": {},
     "output_type": "display_data"
    }
   ],
   "source": [
    "x,y = zip(*freq_counts)\n",
    "plt.bar(list(x), list(y))\n",
    "plt.xlim([0,70])\n",
    "plt.title(\"histogram of unique column value counts\")\n",
    "plt.xlabel(\"Unique Values in Column\")\n",
    "plt.ylabel(\"Number of Columns\")"
   ]
  }
 ],
 "metadata": {
  "kernelspec": {
   "display_name": "Python 3",
   "language": "python",
   "name": "python3"
  },
  "language_info": {
   "codemirror_mode": {
    "name": "ipython",
    "version": 3
   },
   "file_extension": ".py",
   "mimetype": "text/x-python",
   "name": "python",
   "nbconvert_exporter": "python",
   "pygments_lexer": "ipython3",
   "version": "3.6.1"
  }
 },
 "nbformat": 4,
 "nbformat_minor": 2
}
