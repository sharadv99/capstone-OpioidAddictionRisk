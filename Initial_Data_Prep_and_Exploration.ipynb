{
  "nbformat": 4,
  "nbformat_minor": 0,
  "metadata": {
    "colab": {
      "name": "Initial Data Prep and Exploration.ipynb",
      "version": "0.3.2",
      "provenance": [],
      "include_colab_link": true
    },
    "language_info": {
      "codemirror_mode": {
        "name": "ipython",
        "version": 3
      },
      "file_extension": ".py",
      "mimetype": "text/x-python",
      "name": "python",
      "nbconvert_exporter": "python",
      "pygments_lexer": "ipython3",
      "version": "3.6.1"
    },
    "kernelspec": {
      "display_name": "Python 3",
      "language": "python",
      "name": "python3"
    }
  },
  "cells": [
    {
      "cell_type": "markdown",
      "metadata": {
        "id": "view-in-github",
        "colab_type": "text"
      },
      "source": [
        "<a href=\"https://colab.research.google.com/github/sharadv99/capstone-OpioidAddictionRisk/blob/master/Initial_Data_Prep_and_Exploration.ipynb\" target=\"_parent\"><img src=\"https://colab.research.google.com/assets/colab-badge.svg\" alt=\"Open In Colab\"/></a>"
      ]
    },
    {
      "cell_type": "code",
      "metadata": {
        "id": "_QHiArgNWDFv",
        "colab_type": "code",
        "colab": {}
      },
      "source": [
        "import pandas as pd\n",
        "import numpy as np\n",
        "import matplotlib.pyplot as plt\n",
        "import zipfile\n",
        "%matplotlib inline"
      ],
      "execution_count": 0,
      "outputs": []
    },
    {
      "cell_type": "code",
      "metadata": {
        "id": "Hsb8zWNQWDF3",
        "colab_type": "code",
        "colab": {}
      },
      "source": [
        "#Read in all survey data from 2015-2017\n",
        "with zipfile.ZipFile(\"NSDUH-2017-DS0001-bndl-data-tsv.zip\") as z:\n",
        "    data_2017 = pd.read_csv(z.open(\"NSDUH_2017_Tab.tsv\"), sep=\"\\t\", low_memory= False)\n",
        "with zipfile.ZipFile(\"NSDUH-2016-DS0001-bndl-data-tsv.zip\") as z:\n",
        "    data_2016 = pd.read_csv(z.open(\"NSDUH_2016_Tab.tsv\"), sep=\"\\t\", low_memory= False)\n",
        "with zipfile.ZipFile(\"NSDUH-2015-DS0001-bndl-data-tsv.zip\") as z:\n",
        "    data_2015 = pd.read_csv(z.open(\"NSDUH_2015_Tab.tsv\"), sep=\"\\t\", low_memory= False)"
      ],
      "execution_count": 0,
      "outputs": []
    },
    {
      "cell_type": "code",
      "metadata": {
        "id": "kb0FnqCTWDF6",
        "colab_type": "code",
        "colab": {},
        "outputId": "342520ee-aa93-4b6e-8c8b-0132b4d226c3"
      },
      "source": [
        "#verify shapes\n",
        "print(data_2017.shape)\n",
        "print(data_2016.shape)\n",
        "print(data_2015.shape) #cols that werent collected in 2016 and 2017 need to be removed"
      ],
      "execution_count": 0,
      "outputs": [
        {
          "output_type": "stream",
          "text": [
            "(56276, 2668)\n",
            "(56897, 2668)\n",
            "(57146, 2679)\n"
          ],
          "name": "stdout"
        }
      ]
    },
    {
      "cell_type": "code",
      "metadata": {
        "id": "SxjJNWo-WDGB",
        "colab_type": "code",
        "colab": {}
      },
      "source": [
        "#Based on PUFVariableCrossWalk2017 there are inconsistent column headers - change to match 2017\n",
        "data_2015.rename(columns={\"COLLENRST\": 'COLLENRLST', 'COLLENRFT': 'COLLENRLFT'}, inplace=True)"
      ],
      "execution_count": 0,
      "outputs": []
    },
    {
      "cell_type": "code",
      "metadata": {
        "id": "r69hUaWHWDGE",
        "colab_type": "code",
        "colab": {}
      },
      "source": [
        "#data = pd.concat([data_2017, data_2016], ignore_index= True)"
      ],
      "execution_count": 0,
      "outputs": []
    },
    {
      "cell_type": "code",
      "metadata": {
        "id": "H142eBx1WDGH",
        "colab_type": "code",
        "colab": {},
        "outputId": "1baf2425-7ff5-41fc-93a5-acf6161b2a60"
      },
      "source": [
        "#columns in 2016 that arent in 2017\n",
        "data_2016.columns.difference(data_2017.columns)"
      ],
      "execution_count": 0,
      "outputs": [
        {
          "output_type": "execute_result",
          "data": {
            "text/plain": [
              "Index(['PNROTNMYR3', 'SEDOTNMYR3', 'STMOTNMYR3', 'TRQOTNMYR3'], dtype='object')"
            ]
          },
          "metadata": {
            "tags": []
          },
          "execution_count": 62
        }
      ]
    },
    {
      "cell_type": "code",
      "metadata": {
        "id": "iSg98KN6WDGL",
        "colab_type": "code",
        "colab": {},
        "outputId": "d1b7f0a2-7322-467d-a5cd-a19cc388eb6b"
      },
      "source": [
        "#columns in 2017 that arent in 2016\n",
        "data_2017.columns.difference(data_2016.columns)"
      ],
      "execution_count": 0,
      "outputs": [
        {
          "output_type": "execute_result",
          "data": {
            "text/plain": [
              "Index(['EDUSCKCOM', 'EDUSCKEST', 'EDUSKPCOM', 'EDUSKPEST'], dtype='object')"
            ]
          },
          "metadata": {
            "tags": []
          },
          "execution_count": 63
        }
      ]
    },
    {
      "cell_type": "code",
      "metadata": {
        "scrolled": true,
        "id": "1NKkWY8_WDGQ",
        "colab_type": "code",
        "colab": {},
        "outputId": "fc653a46-bf2a-431b-95d5-8ff8308f30be"
      },
      "source": [
        "#columns in 2016/2017 that arent in 2015\n",
        "data_2017.columns.difference(data_2015.columns)"
      ],
      "execution_count": 0,
      "outputs": [
        {
          "output_type": "execute_result",
          "data": {
            "text/plain": [
              "Index(['CODEPDAPYU', 'CODEPDPYMU', 'DRVINAGE', 'DRVINALCO', 'DRVINALCO2',\n",
              "       'DRVINALDRG', 'DRVINALON', 'DRVINCOCN', 'DRVINDETAG', 'DRVINDRG',\n",
              "       'DRVINDROTMJ', 'DRVINHALL', 'DRVINHERN', 'DRVININHL', 'DRVINMARJ',\n",
              "       'DRVINMARJ2', 'DRVINMETH', 'EDUFULPAR', 'EDUSCHGRD2', 'EDUSCHLGO',\n",
              "       'EDUSCKCOM', 'EDUSCKEST', 'EDUSCKMON', 'EDUSKPCOM', 'EDUSKPEST',\n",
              "       'EDUSKPMON', 'IIMARIT', 'IRMARIT', 'MILTCHLDR', 'MILTFAMLY',\n",
              "       'MILTPARNT', 'MILTSIBLN', 'MILTSPPAR', 'NOMARR2', 'PNRNMLAS1',\n",
              "       'STMNMLAS1', 'TRQNMLAS1'],\n",
              "      dtype='object')"
            ]
          },
          "metadata": {
            "tags": []
          },
          "execution_count": 64
        }
      ]
    },
    {
      "cell_type": "code",
      "metadata": {
        "id": "n7wXO6QCWDGU",
        "colab_type": "code",
        "colab": {},
        "outputId": "a175ab51-c14f-4410-f98f-9f99480ee360"
      },
      "source": [
        "#columns in 2015 that arent in 2016/2017\n",
        "data_2015.columns.difference(data_2017.columns)"
      ],
      "execution_count": 0,
      "outputs": [
        {
          "output_type": "execute_result",
          "data": {
            "text/plain": [
              "Index(['BUSPPDAPYU', 'BUSPPDPYMU', 'DRVINFALC', 'DRVINFALD', 'DRVINFDRG',\n",
              "       'DRVUNDALC', 'DRVUNDALD', 'DRVUNDDRG', 'EDUENROLL', 'EDUFULPRT',\n",
              "       'EDUGRDNOW2', 'EDUSICKMO', 'EDUSKIPMO', 'HYDRPDAPYU', 'HYDRPDPYMU',\n",
              "       'IIMARITSTAT', 'IRMARITSTAT', 'MARIEDNUM2', 'MEPRPDAPYU', 'MILBROTHR',\n",
              "       'MILDAUGHT', 'MILFAMILY', 'MILFATHER', 'MILMOTHER', 'MILOTHFAM',\n",
              "       'MILPARTNR', 'MILSISTER', 'MILSON', 'MILSPOUSE', 'OXCNANYYR2',\n",
              "       'OXCNNMYR2', 'OXYCPDAPYU', 'OXYCPDPYMU', 'PNRAVDAYPM', 'PNRINWOUD',\n",
              "       'PNRNMLAST', 'PNRNMWOUD', 'PNRNMWUD', 'PNROTNMYR3', 'SEDAVDAYPM',\n",
              "       'SEDOTNMYR3', 'STMAVDAYPM', 'STMNMLAST', 'STMOTNMYR3', 'TRQAVDAYPM',\n",
              "       'TRQLLSEFX', 'TRQNMLAST', 'TRQOTNMYR3'],\n",
              "      dtype='object')"
            ]
          },
          "metadata": {
            "tags": []
          },
          "execution_count": 65
        }
      ]
    },
    {
      "cell_type": "markdown",
      "metadata": {
        "id": "3wM57YRRWDGY",
        "colab_type": "text"
      },
      "source": [
        "**PNRNMLAS1, TRQNMLAS1 and STMNMLAS1 are 3 examples of name discrepancies between 2015 column headers and 2016/2017 column headers**"
      ]
    },
    {
      "cell_type": "code",
      "metadata": {
        "id": "er1s5793WDGZ",
        "colab_type": "code",
        "colab": {},
        "outputId": "77b16ed6-dbe6-46f9-870c-0e3f6ee136c7"
      },
      "source": [
        "data_2016['TRQNMLAS1']"
      ],
      "execution_count": 0,
      "outputs": [
        {
          "output_type": "execute_result",
          "data": {
            "text/plain": [
              "0        91\n",
              "1         8\n",
              "2        91\n",
              "3        91\n",
              "4        91\n",
              "5        91\n",
              "6        91\n",
              "7        91\n",
              "8        91\n",
              "9        91\n",
              "10       91\n",
              "11       91\n",
              "12       91\n",
              "13       91\n",
              "14       91\n",
              "15       91\n",
              "16        8\n",
              "17       91\n",
              "18       91\n",
              "19       91\n",
              "20       91\n",
              "21       91\n",
              "22       91\n",
              "23       91\n",
              "24       91\n",
              "25       91\n",
              "26       91\n",
              "27       91\n",
              "28        1\n",
              "29       91\n",
              "         ..\n",
              "56867    91\n",
              "56868    91\n",
              "56869    91\n",
              "56870    91\n",
              "56871    91\n",
              "56872    91\n",
              "56873    91\n",
              "56874    91\n",
              "56875    91\n",
              "56876    91\n",
              "56877    91\n",
              "56878    91\n",
              "56879     8\n",
              "56880    91\n",
              "56881    91\n",
              "56882    91\n",
              "56883    91\n",
              "56884    91\n",
              "56885    91\n",
              "56886    91\n",
              "56887    91\n",
              "56888    91\n",
              "56889    91\n",
              "56890    91\n",
              "56891    91\n",
              "56892    91\n",
              "56893     1\n",
              "56894    91\n",
              "56895    91\n",
              "56896    91\n",
              "Name: TRQNMLAS1, Length: 56897, dtype: int64"
            ]
          },
          "metadata": {
            "tags": []
          },
          "execution_count": 56
        }
      ]
    },
    {
      "cell_type": "code",
      "metadata": {
        "id": "wiylbGttWDGe",
        "colab_type": "code",
        "colab": {}
      },
      "source": [
        "dep_var_counts = data[\"PNRNMINIT\"].astype(\"str\").value_counts()"
      ],
      "execution_count": 0,
      "outputs": []
    },
    {
      "cell_type": "code",
      "metadata": {
        "id": "9Oggj1BUWDGn",
        "colab_type": "code",
        "colab": {},
        "outputId": "eedec14a-8364-4355-f540-93c3a299925d"
      },
      "source": [
        "dep_var_counts.plot(kind='bar', figsize = (8,6), title= \"Frequency of Misuse by code\")"
      ],
      "execution_count": 0,
      "outputs": [
        {
          "output_type": "execute_result",
          "data": {
            "text/plain": [
              "<matplotlib.axes._subplots.AxesSubplot at 0x15a74e1d0>"
            ]
          },
          "metadata": {
            "tags": []
          },
          "execution_count": 147
        },
        {
          "output_type": "display_data",
          "data": {
            "image/png": "[encoded data removed]",
            "text/plain": [
              "<matplotlib.figure.Figure at 0x124be56d8>"
            ]
          },
          "metadata": {
            "tags": []
          }
        }
      ]
    },
    {
      "cell_type": "code",
      "metadata": {
        "id": "NcQ3KzJ6WDGt",
        "colab_type": "code",
        "colab": {},
        "outputId": "704f2ea1-5197-4d44-9613-56ff0c7cf16f"
      },
      "source": [
        "for i,j in list(dep_var_counts.to_dict().items()):\n",
        "    print(\"{} makes up {}% of the total\".format(i,100*j/sum(list(dep_var_counts.to_dict().values()))))"
      ],
      "execution_count": 0,
      "outputs": [
        {
          "output_type": "stream",
          "text": [
            "91 makes up 88.27208756841283% of the total\n",
            "93 makes up 5.615182315729618% of the total\n",
            "4 makes up 3.4295259080247353% of the total\n",
            "1 makes up 0.9826569052526832% of the total\n",
            "83 makes up 0.8618238680787547% of the total\n",
            "98 makes up 0.44779302011514677% of the total\n",
            "2 makes up 0.35539128580567203% of the total\n",
            "94 makes up 0.023100433577368684% of the total\n",
            "97 makes up 0.012438695003198521% of the total\n"
          ],
          "name": "stdout"
        }
      ]
    },
    {
      "cell_type": "code",
      "metadata": {
        "id": "70pFppB-WDG3",
        "colab_type": "code",
        "colab": {}
      },
      "source": [
        "unique_vals_per_col = data.nunique()"
      ],
      "execution_count": 0,
      "outputs": []
    },
    {
      "cell_type": "code",
      "metadata": {
        "id": "UhSOQXUCWDG9",
        "colab_type": "code",
        "colab": {},
        "outputId": "1ed9c132-cb9f-4fdd-bf5a-37c1932693d0"
      },
      "source": [
        "#x = Unique vals in a column   y = Number of cols that share that unique value\n",
        "freq_counts = pd.Series(list(unique_vals_per_col)).value_counts().to_dict()\n",
        "freq_counts = sorted(freq_counts.items())\n",
        "freq_counts"
      ],
      "execution_count": 0,
      "outputs": [
        {
          "output_type": "execute_result",
          "data": {
            "text/plain": [
              "[(1, 1),\n",
              " (2, 741),\n",
              " (3, 99),\n",
              " (4, 131),\n",
              " (5, 116),\n",
              " (6, 324),\n",
              " (7, 294),\n",
              " (8, 212),\n",
              " (9, 224),\n",
              " (10, 124),\n",
              " (11, 43),\n",
              " (12, 19),\n",
              " (13, 14),\n",
              " (14, 12),\n",
              " (15, 9),\n",
              " (16, 10),\n",
              " (17, 6),\n",
              " (18, 5),\n",
              " (19, 34),\n",
              " (20, 12),\n",
              " (21, 6),\n",
              " (22, 6),\n",
              " (23, 5),\n",
              " (24, 6),\n",
              " (25, 12),\n",
              " (26, 2),\n",
              " (27, 4),\n",
              " (28, 8),\n",
              " (29, 2),\n",
              " (30, 3),\n",
              " (31, 7),\n",
              " (32, 3),\n",
              " (33, 3),\n",
              " (34, 6),\n",
              " (35, 7),\n",
              " (36, 14),\n",
              " (37, 3),\n",
              " (38, 4),\n",
              " (39, 5),\n",
              " (41, 2),\n",
              " (42, 2),\n",
              " (43, 4),\n",
              " (46, 1),\n",
              " (47, 4),\n",
              " (48, 3),\n",
              " (49, 2),\n",
              " (50, 5),\n",
              " (51, 2),\n",
              " (52, 4),\n",
              " (53, 6),\n",
              " (54, 5),\n",
              " (55, 3),\n",
              " (56, 3),\n",
              " (57, 6),\n",
              " (58, 3),\n",
              " (59, 2),\n",
              " (60, 3),\n",
              " (61, 2),\n",
              " (62, 1),\n",
              " (64, 3),\n",
              " (65, 2),\n",
              " (66, 4),\n",
              " (67, 3),\n",
              " (68, 4),\n",
              " (69, 1),\n",
              " (70, 2),\n",
              " (71, 1),\n",
              " (72, 1),\n",
              " (73, 1),\n",
              " (75, 2),\n",
              " (76, 1),\n",
              " (80, 3),\n",
              " (81, 1),\n",
              " (82, 3),\n",
              " (83, 1),\n",
              " (84, 1),\n",
              " (85, 2),\n",
              " (86, 1),\n",
              " (87, 2),\n",
              " (88, 2),\n",
              " (89, 1),\n",
              " (90, 1),\n",
              " (91, 1),\n",
              " (92, 2),\n",
              " (93, 1),\n",
              " (94, 1),\n",
              " (101, 2),\n",
              " (121, 1),\n",
              " (126, 1),\n",
              " (127, 1),\n",
              " (128, 1),\n",
              " (133, 1),\n",
              " (155, 1),\n",
              " (158, 1),\n",
              " (167, 1),\n",
              " (195, 1),\n",
              " (196, 1),\n",
              " (197, 1),\n",
              " (216, 1),\n",
              " (225, 1),\n",
              " (226, 1),\n",
              " (230, 1),\n",
              " (3216, 1),\n",
              " (3793, 1),\n",
              " (56141, 1),\n",
              " (56276, 1)]"
            ]
          },
          "metadata": {
            "tags": []
          },
          "execution_count": 161
        }
      ]
    },
    {
      "cell_type": "code",
      "metadata": {
        "id": "VOxJH9sKWDHM",
        "colab_type": "code",
        "colab": {},
        "outputId": "f7770a98-9422-43b2-de1a-673605667bef"
      },
      "source": [
        "plt.bar(list(x), list(y))\n",
        "plt.xlim([0,70])\n",
        "plt.title(\"histogram of unique column value counts\")\n",
        "plt.xlabel(\"Unique Values in Column\")\n",
        "plt.ylabel(\"Number of Columns\")"
      ],
      "execution_count": 0,
      "outputs": [
        {
          "output_type": "execute_result",
          "data": {
            "text/plain": [
              "<matplotlib.text.Text at 0x1243aba90>"
            ]
          },
          "metadata": {
            "tags": []
          },
          "execution_count": 167
        },
        {
          "output_type": "display_data",
          "data": {
            "image/png": "[encoded data removed]",
            "text/plain": [
              "<matplotlib.figure.Figure at 0x1239b6cc0>"
            ]
          },
          "metadata": {
            "tags": []
          }
        }
      ]
    },
    {
      "cell_type": "code",
      "metadata": {
        "id": "HCSOMm2vWDHr",
        "colab_type": "code",
        "colab": {}
      },
      "source": [
        "def convert_to_int(df_col):\n",
        "    return df_col.astype(\"int64\")"
      ],
      "execution_count": 0,
      "outputs": []
    },
    {
      "cell_type": "code",
      "metadata": {
        "id": "TDwmcFy3WDHu",
        "colab_type": "code",
        "colab": {},
        "outputId": "490d108c-0567-46ca-d5e2-4800e2473bf0"
      },
      "source": [
        ""
      ],
      "execution_count": 0,
      "outputs": [
        {
          "output_type": "execute_result",
          "data": {
            "text/plain": [
              "0        91\n",
              "1        91\n",
              "2        91\n",
              "3        91\n",
              "4        91\n",
              "5        91\n",
              "6        91\n",
              "7        83\n",
              "8        91\n",
              "9        91\n",
              "10       91\n",
              "11       91\n",
              "12       91\n",
              "13       91\n",
              "14       91\n",
              "15       91\n",
              "16       91\n",
              "17       91\n",
              "18       93\n",
              "19       91\n",
              "20       91\n",
              "21       91\n",
              "22       91\n",
              "23       93\n",
              "24       91\n",
              "25       91\n",
              "26       91\n",
              "27       91\n",
              "28       91\n",
              "29       91\n",
              "         ..\n",
              "56246    91\n",
              "56247    91\n",
              "56248    91\n",
              "56249    91\n",
              "56250    91\n",
              "56251     4\n",
              "56252    91\n",
              "56253    91\n",
              "56254    91\n",
              "56255    91\n",
              "56256    91\n",
              "56257    91\n",
              "56258    91\n",
              "56259    91\n",
              "56260    91\n",
              "56261    91\n",
              "56262    91\n",
              "56263    91\n",
              "56264    91\n",
              "56265    91\n",
              "56266    91\n",
              "56267    91\n",
              "56268    91\n",
              "56269    93\n",
              "56270    91\n",
              "56271    91\n",
              "56272    91\n",
              "56273    91\n",
              "56274    91\n",
              "56275    91\n",
              "Name: PNRNMINIT, Length: 56276, dtype: category\n",
              "Categories (9, int64): [1, 2, 4, 83, ..., 93, 94, 97, 98]"
            ]
          },
          "metadata": {
            "tags": []
          },
          "execution_count": 174
        }
      ]
    },
    {
      "cell_type": "code",
      "metadata": {
        "id": "c3W73fGUWDH4",
        "colab_type": "code",
        "colab": {}
      },
      "source": [
        ""
      ],
      "execution_count": 0,
      "outputs": []
    }
  ]
}