{
 "cells": [
  {
   "cell_type": "markdown",
   "metadata": {},
   "source": [
    "# Opioid Addiction Project\n",
    "## Notebook 06: Full Pipeline\n",
    "\n",
    "This notebook is intended to simulate the full pipeline using .py modules, starting with submitting a user's input, preprocessing that input, then running it through prediction tasks, resulting in the final output of the user's prediction scores.\n",
    "\n",
    "### W210, Capstone\n",
    "Summer 2019\n",
    "\n",
    "Team:  Cameron Kennedy, Aditi Khullar, Rachel Kramer, Sharad Varadarajan"
   ]
  },
  {
   "cell_type": "markdown",
   "metadata": {},
   "source": [
    "# 0. Load Libraries and Set Global Variables\n",
    "This analysis is performed in the cells below."
   ]
  },
  {
   "cell_type": "code",
   "execution_count": 1,
   "metadata": {},
   "outputs": [
    {
     "name": "stdout",
     "output_type": "stream",
     "text": [
      "Pandas Version 0.24.1\n"
     ]
    },
    {
     "name": "stderr",
     "output_type": "stream",
     "text": [
      "C:\\Users\\camke\\Anaconda3\\lib\\site-packages\\sklearn\\externals\\joblib\\__init__.py:15: DeprecationWarning: sklearn.externals.joblib is deprecated in 0.21 and will be removed in 0.23. Please import this functionality directly from joblib, which can be installed with: pip install joblib. If this warning is raised when loading pickled models, you may need to re-serialize those models with scikit-learn 0.21+.\n",
      "  warnings.warn(msg, category=DeprecationWarning)\n"
     ]
    }
   ],
   "source": [
    "#Import Required Libraries\n",
    "import pandas as pd\n",
    "import numpy as np\n",
    "from sklearn.externals import joblib  #Used to save/load (pickle) models\n",
    "from collections import defaultdict\n",
    "import operator\n",
    "from scipy import stats\n",
    "\n",
    "#Custom data prep function used in both training and prediction \n",
    "import OpioidDataPrep as odp\n",
    "import OpioidExecution as oe\n",
    "\n",
    "#Set initial parameter(s)\n",
    "pd.set_option('display.max_rows', 200)\n",
    "pd.options.display.max_columns = 150\n",
    "dataDir = './data/'\n",
    "\n",
    "print('Pandas Version', pd.__version__)"
   ]
  },
  {
   "cell_type": "markdown",
   "metadata": {},
   "source": [
    "# 1. Simulate User Data\n",
    "\n",
    "This section simulates the user entering various responses to questions. In the actual web tool, this input will come in the form of a dictionary, therefore this data should mimic that format."
   ]
  },
  {
   "cell_type": "code",
   "execution_count": 2,
   "metadata": {},
   "outputs": [
    {
     "name": "stdout",
     "output_type": "stream",
     "text": [
      "{'NAME': 'Joe Capstone', 'IRSEX': 1, 'EDUHIGHCAT': 1, 'AGE2': 10, 'IRALCRC': 9, 'IRALCFY': 30, 'CABINGEVR': 2, 'IRALCAGE': 21, 'TXYRRECVD2': 0, 'TXEVRRCVD2': 1, 'IRCIGRC': 1, 'CIGDLYMO': 1, 'CIGAGE': 13, 'TOBYR': 1, 'FUCIG18': 1, 'IRMJRC': 1, 'IRMJFY': 2, 'FUMJ18': 1, 'IRCOCRC': 9, 'IRCRKRC': 9, 'IRHERRC': 1, 'IRHALLUCREC': 9, 'IRLSDRC': 9, 'IRECSTMOREC': 9, 'IRINHALREC': 9, 'IRMETHAMREC': 9, 'ADDPREV': 1, 'ADDSCEV': 1, 'BOOKED': 1}\n"
     ]
    }
   ],
   "source": [
    "#Simulate User Input\n",
    "\n",
    "inputDict = dict()\n",
    "\n",
    "'''\n",
    "[{'NAME': 'sharad', 'AGE2': 27, 'IRSEX': 1, 'IREDUHIGHST2': 11}, {'IRALCAGE': 13, 'IRALCRC': 1, 'IRALCFY': 300, \n",
    "'BNGDRKMON': 1, 'HVYDRKMON': 1}, {'TXYRRECVD2': 1, 'TXEVRRCVD2': 1}, {'IRCIGRC': 1, 'CIGDLYMO': 1, 'CIGAGE': 13, \n",
    "'PIPEVER': 1, 'IRCGRRC': 1, 'IRSMKLSSREC': 1}, {'IRMJRC': 1, 'MJYRTOT': 300, 'FUMJ18': 1, 'FUMJ21': 1}, \n",
    "{'ADDPREV': 1, 'ADDSCEV': 1}, {'BOOKED': 1}]\n",
    "'''\n",
    "\n",
    "#DEMOGRAPHICS\n",
    "inputDict['NAME'] = 'Joe Capstone' #We will delete this column\n",
    "inputDict['IRSEX'] = 1 #Gender: 'Male' or 'Female'\n",
    "inputDict['EDUHIGHCAT'] = 1 #Education:\n",
    "inputDict['AGE2'] = 10 #Age: Remember, don't enter an age, but an age code from the codebook\n",
    "    \n",
    "#ALCOHOL\n",
    "inputDict['IRALCRC'] = 9 #(Alcohol Recency)\n",
    "inputDict['IRALCFY'] = 30 #(Alcohol Frequency Past Year)\n",
    "inputDict['CABINGEVR'] = 2 #(Ever binge drank)\n",
    "inputDict['IRALCAGE'] = 21 #(First time used alcohol)\n",
    "\n",
    "#DRUGS + ALCOHOL\n",
    "inputDict['TXYRRECVD2'] = 0 #(Ever alcohol/drug treatment, past yr)\n",
    "inputDict['TXEVRRCVD2'] = 1 #(Ever alcohol/drug treatment, lifetime)\n",
    "\n",
    "\n",
    "#TOBACCO\n",
    "inputDict['IRCIGRC'] = 1 #(Tobacco Recency, incl. Never)\n",
    "inputDict['CIGDLYMO'] = 1 #(Tobacco 30+ consecutive days)\n",
    "inputDict['CIGAGE'] = 13 #(Tobacco Use Daily)\n",
    "inputDict['TOBYR'] = 1 #(Used any tobacco product in past year, cigar, cigarette, etc.)\n",
    "inputDict['FUCIG18'] = 1 #(Used cigarettes before 18)\n",
    "    \n",
    "#WEED\n",
    "inputDict['IRMJRC'] = 1 #(Weed recency)\n",
    "inputDict['IRMJFY'] = 2 #(Weed days in past year)\n",
    "inputDict['FUMJ18'] = 1 #(First used weed prior to age 18)\n",
    "\n",
    "#HARD DRUGS\n",
    "inputDict['IRCOCRC'] = 9 #(Cocaine Recency)\n",
    "inputDict['IRCRKRC'] = 9 #(Crack Recency)\n",
    "inputDict['IRHERRC'] = 1 #(Heronie Recency)\n",
    "inputDict['IRHALLUCREC'] = 9 #(Hallucinogen Recency)\n",
    "inputDict['IRLSDRC'] = 9 #(LSD Recency)\n",
    "inputDict['IRECSTMOREC'] = 9 #(Ecstacy Recency)\n",
    "inputDict['IRINHALREC'] = 9 #(Inhalant Recency)\n",
    "inputDict['IRMETHAMREC'] = 9 #(Meth Recency)\n",
    "\n",
    "#DEPRESSION\n",
    "inputDict['ADDPREV'] = 1 #(Several days of depression)\n",
    "inputDict['ADDSCEV'] = 1 #(Several days of discouraged about life)\n",
    "    \n",
    "##OTHER\n",
    "inputDict['BOOKED'] = 1 #(Ever arrested & booked)\n",
    "\n",
    "print(inputDict)\n",
    "\n",
    "#Convert to dataframe"
   ]
  },
  {
   "cell_type": "markdown",
   "metadata": {},
   "source": [
    "# 1.b Web App Test"
   ]
  },
  {
   "cell_type": "code",
   "execution_count": 3,
   "metadata": {},
   "outputs": [
    {
     "name": "stderr",
     "output_type": "stream",
     "text": [
      "  0%|                                                                                            | 0/1 [00:00<?, ?it/s]C:\\Users\\camke\\Anaconda3\\lib\\site-packages\\shap\\explainers\\kernel.py:535: UserWarning: l1_reg=\"auto\" is deprecated and in the next version (v0.29) the behavior will change from a conditional use of AIC to simply \"num_features(10)\"!\n",
      "  \"l1_reg=\\\"auto\\\" is deprecated and in the next version (v0.29) the behavior will change from a \" \\\n",
      "C:\\Users\\camke\\Anaconda3\\lib\\site-packages\\shap\\explainers\\kernel.py:535: UserWarning: l1_reg=\"auto\" is deprecated and in the next version (v0.29) the behavior will change from a conditional use of AIC to simply \"num_features(10)\"!\n",
      "  \"l1_reg=\\\"auto\\\" is deprecated and in the next version (v0.29) the behavior will change from a \" \\\n",
      "100%|████████████████████████████████████████████████████████████████████████████████████| 1/1 [00:01<00:00,  1.31s/it]\n"
     ]
    },
    {
     "name": "stdout",
     "output_type": "stream",
     "text": [
      "colNamesList ['ADDPREV__GT1LTET2', 'ADDPREV__GT85LTET94', 'ADDPREV__GT94LTET97', 'ADDSCEV__GT1LTET2', 'ADDSCEV__GT2LTET94', 'ADDSCEV__GT94LTET97', 'ADDSCEV__GT97LTET98', 'ADDSCEV__GT98LTET99', 'AGE2', 'BOOKED__GT1LTET2', 'BOOKED__GT2LTET94', 'BOOKED__GT94LTET97', 'CABINGEVR__GT1LTET2', 'CABINGEVR__GT91LTET94', 'CABINGEVR__GT94LTET97', 'CIGAGE__GT10LTET13', 'CIGAGE__GT13LTET15', 'CIGAGE__GT15LTET17', 'CIGAGE__GT17LTET18', 'CIGAGE__GT18LTET19', 'CIGAGE__GT19LTET20', 'CIGAGE__GT20LTET22', 'CIGAGE__GT22LTET25', 'CIGAGE__GT25LTET30', 'CIGAGE__GT30LTET40', 'CIGAGE__GT40LTET50', 'CIGAGE__GT50LTET99', 'CIGAGE__GT991LTET994', 'CIGAGE__GT994LTET997', 'CIGAGE__GT998LTET999', 'CIGDLYMO__GT91LTET94', 'CIGDLYMO__GT94LTET97', 'EDUHIGHCAT__GT1LTET2', 'EDUHIGHCAT__GT2LTET3', 'EDUHIGHCAT__GT3LTET4', 'EDUHIGHCAT__GT4LTET5', 'FUCIG18', 'FUMJ18', 'IRALCAGE__GT14LTET17', 'IRALCAGE__GT17LTET20', 'IRALCAGE__GT20LTET21', 'IRALCAGE__GT21LTET100', 'IRALCFY__GT11LTET49', 'IRALCFY__GT299LTET365', 'IRALCFY__GT49LTET99', 'IRALCFY__GT99LTET299', 'IRALCRC__GT1LTET2', 'IRALCRC__GT2LTET3', 'IRALCRC__GT3LTET9', 'IRCIGRC__GT1LTET2', 'IRCIGRC__GT2LTET3', 'IRCIGRC__GT3LTET4', 'IRCIGRC__GT4LTET9', 'IRCOCRC__GT1LTET2', 'IRCOCRC__GT2LTET3', 'IRCOCRC__GT3LTET9', 'IRCRKRC__GT1LTET2', 'IRCRKRC__GT2LTET3', 'IRCRKRC__GT3LTET9', 'IRECSTMOREC__GT1LTET2', 'IRECSTMOREC__GT2LTET3', 'IRECSTMOREC__GT3LTET9', 'IRHALLUCREC__GT1LTET2', 'IRHALLUCREC__GT2LTET3', 'IRHALLUCREC__GT3LTET9', 'IRHERRC__GT1LTET2', 'IRHERRC__GT2LTET3', 'IRHERRC__GT3LTET9', 'IRINHALREC__GT1LTET2', 'IRINHALREC__GT2LTET3', 'IRINHALREC__GT3LTET9', 'IRLSDRC__GT1LTET2', 'IRLSDRC__GT2LTET3', 'IRLSDRC__GT3LTET9', 'IRMETHAMREC__GT1LTET2', 'IRMETHAMREC__GT2LTET3', 'IRMETHAMREC__GT3LTET9', 'IRMJFY__GT100LTET200', 'IRMJFY__GT10LTET20', 'IRMJFY__GT1LTET2', 'IRMJFY__GT200LTET300', 'IRMJFY__GT20LTET30', 'IRMJFY__GT2LTET3', 'IRMJFY__GT300LTET365', 'IRMJFY__GT30LTET40', 'IRMJFY__GT3LTET7', 'IRMJFY__GT40LTET50', 'IRMJFY__GT50LTET100', 'IRMJFY__GT7LTET10', 'IRMJRC__GT1LTET2', 'IRMJRC__GT2LTET3', 'IRMJRC__GT3LTET9', 'IRSEX', 'TOBYR', 'TXEVRRCVD2', 'TXYRRECVD2']\n",
      "defaultdict(<class 'list'>, {'ADDPREV': [0, 1, 2], 'ADDSCEV': [3, 4, 5, 6, 7], 'AGE2': [8], 'BOOKED': [9, 10, 11], 'CABINGEVR': [12, 13, 14], 'CIGAGE': [15, 16, 17, 18, 19, 20, 21, 22, 23, 24, 25, 26, 27, 28, 29], 'CIGDLYMO': [30, 31], 'EDUHIGHCAT': [32, 33, 34, 35], 'FUCIG18': [36], 'FUMJ18': [37], 'IRALCAGE': [38, 39, 40, 41], 'IRALCFY': [42, 43, 44, 45], 'IRALCRC': [46, 47, 48], 'IRCIGRC': [49, 50, 51, 52], 'IRCOCRC': [53, 54, 55], 'IRCRKRC': [56, 57, 58], 'IRECSTMOREC': [59, 60, 61], 'IRHALLUCREC': [62, 63, 64], 'IRHERRC': [65, 66, 67], 'IRINHALREC': [68, 69, 70], 'IRLSDRC': [71, 72, 73], 'IRMETHAMREC': [74, 75, 76], 'IRMJFY': [77, 78, 79, 80, 81, 82, 83, 84, 85, 86, 87, 88], 'IRMJRC': [89, 90, 91], 'IRSEX': [92], 'TOBYR': [93], 'TXEVRRCVD2': [94], 'TXYRRECVD2': [95]})\n",
      "Predicted Probability: 23.109%\n",
      "Percentile of Predicted Probability: 77.680%\n",
      "Feature Importance (sorted low to high):\n"
     ]
    },
    {
     "data": {
      "text/plain": [
       "{'IRALCRC': -0.08646649277610176,\n",
       " 'ADDSCEV': -0.08159525424317852,\n",
       " 'IRALCAGE': -0.07618112882355443,\n",
       " 'ADDPREV': -0.04762851620941824,\n",
       " 'CABINGEVR': -0.023960687357598376,\n",
       " 'CIGAGE': -0.02091068878187109,\n",
       " 'IRMJFY': -0.02060874757579842,\n",
       " 'TOBYR': -0.01429888422541295,\n",
       " 'BOOKED': -0.009802700762853615,\n",
       " 'IRHALLUCREC': -0.009649735498546131,\n",
       " 'IRCOCRC': -0.008299566391337986,\n",
       " 'IRINHALREC': -0.005808440292975368,\n",
       " 'IRECSTMOREC': -0.005762648581308736,\n",
       " 'IRMETHAMREC': -0.001481104860488188,\n",
       " 'CIGDLYMO': 0.0,\n",
       " 'IRCRKRC': 0.0,\n",
       " 'TXEVRRCVD2': 0.0,\n",
       " 'TXYRRECVD2': 0.0,\n",
       " 'IRLSDRC': 0.0006407625789814908,\n",
       " 'IRALCFY': 0.008718801644600767,\n",
       " 'FUCIG18': 0.010016674982331233,\n",
       " 'IRCIGRC': 0.01008188247900223,\n",
       " 'FUMJ18': 0.013036503238327245,\n",
       " 'IRSEX': 0.015003794137127296,\n",
       " 'IRMJRC': 0.03567318510896771,\n",
       " 'AGE2': 0.040628554431657825,\n",
       " 'EDUHIGHCAT': 0.05368428100809653,\n",
       " 'IRHERRC': 0.2853131724637584}"
      ]
     },
     "execution_count": 3,
     "metadata": {},
     "output_type": "execute_result"
    }
   ],
   "source": [
    "#Web App Test\n",
    "runWebAppTest = True\n",
    "predFI = None\n",
    "if runWebAppTest:\n",
    "    predProb, predPercentile, predFI = oe.generateReport(inputDict)  #This one line \"does all the work\"\n",
    "    print('Predicted Probability: {:.3%}'.format(predProb))\n",
    "    print('Percentile of Predicted Probability: {:.3%}'.format(predPercentile))\n",
    "    print('Feature Importance (sorted low to high):')\n",
    "predFI"
   ]
  },
  {
   "cell_type": "markdown",
   "metadata": {},
   "source": [
    "# 2. Preprocess"
   ]
  },
  {
   "cell_type": "code",
   "execution_count": null,
   "metadata": {},
   "outputs": [],
   "source": [
    "#Convert inputs to list (pandas conversion to dataframe requires dict values to be lists)\n",
    "if not runWebAppTest: \n",
    "    '''If we run our web app test, these next two lines already run in that and thus\n",
    "    can't be run here (they'll double-list the dictionary)\n",
    "    '''\n",
    "    for k in inputDict:\n",
    "        inputDict[k] = [inputDict[k]]\n",
    "print(inputDict)\n",
    "\n",
    "#Convert dict to dataframe\n",
    "df = pd.DataFrame.from_dict(inputDict)\n",
    "\n",
    "#Run preprocessing on dataframe\n",
    "df = odp.preprocess(df)\n",
    "df"
   ]
  },
  {
   "cell_type": "code",
   "execution_count": null,
   "metadata": {},
   "outputs": [],
   "source": [
    "#Resort by column name (necessary to feed the model)\n",
    "df = odp.sortDFbyColName(df)\n",
    "df"
   ]
  },
  {
   "cell_type": "code",
   "execution_count": null,
   "metadata": {},
   "outputs": [],
   "source": [
    "#Convert to numpy\n",
    "inputArr = df.values\n",
    "inputArr"
   ]
  },
  {
   "cell_type": "code",
   "execution_count": null,
   "metadata": {},
   "outputs": [],
   "source": []
  },
  {
   "cell_type": "markdown",
   "metadata": {},
   "source": [
    "# 3. Generate Predicitons"
   ]
  },
  {
   "cell_type": "code",
   "execution_count": null,
   "metadata": {
    "scrolled": true
   },
   "outputs": [],
   "source": [
    "#Load Models\n",
    "#\n",
    "model = joblib.load(dataDir+'calibLR.model')\n",
    "explainer = joblib.load(dataDir+'modelLRCal.explainer')\n",
    "probs = np.load(dataDir+'modelLRCalPredProbs.npy')\n",
    "\n",
    "#XGB\n",
    "# model = joblib.load(dataDir+'modelXGB.model')\n",
    "# explainer = joblib.load(dataDir+'modelXGB.explainer')\n",
    "# probs = np.load(dataDir+'modelXGBPredProbs.npy')\n",
    "\n",
    "#Load feature names (column names)\n",
    "colNamesList = joblib.load(dataDir+'colNamesList.zip')\n",
    "colNamesList"
   ]
  },
  {
   "cell_type": "code",
   "execution_count": null,
   "metadata": {},
   "outputs": [],
   "source": [
    "#Calculate Prediciton\n",
    "predM = model.predict_proba(inputArr)[0][1]\n",
    "print('Predicted Probability: {:.3%}'.format(predM))\n",
    "\n",
    "#Calculate Percentile\n",
    "pct = stats.percentileofscore(probs, predM)/100\n",
    "print('Percentile of Predicted Probability: {:.3%}'.format(pct))\n",
    "print(inputArr)\n",
    "#Generate shapley values from this row\n",
    "shapVal = explainer.shap_values(inputArr)\n",
    "\n",
    "#Aggregate shapley values for one-hot vectors\n",
    "shapDict = defaultdict(list) #Handy: creates blank list if key doesn't exist, or appends to it if it does.\n",
    "\n",
    "#Get everything before the '_' character of each column name\n",
    "#Then create the column index numbers for those keys \n",
    "#These numbers correspond to the locations in the shapley output array\n",
    "for i, colName in enumerate(colNamesList):\n",
    "    shapDict[colName.split('_')[0]].append(i)\n",
    "    \n",
    "#Make a list of aggregated values shapley\n",
    "for k in shapDict: #Loop through every key in the dict\n",
    "    shapSum = 0.0 #Reset to 0\n",
    "    for index in shapDict[k]: #Loop through every item in the key's value (a list of column indexes)\n",
    "        shapSum += shapVal[1][0][index] #Add the value for each item\n",
    "        #print('index',index,' | k', k, ' | shapVal[1][0][index]', shapVal[1][0][index])\n",
    "    shapDict[k] = shapSum #Replace the list with the aggregated shapley value (the sum of each individual value)\n",
    "    #print('NEXT k')\n",
    "\n",
    "sortedShapDict = dict(sorted(shapDict.items(), key=operator.itemgetter(1)))\n",
    "print('Feature Importance (sorted low to high):')\n",
    "sortedShapDict"
   ]
  },
  {
   "cell_type": "code",
   "execution_count": null,
   "metadata": {},
   "outputs": [],
   "source": []
  }
 ],
 "metadata": {
  "kernelspec": {
   "display_name": "Python 3",
   "language": "python",
   "name": "python3"
  },
  "language_info": {
   "codemirror_mode": {
    "name": "ipython",
    "version": 3
   },
   "file_extension": ".py",
   "mimetype": "text/x-python",
   "name": "python",
   "nbconvert_exporter": "python",
   "pygments_lexer": "ipython3",
   "version": "3.7.1"
  }
 },
 "nbformat": 4,
 "nbformat_minor": 2
}
