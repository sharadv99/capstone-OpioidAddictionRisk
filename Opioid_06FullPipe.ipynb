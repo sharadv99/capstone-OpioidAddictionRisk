{
 "cells": [
  {
   "cell_type": "markdown",
   "metadata": {},
   "source": [
    "# Opioid Addiction Project\n",
    "## Notebook 06: Full Pipeline\n",
    "\n",
    "This notebook is intended to simulate the full pipeline using .py modules, starting with submitting a user's input, preprocessing that input, then running it through prediction tasks, resulting in the final output of the user's prediction scores.\n",
    "\n",
    "### W210, Capstone\n",
    "Summer 2019\n",
    "\n",
    "Team:  Cameron Kennedy, Aditi Khullar, Rachel Kramer, Sharad Varadarajan"
   ]
  },
  {
   "cell_type": "markdown",
   "metadata": {},
   "source": [
    "# 0. Load Libraries and Set Global Variables\n",
    "This analysis is performed in the cells below."
   ]
  },
  {
   "cell_type": "code",
   "execution_count": 1,
   "metadata": {},
   "outputs": [
    {
     "name": "stdout",
     "output_type": "stream",
     "text": [
      "Pandas Version 0.24.1\n"
     ]
    },
    {
     "name": "stderr",
     "output_type": "stream",
     "text": [
      "C:\\Users\\camke\\Anaconda3\\lib\\site-packages\\sklearn\\externals\\joblib\\__init__.py:15: DeprecationWarning: sklearn.externals.joblib is deprecated in 0.21 and will be removed in 0.23. Please import this functionality directly from joblib, which can be installed with: pip install joblib. If this warning is raised when loading pickled models, you may need to re-serialize those models with scikit-learn 0.21+.\n",
      "  warnings.warn(msg, category=DeprecationWarning)\n"
     ]
    }
   ],
   "source": [
    "#Import Required Libraries\n",
    "import pandas as pd\n",
    "import numpy as np\n",
    "from sklearn.externals import joblib  #Used to save/load (pickle) models\n",
    "from collections import defaultdict\n",
    "import operator\n",
    "from scipy import stats\n",
    "\n",
    "#Custom data prep function used in both training and prediction \n",
    "import OpioidDataPrep as odp\n",
    "import OpioidExecution as oe\n",
    "\n",
    "#Set initial parameter(s)\n",
    "pd.set_option('display.max_rows', 200)\n",
    "pd.options.display.max_columns = 150\n",
    "dataDir = './data/'\n",
    "\n",
    "print('Pandas Version', pd.__version__)"
   ]
  },
  {
   "cell_type": "markdown",
   "metadata": {},
   "source": [
    "# 1. Simulate User Data\n",
    "\n",
    "This section simulates the user entering various responses to questions. In the actual web tool, this input will come in the form of a dictionary, therefore this data should mimic that format."
   ]
  },
  {
   "cell_type": "code",
   "execution_count": null,
   "metadata": {},
   "outputs": [],
   "source": [
    "#Simulate User Input\n",
    "\n",
    "inputDict = dict()\n",
    "\n",
    "'''\n",
    "[{'NAME': 'sharad', 'AGE2': 27, 'IRSEX': 1, 'IREDUHIGHST2': 11}, {'IRALCAGE': 13, 'IRALCRC': 1, 'IRALCFY': 300, \n",
    "'BNGDRKMON': 1, 'HVYDRKMON': 1}, {'TXYRRECVD2': 1, 'TXEVRRCVD2': 1}, {'IRCIGRC': 1, 'CIGDLYMO': 1, 'CIGAGE': 13, \n",
    "'PIPEVER': 1, 'IRCGRRC': 1, 'IRSMKLSSREC': 1}, {'IRMJRC': 1, 'MJYRTOT': 300, 'FUMJ18': 1, 'FUMJ21': 1}, \n",
    "{'ADDPREV': 1, 'ADDSCEV': 1}, {'BOOKED': 1}]\n",
    "'''\n",
    "\n",
    "#DEMOGRAPHICS\n",
    "inputDict['NAME'] = 'Joe Capstone' #We will delete this column\n",
    "inputDict['IRSEX'] = 1 #Gender: 'Male' or 'Female'\n",
    "inputDict['EDUHIGHCAT'] = 1 #Education:\n",
    "inputDict['AGE2'] = 10 #Age: Remember, don't enter an age, but an age code from the codebook\n",
    "    \n",
    "#ALCOHOL\n",
    "inputDict['IRALCRC'] = 9 #(Alcohol Recency)\n",
    "inputDict['IRALCFY'] = 30 #(Alcohol Frequency Past Year)\n",
    "inputDict['CABINGEVR'] = 2 #(Ever binge drank)\n",
    "inputDict['IRALCAGE'] = 21 #(First time used alcohol)\n",
    "\n",
    "#DRUGS + ALCOHOL\n",
    "inputDict['TXYRRECVD2'] = 0 #(Ever alcohol/drug treatment, past yr)\n",
    "inputDict['TXEVRRCVD2'] = 1 #(Ever alcohol/drug treatment, lifetime)\n",
    "\n",
    "\n",
    "#TOBACCO\n",
    "inputDict['IRCIGRC'] = 1 #(Tobacco Recency, incl. Never)\n",
    "inputDict['CIGDLYMO'] = 1 #(Tobacco 30+ consecutive days)\n",
    "inputDict['CIGAGE'] = 13 #(Tobacco Use Daily)\n",
    "inputDict['TOBYR'] = 1 #(Used any tobacco product in past year, cigar, cigarette, etc.)\n",
    "inputDict['FUCIG18'] = 1 #(Used cigarettes before 18)\n",
    "    \n",
    "#WEED\n",
    "inputDict['IRMJRC'] = 1 #(Weed recency)\n",
    "inputDict['IRMJFY'] = 2 #(Weed days in past year)\n",
    "inputDict['FUMJ18'] = 1 #(First used weed prior to age 18)\n",
    "\n",
    "#HARD DRUGS\n",
    "inputDict['IRCOCRC'] = 9 #(Cocaine Recency)\n",
    "inputDict['IRCRKRC'] = 9 #(Crack Recency)\n",
    "inputDict['IRHERRC'] = 1 #(Heronie Recency)\n",
    "inputDict['IRHALLUCREC'] = 9 #(Hallucinogen Recency)\n",
    "inputDict['IRLSDRC'] = 9 #(LSD Recency)\n",
    "inputDict['IRECSTMOREC'] = 9 #(Ecstacy Recency)\n",
    "inputDict['IRINHALREC'] = 9 #(Inhalant Recency)\n",
    "inputDict['IRMETHAMREC'] = 9 #(Meth Recency)\n",
    "\n",
    "#DEPRESSION\n",
    "inputDict['ADDPREV'] = 1 #(Several days of depression)\n",
    "inputDict['ADDSCEV'] = 1 #(Several days of discouraged about life)\n",
    "    \n",
    "##OTHER\n",
    "inputDict['BOOKED'] = 1 #(Ever arrested & booked)\n",
    "\n",
    "print(inputDict)\n",
    "\n",
    "#Convert to dataframe"
   ]
  },
  {
   "cell_type": "markdown",
   "metadata": {},
   "source": [
    "# 1.b Web App Test"
   ]
  },
  {
   "cell_type": "code",
   "execution_count": null,
   "metadata": {},
   "outputs": [],
   "source": [
    "#Web App Test\n",
    "runWebAppTest = True\n",
    "predFI = None\n",
    "if runWebAppTest:\n",
    "    predProb, predPercentile, predFI = oe.generateReport(inputDict)  #This one line \"does all the work\"\n",
    "    print('Predicted Probability: {:.3%}'.format(predProb))\n",
    "    print('Percentile of Predicted Probability: {:.3%}'.format(predPercentile))\n",
    "    print('Feature Importance (sorted low to high):')\n",
    "predFI"
   ]
  },
  {
   "cell_type": "markdown",
   "metadata": {},
   "source": [
    "# 2. Preprocess"
   ]
  },
  {
   "cell_type": "code",
   "execution_count": null,
   "metadata": {},
   "outputs": [],
   "source": [
    "#Convert inputs to list (pandas conversion to dataframe requires dict values to be lists)\n",
    "if not runWebAppTest: \n",
    "    '''If we run our web app test, these next two lines already run in that and thus\n",
    "    can't be run here (they'll double-list the dictionary)\n",
    "    '''\n",
    "    for k in inputDict:\n",
    "        inputDict[k] = [inputDict[k]]\n",
    "print(inputDict)\n",
    "\n",
    "#Convert dict to dataframe\n",
    "df = pd.DataFrame.from_dict(inputDict)\n",
    "\n",
    "#Run preprocessing on dataframe\n",
    "df = odp.preprocess(df)\n",
    "df"
   ]
  },
  {
   "cell_type": "code",
   "execution_count": null,
   "metadata": {},
   "outputs": [],
   "source": [
    "#Resort by column name (necessary to feed the model)\n",
    "df = odp.sortDFbyColName(df)\n",
    "df"
   ]
  },
  {
   "cell_type": "code",
   "execution_count": null,
   "metadata": {},
   "outputs": [],
   "source": [
    "#Convert to numpy\n",
    "inputArr = df.values\n",
    "inputArr"
   ]
  },
  {
   "cell_type": "code",
   "execution_count": null,
   "metadata": {},
   "outputs": [],
   "source": []
  },
  {
   "cell_type": "markdown",
   "metadata": {},
   "source": [
    "# 3. Generate Predicitons"
   ]
  },
  {
   "cell_type": "code",
   "execution_count": null,
   "metadata": {
    "scrolled": true
   },
   "outputs": [],
   "source": [
    "#Load Models\n",
    "#\n",
    "model = joblib.load(dataDir+'calibLR.model')\n",
    "explainer = joblib.load(dataDir+'modelLRCal.explainer')\n",
    "probs = np.load(dataDir+'modelLRCalPredProbs.npy')\n",
    "\n",
    "#XGB\n",
    "# model = joblib.load(dataDir+'modelXGB.model')\n",
    "# explainer = joblib.load(dataDir+'modelXGB.explainer')\n",
    "# probs = np.load(dataDir+'modelXGBPredProbs.npy')\n",
    "\n",
    "#Load feature names (column names)\n",
    "colNamesList = joblib.load(dataDir+'colNamesList.zip')\n",
    "colNamesList"
   ]
  },
  {
   "cell_type": "code",
   "execution_count": null,
   "metadata": {},
   "outputs": [],
   "source": [
    "#Calculate Prediciton\n",
    "predM = model.predict_proba(inputArr)[0][1]\n",
    "print('Predicted Probability: {:.3%}'.format(predM))\n",
    "\n",
    "#Calculate Percentile\n",
    "pct = stats.percentileofscore(probs, predM)/100\n",
    "print('Percentile of Predicted Probability: {:.3%}'.format(pct))\n",
    "print(inputArr)\n",
    "#Generate shapley values from this row\n",
    "shapVal = explainer.shap_values(inputArr)\n",
    "\n",
    "#Aggregate shapley values for one-hot vectors\n",
    "shapDict = defaultdict(list) #Handy: creates blank list if key doesn't exist, or appends to it if it does.\n",
    "\n",
    "#Get everything before the '_' character of each column name\n",
    "#Then create the column index numbers for those keys \n",
    "#These numbers correspond to the locations in the shapley output array\n",
    "for i, colName in enumerate(colNamesList):\n",
    "    shapDict[colName.split('_')[0]].append(i)\n",
    "    \n",
    "#Make a list of aggregated values shapley\n",
    "for k in shapDict: #Loop through every key in the dict\n",
    "    shapSum = 0.0 #Reset to 0\n",
    "    for index in shapDict[k]: #Loop through every item in the key's value (a list of column indexes)\n",
    "        shapSum += shapVal[1][0][index] #Add the value for each item\n",
    "        #print('index',index,' | k', k, ' | shapVal[1][0][index]', shapVal[1][0][index])\n",
    "    shapDict[k] = shapSum #Replace the list with the aggregated shapley value (the sum of each individual value)\n",
    "    #print('NEXT k')\n",
    "\n",
    "sortedShapDict = dict(sorted(shapDict.items(), key=operator.itemgetter(1)))\n",
    "print('Feature Importance (sorted low to high):')\n",
    "sortedShapDict"
   ]
  },
  {
   "cell_type": "code",
   "execution_count": null,
   "metadata": {},
   "outputs": [],
   "source": []
  }
 ],
 "metadata": {
  "kernelspec": {
   "display_name": "Python 3",
   "language": "python",
   "name": "python3"
  },
  "language_info": {
   "codemirror_mode": {
    "name": "ipython",
    "version": 3
   },
   "file_extension": ".py",
   "mimetype": "text/x-python",
   "name": "python",
   "nbconvert_exporter": "python",
   "pygments_lexer": "ipython3",
   "version": "3.7.1"
  }
 },
 "nbformat": 4,
 "nbformat_minor": 2
}
