{
 "cells": [
  {
   "cell_type": "markdown",
   "metadata": {},
   "source": [
    "# Opioid Addiction Project\n",
    "## Notebook 07: Testing\n",
    "\n",
    "This notebook tests the execution code with multiple inputs, looking for areas where the code either technically fails (won't run at all) or practically fails (produces nonsensical outputs).\n",
    "\n",
    "### W210, Capstone\n",
    "Summer 2019\n",
    "\n",
    "Team:  Cameron Kennedy, Aditi Khullar, Rachel Kramer, Sharad Varadarajan"
   ]
  },
  {
   "cell_type": "markdown",
   "metadata": {},
   "source": [
    "# 0. Load Libraries and Set Global Variables\n",
    "This analysis is performed in the cells below."
   ]
  },
  {
   "cell_type": "code",
   "execution_count": 8,
   "metadata": {},
   "outputs": [
    {
     "name": "stdout",
     "output_type": "stream",
     "text": [
      "Pandas Version 0.24.1\n"
     ]
    }
   ],
   "source": [
    "#Import Required Libraries\n",
    "import pandas as pd\n",
    "import random\n",
    "# import numpy as np\n",
    "# from sklearn.externals import joblib  #Used to save/load (pickle) models\n",
    "# from collections import defaultdict\n",
    "# import operator\n",
    "# from scipy import stats\n",
    "\n",
    "#Custom data prep function used in both training and prediction \n",
    "import OpioidDataPrep as odp\n",
    "import OpioidExecution as oe\n",
    "\n",
    "#Set initial parameter(s)\n",
    "pd.set_option('display.max_rows', 200)\n",
    "pd.options.display.max_columns = 150\n",
    "dataDir = './data/'\n",
    "\n",
    "print('Pandas Version', pd.__version__)"
   ]
  },
  {
   "cell_type": "markdown",
   "metadata": {},
   "source": [
    "# 1. Generate Multiple Input Scenarios\n",
    "\n",
    "## 1.1 Toy Example of Dictionary Parsing\n",
    "\n",
    "Here we build a tiny example of looping through every option of dictionary values for multiple keys, while choosing random values for other keys."
   ]
  },
  {
   "cell_type": "code",
   "execution_count": 23,
   "metadata": {},
   "outputs": [
    {
     "data": {
      "text/plain": [
       "{'A': [1, 2, 3, 4, 5], 'B': ['a', 'b', 'c'], 'C': [6, 7, 8, 9, 10]}"
      ]
     },
     "execution_count": 23,
     "metadata": {},
     "output_type": "execute_result"
    }
   ],
   "source": [
    "#Build a test dictionary\n",
    "testDict = {'A':[1,2,3,4,5],\n",
    "            'B':['a','b','c'],\n",
    "            'C':[6,7,8,9,10]\n",
    "           }\n",
    "testDict"
   ]
  },
  {
   "cell_type": "code",
   "execution_count": 70,
   "metadata": {},
   "outputs": [
    {
     "name": "stdout",
     "output_type": "stream",
     "text": [
      "A 1  | {'A': 1, 'B': 'c', 'C': 7}\n",
      "A 2  | {'A': 2, 'B': 'b', 'C': 10}\n",
      "A 3  | {'A': 3, 'B': 'c', 'C': 7}\n",
      "A 4  | {'A': 4, 'B': 'b', 'C': 10}\n",
      "A 5  | {'A': 5, 'B': 'a', 'C': 7}\n",
      "B a  | {'A': 4, 'B': 'a', 'C': 6}\n",
      "B b  | {'A': 4, 'B': 'b', 'C': 9}\n",
      "B c  | {'A': 2, 'B': 'c', 'C': 10}\n",
      "C 6  | {'A': 5, 'B': 'b', 'C': 6}\n",
      "C 7  | {'A': 4, 'B': 'c', 'C': 7}\n",
      "C 8  | {'A': 1, 'B': 'c', 'C': 8}\n",
      "C 9  | {'A': 4, 'B': 'a', 'C': 9}\n",
      "C 10  | {'A': 4, 'B': 'c', 'C': 10}\n"
     ]
    }
   ],
   "source": [
    "'''Loop through test dict, select each value once, \n",
    "while picking random values for non selected keys.\n",
    "'''\n",
    "inputDict = dict()\n",
    "\n",
    "for k in testDict:\n",
    "    for item in testDict[k]:\n",
    "        print(k, item, ' | ', end='')\n",
    "        \n",
    "        for k2 in testDict:\n",
    "            if k2 == k:  #Intentionally pick the item in the loop\n",
    "                inputDict[k2] = item\n",
    "            else:  #Pick a random item\n",
    "                inputDict[k2] = random.choice(testDict[k2])\n",
    "                \n",
    "        print(inputDict)"
   ]
  },
  {
   "cell_type": "markdown",
   "metadata": {},
   "source": [
    "## 1.2 Apply Toy Example to Dictionary of Possible Values"
   ]
  },
  {
   "cell_type": "code",
   "execution_count": 72,
   "metadata": {},
   "outputs": [
    {
     "data": {
      "text/plain": [
       "{'NAME': ['Test Scripter'],\n",
       " 'IRSEX': [1, 2],\n",
       " 'EDUHIGHCAT': [1, 2, 3, 4, 5],\n",
       " 'AGE2': [1, 2, 3, 4, 5, 6, 7, 8, 9, 10, 11, 12, 13, 14, 15, 16, 17],\n",
       " 'IRALCRC': [1, 2, 3, 9],\n",
       " 'IRALCFY': [991, 993, 1, 12, 50, 100, 300],\n",
       " 'CABINGEVR': [991, 2, 1],\n",
       " 'IRALCAGE': [991, 14, 17, 20, 21, 100],\n",
       " 'TXYRRECVD2': [0, 1],\n",
       " 'TXEVRRCVD2': [0, 1],\n",
       " 'IRCIGRC': [9, 1, 2, 3, 4],\n",
       " 'CIGDLYMO': [91, 2, 1],\n",
       " 'CIGAGE': [991, 994, 999, 10, 13, 15, 17, 18, 19, 20, 22, 25, 30, 40, 50, 99],\n",
       " 'TOBYR': [0, 1],\n",
       " 'FUCIG18': [2, 1],\n",
       " 'IRMJRC': [9, 1, 2, 3],\n",
       " 'IRMJFY': [991, 993, 1, 2, 3, 7, 10, 20, 30, 40, 50, 100, 200, 300, 365],\n",
       " 'FUMJ18': [2, 1],\n",
       " 'IRCOCRC': [9, 1, 2, 3],\n",
       " 'IRCRKRC': [9, 1, 2, 3],\n",
       " 'IRHERRC': [9, 1, 2, 3],\n",
       " 'IRHALLUCREC': [9, 1, 2, 3],\n",
       " 'IRLSDRC': [9, 1, 2, 3],\n",
       " 'IRECSTMOREC': [9, 1, 2, 3],\n",
       " 'IRINHALREC': [9, 1, 2, 3],\n",
       " 'IRMETHAMREC': [9, 1, 2, 3],\n",
       " 'ADDPREV': [1, 2, 94],\n",
       " 'ADDSCEV': [1, 2, 94],\n",
       " 'BOOKED': [1, 2, 94, 97]}"
      ]
     },
     "execution_count": 72,
     "metadata": {},
     "output_type": "execute_result"
    }
   ],
   "source": [
    "#Create dictionary of possible values\n",
    "allChoicesDict = {'NAME':['Test Scripter'],\n",
    "                  'IRSEX':[1,2],\n",
    "                  'EDUHIGHCAT':[1,2,3,4,5],\n",
    "                  'AGE2':[1,2,3,4,5,6,7,8,9,10,11,12,13,14,15,16,17],\n",
    "                  'IRALCRC':[1,2,3,9],\n",
    "                  'IRALCFY':[991,993,1,12,50,100,300],\n",
    "                  'CABINGEVR':[991,2,1],\n",
    "                  'IRALCAGE':[991,14,17,20,21,100],\n",
    "                  'TXYRRECVD2':[0,1],\n",
    "                  'TXEVRRCVD2':[0,1],\n",
    "                  'IRCIGRC':[9,1,2,3,4],\n",
    "                  'CIGDLYMO':[91,2,1],\n",
    "                  'CIGAGE':[991,994,999,10,13,15,17,18,19,20,22,25,30,40,50,99],\n",
    "                  'TOBYR':[0,1],\n",
    "                  'FUCIG18':[2,1],\n",
    "                  'IRMJRC':[9,1,2,3],\n",
    "                  'IRMJFY':[991,993,1,2,3,7,10,20,30,40,50,100,200,300,365],\n",
    "                  'FUMJ18':[2,1],\n",
    "                  'IRCOCRC':[9,1,2,3],\n",
    "                  'IRCRKRC':[9,1,2,3],\n",
    "                  'IRHERRC':[9,1,2,3],\n",
    "                  'IRHALLUCREC':[9,1,2,3],\n",
    "                  'IRLSDRC':[9,1,2,3],\n",
    "                  'IRECSTMOREC':[9,1,2,3],\n",
    "                  'IRINHALREC':[9,1,2,3],\n",
    "                  'IRMETHAMREC':[9,1,2,3],\n",
    "                  'ADDPREV':[1,2,94],\n",
    "                  'ADDSCEV':[1,2,94],\n",
    "                  'BOOKED':[1,2,94,97],\n",
    "                 }\n",
    "\n",
    "allChoicesDict"
   ]
  },
  {
   "cell_type": "code",
   "execution_count": 76,
   "metadata": {},
   "outputs": [
    {
     "name": "stdout",
     "output_type": "stream",
     "text": [
      "NAME Test Scripter  | {'NAME': 'Test Scripter', 'IRSEX': 1, 'EDUHIGHCAT': 1, 'AGE2': 2, 'IRALCRC': 1, 'IRALCFY': 50, 'CABINGEVR': 2, 'IRALCAGE': 21, 'TXYRRECVD2': 0, 'TXEVRRCVD2': 0, 'IRCIGRC': 1, 'CIGDLYMO': 91, 'CIGAGE': 18, 'TOBYR': 0, 'FUCIG18': 1, 'IRMJRC': 2, 'IRMJFY': 30, 'FUMJ18': 1, 'IRCOCRC': 1, 'IRCRKRC': 1, 'IRHERRC': 2, 'IRHALLUCREC': 1, 'IRLSDRC': 2, 'IRECSTMOREC': 1, 'IRINHALREC': 1, 'IRMETHAMREC': 2, 'ADDPREV': 94, 'ADDSCEV': 2, 'BOOKED': 2} \n",
      "\n",
      "IRSEX 1  | {'NAME': 'Test Scripter', 'IRSEX': 1, 'EDUHIGHCAT': 2, 'AGE2': 6, 'IRALCRC': 2, 'IRALCFY': 50, 'CABINGEVR': 1, 'IRALCAGE': 14, 'TXYRRECVD2': 0, 'TXEVRRCVD2': 1, 'IRCIGRC': 1, 'CIGDLYMO': 1, 'CIGAGE': 994, 'TOBYR': 1, 'FUCIG18': 2, 'IRMJRC': 3, 'IRMJFY': 30, 'FUMJ18': 1, 'IRCOCRC': 3, 'IRCRKRC': 1, 'IRHERRC': 2, 'IRHALLUCREC': 3, 'IRLSDRC': 1, 'IRECSTMOREC': 1, 'IRINHALREC': 2, 'IRMETHAMREC': 1, 'ADDPREV': 94, 'ADDSCEV': 94, 'BOOKED': 97} \n",
      "\n",
      "IRSEX 2  | {'NAME': 'Test Scripter', 'IRSEX': 2, 'EDUHIGHCAT': 2, 'AGE2': 4, 'IRALCRC': 3, 'IRALCFY': 12, 'CABINGEVR': 2, 'IRALCAGE': 991, 'TXYRRECVD2': 0, 'TXEVRRCVD2': 1, 'IRCIGRC': 3, 'CIGDLYMO': 1, 'CIGAGE': 50, 'TOBYR': 1, 'FUCIG18': 2, 'IRMJRC': 1, 'IRMJFY': 7, 'FUMJ18': 1, 'IRCOCRC': 9, 'IRCRKRC': 9, 'IRHERRC': 2, 'IRHALLUCREC': 1, 'IRLSDRC': 3, 'IRECSTMOREC': 1, 'IRINHALREC': 9, 'IRMETHAMREC': 2, 'ADDPREV': 94, 'ADDSCEV': 94, 'BOOKED': 94} \n",
      "\n",
      "EDUHIGHCAT 1  | {'NAME': 'Test Scripter', 'IRSEX': 2, 'EDUHIGHCAT': 1, 'AGE2': 3, 'IRALCRC': 2, 'IRALCFY': 1, 'CABINGEVR': 991, 'IRALCAGE': 100, 'TXYRRECVD2': 1, 'TXEVRRCVD2': 0, 'IRCIGRC': 3, 'CIGDLYMO': 2, 'CIGAGE': 991, 'TOBYR': 0, 'FUCIG18': 1, 'IRMJRC': 2, 'IRMJFY': 365, 'FUMJ18': 1, 'IRCOCRC': 9, 'IRCRKRC': 9, 'IRHERRC': 1, 'IRHALLUCREC': 1, 'IRLSDRC': 3, 'IRECSTMOREC': 3, 'IRINHALREC': 9, 'IRMETHAMREC': 2, 'ADDPREV': 1, 'ADDSCEV': 94, 'BOOKED': 1} \n",
      "\n",
      "EDUHIGHCAT 2  | {'NAME': 'Test Scripter', 'IRSEX': 2, 'EDUHIGHCAT': 2, 'AGE2': 10, 'IRALCRC': 1, 'IRALCFY': 50, 'CABINGEVR': 2, 'IRALCAGE': 991, 'TXYRRECVD2': 0, 'TXEVRRCVD2': 1, 'IRCIGRC': 4, 'CIGDLYMO': 2, 'CIGAGE': 13, 'TOBYR': 1, 'FUCIG18': 1, 'IRMJRC': 9, 'IRMJFY': 365, 'FUMJ18': 2, 'IRCOCRC': 1, 'IRCRKRC': 3, 'IRHERRC': 1, 'IRHALLUCREC': 1, 'IRLSDRC': 9, 'IRECSTMOREC': 3, 'IRINHALREC': 1, 'IRMETHAMREC': 1, 'ADDPREV': 2, 'ADDSCEV': 2, 'BOOKED': 94} \n",
      "\n",
      "EDUHIGHCAT 3  | {'NAME': 'Test Scripter', 'IRSEX': 1, 'EDUHIGHCAT': 3, 'AGE2': 3, 'IRALCRC': 9, 'IRALCFY': 300, 'CABINGEVR': 991, 'IRALCAGE': 991, 'TXYRRECVD2': 1, 'TXEVRRCVD2': 0, 'IRCIGRC': 4, 'CIGDLYMO': 91, 'CIGAGE': 994, 'TOBYR': 0, 'FUCIG18': 2, 'IRMJRC': 2, 'IRMJFY': 7, 'FUMJ18': 1, 'IRCOCRC': 2, 'IRCRKRC': 2, 'IRHERRC': 9, 'IRHALLUCREC': 9, 'IRLSDRC': 9, 'IRECSTMOREC': 1, 'IRINHALREC': 9, 'IRMETHAMREC': 2, 'ADDPREV': 94, 'ADDSCEV': 1, 'BOOKED': 2} \n",
      "\n",
      "EDUHIGHCAT 4  | {'NAME': 'Test Scripter', 'IRSEX': 1, 'EDUHIGHCAT': 4, 'AGE2': 12, 'IRALCRC': 9, 'IRALCFY': 993, 'CABINGEVR': 1, 'IRALCAGE': 20, 'TXYRRECVD2': 0, 'TXEVRRCVD2': 0, 'IRCIGRC': 2, 'CIGDLYMO': 2, 'CIGAGE': 50, 'TOBYR': 1, 'FUCIG18': 1, 'IRMJRC': 1, 'IRMJFY': 1, 'FUMJ18': 2, 'IRCOCRC': 9, 'IRCRKRC': 1, 'IRHERRC': 1, 'IRHALLUCREC': 1, 'IRLSDRC': 1, 'IRECSTMOREC': 9, 'IRINHALREC': 9, 'IRMETHAMREC': 9, 'ADDPREV': 1, 'ADDSCEV': 1, 'BOOKED': 2} \n",
      "\n",
      "EDUHIGHCAT 5  | {'NAME': 'Test Scripter', 'IRSEX': 2, 'EDUHIGHCAT': 5, 'AGE2': 11, 'IRALCRC': 9, 'IRALCFY': 300, 'CABINGEVR': 2, 'IRALCAGE': 20, 'TXYRRECVD2': 1, 'TXEVRRCVD2': 0, 'IRCIGRC': 2, 'CIGDLYMO': 2, 'CIGAGE': 17, 'TOBYR': 1, 'FUCIG18': 1, 'IRMJRC': 2, 'IRMJFY': 2, 'FUMJ18': 2, 'IRCOCRC': 2, 'IRCRKRC': 3, 'IRHERRC': 9, 'IRHALLUCREC': 9, 'IRLSDRC': 2, 'IRECSTMOREC': 9, 'IRINHALREC': 2, 'IRMETHAMREC': 3, 'ADDPREV': 2, 'ADDSCEV': 2, 'BOOKED': 2} \n",
      "\n",
      "AGE2 1  | {'NAME': 'Test Scripter', 'IRSEX': 2, 'EDUHIGHCAT': 5, 'AGE2': 1, 'IRALCRC': 1, 'IRALCFY': 991, 'CABINGEVR': 991, 'IRALCAGE': 14, 'TXYRRECVD2': 0, 'TXEVRRCVD2': 0, 'IRCIGRC': 1, 'CIGDLYMO': 91, 'CIGAGE': 30, 'TOBYR': 0, 'FUCIG18': 1, 'IRMJRC': 2, 'IRMJFY': 200, 'FUMJ18': 1, 'IRCOCRC': 2, 'IRCRKRC': 3, 'IRHERRC': 9, 'IRHALLUCREC': 2, 'IRLSDRC': 3, 'IRECSTMOREC': 1, 'IRINHALREC': 9, 'IRMETHAMREC': 9, 'ADDPREV': 2, 'ADDSCEV': 2, 'BOOKED': 94} \n",
      "\n",
      "AGE2 2  | {'NAME': 'Test Scripter', 'IRSEX': 2, 'EDUHIGHCAT': 2, 'AGE2': 2, 'IRALCRC': 2, 'IRALCFY': 12, 'CABINGEVR': 991, 'IRALCAGE': 17, 'TXYRRECVD2': 0, 'TXEVRRCVD2': 0, 'IRCIGRC': 3, 'CIGDLYMO': 1, 'CIGAGE': 22, 'TOBYR': 1, 'FUCIG18': 2, 'IRMJRC': 2, 'IRMJFY': 300, 'FUMJ18': 1, 'IRCOCRC': 9, 'IRCRKRC': 3, 'IRHERRC': 1, 'IRHALLUCREC': 2, 'IRLSDRC': 3, 'IRECSTMOREC': 9, 'IRINHALREC': 9, 'IRMETHAMREC': 9, 'ADDPREV': 94, 'ADDSCEV': 2, 'BOOKED': 97} \n",
      "\n",
      "AGE2 3  | {'NAME': 'Test Scripter', 'IRSEX': 1, 'EDUHIGHCAT': 2, 'AGE2': 3, 'IRALCRC': 1, 'IRALCFY': 300, 'CABINGEVR': 2, 'IRALCAGE': 20, 'TXYRRECVD2': 1, 'TXEVRRCVD2': 1, 'IRCIGRC': 4, 'CIGDLYMO': 91, 'CIGAGE': 15, 'TOBYR': 1, 'FUCIG18': 2, 'IRMJRC': 9, 'IRMJFY': 1, 'FUMJ18': 2, 'IRCOCRC': 9, 'IRCRKRC': 9, 'IRHERRC': 1, 'IRHALLUCREC': 9, 'IRLSDRC': 3, 'IRECSTMOREC': 2, 'IRINHALREC': 9, 'IRMETHAMREC': 1, 'ADDPREV': 1, 'ADDSCEV': 1, 'BOOKED': 2} \n",
      "\n",
      "AGE2 4  | {'NAME': 'Test Scripter', 'IRSEX': 2, 'EDUHIGHCAT': 3, 'AGE2': 4, 'IRALCRC': 3, 'IRALCFY': 993, 'CABINGEVR': 991, 'IRALCAGE': 100, 'TXYRRECVD2': 0, 'TXEVRRCVD2': 1, 'IRCIGRC': 2, 'CIGDLYMO': 91, 'CIGAGE': 50, 'TOBYR': 1, 'FUCIG18': 1, 'IRMJRC': 3, 'IRMJFY': 991, 'FUMJ18': 1, 'IRCOCRC': 1, 'IRCRKRC': 1, 'IRHERRC': 1, 'IRHALLUCREC': 2, 'IRLSDRC': 3, 'IRECSTMOREC': 1, 'IRINHALREC': 1, 'IRMETHAMREC': 1, 'ADDPREV': 2, 'ADDSCEV': 94, 'BOOKED': 94} \n",
      "\n",
      "AGE2 5  | {'NAME': 'Test Scripter', 'IRSEX': 2, 'EDUHIGHCAT': 5, 'AGE2': 5, 'IRALCRC': 9, 'IRALCFY': 1, 'CABINGEVR': 2, 'IRALCAGE': 21, 'TXYRRECVD2': 1, 'TXEVRRCVD2': 0, 'IRCIGRC': 2, 'CIGDLYMO': 1, 'CIGAGE': 22, 'TOBYR': 0, 'FUCIG18': 2, 'IRMJRC': 2, 'IRMJFY': 3, 'FUMJ18': 1, 'IRCOCRC': 3, 'IRCRKRC': 1, 'IRHERRC': 1, 'IRHALLUCREC': 1, 'IRLSDRC': 2, 'IRECSTMOREC': 9, 'IRINHALREC': 3, 'IRMETHAMREC': 3, 'ADDPREV': 2, 'ADDSCEV': 1, 'BOOKED': 2} \n",
      "\n",
      "AGE2 6  | {'NAME': 'Test Scripter', 'IRSEX': 1, 'EDUHIGHCAT': 1, 'AGE2': 6, 'IRALCRC': 2, 'IRALCFY': 993, 'CABINGEVR': 2, 'IRALCAGE': 17, 'TXYRRECVD2': 0, 'TXEVRRCVD2': 0, 'IRCIGRC': 1, 'CIGDLYMO': 2, 'CIGAGE': 40, 'TOBYR': 1, 'FUCIG18': 2, 'IRMJRC': 1, 'IRMJFY': 3, 'FUMJ18': 2, 'IRCOCRC': 3, 'IRCRKRC': 1, 'IRHERRC': 3, 'IRHALLUCREC': 9, 'IRLSDRC': 9, 'IRECSTMOREC': 9, 'IRINHALREC': 3, 'IRMETHAMREC': 9, 'ADDPREV': 1, 'ADDSCEV': 94, 'BOOKED': 2} \n",
      "\n",
      "AGE2 7  | {'NAME': 'Test Scripter', 'IRSEX': 2, 'EDUHIGHCAT': 1, 'AGE2': 7, 'IRALCRC': 3, 'IRALCFY': 100, 'CABINGEVR': 991, 'IRALCAGE': 21, 'TXYRRECVD2': 1, 'TXEVRRCVD2': 1, 'IRCIGRC': 2, 'CIGDLYMO': 1, 'CIGAGE': 40, 'TOBYR': 1, 'FUCIG18': 1, 'IRMJRC': 9, 'IRMJFY': 50, 'FUMJ18': 2, 'IRCOCRC': 1, 'IRCRKRC': 9, 'IRHERRC': 3, 'IRHALLUCREC': 1, 'IRLSDRC': 1, 'IRECSTMOREC': 2, 'IRINHALREC': 3, 'IRMETHAMREC': 2, 'ADDPREV': 1, 'ADDSCEV': 2, 'BOOKED': 94} \n",
      "\n",
      "AGE2 8  | {'NAME': 'Test Scripter', 'IRSEX': 1, 'EDUHIGHCAT': 2, 'AGE2': 8, 'IRALCRC': 3, 'IRALCFY': 50, 'CABINGEVR': 1, 'IRALCAGE': 100, 'TXYRRECVD2': 1, 'TXEVRRCVD2': 1, 'IRCIGRC': 4, 'CIGDLYMO': 2, 'CIGAGE': 18, 'TOBYR': 1, 'FUCIG18': 2, 'IRMJRC': 1, 'IRMJFY': 20, 'FUMJ18': 1, 'IRCOCRC': 3, 'IRCRKRC': 3, 'IRHERRC': 2, 'IRHALLUCREC': 3, 'IRLSDRC': 1, 'IRECSTMOREC': 9, 'IRINHALREC': 3, 'IRMETHAMREC': 9, 'ADDPREV': 2, 'ADDSCEV': 1, 'BOOKED': 1} \n",
      "\n",
      "AGE2 9  | {'NAME': 'Test Scripter', 'IRSEX': 1, 'EDUHIGHCAT': 3, 'AGE2': 9, 'IRALCRC': 3, 'IRALCFY': 1, 'CABINGEVR': 1, 'IRALCAGE': 100, 'TXYRRECVD2': 0, 'TXEVRRCVD2': 0, 'IRCIGRC': 4, 'CIGDLYMO': 91, 'CIGAGE': 18, 'TOBYR': 0, 'FUCIG18': 2, 'IRMJRC': 9, 'IRMJFY': 100, 'FUMJ18': 2, 'IRCOCRC': 2, 'IRCRKRC': 9, 'IRHERRC': 1, 'IRHALLUCREC': 3, 'IRLSDRC': 9, 'IRECSTMOREC': 1, 'IRINHALREC': 9, 'IRMETHAMREC': 3, 'ADDPREV': 1, 'ADDSCEV': 2, 'BOOKED': 2} \n",
      "\n",
      "AGE2 10  | {'NAME': 'Test Scripter', 'IRSEX': 2, 'EDUHIGHCAT': 1, 'AGE2': 10, 'IRALCRC': 2, 'IRALCFY': 12, 'CABINGEVR': 991, 'IRALCAGE': 100, 'TXYRRECVD2': 0, 'TXEVRRCVD2': 1, 'IRCIGRC': 1, 'CIGDLYMO': 2, 'CIGAGE': 50, 'TOBYR': 0, 'FUCIG18': 1, 'IRMJRC': 9, 'IRMJFY': 993, 'FUMJ18': 2, 'IRCOCRC': 9, 'IRCRKRC': 1, 'IRHERRC': 2, 'IRHALLUCREC': 9, 'IRLSDRC': 9, 'IRECSTMOREC': 1, 'IRINHALREC': 3, 'IRMETHAMREC': 3, 'ADDPREV': 94, 'ADDSCEV': 94, 'BOOKED': 97} \n",
      "\n",
      "AGE2 11  | {'NAME': 'Test Scripter', 'IRSEX': 1, 'EDUHIGHCAT': 4, 'AGE2': 11, 'IRALCRC': 1, 'IRALCFY': 991, 'CABINGEVR': 2, 'IRALCAGE': 20, 'TXYRRECVD2': 1, 'TXEVRRCVD2': 0, 'IRCIGRC': 2, 'CIGDLYMO': 2, 'CIGAGE': 19, 'TOBYR': 0, 'FUCIG18': 1, 'IRMJRC': 9, 'IRMJFY': 2, 'FUMJ18': 1, 'IRCOCRC': 9, 'IRCRKRC': 3, 'IRHERRC': 3, 'IRHALLUCREC': 9, 'IRLSDRC': 3, 'IRECSTMOREC': 1, 'IRINHALREC': 3, 'IRMETHAMREC': 1, 'ADDPREV': 2, 'ADDSCEV': 1, 'BOOKED': 94} \n",
      "\n",
      "AGE2 12  | {'NAME': 'Test Scripter', 'IRSEX': 2, 'EDUHIGHCAT': 3, 'AGE2': 12, 'IRALCRC': 3, 'IRALCFY': 300, 'CABINGEVR': 1, 'IRALCAGE': 991, 'TXYRRECVD2': 1, 'TXEVRRCVD2': 0, 'IRCIGRC': 3, 'CIGDLYMO': 2, 'CIGAGE': 40, 'TOBYR': 0, 'FUCIG18': 2, 'IRMJRC': 9, 'IRMJFY': 365, 'FUMJ18': 1, 'IRCOCRC': 3, 'IRCRKRC': 9, 'IRHERRC': 2, 'IRHALLUCREC': 2, 'IRLSDRC': 2, 'IRECSTMOREC': 2, 'IRINHALREC': 9, 'IRMETHAMREC': 3, 'ADDPREV': 94, 'ADDSCEV': 1, 'BOOKED': 94} \n",
      "\n",
      "AGE2 13  | {'NAME': 'Test Scripter', 'IRSEX': 2, 'EDUHIGHCAT': 1, 'AGE2': 13, 'IRALCRC': 2, 'IRALCFY': 50, 'CABINGEVR': 2, 'IRALCAGE': 991, 'TXYRRECVD2': 1, 'TXEVRRCVD2': 0, 'IRCIGRC': 1, 'CIGDLYMO': 2, 'CIGAGE': 40, 'TOBYR': 0, 'FUCIG18': 2, 'IRMJRC': 2, 'IRMJFY': 50, 'FUMJ18': 1, 'IRCOCRC': 3, 'IRCRKRC': 3, 'IRHERRC': 3, 'IRHALLUCREC': 9, 'IRLSDRC': 2, 'IRECSTMOREC': 9, 'IRINHALREC': 3, 'IRMETHAMREC': 9, 'ADDPREV': 2, 'ADDSCEV': 1, 'BOOKED': 94} \n",
      "\n",
      "AGE2 14  | {'NAME': 'Test Scripter', 'IRSEX': 1, 'EDUHIGHCAT': 3, 'AGE2': 14, 'IRALCRC': 3, 'IRALCFY': 12, 'CABINGEVR': 1, 'IRALCAGE': 20, 'TXYRRECVD2': 1, 'TXEVRRCVD2': 0, 'IRCIGRC': 2, 'CIGDLYMO': 91, 'CIGAGE': 25, 'TOBYR': 0, 'FUCIG18': 2, 'IRMJRC': 2, 'IRMJFY': 3, 'FUMJ18': 2, 'IRCOCRC': 3, 'IRCRKRC': 2, 'IRHERRC': 2, 'IRHALLUCREC': 2, 'IRLSDRC': 9, 'IRECSTMOREC': 9, 'IRINHALREC': 9, 'IRMETHAMREC': 1, 'ADDPREV': 1, 'ADDSCEV': 94, 'BOOKED': 94} \n",
      "\n",
      "AGE2 15  | {'NAME': 'Test Scripter', 'IRSEX': 1, 'EDUHIGHCAT': 5, 'AGE2': 15, 'IRALCRC': 9, 'IRALCFY': 12, 'CABINGEVR': 1, 'IRALCAGE': 991, 'TXYRRECVD2': 0, 'TXEVRRCVD2': 0, 'IRCIGRC': 4, 'CIGDLYMO': 1, 'CIGAGE': 22, 'TOBYR': 0, 'FUCIG18': 1, 'IRMJRC': 9, 'IRMJFY': 200, 'FUMJ18': 2, 'IRCOCRC': 1, 'IRCRKRC': 9, 'IRHERRC': 9, 'IRHALLUCREC': 9, 'IRLSDRC': 9, 'IRECSTMOREC': 3, 'IRINHALREC': 2, 'IRMETHAMREC': 9, 'ADDPREV': 2, 'ADDSCEV': 2, 'BOOKED': 1} \n",
      "\n",
      "AGE2 16  | {'NAME': 'Test Scripter', 'IRSEX': 2, 'EDUHIGHCAT': 4, 'AGE2': 16, 'IRALCRC': 1, 'IRALCFY': 993, 'CABINGEVR': 991, 'IRALCAGE': 991, 'TXYRRECVD2': 1, 'TXEVRRCVD2': 1, 'IRCIGRC': 1, 'CIGDLYMO': 91, 'CIGAGE': 999, 'TOBYR': 1, 'FUCIG18': 2, 'IRMJRC': 3, 'IRMJFY': 300, 'FUMJ18': 1, 'IRCOCRC': 9, 'IRCRKRC': 9, 'IRHERRC': 3, 'IRHALLUCREC': 3, 'IRLSDRC': 2, 'IRECSTMOREC': 2, 'IRINHALREC': 1, 'IRMETHAMREC': 2, 'ADDPREV': 2, 'ADDSCEV': 1, 'BOOKED': 97} \n",
      "\n",
      "AGE2 17  | {'NAME': 'Test Scripter', 'IRSEX': 2, 'EDUHIGHCAT': 2, 'AGE2': 17, 'IRALCRC': 9, 'IRALCFY': 993, 'CABINGEVR': 991, 'IRALCAGE': 20, 'TXYRRECVD2': 0, 'TXEVRRCVD2': 1, 'IRCIGRC': 3, 'CIGDLYMO': 1, 'CIGAGE': 20, 'TOBYR': 0, 'FUCIG18': 2, 'IRMJRC': 2, 'IRMJFY': 3, 'FUMJ18': 2, 'IRCOCRC': 9, 'IRCRKRC': 1, 'IRHERRC': 3, 'IRHALLUCREC': 2, 'IRLSDRC': 2, 'IRECSTMOREC': 1, 'IRINHALREC': 2, 'IRMETHAMREC': 9, 'ADDPREV': 2, 'ADDSCEV': 94, 'BOOKED': 1} \n",
      "\n",
      "IRALCRC 1  | {'NAME': 'Test Scripter', 'IRSEX': 2, 'EDUHIGHCAT': 3, 'AGE2': 6, 'IRALCRC': 1, 'IRALCFY': 993, 'CABINGEVR': 991, 'IRALCAGE': 14, 'TXYRRECVD2': 0, 'TXEVRRCVD2': 0, 'IRCIGRC': 2, 'CIGDLYMO': 1, 'CIGAGE': 15, 'TOBYR': 0, 'FUCIG18': 1, 'IRMJRC': 9, 'IRMJFY': 3, 'FUMJ18': 2, 'IRCOCRC': 1, 'IRCRKRC': 9, 'IRHERRC': 3, 'IRHALLUCREC': 2, 'IRLSDRC': 1, 'IRECSTMOREC': 3, 'IRINHALREC': 3, 'IRMETHAMREC': 2, 'ADDPREV': 1, 'ADDSCEV': 94, 'BOOKED': 1} \n",
      "\n",
      "IRALCRC 2  | {'NAME': 'Test Scripter', 'IRSEX': 1, 'EDUHIGHCAT': 2, 'AGE2': 16, 'IRALCRC': 2, 'IRALCFY': 300, 'CABINGEVR': 991, 'IRALCAGE': 20, 'TXYRRECVD2': 1, 'TXEVRRCVD2': 0, 'IRCIGRC': 3, 'CIGDLYMO': 1, 'CIGAGE': 20, 'TOBYR': 1, 'FUCIG18': 2, 'IRMJRC': 9, 'IRMJFY': 1, 'FUMJ18': 2, 'IRCOCRC': 9, 'IRCRKRC': 3, 'IRHERRC': 9, 'IRHALLUCREC': 3, 'IRLSDRC': 9, 'IRECSTMOREC': 1, 'IRINHALREC': 1, 'IRMETHAMREC': 9, 'ADDPREV': 1, 'ADDSCEV': 1, 'BOOKED': 97} \n",
      "\n",
      "IRALCRC 3  | {'NAME': 'Test Scripter', 'IRSEX': 1, 'EDUHIGHCAT': 1, 'AGE2': 14, 'IRALCRC': 3, 'IRALCFY': 1, 'CABINGEVR': 991, 'IRALCAGE': 100, 'TXYRRECVD2': 0, 'TXEVRRCVD2': 0, 'IRCIGRC': 3, 'CIGDLYMO': 1, 'CIGAGE': 99, 'TOBYR': 1, 'FUCIG18': 1, 'IRMJRC': 9, 'IRMJFY': 991, 'FUMJ18': 2, 'IRCOCRC': 1, 'IRCRKRC': 1, 'IRHERRC': 2, 'IRHALLUCREC': 9, 'IRLSDRC': 3, 'IRECSTMOREC': 3, 'IRINHALREC': 2, 'IRMETHAMREC': 9, 'ADDPREV': 2, 'ADDSCEV': 2, 'BOOKED': 1} \n",
      "\n",
      "IRALCRC 9  | {'NAME': 'Test Scripter', 'IRSEX': 2, 'EDUHIGHCAT': 3, 'AGE2': 5, 'IRALCRC': 9, 'IRALCFY': 300, 'CABINGEVR': 1, 'IRALCAGE': 991, 'TXYRRECVD2': 1, 'TXEVRRCVD2': 0, 'IRCIGRC': 9, 'CIGDLYMO': 2, 'CIGAGE': 20, 'TOBYR': 0, 'FUCIG18': 2, 'IRMJRC': 9, 'IRMJFY': 7, 'FUMJ18': 1, 'IRCOCRC': 2, 'IRCRKRC': 2, 'IRHERRC': 9, 'IRHALLUCREC': 3, 'IRLSDRC': 9, 'IRECSTMOREC': 3, 'IRINHALREC': 3, 'IRMETHAMREC': 3, 'ADDPREV': 94, 'ADDSCEV': 94, 'BOOKED': 94} \n",
      "\n",
      "IRALCFY 991  | {'NAME': 'Test Scripter', 'IRSEX': 1, 'EDUHIGHCAT': 4, 'AGE2': 7, 'IRALCRC': 1, 'IRALCFY': 991, 'CABINGEVR': 2, 'IRALCAGE': 991, 'TXYRRECVD2': 0, 'TXEVRRCVD2': 1, 'IRCIGRC': 3, 'CIGDLYMO': 91, 'CIGAGE': 30, 'TOBYR': 1, 'FUCIG18': 1, 'IRMJRC': 3, 'IRMJFY': 365, 'FUMJ18': 1, 'IRCOCRC': 1, 'IRCRKRC': 3, 'IRHERRC': 3, 'IRHALLUCREC': 9, 'IRLSDRC': 3, 'IRECSTMOREC': 3, 'IRINHALREC': 9, 'IRMETHAMREC': 3, 'ADDPREV': 2, 'ADDSCEV': 94, 'BOOKED': 1} \n",
      "\n",
      "IRALCFY 993  | {'NAME': 'Test Scripter', 'IRSEX': 2, 'EDUHIGHCAT': 4, 'AGE2': 9, 'IRALCRC': 1, 'IRALCFY': 993, 'CABINGEVR': 2, 'IRALCAGE': 100, 'TXYRRECVD2': 0, 'TXEVRRCVD2': 0, 'IRCIGRC': 3, 'CIGDLYMO': 91, 'CIGAGE': 99, 'TOBYR': 1, 'FUCIG18': 2, 'IRMJRC': 9, 'IRMJFY': 1, 'FUMJ18': 2, 'IRCOCRC': 9, 'IRCRKRC': 1, 'IRHERRC': 9, 'IRHALLUCREC': 9, 'IRLSDRC': 3, 'IRECSTMOREC': 3, 'IRINHALREC': 9, 'IRMETHAMREC': 9, 'ADDPREV': 2, 'ADDSCEV': 1, 'BOOKED': 2} \n",
      "\n",
      "IRALCFY 1  | {'NAME': 'Test Scripter', 'IRSEX': 2, 'EDUHIGHCAT': 1, 'AGE2': 9, 'IRALCRC': 9, 'IRALCFY': 1, 'CABINGEVR': 2, 'IRALCAGE': 21, 'TXYRRECVD2': 1, 'TXEVRRCVD2': 1, 'IRCIGRC': 9, 'CIGDLYMO': 1, 'CIGAGE': 15, 'TOBYR': 0, 'FUCIG18': 1, 'IRMJRC': 2, 'IRMJFY': 40, 'FUMJ18': 1, 'IRCOCRC': 1, 'IRCRKRC': 1, 'IRHERRC': 9, 'IRHALLUCREC': 3, 'IRLSDRC': 2, 'IRECSTMOREC': 1, 'IRINHALREC': 2, 'IRMETHAMREC': 9, 'ADDPREV': 2, 'ADDSCEV': 1, 'BOOKED': 2} \n",
      "\n",
      "IRALCFY 12  | {'NAME': 'Test Scripter', 'IRSEX': 1, 'EDUHIGHCAT': 4, 'AGE2': 12, 'IRALCRC': 1, 'IRALCFY': 12, 'CABINGEVR': 1, 'IRALCAGE': 14, 'TXYRRECVD2': 1, 'TXEVRRCVD2': 0, 'IRCIGRC': 4, 'CIGDLYMO': 2, 'CIGAGE': 22, 'TOBYR': 1, 'FUCIG18': 2, 'IRMJRC': 1, 'IRMJFY': 40, 'FUMJ18': 2, 'IRCOCRC': 1, 'IRCRKRC': 3, 'IRHERRC': 9, 'IRHALLUCREC': 9, 'IRLSDRC': 9, 'IRECSTMOREC': 1, 'IRINHALREC': 2, 'IRMETHAMREC': 1, 'ADDPREV': 1, 'ADDSCEV': 2, 'BOOKED': 1} \n",
      "\n",
      "IRALCFY 50  | {'NAME': 'Test Scripter', 'IRSEX': 2, 'EDUHIGHCAT': 1, 'AGE2': 10, 'IRALCRC': 9, 'IRALCFY': 50, 'CABINGEVR': 991, 'IRALCAGE': 100, 'TXYRRECVD2': 0, 'TXEVRRCVD2': 1, 'IRCIGRC': 3, 'CIGDLYMO': 2, 'CIGAGE': 15, 'TOBYR': 0, 'FUCIG18': 1, 'IRMJRC': 3, 'IRMJFY': 3, 'FUMJ18': 2, 'IRCOCRC': 9, 'IRCRKRC': 2, 'IRHERRC': 2, 'IRHALLUCREC': 9, 'IRLSDRC': 9, 'IRECSTMOREC': 9, 'IRINHALREC': 2, 'IRMETHAMREC': 1, 'ADDPREV': 94, 'ADDSCEV': 2, 'BOOKED': 94} \n",
      "\n",
      "IRALCFY 100  | {'NAME': 'Test Scripter', 'IRSEX': 1, 'EDUHIGHCAT': 4, 'AGE2': 14, 'IRALCRC': 9, 'IRALCFY': 100, 'CABINGEVR': 1, 'IRALCAGE': 100, 'TXYRRECVD2': 1, 'TXEVRRCVD2': 1, 'IRCIGRC': 1, 'CIGDLYMO': 91, 'CIGAGE': 17, 'TOBYR': 0, 'FUCIG18': 2, 'IRMJRC': 3, 'IRMJFY': 993, 'FUMJ18': 2, 'IRCOCRC': 2, 'IRCRKRC': 1, 'IRHERRC': 3, 'IRHALLUCREC': 2, 'IRLSDRC': 1, 'IRECSTMOREC': 9, 'IRINHALREC': 9, 'IRMETHAMREC': 3, 'ADDPREV': 94, 'ADDSCEV': 1, 'BOOKED': 1} \n",
      "\n",
      "IRALCFY 300  | {'NAME': 'Test Scripter', 'IRSEX': 2, 'EDUHIGHCAT': 2, 'AGE2': 16, 'IRALCRC': 9, 'IRALCFY': 300, 'CABINGEVR': 991, 'IRALCAGE': 17, 'TXYRRECVD2': 0, 'TXEVRRCVD2': 1, 'IRCIGRC': 2, 'CIGDLYMO': 2, 'CIGAGE': 50, 'TOBYR': 0, 'FUCIG18': 1, 'IRMJRC': 2, 'IRMJFY': 10, 'FUMJ18': 2, 'IRCOCRC': 3, 'IRCRKRC': 9, 'IRHERRC': 2, 'IRHALLUCREC': 9, 'IRLSDRC': 9, 'IRECSTMOREC': 9, 'IRINHALREC': 9, 'IRMETHAMREC': 3, 'ADDPREV': 1, 'ADDSCEV': 1, 'BOOKED': 94} \n",
      "\n",
      "CABINGEVR 991  | {'NAME': 'Test Scripter', 'IRSEX': 2, 'EDUHIGHCAT': 5, 'AGE2': 3, 'IRALCRC': 3, 'IRALCFY': 991, 'CABINGEVR': 991, 'IRALCAGE': 20, 'TXYRRECVD2': 1, 'TXEVRRCVD2': 0, 'IRCIGRC': 4, 'CIGDLYMO': 2, 'CIGAGE': 999, 'TOBYR': 0, 'FUCIG18': 2, 'IRMJRC': 1, 'IRMJFY': 3, 'FUMJ18': 1, 'IRCOCRC': 3, 'IRCRKRC': 9, 'IRHERRC': 1, 'IRHALLUCREC': 2, 'IRLSDRC': 1, 'IRECSTMOREC': 1, 'IRINHALREC': 1, 'IRMETHAMREC': 3, 'ADDPREV': 2, 'ADDSCEV': 1, 'BOOKED': 2} \n",
      "\n",
      "CABINGEVR 2  | {'NAME': 'Test Scripter', 'IRSEX': 2, 'EDUHIGHCAT': 3, 'AGE2': 11, 'IRALCRC': 3, 'IRALCFY': 100, 'CABINGEVR': 2, 'IRALCAGE': 17, 'TXYRRECVD2': 0, 'TXEVRRCVD2': 1, 'IRCIGRC': 1, 'CIGDLYMO': 91, 'CIGAGE': 994, 'TOBYR': 1, 'FUCIG18': 2, 'IRMJRC': 9, 'IRMJFY': 3, 'FUMJ18': 1, 'IRCOCRC': 9, 'IRCRKRC': 9, 'IRHERRC': 3, 'IRHALLUCREC': 9, 'IRLSDRC': 9, 'IRECSTMOREC': 2, 'IRINHALREC': 2, 'IRMETHAMREC': 1, 'ADDPREV': 2, 'ADDSCEV': 1, 'BOOKED': 94} \n",
      "\n",
      "CABINGEVR 1  | {'NAME': 'Test Scripter', 'IRSEX': 2, 'EDUHIGHCAT': 4, 'AGE2': 7, 'IRALCRC': 2, 'IRALCFY': 993, 'CABINGEVR': 1, 'IRALCAGE': 14, 'TXYRRECVD2': 1, 'TXEVRRCVD2': 1, 'IRCIGRC': 2, 'CIGDLYMO': 2, 'CIGAGE': 20, 'TOBYR': 1, 'FUCIG18': 2, 'IRMJRC': 2, 'IRMJFY': 365, 'FUMJ18': 2, 'IRCOCRC': 9, 'IRCRKRC': 2, 'IRHERRC': 9, 'IRHALLUCREC': 9, 'IRLSDRC': 1, 'IRECSTMOREC': 1, 'IRINHALREC': 1, 'IRMETHAMREC': 2, 'ADDPREV': 94, 'ADDSCEV': 1, 'BOOKED': 94} \n",
      "\n",
      "IRALCAGE 991  | {'NAME': 'Test Scripter', 'IRSEX': 1, 'EDUHIGHCAT': 3, 'AGE2': 7, 'IRALCRC': 9, 'IRALCFY': 991, 'CABINGEVR': 1, 'IRALCAGE': 991, 'TXYRRECVD2': 0, 'TXEVRRCVD2': 1, 'IRCIGRC': 2, 'CIGDLYMO': 91, 'CIGAGE': 18, 'TOBYR': 0, 'FUCIG18': 1, 'IRMJRC': 2, 'IRMJFY': 30, 'FUMJ18': 2, 'IRCOCRC': 9, 'IRCRKRC': 2, 'IRHERRC': 1, 'IRHALLUCREC': 1, 'IRLSDRC': 3, 'IRECSTMOREC': 3, 'IRINHALREC': 9, 'IRMETHAMREC': 3, 'ADDPREV': 2, 'ADDSCEV': 1, 'BOOKED': 94} \n",
      "\n",
      "IRALCAGE 14  | {'NAME': 'Test Scripter', 'IRSEX': 2, 'EDUHIGHCAT': 5, 'AGE2': 11, 'IRALCRC': 2, 'IRALCFY': 1, 'CABINGEVR': 2, 'IRALCAGE': 14, 'TXYRRECVD2': 0, 'TXEVRRCVD2': 1, 'IRCIGRC': 2, 'CIGDLYMO': 2, 'CIGAGE': 99, 'TOBYR': 1, 'FUCIG18': 1, 'IRMJRC': 9, 'IRMJFY': 10, 'FUMJ18': 1, 'IRCOCRC': 1, 'IRCRKRC': 1, 'IRHERRC': 9, 'IRHALLUCREC': 3, 'IRLSDRC': 2, 'IRECSTMOREC': 3, 'IRINHALREC': 9, 'IRMETHAMREC': 9, 'ADDPREV': 2, 'ADDSCEV': 1, 'BOOKED': 94} \n",
      "\n",
      "IRALCAGE 17  | {'NAME': 'Test Scripter', 'IRSEX': 2, 'EDUHIGHCAT': 1, 'AGE2': 6, 'IRALCRC': 1, 'IRALCFY': 12, 'CABINGEVR': 1, 'IRALCAGE': 17, 'TXYRRECVD2': 1, 'TXEVRRCVD2': 0, 'IRCIGRC': 3, 'CIGDLYMO': 2, 'CIGAGE': 10, 'TOBYR': 1, 'FUCIG18': 1, 'IRMJRC': 1, 'IRMJFY': 50, 'FUMJ18': 2, 'IRCOCRC': 9, 'IRCRKRC': 2, 'IRHERRC': 1, 'IRHALLUCREC': 2, 'IRLSDRC': 9, 'IRECSTMOREC': 9, 'IRINHALREC': 1, 'IRMETHAMREC': 9, 'ADDPREV': 2, 'ADDSCEV': 94, 'BOOKED': 97} \n",
      "\n",
      "IRALCAGE 20  | {'NAME': 'Test Scripter', 'IRSEX': 2, 'EDUHIGHCAT': 1, 'AGE2': 12, 'IRALCRC': 2, 'IRALCFY': 991, 'CABINGEVR': 2, 'IRALCAGE': 20, 'TXYRRECVD2': 0, 'TXEVRRCVD2': 0, 'IRCIGRC': 2, 'CIGDLYMO': 91, 'CIGAGE': 99, 'TOBYR': 1, 'FUCIG18': 1, 'IRMJRC': 1, 'IRMJFY': 200, 'FUMJ18': 2, 'IRCOCRC': 1, 'IRCRKRC': 2, 'IRHERRC': 9, 'IRHALLUCREC': 1, 'IRLSDRC': 3, 'IRECSTMOREC': 1, 'IRINHALREC': 1, 'IRMETHAMREC': 3, 'ADDPREV': 94, 'ADDSCEV': 1, 'BOOKED': 1} \n",
      "\n",
      "IRALCAGE 21  | {'NAME': 'Test Scripter', 'IRSEX': 2, 'EDUHIGHCAT': 2, 'AGE2': 15, 'IRALCRC': 3, 'IRALCFY': 50, 'CABINGEVR': 991, 'IRALCAGE': 21, 'TXYRRECVD2': 0, 'TXEVRRCVD2': 0, 'IRCIGRC': 4, 'CIGDLYMO': 2, 'CIGAGE': 99, 'TOBYR': 0, 'FUCIG18': 1, 'IRMJRC': 2, 'IRMJFY': 20, 'FUMJ18': 2, 'IRCOCRC': 2, 'IRCRKRC': 3, 'IRHERRC': 2, 'IRHALLUCREC': 9, 'IRLSDRC': 3, 'IRECSTMOREC': 2, 'IRINHALREC': 2, 'IRMETHAMREC': 2, 'ADDPREV': 2, 'ADDSCEV': 94, 'BOOKED': 97} \n",
      "\n",
      "IRALCAGE 100  | {'NAME': 'Test Scripter', 'IRSEX': 1, 'EDUHIGHCAT': 1, 'AGE2': 5, 'IRALCRC': 3, 'IRALCFY': 993, 'CABINGEVR': 2, 'IRALCAGE': 100, 'TXYRRECVD2': 0, 'TXEVRRCVD2': 0, 'IRCIGRC': 9, 'CIGDLYMO': 1, 'CIGAGE': 19, 'TOBYR': 0, 'FUCIG18': 1, 'IRMJRC': 3, 'IRMJFY': 300, 'FUMJ18': 2, 'IRCOCRC': 1, 'IRCRKRC': 9, 'IRHERRC': 1, 'IRHALLUCREC': 2, 'IRLSDRC': 3, 'IRECSTMOREC': 2, 'IRINHALREC': 3, 'IRMETHAMREC': 9, 'ADDPREV': 1, 'ADDSCEV': 94, 'BOOKED': 97} \n",
      "\n",
      "TXYRRECVD2 0  | {'NAME': 'Test Scripter', 'IRSEX': 2, 'EDUHIGHCAT': 1, 'AGE2': 2, 'IRALCRC': 3, 'IRALCFY': 50, 'CABINGEVR': 1, 'IRALCAGE': 17, 'TXYRRECVD2': 0, 'TXEVRRCVD2': 0, 'IRCIGRC': 4, 'CIGDLYMO': 91, 'CIGAGE': 991, 'TOBYR': 1, 'FUCIG18': 1, 'IRMJRC': 1, 'IRMJFY': 20, 'FUMJ18': 2, 'IRCOCRC': 1, 'IRCRKRC': 1, 'IRHERRC': 1, 'IRHALLUCREC': 1, 'IRLSDRC': 1, 'IRECSTMOREC': 1, 'IRINHALREC': 1, 'IRMETHAMREC': 2, 'ADDPREV': 2, 'ADDSCEV': 2, 'BOOKED': 1} \n",
      "\n",
      "TXYRRECVD2 1  | {'NAME': 'Test Scripter', 'IRSEX': 1, 'EDUHIGHCAT': 3, 'AGE2': 2, 'IRALCRC': 9, 'IRALCFY': 993, 'CABINGEVR': 1, 'IRALCAGE': 17, 'TXYRRECVD2': 1, 'TXEVRRCVD2': 1, 'IRCIGRC': 4, 'CIGDLYMO': 1, 'CIGAGE': 22, 'TOBYR': 0, 'FUCIG18': 2, 'IRMJRC': 9, 'IRMJFY': 40, 'FUMJ18': 1, 'IRCOCRC': 3, 'IRCRKRC': 3, 'IRHERRC': 2, 'IRHALLUCREC': 2, 'IRLSDRC': 9, 'IRECSTMOREC': 3, 'IRINHALREC': 9, 'IRMETHAMREC': 1, 'ADDPREV': 1, 'ADDSCEV': 1, 'BOOKED': 1} \n",
      "\n",
      "TXEVRRCVD2 0  | {'NAME': 'Test Scripter', 'IRSEX': 2, 'EDUHIGHCAT': 5, 'AGE2': 14, 'IRALCRC': 1, 'IRALCFY': 1, 'CABINGEVR': 991, 'IRALCAGE': 20, 'TXYRRECVD2': 0, 'TXEVRRCVD2': 0, 'IRCIGRC': 3, 'CIGDLYMO': 2, 'CIGAGE': 99, 'TOBYR': 0, 'FUCIG18': 2, 'IRMJRC': 3, 'IRMJFY': 200, 'FUMJ18': 1, 'IRCOCRC': 3, 'IRCRKRC': 3, 'IRHERRC': 1, 'IRHALLUCREC': 2, 'IRLSDRC': 9, 'IRECSTMOREC': 1, 'IRINHALREC': 3, 'IRMETHAMREC': 2, 'ADDPREV': 2, 'ADDSCEV': 1, 'BOOKED': 97} \n",
      "\n",
      "TXEVRRCVD2 1  | {'NAME': 'Test Scripter', 'IRSEX': 2, 'EDUHIGHCAT': 4, 'AGE2': 2, 'IRALCRC': 9, 'IRALCFY': 12, 'CABINGEVR': 2, 'IRALCAGE': 20, 'TXYRRECVD2': 1, 'TXEVRRCVD2': 1, 'IRCIGRC': 4, 'CIGDLYMO': 91, 'CIGAGE': 999, 'TOBYR': 0, 'FUCIG18': 2, 'IRMJRC': 2, 'IRMJFY': 50, 'FUMJ18': 1, 'IRCOCRC': 2, 'IRCRKRC': 1, 'IRHERRC': 1, 'IRHALLUCREC': 9, 'IRLSDRC': 1, 'IRECSTMOREC': 1, 'IRINHALREC': 2, 'IRMETHAMREC': 2, 'ADDPREV': 1, 'ADDSCEV': 2, 'BOOKED': 97} \n",
      "\n",
      "IRCIGRC 9  | {'NAME': 'Test Scripter', 'IRSEX': 2, 'EDUHIGHCAT': 4, 'AGE2': 4, 'IRALCRC': 2, 'IRALCFY': 1, 'CABINGEVR': 1, 'IRALCAGE': 991, 'TXYRRECVD2': 0, 'TXEVRRCVD2': 0, 'IRCIGRC': 9, 'CIGDLYMO': 91, 'CIGAGE': 25, 'TOBYR': 0, 'FUCIG18': 2, 'IRMJRC': 1, 'IRMJFY': 1, 'FUMJ18': 1, 'IRCOCRC': 3, 'IRCRKRC': 3, 'IRHERRC': 9, 'IRHALLUCREC': 9, 'IRLSDRC': 2, 'IRECSTMOREC': 1, 'IRINHALREC': 9, 'IRMETHAMREC': 2, 'ADDPREV': 94, 'ADDSCEV': 2, 'BOOKED': 94} \n",
      "\n",
      "IRCIGRC 1  | {'NAME': 'Test Scripter', 'IRSEX': 2, 'EDUHIGHCAT': 5, 'AGE2': 11, 'IRALCRC': 9, 'IRALCFY': 100, 'CABINGEVR': 1, 'IRALCAGE': 17, 'TXYRRECVD2': 0, 'TXEVRRCVD2': 1, 'IRCIGRC': 1, 'CIGDLYMO': 2, 'CIGAGE': 991, 'TOBYR': 1, 'FUCIG18': 1, 'IRMJRC': 2, 'IRMJFY': 7, 'FUMJ18': 2, 'IRCOCRC': 9, 'IRCRKRC': 3, 'IRHERRC': 3, 'IRHALLUCREC': 1, 'IRLSDRC': 1, 'IRECSTMOREC': 3, 'IRINHALREC': 1, 'IRMETHAMREC': 3, 'ADDPREV': 94, 'ADDSCEV': 1, 'BOOKED': 94} \n",
      "\n",
      "IRCIGRC 2  | {'NAME': 'Test Scripter', 'IRSEX': 1, 'EDUHIGHCAT': 3, 'AGE2': 11, 'IRALCRC': 2, 'IRALCFY': 50, 'CABINGEVR': 2, 'IRALCAGE': 14, 'TXYRRECVD2': 1, 'TXEVRRCVD2': 1, 'IRCIGRC': 2, 'CIGDLYMO': 1, 'CIGAGE': 991, 'TOBYR': 1, 'FUCIG18': 2, 'IRMJRC': 3, 'IRMJFY': 991, 'FUMJ18': 1, 'IRCOCRC': 1, 'IRCRKRC': 2, 'IRHERRC': 3, 'IRHALLUCREC': 9, 'IRLSDRC': 3, 'IRECSTMOREC': 9, 'IRINHALREC': 1, 'IRMETHAMREC': 9, 'ADDPREV': 2, 'ADDSCEV': 2, 'BOOKED': 94} \n",
      "\n",
      "IRCIGRC 3  | {'NAME': 'Test Scripter', 'IRSEX': 1, 'EDUHIGHCAT': 5, 'AGE2': 2, 'IRALCRC': 1, 'IRALCFY': 100, 'CABINGEVR': 991, 'IRALCAGE': 14, 'TXYRRECVD2': 1, 'TXEVRRCVD2': 0, 'IRCIGRC': 3, 'CIGDLYMO': 91, 'CIGAGE': 22, 'TOBYR': 1, 'FUCIG18': 2, 'IRMJRC': 9, 'IRMJFY': 300, 'FUMJ18': 2, 'IRCOCRC': 1, 'IRCRKRC': 3, 'IRHERRC': 3, 'IRHALLUCREC': 2, 'IRLSDRC': 2, 'IRECSTMOREC': 2, 'IRINHALREC': 9, 'IRMETHAMREC': 1, 'ADDPREV': 94, 'ADDSCEV': 94, 'BOOKED': 2} \n",
      "\n",
      "IRCIGRC 4  | {'NAME': 'Test Scripter', 'IRSEX': 2, 'EDUHIGHCAT': 2, 'AGE2': 13, 'IRALCRC': 1, 'IRALCFY': 12, 'CABINGEVR': 2, 'IRALCAGE': 991, 'TXYRRECVD2': 1, 'TXEVRRCVD2': 0, 'IRCIGRC': 4, 'CIGDLYMO': 91, 'CIGAGE': 22, 'TOBYR': 0, 'FUCIG18': 1, 'IRMJRC': 1, 'IRMJFY': 20, 'FUMJ18': 1, 'IRCOCRC': 3, 'IRCRKRC': 3, 'IRHERRC': 1, 'IRHALLUCREC': 9, 'IRLSDRC': 3, 'IRECSTMOREC': 1, 'IRINHALREC': 3, 'IRMETHAMREC': 3, 'ADDPREV': 94, 'ADDSCEV': 2, 'BOOKED': 1} \n",
      "\n",
      "CIGDLYMO 91  | {'NAME': 'Test Scripter', 'IRSEX': 2, 'EDUHIGHCAT': 1, 'AGE2': 8, 'IRALCRC': 9, 'IRALCFY': 991, 'CABINGEVR': 2, 'IRALCAGE': 21, 'TXYRRECVD2': 1, 'TXEVRRCVD2': 0, 'IRCIGRC': 3, 'CIGDLYMO': 91, 'CIGAGE': 991, 'TOBYR': 0, 'FUCIG18': 2, 'IRMJRC': 3, 'IRMJFY': 50, 'FUMJ18': 1, 'IRCOCRC': 3, 'IRCRKRC': 9, 'IRHERRC': 3, 'IRHALLUCREC': 1, 'IRLSDRC': 9, 'IRECSTMOREC': 9, 'IRINHALREC': 2, 'IRMETHAMREC': 3, 'ADDPREV': 94, 'ADDSCEV': 94, 'BOOKED': 2} \n",
      "\n",
      "CIGDLYMO 2  | {'NAME': 'Test Scripter', 'IRSEX': 1, 'EDUHIGHCAT': 1, 'AGE2': 17, 'IRALCRC': 3, 'IRALCFY': 993, 'CABINGEVR': 2, 'IRALCAGE': 17, 'TXYRRECVD2': 0, 'TXEVRRCVD2': 0, 'IRCIGRC': 4, 'CIGDLYMO': 2, 'CIGAGE': 13, 'TOBYR': 0, 'FUCIG18': 1, 'IRMJRC': 1, 'IRMJFY': 991, 'FUMJ18': 2, 'IRCOCRC': 2, 'IRCRKRC': 9, 'IRHERRC': 2, 'IRHALLUCREC': 9, 'IRLSDRC': 9, 'IRECSTMOREC': 2, 'IRINHALREC': 3, 'IRMETHAMREC': 2, 'ADDPREV': 2, 'ADDSCEV': 1, 'BOOKED': 97} \n",
      "\n",
      "CIGDLYMO 1  | {'NAME': 'Test Scripter', 'IRSEX': 1, 'EDUHIGHCAT': 5, 'AGE2': 14, 'IRALCRC': 3, 'IRALCFY': 300, 'CABINGEVR': 1, 'IRALCAGE': 14, 'TXYRRECVD2': 1, 'TXEVRRCVD2': 0, 'IRCIGRC': 1, 'CIGDLYMO': 1, 'CIGAGE': 25, 'TOBYR': 1, 'FUCIG18': 2, 'IRMJRC': 3, 'IRMJFY': 991, 'FUMJ18': 2, 'IRCOCRC': 3, 'IRCRKRC': 3, 'IRHERRC': 1, 'IRHALLUCREC': 2, 'IRLSDRC': 9, 'IRECSTMOREC': 1, 'IRINHALREC': 1, 'IRMETHAMREC': 1, 'ADDPREV': 2, 'ADDSCEV': 1, 'BOOKED': 1} \n",
      "\n",
      "CIGAGE 991  | {'NAME': 'Test Scripter', 'IRSEX': 1, 'EDUHIGHCAT': 2, 'AGE2': 4, 'IRALCRC': 3, 'IRALCFY': 991, 'CABINGEVR': 1, 'IRALCAGE': 14, 'TXYRRECVD2': 0, 'TXEVRRCVD2': 0, 'IRCIGRC': 1, 'CIGDLYMO': 91, 'CIGAGE': 991, 'TOBYR': 1, 'FUCIG18': 2, 'IRMJRC': 3, 'IRMJFY': 30, 'FUMJ18': 1, 'IRCOCRC': 1, 'IRCRKRC': 2, 'IRHERRC': 3, 'IRHALLUCREC': 3, 'IRLSDRC': 1, 'IRECSTMOREC': 1, 'IRINHALREC': 9, 'IRMETHAMREC': 2, 'ADDPREV': 2, 'ADDSCEV': 94, 'BOOKED': 2} \n",
      "\n",
      "CIGAGE 994  | {'NAME': 'Test Scripter', 'IRSEX': 1, 'EDUHIGHCAT': 2, 'AGE2': 12, 'IRALCRC': 1, 'IRALCFY': 12, 'CABINGEVR': 1, 'IRALCAGE': 21, 'TXYRRECVD2': 1, 'TXEVRRCVD2': 0, 'IRCIGRC': 9, 'CIGDLYMO': 2, 'CIGAGE': 994, 'TOBYR': 0, 'FUCIG18': 2, 'IRMJRC': 2, 'IRMJFY': 40, 'FUMJ18': 1, 'IRCOCRC': 2, 'IRCRKRC': 3, 'IRHERRC': 9, 'IRHALLUCREC': 9, 'IRLSDRC': 9, 'IRECSTMOREC': 3, 'IRINHALREC': 3, 'IRMETHAMREC': 2, 'ADDPREV': 2, 'ADDSCEV': 94, 'BOOKED': 94} \n",
      "\n",
      "CIGAGE 999  | {'NAME': 'Test Scripter', 'IRSEX': 2, 'EDUHIGHCAT': 4, 'AGE2': 10, 'IRALCRC': 3, 'IRALCFY': 991, 'CABINGEVR': 1, 'IRALCAGE': 21, 'TXYRRECVD2': 1, 'TXEVRRCVD2': 1, 'IRCIGRC': 1, 'CIGDLYMO': 1, 'CIGAGE': 999, 'TOBYR': 1, 'FUCIG18': 1, 'IRMJRC': 9, 'IRMJFY': 200, 'FUMJ18': 2, 'IRCOCRC': 3, 'IRCRKRC': 9, 'IRHERRC': 2, 'IRHALLUCREC': 1, 'IRLSDRC': 1, 'IRECSTMOREC': 9, 'IRINHALREC': 2, 'IRMETHAMREC': 3, 'ADDPREV': 1, 'ADDSCEV': 1, 'BOOKED': 97} \n",
      "\n",
      "CIGAGE 10  | {'NAME': 'Test Scripter', 'IRSEX': 1, 'EDUHIGHCAT': 5, 'AGE2': 9, 'IRALCRC': 1, 'IRALCFY': 991, 'CABINGEVR': 1, 'IRALCAGE': 17, 'TXYRRECVD2': 1, 'TXEVRRCVD2': 0, 'IRCIGRC': 9, 'CIGDLYMO': 91, 'CIGAGE': 10, 'TOBYR': 1, 'FUCIG18': 1, 'IRMJRC': 3, 'IRMJFY': 50, 'FUMJ18': 2, 'IRCOCRC': 2, 'IRCRKRC': 1, 'IRHERRC': 3, 'IRHALLUCREC': 1, 'IRLSDRC': 3, 'IRECSTMOREC': 3, 'IRINHALREC': 1, 'IRMETHAMREC': 3, 'ADDPREV': 2, 'ADDSCEV': 1, 'BOOKED': 1} \n",
      "\n",
      "CIGAGE 13  | {'NAME': 'Test Scripter', 'IRSEX': 2, 'EDUHIGHCAT': 2, 'AGE2': 4, 'IRALCRC': 2, 'IRALCFY': 300, 'CABINGEVR': 2, 'IRALCAGE': 991, 'TXYRRECVD2': 1, 'TXEVRRCVD2': 1, 'IRCIGRC': 2, 'CIGDLYMO': 1, 'CIGAGE': 13, 'TOBYR': 0, 'FUCIG18': 2, 'IRMJRC': 3, 'IRMJFY': 200, 'FUMJ18': 2, 'IRCOCRC': 1, 'IRCRKRC': 3, 'IRHERRC': 3, 'IRHALLUCREC': 1, 'IRLSDRC': 3, 'IRECSTMOREC': 1, 'IRINHALREC': 1, 'IRMETHAMREC': 3, 'ADDPREV': 1, 'ADDSCEV': 1, 'BOOKED': 1} \n",
      "\n",
      "CIGAGE 15  | {'NAME': 'Test Scripter', 'IRSEX': 1, 'EDUHIGHCAT': 3, 'AGE2': 9, 'IRALCRC': 3, 'IRALCFY': 993, 'CABINGEVR': 991, 'IRALCAGE': 17, 'TXYRRECVD2': 1, 'TXEVRRCVD2': 1, 'IRCIGRC': 4, 'CIGDLYMO': 91, 'CIGAGE': 15, 'TOBYR': 0, 'FUCIG18': 2, 'IRMJRC': 2, 'IRMJFY': 3, 'FUMJ18': 1, 'IRCOCRC': 1, 'IRCRKRC': 1, 'IRHERRC': 9, 'IRHALLUCREC': 1, 'IRLSDRC': 9, 'IRECSTMOREC': 3, 'IRINHALREC': 3, 'IRMETHAMREC': 3, 'ADDPREV': 2, 'ADDSCEV': 94, 'BOOKED': 94} \n",
      "\n",
      "CIGAGE 17  | {'NAME': 'Test Scripter', 'IRSEX': 2, 'EDUHIGHCAT': 2, 'AGE2': 10, 'IRALCRC': 9, 'IRALCFY': 50, 'CABINGEVR': 1, 'IRALCAGE': 17, 'TXYRRECVD2': 0, 'TXEVRRCVD2': 1, 'IRCIGRC': 2, 'CIGDLYMO': 91, 'CIGAGE': 17, 'TOBYR': 0, 'FUCIG18': 1, 'IRMJRC': 2, 'IRMJFY': 30, 'FUMJ18': 1, 'IRCOCRC': 2, 'IRCRKRC': 1, 'IRHERRC': 1, 'IRHALLUCREC': 1, 'IRLSDRC': 3, 'IRECSTMOREC': 2, 'IRINHALREC': 9, 'IRMETHAMREC': 2, 'ADDPREV': 94, 'ADDSCEV': 2, 'BOOKED': 94} \n",
      "\n",
      "CIGAGE 18  | {'NAME': 'Test Scripter', 'IRSEX': 2, 'EDUHIGHCAT': 3, 'AGE2': 14, 'IRALCRC': 2, 'IRALCFY': 991, 'CABINGEVR': 991, 'IRALCAGE': 100, 'TXYRRECVD2': 0, 'TXEVRRCVD2': 1, 'IRCIGRC': 9, 'CIGDLYMO': 1, 'CIGAGE': 18, 'TOBYR': 0, 'FUCIG18': 1, 'IRMJRC': 1, 'IRMJFY': 991, 'FUMJ18': 1, 'IRCOCRC': 9, 'IRCRKRC': 1, 'IRHERRC': 9, 'IRHALLUCREC': 1, 'IRLSDRC': 9, 'IRECSTMOREC': 9, 'IRINHALREC': 1, 'IRMETHAMREC': 1, 'ADDPREV': 1, 'ADDSCEV': 1, 'BOOKED': 97} \n",
      "\n",
      "CIGAGE 19  | {'NAME': 'Test Scripter', 'IRSEX': 1, 'EDUHIGHCAT': 3, 'AGE2': 7, 'IRALCRC': 2, 'IRALCFY': 12, 'CABINGEVR': 2, 'IRALCAGE': 17, 'TXYRRECVD2': 1, 'TXEVRRCVD2': 0, 'IRCIGRC': 4, 'CIGDLYMO': 91, 'CIGAGE': 19, 'TOBYR': 0, 'FUCIG18': 1, 'IRMJRC': 9, 'IRMJFY': 10, 'FUMJ18': 1, 'IRCOCRC': 1, 'IRCRKRC': 2, 'IRHERRC': 1, 'IRHALLUCREC': 1, 'IRLSDRC': 1, 'IRECSTMOREC': 9, 'IRINHALREC': 1, 'IRMETHAMREC': 1, 'ADDPREV': 1, 'ADDSCEV': 94, 'BOOKED': 94} \n",
      "\n",
      "CIGAGE 20  | {'NAME': 'Test Scripter', 'IRSEX': 2, 'EDUHIGHCAT': 3, 'AGE2': 11, 'IRALCRC': 3, 'IRALCFY': 1, 'CABINGEVR': 1, 'IRALCAGE': 21, 'TXYRRECVD2': 1, 'TXEVRRCVD2': 1, 'IRCIGRC': 2, 'CIGDLYMO': 1, 'CIGAGE': 20, 'TOBYR': 1, 'FUCIG18': 2, 'IRMJRC': 3, 'IRMJFY': 993, 'FUMJ18': 1, 'IRCOCRC': 2, 'IRCRKRC': 2, 'IRHERRC': 2, 'IRHALLUCREC': 3, 'IRLSDRC': 3, 'IRECSTMOREC': 3, 'IRINHALREC': 1, 'IRMETHAMREC': 9, 'ADDPREV': 94, 'ADDSCEV': 1, 'BOOKED': 97} \n",
      "\n",
      "CIGAGE 22  | {'NAME': 'Test Scripter', 'IRSEX': 2, 'EDUHIGHCAT': 3, 'AGE2': 1, 'IRALCRC': 3, 'IRALCFY': 1, 'CABINGEVR': 1, 'IRALCAGE': 20, 'TXYRRECVD2': 0, 'TXEVRRCVD2': 1, 'IRCIGRC': 3, 'CIGDLYMO': 91, 'CIGAGE': 22, 'TOBYR': 0, 'FUCIG18': 1, 'IRMJRC': 9, 'IRMJFY': 10, 'FUMJ18': 1, 'IRCOCRC': 9, 'IRCRKRC': 9, 'IRHERRC': 3, 'IRHALLUCREC': 3, 'IRLSDRC': 2, 'IRECSTMOREC': 1, 'IRINHALREC': 9, 'IRMETHAMREC': 2, 'ADDPREV': 94, 'ADDSCEV': 94, 'BOOKED': 1} \n",
      "\n",
      "CIGAGE 25  | {'NAME': 'Test Scripter', 'IRSEX': 2, 'EDUHIGHCAT': 1, 'AGE2': 4, 'IRALCRC': 9, 'IRALCFY': 50, 'CABINGEVR': 991, 'IRALCAGE': 17, 'TXYRRECVD2': 1, 'TXEVRRCVD2': 1, 'IRCIGRC': 3, 'CIGDLYMO': 1, 'CIGAGE': 25, 'TOBYR': 1, 'FUCIG18': 1, 'IRMJRC': 1, 'IRMJFY': 200, 'FUMJ18': 2, 'IRCOCRC': 2, 'IRCRKRC': 2, 'IRHERRC': 9, 'IRHALLUCREC': 2, 'IRLSDRC': 2, 'IRECSTMOREC': 2, 'IRINHALREC': 2, 'IRMETHAMREC': 2, 'ADDPREV': 2, 'ADDSCEV': 2, 'BOOKED': 1} \n",
      "\n",
      "CIGAGE 30  | {'NAME': 'Test Scripter', 'IRSEX': 1, 'EDUHIGHCAT': 3, 'AGE2': 10, 'IRALCRC': 1, 'IRALCFY': 991, 'CABINGEVR': 2, 'IRALCAGE': 21, 'TXYRRECVD2': 1, 'TXEVRRCVD2': 0, 'IRCIGRC': 4, 'CIGDLYMO': 2, 'CIGAGE': 30, 'TOBYR': 1, 'FUCIG18': 2, 'IRMJRC': 2, 'IRMJFY': 1, 'FUMJ18': 1, 'IRCOCRC': 2, 'IRCRKRC': 2, 'IRHERRC': 9, 'IRHALLUCREC': 9, 'IRLSDRC': 3, 'IRECSTMOREC': 1, 'IRINHALREC': 3, 'IRMETHAMREC': 1, 'ADDPREV': 1, 'ADDSCEV': 2, 'BOOKED': 97} \n",
      "\n",
      "CIGAGE 40  | {'NAME': 'Test Scripter', 'IRSEX': 2, 'EDUHIGHCAT': 4, 'AGE2': 11, 'IRALCRC': 1, 'IRALCFY': 100, 'CABINGEVR': 991, 'IRALCAGE': 991, 'TXYRRECVD2': 1, 'TXEVRRCVD2': 1, 'IRCIGRC': 9, 'CIGDLYMO': 91, 'CIGAGE': 40, 'TOBYR': 0, 'FUCIG18': 2, 'IRMJRC': 1, 'IRMJFY': 40, 'FUMJ18': 1, 'IRCOCRC': 2, 'IRCRKRC': 2, 'IRHERRC': 9, 'IRHALLUCREC': 1, 'IRLSDRC': 9, 'IRECSTMOREC': 9, 'IRINHALREC': 2, 'IRMETHAMREC': 3, 'ADDPREV': 94, 'ADDSCEV': 1, 'BOOKED': 97} \n",
      "\n",
      "CIGAGE 50  | {'NAME': 'Test Scripter', 'IRSEX': 2, 'EDUHIGHCAT': 1, 'AGE2': 14, 'IRALCRC': 2, 'IRALCFY': 993, 'CABINGEVR': 2, 'IRALCAGE': 100, 'TXYRRECVD2': 1, 'TXEVRRCVD2': 0, 'IRCIGRC': 3, 'CIGDLYMO': 1, 'CIGAGE': 50, 'TOBYR': 0, 'FUCIG18': 2, 'IRMJRC': 9, 'IRMJFY': 993, 'FUMJ18': 1, 'IRCOCRC': 2, 'IRCRKRC': 1, 'IRHERRC': 9, 'IRHALLUCREC': 9, 'IRLSDRC': 9, 'IRECSTMOREC': 3, 'IRINHALREC': 1, 'IRMETHAMREC': 3, 'ADDPREV': 94, 'ADDSCEV': 1, 'BOOKED': 94} \n",
      "\n",
      "CIGAGE 99  | {'NAME': 'Test Scripter', 'IRSEX': 2, 'EDUHIGHCAT': 1, 'AGE2': 14, 'IRALCRC': 2, 'IRALCFY': 991, 'CABINGEVR': 1, 'IRALCAGE': 991, 'TXYRRECVD2': 1, 'TXEVRRCVD2': 1, 'IRCIGRC': 1, 'CIGDLYMO': 91, 'CIGAGE': 99, 'TOBYR': 0, 'FUCIG18': 2, 'IRMJRC': 9, 'IRMJFY': 30, 'FUMJ18': 2, 'IRCOCRC': 3, 'IRCRKRC': 9, 'IRHERRC': 3, 'IRHALLUCREC': 2, 'IRLSDRC': 1, 'IRECSTMOREC': 9, 'IRINHALREC': 9, 'IRMETHAMREC': 9, 'ADDPREV': 94, 'ADDSCEV': 1, 'BOOKED': 94} \n",
      "\n",
      "TOBYR 0  | {'NAME': 'Test Scripter', 'IRSEX': 1, 'EDUHIGHCAT': 5, 'AGE2': 4, 'IRALCRC': 3, 'IRALCFY': 100, 'CABINGEVR': 2, 'IRALCAGE': 20, 'TXYRRECVD2': 0, 'TXEVRRCVD2': 0, 'IRCIGRC': 1, 'CIGDLYMO': 2, 'CIGAGE': 15, 'TOBYR': 0, 'FUCIG18': 1, 'IRMJRC': 9, 'IRMJFY': 20, 'FUMJ18': 1, 'IRCOCRC': 9, 'IRCRKRC': 2, 'IRHERRC': 9, 'IRHALLUCREC': 9, 'IRLSDRC': 2, 'IRECSTMOREC': 3, 'IRINHALREC': 2, 'IRMETHAMREC': 1, 'ADDPREV': 2, 'ADDSCEV': 94, 'BOOKED': 94} \n",
      "\n",
      "TOBYR 1  | {'NAME': 'Test Scripter', 'IRSEX': 1, 'EDUHIGHCAT': 3, 'AGE2': 16, 'IRALCRC': 9, 'IRALCFY': 12, 'CABINGEVR': 2, 'IRALCAGE': 991, 'TXYRRECVD2': 0, 'TXEVRRCVD2': 0, 'IRCIGRC': 2, 'CIGDLYMO': 1, 'CIGAGE': 25, 'TOBYR': 1, 'FUCIG18': 2, 'IRMJRC': 1, 'IRMJFY': 300, 'FUMJ18': 2, 'IRCOCRC': 1, 'IRCRKRC': 9, 'IRHERRC': 9, 'IRHALLUCREC': 3, 'IRLSDRC': 1, 'IRECSTMOREC': 3, 'IRINHALREC': 3, 'IRMETHAMREC': 1, 'ADDPREV': 1, 'ADDSCEV': 1, 'BOOKED': 1} \n",
      "\n",
      "FUCIG18 2  | {'NAME': 'Test Scripter', 'IRSEX': 1, 'EDUHIGHCAT': 5, 'AGE2': 14, 'IRALCRC': 1, 'IRALCFY': 100, 'CABINGEVR': 991, 'IRALCAGE': 14, 'TXYRRECVD2': 1, 'TXEVRRCVD2': 0, 'IRCIGRC': 3, 'CIGDLYMO': 2, 'CIGAGE': 50, 'TOBYR': 0, 'FUCIG18': 2, 'IRMJRC': 9, 'IRMJFY': 20, 'FUMJ18': 2, 'IRCOCRC': 2, 'IRCRKRC': 1, 'IRHERRC': 9, 'IRHALLUCREC': 2, 'IRLSDRC': 9, 'IRECSTMOREC': 9, 'IRINHALREC': 2, 'IRMETHAMREC': 2, 'ADDPREV': 94, 'ADDSCEV': 94, 'BOOKED': 2} \n",
      "\n",
      "FUCIG18 1  | {'NAME': 'Test Scripter', 'IRSEX': 1, 'EDUHIGHCAT': 1, 'AGE2': 13, 'IRALCRC': 9, 'IRALCFY': 12, 'CABINGEVR': 991, 'IRALCAGE': 21, 'TXYRRECVD2': 1, 'TXEVRRCVD2': 1, 'IRCIGRC': 3, 'CIGDLYMO': 1, 'CIGAGE': 15, 'TOBYR': 1, 'FUCIG18': 1, 'IRMJRC': 2, 'IRMJFY': 2, 'FUMJ18': 2, 'IRCOCRC': 3, 'IRCRKRC': 1, 'IRHERRC': 9, 'IRHALLUCREC': 2, 'IRLSDRC': 9, 'IRECSTMOREC': 3, 'IRINHALREC': 9, 'IRMETHAMREC': 1, 'ADDPREV': 2, 'ADDSCEV': 1, 'BOOKED': 97} \n",
      "\n",
      "IRMJRC 9  | {'NAME': 'Test Scripter', 'IRSEX': 2, 'EDUHIGHCAT': 3, 'AGE2': 6, 'IRALCRC': 9, 'IRALCFY': 100, 'CABINGEVR': 2, 'IRALCAGE': 991, 'TXYRRECVD2': 0, 'TXEVRRCVD2': 1, 'IRCIGRC': 4, 'CIGDLYMO': 91, 'CIGAGE': 15, 'TOBYR': 0, 'FUCIG18': 2, 'IRMJRC': 9, 'IRMJFY': 40, 'FUMJ18': 2, 'IRCOCRC': 3, 'IRCRKRC': 1, 'IRHERRC': 9, 'IRHALLUCREC': 1, 'IRLSDRC': 1, 'IRECSTMOREC': 3, 'IRINHALREC': 1, 'IRMETHAMREC': 3, 'ADDPREV': 2, 'ADDSCEV': 2, 'BOOKED': 94} \n",
      "\n",
      "IRMJRC 1  | {'NAME': 'Test Scripter', 'IRSEX': 1, 'EDUHIGHCAT': 5, 'AGE2': 17, 'IRALCRC': 2, 'IRALCFY': 991, 'CABINGEVR': 1, 'IRALCAGE': 14, 'TXYRRECVD2': 0, 'TXEVRRCVD2': 1, 'IRCIGRC': 2, 'CIGDLYMO': 2, 'CIGAGE': 20, 'TOBYR': 0, 'FUCIG18': 2, 'IRMJRC': 1, 'IRMJFY': 40, 'FUMJ18': 2, 'IRCOCRC': 9, 'IRCRKRC': 9, 'IRHERRC': 9, 'IRHALLUCREC': 9, 'IRLSDRC': 9, 'IRECSTMOREC': 3, 'IRINHALREC': 2, 'IRMETHAMREC': 2, 'ADDPREV': 2, 'ADDSCEV': 2, 'BOOKED': 97} \n",
      "\n",
      "IRMJRC 2  | {'NAME': 'Test Scripter', 'IRSEX': 1, 'EDUHIGHCAT': 2, 'AGE2': 11, 'IRALCRC': 1, 'IRALCFY': 993, 'CABINGEVR': 991, 'IRALCAGE': 100, 'TXYRRECVD2': 0, 'TXEVRRCVD2': 0, 'IRCIGRC': 2, 'CIGDLYMO': 2, 'CIGAGE': 10, 'TOBYR': 0, 'FUCIG18': 1, 'IRMJRC': 2, 'IRMJFY': 20, 'FUMJ18': 2, 'IRCOCRC': 3, 'IRCRKRC': 1, 'IRHERRC': 2, 'IRHALLUCREC': 3, 'IRLSDRC': 2, 'IRECSTMOREC': 1, 'IRINHALREC': 2, 'IRMETHAMREC': 3, 'ADDPREV': 2, 'ADDSCEV': 94, 'BOOKED': 97} \n",
      "\n",
      "IRMJRC 3  | {'NAME': 'Test Scripter', 'IRSEX': 1, 'EDUHIGHCAT': 5, 'AGE2': 15, 'IRALCRC': 3, 'IRALCFY': 12, 'CABINGEVR': 991, 'IRALCAGE': 21, 'TXYRRECVD2': 0, 'TXEVRRCVD2': 0, 'IRCIGRC': 2, 'CIGDLYMO': 1, 'CIGAGE': 991, 'TOBYR': 0, 'FUCIG18': 2, 'IRMJRC': 3, 'IRMJFY': 50, 'FUMJ18': 2, 'IRCOCRC': 2, 'IRCRKRC': 2, 'IRHERRC': 3, 'IRHALLUCREC': 3, 'IRLSDRC': 1, 'IRECSTMOREC': 3, 'IRINHALREC': 2, 'IRMETHAMREC': 3, 'ADDPREV': 94, 'ADDSCEV': 94, 'BOOKED': 1} \n",
      "\n",
      "IRMJFY 991  | {'NAME': 'Test Scripter', 'IRSEX': 1, 'EDUHIGHCAT': 5, 'AGE2': 10, 'IRALCRC': 2, 'IRALCFY': 300, 'CABINGEVR': 1, 'IRALCAGE': 991, 'TXYRRECVD2': 1, 'TXEVRRCVD2': 1, 'IRCIGRC': 2, 'CIGDLYMO': 91, 'CIGAGE': 15, 'TOBYR': 1, 'FUCIG18': 1, 'IRMJRC': 9, 'IRMJFY': 991, 'FUMJ18': 2, 'IRCOCRC': 9, 'IRCRKRC': 1, 'IRHERRC': 3, 'IRHALLUCREC': 9, 'IRLSDRC': 3, 'IRECSTMOREC': 1, 'IRINHALREC': 1, 'IRMETHAMREC': 3, 'ADDPREV': 1, 'ADDSCEV': 2, 'BOOKED': 97} \n",
      "\n",
      "IRMJFY 993  | {'NAME': 'Test Scripter', 'IRSEX': 1, 'EDUHIGHCAT': 3, 'AGE2': 14, 'IRALCRC': 1, 'IRALCFY': 300, 'CABINGEVR': 2, 'IRALCAGE': 14, 'TXYRRECVD2': 0, 'TXEVRRCVD2': 0, 'IRCIGRC': 9, 'CIGDLYMO': 91, 'CIGAGE': 50, 'TOBYR': 0, 'FUCIG18': 2, 'IRMJRC': 2, 'IRMJFY': 993, 'FUMJ18': 2, 'IRCOCRC': 2, 'IRCRKRC': 3, 'IRHERRC': 9, 'IRHALLUCREC': 2, 'IRLSDRC': 3, 'IRECSTMOREC': 1, 'IRINHALREC': 9, 'IRMETHAMREC': 1, 'ADDPREV': 94, 'ADDSCEV': 1, 'BOOKED': 94} \n",
      "\n",
      "IRMJFY 1  | {'NAME': 'Test Scripter', 'IRSEX': 1, 'EDUHIGHCAT': 4, 'AGE2': 1, 'IRALCRC': 3, 'IRALCFY': 50, 'CABINGEVR': 991, 'IRALCAGE': 20, 'TXYRRECVD2': 0, 'TXEVRRCVD2': 1, 'IRCIGRC': 1, 'CIGDLYMO': 91, 'CIGAGE': 22, 'TOBYR': 0, 'FUCIG18': 2, 'IRMJRC': 9, 'IRMJFY': 1, 'FUMJ18': 1, 'IRCOCRC': 3, 'IRCRKRC': 2, 'IRHERRC': 9, 'IRHALLUCREC': 2, 'IRLSDRC': 2, 'IRECSTMOREC': 3, 'IRINHALREC': 9, 'IRMETHAMREC': 9, 'ADDPREV': 94, 'ADDSCEV': 2, 'BOOKED': 1} \n",
      "\n",
      "IRMJFY 2  | {'NAME': 'Test Scripter', 'IRSEX': 1, 'EDUHIGHCAT': 2, 'AGE2': 3, 'IRALCRC': 1, 'IRALCFY': 12, 'CABINGEVR': 991, 'IRALCAGE': 14, 'TXYRRECVD2': 1, 'TXEVRRCVD2': 0, 'IRCIGRC': 1, 'CIGDLYMO': 91, 'CIGAGE': 994, 'TOBYR': 0, 'FUCIG18': 2, 'IRMJRC': 1, 'IRMJFY': 2, 'FUMJ18': 1, 'IRCOCRC': 1, 'IRCRKRC': 3, 'IRHERRC': 9, 'IRHALLUCREC': 1, 'IRLSDRC': 3, 'IRECSTMOREC': 3, 'IRINHALREC': 2, 'IRMETHAMREC': 1, 'ADDPREV': 1, 'ADDSCEV': 1, 'BOOKED': 2} \n",
      "\n",
      "IRMJFY 3  | {'NAME': 'Test Scripter', 'IRSEX': 1, 'EDUHIGHCAT': 3, 'AGE2': 17, 'IRALCRC': 2, 'IRALCFY': 50, 'CABINGEVR': 991, 'IRALCAGE': 21, 'TXYRRECVD2': 0, 'TXEVRRCVD2': 1, 'IRCIGRC': 2, 'CIGDLYMO': 2, 'CIGAGE': 999, 'TOBYR': 0, 'FUCIG18': 1, 'IRMJRC': 3, 'IRMJFY': 3, 'FUMJ18': 2, 'IRCOCRC': 1, 'IRCRKRC': 1, 'IRHERRC': 3, 'IRHALLUCREC': 2, 'IRLSDRC': 2, 'IRECSTMOREC': 3, 'IRINHALREC': 2, 'IRMETHAMREC': 1, 'ADDPREV': 1, 'ADDSCEV': 1, 'BOOKED': 94} \n",
      "\n",
      "IRMJFY 7  | {'NAME': 'Test Scripter', 'IRSEX': 2, 'EDUHIGHCAT': 1, 'AGE2': 3, 'IRALCRC': 1, 'IRALCFY': 300, 'CABINGEVR': 1, 'IRALCAGE': 20, 'TXYRRECVD2': 0, 'TXEVRRCVD2': 1, 'IRCIGRC': 9, 'CIGDLYMO': 1, 'CIGAGE': 99, 'TOBYR': 1, 'FUCIG18': 2, 'IRMJRC': 1, 'IRMJFY': 7, 'FUMJ18': 1, 'IRCOCRC': 9, 'IRCRKRC': 2, 'IRHERRC': 3, 'IRHALLUCREC': 9, 'IRLSDRC': 9, 'IRECSTMOREC': 2, 'IRINHALREC': 1, 'IRMETHAMREC': 9, 'ADDPREV': 94, 'ADDSCEV': 94, 'BOOKED': 2} \n",
      "\n",
      "IRMJFY 10  | {'NAME': 'Test Scripter', 'IRSEX': 2, 'EDUHIGHCAT': 4, 'AGE2': 16, 'IRALCRC': 3, 'IRALCFY': 300, 'CABINGEVR': 1, 'IRALCAGE': 17, 'TXYRRECVD2': 0, 'TXEVRRCVD2': 0, 'IRCIGRC': 4, 'CIGDLYMO': 1, 'CIGAGE': 991, 'TOBYR': 1, 'FUCIG18': 1, 'IRMJRC': 1, 'IRMJFY': 10, 'FUMJ18': 2, 'IRCOCRC': 9, 'IRCRKRC': 9, 'IRHERRC': 1, 'IRHALLUCREC': 2, 'IRLSDRC': 3, 'IRECSTMOREC': 1, 'IRINHALREC': 1, 'IRMETHAMREC': 2, 'ADDPREV': 94, 'ADDSCEV': 1, 'BOOKED': 97} \n",
      "\n",
      "IRMJFY 20  | {'NAME': 'Test Scripter', 'IRSEX': 2, 'EDUHIGHCAT': 3, 'AGE2': 10, 'IRALCRC': 3, 'IRALCFY': 50, 'CABINGEVR': 1, 'IRALCAGE': 991, 'TXYRRECVD2': 0, 'TXEVRRCVD2': 1, 'IRCIGRC': 3, 'CIGDLYMO': 2, 'CIGAGE': 17, 'TOBYR': 1, 'FUCIG18': 2, 'IRMJRC': 9, 'IRMJFY': 20, 'FUMJ18': 1, 'IRCOCRC': 3, 'IRCRKRC': 1, 'IRHERRC': 3, 'IRHALLUCREC': 3, 'IRLSDRC': 3, 'IRECSTMOREC': 2, 'IRINHALREC': 3, 'IRMETHAMREC': 9, 'ADDPREV': 2, 'ADDSCEV': 94, 'BOOKED': 1} \n",
      "\n",
      "IRMJFY 30  | {'NAME': 'Test Scripter', 'IRSEX': 1, 'EDUHIGHCAT': 4, 'AGE2': 7, 'IRALCRC': 2, 'IRALCFY': 993, 'CABINGEVR': 2, 'IRALCAGE': 100, 'TXYRRECVD2': 1, 'TXEVRRCVD2': 1, 'IRCIGRC': 2, 'CIGDLYMO': 1, 'CIGAGE': 19, 'TOBYR': 1, 'FUCIG18': 2, 'IRMJRC': 9, 'IRMJFY': 30, 'FUMJ18': 1, 'IRCOCRC': 9, 'IRCRKRC': 9, 'IRHERRC': 1, 'IRHALLUCREC': 1, 'IRLSDRC': 2, 'IRECSTMOREC': 3, 'IRINHALREC': 9, 'IRMETHAMREC': 3, 'ADDPREV': 1, 'ADDSCEV': 94, 'BOOKED': 1} \n",
      "\n",
      "IRMJFY 40  | {'NAME': 'Test Scripter', 'IRSEX': 1, 'EDUHIGHCAT': 3, 'AGE2': 16, 'IRALCRC': 2, 'IRALCFY': 1, 'CABINGEVR': 2, 'IRALCAGE': 991, 'TXYRRECVD2': 0, 'TXEVRRCVD2': 1, 'IRCIGRC': 2, 'CIGDLYMO': 2, 'CIGAGE': 30, 'TOBYR': 0, 'FUCIG18': 1, 'IRMJRC': 1, 'IRMJFY': 40, 'FUMJ18': 1, 'IRCOCRC': 2, 'IRCRKRC': 3, 'IRHERRC': 2, 'IRHALLUCREC': 2, 'IRLSDRC': 2, 'IRECSTMOREC': 2, 'IRINHALREC': 1, 'IRMETHAMREC': 2, 'ADDPREV': 94, 'ADDSCEV': 2, 'BOOKED': 94} \n",
      "\n",
      "IRMJFY 50  | {'NAME': 'Test Scripter', 'IRSEX': 2, 'EDUHIGHCAT': 3, 'AGE2': 17, 'IRALCRC': 9, 'IRALCFY': 12, 'CABINGEVR': 1, 'IRALCAGE': 100, 'TXYRRECVD2': 0, 'TXEVRRCVD2': 1, 'IRCIGRC': 3, 'CIGDLYMO': 1, 'CIGAGE': 20, 'TOBYR': 1, 'FUCIG18': 2, 'IRMJRC': 2, 'IRMJFY': 50, 'FUMJ18': 2, 'IRCOCRC': 2, 'IRCRKRC': 2, 'IRHERRC': 2, 'IRHALLUCREC': 9, 'IRLSDRC': 2, 'IRECSTMOREC': 3, 'IRINHALREC': 2, 'IRMETHAMREC': 9, 'ADDPREV': 94, 'ADDSCEV': 1, 'BOOKED': 97} \n",
      "\n",
      "IRMJFY 100  | {'NAME': 'Test Scripter', 'IRSEX': 1, 'EDUHIGHCAT': 3, 'AGE2': 14, 'IRALCRC': 3, 'IRALCFY': 300, 'CABINGEVR': 991, 'IRALCAGE': 991, 'TXYRRECVD2': 1, 'TXEVRRCVD2': 0, 'IRCIGRC': 4, 'CIGDLYMO': 2, 'CIGAGE': 30, 'TOBYR': 0, 'FUCIG18': 1, 'IRMJRC': 3, 'IRMJFY': 100, 'FUMJ18': 1, 'IRCOCRC': 9, 'IRCRKRC': 9, 'IRHERRC': 3, 'IRHALLUCREC': 1, 'IRLSDRC': 3, 'IRECSTMOREC': 3, 'IRINHALREC': 9, 'IRMETHAMREC': 2, 'ADDPREV': 94, 'ADDSCEV': 1, 'BOOKED': 94} \n",
      "\n",
      "IRMJFY 200  | {'NAME': 'Test Scripter', 'IRSEX': 1, 'EDUHIGHCAT': 2, 'AGE2': 6, 'IRALCRC': 2, 'IRALCFY': 100, 'CABINGEVR': 1, 'IRALCAGE': 991, 'TXYRRECVD2': 1, 'TXEVRRCVD2': 0, 'IRCIGRC': 1, 'CIGDLYMO': 91, 'CIGAGE': 13, 'TOBYR': 1, 'FUCIG18': 1, 'IRMJRC': 9, 'IRMJFY': 200, 'FUMJ18': 2, 'IRCOCRC': 1, 'IRCRKRC': 2, 'IRHERRC': 9, 'IRHALLUCREC': 3, 'IRLSDRC': 2, 'IRECSTMOREC': 2, 'IRINHALREC': 9, 'IRMETHAMREC': 1, 'ADDPREV': 2, 'ADDSCEV': 2, 'BOOKED': 2} \n",
      "\n",
      "IRMJFY 300  | {'NAME': 'Test Scripter', 'IRSEX': 2, 'EDUHIGHCAT': 2, 'AGE2': 15, 'IRALCRC': 2, 'IRALCFY': 993, 'CABINGEVR': 1, 'IRALCAGE': 14, 'TXYRRECVD2': 1, 'TXEVRRCVD2': 1, 'IRCIGRC': 3, 'CIGDLYMO': 1, 'CIGAGE': 18, 'TOBYR': 1, 'FUCIG18': 2, 'IRMJRC': 2, 'IRMJFY': 300, 'FUMJ18': 2, 'IRCOCRC': 9, 'IRCRKRC': 3, 'IRHERRC': 3, 'IRHALLUCREC': 9, 'IRLSDRC': 9, 'IRECSTMOREC': 1, 'IRINHALREC': 1, 'IRMETHAMREC': 2, 'ADDPREV': 1, 'ADDSCEV': 94, 'BOOKED': 1} \n",
      "\n",
      "IRMJFY 365  | {'NAME': 'Test Scripter', 'IRSEX': 2, 'EDUHIGHCAT': 4, 'AGE2': 4, 'IRALCRC': 3, 'IRALCFY': 300, 'CABINGEVR': 991, 'IRALCAGE': 100, 'TXYRRECVD2': 0, 'TXEVRRCVD2': 1, 'IRCIGRC': 1, 'CIGDLYMO': 2, 'CIGAGE': 10, 'TOBYR': 1, 'FUCIG18': 2, 'IRMJRC': 1, 'IRMJFY': 365, 'FUMJ18': 2, 'IRCOCRC': 9, 'IRCRKRC': 1, 'IRHERRC': 3, 'IRHALLUCREC': 1, 'IRLSDRC': 2, 'IRECSTMOREC': 9, 'IRINHALREC': 9, 'IRMETHAMREC': 9, 'ADDPREV': 94, 'ADDSCEV': 1, 'BOOKED': 2} \n",
      "\n",
      "FUMJ18 2  | {'NAME': 'Test Scripter', 'IRSEX': 2, 'EDUHIGHCAT': 5, 'AGE2': 15, 'IRALCRC': 3, 'IRALCFY': 993, 'CABINGEVR': 1, 'IRALCAGE': 100, 'TXYRRECVD2': 0, 'TXEVRRCVD2': 0, 'IRCIGRC': 4, 'CIGDLYMO': 1, 'CIGAGE': 40, 'TOBYR': 1, 'FUCIG18': 2, 'IRMJRC': 9, 'IRMJFY': 300, 'FUMJ18': 2, 'IRCOCRC': 1, 'IRCRKRC': 3, 'IRHERRC': 9, 'IRHALLUCREC': 9, 'IRLSDRC': 2, 'IRECSTMOREC': 1, 'IRINHALREC': 3, 'IRMETHAMREC': 9, 'ADDPREV': 1, 'ADDSCEV': 1, 'BOOKED': 2} \n",
      "\n",
      "FUMJ18 1  | {'NAME': 'Test Scripter', 'IRSEX': 2, 'EDUHIGHCAT': 4, 'AGE2': 10, 'IRALCRC': 9, 'IRALCFY': 12, 'CABINGEVR': 2, 'IRALCAGE': 991, 'TXYRRECVD2': 1, 'TXEVRRCVD2': 1, 'IRCIGRC': 1, 'CIGDLYMO': 91, 'CIGAGE': 994, 'TOBYR': 0, 'FUCIG18': 2, 'IRMJRC': 9, 'IRMJFY': 1, 'FUMJ18': 1, 'IRCOCRC': 9, 'IRCRKRC': 3, 'IRHERRC': 1, 'IRHALLUCREC': 3, 'IRLSDRC': 9, 'IRECSTMOREC': 2, 'IRINHALREC': 3, 'IRMETHAMREC': 1, 'ADDPREV': 94, 'ADDSCEV': 1, 'BOOKED': 2} \n",
      "\n",
      "IRCOCRC 9  | {'NAME': 'Test Scripter', 'IRSEX': 1, 'EDUHIGHCAT': 2, 'AGE2': 2, 'IRALCRC': 9, 'IRALCFY': 1, 'CABINGEVR': 991, 'IRALCAGE': 21, 'TXYRRECVD2': 1, 'TXEVRRCVD2': 0, 'IRCIGRC': 2, 'CIGDLYMO': 91, 'CIGAGE': 99, 'TOBYR': 0, 'FUCIG18': 1, 'IRMJRC': 9, 'IRMJFY': 10, 'FUMJ18': 1, 'IRCOCRC': 9, 'IRCRKRC': 2, 'IRHERRC': 3, 'IRHALLUCREC': 3, 'IRLSDRC': 2, 'IRECSTMOREC': 3, 'IRINHALREC': 3, 'IRMETHAMREC': 1, 'ADDPREV': 1, 'ADDSCEV': 94, 'BOOKED': 2} \n",
      "\n",
      "IRCOCRC 1  | {'NAME': 'Test Scripter', 'IRSEX': 2, 'EDUHIGHCAT': 5, 'AGE2': 1, 'IRALCRC': 3, 'IRALCFY': 993, 'CABINGEVR': 991, 'IRALCAGE': 991, 'TXYRRECVD2': 0, 'TXEVRRCVD2': 1, 'IRCIGRC': 1, 'CIGDLYMO': 1, 'CIGAGE': 40, 'TOBYR': 1, 'FUCIG18': 2, 'IRMJRC': 1, 'IRMJFY': 20, 'FUMJ18': 1, 'IRCOCRC': 1, 'IRCRKRC': 2, 'IRHERRC': 2, 'IRHALLUCREC': 1, 'IRLSDRC': 1, 'IRECSTMOREC': 1, 'IRINHALREC': 3, 'IRMETHAMREC': 2, 'ADDPREV': 94, 'ADDSCEV': 1, 'BOOKED': 1} \n",
      "\n",
      "IRCOCRC 2  | {'NAME': 'Test Scripter', 'IRSEX': 2, 'EDUHIGHCAT': 2, 'AGE2': 8, 'IRALCRC': 2, 'IRALCFY': 100, 'CABINGEVR': 1, 'IRALCAGE': 100, 'TXYRRECVD2': 1, 'TXEVRRCVD2': 1, 'IRCIGRC': 3, 'CIGDLYMO': 91, 'CIGAGE': 25, 'TOBYR': 1, 'FUCIG18': 1, 'IRMJRC': 1, 'IRMJFY': 30, 'FUMJ18': 1, 'IRCOCRC': 2, 'IRCRKRC': 9, 'IRHERRC': 3, 'IRHALLUCREC': 3, 'IRLSDRC': 1, 'IRECSTMOREC': 3, 'IRINHALREC': 1, 'IRMETHAMREC': 2, 'ADDPREV': 2, 'ADDSCEV': 2, 'BOOKED': 1} \n",
      "\n",
      "IRCOCRC 3  | {'NAME': 'Test Scripter', 'IRSEX': 2, 'EDUHIGHCAT': 5, 'AGE2': 16, 'IRALCRC': 2, 'IRALCFY': 300, 'CABINGEVR': 1, 'IRALCAGE': 991, 'TXYRRECVD2': 0, 'TXEVRRCVD2': 0, 'IRCIGRC': 1, 'CIGDLYMO': 1, 'CIGAGE': 994, 'TOBYR': 1, 'FUCIG18': 2, 'IRMJRC': 2, 'IRMJFY': 100, 'FUMJ18': 1, 'IRCOCRC': 3, 'IRCRKRC': 3, 'IRHERRC': 9, 'IRHALLUCREC': 1, 'IRLSDRC': 1, 'IRECSTMOREC': 3, 'IRINHALREC': 3, 'IRMETHAMREC': 3, 'ADDPREV': 94, 'ADDSCEV': 1, 'BOOKED': 97} \n",
      "\n",
      "IRCRKRC 9  | {'NAME': 'Test Scripter', 'IRSEX': 2, 'EDUHIGHCAT': 5, 'AGE2': 9, 'IRALCRC': 2, 'IRALCFY': 100, 'CABINGEVR': 2, 'IRALCAGE': 17, 'TXYRRECVD2': 1, 'TXEVRRCVD2': 1, 'IRCIGRC': 2, 'CIGDLYMO': 91, 'CIGAGE': 20, 'TOBYR': 0, 'FUCIG18': 1, 'IRMJRC': 9, 'IRMJFY': 3, 'FUMJ18': 2, 'IRCOCRC': 2, 'IRCRKRC': 9, 'IRHERRC': 2, 'IRHALLUCREC': 1, 'IRLSDRC': 1, 'IRECSTMOREC': 1, 'IRINHALREC': 9, 'IRMETHAMREC': 2, 'ADDPREV': 1, 'ADDSCEV': 94, 'BOOKED': 1} \n",
      "\n",
      "IRCRKRC 1  | {'NAME': 'Test Scripter', 'IRSEX': 2, 'EDUHIGHCAT': 4, 'AGE2': 1, 'IRALCRC': 2, 'IRALCFY': 1, 'CABINGEVR': 2, 'IRALCAGE': 991, 'TXYRRECVD2': 0, 'TXEVRRCVD2': 0, 'IRCIGRC': 2, 'CIGDLYMO': 1, 'CIGAGE': 30, 'TOBYR': 0, 'FUCIG18': 1, 'IRMJRC': 2, 'IRMJFY': 10, 'FUMJ18': 1, 'IRCOCRC': 2, 'IRCRKRC': 1, 'IRHERRC': 2, 'IRHALLUCREC': 9, 'IRLSDRC': 9, 'IRECSTMOREC': 2, 'IRINHALREC': 2, 'IRMETHAMREC': 2, 'ADDPREV': 2, 'ADDSCEV': 94, 'BOOKED': 97} \n",
      "\n",
      "IRCRKRC 2  | {'NAME': 'Test Scripter', 'IRSEX': 2, 'EDUHIGHCAT': 5, 'AGE2': 9, 'IRALCRC': 2, 'IRALCFY': 993, 'CABINGEVR': 2, 'IRALCAGE': 14, 'TXYRRECVD2': 0, 'TXEVRRCVD2': 0, 'IRCIGRC': 9, 'CIGDLYMO': 1, 'CIGAGE': 22, 'TOBYR': 0, 'FUCIG18': 1, 'IRMJRC': 2, 'IRMJFY': 200, 'FUMJ18': 2, 'IRCOCRC': 3, 'IRCRKRC': 2, 'IRHERRC': 9, 'IRHALLUCREC': 2, 'IRLSDRC': 3, 'IRECSTMOREC': 3, 'IRINHALREC': 2, 'IRMETHAMREC': 2, 'ADDPREV': 2, 'ADDSCEV': 94, 'BOOKED': 97} \n",
      "\n",
      "IRCRKRC 3  | {'NAME': 'Test Scripter', 'IRSEX': 1, 'EDUHIGHCAT': 2, 'AGE2': 11, 'IRALCRC': 2, 'IRALCFY': 993, 'CABINGEVR': 991, 'IRALCAGE': 991, 'TXYRRECVD2': 1, 'TXEVRRCVD2': 1, 'IRCIGRC': 2, 'CIGDLYMO': 91, 'CIGAGE': 15, 'TOBYR': 0, 'FUCIG18': 2, 'IRMJRC': 3, 'IRMJFY': 993, 'FUMJ18': 1, 'IRCOCRC': 1, 'IRCRKRC': 3, 'IRHERRC': 9, 'IRHALLUCREC': 1, 'IRLSDRC': 9, 'IRECSTMOREC': 3, 'IRINHALREC': 3, 'IRMETHAMREC': 1, 'ADDPREV': 2, 'ADDSCEV': 2, 'BOOKED': 97} \n",
      "\n",
      "IRHERRC 9  | {'NAME': 'Test Scripter', 'IRSEX': 2, 'EDUHIGHCAT': 2, 'AGE2': 1, 'IRALCRC': 1, 'IRALCFY': 993, 'CABINGEVR': 991, 'IRALCAGE': 17, 'TXYRRECVD2': 0, 'TXEVRRCVD2': 0, 'IRCIGRC': 9, 'CIGDLYMO': 2, 'CIGAGE': 30, 'TOBYR': 0, 'FUCIG18': 1, 'IRMJRC': 2, 'IRMJFY': 30, 'FUMJ18': 2, 'IRCOCRC': 2, 'IRCRKRC': 2, 'IRHERRC': 9, 'IRHALLUCREC': 3, 'IRLSDRC': 9, 'IRECSTMOREC': 9, 'IRINHALREC': 9, 'IRMETHAMREC': 1, 'ADDPREV': 2, 'ADDSCEV': 2, 'BOOKED': 2} \n",
      "\n",
      "IRHERRC 1  | {'NAME': 'Test Scripter', 'IRSEX': 2, 'EDUHIGHCAT': 4, 'AGE2': 3, 'IRALCRC': 2, 'IRALCFY': 100, 'CABINGEVR': 1, 'IRALCAGE': 20, 'TXYRRECVD2': 1, 'TXEVRRCVD2': 1, 'IRCIGRC': 9, 'CIGDLYMO': 91, 'CIGAGE': 99, 'TOBYR': 0, 'FUCIG18': 2, 'IRMJRC': 2, 'IRMJFY': 50, 'FUMJ18': 2, 'IRCOCRC': 9, 'IRCRKRC': 3, 'IRHERRC': 1, 'IRHALLUCREC': 1, 'IRLSDRC': 9, 'IRECSTMOREC': 2, 'IRINHALREC': 3, 'IRMETHAMREC': 9, 'ADDPREV': 2, 'ADDSCEV': 94, 'BOOKED': 94} \n",
      "\n",
      "IRHERRC 2  | {'NAME': 'Test Scripter', 'IRSEX': 2, 'EDUHIGHCAT': 2, 'AGE2': 6, 'IRALCRC': 9, 'IRALCFY': 12, 'CABINGEVR': 991, 'IRALCAGE': 20, 'TXYRRECVD2': 1, 'TXEVRRCVD2': 0, 'IRCIGRC': 4, 'CIGDLYMO': 2, 'CIGAGE': 20, 'TOBYR': 0, 'FUCIG18': 1, 'IRMJRC': 9, 'IRMJFY': 993, 'FUMJ18': 1, 'IRCOCRC': 9, 'IRCRKRC': 2, 'IRHERRC': 2, 'IRHALLUCREC': 1, 'IRLSDRC': 2, 'IRECSTMOREC': 2, 'IRINHALREC': 1, 'IRMETHAMREC': 3, 'ADDPREV': 94, 'ADDSCEV': 1, 'BOOKED': 94} \n",
      "\n",
      "IRHERRC 3  | {'NAME': 'Test Scripter', 'IRSEX': 1, 'EDUHIGHCAT': 2, 'AGE2': 11, 'IRALCRC': 3, 'IRALCFY': 100, 'CABINGEVR': 991, 'IRALCAGE': 991, 'TXYRRECVD2': 0, 'TXEVRRCVD2': 0, 'IRCIGRC': 4, 'CIGDLYMO': 91, 'CIGAGE': 17, 'TOBYR': 1, 'FUCIG18': 1, 'IRMJRC': 9, 'IRMJFY': 40, 'FUMJ18': 2, 'IRCOCRC': 9, 'IRCRKRC': 9, 'IRHERRC': 3, 'IRHALLUCREC': 1, 'IRLSDRC': 1, 'IRECSTMOREC': 1, 'IRINHALREC': 2, 'IRMETHAMREC': 1, 'ADDPREV': 94, 'ADDSCEV': 94, 'BOOKED': 1} \n",
      "\n",
      "IRHALLUCREC 9  | {'NAME': 'Test Scripter', 'IRSEX': 1, 'EDUHIGHCAT': 4, 'AGE2': 2, 'IRALCRC': 3, 'IRALCFY': 300, 'CABINGEVR': 991, 'IRALCAGE': 21, 'TXYRRECVD2': 1, 'TXEVRRCVD2': 0, 'IRCIGRC': 2, 'CIGDLYMO': 91, 'CIGAGE': 13, 'TOBYR': 1, 'FUCIG18': 1, 'IRMJRC': 3, 'IRMJFY': 993, 'FUMJ18': 1, 'IRCOCRC': 2, 'IRCRKRC': 2, 'IRHERRC': 3, 'IRHALLUCREC': 9, 'IRLSDRC': 3, 'IRECSTMOREC': 1, 'IRINHALREC': 3, 'IRMETHAMREC': 3, 'ADDPREV': 2, 'ADDSCEV': 1, 'BOOKED': 1} \n",
      "\n",
      "IRHALLUCREC 1  | {'NAME': 'Test Scripter', 'IRSEX': 1, 'EDUHIGHCAT': 4, 'AGE2': 5, 'IRALCRC': 3, 'IRALCFY': 12, 'CABINGEVR': 991, 'IRALCAGE': 17, 'TXYRRECVD2': 0, 'TXEVRRCVD2': 0, 'IRCIGRC': 3, 'CIGDLYMO': 1, 'CIGAGE': 18, 'TOBYR': 0, 'FUCIG18': 1, 'IRMJRC': 3, 'IRMJFY': 1, 'FUMJ18': 1, 'IRCOCRC': 9, 'IRCRKRC': 2, 'IRHERRC': 1, 'IRHALLUCREC': 1, 'IRLSDRC': 2, 'IRECSTMOREC': 9, 'IRINHALREC': 1, 'IRMETHAMREC': 2, 'ADDPREV': 1, 'ADDSCEV': 1, 'BOOKED': 94} \n",
      "\n",
      "IRHALLUCREC 2  | {'NAME': 'Test Scripter', 'IRSEX': 1, 'EDUHIGHCAT': 3, 'AGE2': 1, 'IRALCRC': 3, 'IRALCFY': 100, 'CABINGEVR': 1, 'IRALCAGE': 14, 'TXYRRECVD2': 1, 'TXEVRRCVD2': 0, 'IRCIGRC': 9, 'CIGDLYMO': 2, 'CIGAGE': 994, 'TOBYR': 1, 'FUCIG18': 2, 'IRMJRC': 3, 'IRMJFY': 200, 'FUMJ18': 1, 'IRCOCRC': 1, 'IRCRKRC': 2, 'IRHERRC': 3, 'IRHALLUCREC': 2, 'IRLSDRC': 1, 'IRECSTMOREC': 2, 'IRINHALREC': 3, 'IRMETHAMREC': 2, 'ADDPREV': 2, 'ADDSCEV': 2, 'BOOKED': 2} \n",
      "\n",
      "IRHALLUCREC 3  | {'NAME': 'Test Scripter', 'IRSEX': 2, 'EDUHIGHCAT': 5, 'AGE2': 7, 'IRALCRC': 3, 'IRALCFY': 12, 'CABINGEVR': 1, 'IRALCAGE': 21, 'TXYRRECVD2': 0, 'TXEVRRCVD2': 0, 'IRCIGRC': 1, 'CIGDLYMO': 91, 'CIGAGE': 15, 'TOBYR': 0, 'FUCIG18': 1, 'IRMJRC': 1, 'IRMJFY': 991, 'FUMJ18': 1, 'IRCOCRC': 1, 'IRCRKRC': 3, 'IRHERRC': 1, 'IRHALLUCREC': 3, 'IRLSDRC': 9, 'IRECSTMOREC': 9, 'IRINHALREC': 2, 'IRMETHAMREC': 3, 'ADDPREV': 94, 'ADDSCEV': 1, 'BOOKED': 94} \n",
      "\n",
      "IRLSDRC 9  | {'NAME': 'Test Scripter', 'IRSEX': 1, 'EDUHIGHCAT': 5, 'AGE2': 9, 'IRALCRC': 1, 'IRALCFY': 50, 'CABINGEVR': 2, 'IRALCAGE': 17, 'TXYRRECVD2': 1, 'TXEVRRCVD2': 1, 'IRCIGRC': 9, 'CIGDLYMO': 91, 'CIGAGE': 99, 'TOBYR': 0, 'FUCIG18': 2, 'IRMJRC': 1, 'IRMJFY': 991, 'FUMJ18': 2, 'IRCOCRC': 1, 'IRCRKRC': 3, 'IRHERRC': 9, 'IRHALLUCREC': 2, 'IRLSDRC': 9, 'IRECSTMOREC': 9, 'IRINHALREC': 1, 'IRMETHAMREC': 3, 'ADDPREV': 1, 'ADDSCEV': 2, 'BOOKED': 97} \n",
      "\n",
      "IRLSDRC 1  | {'NAME': 'Test Scripter', 'IRSEX': 2, 'EDUHIGHCAT': 4, 'AGE2': 2, 'IRALCRC': 2, 'IRALCFY': 1, 'CABINGEVR': 1, 'IRALCAGE': 14, 'TXYRRECVD2': 1, 'TXEVRRCVD2': 0, 'IRCIGRC': 2, 'CIGDLYMO': 2, 'CIGAGE': 999, 'TOBYR': 1, 'FUCIG18': 2, 'IRMJRC': 2, 'IRMJFY': 20, 'FUMJ18': 2, 'IRCOCRC': 1, 'IRCRKRC': 3, 'IRHERRC': 9, 'IRHALLUCREC': 9, 'IRLSDRC': 1, 'IRECSTMOREC': 3, 'IRINHALREC': 2, 'IRMETHAMREC': 1, 'ADDPREV': 1, 'ADDSCEV': 94, 'BOOKED': 2} \n",
      "\n",
      "IRLSDRC 2  | {'NAME': 'Test Scripter', 'IRSEX': 1, 'EDUHIGHCAT': 1, 'AGE2': 6, 'IRALCRC': 2, 'IRALCFY': 12, 'CABINGEVR': 1, 'IRALCAGE': 17, 'TXYRRECVD2': 1, 'TXEVRRCVD2': 1, 'IRCIGRC': 1, 'CIGDLYMO': 2, 'CIGAGE': 50, 'TOBYR': 1, 'FUCIG18': 1, 'IRMJRC': 2, 'IRMJFY': 7, 'FUMJ18': 2, 'IRCOCRC': 1, 'IRCRKRC': 3, 'IRHERRC': 9, 'IRHALLUCREC': 1, 'IRLSDRC': 2, 'IRECSTMOREC': 3, 'IRINHALREC': 2, 'IRMETHAMREC': 9, 'ADDPREV': 1, 'ADDSCEV': 1, 'BOOKED': 97} \n",
      "\n",
      "IRLSDRC 3  | {'NAME': 'Test Scripter', 'IRSEX': 1, 'EDUHIGHCAT': 5, 'AGE2': 7, 'IRALCRC': 1, 'IRALCFY': 12, 'CABINGEVR': 991, 'IRALCAGE': 14, 'TXYRRECVD2': 1, 'TXEVRRCVD2': 0, 'IRCIGRC': 1, 'CIGDLYMO': 1, 'CIGAGE': 22, 'TOBYR': 1, 'FUCIG18': 2, 'IRMJRC': 2, 'IRMJFY': 50, 'FUMJ18': 1, 'IRCOCRC': 3, 'IRCRKRC': 9, 'IRHERRC': 2, 'IRHALLUCREC': 2, 'IRLSDRC': 3, 'IRECSTMOREC': 2, 'IRINHALREC': 3, 'IRMETHAMREC': 2, 'ADDPREV': 94, 'ADDSCEV': 94, 'BOOKED': 94} \n",
      "\n",
      "IRECSTMOREC 9  | {'NAME': 'Test Scripter', 'IRSEX': 2, 'EDUHIGHCAT': 2, 'AGE2': 5, 'IRALCRC': 9, 'IRALCFY': 12, 'CABINGEVR': 1, 'IRALCAGE': 14, 'TXYRRECVD2': 0, 'TXEVRRCVD2': 0, 'IRCIGRC': 3, 'CIGDLYMO': 91, 'CIGAGE': 991, 'TOBYR': 1, 'FUCIG18': 1, 'IRMJRC': 1, 'IRMJFY': 50, 'FUMJ18': 2, 'IRCOCRC': 2, 'IRCRKRC': 9, 'IRHERRC': 9, 'IRHALLUCREC': 1, 'IRLSDRC': 1, 'IRECSTMOREC': 9, 'IRINHALREC': 3, 'IRMETHAMREC': 9, 'ADDPREV': 94, 'ADDSCEV': 2, 'BOOKED': 97} \n",
      "\n",
      "IRECSTMOREC 1  | {'NAME': 'Test Scripter', 'IRSEX': 2, 'EDUHIGHCAT': 4, 'AGE2': 3, 'IRALCRC': 9, 'IRALCFY': 300, 'CABINGEVR': 2, 'IRALCAGE': 14, 'TXYRRECVD2': 1, 'TXEVRRCVD2': 0, 'IRCIGRC': 9, 'CIGDLYMO': 2, 'CIGAGE': 994, 'TOBYR': 1, 'FUCIG18': 1, 'IRMJRC': 3, 'IRMJFY': 993, 'FUMJ18': 2, 'IRCOCRC': 1, 'IRCRKRC': 3, 'IRHERRC': 1, 'IRHALLUCREC': 9, 'IRLSDRC': 1, 'IRECSTMOREC': 1, 'IRINHALREC': 3, 'IRMETHAMREC': 3, 'ADDPREV': 2, 'ADDSCEV': 2, 'BOOKED': 2} \n",
      "\n",
      "IRECSTMOREC 2  | {'NAME': 'Test Scripter', 'IRSEX': 2, 'EDUHIGHCAT': 4, 'AGE2': 14, 'IRALCRC': 9, 'IRALCFY': 300, 'CABINGEVR': 1, 'IRALCAGE': 991, 'TXYRRECVD2': 1, 'TXEVRRCVD2': 0, 'IRCIGRC': 9, 'CIGDLYMO': 2, 'CIGAGE': 991, 'TOBYR': 1, 'FUCIG18': 1, 'IRMJRC': 3, 'IRMJFY': 200, 'FUMJ18': 1, 'IRCOCRC': 1, 'IRCRKRC': 1, 'IRHERRC': 9, 'IRHALLUCREC': 1, 'IRLSDRC': 1, 'IRECSTMOREC': 2, 'IRINHALREC': 1, 'IRMETHAMREC': 2, 'ADDPREV': 2, 'ADDSCEV': 94, 'BOOKED': 97} \n",
      "\n",
      "IRECSTMOREC 3  | {'NAME': 'Test Scripter', 'IRSEX': 2, 'EDUHIGHCAT': 4, 'AGE2': 14, 'IRALCRC': 3, 'IRALCFY': 300, 'CABINGEVR': 2, 'IRALCAGE': 991, 'TXYRRECVD2': 1, 'TXEVRRCVD2': 1, 'IRCIGRC': 1, 'CIGDLYMO': 1, 'CIGAGE': 18, 'TOBYR': 0, 'FUCIG18': 1, 'IRMJRC': 9, 'IRMJFY': 10, 'FUMJ18': 2, 'IRCOCRC': 2, 'IRCRKRC': 2, 'IRHERRC': 2, 'IRHALLUCREC': 1, 'IRLSDRC': 2, 'IRECSTMOREC': 3, 'IRINHALREC': 1, 'IRMETHAMREC': 1, 'ADDPREV': 2, 'ADDSCEV': 1, 'BOOKED': 2} \n",
      "\n",
      "IRINHALREC 9  | {'NAME': 'Test Scripter', 'IRSEX': 1, 'EDUHIGHCAT': 5, 'AGE2': 10, 'IRALCRC': 9, 'IRALCFY': 50, 'CABINGEVR': 991, 'IRALCAGE': 991, 'TXYRRECVD2': 0, 'TXEVRRCVD2': 0, 'IRCIGRC': 3, 'CIGDLYMO': 91, 'CIGAGE': 50, 'TOBYR': 1, 'FUCIG18': 2, 'IRMJRC': 3, 'IRMJFY': 300, 'FUMJ18': 1, 'IRCOCRC': 2, 'IRCRKRC': 3, 'IRHERRC': 3, 'IRHALLUCREC': 9, 'IRLSDRC': 3, 'IRECSTMOREC': 3, 'IRINHALREC': 9, 'IRMETHAMREC': 9, 'ADDPREV': 2, 'ADDSCEV': 94, 'BOOKED': 97} \n",
      "\n",
      "IRINHALREC 1  | {'NAME': 'Test Scripter', 'IRSEX': 2, 'EDUHIGHCAT': 2, 'AGE2': 5, 'IRALCRC': 3, 'IRALCFY': 991, 'CABINGEVR': 991, 'IRALCAGE': 21, 'TXYRRECVD2': 0, 'TXEVRRCVD2': 0, 'IRCIGRC': 4, 'CIGDLYMO': 2, 'CIGAGE': 991, 'TOBYR': 1, 'FUCIG18': 1, 'IRMJRC': 1, 'IRMJFY': 2, 'FUMJ18': 1, 'IRCOCRC': 9, 'IRCRKRC': 2, 'IRHERRC': 1, 'IRHALLUCREC': 2, 'IRLSDRC': 1, 'IRECSTMOREC': 9, 'IRINHALREC': 1, 'IRMETHAMREC': 9, 'ADDPREV': 94, 'ADDSCEV': 2, 'BOOKED': 97} \n",
      "\n",
      "IRINHALREC 2  | {'NAME': 'Test Scripter', 'IRSEX': 1, 'EDUHIGHCAT': 3, 'AGE2': 11, 'IRALCRC': 9, 'IRALCFY': 12, 'CABINGEVR': 2, 'IRALCAGE': 100, 'TXYRRECVD2': 1, 'TXEVRRCVD2': 0, 'IRCIGRC': 2, 'CIGDLYMO': 91, 'CIGAGE': 19, 'TOBYR': 1, 'FUCIG18': 2, 'IRMJRC': 2, 'IRMJFY': 200, 'FUMJ18': 1, 'IRCOCRC': 3, 'IRCRKRC': 2, 'IRHERRC': 3, 'IRHALLUCREC': 2, 'IRLSDRC': 2, 'IRECSTMOREC': 9, 'IRINHALREC': 2, 'IRMETHAMREC': 1, 'ADDPREV': 94, 'ADDSCEV': 2, 'BOOKED': 2} \n",
      "\n",
      "IRINHALREC 3  | {'NAME': 'Test Scripter', 'IRSEX': 2, 'EDUHIGHCAT': 3, 'AGE2': 15, 'IRALCRC': 9, 'IRALCFY': 993, 'CABINGEVR': 2, 'IRALCAGE': 17, 'TXYRRECVD2': 1, 'TXEVRRCVD2': 1, 'IRCIGRC': 2, 'CIGDLYMO': 1, 'CIGAGE': 999, 'TOBYR': 0, 'FUCIG18': 2, 'IRMJRC': 1, 'IRMJFY': 40, 'FUMJ18': 1, 'IRCOCRC': 1, 'IRCRKRC': 2, 'IRHERRC': 3, 'IRHALLUCREC': 1, 'IRLSDRC': 2, 'IRECSTMOREC': 3, 'IRINHALREC': 3, 'IRMETHAMREC': 2, 'ADDPREV': 94, 'ADDSCEV': 94, 'BOOKED': 2} \n",
      "\n",
      "IRMETHAMREC 9  | {'NAME': 'Test Scripter', 'IRSEX': 2, 'EDUHIGHCAT': 2, 'AGE2': 12, 'IRALCRC': 9, 'IRALCFY': 1, 'CABINGEVR': 1, 'IRALCAGE': 100, 'TXYRRECVD2': 1, 'TXEVRRCVD2': 0, 'IRCIGRC': 2, 'CIGDLYMO': 1, 'CIGAGE': 999, 'TOBYR': 1, 'FUCIG18': 1, 'IRMJRC': 9, 'IRMJFY': 1, 'FUMJ18': 1, 'IRCOCRC': 2, 'IRCRKRC': 2, 'IRHERRC': 9, 'IRHALLUCREC': 9, 'IRLSDRC': 1, 'IRECSTMOREC': 2, 'IRINHALREC': 2, 'IRMETHAMREC': 9, 'ADDPREV': 2, 'ADDSCEV': 1, 'BOOKED': 97} \n",
      "\n",
      "IRMETHAMREC 1  | {'NAME': 'Test Scripter', 'IRSEX': 2, 'EDUHIGHCAT': 2, 'AGE2': 4, 'IRALCRC': 9, 'IRALCFY': 991, 'CABINGEVR': 1, 'IRALCAGE': 21, 'TXYRRECVD2': 1, 'TXEVRRCVD2': 0, 'IRCIGRC': 2, 'CIGDLYMO': 1, 'CIGAGE': 20, 'TOBYR': 1, 'FUCIG18': 2, 'IRMJRC': 1, 'IRMJFY': 991, 'FUMJ18': 1, 'IRCOCRC': 9, 'IRCRKRC': 3, 'IRHERRC': 3, 'IRHALLUCREC': 1, 'IRLSDRC': 1, 'IRECSTMOREC': 9, 'IRINHALREC': 9, 'IRMETHAMREC': 1, 'ADDPREV': 2, 'ADDSCEV': 2, 'BOOKED': 97} \n",
      "\n",
      "IRMETHAMREC 2  | {'NAME': 'Test Scripter', 'IRSEX': 1, 'EDUHIGHCAT': 5, 'AGE2': 9, 'IRALCRC': 2, 'IRALCFY': 300, 'CABINGEVR': 2, 'IRALCAGE': 14, 'TXYRRECVD2': 0, 'TXEVRRCVD2': 0, 'IRCIGRC': 3, 'CIGDLYMO': 91, 'CIGAGE': 25, 'TOBYR': 0, 'FUCIG18': 1, 'IRMJRC': 3, 'IRMJFY': 3, 'FUMJ18': 1, 'IRCOCRC': 2, 'IRCRKRC': 9, 'IRHERRC': 3, 'IRHALLUCREC': 1, 'IRLSDRC': 1, 'IRECSTMOREC': 2, 'IRINHALREC': 9, 'IRMETHAMREC': 2, 'ADDPREV': 94, 'ADDSCEV': 2, 'BOOKED': 94} \n",
      "\n",
      "IRMETHAMREC 3  | {'NAME': 'Test Scripter', 'IRSEX': 1, 'EDUHIGHCAT': 3, 'AGE2': 2, 'IRALCRC': 9, 'IRALCFY': 100, 'CABINGEVR': 1, 'IRALCAGE': 14, 'TXYRRECVD2': 1, 'TXEVRRCVD2': 1, 'IRCIGRC': 1, 'CIGDLYMO': 2, 'CIGAGE': 19, 'TOBYR': 0, 'FUCIG18': 2, 'IRMJRC': 3, 'IRMJFY': 3, 'FUMJ18': 2, 'IRCOCRC': 1, 'IRCRKRC': 9, 'IRHERRC': 2, 'IRHALLUCREC': 1, 'IRLSDRC': 9, 'IRECSTMOREC': 9, 'IRINHALREC': 1, 'IRMETHAMREC': 3, 'ADDPREV': 94, 'ADDSCEV': 1, 'BOOKED': 94} \n",
      "\n",
      "ADDPREV 1  | {'NAME': 'Test Scripter', 'IRSEX': 2, 'EDUHIGHCAT': 1, 'AGE2': 8, 'IRALCRC': 9, 'IRALCFY': 1, 'CABINGEVR': 991, 'IRALCAGE': 17, 'TXYRRECVD2': 1, 'TXEVRRCVD2': 1, 'IRCIGRC': 4, 'CIGDLYMO': 1, 'CIGAGE': 50, 'TOBYR': 1, 'FUCIG18': 2, 'IRMJRC': 1, 'IRMJFY': 50, 'FUMJ18': 2, 'IRCOCRC': 2, 'IRCRKRC': 1, 'IRHERRC': 1, 'IRHALLUCREC': 2, 'IRLSDRC': 3, 'IRECSTMOREC': 1, 'IRINHALREC': 1, 'IRMETHAMREC': 3, 'ADDPREV': 1, 'ADDSCEV': 94, 'BOOKED': 94} \n",
      "\n",
      "ADDPREV 2  | {'NAME': 'Test Scripter', 'IRSEX': 1, 'EDUHIGHCAT': 2, 'AGE2': 16, 'IRALCRC': 9, 'IRALCFY': 50, 'CABINGEVR': 2, 'IRALCAGE': 100, 'TXYRRECVD2': 0, 'TXEVRRCVD2': 1, 'IRCIGRC': 1, 'CIGDLYMO': 91, 'CIGAGE': 10, 'TOBYR': 1, 'FUCIG18': 2, 'IRMJRC': 9, 'IRMJFY': 3, 'FUMJ18': 2, 'IRCOCRC': 9, 'IRCRKRC': 1, 'IRHERRC': 1, 'IRHALLUCREC': 3, 'IRLSDRC': 1, 'IRECSTMOREC': 9, 'IRINHALREC': 9, 'IRMETHAMREC': 1, 'ADDPREV': 2, 'ADDSCEV': 2, 'BOOKED': 1} \n",
      "\n",
      "ADDPREV 94  | {'NAME': 'Test Scripter', 'IRSEX': 2, 'EDUHIGHCAT': 2, 'AGE2': 9, 'IRALCRC': 1, 'IRALCFY': 12, 'CABINGEVR': 991, 'IRALCAGE': 20, 'TXYRRECVD2': 1, 'TXEVRRCVD2': 1, 'IRCIGRC': 3, 'CIGDLYMO': 91, 'CIGAGE': 30, 'TOBYR': 0, 'FUCIG18': 2, 'IRMJRC': 1, 'IRMJFY': 993, 'FUMJ18': 2, 'IRCOCRC': 3, 'IRCRKRC': 2, 'IRHERRC': 1, 'IRHALLUCREC': 1, 'IRLSDRC': 3, 'IRECSTMOREC': 1, 'IRINHALREC': 3, 'IRMETHAMREC': 1, 'ADDPREV': 94, 'ADDSCEV': 1, 'BOOKED': 97} \n",
      "\n",
      "ADDSCEV 1  | {'NAME': 'Test Scripter', 'IRSEX': 1, 'EDUHIGHCAT': 5, 'AGE2': 5, 'IRALCRC': 3, 'IRALCFY': 993, 'CABINGEVR': 2, 'IRALCAGE': 20, 'TXYRRECVD2': 1, 'TXEVRRCVD2': 1, 'IRCIGRC': 4, 'CIGDLYMO': 2, 'CIGAGE': 13, 'TOBYR': 1, 'FUCIG18': 2, 'IRMJRC': 3, 'IRMJFY': 1, 'FUMJ18': 2, 'IRCOCRC': 1, 'IRCRKRC': 1, 'IRHERRC': 9, 'IRHALLUCREC': 3, 'IRLSDRC': 3, 'IRECSTMOREC': 1, 'IRINHALREC': 2, 'IRMETHAMREC': 3, 'ADDPREV': 2, 'ADDSCEV': 1, 'BOOKED': 2} \n",
      "\n",
      "ADDSCEV 2  | {'NAME': 'Test Scripter', 'IRSEX': 2, 'EDUHIGHCAT': 4, 'AGE2': 10, 'IRALCRC': 9, 'IRALCFY': 100, 'CABINGEVR': 1, 'IRALCAGE': 17, 'TXYRRECVD2': 1, 'TXEVRRCVD2': 0, 'IRCIGRC': 4, 'CIGDLYMO': 2, 'CIGAGE': 15, 'TOBYR': 1, 'FUCIG18': 2, 'IRMJRC': 2, 'IRMJFY': 1, 'FUMJ18': 1, 'IRCOCRC': 2, 'IRCRKRC': 2, 'IRHERRC': 2, 'IRHALLUCREC': 1, 'IRLSDRC': 2, 'IRECSTMOREC': 3, 'IRINHALREC': 1, 'IRMETHAMREC': 3, 'ADDPREV': 1, 'ADDSCEV': 2, 'BOOKED': 2} \n",
      "\n",
      "ADDSCEV 94  | {'NAME': 'Test Scripter', 'IRSEX': 2, 'EDUHIGHCAT': 3, 'AGE2': 15, 'IRALCRC': 9, 'IRALCFY': 991, 'CABINGEVR': 991, 'IRALCAGE': 21, 'TXYRRECVD2': 0, 'TXEVRRCVD2': 1, 'IRCIGRC': 4, 'CIGDLYMO': 91, 'CIGAGE': 22, 'TOBYR': 1, 'FUCIG18': 1, 'IRMJRC': 1, 'IRMJFY': 7, 'FUMJ18': 1, 'IRCOCRC': 9, 'IRCRKRC': 1, 'IRHERRC': 2, 'IRHALLUCREC': 3, 'IRLSDRC': 2, 'IRECSTMOREC': 3, 'IRINHALREC': 9, 'IRMETHAMREC': 3, 'ADDPREV': 1, 'ADDSCEV': 94, 'BOOKED': 97} \n",
      "\n",
      "BOOKED 1  | {'NAME': 'Test Scripter', 'IRSEX': 1, 'EDUHIGHCAT': 2, 'AGE2': 17, 'IRALCRC': 9, 'IRALCFY': 991, 'CABINGEVR': 991, 'IRALCAGE': 20, 'TXYRRECVD2': 1, 'TXEVRRCVD2': 0, 'IRCIGRC': 1, 'CIGDLYMO': 1, 'CIGAGE': 991, 'TOBYR': 1, 'FUCIG18': 2, 'IRMJRC': 2, 'IRMJFY': 20, 'FUMJ18': 1, 'IRCOCRC': 3, 'IRCRKRC': 2, 'IRHERRC': 2, 'IRHALLUCREC': 9, 'IRLSDRC': 1, 'IRECSTMOREC': 9, 'IRINHALREC': 2, 'IRMETHAMREC': 1, 'ADDPREV': 94, 'ADDSCEV': 94, 'BOOKED': 1} \n",
      "\n",
      "BOOKED 2  | {'NAME': 'Test Scripter', 'IRSEX': 2, 'EDUHIGHCAT': 3, 'AGE2': 9, 'IRALCRC': 9, 'IRALCFY': 991, 'CABINGEVR': 991, 'IRALCAGE': 14, 'TXYRRECVD2': 0, 'TXEVRRCVD2': 1, 'IRCIGRC': 1, 'CIGDLYMO': 1, 'CIGAGE': 20, 'TOBYR': 1, 'FUCIG18': 1, 'IRMJRC': 3, 'IRMJFY': 2, 'FUMJ18': 2, 'IRCOCRC': 2, 'IRCRKRC': 2, 'IRHERRC': 9, 'IRHALLUCREC': 1, 'IRLSDRC': 9, 'IRECSTMOREC': 9, 'IRINHALREC': 9, 'IRMETHAMREC': 1, 'ADDPREV': 2, 'ADDSCEV': 1, 'BOOKED': 2} \n",
      "\n",
      "BOOKED 94  | {'NAME': 'Test Scripter', 'IRSEX': 1, 'EDUHIGHCAT': 2, 'AGE2': 11, 'IRALCRC': 2, 'IRALCFY': 12, 'CABINGEVR': 1, 'IRALCAGE': 17, 'TXYRRECVD2': 0, 'TXEVRRCVD2': 1, 'IRCIGRC': 4, 'CIGDLYMO': 1, 'CIGAGE': 994, 'TOBYR': 0, 'FUCIG18': 2, 'IRMJRC': 3, 'IRMJFY': 991, 'FUMJ18': 2, 'IRCOCRC': 1, 'IRCRKRC': 2, 'IRHERRC': 1, 'IRHALLUCREC': 9, 'IRLSDRC': 2, 'IRECSTMOREC': 3, 'IRINHALREC': 1, 'IRMETHAMREC': 2, 'ADDPREV': 1, 'ADDSCEV': 94, 'BOOKED': 94} \n",
      "\n",
      "BOOKED 97  | {'NAME': 'Test Scripter', 'IRSEX': 2, 'EDUHIGHCAT': 5, 'AGE2': 9, 'IRALCRC': 9, 'IRALCFY': 12, 'CABINGEVR': 991, 'IRALCAGE': 100, 'TXYRRECVD2': 0, 'TXEVRRCVD2': 0, 'IRCIGRC': 4, 'CIGDLYMO': 91, 'CIGAGE': 22, 'TOBYR': 1, 'FUCIG18': 1, 'IRMJRC': 1, 'IRMJFY': 40, 'FUMJ18': 2, 'IRCOCRC': 3, 'IRCRKRC': 2, 'IRHERRC': 2, 'IRHALLUCREC': 9, 'IRLSDRC': 1, 'IRECSTMOREC': 1, 'IRINHALREC': 2, 'IRMETHAMREC': 9, 'ADDPREV': 94, 'ADDSCEV': 94, 'BOOKED': 97} \n",
      "\n",
      "Total Test Cases: 140\n"
     ]
    }
   ],
   "source": [
    "#Now generate all combinations for our full dictionary\n",
    "inputDict = dict()\n",
    "numTests = 0\n",
    "\n",
    "for k in allChoicesDict:\n",
    "    for item in allChoicesDict[k]:\n",
    "        print(k, item, ' | ', end='')\n",
    "        \n",
    "        for k2 in allChoicesDict:\n",
    "            if k2 == k:  #Intentionally pick the item in the loop\n",
    "                inputDict[k2] = item\n",
    "            else:  #Pick a random item\n",
    "                inputDict[k2] = random.choice(allChoicesDict[k2])\n",
    "                \n",
    "        numTests+=1\n",
    "        print(inputDict,'\\n')\n",
    "        \n",
    "print('Total Test Cases:', numTests)"
   ]
  },
  {
   "cell_type": "markdown",
   "metadata": {},
   "source": [
    "# 2. Run Tests\n",
    "\n",
    "## 2.1 Test Simple Case"
   ]
  },
  {
   "cell_type": "code",
   "execution_count": 77,
   "metadata": {},
   "outputs": [
    {
     "data": {
      "text/plain": [
       "{'NAME': ['Test Scripter'],\n",
       " 'IRSEX': [1],\n",
       " 'EDUHIGHCAT': [3],\n",
       " 'AGE2': [10],\n",
       " 'IRALCRC': [1],\n",
       " 'IRALCFY': [12],\n",
       " 'CABINGEVR': [2],\n",
       " 'IRALCAGE': [17],\n",
       " 'TXYRRECVD2': [1],\n",
       " 'TXEVRRCVD2': [0],\n",
       " 'IRCIGRC': [2],\n",
       " 'CIGDLYMO': [91],\n",
       " 'CIGAGE': [18],\n",
       " 'TOBYR': [0],\n",
       " 'FUCIG18': [1],\n",
       " 'IRMJRC': [3],\n",
       " 'IRMJFY': [40],\n",
       " 'FUMJ18': [2],\n",
       " 'IRCOCRC': [1],\n",
       " 'IRCRKRC': [1],\n",
       " 'IRHERRC': [1],\n",
       " 'IRHALLUCREC': [2],\n",
       " 'IRLSDRC': [2],\n",
       " 'IRECSTMOREC': [3],\n",
       " 'IRINHALREC': [3],\n",
       " 'IRMETHAMREC': [2],\n",
       " 'ADDPREV': [1],\n",
       " 'ADDSCEV': [1],\n",
       " 'BOOKED': [1]}"
      ]
     },
     "execution_count": 77,
     "metadata": {},
     "output_type": "execute_result"
    }
   ],
   "source": [
    "limChoicesDict = {'NAME':['Test Scripter'],\n",
    "                  'IRSEX':[1,],\n",
    "                  'EDUHIGHCAT':[3],\n",
    "                  'AGE2':[10],\n",
    "                  'IRALCRC':[1],\n",
    "                  'IRALCFY':[12],\n",
    "                  'CABINGEVR':[2],\n",
    "                  'IRALCAGE':[17],\n",
    "                  'TXYRRECVD2':[1],\n",
    "                  'TXEVRRCVD2':[0],\n",
    "                  'IRCIGRC':[2],\n",
    "                  'CIGDLYMO':[91],\n",
    "                  'CIGAGE':[18],\n",
    "                  'TOBYR':[0],\n",
    "                  'FUCIG18':[1],\n",
    "                  'IRMJRC':[3],\n",
    "                  'IRMJFY':[40],\n",
    "                  'FUMJ18':[2],\n",
    "                  'IRCOCRC':[1],\n",
    "                  'IRCRKRC':[1],\n",
    "                  'IRHERRC':[1],\n",
    "                  'IRHALLUCREC':[2],\n",
    "                  'IRLSDRC':[2],\n",
    "                  'IRECSTMOREC':[3],\n",
    "                  'IRINHALREC':[3],\n",
    "                  'IRMETHAMREC':[2],\n",
    "                  'ADDPREV':[1],\n",
    "                  'ADDSCEV':[1],\n",
    "                  'BOOKED':[1],\n",
    "                 }\n",
    "\n",
    "limChoicesDict"
   ]
  },
  {
   "cell_type": "code",
   "execution_count": null,
   "metadata": {},
   "outputs": [],
   "source": []
  },
  {
   "cell_type": "code",
   "execution_count": 81,
   "metadata": {},
   "outputs": [
    {
     "name": "stdout",
     "output_type": "stream",
     "text": [
      "NAME Test Scripter  | TEST 0\n",
      "\n",
      "{'NAME': 'Test Scripter', 'IRSEX': 2, 'EDUHIGHCAT': 1, 'AGE2': 10, 'IRALCRC': 1, 'IRALCFY': 991, 'CABINGEVR': 1, 'IRALCAGE': 991, 'TXYRRECVD2': 1, 'TXEVRRCVD2': 1, 'IRCIGRC': 1, 'CIGDLYMO': 2, 'CIGAGE': 999, 'TOBYR': 0, 'FUCIG18': 2, 'IRMJRC': 2, 'IRMJFY': 7, 'FUMJ18': 2, 'IRCOCRC': 9, 'IRCRKRC': 9, 'IRHERRC': 1, 'IRHALLUCREC': 3, 'IRLSDRC': 9, 'IRECSTMOREC': 9, 'IRINHALREC': 2, 'IRMETHAMREC': 1, 'ADDPREV': 1, 'ADDSCEV': 1, 'BOOKED': 1}\n"
     ]
    },
    {
     "name": "stderr",
     "output_type": "stream",
     "text": [
      "  0%|                                                                                            | 0/1 [00:00<?, ?it/s]C:\\Users\\camke\\Anaconda3\\lib\\site-packages\\shap\\explainers\\kernel.py:535: UserWarning: l1_reg=\"auto\" is deprecated and in the next version (v0.29) the behavior will change from a conditional use of AIC to simply \"num_features(10)\"!\n",
      "  \"l1_reg=\\\"auto\\\" is deprecated and in the next version (v0.29) the behavior will change from a \" \\\n",
      "C:\\Users\\camke\\Anaconda3\\lib\\site-packages\\shap\\explainers\\kernel.py:535: UserWarning: l1_reg=\"auto\" is deprecated and in the next version (v0.29) the behavior will change from a conditional use of AIC to simply \"num_features(10)\"!\n",
      "  \"l1_reg=\\\"auto\\\" is deprecated and in the next version (v0.29) the behavior will change from a \" \\\n",
      "100%|████████████████████████████████████████████████████████████████████████████████████| 1/1 [00:02<00:00,  2.31s/it]\n"
     ]
    },
    {
     "name": "stdout",
     "output_type": "stream",
     "text": [
      "Predicted Probability: 91.892%\n",
      "Percentile of Predicted Probability: 99.700%\n",
      "Feature Importance (sorted low to high): {'ADDSCEV': -0.0762037248131493, 'ADDPREV': -0.05096954550981836, 'BOOKED': 0.0, 'CIGDLYMO': 0.0, 'FUCIG18': 0.0, 'FUMJ18': 0.0, 'IRALCFY': 0.0, 'IRCRKRC': 0.0, 'IRLSDRC': 0.0, 'IRMJFY': 0.0, 'IRSEX': 0.0, 'TXEVRRCVD2': 0.0, 'CABINGEVR': 0.0046941405005545, 'TOBYR': 0.004730145138579167, 'IRECSTMOREC': 0.005291631707377342, 'IRCOCRC': 0.006588496853061648, 'IRHALLUCREC': 0.006867455097368302, 'IRALCAGE': 0.011091263010855446, 'IRALCRC': 0.012068622657226746, 'IRCIGRC': 0.01774638153943081, 'IRMJRC': 0.03317419330391208, 'EDUHIGHCAT': 0.043479861158037814, 'AGE2': 0.04728677544120152, 'CIGAGE': 0.06215698557348498, 'TXYRRECVD2': 0.0736665731297167, 'IRMETHAMREC': 0.08549192132747985, 'IRINHALREC': 0.11503197277110605, 'IRHERRC': 0.3542787780447266}\n",
      "\n",
      "IRSEX 1  | TEST 1\n",
      "\n",
      "{'NAME': 'Test Scripter', 'IRSEX': 1, 'EDUHIGHCAT': 2, 'AGE2': 15, 'IRALCRC': 2, 'IRALCFY': 12, 'CABINGEVR': 991, 'IRALCAGE': 100, 'TXYRRECVD2': 0, 'TXEVRRCVD2': 0, 'IRCIGRC': 2, 'CIGDLYMO': 1, 'CIGAGE': 18, 'TOBYR': 1, 'FUCIG18': 1, 'IRMJRC': 3, 'IRMJFY': 40, 'FUMJ18': 1, 'IRCOCRC': 3, 'IRCRKRC': 1, 'IRHERRC': 3, 'IRHALLUCREC': 3, 'IRLSDRC': 1, 'IRECSTMOREC': 2, 'IRINHALREC': 1, 'IRMETHAMREC': 9, 'ADDPREV': 94, 'ADDSCEV': 2, 'BOOKED': 97}\n"
     ]
    },
    {
     "name": "stderr",
     "output_type": "stream",
     "text": [
      "  0%|                                                                                            | 0/1 [00:00<?, ?it/s]C:\\Users\\camke\\Anaconda3\\lib\\site-packages\\shap\\explainers\\kernel.py:535: UserWarning: l1_reg=\"auto\" is deprecated and in the next version (v0.29) the behavior will change from a conditional use of AIC to simply \"num_features(10)\"!\n",
      "  \"l1_reg=\\\"auto\\\" is deprecated and in the next version (v0.29) the behavior will change from a \" \\\n",
      "C:\\Users\\camke\\Anaconda3\\lib\\site-packages\\shap\\explainers\\kernel.py:535: UserWarning: l1_reg=\"auto\" is deprecated and in the next version (v0.29) the behavior will change from a conditional use of AIC to simply \"num_features(10)\"!\n",
      "  \"l1_reg=\\\"auto\\\" is deprecated and in the next version (v0.29) the behavior will change from a \" \\\n",
      "100%|████████████████████████████████████████████████████████████████████████████████████| 1/1 [00:02<00:00,  2.35s/it]\n"
     ]
    },
    {
     "name": "stdout",
     "output_type": "stream",
     "text": [
      "Predicted Probability: 47.761%\n",
      "Percentile of Predicted Probability: 93.285%\n",
      "Feature Importance (sorted low to high): {'BOOKED': -0.07976332004263317, 'ADDSCEV': -0.062295808826107996, 'IRCRKRC': -0.04871664315225416, 'IRLSDRC': -0.04106816468472255, 'IRALCAGE': -0.039887830310527755, 'IRCIGRC': -0.03423741156800775, 'AGE2': -0.03248791330054232, 'TOBYR': -0.013595061749702042, 'IRMJRC': -0.008913073064317503, 'CIGDLYMO': 0.0, 'IRMETHAMREC': 0.0, 'TXEVRRCVD2': 0.0, 'TXYRRECVD2': 0.0, 'IRALCRC': 0.0037746444015650527, 'CIGAGE': 0.004842250810069421, 'FUMJ18': 0.006458580117874396, 'CABINGEVR': 0.00996942731729289, 'IRALCFY': 0.012481054346684367, 'IRSEX': 0.012812953928320575, 'FUCIG18': 0.013129044704337178, 'IRHALLUCREC': 0.016406710630239962, 'IRMJFY': 0.019328492099318362, 'EDUHIGHCAT': 0.020761686059145912, 'IRCOCRC': 0.03230725640707588, 'IRECSTMOREC': 0.03978315368842403, 'IRHERRC': 0.0961861949995497, 'IRINHALREC': 0.10057903094769205, 'ADDPREV': 0.28730969455196587}\n",
      "\n",
      "IRSEX 2  | TEST 2\n",
      "\n",
      "{'NAME': 'Test Scripter', 'IRSEX': 2, 'EDUHIGHCAT': 1, 'AGE2': 7, 'IRALCRC': 2, 'IRALCFY': 993, 'CABINGEVR': 1, 'IRALCAGE': 100, 'TXYRRECVD2': 0, 'TXEVRRCVD2': 1, 'IRCIGRC': 3, 'CIGDLYMO': 2, 'CIGAGE': 17, 'TOBYR': 0, 'FUCIG18': 1, 'IRMJRC': 9, 'IRMJFY': 993, 'FUMJ18': 2, 'IRCOCRC': 9, 'IRCRKRC': 3, 'IRHERRC': 2, 'IRHALLUCREC': 1, 'IRLSDRC': 3, 'IRECSTMOREC': 2, 'IRINHALREC': 3, 'IRMETHAMREC': 3, 'ADDPREV': 1, 'ADDSCEV': 1, 'BOOKED': 1}\n"
     ]
    },
    {
     "name": "stderr",
     "output_type": "stream",
     "text": [
      "  0%|                                                                                            | 0/1 [00:00<?, ?it/s]C:\\Users\\camke\\Anaconda3\\lib\\site-packages\\shap\\explainers\\kernel.py:535: UserWarning: l1_reg=\"auto\" is deprecated and in the next version (v0.29) the behavior will change from a conditional use of AIC to simply \"num_features(10)\"!\n",
      "  \"l1_reg=\\\"auto\\\" is deprecated and in the next version (v0.29) the behavior will change from a \" \\\n",
      "C:\\Users\\camke\\Anaconda3\\lib\\site-packages\\shap\\explainers\\kernel.py:535: UserWarning: l1_reg=\"auto\" is deprecated and in the next version (v0.29) the behavior will change from a conditional use of AIC to simply \"num_features(10)\"!\n",
      "  \"l1_reg=\\\"auto\\\" is deprecated and in the next version (v0.29) the behavior will change from a \" \\\n",
      "100%|████████████████████████████████████████████████████████████████████████████████████| 1/1 [00:02<00:00,  2.38s/it]\n"
     ]
    },
    {
     "name": "stdout",
     "output_type": "stream",
     "text": [
      "Predicted Probability: 46.352%\n",
      "Percentile of Predicted Probability: 91.923%\n",
      "Feature Importance (sorted low to high): {'ADDSCEV': -0.08525183532997943, 'IRCIGRC': -0.07205580430700954, 'ADDPREV': -0.05513813867561443, 'IRALCAGE': -0.03927685114969537, 'CIGAGE': -0.024724357411936848, 'IRMJRC': -0.02049581106579937, 'IRCOCRC': -0.013201246017974594, 'FUMJ18': -0.01231143923277278, 'BOOKED': -0.01103590747494887, 'IRSEX': -0.010624170735585942, 'CIGDLYMO': 0.0, 'IRALCFY': 0.0, 'IRMJFY': 0.0, 'TXEVRRCVD2': 0.0, 'TXYRRECVD2': 0.0, 'IRALCRC': 0.001695611267082009, 'IRLSDRC': 0.006321197518182137, 'IRCRKRC': 0.009474801373536151, 'CABINGEVR': 0.009624225739929215, 'TOBYR': 0.012442787864206273, 'FUCIG18': 0.013977319407343425, 'IRMETHAMREC': 0.021096213786380907, 'IRECSTMOREC': 0.04730312466450953, 'IRINHALREC': 0.05721772095506314, 'AGE2': 0.06227013022796818, 'EDUHIGHCAT': 0.06620835976861289, 'IRHALLUCREC': 0.08142604089291122, 'IRHERRC': 0.25613034925254613}\n",
      "\n",
      "EDUHIGHCAT 1  | TEST 3\n",
      "\n",
      "{'NAME': 'Test Scripter', 'IRSEX': 1, 'EDUHIGHCAT': 1, 'AGE2': 2, 'IRALCRC': 2, 'IRALCFY': 100, 'CABINGEVR': 991, 'IRALCAGE': 14, 'TXYRRECVD2': 0, 'TXEVRRCVD2': 0, 'IRCIGRC': 4, 'CIGDLYMO': 91, 'CIGAGE': 13, 'TOBYR': 0, 'FUCIG18': 1, 'IRMJRC': 2, 'IRMJFY': 20, 'FUMJ18': 2, 'IRCOCRC': 1, 'IRCRKRC': 9, 'IRHERRC': 3, 'IRHALLUCREC': 1, 'IRLSDRC': 2, 'IRECSTMOREC': 1, 'IRINHALREC': 1, 'IRMETHAMREC': 1, 'ADDPREV': 1, 'ADDSCEV': 94, 'BOOKED': 97}\n"
     ]
    },
    {
     "name": "stderr",
     "output_type": "stream",
     "text": [
      "  0%|                                                                                            | 0/1 [00:00<?, ?it/s]C:\\Users\\camke\\Anaconda3\\lib\\site-packages\\shap\\explainers\\kernel.py:535: UserWarning: l1_reg=\"auto\" is deprecated and in the next version (v0.29) the behavior will change from a conditional use of AIC to simply \"num_features(10)\"!\n",
      "  \"l1_reg=\\\"auto\\\" is deprecated and in the next version (v0.29) the behavior will change from a \" \\\n",
      "C:\\Users\\camke\\Anaconda3\\lib\\site-packages\\shap\\explainers\\kernel.py:535: UserWarning: l1_reg=\"auto\" is deprecated and in the next version (v0.29) the behavior will change from a conditional use of AIC to simply \"num_features(10)\"!\n",
      "  \"l1_reg=\\\"auto\\\" is deprecated and in the next version (v0.29) the behavior will change from a \" \\\n",
      "100%|████████████████████████████████████████████████████████████████████████████████████| 1/1 [00:02<00:00,  2.36s/it]\n"
     ]
    },
    {
     "name": "stdout",
     "output_type": "stream",
     "text": [
      "Predicted Probability: 27.047%\n",
      "Percentile of Predicted Probability: 82.184%\n",
      "Feature Importance (sorted low to high): {'ADDSCEV': -0.3496424053472551, 'IRCIGRC': -0.07403935291013913, 'BOOKED': -0.06474963114955101, 'ADDPREV': -0.04734430662121509, 'CIGAGE': -0.020172405441452997, 'CIGDLYMO': 0.0, 'FUMJ18': 0.0, 'IRCRKRC': 0.0, 'TXYRRECVD2': 0.0, 'IRALCRC': 0.0025471477335773235, 'TXEVRRCVD2': 0.003173248988315336, 'IRALCAGE': 0.004837782360121064, 'CABINGEVR': 0.004883524120552332, 'IRMJFY': 0.009295475516712615, 'TOBYR': 0.01025724208202048, 'FUCIG18': 0.010649983892200884, 'IRSEX': 0.017171932252397853, 'IRLSDRC': 0.022214531395819213, 'IRMJRC': 0.030859137986819406, 'IRALCFY': 0.03419100331606738, 'EDUHIGHCAT': 0.04406600458239204, 'IRECSTMOREC': 0.04500572294197544, 'IRHERRC': 0.062131083327933045, 'IRHALLUCREC': 0.0632389916877942, 'AGE2': 0.06521412333248733, 'IRCOCRC': 0.06902058442480369, 'IRMETHAMREC': 0.07498519926261321, 'IRINHALREC': 0.09022985429709475}\n",
      "\n",
      "EDUHIGHCAT 2  | TEST 4\n",
      "\n",
      "{'NAME': 'Test Scripter', 'IRSEX': 1, 'EDUHIGHCAT': 2, 'AGE2': 13, 'IRALCRC': 2, 'IRALCFY': 12, 'CABINGEVR': 2, 'IRALCAGE': 17, 'TXYRRECVD2': 1, 'TXEVRRCVD2': 1, 'IRCIGRC': 9, 'CIGDLYMO': 2, 'CIGAGE': 30, 'TOBYR': 1, 'FUCIG18': 2, 'IRMJRC': 2, 'IRMJFY': 50, 'FUMJ18': 2, 'IRCOCRC': 3, 'IRCRKRC': 1, 'IRHERRC': 9, 'IRHALLUCREC': 9, 'IRLSDRC': 9, 'IRECSTMOREC': 9, 'IRINHALREC': 1, 'IRMETHAMREC': 9, 'ADDPREV': 2, 'ADDSCEV': 2, 'BOOKED': 2}\n"
     ]
    },
    {
     "name": "stderr",
     "output_type": "stream",
     "text": [
      "  0%|                                                                                            | 0/1 [00:00<?, ?it/s]C:\\Users\\camke\\Anaconda3\\lib\\site-packages\\shap\\explainers\\kernel.py:535: UserWarning: l1_reg=\"auto\" is deprecated and in the next version (v0.29) the behavior will change from a conditional use of AIC to simply \"num_features(10)\"!\n",
      "  \"l1_reg=\\\"auto\\\" is deprecated and in the next version (v0.29) the behavior will change from a \" \\\n",
      "C:\\Users\\camke\\Anaconda3\\lib\\site-packages\\shap\\explainers\\kernel.py:535: UserWarning: l1_reg=\"auto\" is deprecated and in the next version (v0.29) the behavior will change from a conditional use of AIC to simply \"num_features(10)\"!\n",
      "  \"l1_reg=\\\"auto\\\" is deprecated and in the next version (v0.29) the behavior will change from a \" \\\n",
      "100%|████████████████████████████████████████████████████████████████████████████████████| 1/1 [00:02<00:00,  2.37s/it]\n"
     ]
    },
    {
     "name": "stdout",
     "output_type": "stream",
     "text": [
      "Predicted Probability: 27.933%\n",
      "Percentile of Predicted Probability: 84.483%\n",
      "Feature Importance (sorted low to high): {'ADDSCEV': -0.07107716648680455, 'CIGAGE': -0.05612855514828101, 'IRCRKRC': -0.05016464749641135, 'CABINGEVR': -0.027045018174920624, 'TOBYR': -0.016288906259221858, 'IRALCAGE': -0.013202477079829111, 'FUCIG18': -0.012693196408285663, 'FUMJ18': -0.010351417325409533, 'IRHALLUCREC': -0.008345906681931796, 'IRECSTMOREC': -0.006252843476934472, 'IRHERRC': -0.003512714811524917, 'IRMETHAMREC': -0.0020439564430562024, 'CIGDLYMO': 0.0, 'TXEVRRCVD2': 0.0, 'IRLSDRC': 0.0017744247798094914, 'IRALCRC': 0.0026046498257645215, 'BOOKED': 0.0027404015774930915, 'IRALCFY': 0.009059482446559474, 'EDUHIGHCAT': 0.013466146870469334, 'IRSEX': 0.01522532092298438, 'AGE2': 0.01879650911697442, 'IRMJFY': 0.02543572342695721, 'IRCOCRC': 0.02713133089551914, 'ADDPREV': 0.028009744065758145, 'IRMJRC': 0.030468162977886286, 'IRCIGRC': 0.03908647366791423, 'TXYRRECVD2': 0.07707265848456848, 'IRINHALREC': 0.1031183936847335}\n",
      "\n",
      "EDUHIGHCAT 3  | TEST 5\n",
      "\n",
      "{'NAME': 'Test Scripter', 'IRSEX': 1, 'EDUHIGHCAT': 3, 'AGE2': 4, 'IRALCRC': 2, 'IRALCFY': 1, 'CABINGEVR': 2, 'IRALCAGE': 14, 'TXYRRECVD2': 0, 'TXEVRRCVD2': 0, 'IRCIGRC': 4, 'CIGDLYMO': 91, 'CIGAGE': 50, 'TOBYR': 0, 'FUCIG18': 2, 'IRMJRC': 9, 'IRMJFY': 3, 'FUMJ18': 1, 'IRCOCRC': 9, 'IRCRKRC': 1, 'IRHERRC': 3, 'IRHALLUCREC': 9, 'IRLSDRC': 3, 'IRECSTMOREC': 3, 'IRINHALREC': 9, 'IRMETHAMREC': 9, 'ADDPREV': 94, 'ADDSCEV': 1, 'BOOKED': 1}\n"
     ]
    },
    {
     "name": "stderr",
     "output_type": "stream",
     "text": [
      "  0%|                                                                                            | 0/1 [00:00<?, ?it/s]C:\\Users\\camke\\Anaconda3\\lib\\site-packages\\shap\\explainers\\kernel.py:535: UserWarning: l1_reg=\"auto\" is deprecated and in the next version (v0.29) the behavior will change from a conditional use of AIC to simply \"num_features(10)\"!\n",
      "  \"l1_reg=\\\"auto\\\" is deprecated and in the next version (v0.29) the behavior will change from a \" \\\n",
      "C:\\Users\\camke\\Anaconda3\\lib\\site-packages\\shap\\explainers\\kernel.py:535: UserWarning: l1_reg=\"auto\" is deprecated and in the next version (v0.29) the behavior will change from a conditional use of AIC to simply \"num_features(10)\"!\n",
      "  \"l1_reg=\\\"auto\\\" is deprecated and in the next version (v0.29) the behavior will change from a \" \\\n",
      "100%|████████████████████████████████████████████████████████████████████████████████████| 1/1 [00:02<00:00,  2.38s/it]\n"
     ]
    },
    {
     "name": "stdout",
     "output_type": "stream",
     "text": [
      "Predicted Probability: 23.109%\n",
      "Percentile of Predicted Probability: 77.680%\n",
      "Feature Importance (sorted low to high): {'IRCIGRC': -0.07872408264210874, 'ADDSCEV': -0.072508290828954, 'CIGAGE': -0.06966242061628858, 'IRCRKRC': -0.03887920531158476, 'CABINGEVR': -0.02117756123062465, 'IRMJRC': -0.01623195462154852, 'IRMJFY': -0.014658254235448977, 'FUCIG18': -0.010314919517134008, 'BOOKED': -0.009461644738993313, 'IRCOCRC': -0.008587678216462905, 'IRMETHAMREC': -0.007983399679861168, 'IRHALLUCREC': -0.006586020302659316, 'IRALCFY': -0.005510338202445478, 'IRINHALREC': -0.005120493639464176, 'CIGDLYMO': 0.0, 'TXEVRRCVD2': 0.0, 'TXYRRECVD2': 0.0, 'IRLSDRC': 0.0032712898296435866, 'IRALCRC': 0.0046710400901965425, 'TOBYR': 0.007980339712680293, 'EDUHIGHCAT': 0.008171042299965809, 'FUMJ18': 0.009074663960610876, 'IRSEX': 0.01181565935801131, 'IRALCAGE': 0.012950622705209917, 'IRECSTMOREC': 0.023081917754244247, 'IRHERRC': 0.052825781676555855, 'AGE2': 0.057900140329468754, 'ADDPREV': 0.24230343157578565}\n",
      "\n",
      "EDUHIGHCAT 4  | TEST 6\n",
      "\n",
      "{'NAME': 'Test Scripter', 'IRSEX': 2, 'EDUHIGHCAT': 4, 'AGE2': 8, 'IRALCRC': 3, 'IRALCFY': 991, 'CABINGEVR': 1, 'IRALCAGE': 21, 'TXYRRECVD2': 1, 'TXEVRRCVD2': 0, 'IRCIGRC': 3, 'CIGDLYMO': 1, 'CIGAGE': 99, 'TOBYR': 1, 'FUCIG18': 2, 'IRMJRC': 1, 'IRMJFY': 100, 'FUMJ18': 1, 'IRCOCRC': 9, 'IRCRKRC': 2, 'IRHERRC': 1, 'IRHALLUCREC': 1, 'IRLSDRC': 1, 'IRECSTMOREC': 3, 'IRINHALREC': 2, 'IRMETHAMREC': 1, 'ADDPREV': 1, 'ADDSCEV': 94, 'BOOKED': 2}\n"
     ]
    },
    {
     "name": "stderr",
     "output_type": "stream",
     "text": [
      "  0%|                                                                                            | 0/1 [00:00<?, ?it/s]C:\\Users\\camke\\Anaconda3\\lib\\site-packages\\shap\\explainers\\kernel.py:535: UserWarning: l1_reg=\"auto\" is deprecated and in the next version (v0.29) the behavior will change from a conditional use of AIC to simply \"num_features(10)\"!\n",
      "  \"l1_reg=\\\"auto\\\" is deprecated and in the next version (v0.29) the behavior will change from a \" \\\n",
      "C:\\Users\\camke\\Anaconda3\\lib\\site-packages\\shap\\explainers\\kernel.py:535: UserWarning: l1_reg=\"auto\" is deprecated and in the next version (v0.29) the behavior will change from a conditional use of AIC to simply \"num_features(10)\"!\n",
      "  \"l1_reg=\\\"auto\\\" is deprecated and in the next version (v0.29) the behavior will change from a \" \\\n",
      "100%|████████████████████████████████████████████████████████████████████████████████████| 1/1 [00:02<00:00,  2.37s/it]\n"
     ]
    },
    {
     "name": "stdout",
     "output_type": "stream",
     "text": [
      "Predicted Probability: 64.115%\n",
      "Percentile of Predicted Probability: 96.371%\n",
      "Feature Importance (sorted low to high): {'ADDSCEV': -0.34369505039461634, 'IRCIGRC': -0.06621087343836013, 'IRALCAGE': -0.06389031918455837, 'IRCRKRC': -0.04906942652240737, 'ADDPREV': -0.04612375392845039, 'IRLSDRC': -0.04050986733581982, 'IRCOCRC': -0.01650620425493937, 'FUCIG18': -0.016051841020833207, 'IRALCFY': -0.014150705271579342, 'IRSEX': -0.013112889716044657, 'TOBYR': -0.011576403161880994, 'IRALCRC': -0.0046736457667381215, 'BOOKED': 0.0, 'CIGDLYMO': 0.0, 'TXEVRRCVD2': 0.0, 'CABINGEVR': 0.00861430996402418, 'EDUHIGHCAT': 0.00988250269370683, 'FUMJ18': 0.013246653225893024, 'IRECSTMOREC': 0.018399304746283957, 'IRMJFY': 0.02611585878167358, 'AGE2': 0.047511593762780635, 'IRMJRC': 0.056760381101641944, 'TXYRRECVD2': 0.07944167799197815, 'IRHALLUCREC': 0.08308843177166605, 'IRMETHAMREC': 0.09805995089698238, 'IRINHALREC': 0.12362997514240578, 'CIGAGE': 0.26658755013722846, 'IRHERRC': 0.33293412315104787}\n",
      "\n",
      "EDUHIGHCAT 5  | TEST 7\n",
      "\n",
      "{'NAME': 'Test Scripter', 'IRSEX': 1, 'EDUHIGHCAT': 5, 'AGE2': 16, 'IRALCRC': 3, 'IRALCFY': 993, 'CABINGEVR': 991, 'IRALCAGE': 14, 'TXYRRECVD2': 0, 'TXEVRRCVD2': 1, 'IRCIGRC': 9, 'CIGDLYMO': 91, 'CIGAGE': 50, 'TOBYR': 1, 'FUCIG18': 2, 'IRMJRC': 1, 'IRMJFY': 2, 'FUMJ18': 1, 'IRCOCRC': 1, 'IRCRKRC': 1, 'IRHERRC': 1, 'IRHALLUCREC': 2, 'IRLSDRC': 2, 'IRECSTMOREC': 1, 'IRINHALREC': 2, 'IRMETHAMREC': 3, 'ADDPREV': 94, 'ADDSCEV': 2, 'BOOKED': 2}\n"
     ]
    },
    {
     "name": "stderr",
     "output_type": "stream",
     "text": [
      "  0%|                                                                                            | 0/1 [00:00<?, ?it/s]C:\\Users\\camke\\Anaconda3\\lib\\site-packages\\shap\\explainers\\kernel.py:535: UserWarning: l1_reg=\"auto\" is deprecated and in the next version (v0.29) the behavior will change from a conditional use of AIC to simply \"num_features(10)\"!\n",
      "  \"l1_reg=\\\"auto\\\" is deprecated and in the next version (v0.29) the behavior will change from a \" \\\n",
      "C:\\Users\\camke\\Anaconda3\\lib\\site-packages\\shap\\explainers\\kernel.py:535: UserWarning: l1_reg=\"auto\" is deprecated and in the next version (v0.29) the behavior will change from a conditional use of AIC to simply \"num_features(10)\"!\n",
      "  \"l1_reg=\\\"auto\\\" is deprecated and in the next version (v0.29) the behavior will change from a \" \\\n",
      "100%|████████████████████████████████████████████████████████████████████████████████████| 1/1 [00:02<00:00,  2.37s/it]\n"
     ]
    },
    {
     "name": "stdout",
     "output_type": "stream",
     "text": [
      "Predicted Probability: 83.333%\n",
      "Percentile of Predicted Probability: 99.257%\n",
      "Feature Importance (sorted low to high): {'EDUHIGHCAT': -0.11176801035644107, 'AGE2': -0.077601698078552, 'CIGAGE': -0.07667047942509614, 'ADDSCEV': -0.05274981510790172, 'IRCRKRC': -0.04271624743920088, 'IRMJFY': -0.022379699392099883, 'TOBYR': -0.021208334722438438, 'IRALCRC': -0.007744141324735776, 'IRALCFY': -0.0012053633564375055, 'BOOKED': 0.0, 'CABINGEVR': 0.0, 'CIGDLYMO': 0.0, 'FUCIG18': 0.0, 'TXEVRRCVD2': 0.0, 'TXYRRECVD2': 0.0, 'IRSEX': 0.012242977206217254, 'IRALCAGE': 0.013466630840102689, 'IRMETHAMREC': 0.015601010604093746, 'FUMJ18': 0.01997919314165475, 'IRLSDRC': 0.025380981531429425, 'IRHALLUCREC': 0.02681510970770945, 'IRMJRC': 0.03752825893652956, 'IRCIGRC': 0.043752871837402424, 'IRECSTMOREC': 0.061528823993475035, 'IRCOCRC': 0.0701328465242606, 'IRINHALREC': 0.11507492813498443, 'ADDPREV': 0.30906079526151564, 'IRHERRC': 0.3343657028290947}\n",
      "\n",
      "AGE2 1  | TEST 8\n",
      "\n",
      "{'NAME': 'Test Scripter', 'IRSEX': 1, 'EDUHIGHCAT': 1, 'AGE2': 1, 'IRALCRC': 1, 'IRALCFY': 991, 'CABINGEVR': 991, 'IRALCAGE': 20, 'TXYRRECVD2': 0, 'TXEVRRCVD2': 0, 'IRCIGRC': 2, 'CIGDLYMO': 1, 'CIGAGE': 40, 'TOBYR': 1, 'FUCIG18': 2, 'IRMJRC': 9, 'IRMJFY': 10, 'FUMJ18': 2, 'IRCOCRC': 1, 'IRCRKRC': 3, 'IRHERRC': 1, 'IRHALLUCREC': 9, 'IRLSDRC': 3, 'IRECSTMOREC': 9, 'IRINHALREC': 1, 'IRMETHAMREC': 3, 'ADDPREV': 2, 'ADDSCEV': 94, 'BOOKED': 97}\n"
     ]
    },
    {
     "name": "stderr",
     "output_type": "stream",
     "text": [
      "  0%|                                                                                            | 0/1 [00:00<?, ?it/s]C:\\Users\\camke\\Anaconda3\\lib\\site-packages\\shap\\explainers\\kernel.py:535: UserWarning: l1_reg=\"auto\" is deprecated and in the next version (v0.29) the behavior will change from a conditional use of AIC to simply \"num_features(10)\"!\n",
      "  \"l1_reg=\\\"auto\\\" is deprecated and in the next version (v0.29) the behavior will change from a \" \\\n",
      "C:\\Users\\camke\\Anaconda3\\lib\\site-packages\\shap\\explainers\\kernel.py:535: UserWarning: l1_reg=\"auto\" is deprecated and in the next version (v0.29) the behavior will change from a conditional use of AIC to simply \"num_features(10)\"!\n",
      "  \"l1_reg=\\\"auto\\\" is deprecated and in the next version (v0.29) the behavior will change from a \" \\\n",
      "100%|████████████████████████████████████████████████████████████████████████████████████| 1/1 [00:02<00:00,  2.36s/it]\n"
     ]
    },
    {
     "name": "stdout",
     "output_type": "stream",
     "text": [
      "Predicted Probability: 21.134%\n",
      "Percentile of Predicted Probability: 73.569%\n",
      "Feature Importance (sorted low to high): {'ADDSCEV': -0.3456728368490637, 'BOOKED': -0.0598943732645806, 'CIGAGE': -0.03308062192727672, 'IRALCAGE': -0.03271264910854049, 'IRCIGRC': -0.030635607639344024, 'IRMJRC': -0.016871056226560294, 'TOBYR': -0.01161254562461772, 'FUCIG18': -0.011414827448971071, 'FUMJ18': -0.009547816780708221, 'IRHALLUCREC': -0.008739299134756469, 'IRALCFY': -0.007209303815657826, 'IRECSTMOREC': -0.003476011140485108, 'CIGDLYMO': 0.0, 'TXEVRRCVD2': 0.0, 'TXYRRECVD2': 0.0, 'IRLSDRC': 0.002873846477940152, 'IRMJFY': 0.004724536004576136, 'IRCRKRC': 0.005369734642141563, 'CABINGEVR': 0.005413367467469458, 'IRALCRC': 0.01199650129421892, 'IRSEX': 0.013453519697786298, 'IRMETHAMREC': 0.014758126241457704, 'ADDPREV': 0.023776573452009044, 'EDUHIGHCAT': 0.04980097322218181, 'AGE2': 0.06657432575007607, 'IRCOCRC': 0.06803706022567985, 'IRINHALREC': 0.08874883963249397, 'IRHERRC': 0.26423275905033117}\n",
      "\n",
      "AGE2 2  | TEST 9\n",
      "\n",
      "{'NAME': 'Test Scripter', 'IRSEX': 2, 'EDUHIGHCAT': 3, 'AGE2': 2, 'IRALCRC': 9, 'IRALCFY': 1, 'CABINGEVR': 1, 'IRALCAGE': 100, 'TXYRRECVD2': 1, 'TXEVRRCVD2': 1, 'IRCIGRC': 2, 'CIGDLYMO': 1, 'CIGAGE': 50, 'TOBYR': 1, 'FUCIG18': 2, 'IRMJRC': 3, 'IRMJFY': 300, 'FUMJ18': 2, 'IRCOCRC': 9, 'IRCRKRC': 9, 'IRHERRC': 2, 'IRHALLUCREC': 9, 'IRLSDRC': 1, 'IRECSTMOREC': 1, 'IRINHALREC': 9, 'IRMETHAMREC': 1, 'ADDPREV': 2, 'ADDSCEV': 2, 'BOOKED': 94}\n"
     ]
    },
    {
     "name": "stderr",
     "output_type": "stream",
     "text": [
      "  0%|                                                                                            | 0/1 [00:00<?, ?it/s]C:\\Users\\camke\\Anaconda3\\lib\\site-packages\\shap\\explainers\\kernel.py:535: UserWarning: l1_reg=\"auto\" is deprecated and in the next version (v0.29) the behavior will change from a conditional use of AIC to simply \"num_features(10)\"!\n",
      "  \"l1_reg=\\\"auto\\\" is deprecated and in the next version (v0.29) the behavior will change from a \" \\\n",
      "C:\\Users\\camke\\Anaconda3\\lib\\site-packages\\shap\\explainers\\kernel.py:535: UserWarning: l1_reg=\"auto\" is deprecated and in the next version (v0.29) the behavior will change from a conditional use of AIC to simply \"num_features(10)\"!\n",
      "  \"l1_reg=\\\"auto\\\" is deprecated and in the next version (v0.29) the behavior will change from a \" \\\n",
      "100%|████████████████████████████████████████████████████████████████████████████████████| 1/1 [00:02<00:00,  2.35s/it]\n"
     ]
    },
    {
     "name": "stdout",
     "output_type": "stream",
     "text": [
      "Predicted Probability: 27.047%\n",
      "Percentile of Predicted Probability: 82.184%\n",
      "Feature Importance (sorted low to high): {'IRALCRC': -0.08520761192504848, 'CIGAGE': -0.08107098600648449, 'BOOKED': -0.06915036066015053, 'ADDSCEV': -0.06384343274108464, 'IRLSDRC': -0.041179809066543616, 'IRALCAGE': -0.034740152239193384, 'IRCIGRC': -0.033520612172156544, 'TOBYR': -0.01378973938698798, 'FUCIG18': -0.013676938243613476, 'IRCOCRC': -0.009814677290784104, 'FUMJ18': -0.009633539604429317, 'IRSEX': -0.009372717718645202, 'IRHALLUCREC': -0.00893044807491147, 'IRALCFY': -0.006775152978869664, 'IRINHALREC': -0.006161374455797355, 'IRMJRC': -0.0016785780513056507, 'IRCRKRC': -0.0005702055500296614, 'CIGDLYMO': 0.0, 'TXEVRRCVD2': 0.0, 'EDUHIGHCAT': 0.003784092187653215, 'CABINGEVR': 0.0055664083164191445, 'ADDPREV': 0.026075253905419867, 'IRMJFY': 0.05107159596824704, 'IRECSTMOREC': 0.057033933948545945, 'AGE2': 0.06839480546925701, 'TXYRRECVD2': 0.07443780607424871, 'IRMETHAMREC': 0.0875127022017887, 'IRHERRC': 0.22326421012654013}\n",
      "\n",
      "AGE2 3  | TEST 10\n",
      "\n",
      "{'NAME': 'Test Scripter', 'IRSEX': 2, 'EDUHIGHCAT': 5, 'AGE2': 3, 'IRALCRC': 2, 'IRALCFY': 50, 'CABINGEVR': 991, 'IRALCAGE': 17, 'TXYRRECVD2': 0, 'TXEVRRCVD2': 1, 'IRCIGRC': 9, 'CIGDLYMO': 91, 'CIGAGE': 15, 'TOBYR': 0, 'FUCIG18': 2, 'IRMJRC': 3, 'IRMJFY': 1, 'FUMJ18': 1, 'IRCOCRC': 9, 'IRCRKRC': 3, 'IRHERRC': 2, 'IRHALLUCREC': 2, 'IRLSDRC': 9, 'IRECSTMOREC': 3, 'IRINHALREC': 2, 'IRMETHAMREC': 3, 'ADDPREV': 2, 'ADDSCEV': 2, 'BOOKED': 97}\n"
     ]
    },
    {
     "name": "stderr",
     "output_type": "stream",
     "text": [
      "  0%|                                                                                            | 0/1 [00:00<?, ?it/s]C:\\Users\\camke\\Anaconda3\\lib\\site-packages\\shap\\explainers\\kernel.py:535: UserWarning: l1_reg=\"auto\" is deprecated and in the next version (v0.29) the behavior will change from a conditional use of AIC to simply \"num_features(10)\"!\n",
      "  \"l1_reg=\\\"auto\\\" is deprecated and in the next version (v0.29) the behavior will change from a \" \\\n",
      "C:\\Users\\camke\\Anaconda3\\lib\\site-packages\\shap\\explainers\\kernel.py:535: UserWarning: l1_reg=\"auto\" is deprecated and in the next version (v0.29) the behavior will change from a conditional use of AIC to simply \"num_features(10)\"!\n",
      "  \"l1_reg=\\\"auto\\\" is deprecated and in the next version (v0.29) the behavior will change from a \" \\\n",
      "100%|████████████████████████████████████████████████████████████████████████████████████| 1/1 [00:02<00:00,  2.40s/it]\n"
     ]
    },
    {
     "name": "stdout",
     "output_type": "stream",
     "text": [
      "Predicted Probability: 53.383%\n",
      "Percentile of Predicted Probability: 94.390%\n",
      "Feature Importance (sorted low to high): {'EDUHIGHCAT': -0.09881637131147103, 'BOOKED': -0.07862367141830146, 'ADDSCEV': -0.0691112128031757, 'CIGAGE': -0.02569496639571664, 'FUCIG18': -0.018634470241454676, 'IRALCAGE': -0.014315979057194533, 'IRSEX': -0.011864267355172306, 'IRCOCRC': -0.009576581149506852, 'IRMJRC': -0.0055960547272177474, 'IRCRKRC': -0.0006901011775851534, 'CABINGEVR': 0.0, 'CIGDLYMO': 0.0, 'IRMJFY': 0.0, 'TXEVRRCVD2': 0.0, 'TXYRRECVD2': 0.0, 'IRALCRC': 0.0016481088863690985, 'IRALCFY': 0.002364399399401945, 'IRLSDRC': 0.007285759187565216, 'TOBYR': 0.012979703436642898, 'FUMJ18': 0.01731077697845909, 'IRMETHAMREC': 0.02224309011750096, 'IRECSTMOREC': 0.02266981603661454, 'ADDPREV': 0.03211302093986179, 'IRHALLUCREC': 0.04227234156189605, 'IRCIGRC': 0.045967504381138974, 'AGE2': 0.08005957197059055, 'IRINHALREC': 0.1431078010925687, 'IRHERRC': 0.27428937612658477}\n",
      "\n",
      "AGE2 4  | TEST 11\n",
      "\n",
      "{'NAME': 'Test Scripter', 'IRSEX': 1, 'EDUHIGHCAT': 5, 'AGE2': 4, 'IRALCRC': 2, 'IRALCFY': 991, 'CABINGEVR': 1, 'IRALCAGE': 100, 'TXYRRECVD2': 1, 'TXEVRRCVD2': 1, 'IRCIGRC': 9, 'CIGDLYMO': 1, 'CIGAGE': 50, 'TOBYR': 0, 'FUCIG18': 2, 'IRMJRC': 9, 'IRMJFY': 300, 'FUMJ18': 2, 'IRCOCRC': 1, 'IRCRKRC': 9, 'IRHERRC': 1, 'IRHALLUCREC': 9, 'IRLSDRC': 3, 'IRECSTMOREC': 9, 'IRINHALREC': 2, 'IRMETHAMREC': 2, 'ADDPREV': 2, 'ADDSCEV': 2, 'BOOKED': 97}\n"
     ]
    },
    {
     "name": "stderr",
     "output_type": "stream",
     "text": [
      "  0%|                                                                                            | 0/1 [00:00<?, ?it/s]C:\\Users\\camke\\Anaconda3\\lib\\site-packages\\shap\\explainers\\kernel.py:535: UserWarning: l1_reg=\"auto\" is deprecated and in the next version (v0.29) the behavior will change from a conditional use of AIC to simply \"num_features(10)\"!\n",
      "  \"l1_reg=\\\"auto\\\" is deprecated and in the next version (v0.29) the behavior will change from a \" \\\n",
      "C:\\Users\\camke\\Anaconda3\\lib\\site-packages\\shap\\explainers\\kernel.py:535: UserWarning: l1_reg=\"auto\" is deprecated and in the next version (v0.29) the behavior will change from a conditional use of AIC to simply \"num_features(10)\"!\n",
      "  \"l1_reg=\\\"auto\\\" is deprecated and in the next version (v0.29) the behavior will change from a \" \\\n",
      "100%|████████████████████████████████████████████████████████████████████████████████████| 1/1 [00:02<00:00,  2.37s/it]\n"
     ]
    },
    {
     "name": "stdout",
     "output_type": "stream",
     "text": [
      "Predicted Probability: 81.739%\n",
      "Percentile of Predicted Probability: 98.619%\n",
      "Feature Importance (sorted low to high): {'EDUHIGHCAT': -0.10398743713371758, 'CIGAGE': -0.08468321487061028, 'ADDSCEV': -0.0693872524608252, 'BOOKED': -0.061068959131782785, 'IRALCAGE': -0.03735467955257332, 'IRMJRC': -0.013390644776187122, 'FUMJ18': -0.013110020282761203, 'IRHALLUCREC': -0.01000623759998287, 'IRLSDRC': -0.00944867725727011, 'CABINGEVR': 0.0, 'CIGDLYMO': 0.0, 'FUCIG18': 0.0, 'IRALCFY': 0.0, 'IRCRKRC': 0.0, 'IRECSTMOREC': 0.0, 'TXEVRRCVD2': 0.0, 'TOBYR': 0.009440447632505344, 'IRSEX': 0.01596995491539549, 'IRALCRC': 0.017346362611090904, 'ADDPREV': 0.0296554539021312, 'IRCIGRC': 0.03927687800532209, 'IRMJFY': 0.058728753674161194, 'AGE2': 0.06965838968319438, 'IRCOCRC': 0.08715094756098699, 'TXYRRECVD2': 0.08870630315299799, 'IRMETHAMREC': 0.12638896750096362, 'IRINHALREC': 0.13953971736127235, 'IRHERRC': 0.37551925942574793}\n",
      "\n",
      "AGE2 5  | TEST 12\n",
      "\n",
      "{'NAME': 'Test Scripter', 'IRSEX': 1, 'EDUHIGHCAT': 5, 'AGE2': 5, 'IRALCRC': 2, 'IRALCFY': 12, 'CABINGEVR': 1, 'IRALCAGE': 991, 'TXYRRECVD2': 1, 'TXEVRRCVD2': 1, 'IRCIGRC': 9, 'CIGDLYMO': 2, 'CIGAGE': 30, 'TOBYR': 0, 'FUCIG18': 1, 'IRMJRC': 2, 'IRMJFY': 2, 'FUMJ18': 1, 'IRCOCRC': 9, 'IRCRKRC': 9, 'IRHERRC': 9, 'IRHALLUCREC': 9, 'IRLSDRC': 9, 'IRECSTMOREC': 2, 'IRINHALREC': 9, 'IRMETHAMREC': 3, 'ADDPREV': 2, 'ADDSCEV': 2, 'BOOKED': 97}\n"
     ]
    },
    {
     "name": "stderr",
     "output_type": "stream",
     "text": [
      "  0%|                                                                                            | 0/1 [00:00<?, ?it/s]C:\\Users\\camke\\Anaconda3\\lib\\site-packages\\shap\\explainers\\kernel.py:535: UserWarning: l1_reg=\"auto\" is deprecated and in the next version (v0.29) the behavior will change from a conditional use of AIC to simply \"num_features(10)\"!\n",
      "  \"l1_reg=\\\"auto\\\" is deprecated and in the next version (v0.29) the behavior will change from a \" \\\n",
      "C:\\Users\\camke\\Anaconda3\\lib\\site-packages\\shap\\explainers\\kernel.py:535: UserWarning: l1_reg=\"auto\" is deprecated and in the next version (v0.29) the behavior will change from a conditional use of AIC to simply \"num_features(10)\"!\n",
      "  \"l1_reg=\\\"auto\\\" is deprecated and in the next version (v0.29) the behavior will change from a \" \\\n",
      "100%|████████████████████████████████████████████████████████████████████████████████████| 1/1 [00:02<00:00,  2.37s/it]\n"
     ]
    },
    {
     "name": "stdout",
     "output_type": "stream",
     "text": [
      "Predicted Probability: 18.182%\n",
      "Percentile of Predicted Probability: 71.289%\n",
      "Feature Importance (sorted low to high): {'EDUHIGHCAT': -0.09130657744663635, 'BOOKED': -0.06553459041310093, 'ADDSCEV': -0.05969696728813455, 'CIGAGE': -0.04845553702097853, 'IRMJFY': -0.02003134497146715, 'IRCOCRC': -0.009703273640000105, 'IRHALLUCREC': -0.008127947397881401, 'IRINHALREC': -0.006526368190129337, 'IRHERRC': -0.0040166952684559595, 'CIGDLYMO': 0.0, 'TXEVRRCVD2': 0.0, 'IRALCRC': 0.000137070570784735, 'IRLSDRC': 0.00170394178261744, 'IRCRKRC': 0.002212876208718517, 'CABINGEVR': 0.0050491869732251365, 'IRALCFY': 0.009436475903354124, 'FUCIG18': 0.00945645202412311, 'TOBYR': 0.010558904285370471, 'IRMETHAMREC': 0.01212256161907728, 'FUMJ18': 0.01230871007191536, 'IRSEX': 0.013406722981607576, 'IRALCAGE': 0.015196493183807534, 'IRMJRC': 0.024614060163748185, 'ADDPREV': 0.025678302905474328, 'IRCIGRC': 0.03427921173021983, 'IRECSTMOREC': 0.03660137579566586, 'AGE2': 0.05205903382236264, 'TXYRRECVD2': 0.067949111445127}\n",
      "\n",
      "AGE2 6  | TEST 13\n",
      "\n",
      "{'NAME': 'Test Scripter', 'IRSEX': 2, 'EDUHIGHCAT': 3, 'AGE2': 6, 'IRALCRC': 9, 'IRALCFY': 993, 'CABINGEVR': 2, 'IRALCAGE': 991, 'TXYRRECVD2': 0, 'TXEVRRCVD2': 1, 'IRCIGRC': 3, 'CIGDLYMO': 91, 'CIGAGE': 13, 'TOBYR': 1, 'FUCIG18': 2, 'IRMJRC': 3, 'IRMJFY': 3, 'FUMJ18': 1, 'IRCOCRC': 2, 'IRCRKRC': 2, 'IRHERRC': 2, 'IRHALLUCREC': 9, 'IRLSDRC': 9, 'IRECSTMOREC': 9, 'IRINHALREC': 3, 'IRMETHAMREC': 1, 'ADDPREV': 1, 'ADDSCEV': 1, 'BOOKED': 97}\n"
     ]
    },
    {
     "name": "stderr",
     "output_type": "stream",
     "text": [
      "  0%|                                                                                            | 0/1 [00:00<?, ?it/s]C:\\Users\\camke\\Anaconda3\\lib\\site-packages\\shap\\explainers\\kernel.py:535: UserWarning: l1_reg=\"auto\" is deprecated and in the next version (v0.29) the behavior will change from a conditional use of AIC to simply \"num_features(10)\"!\n",
      "  \"l1_reg=\\\"auto\\\" is deprecated and in the next version (v0.29) the behavior will change from a \" \\\n",
      "C:\\Users\\camke\\Anaconda3\\lib\\site-packages\\shap\\explainers\\kernel.py:535: UserWarning: l1_reg=\"auto\" is deprecated and in the next version (v0.29) the behavior will change from a conditional use of AIC to simply \"num_features(10)\"!\n",
      "  \"l1_reg=\\\"auto\\\" is deprecated and in the next version (v0.29) the behavior will change from a \" \\\n",
      "100%|████████████████████████████████████████████████████████████████████████████████████| 1/1 [00:02<00:00,  2.39s/it]\n"
     ]
    },
    {
     "name": "stdout",
     "output_type": "stream",
     "text": [
      "Predicted Probability: 14.812%\n",
      "Percentile of Predicted Probability: 64.074%\n",
      "Feature Importance (sorted low to high): {'IRALCRC': -0.07605939524689213, 'ADDSCEV': -0.07465515800175841, 'BOOKED': -0.06479378573069255, 'IRCIGRC': -0.06092121852417448, 'ADDPREV': -0.04522696151627541, 'IRCRKRC': -0.0385841283145979, 'CABINGEVR': -0.02282766642563098, 'CIGAGE': -0.020844940858418513, 'TOBYR': -0.01376491115258614, 'FUCIG18': -0.012322063454300536, 'IRMJFY': -0.011165213213302078, 'IRSEX': -0.010221847870283702, 'IRHALLUCREC': -0.009648709564431611, 'IRMJRC': -0.006126114727651684, 'IRECSTMOREC': -0.005880576401669956, 'IRALCFY': -0.00551195601081927, 'CIGDLYMO': 0.0, 'TXEVRRCVD2': 0.0, 'TXYRRECVD2': 0.0, 'IRLSDRC': 0.0009460435174467293, 'EDUHIGHCAT': 0.004213338898879107, 'FUMJ18': 0.009623440346034878, 'IRALCAGE': 0.012079225956215477, 'IRINHALREC': 0.03955709514369566, 'AGE2': 0.049487429559669616, 'IRCOCRC': 0.07489072760288049, 'IRMETHAMREC': 0.07644149627498066, 'IRHERRC': 0.1969921821226986}\n",
      "\n",
      "AGE2 7  | TEST 14\n",
      "\n",
      "{'NAME': 'Test Scripter', 'IRSEX': 2, 'EDUHIGHCAT': 3, 'AGE2': 7, 'IRALCRC': 2, 'IRALCFY': 50, 'CABINGEVR': 2, 'IRALCAGE': 14, 'TXYRRECVD2': 1, 'TXEVRRCVD2': 0, 'IRCIGRC': 2, 'CIGDLYMO': 1, 'CIGAGE': 40, 'TOBYR': 1, 'FUCIG18': 1, 'IRMJRC': 1, 'IRMJFY': 3, 'FUMJ18': 2, 'IRCOCRC': 9, 'IRCRKRC': 1, 'IRHERRC': 1, 'IRHALLUCREC': 3, 'IRLSDRC': 1, 'IRECSTMOREC': 3, 'IRINHALREC': 1, 'IRMETHAMREC': 1, 'ADDPREV': 1, 'ADDSCEV': 94, 'BOOKED': 97}\n"
     ]
    },
    {
     "name": "stderr",
     "output_type": "stream",
     "text": [
      "  0%|                                                                                            | 0/1 [00:00<?, ?it/s]C:\\Users\\camke\\Anaconda3\\lib\\site-packages\\shap\\explainers\\kernel.py:535: UserWarning: l1_reg=\"auto\" is deprecated and in the next version (v0.29) the behavior will change from a conditional use of AIC to simply \"num_features(10)\"!\n",
      "  \"l1_reg=\\\"auto\\\" is deprecated and in the next version (v0.29) the behavior will change from a \" \\\n",
      "C:\\Users\\camke\\Anaconda3\\lib\\site-packages\\shap\\explainers\\kernel.py:535: UserWarning: l1_reg=\"auto\" is deprecated and in the next version (v0.29) the behavior will change from a conditional use of AIC to simply \"num_features(10)\"!\n",
      "  \"l1_reg=\\\"auto\\\" is deprecated and in the next version (v0.29) the behavior will change from a \" \\\n",
      "100%|████████████████████████████████████████████████████████████████████████████████████| 1/1 [00:02<00:00,  2.37s/it]\n"
     ]
    },
    {
     "name": "stdout",
     "output_type": "stream",
     "text": [
      "Predicted Probability: 11.383%\n",
      "Percentile of Predicted Probability: 54.791%\n",
      "Feature Importance (sorted low to high): {'ADDSCEV': -0.323827942171558, 'BOOKED': -0.059365247097621046, 'ADDPREV': -0.041959657685746526, 'IRLSDRC': -0.036289834130277844, 'IRCRKRC': -0.03574710962306203, 'CIGAGE': -0.033861913222795935, 'IRCIGRC': -0.028690141278888234, 'CABINGEVR': -0.0198066323221023, 'IRMJFY': -0.01229822323609385, 'TOBYR': -0.0119991384570425, 'FUMJ18': -0.008837315003562059, 'IRSEX': -0.00801202090071023, 'IRCOCRC': -0.006628477440766105, 'IRALCRC': -0.0020563059210672724, 'CIGDLYMO': 0.0, 'TXEVRRCVD2': 0.0, 'IRALCFY': 0.0002143875696596631, 'EDUHIGHCAT': 0.004337044456570589, 'FUCIG18': 0.007823683513228038, 'IRHALLUCREC': 0.012046763382782821, 'IRALCAGE': 0.012822233324896348, 'IRECSTMOREC': 0.018065709348731668, 'IRMJRC': 0.03225198105753658, 'AGE2': 0.040678017796332885, 'TXYRRECVD2': 0.060074580547286566, 'IRMETHAMREC': 0.0703338911090269, 'IRINHALREC': 0.07926242539913521, 'IRHERRC': 0.24285333834962514}\n",
      "\n",
      "AGE2 8  | TEST 15\n",
      "\n",
      "{'NAME': 'Test Scripter', 'IRSEX': 1, 'EDUHIGHCAT': 1, 'AGE2': 8, 'IRALCRC': 9, 'IRALCFY': 50, 'CABINGEVR': 1, 'IRALCAGE': 14, 'TXYRRECVD2': 0, 'TXEVRRCVD2': 0, 'IRCIGRC': 4, 'CIGDLYMO': 91, 'CIGAGE': 50, 'TOBYR': 0, 'FUCIG18': 2, 'IRMJRC': 1, 'IRMJFY': 200, 'FUMJ18': 2, 'IRCOCRC': 1, 'IRCRKRC': 1, 'IRHERRC': 9, 'IRHALLUCREC': 2, 'IRLSDRC': 2, 'IRECSTMOREC': 2, 'IRINHALREC': 3, 'IRMETHAMREC': 1, 'ADDPREV': 94, 'ADDSCEV': 1, 'BOOKED': 94}\n"
     ]
    },
    {
     "name": "stderr",
     "output_type": "stream",
     "text": [
      "  0%|                                                                                            | 0/1 [00:00<?, ?it/s]C:\\Users\\camke\\Anaconda3\\lib\\site-packages\\shap\\explainers\\kernel.py:535: UserWarning: l1_reg=\"auto\" is deprecated and in the next version (v0.29) the behavior will change from a conditional use of AIC to simply \"num_features(10)\"!\n",
      "  \"l1_reg=\\\"auto\\\" is deprecated and in the next version (v0.29) the behavior will change from a \" \\\n",
      "C:\\Users\\camke\\Anaconda3\\lib\\site-packages\\shap\\explainers\\kernel.py:535: UserWarning: l1_reg=\"auto\" is deprecated and in the next version (v0.29) the behavior will change from a conditional use of AIC to simply \"num_features(10)\"!\n",
      "  \"l1_reg=\\\"auto\\\" is deprecated and in the next version (v0.29) the behavior will change from a \" \\\n",
      "100%|████████████████████████████████████████████████████████████████████████████████████| 1/1 [00:02<00:00,  2.51s/it]\n"
     ]
    },
    {
     "name": "stdout",
     "output_type": "stream",
     "text": [
      "Predicted Probability: 60.000%\n",
      "Percentile of Predicted Probability: 95.359%\n",
      "Feature Importance (sorted low to high): {'IRALCRC': -0.0934915178963896, 'CIGAGE': -0.08769285830174367, 'ADDSCEV': -0.08518177260315543, 'IRCIGRC': -0.08373239203841476, 'BOOKED': -0.07544229160198429, 'IRCRKRC': -0.04247154126287686, 'FUCIG18': -0.015170655592252141, 'FUMJ18': -0.010767801188714121, 'IRHERRC': -0.007894717213671992, 'CABINGEVR': 0.0, 'CIGDLYMO': 0.0, 'TXEVRRCVD2': 0.0, 'TXYRRECVD2': 0.0, 'IRALCFY': 0.007824075608985681, 'IRALCAGE': 0.012621324490713126, 'TOBYR': 0.015363221455989395, 'IRMJFY': 0.018204873427168256, 'IRSEX': 0.019320679799968515, 'IRLSDRC': 0.029374154712652367, 'IRECSTMOREC': 0.04254075040919422, 'IRMJRC': 0.04664899433612413, 'IRHALLUCREC': 0.05238930118182372, 'AGE2': 0.061614401756243775, 'IRINHALREC': 0.06358013480905989, 'EDUHIGHCAT': 0.06819848699766104, 'IRCOCRC': 0.08131372324332342, 'IRMETHAMREC': 0.10153765998673303, 'ADDPREV': 0.3188667734957953}\n",
      "\n",
      "AGE2 9  | TEST 16\n",
      "\n",
      "{'NAME': 'Test Scripter', 'IRSEX': 2, 'EDUHIGHCAT': 5, 'AGE2': 9, 'IRALCRC': 9, 'IRALCFY': 50, 'CABINGEVR': 991, 'IRALCAGE': 21, 'TXYRRECVD2': 0, 'TXEVRRCVD2': 1, 'IRCIGRC': 3, 'CIGDLYMO': 1, 'CIGAGE': 40, 'TOBYR': 0, 'FUCIG18': 2, 'IRMJRC': 9, 'IRMJFY': 10, 'FUMJ18': 1, 'IRCOCRC': 3, 'IRCRKRC': 3, 'IRHERRC': 2, 'IRHALLUCREC': 2, 'IRLSDRC': 1, 'IRECSTMOREC': 9, 'IRINHALREC': 9, 'IRMETHAMREC': 2, 'ADDPREV': 1, 'ADDSCEV': 2, 'BOOKED': 94}\n"
     ]
    },
    {
     "name": "stderr",
     "output_type": "stream",
     "text": [
      "  0%|                                                                                            | 0/1 [00:00<?, ?it/s]C:\\Users\\camke\\Anaconda3\\lib\\site-packages\\shap\\explainers\\kernel.py:535: UserWarning: l1_reg=\"auto\" is deprecated and in the next version (v0.29) the behavior will change from a conditional use of AIC to simply \"num_features(10)\"!\n",
      "  \"l1_reg=\\\"auto\\\" is deprecated and in the next version (v0.29) the behavior will change from a \" \\\n",
      "C:\\Users\\camke\\Anaconda3\\lib\\site-packages\\shap\\explainers\\kernel.py:535: UserWarning: l1_reg=\"auto\" is deprecated and in the next version (v0.29) the behavior will change from a conditional use of AIC to simply \"num_features(10)\"!\n",
      "  \"l1_reg=\\\"auto\\\" is deprecated and in the next version (v0.29) the behavior will change from a \" \\\n",
      "100%|████████████████████████████████████████████████████████████████████████████████████| 1/1 [00:02<00:00,  2.64s/it]\n"
     ]
    },
    {
     "name": "stdout",
     "output_type": "stream",
     "text": [
      "Predicted Probability: 4.732%\n",
      "Percentile of Predicted Probability: 17.741%\n",
      "Feature Importance (sorted low to high): {'EDUHIGHCAT': -0.06416184790874475, 'IRALCRC': -0.05757904498673491, 'IRALCAGE': -0.05007752799366882, 'ADDSCEV': -0.04636272522441392, 'BOOKED': -0.04610311755250994, 'IRCIGRC': -0.04290111372009409, 'ADDPREV': -0.03101906293030407, 'IRLSDRC': -0.02994374515298715, 'CIGAGE': -0.02763485430841031, 'IRMJRC': -0.014376088638008391, 'IRINHALREC': -0.0080273269693957, 'FUCIG18': -0.007696266243846145, 'IRSEX': -0.006800024960628315, 'IRECSTMOREC': -0.0027943415037256364, 'CIGDLYMO': 0.0, 'TXEVRRCVD2': 0.0, 'TXYRRECVD2': 0.0, 'IRCRKRC': 0.0016075626979451321, 'IRALCFY': 0.0016267228514069143, 'IRMJFY': 0.002015228808146849, 'CABINGEVR': 0.004000162744787518, 'FUMJ18': 0.007105469125356215, 'TOBYR': 0.008153716426889432, 'IRCOCRC': 0.0166592035059156, 'IRHALLUCREC': 0.022295957117217713, 'AGE2': 0.027939896947275902, 'IRMETHAMREC': 0.07914359517378383, 'IRHERRC': 0.1498011926943617}\n",
      "\n",
      "AGE2 10  | TEST 17\n",
      "\n",
      "{'NAME': 'Test Scripter', 'IRSEX': 2, 'EDUHIGHCAT': 3, 'AGE2': 10, 'IRALCRC': 3, 'IRALCFY': 100, 'CABINGEVR': 991, 'IRALCAGE': 21, 'TXYRRECVD2': 0, 'TXEVRRCVD2': 0, 'IRCIGRC': 4, 'CIGDLYMO': 1, 'CIGAGE': 25, 'TOBYR': 0, 'FUCIG18': 2, 'IRMJRC': 2, 'IRMJFY': 20, 'FUMJ18': 1, 'IRCOCRC': 9, 'IRCRKRC': 9, 'IRHERRC': 9, 'IRHALLUCREC': 1, 'IRLSDRC': 2, 'IRECSTMOREC': 9, 'IRINHALREC': 2, 'IRMETHAMREC': 9, 'ADDPREV': 94, 'ADDSCEV': 94, 'BOOKED': 97}\n"
     ]
    },
    {
     "name": "stderr",
     "output_type": "stream",
     "text": [
      "  0%|                                                                                            | 0/1 [00:00<?, ?it/s]C:\\Users\\camke\\Anaconda3\\lib\\site-packages\\shap\\explainers\\kernel.py:535: UserWarning: l1_reg=\"auto\" is deprecated and in the next version (v0.29) the behavior will change from a conditional use of AIC to simply \"num_features(10)\"!\n",
      "  \"l1_reg=\\\"auto\\\" is deprecated and in the next version (v0.29) the behavior will change from a \" \\\n",
      "C:\\Users\\camke\\Anaconda3\\lib\\site-packages\\shap\\explainers\\kernel.py:535: UserWarning: l1_reg=\"auto\" is deprecated and in the next version (v0.29) the behavior will change from a conditional use of AIC to simply \"num_features(10)\"!\n",
      "  \"l1_reg=\\\"auto\\\" is deprecated and in the next version (v0.29) the behavior will change from a \" \\\n",
      "100%|████████████████████████████████████████████████████████████████████████████████████| 1/1 [00:02<00:00,  2.51s/it]\n"
     ]
    },
    {
     "name": "stdout",
     "output_type": "stream",
     "text": [
      "Predicted Probability: 8.021%\n",
      "Percentile of Predicted Probability: 43.828%\n",
      "Feature Importance (sorted low to high): {'ADDSCEV': -0.31523969087209275, 'IRCIGRC': -0.07254324623733555, 'IRALCAGE': -0.06788832839021494, 'BOOKED': -0.05597960985205054, 'IRALCRC': -0.012207737550301835, 'FUCIG18': -0.008068393279479821, 'IRSEX': -0.007224296039591481, 'IRHERRC': -0.007028496521698582, 'IRCOCRC': -0.005137572135681737, 'IRECSTMOREC': -0.004456022904178181, 'CABINGEVR': 0.0, 'CIGDLYMO': 0.0, 'IRCRKRC': 0.0, 'IRMETHAMREC': 0.0, 'TXYRRECVD2': 0.0, 'EDUHIGHCAT': 0.0009653026141053303, 'CIGAGE': 0.0019765595742216036, 'TXEVRRCVD2': 0.003047414174062124, 'TOBYR': 0.007130378736981087, 'FUMJ18': 0.007945387786915059, 'IRMJFY': 0.008277176409189395, 'IRMJRC': 0.019323815823072618, 'IRLSDRC': 0.01958295599073403, 'IRALCFY': 0.02414012550971697, 'AGE2': 0.03038302917714389, 'IRHALLUCREC': 0.0533141640555915, 'IRINHALREC': 0.08984441743632052, 'ADDPREV': 0.20760957825011978}\n",
      "\n",
      "AGE2 11  | TEST 18\n",
      "\n",
      "{'NAME': 'Test Scripter', 'IRSEX': 1, 'EDUHIGHCAT': 3, 'AGE2': 11, 'IRALCRC': 1, 'IRALCFY': 12, 'CABINGEVR': 991, 'IRALCAGE': 14, 'TXYRRECVD2': 1, 'TXEVRRCVD2': 0, 'IRCIGRC': 4, 'CIGDLYMO': 1, 'CIGAGE': 40, 'TOBYR': 1, 'FUCIG18': 1, 'IRMJRC': 2, 'IRMJFY': 3, 'FUMJ18': 1, 'IRCOCRC': 2, 'IRCRKRC': 3, 'IRHERRC': 1, 'IRHALLUCREC': 2, 'IRLSDRC': 1, 'IRECSTMOREC': 1, 'IRINHALREC': 3, 'IRMETHAMREC': 9, 'ADDPREV': 1, 'ADDSCEV': 94, 'BOOKED': 1}\n"
     ]
    },
    {
     "name": "stderr",
     "output_type": "stream",
     "text": [
      "  0%|                                                                                            | 0/1 [00:00<?, ?it/s]C:\\Users\\camke\\Anaconda3\\lib\\site-packages\\shap\\explainers\\kernel.py:535: UserWarning: l1_reg=\"auto\" is deprecated and in the next version (v0.29) the behavior will change from a conditional use of AIC to simply \"num_features(10)\"!\n",
      "  \"l1_reg=\\\"auto\\\" is deprecated and in the next version (v0.29) the behavior will change from a \" \\\n",
      "C:\\Users\\camke\\Anaconda3\\lib\\site-packages\\shap\\explainers\\kernel.py:535: UserWarning: l1_reg=\"auto\" is deprecated and in the next version (v0.29) the behavior will change from a conditional use of AIC to simply \"num_features(10)\"!\n",
      "  \"l1_reg=\\\"auto\\\" is deprecated and in the next version (v0.29) the behavior will change from a \" \\\n",
      "100%|████████████████████████████████████████████████████████████████████████████████████| 1/1 [00:02<00:00,  2.39s/it]\n"
     ]
    },
    {
     "name": "stdout",
     "output_type": "stream",
     "text": [
      "Predicted Probability: 27.047%\n",
      "Percentile of Predicted Probability: 82.184%\n",
      "Feature Importance (sorted low to high): {'ADDSCEV': -0.37034840436442074, 'IRCIGRC': -0.08320480001614039, 'ADDPREV': -0.04934874250383582, 'IRLSDRC': -0.042084760332915284, 'CIGAGE': -0.03966515854177182, 'TOBYR': -0.013089406495004901, 'BOOKED': -0.011194093615815512, 'IRMJFY': -0.010622222164468575, 'IRMETHAMREC': -0.0033359802487773448, 'EDUHIGHCAT': -0.0005504200134429788, 'CIGDLYMO': 0.0, 'TXEVRRCVD2': 0.0, 'IRCRKRC': 0.002131397528523808, 'CABINGEVR': 0.005908640585530353, 'FUCIG18': 0.00965593281408516, 'FUMJ18': 0.012473285100197386, 'IRSEX': 0.014451617999425386, 'IRALCAGE': 0.01488578703210253, 'IRALCFY': 0.015359181547576739, 'IRALCRC': 0.016884129158913186, 'IRMJRC': 0.028135295952467793, 'IRHALLUCREC': 0.03138351375324735, 'AGE2': 0.03857530668085911, 'IRINHALREC': 0.04646047966084496, 'IRECSTMOREC': 0.054351344714378726, 'TXYRRECVD2': 0.07118238361333293, 'IRCOCRC': 0.08080077782732173, 'IRHERRC': 0.2888293863598703}\n",
      "\n",
      "AGE2 12  | TEST 19\n",
      "\n",
      "{'NAME': 'Test Scripter', 'IRSEX': 2, 'EDUHIGHCAT': 1, 'AGE2': 12, 'IRALCRC': 3, 'IRALCFY': 12, 'CABINGEVR': 991, 'IRALCAGE': 20, 'TXYRRECVD2': 1, 'TXEVRRCVD2': 1, 'IRCIGRC': 1, 'CIGDLYMO': 2, 'CIGAGE': 40, 'TOBYR': 1, 'FUCIG18': 2, 'IRMJRC': 3, 'IRMJFY': 10, 'FUMJ18': 2, 'IRCOCRC': 9, 'IRCRKRC': 3, 'IRHERRC': 3, 'IRHALLUCREC': 9, 'IRLSDRC': 2, 'IRECSTMOREC': 2, 'IRINHALREC': 2, 'IRMETHAMREC': 9, 'ADDPREV': 94, 'ADDSCEV': 94, 'BOOKED': 97}\n"
     ]
    },
    {
     "name": "stderr",
     "output_type": "stream",
     "text": [
      "  0%|                                                                                            | 0/1 [00:00<?, ?it/s]C:\\Users\\camke\\Anaconda3\\lib\\site-packages\\shap\\explainers\\kernel.py:535: UserWarning: l1_reg=\"auto\" is deprecated and in the next version (v0.29) the behavior will change from a conditional use of AIC to simply \"num_features(10)\"!\n",
      "  \"l1_reg=\\\"auto\\\" is deprecated and in the next version (v0.29) the behavior will change from a \" \\\n",
      "C:\\Users\\camke\\Anaconda3\\lib\\site-packages\\shap\\explainers\\kernel.py:535: UserWarning: l1_reg=\"auto\" is deprecated and in the next version (v0.29) the behavior will change from a conditional use of AIC to simply \"num_features(10)\"!\n",
      "  \"l1_reg=\\\"auto\\\" is deprecated and in the next version (v0.29) the behavior will change from a \" \\\n",
      "100%|████████████████████████████████████████████████████████████████████████████████████| 1/1 [00:02<00:00,  2.35s/it]\n"
     ]
    },
    {
     "name": "stdout",
     "output_type": "stream",
     "text": [
      "Predicted Probability: 23.109%\n",
      "Percentile of Predicted Probability: 77.680%\n",
      "Feature Importance (sorted low to high): {'ADDSCEV': -0.3309538768816997, 'BOOKED': -0.058451768316195946, 'IRALCAGE': -0.03599199220917295, 'CIGAGE': -0.03377538872308313, 'IRHALLUCREC': -0.012463313664143563, 'TOBYR': -0.010054706066223648, 'IRSEX': -0.010009851639659846, 'FUMJ18': -0.009985575826246354, 'FUCIG18': -0.008544327982377092, 'IRCOCRC': -0.0058268196024427385, 'IRALCRC': -0.0033880202995501436, 'IRMJRC': -0.0032315569382139545, 'CIGDLYMO': 0.0, 'IRMETHAMREC': 0.0, 'IRMJFY': 0.0, 'TXEVRRCVD2': 0.0, 'IRCRKRC': 0.0002302740179976545, 'CABINGEVR': 0.006266858456707032, 'IRALCFY': 0.008625794866745556, 'IRCIGRC': 0.015436623438988557, 'IRLSDRC': 0.022202573517625335, 'AGE2': 0.023651295271055958, 'IRECSTMOREC': 0.03327550336881601, 'EDUHIGHCAT': 0.037941856941053405, 'IRHERRC': 0.054585285212488455, 'TXYRRECVD2': 0.06499354195587431, 'IRINHALREC': 0.09283637053080326, 'ADDPREV': 0.2312708860796478}\n",
      "\n",
      "AGE2 13  | TEST 20\n",
      "\n",
      "{'NAME': 'Test Scripter', 'IRSEX': 2, 'EDUHIGHCAT': 1, 'AGE2': 13, 'IRALCRC': 2, 'IRALCFY': 1, 'CABINGEVR': 2, 'IRALCAGE': 21, 'TXYRRECVD2': 1, 'TXEVRRCVD2': 1, 'IRCIGRC': 4, 'CIGDLYMO': 1, 'CIGAGE': 30, 'TOBYR': 1, 'FUCIG18': 2, 'IRMJRC': 2, 'IRMJFY': 3, 'FUMJ18': 2, 'IRCOCRC': 3, 'IRCRKRC': 9, 'IRHERRC': 9, 'IRHALLUCREC': 3, 'IRLSDRC': 1, 'IRECSTMOREC': 2, 'IRINHALREC': 2, 'IRMETHAMREC': 2, 'ADDPREV': 1, 'ADDSCEV': 94, 'BOOKED': 97}\n"
     ]
    },
    {
     "name": "stderr",
     "output_type": "stream",
     "text": [
      "  0%|                                                                                            | 0/1 [00:00<?, ?it/s]C:\\Users\\camke\\Anaconda3\\lib\\site-packages\\shap\\explainers\\kernel.py:535: UserWarning: l1_reg=\"auto\" is deprecated and in the next version (v0.29) the behavior will change from a conditional use of AIC to simply \"num_features(10)\"!\n",
      "  \"l1_reg=\\\"auto\\\" is deprecated and in the next version (v0.29) the behavior will change from a \" \\\n",
      "C:\\Users\\camke\\Anaconda3\\lib\\site-packages\\shap\\explainers\\kernel.py:535: UserWarning: l1_reg=\"auto\" is deprecated and in the next version (v0.29) the behavior will change from a conditional use of AIC to simply \"num_features(10)\"!\n",
      "  \"l1_reg=\\\"auto\\\" is deprecated and in the next version (v0.29) the behavior will change from a \" \\\n",
      "100%|████████████████████████████████████████████████████████████████████████████████████| 1/1 [00:02<00:00,  2.37s/it]\n"
     ]
    },
    {
     "name": "stdout",
     "output_type": "stream",
     "text": [
      "Predicted Probability: 1.802%\n",
      "Percentile of Predicted Probability: 1.543%\n",
      "Feature Importance (sorted low to high): {'ADDSCEV': -0.16655827463428025, 'IRALCAGE': -0.03975117450521236, 'IRCIGRC': -0.03815931194803587, 'BOOKED': -0.03459714299549817, 'CIGAGE': -0.025465948264673518, 'ADDPREV': -0.023753863028101674, 'IRLSDRC': -0.020400547279803005, 'CABINGEVR': -0.011123499609368093, 'FUCIG18': -0.008932795745265787, 'IRMJFY': -0.008292118449134495, 'FUMJ18': -0.006034443796334721, 'TOBYR': -0.0055242447819590645, 'IRSEX': -0.005158079290153161, 'IRALCFY': -0.00435432928733602, 'IRHERRC': -0.0034504649125469827, 'IRCRKRC': -0.0028919903959797044, 'CIGDLYMO': 0.0, 'TXEVRRCVD2': 0.0, 'IRALCRC': 0.002350076249226299, 'AGE2': 0.008364407359019208, 'IRHALLUCREC': 0.010672494818769737, 'IRMJRC': 0.014801026918302485, 'IRCOCRC': 0.01595234090577012, 'IRECSTMOREC': 0.017490485596042285, 'EDUHIGHCAT': 0.03132231848225171, 'TXYRRECVD2': 0.038514652446822145, 'IRMETHAMREC': 0.05987470648801009, 'IRINHALREC': 0.06067674568971995}\n",
      "\n",
      "AGE2 14  | TEST 21\n",
      "\n",
      "{'NAME': 'Test Scripter', 'IRSEX': 1, 'EDUHIGHCAT': 4, 'AGE2': 14, 'IRALCRC': 9, 'IRALCFY': 12, 'CABINGEVR': 1, 'IRALCAGE': 14, 'TXYRRECVD2': 1, 'TXEVRRCVD2': 0, 'IRCIGRC': 9, 'CIGDLYMO': 1, 'CIGAGE': 10, 'TOBYR': 1, 'FUCIG18': 1, 'IRMJRC': 3, 'IRMJFY': 200, 'FUMJ18': 1, 'IRCOCRC': 9, 'IRCRKRC': 1, 'IRHERRC': 9, 'IRHALLUCREC': 1, 'IRLSDRC': 2, 'IRECSTMOREC': 3, 'IRINHALREC': 3, 'IRMETHAMREC': 9, 'ADDPREV': 94, 'ADDSCEV': 1, 'BOOKED': 94}\n"
     ]
    },
    {
     "name": "stderr",
     "output_type": "stream",
     "text": [
      "  0%|                                                                                            | 0/1 [00:00<?, ?it/s]C:\\Users\\camke\\Anaconda3\\lib\\site-packages\\shap\\explainers\\kernel.py:535: UserWarning: l1_reg=\"auto\" is deprecated and in the next version (v0.29) the behavior will change from a conditional use of AIC to simply \"num_features(10)\"!\n",
      "  \"l1_reg=\\\"auto\\\" is deprecated and in the next version (v0.29) the behavior will change from a \" \\\n",
      "C:\\Users\\camke\\Anaconda3\\lib\\site-packages\\shap\\explainers\\kernel.py:535: UserWarning: l1_reg=\"auto\" is deprecated and in the next version (v0.29) the behavior will change from a conditional use of AIC to simply \"num_features(10)\"!\n",
      "  \"l1_reg=\\\"auto\\\" is deprecated and in the next version (v0.29) the behavior will change from a \" \\\n",
      "100%|████████████████████████████████████████████████████████████████████████████████████| 1/1 [00:02<00:00,  2.37s/it]\n"
     ]
    },
    {
     "name": "stdout",
     "output_type": "stream",
     "text": [
      "Predicted Probability: 60.000%\n",
      "Percentile of Predicted Probability: 95.359%\n",
      "Feature Importance (sorted low to high): {'IRALCRC': -0.0871012712139803, 'ADDSCEV': -0.08693837358863726, 'BOOKED': -0.0775320300429282, 'IRCRKRC': -0.047548673490381804, 'CIGAGE': -0.023258181372969505, 'TOBYR': -0.019099423364928342, 'IRMETHAMREC': -0.007357664618073981, 'IRCOCRC': -0.004387679834760155, 'IRMJRC': -0.004186968055992724, 'CIGDLYMO': 0.0, 'TXEVRRCVD2': 0.0, 'IRHERRC': 0.00023960458719149424, 'AGE2': 0.007022883560515086, 'CABINGEVR': 0.007216073391851235, 'FUMJ18': 0.015583106569034472, 'FUCIG18': 0.01575560718523633, 'IRMJFY': 0.015861897436367983, 'EDUHIGHCAT': 0.016381263090998827, 'IRSEX': 0.017188579222029488, 'IRALCAGE': 0.020428622797041662, 'IRALCFY': 0.025809986234058002, 'IRECSTMOREC': 0.027157459558305924, 'IRLSDRC': 0.02732438465610565, 'IRCIGRC': 0.03980841996320705, 'IRINHALREC': 0.06022546317481106, 'IRHALLUCREC': 0.08080852254909543, 'TXYRRECVD2': 0.08578287136171353, 'ADDPREV': 0.33236852825732205}\n",
      "\n",
      "AGE2 15  | TEST 22\n",
      "\n",
      "{'NAME': 'Test Scripter', 'IRSEX': 1, 'EDUHIGHCAT': 4, 'AGE2': 15, 'IRALCRC': 2, 'IRALCFY': 1, 'CABINGEVR': 991, 'IRALCAGE': 14, 'TXYRRECVD2': 1, 'TXEVRRCVD2': 0, 'IRCIGRC': 4, 'CIGDLYMO': 1, 'CIGAGE': 19, 'TOBYR': 1, 'FUCIG18': 2, 'IRMJRC': 2, 'IRMJFY': 365, 'FUMJ18': 2, 'IRCOCRC': 9, 'IRCRKRC': 2, 'IRHERRC': 9, 'IRHALLUCREC': 1, 'IRLSDRC': 2, 'IRECSTMOREC': 2, 'IRINHALREC': 2, 'IRMETHAMREC': 2, 'ADDPREV': 2, 'ADDSCEV': 2, 'BOOKED': 1}\n"
     ]
    },
    {
     "name": "stderr",
     "output_type": "stream",
     "text": [
      "  0%|                                                                                            | 0/1 [00:00<?, ?it/s]C:\\Users\\camke\\Anaconda3\\lib\\site-packages\\shap\\explainers\\kernel.py:535: UserWarning: l1_reg=\"auto\" is deprecated and in the next version (v0.29) the behavior will change from a conditional use of AIC to simply \"num_features(10)\"!\n",
      "  \"l1_reg=\\\"auto\\\" is deprecated and in the next version (v0.29) the behavior will change from a \" \\\n",
      "C:\\Users\\camke\\Anaconda3\\lib\\site-packages\\shap\\explainers\\kernel.py:535: UserWarning: l1_reg=\"auto\" is deprecated and in the next version (v0.29) the behavior will change from a conditional use of AIC to simply \"num_features(10)\"!\n",
      "  \"l1_reg=\\\"auto\\\" is deprecated and in the next version (v0.29) the behavior will change from a \" \\\n",
      "100%|████████████████████████████████████████████████████████████████████████████████████| 1/1 [00:02<00:00,  2.40s/it]\n"
     ]
    },
    {
     "name": "stdout",
     "output_type": "stream",
     "text": [
      "Predicted Probability: 58.537%\n",
      "Percentile of Predicted Probability: 95.109%\n",
      "Feature Importance (sorted low to high): {'IRCIGRC': -0.09884289892845624, 'ADDSCEV': -0.07487783426146671, 'IRCRKRC': -0.04958443304167198, 'CIGAGE': -0.0460192992004952, 'AGE2': -0.03625000901397164, 'TOBYR': -0.017600309043623447, 'FUCIG18': -0.015920903175721923, 'BOOKED': -0.014576323104152383, 'FUMJ18': -0.012192167926598121, 'IRCOCRC': -0.011389006995502382, 'IRALCFY': -0.008420267979180024, 'IRHERRC': -0.0029141060793081153, 'CIGDLYMO': 0.0, 'TXEVRRCVD2': 0.0, 'IRALCRC': 0.0032919665828878564, 'CABINGEVR': 0.009278499983387895, 'IRSEX': 0.019194399602106893, 'EDUHIGHCAT': 0.019440658303075453, 'IRALCAGE': 0.026268308501395304, 'IRLSDRC': 0.026393157475083417, 'ADDPREV': 0.031676445661016045, 'IRMJRC': 0.042485286228334224, 'IRECSTMOREC': 0.05673089467959752, 'IRMJFY': 0.08720956368525001, 'IRHALLUCREC': 0.08858244963252303, 'TXYRRECVD2': 0.0942670226273748, 'IRINHALREC': 0.150050222481283, 'IRMETHAMREC': 0.15663754497760227}\n",
      "\n",
      "AGE2 16  | TEST 23\n",
      "\n",
      "{'NAME': 'Test Scripter', 'IRSEX': 1, 'EDUHIGHCAT': 5, 'AGE2': 16, 'IRALCRC': 3, 'IRALCFY': 300, 'CABINGEVR': 991, 'IRALCAGE': 100, 'TXYRRECVD2': 0, 'TXEVRRCVD2': 1, 'IRCIGRC': 2, 'CIGDLYMO': 1, 'CIGAGE': 40, 'TOBYR': 0, 'FUCIG18': 2, 'IRMJRC': 2, 'IRMJFY': 993, 'FUMJ18': 2, 'IRCOCRC': 9, 'IRCRKRC': 1, 'IRHERRC': 9, 'IRHALLUCREC': 3, 'IRLSDRC': 3, 'IRECSTMOREC': 2, 'IRINHALREC': 3, 'IRMETHAMREC': 1, 'ADDPREV': 1, 'ADDSCEV': 94, 'BOOKED': 97}\n"
     ]
    },
    {
     "name": "stderr",
     "output_type": "stream",
     "text": [
      "  0%|                                                                                            | 0/1 [00:00<?, ?it/s]C:\\Users\\camke\\Anaconda3\\lib\\site-packages\\shap\\explainers\\kernel.py:535: UserWarning: l1_reg=\"auto\" is deprecated and in the next version (v0.29) the behavior will change from a conditional use of AIC to simply \"num_features(10)\"!\n",
      "  \"l1_reg=\\\"auto\\\" is deprecated and in the next version (v0.29) the behavior will change from a \" \\\n",
      "C:\\Users\\camke\\Anaconda3\\lib\\site-packages\\shap\\explainers\\kernel.py:535: UserWarning: l1_reg=\"auto\" is deprecated and in the next version (v0.29) the behavior will change from a conditional use of AIC to simply \"num_features(10)\"!\n",
      "  \"l1_reg=\\\"auto\\\" is deprecated and in the next version (v0.29) the behavior will change from a \" \\\n",
      "100%|████████████████████████████████████████████████████████████████████████████████████| 1/1 [00:02<00:00,  2.36s/it]\n"
     ]
    },
    {
     "name": "stdout",
     "output_type": "stream",
     "text": [
      "Predicted Probability: 0.000%\n",
      "Percentile of Predicted Probability: 0.400%\n",
      "Feature Importance (sorted low to high): {'ADDSCEV': -0.10166844129017108, 'EDUHIGHCAT': -0.030278764836698745, 'AGE2': -0.025884958073645936, 'BOOKED': -0.02228418362947722, 'ADDPREV': -0.014622222294141549, 'CIGAGE': -0.013752778666102472, 'IRCRKRC': -0.013690517110098305, 'IRCIGRC': -0.010797665173900593, 'IRALCAGE': -0.010347258241232858, 'FUMJ18': -0.005973296627723168, 'FUCIG18': -0.005076153906759459, 'IRALCRC': -0.00474114852780437, 'IRLSDRC': -0.0030529522988002877, 'IRCOCRC': -0.0028935056051633407, 'IRHERRC': -0.0013038497652953646, 'CIGDLYMO': 0.0, 'IRMJFY': 0.0, 'TXEVRRCVD2': 0.0, 'TXYRRECVD2': 0.0, 'CABINGEVR': 0.0021827559537836994, 'IRHALLUCREC': 0.003955976291809812, 'TOBYR': 0.004103996613311289, 'IRSEX': 0.005654790534401544, 'IRMJRC': 0.006912066286384438, 'IRINHALREC': 0.013997249106759577, 'IRECSTMOREC': 0.014879705120380525, 'IRALCFY': 0.01539760635527078, 'IRMETHAMREC': 0.03683655779714599}\n",
      "\n",
      "AGE2 17  | TEST 24\n",
      "\n",
      "{'NAME': 'Test Scripter', 'IRSEX': 2, 'EDUHIGHCAT': 5, 'AGE2': 17, 'IRALCRC': 1, 'IRALCFY': 300, 'CABINGEVR': 991, 'IRALCAGE': 100, 'TXYRRECVD2': 1, 'TXEVRRCVD2': 0, 'IRCIGRC': 2, 'CIGDLYMO': 1, 'CIGAGE': 22, 'TOBYR': 0, 'FUCIG18': 1, 'IRMJRC': 3, 'IRMJFY': 1, 'FUMJ18': 2, 'IRCOCRC': 3, 'IRCRKRC': 2, 'IRHERRC': 2, 'IRHALLUCREC': 1, 'IRLSDRC': 3, 'IRECSTMOREC': 1, 'IRINHALREC': 2, 'IRMETHAMREC': 2, 'ADDPREV': 2, 'ADDSCEV': 2, 'BOOKED': 94}\n"
     ]
    },
    {
     "name": "stderr",
     "output_type": "stream",
     "text": [
      "  0%|                                                                                            | 0/1 [00:00<?, ?it/s]C:\\Users\\camke\\Anaconda3\\lib\\site-packages\\shap\\explainers\\kernel.py:535: UserWarning: l1_reg=\"auto\" is deprecated and in the next version (v0.29) the behavior will change from a conditional use of AIC to simply \"num_features(10)\"!\n",
      "  \"l1_reg=\\\"auto\\\" is deprecated and in the next version (v0.29) the behavior will change from a \" \\\n",
      "C:\\Users\\camke\\Anaconda3\\lib\\site-packages\\shap\\explainers\\kernel.py:535: UserWarning: l1_reg=\"auto\" is deprecated and in the next version (v0.29) the behavior will change from a conditional use of AIC to simply \"num_features(10)\"!\n",
      "  \"l1_reg=\\\"auto\\\" is deprecated and in the next version (v0.29) the behavior will change from a \" \\\n",
      "100%|████████████████████████████████████████████████████████████████████████████████████| 1/1 [00:02<00:00,  2.42s/it]\n"
     ]
    },
    {
     "name": "stdout",
     "output_type": "stream",
     "text": [
      "Predicted Probability: 64.115%\n",
      "Percentile of Predicted Probability: 96.371%\n",
      "Feature Importance (sorted low to high): {'AGE2': -0.1277921693619336, 'EDUHIGHCAT': -0.09875301479478518, 'BOOKED': -0.07901197140604554, 'ADDSCEV': -0.0637487487740915, 'IRCRKRC': -0.04276191736511789, 'IRCIGRC': -0.03930847050054703, 'IRALCAGE': -0.030561719095876294, 'FUMJ18': -0.012713043738434127, 'IRSEX': -0.008525736092222319, 'IRMJRC': -0.004066312639570302, 'IRLSDRC': -0.003793163324018245, 'CIGDLYMO': 0.0, 'IRMJFY': 0.0, 'TXEVRRCVD2': 0.0, 'CABINGEVR': 0.006326772630312574, 'FUCIG18': 0.011220695072569897, 'TOBYR': 0.0132103392280577, 'IRALCRC': 0.016924176673838665, 'ADDPREV': 0.032175144386817844, 'IRCOCRC': 0.038366768732399345, 'CIGAGE': 0.05019670009484342, 'IRALCFY': 0.05295899972041346, 'IRECSTMOREC': 0.06058989344054666, 'IRHALLUCREC': 0.07156766946581289, 'TXYRRECVD2': 0.07961193213001011, 'IRINHALREC': 0.1357448429063235, 'IRMETHAMREC': 0.14086685748216773, 'IRHERRC': 0.27997680849961304}\n",
      "\n",
      "IRALCRC 1  | TEST 25\n",
      "\n",
      "{'NAME': 'Test Scripter', 'IRSEX': 2, 'EDUHIGHCAT': 3, 'AGE2': 9, 'IRALCRC': 1, 'IRALCFY': 1, 'CABINGEVR': 991, 'IRALCAGE': 991, 'TXYRRECVD2': 0, 'TXEVRRCVD2': 1, 'IRCIGRC': 4, 'CIGDLYMO': 91, 'CIGAGE': 40, 'TOBYR': 0, 'FUCIG18': 2, 'IRMJRC': 1, 'IRMJFY': 30, 'FUMJ18': 1, 'IRCOCRC': 1, 'IRCRKRC': 3, 'IRHERRC': 3, 'IRHALLUCREC': 2, 'IRLSDRC': 3, 'IRECSTMOREC': 2, 'IRINHALREC': 3, 'IRMETHAMREC': 1, 'ADDPREV': 1, 'ADDSCEV': 1, 'BOOKED': 97}\n"
     ]
    },
    {
     "name": "stderr",
     "output_type": "stream",
     "text": [
      "  0%|                                                                                            | 0/1 [00:00<?, ?it/s]C:\\Users\\camke\\Anaconda3\\lib\\site-packages\\shap\\explainers\\kernel.py:535: UserWarning: l1_reg=\"auto\" is deprecated and in the next version (v0.29) the behavior will change from a conditional use of AIC to simply \"num_features(10)\"!\n",
      "  \"l1_reg=\\\"auto\\\" is deprecated and in the next version (v0.29) the behavior will change from a \" \\\n",
      "C:\\Users\\camke\\Anaconda3\\lib\\site-packages\\shap\\explainers\\kernel.py:535: UserWarning: l1_reg=\"auto\" is deprecated and in the next version (v0.29) the behavior will change from a conditional use of AIC to simply \"num_features(10)\"!\n",
      "  \"l1_reg=\\\"auto\\\" is deprecated and in the next version (v0.29) the behavior will change from a \" \\\n",
      "100%|████████████████████████████████████████████████████████████████████████████████████| 1/1 [00:02<00:00,  2.36s/it]\n"
     ]
    },
    {
     "name": "stdout",
     "output_type": "stream",
     "text": [
      "Predicted Probability: 28.058%\n",
      "Percentile of Predicted Probability: 86.119%\n",
      "Feature Importance (sorted low to high): {'IRCIGRC': -0.08828829011243405, 'ADDSCEV': -0.07706032029449397, 'BOOKED': -0.07155494076939681, 'ADDPREV': -0.05351623507257243, 'CIGAGE': -0.04428323416592435, 'FUCIG18': -0.011772003386974378, 'IRSEX': -0.01030704042004496, 'IRCRKRC': -0.0027019523882395036, 'IRLSDRC': -0.0005075273005661976, 'CIGDLYMO': 0.0, 'IRALCFY': 0.0, 'IRMJFY': 0.0, 'TXEVRRCVD2': 0.0, 'TXYRRECVD2': 0.0, 'CABINGEVR': 0.006271405509259469, 'EDUHIGHCAT': 0.006328779236497148, 'FUMJ18': 0.011160578797969285, 'IRALCRC': 0.012519539216039939, 'TOBYR': 0.013378856116712912, 'IRALCAGE': 0.013590676787346288, 'IRECSTMOREC': 0.03442405854926134, 'IRHALLUCREC': 0.03453642976018534, 'IRMJRC': 0.0363742463058398, 'IRINHALREC': 0.04065065145658223, 'AGE2': 0.044084334691379304, 'IRHERRC': 0.06504817354696862, 'IRCOCRC': 0.07145465673122892, 'IRMETHAMREC': 0.08829770478595445}\n",
      "\n",
      "IRALCRC 2  | TEST 26\n",
      "\n",
      "{'NAME': 'Test Scripter', 'IRSEX': 1, 'EDUHIGHCAT': 4, 'AGE2': 16, 'IRALCRC': 2, 'IRALCFY': 993, 'CABINGEVR': 991, 'IRALCAGE': 20, 'TXYRRECVD2': 1, 'TXEVRRCVD2': 0, 'IRCIGRC': 3, 'CIGDLYMO': 2, 'CIGAGE': 18, 'TOBYR': 0, 'FUCIG18': 1, 'IRMJRC': 1, 'IRMJFY': 30, 'FUMJ18': 1, 'IRCOCRC': 1, 'IRCRKRC': 2, 'IRHERRC': 9, 'IRHALLUCREC': 9, 'IRLSDRC': 3, 'IRECSTMOREC': 2, 'IRINHALREC': 9, 'IRMETHAMREC': 3, 'ADDPREV': 1, 'ADDSCEV': 94, 'BOOKED': 94}\n"
     ]
    },
    {
     "name": "stderr",
     "output_type": "stream",
     "text": [
      "  0%|                                                                                            | 0/1 [00:00<?, ?it/s]C:\\Users\\camke\\Anaconda3\\lib\\site-packages\\shap\\explainers\\kernel.py:535: UserWarning: l1_reg=\"auto\" is deprecated and in the next version (v0.29) the behavior will change from a conditional use of AIC to simply \"num_features(10)\"!\n",
      "  \"l1_reg=\\\"auto\\\" is deprecated and in the next version (v0.29) the behavior will change from a \" \\\n",
      "C:\\Users\\camke\\Anaconda3\\lib\\site-packages\\shap\\explainers\\kernel.py:535: UserWarning: l1_reg=\"auto\" is deprecated and in the next version (v0.29) the behavior will change from a conditional use of AIC to simply \"num_features(10)\"!\n",
      "  \"l1_reg=\\\"auto\\\" is deprecated and in the next version (v0.29) the behavior will change from a \" \\\n",
      "100%|████████████████████████████████████████████████████████████████████████████████████| 1/1 [00:02<00:00,  2.41s/it]\n"
     ]
    },
    {
     "name": "stdout",
     "output_type": "stream",
     "text": [
      "Predicted Probability: 0.000%\n",
      "Percentile of Predicted Probability: 0.400%\n",
      "Feature Importance (sorted low to high): {'ADDSCEV': -0.13465324120832278, 'AGE2': -0.034320044201765154, 'IRCIGRC': -0.028707515990594894, 'BOOKED': -0.027336007173814417, 'ADDPREV': -0.017514901675036013, 'IRCRKRC': -0.016480992008694725, 'IRALCAGE': -0.014203469873274505, 'IRINHALREC': -0.0038868094715309442, 'IRHALLUCREC': -0.003625840943845174, 'IRHERRC': -0.0028022948663787572, 'IRALCFY': -0.002268379821624228, 'IRMJFY': -0.001420670648481115, 'CIGAGE': -0.0008732342778552254, 'IRALCRC': -6.0189720487976994e-05, 'CABINGEVR': 0.0, 'CIGDLYMO': 0.0, 'TXEVRRCVD2': 0.0, 'IRLSDRC': 0.00020144419197846986, 'FUMJ18': 0.0043137685047656, 'TOBYR': 0.00435332928198659, 'EDUHIGHCAT': 0.004819857631726265, 'IRSEX': 0.0049782936769166425, 'FUCIG18': 0.005357014367304, 'IRMETHAMREC': 0.00633125590097517, 'IRMJRC': 0.014999766783940882, 'IRECSTMOREC': 0.017802495371406574, 'IRCOCRC': 0.030668460796849886, 'TXYRRECVD2': 0.031880913386088755}\n",
      "\n",
      "IRALCRC 3  | TEST 27\n",
      "\n",
      "{'NAME': 'Test Scripter', 'IRSEX': 2, 'EDUHIGHCAT': 2, 'AGE2': 6, 'IRALCRC': 3, 'IRALCFY': 993, 'CABINGEVR': 2, 'IRALCAGE': 17, 'TXYRRECVD2': 1, 'TXEVRRCVD2': 0, 'IRCIGRC': 9, 'CIGDLYMO': 91, 'CIGAGE': 991, 'TOBYR': 1, 'FUCIG18': 1, 'IRMJRC': 3, 'IRMJFY': 7, 'FUMJ18': 2, 'IRCOCRC': 2, 'IRCRKRC': 9, 'IRHERRC': 2, 'IRHALLUCREC': 2, 'IRLSDRC': 1, 'IRECSTMOREC': 2, 'IRINHALREC': 3, 'IRMETHAMREC': 3, 'ADDPREV': 1, 'ADDSCEV': 94, 'BOOKED': 1}\n"
     ]
    },
    {
     "name": "stderr",
     "output_type": "stream",
     "text": [
      "  0%|                                                                                            | 0/1 [00:00<?, ?it/s]C:\\Users\\camke\\Anaconda3\\lib\\site-packages\\shap\\explainers\\kernel.py:535: UserWarning: l1_reg=\"auto\" is deprecated and in the next version (v0.29) the behavior will change from a conditional use of AIC to simply \"num_features(10)\"!\n",
      "  \"l1_reg=\\\"auto\\\" is deprecated and in the next version (v0.29) the behavior will change from a \" \\\n",
      "C:\\Users\\camke\\Anaconda3\\lib\\site-packages\\shap\\explainers\\kernel.py:535: UserWarning: l1_reg=\"auto\" is deprecated and in the next version (v0.29) the behavior will change from a conditional use of AIC to simply \"num_features(10)\"!\n",
      "  \"l1_reg=\\\"auto\\\" is deprecated and in the next version (v0.29) the behavior will change from a \" \\\n",
      "100%|████████████████████████████████████████████████████████████████████████████████████| 1/1 [00:02<00:00,  2.39s/it]\n"
     ]
    },
    {
     "name": "stdout",
     "output_type": "stream",
     "text": [
      "Predicted Probability: 14.812%\n",
      "Percentile of Predicted Probability: 64.074%\n",
      "Feature Importance (sorted low to high): {'ADDSCEV': -0.3438170116825196, 'ADDPREV': -0.04242812893262631, 'IRLSDRC': -0.037605548616746455, 'CABINGEVR': -0.02090695553426452, 'CIGAGE': -0.020320167020917178, 'IRALCAGE': -0.014066490874365109, 'TOBYR': -0.014055809207595645, 'FUMJ18': -0.010620870328858875, 'IRALCRC': -0.009737037561464906, 'IRMJFY': -0.008724971405488377, 'IRSEX': -0.00856842618388498, 'BOOKED': -0.006869188507165405, 'IRALCFY': -0.006669991262431674, 'IRMJRC': -0.002931949343205554, 'CIGDLYMO': 0.0, 'TXEVRRCVD2': 0.0, 'IRCRKRC': 0.0011691312991712992, 'EDUHIGHCAT': 0.006142990270800553, 'FUCIG18': 0.009496600257606978, 'IRMETHAMREC': 0.013292515286921922, 'IRHALLUCREC': 0.02599041184701107, 'IRECSTMOREC': 0.029986198672244342, 'IRCIGRC': 0.0334233028856261, 'IRINHALREC': 0.040999850285056545, 'AGE2': 0.04659664212398189, 'TXYRRECVD2': 0.0647155771516211, 'IRCOCRC': 0.07377592660526491, 'IRHERRC': 0.18740973218524365}\n",
      "\n",
      "IRALCRC 9  | TEST 28\n",
      "\n",
      "{'NAME': 'Test Scripter', 'IRSEX': 1, 'EDUHIGHCAT': 1, 'AGE2': 11, 'IRALCRC': 9, 'IRALCFY': 993, 'CABINGEVR': 2, 'IRALCAGE': 21, 'TXYRRECVD2': 0, 'TXEVRRCVD2': 1, 'IRCIGRC': 9, 'CIGDLYMO': 1, 'CIGAGE': 99, 'TOBYR': 0, 'FUCIG18': 2, 'IRMJRC': 1, 'IRMJFY': 993, 'FUMJ18': 2, 'IRCOCRC': 9, 'IRCRKRC': 3, 'IRHERRC': 1, 'IRHALLUCREC': 9, 'IRLSDRC': 2, 'IRECSTMOREC': 9, 'IRINHALREC': 2, 'IRMETHAMREC': 2, 'ADDPREV': 2, 'ADDSCEV': 2, 'BOOKED': 94}\n"
     ]
    },
    {
     "name": "stderr",
     "output_type": "stream",
     "text": [
      "  0%|                                                                                            | 0/1 [00:00<?, ?it/s]C:\\Users\\camke\\Anaconda3\\lib\\site-packages\\shap\\explainers\\kernel.py:535: UserWarning: l1_reg=\"auto\" is deprecated and in the next version (v0.29) the behavior will change from a conditional use of AIC to simply \"num_features(10)\"!\n",
      "  \"l1_reg=\\\"auto\\\" is deprecated and in the next version (v0.29) the behavior will change from a \" \\\n",
      "C:\\Users\\camke\\Anaconda3\\lib\\site-packages\\shap\\explainers\\kernel.py:535: UserWarning: l1_reg=\"auto\" is deprecated and in the next version (v0.29) the behavior will change from a conditional use of AIC to simply \"num_features(10)\"!\n",
      "  \"l1_reg=\\\"auto\\\" is deprecated and in the next version (v0.29) the behavior will change from a \" \\\n",
      "100%|████████████████████████████████████████████████████████████████████████████████████| 1/1 [00:02<00:00,  2.38s/it]\n"
     ]
    },
    {
     "name": "stdout",
     "output_type": "stream",
     "text": [
      "Predicted Probability: 91.892%\n",
      "Percentile of Predicted Probability: 99.700%\n",
      "Feature Importance (sorted low to high): {'IRALCRC': -0.08170390788951021, 'IRALCAGE': -0.07433662518558903, 'ADDSCEV': -0.06640094585057343, 'BOOKED': -0.06400707085239993, 'CABINGEVR': -0.024972269934271873, 'IRCOCRC': -0.01743523112665335, 'IRCRKRC': -0.00040137327243700005, 'CIGDLYMO': 0.0, 'FUCIG18': 0.0, 'FUMJ18': 0.0, 'IRALCFY': 0.0, 'IRECSTMOREC': 0.0, 'IRHALLUCREC': 0.0, 'IRMJFY': 0.0, 'TOBYR': 0.0, 'TXEVRRCVD2': 0.0, 'TXYRRECVD2': 0.0, 'IRSEX': 0.011500968626523056, 'ADDPREV': 0.02306527274503034, 'IRLSDRC': 0.02588747150400883, 'IRMJRC': 0.034256053477678794, 'IRCIGRC': 0.0359873451743003, 'AGE2': 0.03690278505295708, 'EDUHIGHCAT': 0.047818164862176105, 'IRMETHAMREC': 0.11513206956465283, 'IRINHALREC': 0.1251166636330837, 'CIGAGE': 0.2953082588214897, 'IRHERRC': 0.3347542975806861}\n",
      "\n",
      "IRALCFY 991  | TEST 29\n",
      "\n",
      "{'NAME': 'Test Scripter', 'IRSEX': 1, 'EDUHIGHCAT': 3, 'AGE2': 12, 'IRALCRC': 9, 'IRALCFY': 991, 'CABINGEVR': 2, 'IRALCAGE': 14, 'TXYRRECVD2': 0, 'TXEVRRCVD2': 0, 'IRCIGRC': 4, 'CIGDLYMO': 2, 'CIGAGE': 40, 'TOBYR': 1, 'FUCIG18': 2, 'IRMJRC': 1, 'IRMJFY': 50, 'FUMJ18': 1, 'IRCOCRC': 9, 'IRCRKRC': 3, 'IRHERRC': 2, 'IRHALLUCREC': 9, 'IRLSDRC': 1, 'IRECSTMOREC': 1, 'IRINHALREC': 3, 'IRMETHAMREC': 2, 'ADDPREV': 1, 'ADDSCEV': 94, 'BOOKED': 1}\n"
     ]
    },
    {
     "name": "stderr",
     "output_type": "stream",
     "text": [
      "  0%|                                                                                            | 0/1 [00:00<?, ?it/s]C:\\Users\\camke\\Anaconda3\\lib\\site-packages\\shap\\explainers\\kernel.py:535: UserWarning: l1_reg=\"auto\" is deprecated and in the next version (v0.29) the behavior will change from a conditional use of AIC to simply \"num_features(10)\"!\n",
      "  \"l1_reg=\\\"auto\\\" is deprecated and in the next version (v0.29) the behavior will change from a \" \\\n",
      "C:\\Users\\camke\\Anaconda3\\lib\\site-packages\\shap\\explainers\\kernel.py:535: UserWarning: l1_reg=\"auto\" is deprecated and in the next version (v0.29) the behavior will change from a conditional use of AIC to simply \"num_features(10)\"!\n",
      "  \"l1_reg=\\\"auto\\\" is deprecated and in the next version (v0.29) the behavior will change from a \" \\\n",
      "100%|████████████████████████████████████████████████████████████████████████████████████| 1/1 [00:02<00:00,  2.37s/it]\n"
     ]
    },
    {
     "name": "stdout",
     "output_type": "stream",
     "text": [
      "Predicted Probability: 4.732%\n",
      "Percentile of Predicted Probability: 17.741%\n",
      "Feature Importance (sorted low to high): {'ADDSCEV': -0.24803111996006333, 'IRALCRC': -0.05712538371376205, 'IRCIGRC': -0.047442223929578226, 'ADDPREV': -0.030997818029913346, 'IRLSDRC': -0.02656916791003893, 'CIGAGE': -0.024379804074624346, 'CABINGEVR': -0.016615407955636992, 'FUCIG18': -0.010442449167282986, 'TOBYR': -0.007430937903646129, 'IRHALLUCREC': -0.006686264631923566, 'IRCOCRC': -0.006474615342347126, 'BOOKED': -0.004748180220204838, 'IRALCFY': -0.00451735348463328, 'CIGDLYMO': 0.0, 'TXEVRRCVD2': 0.0, 'TXYRRECVD2': 0.0, 'IRCRKRC': 0.0008216316208100385, 'EDUHIGHCAT': 0.003294857491503801, 'IRSEX': 0.00869479152275394, 'IRALCAGE': 0.00911311583118856, 'FUMJ18': 0.01004750283938155, 'AGE2': 0.01779222511609456, 'IRMJFY': 0.018834005578767705, 'IRMJRC': 0.02257729722421833, 'IRINHALREC': 0.029532241285838277, 'IRECSTMOREC': 0.031659753789640796, 'IRMETHAMREC': 0.07588304038155155, 'IRHERRC': 0.14808188364152075}\n",
      "\n",
      "IRALCFY 993  | TEST 30\n",
      "\n",
      "{'NAME': 'Test Scripter', 'IRSEX': 1, 'EDUHIGHCAT': 2, 'AGE2': 12, 'IRALCRC': 1, 'IRALCFY': 993, 'CABINGEVR': 2, 'IRALCAGE': 20, 'TXYRRECVD2': 1, 'TXEVRRCVD2': 1, 'IRCIGRC': 3, 'CIGDLYMO': 91, 'CIGAGE': 19, 'TOBYR': 1, 'FUCIG18': 1, 'IRMJRC': 3, 'IRMJFY': 3, 'FUMJ18': 1, 'IRCOCRC': 1, 'IRCRKRC': 2, 'IRHERRC': 2, 'IRHALLUCREC': 2, 'IRLSDRC': 3, 'IRECSTMOREC': 3, 'IRINHALREC': 9, 'IRMETHAMREC': 2, 'ADDPREV': 94, 'ADDSCEV': 2, 'BOOKED': 1}\n"
     ]
    },
    {
     "name": "stderr",
     "output_type": "stream",
     "text": [
      "  0%|                                                                                            | 0/1 [00:00<?, ?it/s]C:\\Users\\camke\\Anaconda3\\lib\\site-packages\\shap\\explainers\\kernel.py:535: UserWarning: l1_reg=\"auto\" is deprecated and in the next version (v0.29) the behavior will change from a conditional use of AIC to simply \"num_features(10)\"!\n",
      "  \"l1_reg=\\\"auto\\\" is deprecated and in the next version (v0.29) the behavior will change from a \" \\\n",
      "C:\\Users\\camke\\Anaconda3\\lib\\site-packages\\shap\\explainers\\kernel.py:535: UserWarning: l1_reg=\"auto\" is deprecated and in the next version (v0.29) the behavior will change from a conditional use of AIC to simply \"num_features(10)\"!\n",
      "  \"l1_reg=\\\"auto\\\" is deprecated and in the next version (v0.29) the behavior will change from a \" \\\n",
      "100%|████████████████████████████████████████████████████████████████████████████████████| 1/1 [00:02<00:00,  2.36s/it]\n"
     ]
    },
    {
     "name": "stdout",
     "output_type": "stream",
     "text": [
      "Predicted Probability: 88.235%\n",
      "Percentile of Predicted Probability: 99.488%\n",
      "Feature Importance (sorted low to high): {'ADDSCEV': -0.063279018332352, 'IRCIGRC': -0.049590475249719046, 'IRALCAGE': -0.037524569422071, 'IRCRKRC': -0.03560038350473427, 'CIGAGE': -0.03248093093438631, 'CABINGEVR': -0.02466157532228952, 'BOOKED': -0.017599001297293082, 'TOBYR': -0.011969860641136948, 'IRINHALREC': -0.010946171666034454, 'IRMJFY': -0.00650060541336811, 'IRLSDRC': -0.005783381848810609, 'IRMJRC': -0.004762026143586617, 'CIGDLYMO': 0.0, 'IRALCFY': 0.0, 'TXEVRRCVD2': 0.0, 'FUMJ18': 0.014117553462790006, 'EDUHIGHCAT': 0.016182197180511476, 'FUCIG18': 0.01678404832548111, 'IRALCRC': 0.017154426024439257, 'IRSEX': 0.017943440844684133, 'IRECSTMOREC': 0.02073203693571163, 'IRHALLUCREC': 0.03312571875495199, 'AGE2': 0.03341662604050605, 'TXYRRECVD2': 0.07657095274193781, 'IRCOCRC': 0.08277611930068474, 'IRMETHAMREC': 0.12236304788104951, 'IRHERRC': 0.2617409449667967, 'ADDPREV': 0.30769683650494106}\n",
      "\n",
      "IRALCFY 1  | TEST 31\n",
      "\n",
      "{'NAME': 'Test Scripter', 'IRSEX': 2, 'EDUHIGHCAT': 5, 'AGE2': 12, 'IRALCRC': 1, 'IRALCFY': 1, 'CABINGEVR': 1, 'IRALCAGE': 14, 'TXYRRECVD2': 1, 'TXEVRRCVD2': 1, 'IRCIGRC': 4, 'CIGDLYMO': 2, 'CIGAGE': 99, 'TOBYR': 1, 'FUCIG18': 2, 'IRMJRC': 2, 'IRMJFY': 10, 'FUMJ18': 2, 'IRCOCRC': 9, 'IRCRKRC': 1, 'IRHERRC': 2, 'IRHALLUCREC': 3, 'IRLSDRC': 2, 'IRECSTMOREC': 3, 'IRINHALREC': 1, 'IRMETHAMREC': 9, 'ADDPREV': 1, 'ADDSCEV': 1, 'BOOKED': 97}\n"
     ]
    },
    {
     "name": "stderr",
     "output_type": "stream",
     "text": [
      "  0%|                                                                                            | 0/1 [00:00<?, ?it/s]C:\\Users\\camke\\Anaconda3\\lib\\site-packages\\shap\\explainers\\kernel.py:535: UserWarning: l1_reg=\"auto\" is deprecated and in the next version (v0.29) the behavior will change from a conditional use of AIC to simply \"num_features(10)\"!\n",
      "  \"l1_reg=\\\"auto\\\" is deprecated and in the next version (v0.29) the behavior will change from a \" \\\n",
      "C:\\Users\\camke\\Anaconda3\\lib\\site-packages\\shap\\explainers\\kernel.py:535: UserWarning: l1_reg=\"auto\" is deprecated and in the next version (v0.29) the behavior will change from a conditional use of AIC to simply \"num_features(10)\"!\n",
      "  \"l1_reg=\\\"auto\\\" is deprecated and in the next version (v0.29) the behavior will change from a \" \\\n",
      "100%|████████████████████████████████████████████████████████████████████████████████████| 1/1 [00:02<00:00,  2.47s/it]\n"
     ]
    },
    {
     "name": "stdout",
     "output_type": "stream",
     "text": [
      "Predicted Probability: 64.115%\n",
      "Percentile of Predicted Probability: 96.371%\n",
      "Feature Importance (sorted low to high): {'EDUHIGHCAT': -0.09312688142149378, 'ADDSCEV': -0.08375946971570482, 'IRCIGRC': -0.07339062506527835, 'BOOKED': -0.06230336527110236, 'ADDPREV': -0.0521884176583495, 'IRCRKRC': -0.05025923811530919, 'TOBYR': -0.023803557560492877, 'FUCIG18': -0.012934874369658872, 'IRCOCRC': -0.004630927488538106, 'CIGDLYMO': 0.0, 'FUMJ18': 0.0, 'IRALCFY': 0.0, 'IRMETHAMREC': 0.0, 'IRSEX': 0.0, 'TXEVRRCVD2': 0.0, 'CABINGEVR': 0.008186104476002654, 'IRALCAGE': 0.011695520286138683, 'IRMJFY': 0.012576499044573919, 'IRALCRC': 0.013232199561749425, 'IRHALLUCREC': 0.02381072005854136, 'IRECSTMOREC': 0.0263278447778148, 'IRLSDRC': 0.0318480255772656, 'AGE2': 0.037180504956081814, 'IRMJRC': 0.04137880212637121, 'TXYRRECVD2': 0.07771195354311794, 'IRINHALREC': 0.10193848358223451, 'IRHERRC': 0.27441481181067934, 'CIGAGE': 0.27479722023644126}\n",
      "\n",
      "IRALCFY 12  | TEST 32\n",
      "\n",
      "{'NAME': 'Test Scripter', 'IRSEX': 2, 'EDUHIGHCAT': 3, 'AGE2': 7, 'IRALCRC': 9, 'IRALCFY': 12, 'CABINGEVR': 991, 'IRALCAGE': 991, 'TXYRRECVD2': 0, 'TXEVRRCVD2': 1, 'IRCIGRC': 3, 'CIGDLYMO': 91, 'CIGAGE': 991, 'TOBYR': 1, 'FUCIG18': 1, 'IRMJRC': 3, 'IRMJFY': 300, 'FUMJ18': 2, 'IRCOCRC': 9, 'IRCRKRC': 9, 'IRHERRC': 2, 'IRHALLUCREC': 9, 'IRLSDRC': 1, 'IRECSTMOREC': 1, 'IRINHALREC': 2, 'IRMETHAMREC': 2, 'ADDPREV': 2, 'ADDSCEV': 2, 'BOOKED': 2}\n"
     ]
    },
    {
     "name": "stderr",
     "output_type": "stream",
     "text": [
      "  0%|                                                                                            | 0/1 [00:00<?, ?it/s]C:\\Users\\camke\\Anaconda3\\lib\\site-packages\\shap\\explainers\\kernel.py:535: UserWarning: l1_reg=\"auto\" is deprecated and in the next version (v0.29) the behavior will change from a conditional use of AIC to simply \"num_features(10)\"!\n",
      "  \"l1_reg=\\\"auto\\\" is deprecated and in the next version (v0.29) the behavior will change from a \" \\\n",
      "C:\\Users\\camke\\Anaconda3\\lib\\site-packages\\shap\\explainers\\kernel.py:535: UserWarning: l1_reg=\"auto\" is deprecated and in the next version (v0.29) the behavior will change from a conditional use of AIC to simply \"num_features(10)\"!\n",
      "  \"l1_reg=\\\"auto\\\" is deprecated and in the next version (v0.29) the behavior will change from a \" \\\n",
      "100%|████████████████████████████████████████████████████████████████████████████████████| 1/1 [00:02<00:00,  2.38s/it]\n"
     ]
    },
    {
     "name": "stdout",
     "output_type": "stream",
     "text": [
      "Predicted Probability: 65.574%\n",
      "Percentile of Predicted Probability: 97.614%\n",
      "Feature Importance (sorted low to high): {'IRALCRC': -0.09350689135388224, 'IRCIGRC': -0.07392228959584285, 'ADDSCEV': -0.066089198817528, 'IRLSDRC': -0.042699656599313435, 'CIGAGE': -0.028051156766989938, 'TOBYR': -0.01868192874729896, 'IRCOCRC': -0.008238959548386826, 'IRHALLUCREC': -0.00610872068600396, 'IRMJRC': -0.0022048593088660473, 'BOOKED': 0.0, 'CIGDLYMO': 0.0, 'FUMJ18': 0.0, 'IRCRKRC': 0.0, 'IRSEX': 0.0, 'TXEVRRCVD2': 0.0, 'TXYRRECVD2': 0.0, 'EDUHIGHCAT': 0.0038437817486035586, 'CABINGEVR': 0.006546573932866229, 'FUCIG18': 0.014830067665024316, 'IRALCAGE': 0.0158663324256334, 'IRALCFY': 0.0197139528335164, 'ADDPREV': 0.024227233785830582, 'IRECSTMOREC': 0.058612873399412124, 'IRMJFY': 0.058805296868434054, 'AGE2': 0.06370974432200752, 'IRMETHAMREC': 0.13357114001620884, 'IRINHALREC': 0.14050926270063036, 'IRHERRC': 0.29255811465621073}\n",
      "\n",
      "IRALCFY 50  | TEST 33\n",
      "\n",
      "{'NAME': 'Test Scripter', 'IRSEX': 2, 'EDUHIGHCAT': 1, 'AGE2': 4, 'IRALCRC': 2, 'IRALCFY': 50, 'CABINGEVR': 2, 'IRALCAGE': 14, 'TXYRRECVD2': 0, 'TXEVRRCVD2': 1, 'IRCIGRC': 1, 'CIGDLYMO': 1, 'CIGAGE': 994, 'TOBYR': 0, 'FUCIG18': 2, 'IRMJRC': 1, 'IRMJFY': 3, 'FUMJ18': 2, 'IRCOCRC': 9, 'IRCRKRC': 3, 'IRHERRC': 3, 'IRHALLUCREC': 2, 'IRLSDRC': 2, 'IRECSTMOREC': 3, 'IRINHALREC': 3, 'IRMETHAMREC': 2, 'ADDPREV': 2, 'ADDSCEV': 2, 'BOOKED': 2}\n"
     ]
    },
    {
     "name": "stderr",
     "output_type": "stream",
     "text": [
      "  0%|                                                                                            | 0/1 [00:00<?, ?it/s]C:\\Users\\camke\\Anaconda3\\lib\\site-packages\\shap\\explainers\\kernel.py:535: UserWarning: l1_reg=\"auto\" is deprecated and in the next version (v0.29) the behavior will change from a conditional use of AIC to simply \"num_features(10)\"!\n",
      "  \"l1_reg=\\\"auto\\\" is deprecated and in the next version (v0.29) the behavior will change from a \" \\\n",
      "C:\\Users\\camke\\Anaconda3\\lib\\site-packages\\shap\\explainers\\kernel.py:535: UserWarning: l1_reg=\"auto\" is deprecated and in the next version (v0.29) the behavior will change from a conditional use of AIC to simply \"num_features(10)\"!\n",
      "  \"l1_reg=\\\"auto\\\" is deprecated and in the next version (v0.29) the behavior will change from a \" \\\n",
      "100%|████████████████████████████████████████████████████████████████████████████████████| 1/1 [00:02<00:00,  2.65s/it]\n"
     ]
    },
    {
     "name": "stdout",
     "output_type": "stream",
     "text": [
      "Predicted Probability: 64.115%\n",
      "Percentile of Predicted Probability: 96.371%\n",
      "Feature Importance (sorted low to high): {'ADDSCEV': -0.0733325861915875, 'CIGAGE': -0.06318560956720554, 'CABINGEVR': -0.027130332962709447, 'FUCIG18': -0.014667948668064201, 'IRCOCRC': -0.014610102563409888, 'BOOKED': 0.0, 'CIGDLYMO': 0.0, 'FUMJ18': 0.0, 'IRALCAGE': 0.0, 'IRALCFY': 0.0, 'IRMJFY': 0.0, 'IRSEX': 0.0, 'TXEVRRCVD2': 0.0, 'TXYRRECVD2': 0.0, 'IRALCRC': 0.0002553513462887069, 'IRCRKRC': 0.003314895093470882, 'TOBYR': 0.020805036370669383, 'IRCIGRC': 0.022361347538855547, 'ADDPREV': 0.02850719394109913, 'IRECSTMOREC': 0.030795649200167474, 'IRLSDRC': 0.031150411477774476, 'IRHALLUCREC': 0.0426788659984349, 'IRMJRC': 0.04880642209505709, 'IRINHALREC': 0.05578342152791976, 'EDUHIGHCAT': 0.061327676782503726, 'AGE2': 0.07846828815875201, 'IRHERRC': 0.11722450056049052, 'IRMETHAMREC': 0.1301488532325777}\n",
      "\n",
      "IRALCFY 100  | TEST 34\n",
      "\n",
      "{'NAME': 'Test Scripter', 'IRSEX': 1, 'EDUHIGHCAT': 4, 'AGE2': 6, 'IRALCRC': 1, 'IRALCFY': 100, 'CABINGEVR': 2, 'IRALCAGE': 17, 'TXYRRECVD2': 1, 'TXEVRRCVD2': 1, 'IRCIGRC': 9, 'CIGDLYMO': 91, 'CIGAGE': 20, 'TOBYR': 0, 'FUCIG18': 1, 'IRMJRC': 9, 'IRMJFY': 300, 'FUMJ18': 2, 'IRCOCRC': 2, 'IRCRKRC': 1, 'IRHERRC': 9, 'IRHALLUCREC': 3, 'IRLSDRC': 1, 'IRECSTMOREC': 2, 'IRINHALREC': 1, 'IRMETHAMREC': 1, 'ADDPREV': 2, 'ADDSCEV': 94, 'BOOKED': 1}\n"
     ]
    },
    {
     "name": "stderr",
     "output_type": "stream",
     "text": [
      "  0%|                                                                                            | 0/1 [00:00<?, ?it/s]C:\\Users\\camke\\Anaconda3\\lib\\site-packages\\shap\\explainers\\kernel.py:535: UserWarning: l1_reg=\"auto\" is deprecated and in the next version (v0.29) the behavior will change from a conditional use of AIC to simply \"num_features(10)\"!\n",
      "  \"l1_reg=\\\"auto\\\" is deprecated and in the next version (v0.29) the behavior will change from a \" \\\n",
      "C:\\Users\\camke\\Anaconda3\\lib\\site-packages\\shap\\explainers\\kernel.py:535: UserWarning: l1_reg=\"auto\" is deprecated and in the next version (v0.29) the behavior will change from a conditional use of AIC to simply \"num_features(10)\"!\n",
      "  \"l1_reg=\\\"auto\\\" is deprecated and in the next version (v0.29) the behavior will change from a \" \\\n",
      "100%|████████████████████████████████████████████████████████████████████████████████████| 1/1 [00:02<00:00,  2.35s/it]\n"
     ]
    },
    {
     "name": "stdout",
     "output_type": "stream",
     "text": [
      "Predicted Probability: 27.047%\n",
      "Percentile of Predicted Probability: 82.184%\n",
      "Feature Importance (sorted low to high): {'ADDSCEV': -0.37689460495642463, 'IRCRKRC': -0.04146917747457625, 'IRLSDRC': -0.04142134124010237, 'CABINGEVR': -0.023047502393015742, 'IRMJRC': -0.021402206158027282, 'CIGAGE': -0.020510067273377466, 'IRALCAGE': -0.012307115562783914, 'FUMJ18': -0.010750604266509992, 'BOOKED': -0.010729724651783857, 'IRHERRC': -0.004239522511893717, 'CIGDLYMO': 0.0, 'TXEVRRCVD2': 0.0, 'TOBYR': 0.010469967937628284, 'FUCIG18': 0.01126677803292557, 'EDUHIGHCAT': 0.012609955674773077, 'IRALCRC': 0.013563707134177014, 'IRSEX': 0.015961382641034076, 'IRHALLUCREC': 0.017836266270890133, 'ADDPREV': 0.0253156982425465, 'IRALCFY': 0.03203109367718259, 'IRCIGRC': 0.03648261754561266, 'IRECSTMOREC': 0.04142203522270399, 'IRMJFY': 0.05169320291488639, 'AGE2': 0.05453071026655364, 'TXYRRECVD2': 0.07442584405169916, 'IRMETHAMREC': 0.08696079985122944, 'IRCOCRC': 0.08731486274414935, 'IRINHALREC': 0.09891141631258737}\n",
      "\n",
      "IRALCFY 300  | TEST 35\n",
      "\n",
      "{'NAME': 'Test Scripter', 'IRSEX': 1, 'EDUHIGHCAT': 2, 'AGE2': 8, 'IRALCRC': 1, 'IRALCFY': 300, 'CABINGEVR': 991, 'IRALCAGE': 17, 'TXYRRECVD2': 1, 'TXEVRRCVD2': 0, 'IRCIGRC': 3, 'CIGDLYMO': 2, 'CIGAGE': 19, 'TOBYR': 1, 'FUCIG18': 1, 'IRMJRC': 3, 'IRMJFY': 30, 'FUMJ18': 2, 'IRCOCRC': 3, 'IRCRKRC': 2, 'IRHERRC': 3, 'IRHALLUCREC': 1, 'IRLSDRC': 3, 'IRECSTMOREC': 2, 'IRINHALREC': 1, 'IRMETHAMREC': 3, 'ADDPREV': 1, 'ADDSCEV': 94, 'BOOKED': 94}\n"
     ]
    },
    {
     "name": "stderr",
     "output_type": "stream",
     "text": [
      "  0%|                                                                                            | 0/1 [00:00<?, ?it/s]C:\\Users\\camke\\Anaconda3\\lib\\site-packages\\shap\\explainers\\kernel.py:535: UserWarning: l1_reg=\"auto\" is deprecated and in the next version (v0.29) the behavior will change from a conditional use of AIC to simply \"num_features(10)\"!\n",
      "  \"l1_reg=\\\"auto\\\" is deprecated and in the next version (v0.29) the behavior will change from a \" \\\n",
      "C:\\Users\\camke\\Anaconda3\\lib\\site-packages\\shap\\explainers\\kernel.py:535: UserWarning: l1_reg=\"auto\" is deprecated and in the next version (v0.29) the behavior will change from a conditional use of AIC to simply \"num_features(10)\"!\n",
      "  \"l1_reg=\\\"auto\\\" is deprecated and in the next version (v0.29) the behavior will change from a \" \\\n",
      "100%|████████████████████████████████████████████████████████████████████████████████████| 1/1 [00:02<00:00,  2.39s/it]\n"
     ]
    },
    {
     "name": "stdout",
     "output_type": "stream",
     "text": [
      "Predicted Probability: 4.732%\n",
      "Percentile of Predicted Probability: 17.741%\n",
      "Feature Importance (sorted low to high): {'ADDSCEV': -0.2643827527260981, 'BOOKED': -0.04654517040387443, 'IRCIGRC': -0.04643412070518524, 'ADDPREV': -0.0336383915231884, 'IRCRKRC': -0.030661918546006, 'CIGAGE': -0.02504584599912084, 'IRALCAGE': -0.01353548460505899, 'TOBYR': -0.011454946178033332, 'FUMJ18': -0.006946114097895251, 'IRMJRC': -0.0031611948263872564, 'IRLSDRC': -0.00015430603610747107, 'CABINGEVR': 0.0, 'CIGDLYMO': 0.0, 'IRMJFY': 0.0, 'TXEVRRCVD2': 0.0, 'FUCIG18': 0.005704123669613176, 'IRALCRC': 0.008681474366952685, 'IRMETHAMREC': 0.009357272726423796, 'EDUHIGHCAT': 0.009640506710098723, 'IRSEX': 0.010802182935246624, 'IRCOCRC': 0.019799777888520498, 'IRECSTMOREC': 0.027425901532131272, 'AGE2': 0.03347966095224694, 'IRALCFY': 0.034495988640649955, 'IRHERRC': 0.044961397917229445, 'IRHALLUCREC': 0.04619546916182901, 'TXYRRECVD2': 0.04949270045673228, 'IRINHALREC': 0.06679540868889544}\n",
      "\n",
      "CABINGEVR 991  | TEST 36\n",
      "\n",
      "{'NAME': 'Test Scripter', 'IRSEX': 2, 'EDUHIGHCAT': 3, 'AGE2': 5, 'IRALCRC': 9, 'IRALCFY': 1, 'CABINGEVR': 991, 'IRALCAGE': 17, 'TXYRRECVD2': 1, 'TXEVRRCVD2': 0, 'IRCIGRC': 9, 'CIGDLYMO': 1, 'CIGAGE': 994, 'TOBYR': 1, 'FUCIG18': 1, 'IRMJRC': 9, 'IRMJFY': 365, 'FUMJ18': 2, 'IRCOCRC': 3, 'IRCRKRC': 9, 'IRHERRC': 1, 'IRHALLUCREC': 3, 'IRLSDRC': 9, 'IRECSTMOREC': 9, 'IRINHALREC': 1, 'IRMETHAMREC': 9, 'ADDPREV': 1, 'ADDSCEV': 1, 'BOOKED': 94}\n"
     ]
    },
    {
     "name": "stderr",
     "output_type": "stream",
     "text": [
      "  0%|                                                                                            | 0/1 [00:00<?, ?it/s]C:\\Users\\camke\\Anaconda3\\lib\\site-packages\\shap\\explainers\\kernel.py:535: UserWarning: l1_reg=\"auto\" is deprecated and in the next version (v0.29) the behavior will change from a conditional use of AIC to simply \"num_features(10)\"!\n",
      "  \"l1_reg=\\\"auto\\\" is deprecated and in the next version (v0.29) the behavior will change from a \" \\\n",
      "C:\\Users\\camke\\Anaconda3\\lib\\site-packages\\shap\\explainers\\kernel.py:535: UserWarning: l1_reg=\"auto\" is deprecated and in the next version (v0.29) the behavior will change from a conditional use of AIC to simply \"num_features(10)\"!\n",
      "  \"l1_reg=\\\"auto\\\" is deprecated and in the next version (v0.29) the behavior will change from a \" \\\n",
      "100%|████████████████████████████████████████████████████████████████████████████████████| 1/1 [00:02<00:00,  2.38s/it]\n"
     ]
    },
    {
     "name": "stdout",
     "output_type": "stream",
     "text": [
      "Predicted Probability: 53.383%\n",
      "Percentile of Predicted Probability: 94.390%\n",
      "Feature Importance (sorted low to high): {'IRALCRC': -0.09290017442925402, 'ADDSCEV': -0.08739539081809727, 'BOOKED': -0.07749727724523472, 'CIGAGE': -0.06439282013468292, 'ADDPREV': -0.050776724807084075, 'IRALCAGE': -0.02355619945810289, 'IRMJRC': -0.019414755255004038, 'TOBYR': -0.01842295857716804, 'IRSEX': -0.010577511097032616, 'IRECSTMOREC': -0.009709195366166143, 'FUMJ18': -0.00895908966926108, 'IRALCFY': -0.006218521624124618, 'IRLSDRC': -0.001563918774367845, 'CABINGEVR': 0.0, 'CIGDLYMO': 0.0, 'IRCRKRC': 0.0, 'IRMETHAMREC': 0.0, 'TXEVRRCVD2': 0.0, 'FUCIG18': 0.016199834873195595, 'EDUHIGHCAT': 0.02044799937926825, 'IRHALLUCREC': 0.02592866589146403, 'IRCOCRC': 0.03343881531613001, 'IRCIGRC': 0.04189090546255059, 'AGE2': 0.07283292615918624, 'IRMJFY': 0.07966737154712875, 'TXYRRECVD2': 0.09019428925548939, 'IRINHALREC': 0.10941765935383299, 'IRHERRC': 0.3527536644957329}\n",
      "\n",
      "CABINGEVR 2  | TEST 37\n",
      "\n",
      "{'NAME': 'Test Scripter', 'IRSEX': 1, 'EDUHIGHCAT': 1, 'AGE2': 5, 'IRALCRC': 2, 'IRALCFY': 100, 'CABINGEVR': 2, 'IRALCAGE': 14, 'TXYRRECVD2': 1, 'TXEVRRCVD2': 0, 'IRCIGRC': 2, 'CIGDLYMO': 91, 'CIGAGE': 15, 'TOBYR': 0, 'FUCIG18': 1, 'IRMJRC': 1, 'IRMJFY': 991, 'FUMJ18': 1, 'IRCOCRC': 3, 'IRCRKRC': 3, 'IRHERRC': 9, 'IRHALLUCREC': 1, 'IRLSDRC': 1, 'IRECSTMOREC': 9, 'IRINHALREC': 1, 'IRMETHAMREC': 1, 'ADDPREV': 1, 'ADDSCEV': 94, 'BOOKED': 2}\n"
     ]
    },
    {
     "name": "stderr",
     "output_type": "stream",
     "text": [
      "  0%|                                                                                            | 0/1 [00:00<?, ?it/s]C:\\Users\\camke\\Anaconda3\\lib\\site-packages\\shap\\explainers\\kernel.py:535: UserWarning: l1_reg=\"auto\" is deprecated and in the next version (v0.29) the behavior will change from a conditional use of AIC to simply \"num_features(10)\"!\n",
      "  \"l1_reg=\\\"auto\\\" is deprecated and in the next version (v0.29) the behavior will change from a \" \\\n",
      "C:\\Users\\camke\\Anaconda3\\lib\\site-packages\\shap\\explainers\\kernel.py:535: UserWarning: l1_reg=\"auto\" is deprecated and in the next version (v0.29) the behavior will change from a conditional use of AIC to simply \"num_features(10)\"!\n",
      "  \"l1_reg=\\\"auto\\\" is deprecated and in the next version (v0.29) the behavior will change from a \" \\\n",
      "100%|████████████████████████████████████████████████████████████████████████████████████| 1/1 [00:02<00:00,  2.37s/it]\n"
     ]
    },
    {
     "name": "stdout",
     "output_type": "stream",
     "text": [
      "Predicted Probability: 21.134%\n",
      "Percentile of Predicted Probability: 73.569%\n",
      "Feature Importance (sorted low to high): {'ADDSCEV': -0.3581492382954816, 'ADDPREV': -0.04470942707376425, 'IRLSDRC': -0.03355631692271106, 'IRCIGRC': -0.031224710826107123, 'CABINGEVR': -0.02273097342731415, 'CIGAGE': -0.021031032234660886, 'IRHERRC': -0.005618282382159816, 'IRECSTMOREC': -0.003952490300127346, 'IRALCRC': -0.0005153602994928865, 'CIGDLYMO': 0.0, 'IRMJFY': 0.0, 'TXEVRRCVD2': 0.0, 'IRCRKRC': 0.0013306509706951866, 'BOOKED': 0.002174300021401475, 'FUCIG18': 0.009905877543141433, 'TOBYR': 0.011145664937750873, 'FUMJ18': 0.011667583249730315, 'IRSEX': 0.015268411150768154, 'IRALCAGE': 0.016998947155083745, 'IRCOCRC': 0.026348313528133577, 'IRALCFY': 0.029844037590582847, 'IRMJRC': 0.03392828243488359, 'EDUHIGHCAT': 0.05125071801626646, 'AGE2': 0.054727354128813806, 'IRHALLUCREC': 0.06358636274737291, 'TXYRRECVD2': 0.06839039117928528, 'IRMETHAMREC': 0.08234175248125233, 'IRINHALREC': 0.09147239882445729}\n",
      "\n",
      "CABINGEVR 1  | TEST 38\n",
      "\n",
      "{'NAME': 'Test Scripter', 'IRSEX': 1, 'EDUHIGHCAT': 2, 'AGE2': 2, 'IRALCRC': 2, 'IRALCFY': 100, 'CABINGEVR': 1, 'IRALCAGE': 14, 'TXYRRECVD2': 0, 'TXEVRRCVD2': 0, 'IRCIGRC': 1, 'CIGDLYMO': 91, 'CIGAGE': 40, 'TOBYR': 0, 'FUCIG18': 2, 'IRMJRC': 2, 'IRMJFY': 200, 'FUMJ18': 1, 'IRCOCRC': 2, 'IRCRKRC': 9, 'IRHERRC': 3, 'IRHALLUCREC': 2, 'IRLSDRC': 3, 'IRECSTMOREC': 2, 'IRINHALREC': 9, 'IRMETHAMREC': 1, 'ADDPREV': 2, 'ADDSCEV': 94, 'BOOKED': 2}\n"
     ]
    },
    {
     "name": "stderr",
     "output_type": "stream",
     "text": [
      "  0%|                                                                                            | 0/1 [00:00<?, ?it/s]C:\\Users\\camke\\Anaconda3\\lib\\site-packages\\shap\\explainers\\kernel.py:535: UserWarning: l1_reg=\"auto\" is deprecated and in the next version (v0.29) the behavior will change from a conditional use of AIC to simply \"num_features(10)\"!\n",
      "  \"l1_reg=\\\"auto\\\" is deprecated and in the next version (v0.29) the behavior will change from a \" \\\n",
      "C:\\Users\\camke\\Anaconda3\\lib\\site-packages\\shap\\explainers\\kernel.py:535: UserWarning: l1_reg=\"auto\" is deprecated and in the next version (v0.29) the behavior will change from a conditional use of AIC to simply \"num_features(10)\"!\n",
      "  \"l1_reg=\\\"auto\\\" is deprecated and in the next version (v0.29) the behavior will change from a \" \\\n",
      "100%|████████████████████████████████████████████████████████████████████████████████████| 1/1 [00:02<00:00,  2.40s/it]\n"
     ]
    },
    {
     "name": "stdout",
     "output_type": "stream",
     "text": [
      "Predicted Probability: 28.058%\n",
      "Percentile of Predicted Probability: 86.119%\n",
      "Feature Importance (sorted low to high): {'ADDSCEV': -0.3680142149151133, 'CIGAGE': -0.03719599041013816, 'FUCIG18': -0.014948790642409601, 'IRINHALREC': -0.011287815605681359, 'IRLSDRC': -0.004101559798473195, 'IRALCRC': -0.0032195748608375985, 'BOOKED': 0.0, 'CIGDLYMO': 0.0, 'IRCRKRC': 0.0, 'TXEVRRCVD2': 0.0, 'TXYRRECVD2': 0.0, 'CABINGEVR': 0.005151723471579106, 'TOBYR': 0.01046317597728888, 'IRCIGRC': 0.011096451434114342, 'IRSEX': 0.012024491896331119, 'FUMJ18': 0.01243945530822907, 'IRMJFY': 0.013236954202777873, 'IRALCAGE': 0.013587578822482488, 'EDUHIGHCAT': 0.014233988492500252, 'ADDPREV': 0.024937410031651924, 'IRALCFY': 0.029820617477284816, 'IRMJRC': 0.03262466604116704, 'IRHALLUCREC': 0.037048993454537216, 'IRECSTMOREC': 0.043781846470573066, 'IRHERRC': 0.06266900652247243, 'AGE2': 0.06695410940126661, 'IRCOCRC': 0.08182151955594677, 'IRMETHAMREC': 0.08500450525302852}\n",
      "\n",
      "IRALCAGE 991  | TEST 39\n",
      "\n",
      "{'NAME': 'Test Scripter', 'IRSEX': 1, 'EDUHIGHCAT': 2, 'AGE2': 11, 'IRALCRC': 9, 'IRALCFY': 993, 'CABINGEVR': 1, 'IRALCAGE': 991, 'TXYRRECVD2': 0, 'TXEVRRCVD2': 0, 'IRCIGRC': 9, 'CIGDLYMO': 2, 'CIGAGE': 13, 'TOBYR': 1, 'FUCIG18': 1, 'IRMJRC': 9, 'IRMJFY': 100, 'FUMJ18': 2, 'IRCOCRC': 9, 'IRCRKRC': 9, 'IRHERRC': 9, 'IRHALLUCREC': 9, 'IRLSDRC': 2, 'IRECSTMOREC': 1, 'IRINHALREC': 9, 'IRMETHAMREC': 3, 'ADDPREV': 94, 'ADDSCEV': 94, 'BOOKED': 97}\n"
     ]
    },
    {
     "name": "stderr",
     "output_type": "stream",
     "text": [
      "  0%|                                                                                            | 0/1 [00:00<?, ?it/s]C:\\Users\\camke\\Anaconda3\\lib\\site-packages\\shap\\explainers\\kernel.py:535: UserWarning: l1_reg=\"auto\" is deprecated and in the next version (v0.29) the behavior will change from a conditional use of AIC to simply \"num_features(10)\"!\n",
      "  \"l1_reg=\\\"auto\\\" is deprecated and in the next version (v0.29) the behavior will change from a \" \\\n",
      "C:\\Users\\camke\\Anaconda3\\lib\\site-packages\\shap\\explainers\\kernel.py:535: UserWarning: l1_reg=\"auto\" is deprecated and in the next version (v0.29) the behavior will change from a conditional use of AIC to simply \"num_features(10)\"!\n",
      "  \"l1_reg=\\\"auto\\\" is deprecated and in the next version (v0.29) the behavior will change from a \" \\\n",
      "100%|████████████████████████████████████████████████████████████████████████████████████| 1/1 [00:02<00:00,  2.32s/it]\n"
     ]
    },
    {
     "name": "stdout",
     "output_type": "stream",
     "text": [
      "Predicted Probability: 4.989%\n",
      "Percentile of Predicted Probability: 23.113%\n",
      "Feature Importance (sorted low to high): {'ADDSCEV': -0.2708137140736754, 'IRALCRC': -0.0615171333400755, 'BOOKED': -0.050281342877443395, 'IRMJRC': -0.016210441143090303, 'CIGAGE': -0.014718447772475399, 'TOBYR': -0.00965708234806531, 'IRCOCRC': -0.008431809888446936, 'FUMJ18': -0.006739304812685684, 'IRHALLUCREC': -0.00610321134237761, 'IRINHALREC': -0.004622736712471362, 'IRHERRC': -0.002791865366939289, 'CABINGEVR': 0.0, 'CIGDLYMO': 0.0, 'IRALCFY': 0.0, 'IRCRKRC': 0.0, 'TXEVRRCVD2': 0.0, 'TXYRRECVD2': 0.0, 'IRALCAGE': 0.006659973376889852, 'FUCIG18': 0.007509863688760991, 'EDUHIGHCAT': 0.0077178927536572725, 'IRSEX': 0.009853234278736044, 'IRMETHAMREC': 0.009859572241812838, 'IRMJFY': 0.012192533755029197, 'IRLSDRC': 0.016338813279951146, 'AGE2': 0.02387185018893192, 'IRCIGRC': 0.025517253868448504, 'IRECSTMOREC': 0.033482657559481176, 'ADDPREV': 0.18632799282843204}\n",
      "\n",
      "IRALCAGE 14  | TEST 40\n",
      "\n",
      "{'NAME': 'Test Scripter', 'IRSEX': 2, 'EDUHIGHCAT': 4, 'AGE2': 16, 'IRALCRC': 3, 'IRALCFY': 991, 'CABINGEVR': 991, 'IRALCAGE': 14, 'TXYRRECVD2': 1, 'TXEVRRCVD2': 0, 'IRCIGRC': 3, 'CIGDLYMO': 91, 'CIGAGE': 50, 'TOBYR': 1, 'FUCIG18': 2, 'IRMJRC': 1, 'IRMJFY': 20, 'FUMJ18': 2, 'IRCOCRC': 9, 'IRCRKRC': 1, 'IRHERRC': 9, 'IRHALLUCREC': 3, 'IRLSDRC': 3, 'IRECSTMOREC': 1, 'IRINHALREC': 9, 'IRMETHAMREC': 1, 'ADDPREV': 94, 'ADDSCEV': 2, 'BOOKED': 1}\n"
     ]
    },
    {
     "name": "stderr",
     "output_type": "stream",
     "text": [
      "  0%|                                                                                            | 0/1 [00:00<?, ?it/s]C:\\Users\\camke\\Anaconda3\\lib\\site-packages\\shap\\explainers\\kernel.py:535: UserWarning: l1_reg=\"auto\" is deprecated and in the next version (v0.29) the behavior will change from a conditional use of AIC to simply \"num_features(10)\"!\n",
      "  \"l1_reg=\\\"auto\\\" is deprecated and in the next version (v0.29) the behavior will change from a \" \\\n",
      "C:\\Users\\camke\\Anaconda3\\lib\\site-packages\\shap\\explainers\\kernel.py:535: UserWarning: l1_reg=\"auto\" is deprecated and in the next version (v0.29) the behavior will change from a conditional use of AIC to simply \"num_features(10)\"!\n",
      "  \"l1_reg=\\\"auto\\\" is deprecated and in the next version (v0.29) the behavior will change from a \" \\\n",
      "100%|████████████████████████████████████████████████████████████████████████████████████| 1/1 [00:02<00:00,  2.33s/it]\n"
     ]
    },
    {
     "name": "stdout",
     "output_type": "stream",
     "text": [
      "Predicted Probability: 28.058%\n",
      "Percentile of Predicted Probability: 86.119%\n",
      "Feature Importance (sorted low to high): {'AGE2': -0.08422040707951664, 'CIGAGE': -0.08220450616862575, 'IRCIGRC': -0.07150114567923388, 'ADDSCEV': -0.06584619097532121, 'IRCRKRC': -0.04544825851127312, 'IRALCRC': -0.017312878776161233, 'FUCIG18': -0.015859960468316, 'IRINHALREC': -0.012909637798005334, 'TOBYR': -0.01283926377707879, 'FUMJ18': -0.011554676998465789, 'IRCOCRC': -0.010843706712721932, 'IRSEX': -0.009711548292797138, 'BOOKED': -0.008590241561148066, 'IRHERRC': -0.005985699348821531, 'IRALCFY': -0.004049865165136185, 'IRLSDRC': -7.398275758893624e-06, 'CABINGEVR': 0.0, 'CIGDLYMO': 0.0, 'TXEVRRCVD2': 0.0, 'EDUHIGHCAT': 0.00864943853802834, 'IRMJFY': 0.010129535934536943, 'IRHALLUCREC': 0.016682724793175382, 'IRALCAGE': 0.018047717662912313, 'IRMJRC': 0.0397705775442147, 'IRECSTMOREC': 0.054268825440620366, 'TXYRRECVD2': 0.07344220668540592, 'IRMETHAMREC': 0.08853206463518051, 'ADDPREV': 0.26749084193488537}\n",
      "\n",
      "IRALCAGE 17  | TEST 41\n",
      "\n",
      "{'NAME': 'Test Scripter', 'IRSEX': 1, 'EDUHIGHCAT': 1, 'AGE2': 9, 'IRALCRC': 3, 'IRALCFY': 50, 'CABINGEVR': 1, 'IRALCAGE': 17, 'TXYRRECVD2': 0, 'TXEVRRCVD2': 0, 'IRCIGRC': 1, 'CIGDLYMO': 91, 'CIGAGE': 991, 'TOBYR': 0, 'FUCIG18': 2, 'IRMJRC': 1, 'IRMJFY': 100, 'FUMJ18': 1, 'IRCOCRC': 3, 'IRCRKRC': 2, 'IRHERRC': 9, 'IRHALLUCREC': 3, 'IRLSDRC': 3, 'IRECSTMOREC': 2, 'IRINHALREC': 2, 'IRMETHAMREC': 9, 'ADDPREV': 2, 'ADDSCEV': 2, 'BOOKED': 1}\n"
     ]
    },
    {
     "name": "stderr",
     "output_type": "stream",
     "text": [
      "  0%|                                                                                            | 0/1 [00:00<?, ?it/s]C:\\Users\\camke\\Anaconda3\\lib\\site-packages\\shap\\explainers\\kernel.py:535: UserWarning: l1_reg=\"auto\" is deprecated and in the next version (v0.29) the behavior will change from a conditional use of AIC to simply \"num_features(10)\"!\n",
      "  \"l1_reg=\\\"auto\\\" is deprecated and in the next version (v0.29) the behavior will change from a \" \\\n",
      "C:\\Users\\camke\\Anaconda3\\lib\\site-packages\\shap\\explainers\\kernel.py:535: UserWarning: l1_reg=\"auto\" is deprecated and in the next version (v0.29) the behavior will change from a conditional use of AIC to simply \"num_features(10)\"!\n",
      "  \"l1_reg=\\\"auto\\\" is deprecated and in the next version (v0.29) the behavior will change from a \" \\\n",
      "100%|████████████████████████████████████████████████████████████████████████████████████| 1/1 [00:02<00:00,  2.38s/it]\n"
     ]
    },
    {
     "name": "stdout",
     "output_type": "stream",
     "text": [
      "Predicted Probability: 47.761%\n",
      "Percentile of Predicted Probability: 93.285%\n",
      "Feature Importance (sorted low to high): {'ADDSCEV': -0.07508178356725818, 'IRCRKRC': -0.05661207904601641, 'CIGAGE': -0.027953768200454546, 'IRALCRC': -0.02170789769813472, 'IRALCAGE': -0.016577215031082976, 'FUCIG18': -0.016314113289125298, 'BOOKED': -0.015584648512683541, 'IRLSDRC': -0.006513867219763811, 'IRHERRC': -0.00413110787126561, 'IRMETHAMREC': -0.0010024860173019623, 'CIGDLYMO': 0.0, 'TXEVRRCVD2': 0.0, 'TXYRRECVD2': 0.0, 'IRALCFY': 0.0038502513534423854, 'CABINGEVR': 0.008074857384775952, 'TOBYR': 0.013165177818269758, 'IRMJFY': 0.014753111171770805, 'IRCIGRC': 0.014771764614445737, 'FUMJ18': 0.015035568404167074, 'IRSEX': 0.01835002908039332, 'IRHALLUCREC': 0.02060513208091834, 'ADDPREV': 0.034553785797425074, 'IRCOCRC': 0.03595964504706903, 'IRMJRC': 0.04895009762294589, 'IRECSTMOREC': 0.049586943007318, 'AGE2': 0.05672108346536081, 'EDUHIGHCAT': 0.07146685762908965, 'IRINHALREC': 0.1507996102864357}\n",
      "\n",
      "IRALCAGE 20  | TEST 42\n",
      "\n",
      "{'NAME': 'Test Scripter', 'IRSEX': 2, 'EDUHIGHCAT': 3, 'AGE2': 9, 'IRALCRC': 3, 'IRALCFY': 12, 'CABINGEVR': 1, 'IRALCAGE': 20, 'TXYRRECVD2': 0, 'TXEVRRCVD2': 0, 'IRCIGRC': 4, 'CIGDLYMO': 91, 'CIGAGE': 20, 'TOBYR': 0, 'FUCIG18': 2, 'IRMJRC': 3, 'IRMJFY': 50, 'FUMJ18': 2, 'IRCOCRC': 9, 'IRCRKRC': 2, 'IRHERRC': 3, 'IRHALLUCREC': 3, 'IRLSDRC': 2, 'IRECSTMOREC': 3, 'IRINHALREC': 9, 'IRMETHAMREC': 9, 'ADDPREV': 2, 'ADDSCEV': 2, 'BOOKED': 94}\n"
     ]
    },
    {
     "name": "stderr",
     "output_type": "stream",
     "text": [
      "  0%|                                                                                            | 0/1 [00:00<?, ?it/s]C:\\Users\\camke\\Anaconda3\\lib\\site-packages\\shap\\explainers\\kernel.py:535: UserWarning: l1_reg=\"auto\" is deprecated and in the next version (v0.29) the behavior will change from a conditional use of AIC to simply \"num_features(10)\"!\n",
      "  \"l1_reg=\\\"auto\\\" is deprecated and in the next version (v0.29) the behavior will change from a \" \\\n",
      "C:\\Users\\camke\\Anaconda3\\lib\\site-packages\\shap\\explainers\\kernel.py:535: UserWarning: l1_reg=\"auto\" is deprecated and in the next version (v0.29) the behavior will change from a conditional use of AIC to simply \"num_features(10)\"!\n",
      "  \"l1_reg=\\\"auto\\\" is deprecated and in the next version (v0.29) the behavior will change from a \" \\\n",
      "100%|████████████████████████████████████████████████████████████████████████████████████| 1/1 [00:02<00:00,  2.34s/it]\n"
     ]
    },
    {
     "name": "stdout",
     "output_type": "stream",
     "text": [
      "Predicted Probability: 4.732%\n",
      "Percentile of Predicted Probability: 17.741%\n",
      "Feature Importance (sorted low to high): {'IRCIGRC': -0.059216171024027334, 'BOOKED': -0.048811327022347514, 'ADDSCEV': -0.045090468193833194, 'IRCRKRC': -0.029569098007933656, 'IRALCAGE': -0.026969948189329074, 'CIGAGE': -0.015433076333598444, 'IRALCRC': -0.011747569694619875, 'FUCIG18': -0.008406363965674506, 'IRSEX': -0.007903632833333793, 'IRCOCRC': -0.007618952138785939, 'FUMJ18': -0.007025875453181708, 'IRINHALREC': -0.0067269099124309464, 'IRMETHAMREC': -0.004126608260781983, 'IRMJRC': -0.0028213577839061935, 'CIGDLYMO': 0.0, 'TXEVRRCVD2': 0.0, 'TXYRRECVD2': 0.0, 'EDUHIGHCAT': 0.0016763087873512793, 'CABINGEVR': 0.0035603820752793947, 'IRALCFY': 0.006447297897683911, 'TOBYR': 0.0074854930056505314, 'IRHALLUCREC': 0.008778686374401462, 'IRECSTMOREC': 0.013578882404806897, 'IRLSDRC': 0.013795916900264563, 'IRMJFY': 0.018454857822345405, 'ADDPREV': 0.019340897863474697, 'AGE2': 0.02843269542087707, 'IRHERRC': 0.04478756026126371}\n",
      "\n",
      "IRALCAGE 21  | TEST 43\n",
      "\n",
      "{'NAME': 'Test Scripter', 'IRSEX': 1, 'EDUHIGHCAT': 2, 'AGE2': 14, 'IRALCRC': 1, 'IRALCFY': 1, 'CABINGEVR': 991, 'IRALCAGE': 21, 'TXYRRECVD2': 0, 'TXEVRRCVD2': 1, 'IRCIGRC': 2, 'CIGDLYMO': 1, 'CIGAGE': 50, 'TOBYR': 1, 'FUCIG18': 1, 'IRMJRC': 3, 'IRMJFY': 40, 'FUMJ18': 1, 'IRCOCRC': 3, 'IRCRKRC': 3, 'IRHERRC': 2, 'IRHALLUCREC': 1, 'IRLSDRC': 1, 'IRECSTMOREC': 3, 'IRINHALREC': 2, 'IRMETHAMREC': 9, 'ADDPREV': 2, 'ADDSCEV': 1, 'BOOKED': 94}\n"
     ]
    },
    {
     "name": "stderr",
     "output_type": "stream",
     "text": [
      "  0%|                                                                                            | 0/1 [00:00<?, ?it/s]C:\\Users\\camke\\Anaconda3\\lib\\site-packages\\shap\\explainers\\kernel.py:535: UserWarning: l1_reg=\"auto\" is deprecated and in the next version (v0.29) the behavior will change from a conditional use of AIC to simply \"num_features(10)\"!\n",
      "  \"l1_reg=\\\"auto\\\" is deprecated and in the next version (v0.29) the behavior will change from a \" \\\n",
      "C:\\Users\\camke\\Anaconda3\\lib\\site-packages\\shap\\explainers\\kernel.py:535: UserWarning: l1_reg=\"auto\" is deprecated and in the next version (v0.29) the behavior will change from a conditional use of AIC to simply \"num_features(10)\"!\n",
      "  \"l1_reg=\\\"auto\\\" is deprecated and in the next version (v0.29) the behavior will change from a \" \\\n",
      "100%|████████████████████████████████████████████████████████████████████████████████████| 1/1 [00:02<00:00,  2.35s/it]\n"
     ]
    },
    {
     "name": "stdout",
     "output_type": "stream",
     "text": [
      "Predicted Probability: 32.719%\n",
      "Percentile of Predicted Probability: 87.931%\n",
      "Feature Importance (sorted low to high): {'ADDSCEV': -0.08877184345247452, 'CIGAGE': -0.08657664212008283, 'IRALCAGE': -0.07845687044908836, 'BOOKED': -0.0745248876900803, 'IRLSDRC': -0.053392553505641496, 'IRCIGRC': -0.04146297666012399, 'TOBYR': -0.015404024448219117, 'IRALCFY': -0.00937238211329429, 'IRMJRC': -0.006015200658415681, 'IRCRKRC': -0.0009297231276355761, 'CIGDLYMO': 0.0, 'TXEVRRCVD2': 0.0, 'TXYRRECVD2': 0.0, 'IRMETHAMREC': 0.0005538259664950029, 'AGE2': 0.004517324608719703, 'CABINGEVR': 0.007770466054363323, 'FUMJ18': 0.010917038981542379, 'EDUHIGHCAT': 0.012078023144147527, 'FUCIG18': 0.012306430367316656, 'IRSEX': 0.014107510774965942, 'IRALCRC': 0.016624534712453315, 'IRMJFY': 0.02104098243473021, 'IRECSTMOREC': 0.023871468943260227, 'IRCOCRC': 0.025284499610993258, 'ADDPREV': 0.027185199532905366, 'IRHALLUCREC': 0.07355110938318972, 'IRINHALREC': 0.12695017280550766, 'IRHERRC': 0.24289046500886471}\n",
      "\n",
      "IRALCAGE 100  | TEST 44\n",
      "\n",
      "{'NAME': 'Test Scripter', 'IRSEX': 2, 'EDUHIGHCAT': 4, 'AGE2': 6, 'IRALCRC': 1, 'IRALCFY': 1, 'CABINGEVR': 2, 'IRALCAGE': 100, 'TXYRRECVD2': 1, 'TXEVRRCVD2': 0, 'IRCIGRC': 4, 'CIGDLYMO': 1, 'CIGAGE': 991, 'TOBYR': 1, 'FUCIG18': 1, 'IRMJRC': 2, 'IRMJFY': 993, 'FUMJ18': 2, 'IRCOCRC': 2, 'IRCRKRC': 9, 'IRHERRC': 3, 'IRHALLUCREC': 9, 'IRLSDRC': 1, 'IRECSTMOREC': 3, 'IRINHALREC': 9, 'IRMETHAMREC': 1, 'ADDPREV': 2, 'ADDSCEV': 94, 'BOOKED': 94}\n"
     ]
    },
    {
     "name": "stderr",
     "output_type": "stream",
     "text": [
      "  0%|                                                                                            | 0/1 [00:00<?, ?it/s]C:\\Users\\camke\\Anaconda3\\lib\\site-packages\\shap\\explainers\\kernel.py:535: UserWarning: l1_reg=\"auto\" is deprecated and in the next version (v0.29) the behavior will change from a conditional use of AIC to simply \"num_features(10)\"!\n",
      "  \"l1_reg=\\\"auto\\\" is deprecated and in the next version (v0.29) the behavior will change from a \" \\\n",
      "C:\\Users\\camke\\Anaconda3\\lib\\site-packages\\shap\\explainers\\kernel.py:535: UserWarning: l1_reg=\"auto\" is deprecated and in the next version (v0.29) the behavior will change from a conditional use of AIC to simply \"num_features(10)\"!\n",
      "  \"l1_reg=\\\"auto\\\" is deprecated and in the next version (v0.29) the behavior will change from a \" \\\n",
      "100%|████████████████████████████████████████████████████████████████████████████████████| 1/1 [00:02<00:00,  2.36s/it]\n"
     ]
    },
    {
     "name": "stdout",
     "output_type": "stream",
     "text": [
      "Predicted Probability: 2.771%\n",
      "Percentile of Predicted Probability: 6.116%\n",
      "Feature Importance (sorted low to high): {'ADDSCEV': -0.22548651571836237, 'IRCIGRC': -0.04795010030691263, 'BOOKED': -0.03986056016431891, 'IRALCAGE': -0.03263805543917825, 'IRLSDRC': -0.022416488726775874, 'CIGAGE': -0.014519579083488443, 'IRHALLUCREC': -0.013931382256708716, 'CABINGEVR': -0.012800185326179547, 'IRINHALREC': -0.008744171418730573, 'TOBYR': -0.007679754155530447, 'FUMJ18': -0.00563152837723184, 'IRSEX': -0.00554571007110749, 'CIGDLYMO': 0.0, 'FUCIG18': 0.0, 'IRALCFY': 0.0, 'IRCRKRC': 0.0, 'IRMJFY': 0.0, 'TXEVRRCVD2': 0.0, 'EDUHIGHCAT': 0.006161495071911535, 'IRALCRC': 0.006900280734896513, 'IRECSTMOREC': 0.013863875420060734, 'ADDPREV': 0.018877299621970225, 'IRMJRC': 0.022356726503751936, 'AGE2': 0.03293226319811464, 'TXYRRECVD2': 0.04463969210071719, 'IRHERRC': 0.04834467849632046, 'IRMETHAMREC': 0.052313713049738836, 'IRCOCRC': 0.05607482342350774}\n",
      "\n",
      "TXYRRECVD2 0  | TEST 45\n",
      "\n",
      "{'NAME': 'Test Scripter', 'IRSEX': 2, 'EDUHIGHCAT': 5, 'AGE2': 14, 'IRALCRC': 9, 'IRALCFY': 12, 'CABINGEVR': 2, 'IRALCAGE': 17, 'TXYRRECVD2': 0, 'TXEVRRCVD2': 0, 'IRCIGRC': 4, 'CIGDLYMO': 1, 'CIGAGE': 18, 'TOBYR': 1, 'FUCIG18': 2, 'IRMJRC': 3, 'IRMJFY': 40, 'FUMJ18': 1, 'IRCOCRC': 1, 'IRCRKRC': 2, 'IRHERRC': 2, 'IRHALLUCREC': 9, 'IRLSDRC': 9, 'IRECSTMOREC': 3, 'IRINHALREC': 9, 'IRMETHAMREC': 1, 'ADDPREV': 2, 'ADDSCEV': 1, 'BOOKED': 1}\n"
     ]
    },
    {
     "name": "stderr",
     "output_type": "stream",
     "text": [
      "  0%|                                                                                            | 0/1 [00:00<?, ?it/s]C:\\Users\\camke\\Anaconda3\\lib\\site-packages\\shap\\explainers\\kernel.py:535: UserWarning: l1_reg=\"auto\" is deprecated and in the next version (v0.29) the behavior will change from a conditional use of AIC to simply \"num_features(10)\"!\n",
      "  \"l1_reg=\\\"auto\\\" is deprecated and in the next version (v0.29) the behavior will change from a \" \\\n",
      "C:\\Users\\camke\\Anaconda3\\lib\\site-packages\\shap\\explainers\\kernel.py:535: UserWarning: l1_reg=\"auto\" is deprecated and in the next version (v0.29) the behavior will change from a conditional use of AIC to simply \"num_features(10)\"!\n",
      "  \"l1_reg=\\\"auto\\\" is deprecated and in the next version (v0.29) the behavior will change from a \" \\\n",
      "100%|████████████████████████████████████████████████████████████████████████████████████| 1/1 [00:02<00:00,  2.31s/it]\n"
     ]
    },
    {
     "name": "stdout",
     "output_type": "stream",
     "text": [
      "Predicted Probability: 14.812%\n",
      "Percentile of Predicted Probability: 64.074%\n",
      "Feature Importance (sorted low to high): {'EDUHIGHCAT': -0.08121742817237351, 'IRALCRC': -0.07432976303588579, 'IRCIGRC': -0.07253803498113787, 'ADDSCEV': -0.06969027657906104, 'IRCRKRC': -0.037267255397459814, 'CABINGEVR': -0.01954884776390313, 'IRALCAGE': -0.012422250274316341, 'TOBYR': -0.01177338853928456, 'FUCIG18': -0.01062223622849341, 'BOOKED': -0.008916472194278525, 'IRSEX': -0.008406075075948666, 'IRHALLUCREC': -0.008316813841815119, 'IRINHALREC': -0.007261692905371757, 'IRMJRC': -0.005608478261220393, 'CIGDLYMO': 0.0, 'TXEVRRCVD2': 0.0, 'TXYRRECVD2': 0.0, 'CIGAGE': 0.0007567140610079889, 'IRLSDRC': 0.0025287012802021943, 'AGE2': 0.0029779013470074495, 'IRALCFY': 0.00895529091843051, 'FUMJ18': 0.011395798304909216, 'IRMJFY': 0.01762275183367506, 'IRECSTMOREC': 0.02121800815773845, 'ADDPREV': 0.02253802635845871, 'IRCOCRC': 0.06320909140477576, 'IRMETHAMREC': 0.07573860559335627, 'IRHERRC': 0.18665445640000405}\n",
      "\n",
      "TXYRRECVD2 1  | TEST 46\n",
      "\n",
      "{'NAME': 'Test Scripter', 'IRSEX': 1, 'EDUHIGHCAT': 3, 'AGE2': 9, 'IRALCRC': 9, 'IRALCFY': 993, 'CABINGEVR': 2, 'IRALCAGE': 21, 'TXYRRECVD2': 1, 'TXEVRRCVD2': 0, 'IRCIGRC': 1, 'CIGDLYMO': 2, 'CIGAGE': 22, 'TOBYR': 0, 'FUCIG18': 1, 'IRMJRC': 1, 'IRMJFY': 3, 'FUMJ18': 1, 'IRCOCRC': 1, 'IRCRKRC': 3, 'IRHERRC': 1, 'IRHALLUCREC': 2, 'IRLSDRC': 2, 'IRECSTMOREC': 2, 'IRINHALREC': 3, 'IRMETHAMREC': 2, 'ADDPREV': 94, 'ADDSCEV': 1, 'BOOKED': 94}\n"
     ]
    },
    {
     "name": "stderr",
     "output_type": "stream",
     "text": [
      "  0%|                                                                                            | 0/1 [00:00<?, ?it/s]C:\\Users\\camke\\Anaconda3\\lib\\site-packages\\shap\\explainers\\kernel.py:535: UserWarning: l1_reg=\"auto\" is deprecated and in the next version (v0.29) the behavior will change from a conditional use of AIC to simply \"num_features(10)\"!\n",
      "  \"l1_reg=\\\"auto\\\" is deprecated and in the next version (v0.29) the behavior will change from a \" \\\n",
      "C:\\Users\\camke\\Anaconda3\\lib\\site-packages\\shap\\explainers\\kernel.py:535: UserWarning: l1_reg=\"auto\" is deprecated and in the next version (v0.29) the behavior will change from a conditional use of AIC to simply \"num_features(10)\"!\n",
      "  \"l1_reg=\\\"auto\\\" is deprecated and in the next version (v0.29) the behavior will change from a \" \\\n",
      "100%|████████████████████████████████████████████████████████████████████████████████████| 1/1 [00:02<00:00,  2.36s/it]\n"
     ]
    },
    {
     "name": "stdout",
     "output_type": "stream",
     "text": [
      "Predicted Probability: 100.000%\n",
      "Percentile of Predicted Probability: 99.913%\n",
      "Feature Importance (sorted low to high): {'IRALCRC': -0.062164784299630016, 'IRALCAGE': -0.058684099039331306, 'ADDSCEV': -0.051430204983425876, 'BOOKED': -0.04630451859684434, 'CABINGEVR': -0.01773835472610852, 'EDUHIGHCAT': -0.0167907259464109, 'IRCRKRC': -0.0009634733384472627, 'CIGDLYMO': 0.0, 'IRALCFY': 0.0, 'IRMJFY': 0.0, 'TXEVRRCVD2': 0.0, 'TOBYR': 0.007763693141516259, 'FUMJ18': 0.00912510682080142, 'FUCIG18': 0.010908099386751302, 'IRSEX': 0.01300617366543333, 'IRLSDRC': 0.018215772474736713, 'IRCIGRC': 0.020124023151181225, 'IRHALLUCREC': 0.02038792621366481, 'IRMJRC': 0.02813828646921357, 'IRINHALREC': 0.03852400942491441, 'AGE2': 0.03888671039969105, 'IRECSTMOREC': 0.04770765645247643, 'CIGAGE': 0.05490256645607805, 'IRCOCRC': 0.05814808459962045, 'TXYRRECVD2': 0.0616374545150723, 'IRMETHAMREC': 0.09869856546019179, 'ADDPREV': 0.27948606508089735, 'IRHERRC': 0.2859689752301909}\n",
      "\n",
      "TXEVRRCVD2 0  | TEST 47\n",
      "\n",
      "{'NAME': 'Test Scripter', 'IRSEX': 2, 'EDUHIGHCAT': 1, 'AGE2': 14, 'IRALCRC': 1, 'IRALCFY': 1, 'CABINGEVR': 991, 'IRALCAGE': 21, 'TXYRRECVD2': 1, 'TXEVRRCVD2': 0, 'IRCIGRC': 4, 'CIGDLYMO': 91, 'CIGAGE': 25, 'TOBYR': 1, 'FUCIG18': 1, 'IRMJRC': 3, 'IRMJFY': 3, 'FUMJ18': 1, 'IRCOCRC': 1, 'IRCRKRC': 2, 'IRHERRC': 2, 'IRHALLUCREC': 9, 'IRLSDRC': 1, 'IRECSTMOREC': 3, 'IRINHALREC': 2, 'IRMETHAMREC': 3, 'ADDPREV': 1, 'ADDSCEV': 94, 'BOOKED': 1}\n"
     ]
    },
    {
     "name": "stderr",
     "output_type": "stream",
     "text": [
      "  0%|                                                                                            | 0/1 [00:00<?, ?it/s]C:\\Users\\camke\\Anaconda3\\lib\\site-packages\\shap\\explainers\\kernel.py:535: UserWarning: l1_reg=\"auto\" is deprecated and in the next version (v0.29) the behavior will change from a conditional use of AIC to simply \"num_features(10)\"!\n",
      "  \"l1_reg=\\\"auto\\\" is deprecated and in the next version (v0.29) the behavior will change from a \" \\\n",
      "C:\\Users\\camke\\Anaconda3\\lib\\site-packages\\shap\\explainers\\kernel.py:535: UserWarning: l1_reg=\"auto\" is deprecated and in the next version (v0.29) the behavior will change from a conditional use of AIC to simply \"num_features(10)\"!\n",
      "  \"l1_reg=\\\"auto\\\" is deprecated and in the next version (v0.29) the behavior will change from a \" \\\n",
      "100%|████████████████████████████████████████████████████████████████████████████████████| 1/1 [00:02<00:00,  2.34s/it]\n"
     ]
    },
    {
     "name": "stdout",
     "output_type": "stream",
     "text": [
      "Predicted Probability: 7.547%\n",
      "Percentile of Predicted Probability: 31.890%\n",
      "Feature Importance (sorted low to high): {'ADDSCEV': -0.2864259553532826, 'IRCIGRC': -0.06527240087873475, 'IRALCAGE': -0.059724144167237064, 'ADDPREV': -0.0351683001864458, 'IRCRKRC': -0.02962666674809933, 'IRLSDRC': -0.02766670704242076, 'TOBYR': -0.009656880920703909, 'BOOKED': -0.007957510671792317, 'IRHALLUCREC': -0.005501851125085749, 'IRALCFY': -0.005115026047470925, 'IRMJRC': -0.0024413606089552092, 'AGE2': 0.0, 'CIGDLYMO': 0.0, 'IRMJFY': 0.0, 'IRSEX': 0.0, 'TXEVRRCVD2': 0.0, 'CIGAGE': 0.0027041675068478557, 'CABINGEVR': 0.006171868691314454, 'FUCIG18': 0.008133150152620776, 'IRALCRC': 0.008610190745519192, 'IRMETHAMREC': 0.009354049320180163, 'FUMJ18': 0.009753046118178815, 'IRECSTMOREC': 0.017249532462822736, 'EDUHIGHCAT': 0.0365641547335213, 'IRCOCRC': 0.0476707709618489, 'TXYRRECVD2': 0.05384201878428589, 'IRINHALREC': 0.086084528036974, 'IRHERRC': 0.1614440323615548}\n",
      "\n",
      "TXEVRRCVD2 1  | TEST 48\n",
      "\n",
      "{'NAME': 'Test Scripter', 'IRSEX': 1, 'EDUHIGHCAT': 2, 'AGE2': 9, 'IRALCRC': 2, 'IRALCFY': 300, 'CABINGEVR': 991, 'IRALCAGE': 100, 'TXYRRECVD2': 0, 'TXEVRRCVD2': 1, 'IRCIGRC': 2, 'CIGDLYMO': 2, 'CIGAGE': 22, 'TOBYR': 1, 'FUCIG18': 2, 'IRMJRC': 3, 'IRMJFY': 20, 'FUMJ18': 1, 'IRCOCRC': 9, 'IRCRKRC': 9, 'IRHERRC': 9, 'IRHALLUCREC': 3, 'IRLSDRC': 2, 'IRECSTMOREC': 1, 'IRINHALREC': 1, 'IRMETHAMREC': 9, 'ADDPREV': 94, 'ADDSCEV': 2, 'BOOKED': 1}\n"
     ]
    },
    {
     "name": "stderr",
     "output_type": "stream",
     "text": [
      "  0%|                                                                                            | 0/1 [00:00<?, ?it/s]C:\\Users\\camke\\Anaconda3\\lib\\site-packages\\shap\\explainers\\kernel.py:535: UserWarning: l1_reg=\"auto\" is deprecated and in the next version (v0.29) the behavior will change from a conditional use of AIC to simply \"num_features(10)\"!\n",
      "  \"l1_reg=\\\"auto\\\" is deprecated and in the next version (v0.29) the behavior will change from a \" \\\n",
      "C:\\Users\\camke\\Anaconda3\\lib\\site-packages\\shap\\explainers\\kernel.py:535: UserWarning: l1_reg=\"auto\" is deprecated and in the next version (v0.29) the behavior will change from a conditional use of AIC to simply \"num_features(10)\"!\n",
      "  \"l1_reg=\\\"auto\\\" is deprecated and in the next version (v0.29) the behavior will change from a \" \\\n",
      "100%|████████████████████████████████████████████████████████████████████████████████████| 1/1 [00:02<00:00,  2.37s/it]\n"
     ]
    },
    {
     "name": "stdout",
     "output_type": "stream",
     "text": [
      "Predicted Probability: 81.739%\n",
      "Percentile of Predicted Probability: 98.619%\n",
      "Feature Importance (sorted low to high): {'ADDSCEV': -0.07290839755023898, 'IRALCAGE': -0.037435708011851976, 'IRCIGRC': -0.020718094481630367, 'TOBYR': -0.016833674633876305, 'IRCOCRC': -0.011998818855136512, 'FUCIG18': -0.009216011814458969, 'IRMJRC': -0.002047682511446547, 'BOOKED': 0.0, 'CABINGEVR': 0.0, 'CIGDLYMO': 0.0, 'IRCRKRC': 0.0, 'IRMETHAMREC': 0.0, 'IRMJFY': 0.0, 'TXEVRRCVD2': 0.0, 'TXYRRECVD2': 0.0, 'IRALCRC': 0.0033839200918901746, 'IRHERRC': 0.0067800032499868434, 'FUMJ18': 0.012541321360782731, 'IRSEX': 0.015549077736228045, 'EDUHIGHCAT': 0.01636093958915144, 'IRHALLUCREC': 0.0238651104446507, 'IRLSDRC': 0.03158168202702927, 'CIGAGE': 0.05499483135307559, 'AGE2': 0.05643965629896924, 'IRECSTMOREC': 0.058322812410427416, 'IRALCFY': 0.06617248190085107, 'IRINHALREC': 0.11455615078916914, 'ADDPREV': 0.365554712966487}\n",
      "\n",
      "IRCIGRC 9  | TEST 49\n",
      "\n",
      "{'NAME': 'Test Scripter', 'IRSEX': 1, 'EDUHIGHCAT': 1, 'AGE2': 16, 'IRALCRC': 9, 'IRALCFY': 300, 'CABINGEVR': 1, 'IRALCAGE': 991, 'TXYRRECVD2': 0, 'TXEVRRCVD2': 0, 'IRCIGRC': 9, 'CIGDLYMO': 91, 'CIGAGE': 10, 'TOBYR': 0, 'FUCIG18': 1, 'IRMJRC': 3, 'IRMJFY': 20, 'FUMJ18': 2, 'IRCOCRC': 1, 'IRCRKRC': 3, 'IRHERRC': 9, 'IRHALLUCREC': 3, 'IRLSDRC': 9, 'IRECSTMOREC': 9, 'IRINHALREC': 1, 'IRMETHAMREC': 2, 'ADDPREV': 2, 'ADDSCEV': 1, 'BOOKED': 1}\n"
     ]
    },
    {
     "name": "stderr",
     "output_type": "stream",
     "text": [
      "  0%|                                                                                            | 0/1 [00:00<?, ?it/s]C:\\Users\\camke\\Anaconda3\\lib\\site-packages\\shap\\explainers\\kernel.py:535: UserWarning: l1_reg=\"auto\" is deprecated and in the next version (v0.29) the behavior will change from a conditional use of AIC to simply \"num_features(10)\"!\n",
      "  \"l1_reg=\\\"auto\\\" is deprecated and in the next version (v0.29) the behavior will change from a \" \\\n",
      "C:\\Users\\camke\\Anaconda3\\lib\\site-packages\\shap\\explainers\\kernel.py:535: UserWarning: l1_reg=\"auto\" is deprecated and in the next version (v0.29) the behavior will change from a conditional use of AIC to simply \"num_features(10)\"!\n",
      "  \"l1_reg=\\\"auto\\\" is deprecated and in the next version (v0.29) the behavior will change from a \" \\\n",
      "100%|████████████████████████████████████████████████████████████████████████████████████| 1/1 [00:02<00:00,  2.37s/it]\n"
     ]
    },
    {
     "name": "stdout",
     "output_type": "stream",
     "text": [
      "Predicted Probability: 47.761%\n",
      "Percentile of Predicted Probability: 93.285%\n",
      "Feature Importance (sorted low to high): {'IRALCRC': -0.10279049765830739, 'AGE2': -0.09957679300183354, 'ADDSCEV': -0.09140494238118399, 'CIGAGE': -0.027539448523285562, 'FUMJ18': -0.013444643851799873, 'BOOKED': -0.013116635040630986, 'IRECSTMOREC': -0.00751630979183418, 'IRMJRC': -0.0032009645433659084, 'IRHERRC': -0.0030633449056993722, 'CIGDLYMO': 0.0, 'TXEVRRCVD2': 0.0, 'TXYRRECVD2': 0.0, 'IRCRKRC': 0.002419399443239184, 'IRLSDRC': 0.0026007578942717074, 'CABINGEVR': 0.007660198887292968, 'FUCIG18': 0.012240074780620669, 'TOBYR': 0.0130167567929525, 'IRMJFY': 0.013308983960830661, 'IRSEX': 0.016027833056566354, 'IRALCAGE': 0.021578680333136507, 'IRHALLUCREC': 0.021790553980496175, 'ADDPREV': 0.03281915430430224, 'IRCIGRC': 0.046685628149410324, 'IRALCFY': 0.05763533429148521, 'EDUHIGHCAT': 0.07027208912112205, 'IRCOCRC': 0.09106572900181369, 'IRINHALREC': 0.12232573555926671, 'IRMETHAMREC': 0.14537161845187427}\n",
      "\n",
      "IRCIGRC 1  | TEST 50\n",
      "\n",
      "{'NAME': 'Test Scripter', 'IRSEX': 1, 'EDUHIGHCAT': 4, 'AGE2': 16, 'IRALCRC': 3, 'IRALCFY': 12, 'CABINGEVR': 2, 'IRALCAGE': 14, 'TXYRRECVD2': 0, 'TXEVRRCVD2': 1, 'IRCIGRC': 1, 'CIGDLYMO': 1, 'CIGAGE': 994, 'TOBYR': 1, 'FUCIG18': 1, 'IRMJRC': 9, 'IRMJFY': 1, 'FUMJ18': 1, 'IRCOCRC': 9, 'IRCRKRC': 3, 'IRHERRC': 3, 'IRHALLUCREC': 2, 'IRLSDRC': 3, 'IRECSTMOREC': 9, 'IRINHALREC': 9, 'IRMETHAMREC': 1, 'ADDPREV': 1, 'ADDSCEV': 94, 'BOOKED': 94}\n"
     ]
    },
    {
     "name": "stderr",
     "output_type": "stream",
     "text": [
      "  0%|                                                                                            | 0/1 [00:00<?, ?it/s]C:\\Users\\camke\\Anaconda3\\lib\\site-packages\\shap\\explainers\\kernel.py:535: UserWarning: l1_reg=\"auto\" is deprecated and in the next version (v0.29) the behavior will change from a conditional use of AIC to simply \"num_features(10)\"!\n",
      "  \"l1_reg=\\\"auto\\\" is deprecated and in the next version (v0.29) the behavior will change from a \" \\\n",
      "C:\\Users\\camke\\Anaconda3\\lib\\site-packages\\shap\\explainers\\kernel.py:535: UserWarning: l1_reg=\"auto\" is deprecated and in the next version (v0.29) the behavior will change from a conditional use of AIC to simply \"num_features(10)\"!\n",
      "  \"l1_reg=\\\"auto\\\" is deprecated and in the next version (v0.29) the behavior will change from a \" \\\n",
      "100%|████████████████████████████████████████████████████████████████████████████████████| 1/1 [00:02<00:00,  2.33s/it]\n"
     ]
    },
    {
     "name": "stdout",
     "output_type": "stream",
     "text": [
      "Predicted Probability: 0.000%\n",
      "Percentile of Predicted Probability: 0.400%\n",
      "Feature Importance (sorted low to high): {'ADDSCEV': -0.14492451539184045, 'AGE2': -0.03664824653702223, 'BOOKED': -0.026581055062880027, 'CIGAGE': -0.025625151560895287, 'ADDPREV': -0.01586100306000407, 'IRMJRC': -0.00946818134007292, 'CABINGEVR': -0.008455726769688171, 'IRALCRC': -0.005800256642587244, 'IRINHALREC': -0.005321238810720413, 'TOBYR': -0.004210645711138994, 'IRCRKRC': -0.003635393794487636, 'IRCOCRC': -0.0022211904923743475, 'IRALCFY': -0.0019240110685274509, 'IRECSTMOREC': -0.0018992346195951804, 'IRLSDRC': -0.0009963243356913287, 'CIGDLYMO': 0.0, 'FUMJ18': 0.0, 'IRMJFY': 0.0, 'TXEVRRCVD2': 0.0, 'TXYRRECVD2': 0.0, 'IRCIGRC': 0.0017226996729861194, 'EDUHIGHCAT': 0.003590299473331976, 'FUCIG18': 0.004073692322185088, 'IRALCAGE': 0.006645231203851153, 'IRSEX': 0.0076935684564663, 'IRHALLUCREC': 0.01523570915037803, 'IRMETHAMREC': 0.03940663533839734, 'IRHERRC': 0.05275734759216283}\n",
      "\n",
      "IRCIGRC 2  | TEST 51\n",
      "\n",
      "{'NAME': 'Test Scripter', 'IRSEX': 2, 'EDUHIGHCAT': 4, 'AGE2': 1, 'IRALCRC': 1, 'IRALCFY': 300, 'CABINGEVR': 1, 'IRALCAGE': 991, 'TXYRRECVD2': 1, 'TXEVRRCVD2': 1, 'IRCIGRC': 2, 'CIGDLYMO': 91, 'CIGAGE': 20, 'TOBYR': 1, 'FUCIG18': 1, 'IRMJRC': 3, 'IRMJFY': 2, 'FUMJ18': 1, 'IRCOCRC': 2, 'IRCRKRC': 9, 'IRHERRC': 2, 'IRHALLUCREC': 3, 'IRLSDRC': 1, 'IRECSTMOREC': 9, 'IRINHALREC': 9, 'IRMETHAMREC': 2, 'ADDPREV': 2, 'ADDSCEV': 2, 'BOOKED': 2}\n"
     ]
    },
    {
     "name": "stderr",
     "output_type": "stream",
     "text": [
      "  0%|                                                                                            | 0/1 [00:00<?, ?it/s]C:\\Users\\camke\\Anaconda3\\lib\\site-packages\\shap\\explainers\\kernel.py:535: UserWarning: l1_reg=\"auto\" is deprecated and in the next version (v0.29) the behavior will change from a conditional use of AIC to simply \"num_features(10)\"!\n",
      "  \"l1_reg=\\\"auto\\\" is deprecated and in the next version (v0.29) the behavior will change from a \" \\\n",
      "C:\\Users\\camke\\Anaconda3\\lib\\site-packages\\shap\\explainers\\kernel.py:535: UserWarning: l1_reg=\"auto\" is deprecated and in the next version (v0.29) the behavior will change from a conditional use of AIC to simply \"num_features(10)\"!\n",
      "  \"l1_reg=\\\"auto\\\" is deprecated and in the next version (v0.29) the behavior will change from a \" \\\n",
      "100%|████████████████████████████████████████████████████████████████████████████████████| 1/1 [00:02<00:00,  2.38s/it]\n"
     ]
    },
    {
     "name": "stdout",
     "output_type": "stream",
     "text": [
      "Predicted Probability: 81.739%\n",
      "Percentile of Predicted Probability: 98.619%\n",
      "Feature Importance (sorted low to high): {'ADDSCEV': -0.06258803836044294, 'IRLSDRC': -0.04236274980840049, 'IRCIGRC': -0.030531918143976794, 'IRMJFY': -0.023619828442625307, 'CIGAGE': -0.019587594633942884, 'TOBYR': -0.01744464540175983, 'IRSEX': -0.013920148373623709, 'IRECSTMOREC': -0.011120437777179332, 'IRINHALREC': -0.006599699172493201, 'IRMJRC': -0.0024401582694060786, 'BOOKED': 0.0, 'CABINGEVR': 0.0, 'CIGDLYMO': 0.0, 'IRCRKRC': 0.0, 'TXEVRRCVD2': 0.0, 'FUCIG18': 0.010585773031575763, 'FUMJ18': 0.01586035464386265, 'EDUHIGHCAT': 0.01867644255377232, 'IRALCAGE': 0.01911003000464412, 'IRALCRC': 0.02301664807138784, 'ADDPREV': 0.02727175396729431, 'IRHALLUCREC': 0.0273883491079292, 'IRALCFY': 0.05379881011181331, 'TXYRRECVD2': 0.07588174769604827, 'AGE2': 0.08856278267814027, 'IRCOCRC': 0.08994130379615872, 'IRMETHAMREC': 0.125800795320076, 'IRHERRC': 0.30926473976120694}\n",
      "\n",
      "IRCIGRC 3  | TEST 52\n",
      "\n",
      "{'NAME': 'Test Scripter', 'IRSEX': 1, 'EDUHIGHCAT': 1, 'AGE2': 3, 'IRALCRC': 3, 'IRALCFY': 100, 'CABINGEVR': 2, 'IRALCAGE': 21, 'TXYRRECVD2': 0, 'TXEVRRCVD2': 1, 'IRCIGRC': 3, 'CIGDLYMO': 2, 'CIGAGE': 25, 'TOBYR': 0, 'FUCIG18': 2, 'IRMJRC': 2, 'IRMJFY': 40, 'FUMJ18': 1, 'IRCOCRC': 1, 'IRCRKRC': 1, 'IRHERRC': 9, 'IRHALLUCREC': 1, 'IRLSDRC': 2, 'IRECSTMOREC': 9, 'IRINHALREC': 1, 'IRMETHAMREC': 3, 'ADDPREV': 1, 'ADDSCEV': 94, 'BOOKED': 1}\n"
     ]
    },
    {
     "name": "stderr",
     "output_type": "stream",
     "text": [
      "  0%|                                                                                            | 0/1 [00:00<?, ?it/s]C:\\Users\\camke\\Anaconda3\\lib\\site-packages\\shap\\explainers\\kernel.py:535: UserWarning: l1_reg=\"auto\" is deprecated and in the next version (v0.29) the behavior will change from a conditional use of AIC to simply \"num_features(10)\"!\n",
      "  \"l1_reg=\\\"auto\\\" is deprecated and in the next version (v0.29) the behavior will change from a \" \\\n",
      "C:\\Users\\camke\\Anaconda3\\lib\\site-packages\\shap\\explainers\\kernel.py:535: UserWarning: l1_reg=\"auto\" is deprecated and in the next version (v0.29) the behavior will change from a conditional use of AIC to simply \"num_features(10)\"!\n",
      "  \"l1_reg=\\\"auto\\\" is deprecated and in the next version (v0.29) the behavior will change from a \" \\\n",
      "100%|████████████████████████████████████████████████████████████████████████████████████| 1/1 [00:02<00:00,  2.37s/it]\n"
     ]
    },
    {
     "name": "stdout",
     "output_type": "stream",
     "text": [
      "Predicted Probability: 4.732%\n",
      "Percentile of Predicted Probability: 17.741%\n",
      "Feature Importance (sorted low to high): {'ADDSCEV': -0.25061871826976195, 'IRALCAGE': -0.049137605520139606, 'IRCIGRC': -0.04572631861299219, 'ADDPREV': -0.031150159052698807, 'IRCRKRC': -0.027585224373495906, 'CABINGEVR': -0.016093431983737548, 'IRALCRC': -0.009950931594617532, 'FUCIG18': -0.0093763504855926, 'BOOKED': -0.007719842374943081, 'IRHERRC': -0.007575968321378357, 'IRECSTMOREC': -0.004936793920885342, 'CIGDLYMO': 0.0, 'TXEVRRCVD2': 0.0, 'TXYRRECVD2': 0.0, 'TOBYR': 0.0041559175884797045, 'CIGAGE': 0.006207733039748302, 'FUMJ18': 0.007967952243814316, 'IRSEX': 0.008382438906790586, 'IRMETHAMREC': 0.008383986337349707, 'IRMJFY': 0.013284345324945226, 'IRLSDRC': 0.013808642329045655, 'IRALCFY': 0.019966890974813994, 'IRMJRC': 0.020698838347737586, 'EDUHIGHCAT': 0.03589070270122836, 'AGE2': 0.04294020420754481, 'IRHALLUCREC': 0.046296939906775886, 'IRCOCRC': 0.051537463699072895, 'IRINHALREC': 0.06522090890251059}\n",
      "\n",
      "IRCIGRC 4  | TEST 53\n",
      "\n",
      "{'NAME': 'Test Scripter', 'IRSEX': 1, 'EDUHIGHCAT': 2, 'AGE2': 5, 'IRALCRC': 2, 'IRALCFY': 991, 'CABINGEVR': 1, 'IRALCAGE': 20, 'TXYRRECVD2': 1, 'TXEVRRCVD2': 1, 'IRCIGRC': 4, 'CIGDLYMO': 1, 'CIGAGE': 99, 'TOBYR': 1, 'FUCIG18': 2, 'IRMJRC': 9, 'IRMJFY': 1, 'FUMJ18': 2, 'IRCOCRC': 9, 'IRCRKRC': 3, 'IRHERRC': 2, 'IRHALLUCREC': 1, 'IRLSDRC': 2, 'IRECSTMOREC': 2, 'IRINHALREC': 1, 'IRMETHAMREC': 3, 'ADDPREV': 2, 'ADDSCEV': 1, 'BOOKED': 2}\n"
     ]
    },
    {
     "name": "stderr",
     "output_type": "stream",
     "text": [
      "  0%|                                                                                            | 0/1 [00:00<?, ?it/s]C:\\Users\\camke\\Anaconda3\\lib\\site-packages\\shap\\explainers\\kernel.py:535: UserWarning: l1_reg=\"auto\" is deprecated and in the next version (v0.29) the behavior will change from a conditional use of AIC to simply \"num_features(10)\"!\n",
      "  \"l1_reg=\\\"auto\\\" is deprecated and in the next version (v0.29) the behavior will change from a \" \\\n",
      "C:\\Users\\camke\\Anaconda3\\lib\\site-packages\\shap\\explainers\\kernel.py:535: UserWarning: l1_reg=\"auto\" is deprecated and in the next version (v0.29) the behavior will change from a conditional use of AIC to simply \"num_features(10)\"!\n",
      "  \"l1_reg=\\\"auto\\\" is deprecated and in the next version (v0.29) the behavior will change from a \" \\\n",
      "100%|████████████████████████████████████████████████████████████████████████████████████| 1/1 [00:02<00:00,  2.45s/it]\n"
     ]
    },
    {
     "name": "stdout",
     "output_type": "stream",
     "text": [
      "Predicted Probability: 91.892%\n",
      "Percentile of Predicted Probability: 99.700%\n",
      "Feature Importance (sorted low to high): {'IRCIGRC': -0.07540987309094205, 'ADDSCEV': -0.0727959136538654, 'IRALCAGE': -0.04853745490887662, 'IRMJRC': -0.031106686517010068, 'TOBYR': -0.01637385119613405, 'IRCOCRC': -0.0131814063422529, 'IRALCRC': -0.00046094062342588726, 'BOOKED': 0.0, 'CABINGEVR': 0.0, 'CIGDLYMO': 0.0, 'FUCIG18': 0.0, 'FUMJ18': 0.0, 'IRALCFY': 0.0, 'IRMJFY': 0.0, 'TXEVRRCVD2': 0.0, 'IRCRKRC': 0.0019416571756988854, 'EDUHIGHCAT': 0.010736117353635943, 'IRSEX': 0.012103341114132027, 'IRMETHAMREC': 0.016402498061629606, 'ADDPREV': 0.027931502153695775, 'IRLSDRC': 0.028015172217967066, 'IRECSTMOREC': 0.05855822434050928, 'IRHALLUCREC': 0.06286958803109433, 'AGE2': 0.07021124060212741, 'TXYRRECVD2': 0.07854634455955023, 'IRINHALREC': 0.09637161675607914, 'IRHERRC': 0.2740200097001372, 'CIGAGE': 0.27663074119740194}\n",
      "\n",
      "CIGDLYMO 91  | TEST 54\n",
      "\n",
      "{'NAME': 'Test Scripter', 'IRSEX': 1, 'EDUHIGHCAT': 3, 'AGE2': 6, 'IRALCRC': 9, 'IRALCFY': 1, 'CABINGEVR': 991, 'IRALCAGE': 20, 'TXYRRECVD2': 0, 'TXEVRRCVD2': 0, 'IRCIGRC': 3, 'CIGDLYMO': 91, 'CIGAGE': 17, 'TOBYR': 1, 'FUCIG18': 2, 'IRMJRC': 2, 'IRMJFY': 365, 'FUMJ18': 1, 'IRCOCRC': 2, 'IRCRKRC': 3, 'IRHERRC': 1, 'IRHALLUCREC': 2, 'IRLSDRC': 9, 'IRECSTMOREC': 1, 'IRINHALREC': 3, 'IRMETHAMREC': 2, 'ADDPREV': 1, 'ADDSCEV': 2, 'BOOKED': 1}\n"
     ]
    },
    {
     "name": "stderr",
     "output_type": "stream",
     "text": [
      "  0%|                                                                                            | 0/1 [00:00<?, ?it/s]C:\\Users\\camke\\Anaconda3\\lib\\site-packages\\shap\\explainers\\kernel.py:535: UserWarning: l1_reg=\"auto\" is deprecated and in the next version (v0.29) the behavior will change from a conditional use of AIC to simply \"num_features(10)\"!\n",
      "  \"l1_reg=\\\"auto\\\" is deprecated and in the next version (v0.29) the behavior will change from a \" \\\n",
      "C:\\Users\\camke\\Anaconda3\\lib\\site-packages\\shap\\explainers\\kernel.py:535: UserWarning: l1_reg=\"auto\" is deprecated and in the next version (v0.29) the behavior will change from a conditional use of AIC to simply \"num_features(10)\"!\n",
      "  \"l1_reg=\\\"auto\\\" is deprecated and in the next version (v0.29) the behavior will change from a \" \\\n",
      "100%|████████████████████████████████████████████████████████████████████████████████████| 1/1 [00:02<00:00,  2.37s/it]\n"
     ]
    },
    {
     "name": "stdout",
     "output_type": "stream",
     "text": [
      "Predicted Probability: 81.739%\n",
      "Percentile of Predicted Probability: 98.619%\n",
      "Feature Importance (sorted low to high): {'IRALCRC': -0.08252725515416659, 'ADDSCEV': -0.06986612207262047, 'IRCIGRC': -0.056921691643854994, 'ADDPREV': -0.05395489033849399, 'IRALCAGE': -0.04409981290696069, 'CIGAGE': -0.020584078461302113, 'TOBYR': -0.02035635409328118, 'BOOKED': 0.0, 'CABINGEVR': 0.0, 'CIGDLYMO': 0.0, 'FUCIG18': 0.0, 'IRALCFY': 0.0, 'IRLSDRC': 0.0, 'TXEVRRCVD2': 0.0, 'TXYRRECVD2': 0.0, 'IRCRKRC': 0.004299135782528912, 'EDUHIGHCAT': 0.009917275965187988, 'FUMJ18': 0.01379555948612321, 'IRSEX': 0.0163107571709597, 'IRMJRC': 0.037662754675890975, 'IRHALLUCREC': 0.04608271027519373, 'IRECSTMOREC': 0.05852119392019367, 'IRINHALREC': 0.059827350977606886, 'AGE2': 0.0662667450394443, 'IRMJFY': 0.07608249120853883, 'IRCOCRC': 0.10239291957913915, 'IRMETHAMREC': 0.12777591412277234, 'IRHERRC': 0.3843197088271594}\n",
      "\n",
      "CIGDLYMO 2  | TEST 55\n",
      "\n",
      "{'NAME': 'Test Scripter', 'IRSEX': 2, 'EDUHIGHCAT': 3, 'AGE2': 9, 'IRALCRC': 9, 'IRALCFY': 993, 'CABINGEVR': 1, 'IRALCAGE': 20, 'TXYRRECVD2': 1, 'TXEVRRCVD2': 0, 'IRCIGRC': 4, 'CIGDLYMO': 2, 'CIGAGE': 13, 'TOBYR': 1, 'FUCIG18': 1, 'IRMJRC': 2, 'IRMJFY': 7, 'FUMJ18': 2, 'IRCOCRC': 9, 'IRCRKRC': 3, 'IRHERRC': 2, 'IRHALLUCREC': 3, 'IRLSDRC': 1, 'IRECSTMOREC': 3, 'IRINHALREC': 3, 'IRMETHAMREC': 1, 'ADDPREV': 2, 'ADDSCEV': 1, 'BOOKED': 94}\n"
     ]
    },
    {
     "name": "stderr",
     "output_type": "stream",
     "text": [
      "  0%|                                                                                            | 0/1 [00:00<?, ?it/s]C:\\Users\\camke\\Anaconda3\\lib\\site-packages\\shap\\explainers\\kernel.py:535: UserWarning: l1_reg=\"auto\" is deprecated and in the next version (v0.29) the behavior will change from a conditional use of AIC to simply \"num_features(10)\"!\n",
      "  \"l1_reg=\\\"auto\\\" is deprecated and in the next version (v0.29) the behavior will change from a \" \\\n",
      "C:\\Users\\camke\\Anaconda3\\lib\\site-packages\\shap\\explainers\\kernel.py:535: UserWarning: l1_reg=\"auto\" is deprecated and in the next version (v0.29) the behavior will change from a conditional use of AIC to simply \"num_features(10)\"!\n",
      "  \"l1_reg=\\\"auto\\\" is deprecated and in the next version (v0.29) the behavior will change from a \" \\\n",
      "100%|████████████████████████████████████████████████████████████████████████████████████| 1/1 [00:02<00:00,  2.33s/it]\n"
     ]
    },
    {
     "name": "stdout",
     "output_type": "stream",
     "text": [
      "Predicted Probability: 27.047%\n",
      "Percentile of Predicted Probability: 82.184%\n",
      "Feature Importance (sorted low to high): {'IRALCRC': -0.09001585760919979, 'IRCIGRC': -0.08542108920741566, 'ADDSCEV': -0.08143470639517608, 'BOOKED': -0.07081014826577203, 'IRLSDRC': -0.039030070624989026, 'IRALCAGE': -0.03340539956170133, 'CIGAGE': -0.020515930883102825, 'TOBYR': -0.014948075438627126, 'IRCOCRC': -0.010399972729393067, 'FUMJ18': -0.00985016842301055, 'IRSEX': -0.008538149060376685, 'IRMJFY': -0.008063293593692657, 'IRALCFY': -0.006683789080885953, 'IRCRKRC': -0.0007768248369360506, 'CIGDLYMO': 0.0, 'TXEVRRCVD2': 0.0, 'EDUHIGHCAT': 0.0030774248945549046, 'CABINGEVR': 0.004678358513113601, 'FUCIG18': 0.012091366461464931, 'IRHALLUCREC': 0.014852684174407112, 'IRECSTMOREC': 0.021173042872737198, 'ADDPREV': 0.025981769578237182, 'IRMJRC': 0.02962300105526866, 'AGE2': 0.04492338706063516, 'IRINHALREC': 0.04707222354439224, 'TXYRRECVD2': 0.07326183162289196, 'IRMETHAMREC': 0.08817167745294827, 'IRHERRC': 0.22301118051171182}\n",
      "\n",
      "CIGDLYMO 1  | TEST 56\n",
      "\n",
      "{'NAME': 'Test Scripter', 'IRSEX': 2, 'EDUHIGHCAT': 3, 'AGE2': 6, 'IRALCRC': 2, 'IRALCFY': 12, 'CABINGEVR': 991, 'IRALCAGE': 17, 'TXYRRECVD2': 0, 'TXEVRRCVD2': 1, 'IRCIGRC': 9, 'CIGDLYMO': 1, 'CIGAGE': 30, 'TOBYR': 1, 'FUCIG18': 2, 'IRMJRC': 1, 'IRMJFY': 365, 'FUMJ18': 1, 'IRCOCRC': 1, 'IRCRKRC': 1, 'IRHERRC': 3, 'IRHALLUCREC': 9, 'IRLSDRC': 1, 'IRECSTMOREC': 3, 'IRINHALREC': 9, 'IRMETHAMREC': 1, 'ADDPREV': 94, 'ADDSCEV': 94, 'BOOKED': 94}\n"
     ]
    },
    {
     "name": "stderr",
     "output_type": "stream",
     "text": [
      "  0%|                                                                                            | 0/1 [00:00<?, ?it/s]C:\\Users\\camke\\Anaconda3\\lib\\site-packages\\shap\\explainers\\kernel.py:535: UserWarning: l1_reg=\"auto\" is deprecated and in the next version (v0.29) the behavior will change from a conditional use of AIC to simply \"num_features(10)\"!\n",
      "  \"l1_reg=\\\"auto\\\" is deprecated and in the next version (v0.29) the behavior will change from a \" \\\n",
      "C:\\Users\\camke\\Anaconda3\\lib\\site-packages\\shap\\explainers\\kernel.py:535: UserWarning: l1_reg=\"auto\" is deprecated and in the next version (v0.29) the behavior will change from a conditional use of AIC to simply \"num_features(10)\"!\n",
      "  \"l1_reg=\\\"auto\\\" is deprecated and in the next version (v0.29) the behavior will change from a \" \\\n",
      "100%|████████████████████████████████████████████████████████████████████████████████████| 1/1 [00:02<00:00,  2.42s/it]\n"
     ]
    },
    {
     "name": "stdout",
     "output_type": "stream",
     "text": [
      "Predicted Probability: 23.109%\n",
      "Percentile of Predicted Probability: 77.680%\n",
      "Feature Importance (sorted low to high): {'ADDSCEV': -0.3421078605847122, 'BOOKED': -0.06536183745707347, 'CIGAGE': -0.05100289772120878, 'IRCRKRC': -0.0350700402478472, 'IRLSDRC': -0.030362716447656618, 'IRALCAGE': -0.01737752224857512, 'IRINHALREC': -0.01432778712184897, 'TOBYR': -0.013170088068592822, 'IRSEX': -0.010741512688219212, 'FUCIG18': -0.009638800315322472, 'IRHALLUCREC': -0.005804409889337829, 'CABINGEVR': 0.0, 'CIGDLYMO': 0.0, 'TXEVRRCVD2': 0.0, 'TXYRRECVD2': 0.0, 'IRALCRC': 0.0007876669955859741, 'FUMJ18': 0.009420134542907133, 'IRALCFY': 0.014328330853884165, 'EDUHIGHCAT': 0.014419588725444327, 'IRECSTMOREC': 0.016525566108287745, 'IRCIGRC': 0.03621513264056471, 'IRMJRC': 0.03644631726365295, 'AGE2': 0.04730602793586738, 'IRCOCRC': 0.056433134646967774, 'IRHERRC': 0.05697523470742011, 'IRMJFY': 0.06084158422979636, 'IRMETHAMREC': 0.07652350523533494, 'ADDPREV': 0.23738291441347537}\n",
      "\n",
      "CIGAGE 991  | TEST 57\n",
      "\n",
      "{'NAME': 'Test Scripter', 'IRSEX': 2, 'EDUHIGHCAT': 5, 'AGE2': 9, 'IRALCRC': 9, 'IRALCFY': 991, 'CABINGEVR': 2, 'IRALCAGE': 17, 'TXYRRECVD2': 1, 'TXEVRRCVD2': 0, 'IRCIGRC': 9, 'CIGDLYMO': 2, 'CIGAGE': 991, 'TOBYR': 1, 'FUCIG18': 2, 'IRMJRC': 1, 'IRMJFY': 365, 'FUMJ18': 1, 'IRCOCRC': 9, 'IRCRKRC': 9, 'IRHERRC': 2, 'IRHALLUCREC': 9, 'IRLSDRC': 9, 'IRECSTMOREC': 1, 'IRINHALREC': 1, 'IRMETHAMREC': 2, 'ADDPREV': 1, 'ADDSCEV': 94, 'BOOKED': 94}\n"
     ]
    },
    {
     "name": "stderr",
     "output_type": "stream",
     "text": [
      "  0%|                                                                                            | 0/1 [00:00<?, ?it/s]C:\\Users\\camke\\Anaconda3\\lib\\site-packages\\shap\\explainers\\kernel.py:535: UserWarning: l1_reg=\"auto\" is deprecated and in the next version (v0.29) the behavior will change from a conditional use of AIC to simply \"num_features(10)\"!\n",
      "  \"l1_reg=\\\"auto\\\" is deprecated and in the next version (v0.29) the behavior will change from a \" \\\n",
      "C:\\Users\\camke\\Anaconda3\\lib\\site-packages\\shap\\explainers\\kernel.py:535: UserWarning: l1_reg=\"auto\" is deprecated and in the next version (v0.29) the behavior will change from a conditional use of AIC to simply \"num_features(10)\"!\n",
      "  \"l1_reg=\\\"auto\\\" is deprecated and in the next version (v0.29) the behavior will change from a \" \\\n",
      "100%|████████████████████████████████████████████████████████████████████████████████████| 1/1 [00:02<00:00,  2.32s/it]\n"
     ]
    },
    {
     "name": "stdout",
     "output_type": "stream",
     "text": [
      "Predicted Probability: 11.383%\n",
      "Percentile of Predicted Probability: 54.791%\n",
      "Feature Importance (sorted low to high): {'ADDSCEV': -0.3147795234699855, 'EDUHIGHCAT': -0.08206915343422383, 'IRALCRC': -0.07326259271783836, 'BOOKED': -0.05798851467426602, 'ADDPREV': -0.04037043671002549, 'CABINGEVR': -0.020866278805562938, 'CIGAGE': -0.018545958673719234, 'TOBYR': -0.014075238323975128, 'IRALCAGE': -0.014043607928685448, 'FUCIG18': -0.010773715802842095, 'IRHALLUCREC': -0.009864849409104287, 'IRCOCRC': -0.00823209976535055, 'IRSEX': -0.00809472476820913, 'CIGDLYMO': 0.0, 'IRALCFY': 0.0, 'IRCRKRC': 0.0, 'TXEVRRCVD2': 0.0, 'IRLSDRC': 0.005063471549622681, 'FUMJ18': 0.011685184289804001, 'IRCIGRC': 0.029315969326121953, 'IRMJRC': 0.03175592673334961, 'AGE2': 0.03705973946440188, 'IRECSTMOREC': 0.04077332037611768, 'IRMJFY': 0.05416974797048177, 'TXYRRECVD2': 0.05812040745325302, 'IRINHALREC': 0.07758633797592616, 'IRMETHAMREC': 0.09590740616420572, 'IRHERRC': 0.18291328054402178}\n",
      "\n",
      "CIGAGE 994  | TEST 58\n",
      "\n",
      "{'NAME': 'Test Scripter', 'IRSEX': 2, 'EDUHIGHCAT': 2, 'AGE2': 9, 'IRALCRC': 3, 'IRALCFY': 300, 'CABINGEVR': 1, 'IRALCAGE': 14, 'TXYRRECVD2': 0, 'TXEVRRCVD2': 1, 'IRCIGRC': 2, 'CIGDLYMO': 1, 'CIGAGE': 994, 'TOBYR': 1, 'FUCIG18': 1, 'IRMJRC': 2, 'IRMJFY': 7, 'FUMJ18': 2, 'IRCOCRC': 3, 'IRCRKRC': 1, 'IRHERRC': 2, 'IRHALLUCREC': 9, 'IRLSDRC': 2, 'IRECSTMOREC': 2, 'IRINHALREC': 1, 'IRMETHAMREC': 9, 'ADDPREV': 1, 'ADDSCEV': 1, 'BOOKED': 97}\n"
     ]
    },
    {
     "name": "stderr",
     "output_type": "stream",
     "text": [
      "  0%|                                                                                            | 0/1 [00:00<?, ?it/s]C:\\Users\\camke\\Anaconda3\\lib\\site-packages\\shap\\explainers\\kernel.py:535: UserWarning: l1_reg=\"auto\" is deprecated and in the next version (v0.29) the behavior will change from a conditional use of AIC to simply \"num_features(10)\"!\n",
      "  \"l1_reg=\\\"auto\\\" is deprecated and in the next version (v0.29) the behavior will change from a \" \\\n",
      "C:\\Users\\camke\\Anaconda3\\lib\\site-packages\\shap\\explainers\\kernel.py:535: UserWarning: l1_reg=\"auto\" is deprecated and in the next version (v0.29) the behavior will change from a conditional use of AIC to simply \"num_features(10)\"!\n",
      "  \"l1_reg=\\\"auto\\\" is deprecated and in the next version (v0.29) the behavior will change from a \" \\\n",
      "100%|████████████████████████████████████████████████████████████████████████████████████| 1/1 [00:02<00:00,  2.33s/it]\n"
     ]
    },
    {
     "name": "stdout",
     "output_type": "stream",
     "text": [
      "Predicted Probability: 32.719%\n",
      "Percentile of Predicted Probability: 87.931%\n",
      "Feature Importance (sorted low to high): {'ADDSCEV': -0.08706216177441242, 'BOOKED': -0.07699121641293019, 'CIGAGE': -0.06513740629261824, 'ADDPREV': -0.05426242098487535, 'IRCRKRC': -0.05232858192931571, 'IRCIGRC': -0.04002734365647602, 'IRMJFY': -0.016498772888919155, 'TOBYR': -0.015873328778800058, 'IRALCRC': -0.014109898454538722, 'FUMJ18': -0.010695764272345532, 'IRHALLUCREC': -0.009459679764689033, 'IRSEX': -0.009033275621038964, 'TXYRRECVD2': -0.0026101371445763633, 'IRMETHAMREC': -0.00013638508086272205, 'CIGDLYMO': 0.0, 'TXEVRRCVD2': 0.0, 'CABINGEVR': 0.006317168060304169, 'EDUHIGHCAT': 0.009519542249904402, 'FUCIG18': 0.012070414572955324, 'IRALCAGE': 0.01672447602294278, 'IRLSDRC': 0.017759200673313144, 'IRCOCRC': 0.02926475077830247, 'IRMJRC': 0.03269293466974446, 'IRECSTMOREC': 0.04681964441839222, 'AGE2': 0.049711900182541624, 'IRALCFY': 0.0507299817178543, 'IRINHALREC': 0.10468072274854237, 'IRHERRC': 0.24267758506600023}\n",
      "\n",
      "CIGAGE 999  | TEST 59\n",
      "\n",
      "{'NAME': 'Test Scripter', 'IRSEX': 2, 'EDUHIGHCAT': 2, 'AGE2': 8, 'IRALCRC': 3, 'IRALCFY': 993, 'CABINGEVR': 1, 'IRALCAGE': 14, 'TXYRRECVD2': 0, 'TXEVRRCVD2': 1, 'IRCIGRC': 4, 'CIGDLYMO': 91, 'CIGAGE': 999, 'TOBYR': 1, 'FUCIG18': 2, 'IRMJRC': 2, 'IRMJFY': 365, 'FUMJ18': 2, 'IRCOCRC': 2, 'IRCRKRC': 9, 'IRHERRC': 9, 'IRHALLUCREC': 9, 'IRLSDRC': 2, 'IRECSTMOREC': 2, 'IRINHALREC': 9, 'IRMETHAMREC': 9, 'ADDPREV': 1, 'ADDSCEV': 94, 'BOOKED': 2}\n"
     ]
    },
    {
     "name": "stderr",
     "output_type": "stream",
     "text": [
      "  0%|                                                                                            | 0/1 [00:00<?, ?it/s]C:\\Users\\camke\\Anaconda3\\lib\\site-packages\\shap\\explainers\\kernel.py:535: UserWarning: l1_reg=\"auto\" is deprecated and in the next version (v0.29) the behavior will change from a conditional use of AIC to simply \"num_features(10)\"!\n",
      "  \"l1_reg=\\\"auto\\\" is deprecated and in the next version (v0.29) the behavior will change from a \" \\\n",
      "C:\\Users\\camke\\Anaconda3\\lib\\site-packages\\shap\\explainers\\kernel.py:535: UserWarning: l1_reg=\"auto\" is deprecated and in the next version (v0.29) the behavior will change from a conditional use of AIC to simply \"num_features(10)\"!\n",
      "  \"l1_reg=\\\"auto\\\" is deprecated and in the next version (v0.29) the behavior will change from a \" \\\n",
      "100%|████████████████████████████████████████████████████████████████████████████████████| 1/1 [00:02<00:00,  2.31s/it]\n"
     ]
    },
    {
     "name": "stdout",
     "output_type": "stream",
     "text": [
      "Predicted Probability: 3.589%\n",
      "Percentile of Predicted Probability: 10.738%\n",
      "Feature Importance (sorted low to high): {'ADDSCEV': -0.21885362579763473, 'IRCIGRC': -0.050203523945235085, 'ADDPREV': -0.027236799351281725, 'IRALCRC': -0.010729925240372605, 'TOBYR': -0.007445572428423253, 'IRINHALREC': -0.0072573425347228215, 'FUCIG18': -0.007029647081210066, 'IRHALLUCREC': -0.0058525424243897894, 'FUMJ18': -0.005551068230943368, 'IRSEX': -0.005540346633033377, 'IRALCFY': -0.003085620366431157, 'IRHERRC': -0.002656749350025432, 'IRMETHAMREC': -0.0013652531649384347, 'BOOKED': 0.0, 'CIGDLYMO': 0.0, 'TXEVRRCVD2': 0.0, 'TXYRRECVD2': 0.0, 'IRCRKRC': 0.0028289519536876945, 'CABINGEVR': 0.0034374450951982424, 'EDUHIGHCAT': 0.0048002799241745955, 'IRALCAGE': 0.00782603728639867, 'IRLSDRC': 0.013896676429279782, 'IRMJRC': 0.017895839588701994, 'IRECSTMOREC': 0.02244771759072621, 'AGE2': 0.027617507465719407, 'CIGAGE': 0.034899615828431686, 'IRMJFY': 0.03957344024262341, 'IRCOCRC': 0.05102860226484414}\n",
      "\n",
      "CIGAGE 10  | TEST 60\n",
      "\n",
      "{'NAME': 'Test Scripter', 'IRSEX': 2, 'EDUHIGHCAT': 4, 'AGE2': 15, 'IRALCRC': 3, 'IRALCFY': 50, 'CABINGEVR': 991, 'IRALCAGE': 991, 'TXYRRECVD2': 0, 'TXEVRRCVD2': 0, 'IRCIGRC': 9, 'CIGDLYMO': 2, 'CIGAGE': 10, 'TOBYR': 0, 'FUCIG18': 1, 'IRMJRC': 9, 'IRMJFY': 993, 'FUMJ18': 2, 'IRCOCRC': 2, 'IRCRKRC': 9, 'IRHERRC': 3, 'IRHALLUCREC': 9, 'IRLSDRC': 3, 'IRECSTMOREC': 1, 'IRINHALREC': 9, 'IRMETHAMREC': 9, 'ADDPREV': 94, 'ADDSCEV': 1, 'BOOKED': 97}\n"
     ]
    },
    {
     "name": "stderr",
     "output_type": "stream",
     "text": [
      "  0%|                                                                                            | 0/1 [00:00<?, ?it/s]C:\\Users\\camke\\Anaconda3\\lib\\site-packages\\shap\\explainers\\kernel.py:535: UserWarning: l1_reg=\"auto\" is deprecated and in the next version (v0.29) the behavior will change from a conditional use of AIC to simply \"num_features(10)\"!\n",
      "  \"l1_reg=\\\"auto\\\" is deprecated and in the next version (v0.29) the behavior will change from a \" \\\n",
      "C:\\Users\\camke\\Anaconda3\\lib\\site-packages\\shap\\explainers\\kernel.py:535: UserWarning: l1_reg=\"auto\" is deprecated and in the next version (v0.29) the behavior will change from a conditional use of AIC to simply \"num_features(10)\"!\n",
      "  \"l1_reg=\\\"auto\\\" is deprecated and in the next version (v0.29) the behavior will change from a \" \\\n",
      "100%|████████████████████████████████████████████████████████████████████████████████████| 1/1 [00:02<00:00,  2.32s/it]\n"
     ]
    },
    {
     "name": "stdout",
     "output_type": "stream",
     "text": [
      "Predicted Probability: 54.545%\n",
      "Percentile of Predicted Probability: 94.921%\n",
      "Feature Importance (sorted low to high): {'ADDSCEV': -0.08177411833438902, 'BOOKED': -0.07163179864166051, 'AGE2': -0.03436480755240204, 'IRMJRC': -0.026171525233410847, 'CIGAGE': -0.02278075958316761, 'FUMJ18': -0.015202555784880112, 'IRALCRC': -0.012707053490400619, 'IRMETHAMREC': -0.010365788431945494, 'IRHALLUCREC': -0.010085951237570251, 'IRLSDRC': -0.008992051696197545, 'IRSEX': -0.008966700977995581, 'IRALCFY': -0.0014520299453392727, 'CIGDLYMO': 0.0, 'IRCRKRC': 0.0, 'IRMJFY': 0.0, 'TXEVRRCVD2': 0.0, 'TXYRRECVD2': 0.0, 'IRINHALREC': 0.0013934156675239479, 'CABINGEVR': 0.007477218356250426, 'TOBYR': 0.013047874571224971, 'EDUHIGHCAT': 0.014602668754929854, 'FUCIG18': 0.01499616905107834, 'IRALCAGE': 0.025663623700693694, 'IRCIGRC': 0.04101065072847293, 'IRECSTMOREC': 0.06040704537821667, 'IRCOCRC': 0.09585969325946997, 'IRHERRC': 0.1144812120696666, 'ADDPREV': 0.29856312283861003}\n",
      "\n",
      "CIGAGE 13  | TEST 61\n",
      "\n",
      "{'NAME': 'Test Scripter', 'IRSEX': 1, 'EDUHIGHCAT': 2, 'AGE2': 7, 'IRALCRC': 1, 'IRALCFY': 50, 'CABINGEVR': 2, 'IRALCAGE': 991, 'TXYRRECVD2': 1, 'TXEVRRCVD2': 1, 'IRCIGRC': 2, 'CIGDLYMO': 1, 'CIGAGE': 13, 'TOBYR': 0, 'FUCIG18': 2, 'IRMJRC': 9, 'IRMJFY': 300, 'FUMJ18': 2, 'IRCOCRC': 1, 'IRCRKRC': 3, 'IRHERRC': 1, 'IRHALLUCREC': 9, 'IRLSDRC': 2, 'IRECSTMOREC': 3, 'IRINHALREC': 1, 'IRMETHAMREC': 9, 'ADDPREV': 1, 'ADDSCEV': 1, 'BOOKED': 2}\n"
     ]
    },
    {
     "name": "stderr",
     "output_type": "stream",
     "text": [
      "  0%|                                                                                            | 0/1 [00:00<?, ?it/s]C:\\Users\\camke\\Anaconda3\\lib\\site-packages\\shap\\explainers\\kernel.py:535: UserWarning: l1_reg=\"auto\" is deprecated and in the next version (v0.29) the behavior will change from a conditional use of AIC to simply \"num_features(10)\"!\n",
      "  \"l1_reg=\\\"auto\\\" is deprecated and in the next version (v0.29) the behavior will change from a \" \\\n",
      "C:\\Users\\camke\\Anaconda3\\lib\\site-packages\\shap\\explainers\\kernel.py:535: UserWarning: l1_reg=\"auto\" is deprecated and in the next version (v0.29) the behavior will change from a conditional use of AIC to simply \"num_features(10)\"!\n",
      "  \"l1_reg=\\\"auto\\\" is deprecated and in the next version (v0.29) the behavior will change from a \" \\\n",
      "100%|████████████████████████████████████████████████████████████████████████████████████| 1/1 [00:02<00:00,  2.30s/it]\n"
     ]
    },
    {
     "name": "stdout",
     "output_type": "stream",
     "text": [
      "Predicted Probability: 81.739%\n",
      "Percentile of Predicted Probability: 98.619%\n",
      "Feature Importance (sorted low to high): {'ADDSCEV': -0.08144679963837587, 'ADDPREV': -0.053809409190769764, 'IRCIGRC': -0.033669237005304026, 'CABINGEVR': -0.02632393019671775, 'CIGAGE': -0.021374362607365194, 'IRMJRC': -0.017760641474553446, 'FUCIG18': -0.012844158531772787, 'FUMJ18': -0.011785512603129655, 'IRMETHAMREC': -0.006288202600197967, 'IRHALLUCREC': -0.004244273941521215, 'IRCRKRC': -0.0014540515669046739, 'BOOKED': 0.0, 'CIGDLYMO': 0.0, 'TXEVRRCVD2': 0.0, 'IRALCFY': 0.009807159108741012, 'TOBYR': 0.012065926128571436, 'EDUHIGHCAT': 0.01611178310780967, 'IRSEX': 0.016631863042180006, 'IRALCRC': 0.017142621698923194, 'IRALCAGE': 0.01966904378190462, 'IRLSDRC': 0.027321322045715746, 'IRECSTMOREC': 0.027831982168547986, 'IRMJFY': 0.05976533053697364, 'AGE2': 0.06184821949229741, 'TXYRRECVD2': 0.07992631662059768, 'IRCOCRC': 0.0807239393029118, 'IRINHALREC': 0.11228631331574246, 'IRHERRC': 0.384813071365755}\n",
      "\n",
      "CIGAGE 15  | TEST 62\n",
      "\n",
      "{'NAME': 'Test Scripter', 'IRSEX': 2, 'EDUHIGHCAT': 2, 'AGE2': 8, 'IRALCRC': 9, 'IRALCFY': 993, 'CABINGEVR': 1, 'IRALCAGE': 20, 'TXYRRECVD2': 1, 'TXEVRRCVD2': 0, 'IRCIGRC': 9, 'CIGDLYMO': 2, 'CIGAGE': 15, 'TOBYR': 0, 'FUCIG18': 2, 'IRMJRC': 3, 'IRMJFY': 10, 'FUMJ18': 1, 'IRCOCRC': 2, 'IRCRKRC': 3, 'IRHERRC': 3, 'IRHALLUCREC': 1, 'IRLSDRC': 9, 'IRECSTMOREC': 3, 'IRINHALREC': 9, 'IRMETHAMREC': 9, 'ADDPREV': 1, 'ADDSCEV': 2, 'BOOKED': 1}\n"
     ]
    },
    {
     "name": "stderr",
     "output_type": "stream",
     "text": [
      "  0%|                                                                                            | 0/1 [00:00<?, ?it/s]C:\\Users\\camke\\Anaconda3\\lib\\site-packages\\shap\\explainers\\kernel.py:535: UserWarning: l1_reg=\"auto\" is deprecated and in the next version (v0.29) the behavior will change from a conditional use of AIC to simply \"num_features(10)\"!\n",
      "  \"l1_reg=\\\"auto\\\" is deprecated and in the next version (v0.29) the behavior will change from a \" \\\n",
      "C:\\Users\\camke\\Anaconda3\\lib\\site-packages\\shap\\explainers\\kernel.py:535: UserWarning: l1_reg=\"auto\" is deprecated and in the next version (v0.29) the behavior will change from a conditional use of AIC to simply \"num_features(10)\"!\n",
      "  \"l1_reg=\\\"auto\\\" is deprecated and in the next version (v0.29) the behavior will change from a \" \\\n",
      "100%|████████████████████████████████████████████████████████████████████████████████████| 1/1 [00:02<00:00,  2.35s/it]\n"
     ]
    },
    {
     "name": "stdout",
     "output_type": "stream",
     "text": [
      "Predicted Probability: 28.058%\n",
      "Percentile of Predicted Probability: 86.119%\n",
      "Feature Importance (sorted low to high): {'IRALCRC': -0.08317909412806421, 'ADDSCEV': -0.06652034390838335, 'ADDPREV': -0.05280133750268014, 'IRALCAGE': -0.034566494701977236, 'CIGAGE': -0.020759277772308644, 'FUCIG18': -0.015263269861113017, 'BOOKED': -0.013097076717649692, 'IRSEX': -0.010302161017694052, 'IRALCFY': -0.00752568564682124, 'IRINHALREC': -0.006377424980131561, 'IRMJRC': -0.004557361357202569, 'IRCRKRC': -0.0021004835065203883, 'IRMETHAMREC': -0.0006259607245898725, 'CIGDLYMO': 0.0, 'TXEVRRCVD2': 0.0, 'IRLSDRC': 0.0003554383987886354, 'CABINGEVR': 0.004394715621903179, 'IRMJFY': 0.005538831914284389, 'EDUHIGHCAT': 0.005776542195316391, 'TOBYR': 0.009510506410262552, 'FUMJ18': 0.013262884619943335, 'IRECSTMOREC': 0.023534999417483958, 'IRCIGRC': 0.038275549958353444, 'AGE2': 0.04844359435661974, 'IRHERRC': 0.06646237066143906, 'IRHALLUCREC': 0.06798090568207756, 'TXYRRECVD2': 0.06979322549173374, 'IRCOCRC': 0.08247495467750832}\n",
      "\n",
      "CIGAGE 17  | TEST 63\n",
      "\n",
      "{'NAME': 'Test Scripter', 'IRSEX': 1, 'EDUHIGHCAT': 5, 'AGE2': 1, 'IRALCRC': 3, 'IRALCFY': 991, 'CABINGEVR': 991, 'IRALCAGE': 14, 'TXYRRECVD2': 1, 'TXEVRRCVD2': 1, 'IRCIGRC': 2, 'CIGDLYMO': 2, 'CIGAGE': 17, 'TOBYR': 1, 'FUCIG18': 1, 'IRMJRC': 1, 'IRMJFY': 365, 'FUMJ18': 1, 'IRCOCRC': 1, 'IRCRKRC': 2, 'IRHERRC': 1, 'IRHALLUCREC': 1, 'IRLSDRC': 1, 'IRECSTMOREC': 1, 'IRINHALREC': 9, 'IRMETHAMREC': 3, 'ADDPREV': 94, 'ADDSCEV': 2, 'BOOKED': 94}\n"
     ]
    },
    {
     "name": "stderr",
     "output_type": "stream",
     "text": [
      "  0%|                                                                                            | 0/1 [00:00<?, ?it/s]C:\\Users\\camke\\Anaconda3\\lib\\site-packages\\shap\\explainers\\kernel.py:535: UserWarning: l1_reg=\"auto\" is deprecated and in the next version (v0.29) the behavior will change from a conditional use of AIC to simply \"num_features(10)\"!\n",
      "  \"l1_reg=\\\"auto\\\" is deprecated and in the next version (v0.29) the behavior will change from a \" \\\n",
      "C:\\Users\\camke\\Anaconda3\\lib\\site-packages\\shap\\explainers\\kernel.py:535: UserWarning: l1_reg=\"auto\" is deprecated and in the next version (v0.29) the behavior will change from a conditional use of AIC to simply \"num_features(10)\"!\n",
      "  \"l1_reg=\\\"auto\\\" is deprecated and in the next version (v0.29) the behavior will change from a \" \\\n",
      "100%|████████████████████████████████████████████████████████████████████████████████████| 1/1 [00:02<00:00,  2.30s/it]\n"
     ]
    },
    {
     "name": "stdout",
     "output_type": "stream",
     "text": [
      "Predicted Probability: 91.892%\n",
      "Percentile of Predicted Probability: 99.700%\n",
      "Feature Importance (sorted low to high): {'EDUHIGHCAT': -0.11414749603692032, 'BOOKED': -0.05318787522878543, 'ADDSCEV': -0.05261976598653445, 'IRCRKRC': -0.044546386997092485, 'IRLSDRC': -0.036308276176162224, 'IRCIGRC': -0.02733142496636004, 'IRALCRC': -0.015305342363267, 'CABINGEVR': 0.0, 'CIGAGE': 0.0, 'CIGDLYMO': 0.0, 'FUMJ18': 0.0, 'IRALCAGE': 0.0, 'IRALCFY': 0.0, 'IRINHALREC': 0.0, 'TOBYR': 0.0, 'TXEVRRCVD2': 0.0, 'FUCIG18': 0.011857921385657666, 'IRMETHAMREC': 0.012054589030661478, 'IRSEX': 0.01748560185975484, 'IRMJRC': 0.04152838402046827, 'IRECSTMOREC': 0.04469008742596464, 'TXYRRECVD2': 0.06854486546350547, 'IRCOCRC': 0.06861110761677391, 'IRMJFY': 0.06883180085070656, 'AGE2': 0.07194475213176671, 'IRHALLUCREC': 0.07551071573244, 'ADDPREV': 0.30120027702345137, 'IRHERRC': 0.3176583921451227}\n",
      "\n",
      "CIGAGE 18  | TEST 64\n",
      "\n",
      "{'NAME': 'Test Scripter', 'IRSEX': 1, 'EDUHIGHCAT': 5, 'AGE2': 16, 'IRALCRC': 9, 'IRALCFY': 12, 'CABINGEVR': 1, 'IRALCAGE': 17, 'TXYRRECVD2': 0, 'TXEVRRCVD2': 0, 'IRCIGRC': 2, 'CIGDLYMO': 91, 'CIGAGE': 18, 'TOBYR': 0, 'FUCIG18': 1, 'IRMJRC': 1, 'IRMJFY': 10, 'FUMJ18': 1, 'IRCOCRC': 9, 'IRCRKRC': 1, 'IRHERRC': 9, 'IRHALLUCREC': 9, 'IRLSDRC': 1, 'IRECSTMOREC': 9, 'IRINHALREC': 2, 'IRMETHAMREC': 3, 'ADDPREV': 94, 'ADDSCEV': 1, 'BOOKED': 2}\n"
     ]
    },
    {
     "name": "stderr",
     "output_type": "stream",
     "text": [
      "  0%|                                                                                            | 0/1 [00:00<?, ?it/s]C:\\Users\\camke\\Anaconda3\\lib\\site-packages\\shap\\explainers\\kernel.py:535: UserWarning: l1_reg=\"auto\" is deprecated and in the next version (v0.29) the behavior will change from a conditional use of AIC to simply \"num_features(10)\"!\n",
      "  \"l1_reg=\\\"auto\\\" is deprecated and in the next version (v0.29) the behavior will change from a \" \\\n",
      "C:\\Users\\camke\\Anaconda3\\lib\\site-packages\\shap\\explainers\\kernel.py:535: UserWarning: l1_reg=\"auto\" is deprecated and in the next version (v0.29) the behavior will change from a conditional use of AIC to simply \"num_features(10)\"!\n",
      "  \"l1_reg=\\\"auto\\\" is deprecated and in the next version (v0.29) the behavior will change from a \" \\\n",
      "100%|████████████████████████████████████████████████████████████████████████████████████| 1/1 [00:02<00:00,  2.34s/it]\n"
     ]
    },
    {
     "name": "stdout",
     "output_type": "stream",
     "text": [
      "Predicted Probability: 14.812%\n",
      "Percentile of Predicted Probability: 64.074%\n",
      "Feature Importance (sorted low to high): {'EDUHIGHCAT': -0.08216043745901211, 'IRALCRC': -0.07675835773931648, 'AGE2': -0.07396739569118367, 'ADDSCEV': -0.06947161050745594, 'IRCRKRC': -0.03800271808904468, 'IRLSDRC': -0.037880408608918725, 'IRCIGRC': -0.03167911883898287, 'IRCOCRC': -0.008642361251915323, 'IRALCAGE': -0.007282272082626081, 'IRHALLUCREC': -0.007009014015077534, 'IRECSTMOREC': -0.006339341903503484, 'IRHERRC': -0.0031479106777718875, 'CIGAGE': -7.113030271539353e-05, 'BOOKED': 0.0, 'CIGDLYMO': 0.0, 'TXEVRRCVD2': 0.0, 'TXYRRECVD2': 0.0, 'CABINGEVR': 0.004556074674800797, 'IRMJFY': 0.006844808338419186, 'IRALCFY': 0.00705131834163458, 'TOBYR': 0.009404663715040007, 'FUCIG18': 0.00980215917033304, 'FUMJ18': 0.011031292068678176, 'IRMETHAMREC': 0.011072193092959218, 'IRSEX': 0.012996951473433242, 'IRMJRC': 0.03255864772496941, 'IRINHALREC': 0.10182465217558342, 'ADDPREV': 0.22094564880068895}\n",
      "\n",
      "CIGAGE 19  | TEST 65\n",
      "\n",
      "{'NAME': 'Test Scripter', 'IRSEX': 1, 'EDUHIGHCAT': 4, 'AGE2': 11, 'IRALCRC': 2, 'IRALCFY': 300, 'CABINGEVR': 2, 'IRALCAGE': 14, 'TXYRRECVD2': 0, 'TXEVRRCVD2': 1, 'IRCIGRC': 3, 'CIGDLYMO': 2, 'CIGAGE': 19, 'TOBYR': 1, 'FUCIG18': 2, 'IRMJRC': 9, 'IRMJFY': 2, 'FUMJ18': 2, 'IRCOCRC': 3, 'IRCRKRC': 2, 'IRHERRC': 9, 'IRHALLUCREC': 9, 'IRLSDRC': 2, 'IRECSTMOREC': 1, 'IRINHALREC': 2, 'IRMETHAMREC': 2, 'ADDPREV': 1, 'ADDSCEV': 2, 'BOOKED': 94}\n"
     ]
    },
    {
     "name": "stderr",
     "output_type": "stream",
     "text": [
      "  0%|                                                                                            | 0/1 [00:00<?, ?it/s]C:\\Users\\camke\\Anaconda3\\lib\\site-packages\\shap\\explainers\\kernel.py:535: UserWarning: l1_reg=\"auto\" is deprecated and in the next version (v0.29) the behavior will change from a conditional use of AIC to simply \"num_features(10)\"!\n",
      "  \"l1_reg=\\\"auto\\\" is deprecated and in the next version (v0.29) the behavior will change from a \" \\\n",
      "C:\\Users\\camke\\Anaconda3\\lib\\site-packages\\shap\\explainers\\kernel.py:535: UserWarning: l1_reg=\"auto\" is deprecated and in the next version (v0.29) the behavior will change from a conditional use of AIC to simply \"num_features(10)\"!\n",
      "  \"l1_reg=\\\"auto\\\" is deprecated and in the next version (v0.29) the behavior will change from a \" \\\n",
      "100%|████████████████████████████████████████████████████████████████████████████████████| 1/1 [00:02<00:00,  2.33s/it]\n"
     ]
    },
    {
     "name": "stdout",
     "output_type": "stream",
     "text": [
      "Predicted Probability: 14.812%\n",
      "Percentile of Predicted Probability: 64.074%\n",
      "Feature Importance (sorted low to high): {'BOOKED': -0.06666571612190203, 'IRCIGRC': -0.06429431853449513, 'ADDSCEV': -0.0600463924482756, 'ADDPREV': -0.04511605628613524, 'IRCRKRC': -0.040960277464115395, 'CIGAGE': -0.03371599332680099, 'CABINGEVR': -0.023381155130989314, 'IRMJFY': -0.020887709552791015, 'IRMJRC': -0.019794945336442098, 'TOBYR': -0.013707128327916578, 'FUCIG18': -0.012594800022306908, 'FUMJ18': -0.01071115264601422, 'IRHALLUCREC': -0.006861343657530033, 'IRHERRC': -0.004082486730471387, 'TXYRRECVD2': -0.0012651876450430009, 'IRALCRC': -0.00031263737685537085, 'CIGDLYMO': 0.0, 'TXEVRRCVD2': 0.0, 'EDUHIGHCAT': 0.009150566493670728, 'IRSEX': 0.013242097575916966, 'IRALCAGE': 0.01538464881366544, 'IRLSDRC': 0.01590198715928004, 'IRCOCRC': 0.023327474633969614, 'AGE2': 0.030871441406667158, 'IRALCFY': 0.040741125568015235, 'IRECSTMOREC': 0.04687285665290874, 'IRINHALREC': 0.10628225514735162, 'IRMETHAMREC': 0.10829917956565463}\n",
      "\n",
      "CIGAGE 20  | TEST 66\n",
      "\n",
      "{'NAME': 'Test Scripter', 'IRSEX': 2, 'EDUHIGHCAT': 5, 'AGE2': 7, 'IRALCRC': 3, 'IRALCFY': 50, 'CABINGEVR': 1, 'IRALCAGE': 14, 'TXYRRECVD2': 1, 'TXEVRRCVD2': 1, 'IRCIGRC': 1, 'CIGDLYMO': 91, 'CIGAGE': 20, 'TOBYR': 0, 'FUCIG18': 2, 'IRMJRC': 9, 'IRMJFY': 3, 'FUMJ18': 1, 'IRCOCRC': 9, 'IRCRKRC': 3, 'IRHERRC': 1, 'IRHALLUCREC': 3, 'IRLSDRC': 2, 'IRECSTMOREC': 9, 'IRINHALREC': 2, 'IRMETHAMREC': 9, 'ADDPREV': 1, 'ADDSCEV': 2, 'BOOKED': 2}\n"
     ]
    },
    {
     "name": "stderr",
     "output_type": "stream",
     "text": [
      "  0%|                                                                                            | 0/1 [00:00<?, ?it/s]C:\\Users\\camke\\Anaconda3\\lib\\site-packages\\shap\\explainers\\kernel.py:535: UserWarning: l1_reg=\"auto\" is deprecated and in the next version (v0.29) the behavior will change from a conditional use of AIC to simply \"num_features(10)\"!\n",
      "  \"l1_reg=\\\"auto\\\" is deprecated and in the next version (v0.29) the behavior will change from a \" \\\n",
      "C:\\Users\\camke\\Anaconda3\\lib\\site-packages\\shap\\explainers\\kernel.py:535: UserWarning: l1_reg=\"auto\" is deprecated and in the next version (v0.29) the behavior will change from a conditional use of AIC to simply \"num_features(10)\"!\n",
      "  \"l1_reg=\\\"auto\\\" is deprecated and in the next version (v0.29) the behavior will change from a \" \\\n",
      "100%|████████████████████████████████████████████████████████████████████████████████████| 1/1 [00:02<00:00,  2.37s/it]\n"
     ]
    },
    {
     "name": "stdout",
     "output_type": "stream",
     "text": [
      "Predicted Probability: 64.115%\n",
      "Percentile of Predicted Probability: 96.371%\n",
      "Feature Importance (sorted low to high): {'EDUHIGHCAT': -0.0995398726135116, 'ADDSCEV': -0.06488464638342348, 'ADDPREV': -0.05427518432230499, 'CIGAGE': -0.02465364749533633, 'IRMJRC': -0.02447826967653921, 'FUCIG18': -0.0122540973744584, 'IRALCRC': -0.010098866771185544, 'IRCOCRC': -0.004871573923346778, 'IRECSTMOREC': -0.0031392437093963194, 'BOOKED': 0.0, 'CIGDLYMO': 0.0, 'IRALCFY': 0.0, 'IRMETHAMREC': 0.0, 'IRMJFY': 0.0, 'IRSEX': 0.0, 'TXEVRRCVD2': 0.0, 'IRCRKRC': 0.00627000922139026, 'CABINGEVR': 0.007580537936815512, 'IRALCAGE': 0.009526579975865701, 'TOBYR': 0.012274782079077062, 'FUMJ18': 0.014553826573091733, 'IRCIGRC': 0.017762346770313547, 'IRHALLUCREC': 0.02128461459197384, 'IRLSDRC': 0.03249591699189047, 'AGE2': 0.06358113780007862, 'TXYRRECVD2': 0.08916374403678701, 'IRINHALREC': 0.1318564320439717, 'IRHERRC': 0.37054680761933184}\n",
      "\n",
      "CIGAGE 22  | TEST 67\n",
      "\n",
      "{'NAME': 'Test Scripter', 'IRSEX': 2, 'EDUHIGHCAT': 3, 'AGE2': 3, 'IRALCRC': 2, 'IRALCFY': 100, 'CABINGEVR': 1, 'IRALCAGE': 21, 'TXYRRECVD2': 1, 'TXEVRRCVD2': 1, 'IRCIGRC': 4, 'CIGDLYMO': 2, 'CIGAGE': 22, 'TOBYR': 0, 'FUCIG18': 2, 'IRMJRC': 3, 'IRMJFY': 2, 'FUMJ18': 1, 'IRCOCRC': 9, 'IRCRKRC': 1, 'IRHERRC': 3, 'IRHALLUCREC': 1, 'IRLSDRC': 2, 'IRECSTMOREC': 1, 'IRINHALREC': 9, 'IRMETHAMREC': 2, 'ADDPREV': 2, 'ADDSCEV': 2, 'BOOKED': 94}\n"
     ]
    },
    {
     "name": "stderr",
     "output_type": "stream",
     "text": [
      "  0%|                                                                                            | 0/1 [00:00<?, ?it/s]C:\\Users\\camke\\Anaconda3\\lib\\site-packages\\shap\\explainers\\kernel.py:535: UserWarning: l1_reg=\"auto\" is deprecated and in the next version (v0.29) the behavior will change from a conditional use of AIC to simply \"num_features(10)\"!\n",
      "  \"l1_reg=\\\"auto\\\" is deprecated and in the next version (v0.29) the behavior will change from a \" \\\n",
      "C:\\Users\\camke\\Anaconda3\\lib\\site-packages\\shap\\explainers\\kernel.py:535: UserWarning: l1_reg=\"auto\" is deprecated and in the next version (v0.29) the behavior will change from a conditional use of AIC to simply \"num_features(10)\"!\n",
      "  \"l1_reg=\\\"auto\\\" is deprecated and in the next version (v0.29) the behavior will change from a \" \\\n",
      "100%|████████████████████████████████████████████████████████████████████████████████████| 1/1 [00:02<00:00,  2.32s/it]\n"
     ]
    },
    {
     "name": "stdout",
     "output_type": "stream",
     "text": [
      "Predicted Probability: 35.632%\n",
      "Percentile of Predicted Probability: 89.811%\n",
      "Feature Importance (sorted low to high): {'IRCIGRC': -0.09326806755610259, 'BOOKED': -0.07883298522209096, 'IRALCAGE': -0.07858417503804849, 'ADDSCEV': -0.06557002545014169, 'IRCRKRC': -0.0472267429083261, 'IRMJFY': -0.025300385592658896, 'FUCIG18': -0.013154021522094134, 'IRCOCRC': -0.011850360784944176, 'IRSEX': -0.007429428328547628, 'IRINHALREC': -0.007267592589132853, 'IRMJRC': -0.005466379236071586, 'CIGDLYMO': 0.0, 'TXEVRRCVD2': 0.0, 'IRALCRC': 0.0007465912553119049, 'EDUHIGHCAT': 0.006166555221574339, 'CABINGEVR': 0.007207782300013954, 'TOBYR': 0.009414369857704663, 'IRLSDRC': 0.011098951268325205, 'FUMJ18': 0.014898053616972134, 'ADDPREV': 0.027352901306786623, 'IRALCFY': 0.03175733050442004, 'CIGAGE': 0.04301457438465647, 'IRECSTMOREC': 0.05107894659780084, 'AGE2': 0.0688520722083053, 'IRHALLUCREC': 0.0705006870628514, 'TXYRRECVD2': 0.07608420836749641, 'IRHERRC': 0.07867709274406895, 'IRMETHAMREC': 0.13097489462456374}\n",
      "\n",
      "CIGAGE 25  | TEST 68\n",
      "\n",
      "{'NAME': 'Test Scripter', 'IRSEX': 2, 'EDUHIGHCAT': 5, 'AGE2': 11, 'IRALCRC': 3, 'IRALCFY': 1, 'CABINGEVR': 991, 'IRALCAGE': 14, 'TXYRRECVD2': 0, 'TXEVRRCVD2': 0, 'IRCIGRC': 2, 'CIGDLYMO': 2, 'CIGAGE': 25, 'TOBYR': 0, 'FUCIG18': 2, 'IRMJRC': 2, 'IRMJFY': 100, 'FUMJ18': 2, 'IRCOCRC': 1, 'IRCRKRC': 1, 'IRHERRC': 1, 'IRHALLUCREC': 3, 'IRLSDRC': 1, 'IRECSTMOREC': 2, 'IRINHALREC': 9, 'IRMETHAMREC': 3, 'ADDPREV': 2, 'ADDSCEV': 2, 'BOOKED': 94}\n"
     ]
    },
    {
     "name": "stderr",
     "output_type": "stream",
     "text": [
      "  0%|                                                                                            | 0/1 [00:00<?, ?it/s]C:\\Users\\camke\\Anaconda3\\lib\\site-packages\\shap\\explainers\\kernel.py:535: UserWarning: l1_reg=\"auto\" is deprecated and in the next version (v0.29) the behavior will change from a conditional use of AIC to simply \"num_features(10)\"!\n",
      "  \"l1_reg=\\\"auto\\\" is deprecated and in the next version (v0.29) the behavior will change from a \" \\\n",
      "C:\\Users\\camke\\Anaconda3\\lib\\site-packages\\shap\\explainers\\kernel.py:535: UserWarning: l1_reg=\"auto\" is deprecated and in the next version (v0.29) the behavior will change from a conditional use of AIC to simply \"num_features(10)\"!\n",
      "  \"l1_reg=\\\"auto\\\" is deprecated and in the next version (v0.29) the behavior will change from a \" \\\n",
      "100%|████████████████████████████████████████████████████████████████████████████████████| 1/1 [00:02<00:00,  2.35s/it]\n"
     ]
    },
    {
     "name": "stdout",
     "output_type": "stream",
     "text": [
      "Predicted Probability: 32.719%\n",
      "Percentile of Predicted Probability: 87.931%\n",
      "Feature Importance (sorted low to high): {'EDUHIGHCAT': -0.10868993810991462, 'BOOKED': -0.07792873119520881, 'ADDSCEV': -0.06667134292182517, 'IRCRKRC': -0.05011344547467227, 'IRLSDRC': -0.05001297007981918, 'IRCIGRC': -0.0409128781875922, 'IRALCRC': -0.015830918431213113, 'FUCIG18': -0.013327448209706723, 'IRSEX': -0.012250315927425606, 'FUMJ18': -0.011564561196018341, 'IRINHALREC': -0.009057280436274677, 'IRALCFY': -0.006330429765463844, 'CIGDLYMO': 0.0, 'TXEVRRCVD2': 0.0, 'TXYRRECVD2': 0.0, 'CIGAGE': 0.004673733107134988, 'CABINGEVR': 0.005372887008401335, 'TOBYR': 0.01071211534139066, 'IRMETHAMREC': 0.013240682334390241, 'IRHALLUCREC': 0.014885787437773211, 'IRMJFY': 0.019331760748722823, 'IRALCAGE': 0.019535338500171168, 'ADDPREV': 0.027723113268846147, 'IRMJRC': 0.029617471707535994, 'AGE2': 0.03919450452505094, 'IRECSTMOREC': 0.04422477014168005, 'IRCOCRC': 0.07910500122039053, 'IRHERRC': 0.3198150426980455}\n",
      "\n",
      "CIGAGE 30  | TEST 69\n",
      "\n",
      "{'NAME': 'Test Scripter', 'IRSEX': 2, 'EDUHIGHCAT': 5, 'AGE2': 2, 'IRALCRC': 9, 'IRALCFY': 100, 'CABINGEVR': 2, 'IRALCAGE': 20, 'TXYRRECVD2': 0, 'TXEVRRCVD2': 0, 'IRCIGRC': 1, 'CIGDLYMO': 1, 'CIGAGE': 30, 'TOBYR': 1, 'FUCIG18': 2, 'IRMJRC': 1, 'IRMJFY': 30, 'FUMJ18': 2, 'IRCOCRC': 2, 'IRCRKRC': 2, 'IRHERRC': 2, 'IRHALLUCREC': 9, 'IRLSDRC': 2, 'IRECSTMOREC': 9, 'IRINHALREC': 2, 'IRMETHAMREC': 2, 'ADDPREV': 2, 'ADDSCEV': 2, 'BOOKED': 1}\n"
     ]
    },
    {
     "name": "stderr",
     "output_type": "stream",
     "text": [
      "  0%|                                                                                            | 0/1 [00:00<?, ?it/s]C:\\Users\\camke\\Anaconda3\\lib\\site-packages\\shap\\explainers\\kernel.py:535: UserWarning: l1_reg=\"auto\" is deprecated and in the next version (v0.29) the behavior will change from a conditional use of AIC to simply \"num_features(10)\"!\n",
      "  \"l1_reg=\\\"auto\\\" is deprecated and in the next version (v0.29) the behavior will change from a \" \\\n",
      "C:\\Users\\camke\\Anaconda3\\lib\\site-packages\\shap\\explainers\\kernel.py:535: UserWarning: l1_reg=\"auto\" is deprecated and in the next version (v0.29) the behavior will change from a conditional use of AIC to simply \"num_features(10)\"!\n",
      "  \"l1_reg=\\\"auto\\\" is deprecated and in the next version (v0.29) the behavior will change from a \" \\\n",
      "100%|████████████████████████████████████████████████████████████████████████████████████| 1/1 [00:02<00:00,  2.36s/it]\n"
     ]
    },
    {
     "name": "stdout",
     "output_type": "stream",
     "text": [
      "Predicted Probability: 53.383%\n",
      "Percentile of Predicted Probability: 94.390%\n",
      "Feature Importance (sorted low to high): {'EDUHIGHCAT': -0.10605702048150267, 'IRALCRC': -0.09527564590261553, 'ADDSCEV': -0.06329761196100167, 'CIGAGE': -0.05821909541992282, 'IRCRKRC': -0.05242722181410023, 'IRALCAGE': -0.037059479046351276, 'CABINGEVR': -0.030315900281968094, 'FUCIG18': -0.01675208738311587, 'TOBYR': -0.016248340644767156, 'IRECSTMOREC': -0.013541784121640199, 'BOOKED': -0.013300312094173539, 'IRSEX': -0.013032115863446075, 'FUMJ18': -0.009352893273951834, 'IRHALLUCREC': -0.005257709469224409, 'CIGDLYMO': 0.0, 'TXEVRRCVD2': 0.0, 'TXYRRECVD2': 0.0, 'IRMJFY': 0.003802846323954945, 'IRCIGRC': 0.017099217479715073, 'IRLSDRC': 0.019489372733343946, 'ADDPREV': 0.03049054851441249, 'IRALCFY': 0.03871369085334994, 'IRMJRC': 0.042544527537801274, 'AGE2': 0.08297386612348545, 'IRCOCRC': 0.10098164751110053, 'IRMETHAMREC': 0.14416066113643522, 'IRINHALREC': 0.14661401623253065, 'IRHERRC': 0.2746544177900504}\n",
      "\n",
      "CIGAGE 40  | TEST 70\n",
      "\n",
      "{'NAME': 'Test Scripter', 'IRSEX': 2, 'EDUHIGHCAT': 1, 'AGE2': 13, 'IRALCRC': 9, 'IRALCFY': 300, 'CABINGEVR': 2, 'IRALCAGE': 21, 'TXYRRECVD2': 1, 'TXEVRRCVD2': 1, 'IRCIGRC': 3, 'CIGDLYMO': 2, 'CIGAGE': 40, 'TOBYR': 1, 'FUCIG18': 1, 'IRMJRC': 2, 'IRMJFY': 100, 'FUMJ18': 2, 'IRCOCRC': 2, 'IRCRKRC': 9, 'IRHERRC': 9, 'IRHALLUCREC': 3, 'IRLSDRC': 3, 'IRECSTMOREC': 2, 'IRINHALREC': 3, 'IRMETHAMREC': 1, 'ADDPREV': 2, 'ADDSCEV': 1, 'BOOKED': 2}\n"
     ]
    },
    {
     "name": "stderr",
     "output_type": "stream",
     "text": [
      "  0%|                                                                                            | 0/1 [00:00<?, ?it/s]C:\\Users\\camke\\Anaconda3\\lib\\site-packages\\shap\\explainers\\kernel.py:535: UserWarning: l1_reg=\"auto\" is deprecated and in the next version (v0.29) the behavior will change from a conditional use of AIC to simply \"num_features(10)\"!\n",
      "  \"l1_reg=\\\"auto\\\" is deprecated and in the next version (v0.29) the behavior will change from a \" \\\n",
      "C:\\Users\\camke\\Anaconda3\\lib\\site-packages\\shap\\explainers\\kernel.py:535: UserWarning: l1_reg=\"auto\" is deprecated and in the next version (v0.29) the behavior will change from a conditional use of AIC to simply \"num_features(10)\"!\n",
      "  \"l1_reg=\\\"auto\\\" is deprecated and in the next version (v0.29) the behavior will change from a \" \\\n",
      "100%|████████████████████████████████████████████████████████████████████████████████████| 1/1 [00:02<00:00,  2.32s/it]\n"
     ]
    },
    {
     "name": "stdout",
     "output_type": "stream",
     "text": [
      "Predicted Probability: 28.058%\n",
      "Percentile of Predicted Probability: 86.119%\n",
      "Feature Importance (sorted low to high): {'IRALCRC': -0.09806324093862753, 'ADDSCEV': -0.09076895996110762, 'IRALCAGE': -0.08471979434600953, 'IRCIGRC': -0.07727501674036127, 'CIGAGE': -0.04382218314051091, 'CABINGEVR': -0.027088295246668066, 'TOBYR': -0.017059255541502123, 'FUMJ18': -0.011197427036406648, 'IRSEX': -0.010955775550949393, 'IRHERRC': -0.004658436202364089, 'IRLSDRC': -0.0043343559901961246, 'BOOKED': 0.0, 'CIGDLYMO': 0.0, 'TXEVRRCVD2': 0.0, 'IRCRKRC': 0.0025772003582105896, 'FUCIG18': 0.012715767574108097, 'IRHALLUCREC': 0.014448602093944801, 'IRMJFY': 0.017387509075305018, 'AGE2': 0.018898158578012112, 'ADDPREV': 0.027182495894183617, 'IRMJRC': 0.029130107950510114, 'IRECSTMOREC': 0.041661944406323245, 'IRALCFY': 0.04838807674016173, 'IRINHALREC': 0.048953959049283256, 'EDUHIGHCAT': 0.06425917713378047, 'TXYRRECVD2': 0.07907753698473956, 'IRCOCRC': 0.08954517787331995, 'IRMETHAMREC': 0.09384557456339908}\n",
      "\n",
      "CIGAGE 50  | TEST 71\n",
      "\n",
      "{'NAME': 'Test Scripter', 'IRSEX': 2, 'EDUHIGHCAT': 4, 'AGE2': 8, 'IRALCRC': 3, 'IRALCFY': 991, 'CABINGEVR': 2, 'IRALCAGE': 17, 'TXYRRECVD2': 1, 'TXEVRRCVD2': 1, 'IRCIGRC': 4, 'CIGDLYMO': 91, 'CIGAGE': 50, 'TOBYR': 0, 'FUCIG18': 1, 'IRMJRC': 9, 'IRMJFY': 30, 'FUMJ18': 2, 'IRCOCRC': 1, 'IRCRKRC': 9, 'IRHERRC': 2, 'IRHALLUCREC': 2, 'IRLSDRC': 2, 'IRECSTMOREC': 9, 'IRINHALREC': 3, 'IRMETHAMREC': 2, 'ADDPREV': 94, 'ADDSCEV': 1, 'BOOKED': 97}\n"
     ]
    },
    {
     "name": "stderr",
     "output_type": "stream",
     "text": [
      "  0%|                                                                                            | 0/1 [00:00<?, ?it/s]C:\\Users\\camke\\Anaconda3\\lib\\site-packages\\shap\\explainers\\kernel.py:535: UserWarning: l1_reg=\"auto\" is deprecated and in the next version (v0.29) the behavior will change from a conditional use of AIC to simply \"num_features(10)\"!\n",
      "  \"l1_reg=\\\"auto\\\" is deprecated and in the next version (v0.29) the behavior will change from a \" \\\n",
      "C:\\Users\\camke\\Anaconda3\\lib\\site-packages\\shap\\explainers\\kernel.py:535: UserWarning: l1_reg=\"auto\" is deprecated and in the next version (v0.29) the behavior will change from a conditional use of AIC to simply \"num_features(10)\"!\n",
      "  \"l1_reg=\\\"auto\\\" is deprecated and in the next version (v0.29) the behavior will change from a \" \\\n",
      "100%|████████████████████████████████████████████████████████████████████████████████████| 1/1 [00:02<00:00,  2.34s/it]\n"
     ]
    },
    {
     "name": "stdout",
     "output_type": "stream",
     "text": [
      "Predicted Probability: 83.333%\n",
      "Percentile of Predicted Probability: 99.257%\n",
      "Feature Importance (sorted low to high): {'ADDSCEV': -0.07945599673505989, 'IRCIGRC': -0.0781328837587022, 'CIGAGE': -0.0722987419292738, 'BOOKED': -0.05255285626177403, 'CABINGEVR': -0.02500627554499707, 'IRALCRC': -0.020999288218755408, 'IRALCAGE': -0.01410676732110272, 'IRMJRC': -0.010160560040306521, 'IRSEX': -0.008924658586611678, 'IRECSTMOREC': -0.008266179637999915, 'CIGDLYMO': 0.0, 'FUCIG18': 0.0, 'FUMJ18': 0.0, 'IRALCFY': 0.0, 'IRCRKRC': 0.0, 'IRMJFY': 0.0, 'TXEVRRCVD2': 0.0, 'EDUHIGHCAT': 0.002932718325895617, 'TOBYR': 0.01178501064830792, 'IRLSDRC': 0.02854913090985889, 'IRHALLUCREC': 0.0328547654552889, 'AGE2': 0.048716575191195766, 'IRINHALREC': 0.057848057011477105, 'IRCOCRC': 0.06809437468099472, 'TXYRRECVD2': 0.07153334300923819, 'IRMETHAMREC': 0.12721967941896162, 'IRHERRC': 0.28163829630425724, 'ADDPREV': 0.3096185984246735}\n",
      "\n",
      "CIGAGE 99  | TEST 72\n",
      "\n",
      "{'NAME': 'Test Scripter', 'IRSEX': 2, 'EDUHIGHCAT': 1, 'AGE2': 7, 'IRALCRC': 9, 'IRALCFY': 993, 'CABINGEVR': 991, 'IRALCAGE': 21, 'TXYRRECVD2': 0, 'TXEVRRCVD2': 1, 'IRCIGRC': 1, 'CIGDLYMO': 1, 'CIGAGE': 99, 'TOBYR': 0, 'FUCIG18': 2, 'IRMJRC': 1, 'IRMJFY': 1, 'FUMJ18': 2, 'IRCOCRC': 9, 'IRCRKRC': 9, 'IRHERRC': 1, 'IRHALLUCREC': 9, 'IRLSDRC': 3, 'IRECSTMOREC': 3, 'IRINHALREC': 2, 'IRMETHAMREC': 9, 'ADDPREV': 94, 'ADDSCEV': 94, 'BOOKED': 94}\n"
     ]
    },
    {
     "name": "stderr",
     "output_type": "stream",
     "text": [
      "  0%|                                                                                            | 0/1 [00:00<?, ?it/s]C:\\Users\\camke\\Anaconda3\\lib\\site-packages\\shap\\explainers\\kernel.py:535: UserWarning: l1_reg=\"auto\" is deprecated and in the next version (v0.29) the behavior will change from a conditional use of AIC to simply \"num_features(10)\"!\n",
      "  \"l1_reg=\\\"auto\\\" is deprecated and in the next version (v0.29) the behavior will change from a \" \\\n",
      "C:\\Users\\camke\\Anaconda3\\lib\\site-packages\\shap\\explainers\\kernel.py:535: UserWarning: l1_reg=\"auto\" is deprecated and in the next version (v0.29) the behavior will change from a conditional use of AIC to simply \"num_features(10)\"!\n",
      "  \"l1_reg=\\\"auto\\\" is deprecated and in the next version (v0.29) the behavior will change from a \" \\\n",
      "100%|████████████████████████████████████████████████████████████████████████████████████| 1/1 [00:02<00:00,  2.33s/it]\n"
     ]
    },
    {
     "name": "stdout",
     "output_type": "stream",
     "text": [
      "Predicted Probability: 81.739%\n",
      "Percentile of Predicted Probability: 98.619%\n",
      "Feature Importance (sorted low to high): {'ADDSCEV': -0.3335627872949795, 'IRALCRC': -0.0759382337814819, 'IRALCAGE': -0.0639388063954042, 'BOOKED': -0.04871858764348019, 'FUCIG18': -0.01829671781469927, 'FUMJ18': -0.016996715727146117, 'IRCOCRC': -0.01694447817704936, 'IRSEX': -0.013142380738612458, 'IRHALLUCREC': -0.005243160771539135, 'CABINGEVR': 0.0, 'CIGDLYMO': 0.0, 'IRALCFY': 0.0, 'IRCRKRC': 0.0, 'IRMETHAMREC': 0.0, 'IRMJFY': 0.0, 'TXEVRRCVD2': 0.0, 'TXYRRECVD2': 0.0, 'IRLSDRC': 0.01578748121673179, 'TOBYR': 0.016645133621996155, 'IRECSTMOREC': 0.019838222589619675, 'IRCIGRC': 0.02062348970266603, 'IRMJRC': 0.05017609618329988, 'EDUHIGHCAT': 0.05978427699846062, 'AGE2': 0.06452970507184186, 'IRINHALREC': 0.11488771059153896, 'CIGAGE': 0.24542579001080317, 'ADDPREV': 0.29478996944688785, 'IRHERRC': 0.3452383052706053}\n",
      "\n",
      "TOBYR 0  | TEST 73\n",
      "\n",
      "{'NAME': 'Test Scripter', 'IRSEX': 1, 'EDUHIGHCAT': 4, 'AGE2': 5, 'IRALCRC': 9, 'IRALCFY': 991, 'CABINGEVR': 991, 'IRALCAGE': 17, 'TXYRRECVD2': 0, 'TXEVRRCVD2': 1, 'IRCIGRC': 2, 'CIGDLYMO': 91, 'CIGAGE': 25, 'TOBYR': 0, 'FUCIG18': 2, 'IRMJRC': 3, 'IRMJFY': 200, 'FUMJ18': 2, 'IRCOCRC': 3, 'IRCRKRC': 2, 'IRHERRC': 9, 'IRHALLUCREC': 2, 'IRLSDRC': 2, 'IRECSTMOREC': 9, 'IRINHALREC': 3, 'IRMETHAMREC': 1, 'ADDPREV': 2, 'ADDSCEV': 94, 'BOOKED': 1}\n"
     ]
    },
    {
     "name": "stderr",
     "output_type": "stream",
     "text": [
      "  0%|                                                                                            | 0/1 [00:00<?, ?it/s]C:\\Users\\camke\\Anaconda3\\lib\\site-packages\\shap\\explainers\\kernel.py:535: UserWarning: l1_reg=\"auto\" is deprecated and in the next version (v0.29) the behavior will change from a conditional use of AIC to simply \"num_features(10)\"!\n",
      "  \"l1_reg=\\\"auto\\\" is deprecated and in the next version (v0.29) the behavior will change from a \" \\\n",
      "C:\\Users\\camke\\Anaconda3\\lib\\site-packages\\shap\\explainers\\kernel.py:535: UserWarning: l1_reg=\"auto\" is deprecated and in the next version (v0.29) the behavior will change from a conditional use of AIC to simply \"num_features(10)\"!\n",
      "  \"l1_reg=\\\"auto\\\" is deprecated and in the next version (v0.29) the behavior will change from a \" \\\n",
      "100%|████████████████████████████████████████████████████████████████████████████████████| 1/1 [00:02<00:00,  2.33s/it]\n"
     ]
    },
    {
     "name": "stdout",
     "output_type": "stream",
     "text": [
      "Predicted Probability: 2.771%\n",
      "Percentile of Predicted Probability: 6.116%\n",
      "Feature Importance (sorted low to high): {'ADDSCEV': -0.20959826142159113, 'IRALCRC': -0.04534443200991037, 'IRCRKRC': -0.024380302054797298, 'IRCIGRC': -0.019862510024618495, 'FUCIG18': -0.007621575895922328, 'BOOKED': -0.006557199123366164, 'IRALCAGE': -0.006312226615707288, 'FUMJ18': -0.006238716188189511, 'IRALCFY': -0.0046862592414457435, 'IRHERRC': -0.003589582820015161, 'IRMJRC': -0.002777415768980898, 'IRECSTMOREC': -0.002671599125410949, 'CABINGEVR': 0.0, 'CIGDLYMO': 0.0, 'TXEVRRCVD2': 0.0, 'TXYRRECVD2': 0.0, 'CIGAGE': 0.0033246778660257353, 'EDUHIGHCAT': 0.004650564444753341, 'TOBYR': 0.006736178344683069, 'IRMJFY': 0.00770837650304973, 'IRSEX': 0.008661912602506205, 'IRLSDRC': 0.01095721891714338, 'IRCOCRC': 0.015302350858656014, 'ADDPREV': 0.016124254291754833, 'IRHALLUCREC': 0.019315651510037522, 'IRINHALREC': 0.026723482764167916, 'AGE2': 0.032967851378729894, 'IRMETHAMREC': 0.05242837738491261}\n",
      "\n",
      "TOBYR 1  | TEST 74\n",
      "\n",
      "{'NAME': 'Test Scripter', 'IRSEX': 2, 'EDUHIGHCAT': 2, 'AGE2': 15, 'IRALCRC': 3, 'IRALCFY': 993, 'CABINGEVR': 1, 'IRALCAGE': 17, 'TXYRRECVD2': 0, 'TXEVRRCVD2': 1, 'IRCIGRC': 3, 'CIGDLYMO': 91, 'CIGAGE': 18, 'TOBYR': 1, 'FUCIG18': 1, 'IRMJRC': 1, 'IRMJFY': 1, 'FUMJ18': 2, 'IRCOCRC': 3, 'IRCRKRC': 1, 'IRHERRC': 9, 'IRHALLUCREC': 2, 'IRLSDRC': 2, 'IRECSTMOREC': 9, 'IRINHALREC': 1, 'IRMETHAMREC': 3, 'ADDPREV': 94, 'ADDSCEV': 94, 'BOOKED': 2}\n"
     ]
    },
    {
     "name": "stderr",
     "output_type": "stream",
     "text": [
      "  0%|                                                                                            | 0/1 [00:00<?, ?it/s]C:\\Users\\camke\\Anaconda3\\lib\\site-packages\\shap\\explainers\\kernel.py:535: UserWarning: l1_reg=\"auto\" is deprecated and in the next version (v0.29) the behavior will change from a conditional use of AIC to simply \"num_features(10)\"!\n",
      "  \"l1_reg=\\\"auto\\\" is deprecated and in the next version (v0.29) the behavior will change from a \" \\\n",
      "C:\\Users\\camke\\Anaconda3\\lib\\site-packages\\shap\\explainers\\kernel.py:535: UserWarning: l1_reg=\"auto\" is deprecated and in the next version (v0.29) the behavior will change from a conditional use of AIC to simply \"num_features(10)\"!\n",
      "  \"l1_reg=\\\"auto\\\" is deprecated and in the next version (v0.29) the behavior will change from a \" \\\n",
      "100%|████████████████████████████████████████████████████████████████████████████████████| 1/1 [00:02<00:00,  2.36s/it]\n"
     ]
    },
    {
     "name": "stdout",
     "output_type": "stream",
     "text": [
      "Predicted Probability: 8.021%\n",
      "Percentile of Predicted Probability: 43.828%\n",
      "Feature Importance (sorted low to high): {'ADDSCEV': -0.2995724047706032, 'IRCIGRC': -0.05170330718666195, 'IRCRKRC': -0.03389732795423367, 'AGE2': -0.02538087769086192, 'IRALCRC': -0.011027078286528092, 'TOBYR': -0.010156950031473294, 'IRALCAGE': -0.009704207546907193, 'FUMJ18': -0.007488424140223368, 'IRALCFY': -0.006011532838169676, 'IRECSTMOREC': -0.005656719015682696, 'IRSEX': -0.005556604190199314, 'IRMJFY': -0.003400402791399172, 'IRHERRC': -0.001889155001737735, 'CIGAGE': -0.000441015178743058, 'BOOKED': 0.0, 'CIGDLYMO': 0.0, 'TXEVRRCVD2': 0.0, 'TXYRRECVD2': 0.0, 'CABINGEVR': 0.0036734809677528985, 'FUCIG18': 0.007753473343094987, 'EDUHIGHCAT': 0.008686128512636681, 'IRMETHAMREC': 0.008927598213577817, 'IRLSDRC': 0.014993007759805346, 'IRCOCRC': 0.019458361035580955, 'IRHALLUCREC': 0.02587406460806012, 'IRMJRC': 0.028209433809978732, 'IRINHALREC': 0.07130875555242386, 'ADDPREV': 0.20076861457606146}\n",
      "\n",
      "FUCIG18 2  | TEST 75\n",
      "\n",
      "{'NAME': 'Test Scripter', 'IRSEX': 1, 'EDUHIGHCAT': 2, 'AGE2': 5, 'IRALCRC': 3, 'IRALCFY': 300, 'CABINGEVR': 1, 'IRALCAGE': 14, 'TXYRRECVD2': 0, 'TXEVRRCVD2': 0, 'IRCIGRC': 4, 'CIGDLYMO': 91, 'CIGAGE': 19, 'TOBYR': 0, 'FUCIG18': 2, 'IRMJRC': 3, 'IRMJFY': 365, 'FUMJ18': 1, 'IRCOCRC': 9, 'IRCRKRC': 1, 'IRHERRC': 3, 'IRHALLUCREC': 3, 'IRLSDRC': 1, 'IRECSTMOREC': 2, 'IRINHALREC': 1, 'IRMETHAMREC': 9, 'ADDPREV': 1, 'ADDSCEV': 1, 'BOOKED': 2}\n"
     ]
    },
    {
     "name": "stderr",
     "output_type": "stream",
     "text": [
      "  0%|                                                                                            | 0/1 [00:00<?, ?it/s]C:\\Users\\camke\\Anaconda3\\lib\\site-packages\\shap\\explainers\\kernel.py:535: UserWarning: l1_reg=\"auto\" is deprecated and in the next version (v0.29) the behavior will change from a conditional use of AIC to simply \"num_features(10)\"!\n",
      "  \"l1_reg=\\\"auto\\\" is deprecated and in the next version (v0.29) the behavior will change from a \" \\\n",
      "C:\\Users\\camke\\Anaconda3\\lib\\site-packages\\shap\\explainers\\kernel.py:535: UserWarning: l1_reg=\"auto\" is deprecated and in the next version (v0.29) the behavior will change from a conditional use of AIC to simply \"num_features(10)\"!\n",
      "  \"l1_reg=\\\"auto\\\" is deprecated and in the next version (v0.29) the behavior will change from a \" \\\n",
      "100%|████████████████████████████████████████████████████████████████████████████████████| 1/1 [00:02<00:00,  2.33s/it]\n"
     ]
    },
    {
     "name": "stdout",
     "output_type": "stream",
     "text": [
      "Predicted Probability: 23.109%\n",
      "Percentile of Predicted Probability: 77.680%\n",
      "Feature Importance (sorted low to high): {'IRCIGRC': -0.08420121969163928, 'ADDSCEV': -0.07745796818938276, 'IRCRKRC': -0.047216358941589216, 'ADDPREV': -0.046265306888412024, 'IRLSDRC': -0.04224597516233994, 'CIGAGE': -0.03515110890986123, 'IRALCRC': -0.012916145788639408, 'FUCIG18': -0.012050721955916763, 'IRCOCRC': -0.007920883122257028, 'IRMJRC': -0.0074194515645979245, 'IRMETHAMREC': -0.0033696601254679243, 'CIGDLYMO': 0.0, 'TXEVRRCVD2': 0.0, 'TXYRRECVD2': 0.0, 'BOOKED': 0.00457536628476345, 'CABINGEVR': 0.005075747740276089, 'TOBYR': 0.009097971598213392, 'FUMJ18': 0.010854756770605774, 'IRALCAGE': 0.014133023004732015, 'IRSEX': 0.014538125249739714, 'EDUHIGHCAT': 0.01577163243643928, 'IRHALLUCREC': 0.01660157328830815, 'IRECSTMOREC': 0.03966959158142652, 'IRALCFY': 0.045674406124140254, 'IRHERRC': 0.055861682794469514, 'AGE2': 0.05587503730361246, 'IRMJFY': 0.06476159678021778, 'IRINHALREC': 0.09236395489195329}\n",
      "\n",
      "FUCIG18 1  | TEST 76\n",
      "\n",
      "{'NAME': 'Test Scripter', 'IRSEX': 1, 'EDUHIGHCAT': 5, 'AGE2': 2, 'IRALCRC': 9, 'IRALCFY': 50, 'CABINGEVR': 991, 'IRALCAGE': 20, 'TXYRRECVD2': 1, 'TXEVRRCVD2': 0, 'IRCIGRC': 2, 'CIGDLYMO': 2, 'CIGAGE': 19, 'TOBYR': 1, 'FUCIG18': 1, 'IRMJRC': 1, 'IRMJFY': 1, 'FUMJ18': 2, 'IRCOCRC': 9, 'IRCRKRC': 3, 'IRHERRC': 2, 'IRHALLUCREC': 2, 'IRLSDRC': 1, 'IRECSTMOREC': 9, 'IRINHALREC': 1, 'IRMETHAMREC': 2, 'ADDPREV': 2, 'ADDSCEV': 2, 'BOOKED': 2}\n"
     ]
    },
    {
     "name": "stderr",
     "output_type": "stream",
     "text": [
      "  0%|                                                                                            | 0/1 [00:00<?, ?it/s]C:\\Users\\camke\\Anaconda3\\lib\\site-packages\\shap\\explainers\\kernel.py:535: UserWarning: l1_reg=\"auto\" is deprecated and in the next version (v0.29) the behavior will change from a conditional use of AIC to simply \"num_features(10)\"!\n",
      "  \"l1_reg=\\\"auto\\\" is deprecated and in the next version (v0.29) the behavior will change from a \" \\\n",
      "C:\\Users\\camke\\Anaconda3\\lib\\site-packages\\shap\\explainers\\kernel.py:535: UserWarning: l1_reg=\"auto\" is deprecated and in the next version (v0.29) the behavior will change from a conditional use of AIC to simply \"num_features(10)\"!\n",
      "  \"l1_reg=\\\"auto\\\" is deprecated and in the next version (v0.29) the behavior will change from a \" \\\n",
      "100%|████████████████████████████████████████████████████████████████████████████████████| 1/1 [00:02<00:00,  2.30s/it]\n"
     ]
    },
    {
     "name": "stdout",
     "output_type": "stream",
     "text": [
      "Predicted Probability: 53.383%\n",
      "Percentile of Predicted Probability: 94.390%\n",
      "Feature Importance (sorted low to high): {'EDUHIGHCAT': -0.10403439356570812, 'IRALCRC': -0.09346114776334818, 'ADDSCEV': -0.07509655168815638, 'IRLSDRC': -0.05483548744571559, 'CIGAGE': -0.04013197724019821, 'IRCIGRC': -0.039776504416381614, 'IRALCAGE': -0.03569466199296559, 'TOBYR': -0.022615736787523655, 'FUMJ18': -0.014744419954980187, 'IRECSTMOREC': -0.011306956934634571, 'IRCOCRC': -0.010360947689270567, 'BOOKED': 0.0, 'CIGDLYMO': 0.0, 'IRMJFY': 0.0, 'TXEVRRCVD2': 0.0, 'IRCRKRC': 0.004054647506066877, 'IRALCFY': 0.004108678812261762, 'CABINGEVR': 0.005555532063853119, 'FUCIG18': 0.014479325143461091, 'IRSEX': 0.021330376055071903, 'ADDPREV': 0.03184331874379043, 'IRMJRC': 0.041358003232149027, 'IRHALLUCREC': 0.043806403255241155, 'AGE2': 0.08015753409785814, 'TXYRRECVD2': 0.0895537283351624, 'IRINHALREC': 0.11612299098724119, 'IRMETHAMREC': 0.1451475136555842, 'IRHERRC': 0.2759283280695398}\n",
      "\n",
      "IRMJRC 9  | TEST 77\n",
      "\n",
      "{'NAME': 'Test Scripter', 'IRSEX': 2, 'EDUHIGHCAT': 5, 'AGE2': 13, 'IRALCRC': 2, 'IRALCFY': 300, 'CABINGEVR': 2, 'IRALCAGE': 100, 'TXYRRECVD2': 1, 'TXEVRRCVD2': 0, 'IRCIGRC': 4, 'CIGDLYMO': 1, 'CIGAGE': 99, 'TOBYR': 1, 'FUCIG18': 1, 'IRMJRC': 9, 'IRMJFY': 300, 'FUMJ18': 1, 'IRCOCRC': 1, 'IRCRKRC': 3, 'IRHERRC': 9, 'IRHALLUCREC': 2, 'IRLSDRC': 2, 'IRECSTMOREC': 3, 'IRINHALREC': 3, 'IRMETHAMREC': 2, 'ADDPREV': 1, 'ADDSCEV': 94, 'BOOKED': 94}\n"
     ]
    },
    {
     "name": "stderr",
     "output_type": "stream",
     "text": [
      "  0%|                                                                                            | 0/1 [00:00<?, ?it/s]C:\\Users\\camke\\Anaconda3\\lib\\site-packages\\shap\\explainers\\kernel.py:535: UserWarning: l1_reg=\"auto\" is deprecated and in the next version (v0.29) the behavior will change from a conditional use of AIC to simply \"num_features(10)\"!\n",
      "  \"l1_reg=\\\"auto\\\" is deprecated and in the next version (v0.29) the behavior will change from a \" \\\n",
      "C:\\Users\\camke\\Anaconda3\\lib\\site-packages\\shap\\explainers\\kernel.py:535: UserWarning: l1_reg=\"auto\" is deprecated and in the next version (v0.29) the behavior will change from a conditional use of AIC to simply \"num_features(10)\"!\n",
      "  \"l1_reg=\\\"auto\\\" is deprecated and in the next version (v0.29) the behavior will change from a \" \\\n",
      "100%|████████████████████████████████████████████████████████████████████████████████████| 1/1 [00:02<00:00,  2.32s/it]\n"
     ]
    },
    {
     "name": "stdout",
     "output_type": "stream",
     "text": [
      "Predicted Probability: 14.812%\n",
      "Percentile of Predicted Probability: 64.074%\n",
      "Feature Importance (sorted low to high): {'ADDSCEV': -0.32208382243309985, 'EDUHIGHCAT': -0.083025879397523, 'IRCIGRC': -0.06412330671520793, 'BOOKED': -0.05145621097710726, 'ADDPREV': -0.04056463862881475, 'IRALCAGE': -0.03701799157661717, 'CABINGEVR': -0.021338060759971245, 'IRMJRC': -0.017500289990915747, 'TOBYR': -0.011445216131965717, 'IRSEX': -0.008253907231582126, 'IRHERRC': -0.00044504868089002836, 'CIGDLYMO': 0.0, 'TXEVRRCVD2': 0.0, 'IRALCRC': 0.000257184511824958, 'IRCRKRC': 0.002014639970447457, 'FUCIG18': 0.007070708436018126, 'FUMJ18': 0.009130183906507994, 'AGE2': 0.014215699317890736, 'IRECSTMOREC': 0.017175636261061514, 'IRLSDRC': 0.022360423414784343, 'IRHALLUCREC': 0.027850313655667598, 'IRINHALREC': 0.040004151743510755, 'IRALCFY': 0.04411687532791379, 'IRMJFY': 0.044784582324321004, 'TXYRRECVD2': 0.060294106537117004, 'IRCOCRC': 0.062037498432479805, 'IRMETHAMREC': 0.09619310839822204, 'CIGAGE': 0.1954255926949433}\n",
      "\n",
      "IRMJRC 1  | TEST 78\n",
      "\n",
      "{'NAME': 'Test Scripter', 'IRSEX': 1, 'EDUHIGHCAT': 5, 'AGE2': 1, 'IRALCRC': 1, 'IRALCFY': 991, 'CABINGEVR': 991, 'IRALCAGE': 14, 'TXYRRECVD2': 0, 'TXEVRRCVD2': 1, 'IRCIGRC': 9, 'CIGDLYMO': 2, 'CIGAGE': 999, 'TOBYR': 0, 'FUCIG18': 2, 'IRMJRC': 1, 'IRMJFY': 200, 'FUMJ18': 2, 'IRCOCRC': 2, 'IRCRKRC': 1, 'IRHERRC': 2, 'IRHALLUCREC': 1, 'IRLSDRC': 2, 'IRECSTMOREC': 1, 'IRINHALREC': 9, 'IRMETHAMREC': 1, 'ADDPREV': 2, 'ADDSCEV': 94, 'BOOKED': 97}\n"
     ]
    },
    {
     "name": "stderr",
     "output_type": "stream",
     "text": [
      "  0%|                                                                                            | 0/1 [00:00<?, ?it/s]C:\\Users\\camke\\Anaconda3\\lib\\site-packages\\shap\\explainers\\kernel.py:535: UserWarning: l1_reg=\"auto\" is deprecated and in the next version (v0.29) the behavior will change from a conditional use of AIC to simply \"num_features(10)\"!\n",
      "  \"l1_reg=\\\"auto\\\" is deprecated and in the next version (v0.29) the behavior will change from a \" \\\n",
      "C:\\Users\\camke\\Anaconda3\\lib\\site-packages\\shap\\explainers\\kernel.py:535: UserWarning: l1_reg=\"auto\" is deprecated and in the next version (v0.29) the behavior will change from a conditional use of AIC to simply \"num_features(10)\"!\n",
      "  \"l1_reg=\\\"auto\\\" is deprecated and in the next version (v0.29) the behavior will change from a \" \\\n",
      "100%|████████████████████████████████████████████████████████████████████████████████████| 1/1 [00:02<00:00,  2.76s/it]\n"
     ]
    },
    {
     "name": "stdout",
     "output_type": "stream",
     "text": [
      "Predicted Probability: 46.352%\n",
      "Percentile of Predicted Probability: 91.923%\n",
      "Feature Importance (sorted low to high): {'ADDSCEV': -0.3675439376765053, 'EDUHIGHCAT': -0.10259227881025405, 'BOOKED': -0.0843275355907866, 'IRCRKRC': -0.05025558609266073, 'FUCIG18': -0.016029386475980123, 'IRINHALREC': -0.0052165367783145455, 'CIGDLYMO': 0.0, 'FUMJ18': 0.0, 'IRALCFY': 0.0, 'TXEVRRCVD2': 0.0, 'TXYRRECVD2': 0.0, 'CABINGEVR': 0.0037155032541796307, 'TOBYR': 0.01242841205996037, 'IRALCRC': 0.01437599251779581, 'IRMJFY': 0.017267722348112025, 'IRALCAGE': 0.018831670554551455, 'IRSEX': 0.020843055338301025, 'ADDPREV': 0.02557677520811452, 'IRLSDRC': 0.026766691790232916, 'IRMJRC': 0.03887352300569577, 'IRCIGRC': 0.039584626523830685, 'IRECSTMOREC': 0.05347474062239453, 'CIGAGE': 0.06498556483224671, 'IRHALLUCREC': 0.07361227706814852, 'AGE2': 0.07710247929226127, 'IRCOCRC': 0.09264333925127305, 'IRMETHAMREC': 0.10240268806525132, 'IRHERRC': 0.24455252100910577}\n",
      "\n",
      "IRMJRC 2  | TEST 79\n",
      "\n",
      "{'NAME': 'Test Scripter', 'IRSEX': 1, 'EDUHIGHCAT': 4, 'AGE2': 8, 'IRALCRC': 3, 'IRALCFY': 300, 'CABINGEVR': 2, 'IRALCAGE': 100, 'TXYRRECVD2': 1, 'TXEVRRCVD2': 1, 'IRCIGRC': 3, 'CIGDLYMO': 2, 'CIGAGE': 20, 'TOBYR': 0, 'FUCIG18': 2, 'IRMJRC': 2, 'IRMJFY': 365, 'FUMJ18': 1, 'IRCOCRC': 2, 'IRCRKRC': 3, 'IRHERRC': 9, 'IRHALLUCREC': 1, 'IRLSDRC': 3, 'IRECSTMOREC': 2, 'IRINHALREC': 3, 'IRMETHAMREC': 1, 'ADDPREV': 2, 'ADDSCEV': 2, 'BOOKED': 2}\n"
     ]
    },
    {
     "name": "stderr",
     "output_type": "stream",
     "text": [
      "  0%|                                                                                            | 0/1 [00:00<?, ?it/s]C:\\Users\\camke\\Anaconda3\\lib\\site-packages\\shap\\explainers\\kernel.py:535: UserWarning: l1_reg=\"auto\" is deprecated and in the next version (v0.29) the behavior will change from a conditional use of AIC to simply \"num_features(10)\"!\n",
      "  \"l1_reg=\\\"auto\\\" is deprecated and in the next version (v0.29) the behavior will change from a \" \\\n",
      "C:\\Users\\camke\\Anaconda3\\lib\\site-packages\\shap\\explainers\\kernel.py:535: UserWarning: l1_reg=\"auto\" is deprecated and in the next version (v0.29) the behavior will change from a conditional use of AIC to simply \"num_features(10)\"!\n",
      "  \"l1_reg=\\\"auto\\\" is deprecated and in the next version (v0.29) the behavior will change from a \" \\\n",
      "100%|████████████████████████████████████████████████████████████████████████████████████| 1/1 [00:02<00:00,  2.61s/it]\n"
     ]
    },
    {
     "name": "stdout",
     "output_type": "stream",
     "text": [
      "Predicted Probability: 81.739%\n",
      "Percentile of Predicted Probability: 98.619%\n",
      "Feature Importance (sorted low to high): {'IRCIGRC': -0.07121312987646, 'ADDSCEV': -0.06301962591106233, 'IRALCAGE': -0.03754261369120404, 'CABINGEVR': -0.028909164253671737, 'CIGAGE': -0.022955679133594115, 'IRALCRC': -0.01634207979208241, 'FUCIG18': -0.015077071561493183, 'BOOKED': 0.0, 'CIGDLYMO': 0.0, 'IRHERRC': 0.0, 'TXEVRRCVD2': 0.0, 'IRLSDRC': 0.005086840034101425, 'IRCRKRC': 0.010590677344171906, 'TOBYR': 0.013568747801623315, 'FUMJ18': 0.015586764598747083, 'EDUHIGHCAT': 0.019112082856869328, 'IRSEX': 0.021352069208494695, 'ADDPREV': 0.03187229067502789, 'IRECSTMOREC': 0.05498234529999255, 'IRMJRC': 0.05506591657809795, 'IRALCFY': 0.060281306961323056, 'IRINHALREC': 0.06655223484289918, 'AGE2': 0.0683584900709363, 'IRMJFY': 0.08767828771201536, 'IRHALLUCREC': 0.0920453863913182, 'TXYRRECVD2': 0.09348885773225568, 'IRCOCRC': 0.10619532698130335, 'IRMETHAMREC': 0.10818605149044969}\n",
      "\n",
      "IRMJRC 3  | TEST 80\n",
      "\n",
      "{'NAME': 'Test Scripter', 'IRSEX': 1, 'EDUHIGHCAT': 5, 'AGE2': 14, 'IRALCRC': 2, 'IRALCFY': 300, 'CABINGEVR': 1, 'IRALCAGE': 14, 'TXYRRECVD2': 0, 'TXEVRRCVD2': 1, 'IRCIGRC': 9, 'CIGDLYMO': 1, 'CIGAGE': 15, 'TOBYR': 1, 'FUCIG18': 2, 'IRMJRC': 3, 'IRMJFY': 100, 'FUMJ18': 1, 'IRCOCRC': 9, 'IRCRKRC': 9, 'IRHERRC': 1, 'IRHALLUCREC': 9, 'IRLSDRC': 3, 'IRECSTMOREC': 3, 'IRINHALREC': 2, 'IRMETHAMREC': 9, 'ADDPREV': 1, 'ADDSCEV': 2, 'BOOKED': 94}\n"
     ]
    },
    {
     "name": "stderr",
     "output_type": "stream",
     "text": [
      "  0%|                                                                                            | 0/1 [00:00<?, ?it/s]C:\\Users\\camke\\Anaconda3\\lib\\site-packages\\shap\\explainers\\kernel.py:535: UserWarning: l1_reg=\"auto\" is deprecated and in the next version (v0.29) the behavior will change from a conditional use of AIC to simply \"num_features(10)\"!\n",
      "  \"l1_reg=\\\"auto\\\" is deprecated and in the next version (v0.29) the behavior will change from a \" \\\n",
      "C:\\Users\\camke\\Anaconda3\\lib\\site-packages\\shap\\explainers\\kernel.py:535: UserWarning: l1_reg=\"auto\" is deprecated and in the next version (v0.29) the behavior will change from a conditional use of AIC to simply \"num_features(10)\"!\n",
      "  \"l1_reg=\\\"auto\\\" is deprecated and in the next version (v0.29) the behavior will change from a \" \\\n",
      "100%|████████████████████████████████████████████████████████████████████████████████████| 1/1 [00:02<00:00,  2.60s/it]\n"
     ]
    },
    {
     "name": "stdout",
     "output_type": "stream",
     "text": [
      "Predicted Probability: 47.761%\n",
      "Percentile of Predicted Probability: 93.285%\n",
      "Feature Importance (sorted low to high): {'EDUHIGHCAT': -0.10250085436966344, 'BOOKED': -0.07892262544508574, 'ADDSCEV': -0.07092365763798131, 'ADDPREV': -0.05458542913394171, 'CIGAGE': -0.02469860411587113, 'TOBYR': -0.01795462056187047, 'FUCIG18': -0.01416471374227049, 'IRCOCRC': -0.011409150226670953, 'IRHALLUCREC': -0.006397434977429978, 'IRMJRC': -0.001364117697441325, 'CIGDLYMO': 0.0, 'IRCRKRC': 0.0, 'TXEVRRCVD2': 0.0, 'TXYRRECVD2': 0.0, 'IRALCRC': 0.00012292854872100745, 'IRMETHAMREC': 0.0001776303472096341, 'IRLSDRC': 0.0014861049675205795, 'CABINGEVR': 0.00667816582043998, 'AGE2': 0.007068050287031724, 'FUMJ18': 0.013704703036810123, 'IRSEX': 0.01710150545202241, 'IRMJFY': 0.017567394356919896, 'IRALCAGE': 0.018094001710570573, 'IRECSTMOREC': 0.027414368048987475, 'IRCIGRC': 0.040151870960390856, 'IRALCFY': 0.056545362690510095, 'IRINHALREC': 0.14205755931657488, 'IRHERRC': 0.34991651067525786}\n",
      "\n",
      "IRMJFY 991  | TEST 81\n",
      "\n",
      "{'NAME': 'Test Scripter', 'IRSEX': 1, 'EDUHIGHCAT': 3, 'AGE2': 5, 'IRALCRC': 3, 'IRALCFY': 50, 'CABINGEVR': 2, 'IRALCAGE': 100, 'TXYRRECVD2': 0, 'TXEVRRCVD2': 0, 'IRCIGRC': 2, 'CIGDLYMO': 2, 'CIGAGE': 17, 'TOBYR': 1, 'FUCIG18': 1, 'IRMJRC': 1, 'IRMJFY': 991, 'FUMJ18': 1, 'IRCOCRC': 9, 'IRCRKRC': 9, 'IRHERRC': 3, 'IRHALLUCREC': 9, 'IRLSDRC': 3, 'IRECSTMOREC': 2, 'IRINHALREC': 1, 'IRMETHAMREC': 1, 'ADDPREV': 94, 'ADDSCEV': 1, 'BOOKED': 1}\n"
     ]
    },
    {
     "name": "stderr",
     "output_type": "stream",
     "text": [
      "  0%|                                                                                            | 0/1 [00:00<?, ?it/s]C:\\Users\\camke\\Anaconda3\\lib\\site-packages\\shap\\explainers\\kernel.py:535: UserWarning: l1_reg=\"auto\" is deprecated and in the next version (v0.29) the behavior will change from a conditional use of AIC to simply \"num_features(10)\"!\n",
      "  \"l1_reg=\\\"auto\\\" is deprecated and in the next version (v0.29) the behavior will change from a \" \\\n",
      "C:\\Users\\camke\\Anaconda3\\lib\\site-packages\\shap\\explainers\\kernel.py:535: UserWarning: l1_reg=\"auto\" is deprecated and in the next version (v0.29) the behavior will change from a conditional use of AIC to simply \"num_features(10)\"!\n",
      "  \"l1_reg=\\\"auto\\\" is deprecated and in the next version (v0.29) the behavior will change from a \" \\\n",
      "100%|████████████████████████████████████████████████████████████████████████████████████| 1/1 [00:02<00:00,  2.37s/it]\n"
     ]
    },
    {
     "name": "stdout",
     "output_type": "stream",
     "text": [
      "Predicted Probability: 81.739%\n",
      "Percentile of Predicted Probability: 98.619%\n",
      "Feature Importance (sorted low to high): {'ADDSCEV': -0.07044645399194482, 'IRALCAGE': -0.041199629553015676, 'CABINGEVR': -0.023350965330242612, 'CIGAGE': -0.020819537367709362, 'IRCRKRC': -0.02004066102009172, 'TOBYR': -0.017854027502497427, 'IRCOCRC': -0.016956414406400958, 'EDUHIGHCAT': -0.013699228673419384, 'IRMJFY': -0.012941125276863974, 'IRCIGRC': -0.012836002608333785, 'IRHALLUCREC': -0.006159385199373757, 'BOOKED': 0.0, 'CIGDLYMO': 0.0, 'TXEVRRCVD2': 0.0, 'TXYRRECVD2': 0.0, 'IRALCRC': 0.004616269778763948, 'IRLSDRC': 0.005395238678838787, 'IRALCFY': 0.00800763905462995, 'FUCIG18': 0.012640419775772849, 'FUMJ18': 0.013130607665388094, 'IRSEX': 0.014789087293803016, 'IRECSTMOREC': 0.037726546857404314, 'IRMJRC': 0.05924272048943466, 'AGE2': 0.06852446657407718, 'IRMETHAMREC': 0.09801801100776353, 'IRINHALREC': 0.10740913096072824, 'IRHERRC': 0.14850093196831418, 'ADDPREV': 0.33324667318503376}\n",
      "\n",
      "IRMJFY 993  | TEST 82\n",
      "\n",
      "{'NAME': 'Test Scripter', 'IRSEX': 2, 'EDUHIGHCAT': 2, 'AGE2': 13, 'IRALCRC': 9, 'IRALCFY': 1, 'CABINGEVR': 991, 'IRALCAGE': 100, 'TXYRRECVD2': 1, 'TXEVRRCVD2': 1, 'IRCIGRC': 2, 'CIGDLYMO': 2, 'CIGAGE': 20, 'TOBYR': 0, 'FUCIG18': 2, 'IRMJRC': 1, 'IRMJFY': 993, 'FUMJ18': 1, 'IRCOCRC': 1, 'IRCRKRC': 2, 'IRHERRC': 3, 'IRHALLUCREC': 9, 'IRLSDRC': 3, 'IRECSTMOREC': 1, 'IRINHALREC': 2, 'IRMETHAMREC': 9, 'ADDPREV': 2, 'ADDSCEV': 1, 'BOOKED': 94}\n"
     ]
    },
    {
     "name": "stderr",
     "output_type": "stream",
     "text": [
      "  0%|                                                                                            | 0/1 [00:00<?, ?it/s]C:\\Users\\camke\\Anaconda3\\lib\\site-packages\\shap\\explainers\\kernel.py:535: UserWarning: l1_reg=\"auto\" is deprecated and in the next version (v0.29) the behavior will change from a conditional use of AIC to simply \"num_features(10)\"!\n",
      "  \"l1_reg=\\\"auto\\\" is deprecated and in the next version (v0.29) the behavior will change from a \" \\\n",
      "C:\\Users\\camke\\Anaconda3\\lib\\site-packages\\shap\\explainers\\kernel.py:535: UserWarning: l1_reg=\"auto\" is deprecated and in the next version (v0.29) the behavior will change from a conditional use of AIC to simply \"num_features(10)\"!\n",
      "  \"l1_reg=\\\"auto\\\" is deprecated and in the next version (v0.29) the behavior will change from a \" \\\n",
      "100%|████████████████████████████████████████████████████████████████████████████████████| 1/1 [00:02<00:00,  2.33s/it]\n"
     ]
    },
    {
     "name": "stdout",
     "output_type": "stream",
     "text": [
      "Predicted Probability: 27.047%\n",
      "Percentile of Predicted Probability: 82.184%\n",
      "Feature Importance (sorted low to high): {'IRALCRC': -0.08437470140512005, 'ADDSCEV': -0.07794566883235199, 'BOOKED': -0.06508273780780632, 'IRCRKRC': -0.03668457350007473, 'IRALCAGE': -0.033369360923375786, 'IRCIGRC': -0.030248242717458282, 'CIGAGE': -0.02273014027392286, 'FUCIG18': -0.011640979021561066, 'IRSEX': -0.009116057714155842, 'IRHALLUCREC': -0.00707364008040442, 'IRMETHAMREC': -0.0027615406409838353, 'CIGDLYMO': 0.0, 'IRALCFY': 0.0, 'IRMJFY': 0.0, 'TXEVRRCVD2': 0.0, 'IRLSDRC': 0.00306457737970469, 'CABINGEVR': 0.005311545116164315, 'FUMJ18': 0.008328951175185, 'EDUHIGHCAT': 0.01055244406380119, 'TOBYR': 0.011279469745691523, 'AGE2': 0.019762316909357376, 'ADDPREV': 0.02665387780412279, 'IRMJRC': 0.036272340705199246, 'IRECSTMOREC': 0.0496666525075602, 'IRHERRC': 0.0590737196861644, 'TXYRRECVD2': 0.07240924351200301, 'IRCOCRC': 0.0724162301487846, 'IRINHALREC': 0.11426074619556109}\n",
      "\n",
      "IRMJFY 1  | TEST 83\n",
      "\n",
      "{'NAME': 'Test Scripter', 'IRSEX': 1, 'EDUHIGHCAT': 3, 'AGE2': 9, 'IRALCRC': 2, 'IRALCFY': 993, 'CABINGEVR': 2, 'IRALCAGE': 17, 'TXYRRECVD2': 0, 'TXEVRRCVD2': 1, 'IRCIGRC': 2, 'CIGDLYMO': 1, 'CIGAGE': 30, 'TOBYR': 0, 'FUCIG18': 1, 'IRMJRC': 1, 'IRMJFY': 1, 'FUMJ18': 2, 'IRCOCRC': 1, 'IRCRKRC': 3, 'IRHERRC': 2, 'IRHALLUCREC': 9, 'IRLSDRC': 2, 'IRECSTMOREC': 3, 'IRINHALREC': 2, 'IRMETHAMREC': 3, 'ADDPREV': 2, 'ADDSCEV': 94, 'BOOKED': 94}\n"
     ]
    },
    {
     "name": "stderr",
     "output_type": "stream",
     "text": [
      "  0%|                                                                                            | 0/1 [00:00<?, ?it/s]C:\\Users\\camke\\Anaconda3\\lib\\site-packages\\shap\\explainers\\kernel.py:535: UserWarning: l1_reg=\"auto\" is deprecated and in the next version (v0.29) the behavior will change from a conditional use of AIC to simply \"num_features(10)\"!\n",
      "  \"l1_reg=\\\"auto\\\" is deprecated and in the next version (v0.29) the behavior will change from a \" \\\n",
      "C:\\Users\\camke\\Anaconda3\\lib\\site-packages\\shap\\explainers\\kernel.py:535: UserWarning: l1_reg=\"auto\" is deprecated and in the next version (v0.29) the behavior will change from a conditional use of AIC to simply \"num_features(10)\"!\n",
      "  \"l1_reg=\\\"auto\\\" is deprecated and in the next version (v0.29) the behavior will change from a \" \\\n",
      "100%|████████████████████████████████████████████████████████████████████████████████████| 1/1 [00:02<00:00,  2.33s/it]\n"
     ]
    },
    {
     "name": "stdout",
     "output_type": "stream",
     "text": [
      "Predicted Probability: 14.894%\n",
      "Percentile of Predicted Probability: 70.021%\n",
      "Feature Importance (sorted low to high): {'ADDSCEV': -0.3441643198933967, 'BOOKED': -0.06024992522698091, 'CIGAGE': -0.04459691116826205, 'IRCIGRC': -0.03419733332704791, 'CABINGEVR': -0.02351713056393482, 'IRALCAGE': -0.012456543968067649, 'IRALCFY': -0.008839293604690312, 'FUMJ18': -0.008583603733238104, 'IRALCRC': -0.004687295927977536, 'IRHALLUCREC': -0.0030853055185535473, 'IRCRKRC': -0.0026303952022032617, 'CIGDLYMO': 0.0, 'TXEVRRCVD2': 0.0, 'TXYRRECVD2': 0.0, 'IRMJFY': 0.0027242355499027286, 'FUCIG18': 0.007932938726284068, 'IRMETHAMREC': 0.008265053283699766, 'EDUHIGHCAT': 0.008746616476713213, 'TOBYR': 0.01071696238675018, 'IRSEX': 0.011803461181550883, 'IRECSTMOREC': 0.013494432711728076, 'IRLSDRC': 0.02003647431347269, 'ADDPREV': 0.02223462811452045, 'IRMJRC': 0.03334678583498472, 'AGE2': 0.03735707727666403, 'IRCOCRC': 0.06423341833685196, 'IRINHALREC': 0.10098912435373852, 'IRHERRC': 0.19161602781249054}\n",
      "\n",
      "IRMJFY 2  | TEST 84\n",
      "\n",
      "{'NAME': 'Test Scripter', 'IRSEX': 1, 'EDUHIGHCAT': 5, 'AGE2': 17, 'IRALCRC': 2, 'IRALCFY': 991, 'CABINGEVR': 991, 'IRALCAGE': 17, 'TXYRRECVD2': 1, 'TXEVRRCVD2': 1, 'IRCIGRC': 3, 'CIGDLYMO': 1, 'CIGAGE': 991, 'TOBYR': 1, 'FUCIG18': 1, 'IRMJRC': 1, 'IRMJFY': 2, 'FUMJ18': 1, 'IRCOCRC': 2, 'IRCRKRC': 1, 'IRHERRC': 2, 'IRHALLUCREC': 2, 'IRLSDRC': 1, 'IRECSTMOREC': 2, 'IRINHALREC': 1, 'IRMETHAMREC': 2, 'ADDPREV': 2, 'ADDSCEV': 1, 'BOOKED': 94}\n"
     ]
    },
    {
     "name": "stderr",
     "output_type": "stream",
     "text": [
      "  0%|                                                                                            | 0/1 [00:00<?, ?it/s]C:\\Users\\camke\\Anaconda3\\lib\\site-packages\\shap\\explainers\\kernel.py:535: UserWarning: l1_reg=\"auto\" is deprecated and in the next version (v0.29) the behavior will change from a conditional use of AIC to simply \"num_features(10)\"!\n",
      "  \"l1_reg=\\\"auto\\\" is deprecated and in the next version (v0.29) the behavior will change from a \" \\\n",
      "C:\\Users\\camke\\Anaconda3\\lib\\site-packages\\shap\\explainers\\kernel.py:535: UserWarning: l1_reg=\"auto\" is deprecated and in the next version (v0.29) the behavior will change from a conditional use of AIC to simply \"num_features(10)\"!\n",
      "  \"l1_reg=\\\"auto\\\" is deprecated and in the next version (v0.29) the behavior will change from a \" \\\n",
      "100%|████████████████████████████████████████████████████████████████████████████████████| 1/1 [00:02<00:00,  2.37s/it]\n"
     ]
    },
    {
     "name": "stdout",
     "output_type": "stream",
     "text": [
      "Predicted Probability: 32.719%\n",
      "Percentile of Predicted Probability: 87.931%\n",
      "Feature Importance (sorted low to high): {'AGE2': -0.13101501472643942, 'EDUHIGHCAT': -0.1044157040154553, 'ADDSCEV': -0.08297877118176555, 'BOOKED': -0.07572327030206452, 'IRCIGRC': -0.07008920547744871, 'IRCRKRC': -0.048218682138670615, 'IRLSDRC': -0.041366811852071604, 'CIGAGE': -0.022787818987155234, 'IRMJFY': -0.02208773723528936, 'TOBYR': -0.014511975242581389, 'IRALCAGE': -0.012078175505750868, 'IRALCFY': -0.006919990476536492, 'IRALCRC': -0.0026484784085053052, 'CABINGEVR': 0.0, 'CIGDLYMO': 0.0, 'TXEVRRCVD2': 0.0, 'FUCIG18': 0.00868401385009078, 'FUMJ18': 0.013561557789794607, 'IRSEX': 0.015321772453191218, 'ADDPREV': 0.025356761951856738, 'IRHALLUCREC': 0.03223098333685256, 'IRECSTMOREC': 0.036904271607476835, 'IRMJRC': 0.039554323140010506, 'TXYRRECVD2': 0.07727387571712258, 'IRCOCRC': 0.08407318313279383, 'IRINHALREC': 0.10348762408141446, 'IRMETHAMREC': 0.1263018394481468, 'IRHERRC': 0.23683337714538244}\n",
      "\n",
      "IRMJFY 3  | TEST 85\n",
      "\n",
      "{'NAME': 'Test Scripter', 'IRSEX': 1, 'EDUHIGHCAT': 5, 'AGE2': 4, 'IRALCRC': 9, 'IRALCFY': 50, 'CABINGEVR': 2, 'IRALCAGE': 17, 'TXYRRECVD2': 0, 'TXEVRRCVD2': 0, 'IRCIGRC': 4, 'CIGDLYMO': 2, 'CIGAGE': 10, 'TOBYR': 0, 'FUCIG18': 1, 'IRMJRC': 1, 'IRMJFY': 3, 'FUMJ18': 1, 'IRCOCRC': 9, 'IRCRKRC': 9, 'IRHERRC': 1, 'IRHALLUCREC': 2, 'IRLSDRC': 2, 'IRECSTMOREC': 1, 'IRINHALREC': 9, 'IRMETHAMREC': 2, 'ADDPREV': 94, 'ADDSCEV': 2, 'BOOKED': 2}\n"
     ]
    },
    {
     "name": "stderr",
     "output_type": "stream",
     "text": [
      "  0%|                                                                                            | 0/1 [00:00<?, ?it/s]C:\\Users\\camke\\Anaconda3\\lib\\site-packages\\shap\\explainers\\kernel.py:535: UserWarning: l1_reg=\"auto\" is deprecated and in the next version (v0.29) the behavior will change from a conditional use of AIC to simply \"num_features(10)\"!\n",
      "  \"l1_reg=\\\"auto\\\" is deprecated and in the next version (v0.29) the behavior will change from a \" \\\n",
      "C:\\Users\\camke\\Anaconda3\\lib\\site-packages\\shap\\explainers\\kernel.py:535: UserWarning: l1_reg=\"auto\" is deprecated and in the next version (v0.29) the behavior will change from a conditional use of AIC to simply \"num_features(10)\"!\n",
      "  \"l1_reg=\\\"auto\\\" is deprecated and in the next version (v0.29) the behavior will change from a \" \\\n",
      "100%|████████████████████████████████████████████████████████████████████████████████████| 1/1 [00:02<00:00,  2.33s/it]\n"
     ]
    },
    {
     "name": "stdout",
     "output_type": "stream",
     "text": [
      "Predicted Probability: 83.333%\n",
      "Percentile of Predicted Probability: 99.257%\n",
      "Feature Importance (sorted low to high): {'EDUHIGHCAT': -0.09330036146322468, 'IRALCRC': -0.09041034521534969, 'IRCIGRC': -0.0748000385126475, 'ADDSCEV': -0.07021839582053702, 'CABINGEVR': -0.02484529676699726, 'IRALCAGE': -0.023364620985599854, 'CIGAGE': -0.019097010994162944, 'IRCOCRC': -0.012587254213357851, 'BOOKED': 0.0, 'CIGDLYMO': 0.0, 'IRCRKRC': 0.0, 'IRINHALREC': 0.0, 'TXEVRRCVD2': 0.0, 'TXYRRECVD2': 0.0, 'IRMJFY': 0.002295035414243418, 'FUCIG18': 0.010145693367283604, 'TOBYR': 0.011092483922065188, 'FUMJ18': 0.014140107952696934, 'IRSEX': 0.015424482624433633, 'IRALCFY': 0.016216429884561234, 'IRLSDRC': 0.021934453310388125, 'IRMJRC': 0.03997467826950912, 'IRHALLUCREC': 0.04136306710898857, 'IRECSTMOREC': 0.06128625158885587, 'AGE2': 0.06311473848464227, 'IRMETHAMREC': 0.12054580953962885, 'ADDPREV': 0.3142630173349927, 'IRHERRC': 0.34771341651515353}\n",
      "\n",
      "IRMJFY 7  | TEST 86\n",
      "\n",
      "{'NAME': 'Test Scripter', 'IRSEX': 2, 'EDUHIGHCAT': 2, 'AGE2': 13, 'IRALCRC': 1, 'IRALCFY': 50, 'CABINGEVR': 2, 'IRALCAGE': 14, 'TXYRRECVD2': 1, 'TXEVRRCVD2': 0, 'IRCIGRC': 1, 'CIGDLYMO': 91, 'CIGAGE': 18, 'TOBYR': 1, 'FUCIG18': 1, 'IRMJRC': 9, 'IRMJFY': 7, 'FUMJ18': 1, 'IRCOCRC': 3, 'IRCRKRC': 9, 'IRHERRC': 9, 'IRHALLUCREC': 3, 'IRLSDRC': 2, 'IRECSTMOREC': 3, 'IRINHALREC': 9, 'IRMETHAMREC': 2, 'ADDPREV': 2, 'ADDSCEV': 1, 'BOOKED': 97}\n"
     ]
    },
    {
     "name": "stderr",
     "output_type": "stream",
     "text": [
      "  0%|                                                                                            | 0/1 [00:00<?, ?it/s]C:\\Users\\camke\\Anaconda3\\lib\\site-packages\\shap\\explainers\\kernel.py:535: UserWarning: l1_reg=\"auto\" is deprecated and in the next version (v0.29) the behavior will change from a conditional use of AIC to simply \"num_features(10)\"!\n",
      "  \"l1_reg=\\\"auto\\\" is deprecated and in the next version (v0.29) the behavior will change from a \" \\\n",
      "C:\\Users\\camke\\Anaconda3\\lib\\site-packages\\shap\\explainers\\kernel.py:535: UserWarning: l1_reg=\"auto\" is deprecated and in the next version (v0.29) the behavior will change from a conditional use of AIC to simply \"num_features(10)\"!\n",
      "  \"l1_reg=\\\"auto\\\" is deprecated and in the next version (v0.29) the behavior will change from a \" \\\n",
      "100%|████████████████████████████████████████████████████████████████████████████████████| 1/1 [00:02<00:00,  2.37s/it]\n"
     ]
    },
    {
     "name": "stdout",
     "output_type": "stream",
     "text": [
      "Predicted Probability: 35.632%\n",
      "Percentile of Predicted Probability: 89.811%\n",
      "Feature Importance (sorted low to high): {'ADDSCEV': -0.091801812093846, 'BOOKED': -0.08107383524582545, 'CABINGEVR': -0.02604989851018609, 'IRMJRC': -0.023408050825277547, 'TOBYR': -0.015659432975941624, 'IRMJFY': -0.012961935294723663, 'IRSEX': -0.011137540216571963, 'IRINHALREC': -0.0081242142576716, 'IRHERRC': -0.004747341851906339, 'CIGDLYMO': 0.0, 'TXEVRRCVD2': 0.0, 'IRCRKRC': 0.0013460992182661446, 'IRALCFY': 0.0014355903443679166, 'CIGAGE': 0.0030223655783152142, 'FUCIG18': 0.013249700653563429, 'EDUHIGHCAT': 0.013940447207772474, 'IRALCRC': 0.015568781235401216, 'FUMJ18': 0.015675403672185048, 'IRCIGRC': 0.015780592969230862, 'IRHALLUCREC': 0.01579788638186249, 'IRLSDRC': 0.01963595888954145, 'IRALCAGE': 0.019675401599208532, 'AGE2': 0.022038251496961467, 'IRECSTMOREC': 0.02778582499707619, 'IRCOCRC': 0.0300415469998197, 'ADDPREV': 0.031124376115534202, 'TXYRRECVD2': 0.08382717269975802, 'IRMETHAMREC': 0.13889350830577873}\n",
      "\n",
      "IRMJFY 10  | TEST 87\n",
      "\n",
      "{'NAME': 'Test Scripter', 'IRSEX': 2, 'EDUHIGHCAT': 1, 'AGE2': 13, 'IRALCRC': 1, 'IRALCFY': 1, 'CABINGEVR': 2, 'IRALCAGE': 21, 'TXYRRECVD2': 0, 'TXEVRRCVD2': 0, 'IRCIGRC': 9, 'CIGDLYMO': 91, 'CIGAGE': 30, 'TOBYR': 1, 'FUCIG18': 1, 'IRMJRC': 2, 'IRMJFY': 10, 'FUMJ18': 2, 'IRCOCRC': 2, 'IRCRKRC': 2, 'IRHERRC': 3, 'IRHALLUCREC': 3, 'IRLSDRC': 9, 'IRECSTMOREC': 1, 'IRINHALREC': 9, 'IRMETHAMREC': 2, 'ADDPREV': 2, 'ADDSCEV': 1, 'BOOKED': 97}\n"
     ]
    },
    {
     "name": "stderr",
     "output_type": "stream",
     "text": [
      "  0%|                                                                                            | 0/1 [00:00<?, ?it/s]C:\\Users\\camke\\Anaconda3\\lib\\site-packages\\shap\\explainers\\kernel.py:535: UserWarning: l1_reg=\"auto\" is deprecated and in the next version (v0.29) the behavior will change from a conditional use of AIC to simply \"num_features(10)\"!\n",
      "  \"l1_reg=\\\"auto\\\" is deprecated and in the next version (v0.29) the behavior will change from a \" \\\n",
      "C:\\Users\\camke\\Anaconda3\\lib\\site-packages\\shap\\explainers\\kernel.py:535: UserWarning: l1_reg=\"auto\" is deprecated and in the next version (v0.29) the behavior will change from a conditional use of AIC to simply \"num_features(10)\"!\n",
      "  \"l1_reg=\\\"auto\\\" is deprecated and in the next version (v0.29) the behavior will change from a \" \\\n",
      "100%|████████████████████████████████████████████████████████████████████████████████████| 1/1 [00:02<00:00,  2.33s/it]\n"
     ]
    },
    {
     "name": "stdout",
     "output_type": "stream",
     "text": [
      "Predicted Probability: 28.058%\n",
      "Percentile of Predicted Probability: 86.119%\n",
      "Feature Importance (sorted low to high): {'ADDSCEV': -0.08726352449887635, 'IRALCAGE': -0.08144879239248418, 'BOOKED': -0.07488656314483352, 'CIGAGE': -0.054540404307151395, 'IRCRKRC': -0.04747208775485467, 'CABINGEVR': -0.025870310098216942, 'TOBYR': -0.013021535830131714, 'FUMJ18': -0.009707700119616837, 'IRSEX': -0.009605987205647433, 'IRINHALREC': -0.008686688758002922, 'IRALCFY': -0.004156950856554362, 'IRLSDRC': -0.0019357681581980563, 'IRMJFY': -0.00010131893211545034, 'CIGDLYMO': 0.0, 'TXEVRRCVD2': 0.0, 'TXYRRECVD2': 0.0, 'FUCIG18': 0.011921573062388141, 'IRHALLUCREC': 0.01335801911657751, 'AGE2': 0.016757504858434594, 'IRALCRC': 0.016911011507819082, 'ADDPREV': 0.02531696704145736, 'IRMJRC': 0.027472340837921258, 'IRCIGRC': 0.03694633137043708, 'IRECSTMOREC': 0.055643997691116553, 'EDUHIGHCAT': 0.0578602065540629, 'IRHERRC': 0.0661302387993003, 'IRCOCRC': 0.08563167472666433, 'IRMETHAMREC': 0.12287631407108311}\n",
      "\n",
      "IRMJFY 20  | TEST 88\n",
      "\n",
      "{'NAME': 'Test Scripter', 'IRSEX': 2, 'EDUHIGHCAT': 3, 'AGE2': 5, 'IRALCRC': 3, 'IRALCFY': 300, 'CABINGEVR': 991, 'IRALCAGE': 21, 'TXYRRECVD2': 1, 'TXEVRRCVD2': 0, 'IRCIGRC': 9, 'CIGDLYMO': 91, 'CIGAGE': 20, 'TOBYR': 0, 'FUCIG18': 2, 'IRMJRC': 2, 'IRMJFY': 20, 'FUMJ18': 1, 'IRCOCRC': 2, 'IRCRKRC': 3, 'IRHERRC': 9, 'IRHALLUCREC': 9, 'IRLSDRC': 1, 'IRECSTMOREC': 2, 'IRINHALREC': 3, 'IRMETHAMREC': 9, 'ADDPREV': 2, 'ADDSCEV': 2, 'BOOKED': 97}\n"
     ]
    },
    {
     "name": "stderr",
     "output_type": "stream",
     "text": [
      "  0%|                                                                                            | 0/1 [00:00<?, ?it/s]C:\\Users\\camke\\Anaconda3\\lib\\site-packages\\shap\\explainers\\kernel.py:535: UserWarning: l1_reg=\"auto\" is deprecated and in the next version (v0.29) the behavior will change from a conditional use of AIC to simply \"num_features(10)\"!\n",
      "  \"l1_reg=\\\"auto\\\" is deprecated and in the next version (v0.29) the behavior will change from a \" \\\n",
      "C:\\Users\\camke\\Anaconda3\\lib\\site-packages\\shap\\explainers\\kernel.py:535: UserWarning: l1_reg=\"auto\" is deprecated and in the next version (v0.29) the behavior will change from a conditional use of AIC to simply \"num_features(10)\"!\n",
      "  \"l1_reg=\\\"auto\\\" is deprecated and in the next version (v0.29) the behavior will change from a \" \\\n",
      "100%|████████████████████████████████████████████████████████████████████████████████████| 1/1 [00:02<00:00,  2.34s/it]\n"
     ]
    },
    {
     "name": "stdout",
     "output_type": "stream",
     "text": [
      "Predicted Probability: 32.719%\n",
      "Percentile of Predicted Probability: 87.931%\n",
      "Feature Importance (sorted low to high): {'IRALCAGE': -0.08749967030827405, 'BOOKED': -0.08162160677191001, 'ADDSCEV': -0.07064175570850892, 'IRLSDRC': -0.050765018350123745, 'CIGAGE': -0.025366405797921744, 'IRALCRC': -0.014814753510660871, 'FUCIG18': -0.014166957322519758, 'IRSEX': -0.010869592446850845, 'IRHALLUCREC': -0.007780713886843954, 'IRHERRC': -0.005623896124812254, 'IRMETHAMREC': -0.003199740116089457, 'IRCRKRC': -0.002014054891028502, 'CIGDLYMO': 0.0, 'TXEVRRCVD2': 0.0, 'EDUHIGHCAT': 0.0014381226806172258, 'CABINGEVR': 0.006014243581907608, 'IRMJFY': 0.013079452407679798, 'TOBYR': 0.013915439739280458, 'FUMJ18': 0.01419426251921703, 'IRMJRC': 0.03069064380124641, 'ADDPREV': 0.03114887996791396, 'IRCIGRC': 0.04291447824146047, 'IRECSTMOREC': 0.0435664447716984, 'IRINHALREC': 0.04869914406601461, 'IRALCFY': 0.05117998740219133, 'AGE2': 0.06455384406354121, 'TXYRRECVD2': 0.08303208541758256, 'IRCOCRC': 0.09467908467959202}\n",
      "\n",
      "IRMJFY 30  | TEST 89\n",
      "\n",
      "{'NAME': 'Test Scripter', 'IRSEX': 2, 'EDUHIGHCAT': 4, 'AGE2': 12, 'IRALCRC': 9, 'IRALCFY': 991, 'CABINGEVR': 2, 'IRALCAGE': 20, 'TXYRRECVD2': 1, 'TXEVRRCVD2': 0, 'IRCIGRC': 2, 'CIGDLYMO': 91, 'CIGAGE': 994, 'TOBYR': 0, 'FUCIG18': 1, 'IRMJRC': 3, 'IRMJFY': 30, 'FUMJ18': 2, 'IRCOCRC': 3, 'IRCRKRC': 2, 'IRHERRC': 1, 'IRHALLUCREC': 1, 'IRLSDRC': 9, 'IRECSTMOREC': 9, 'IRINHALREC': 2, 'IRMETHAMREC': 1, 'ADDPREV': 94, 'ADDSCEV': 94, 'BOOKED': 1}\n"
     ]
    },
    {
     "name": "stderr",
     "output_type": "stream",
     "text": [
      "  0%|                                                                                            | 0/1 [00:00<?, ?it/s]C:\\Users\\camke\\Anaconda3\\lib\\site-packages\\shap\\explainers\\kernel.py:535: UserWarning: l1_reg=\"auto\" is deprecated and in the next version (v0.29) the behavior will change from a conditional use of AIC to simply \"num_features(10)\"!\n",
      "  \"l1_reg=\\\"auto\\\" is deprecated and in the next version (v0.29) the behavior will change from a \" \\\n",
      "C:\\Users\\camke\\Anaconda3\\lib\\site-packages\\shap\\explainers\\kernel.py:535: UserWarning: l1_reg=\"auto\" is deprecated and in the next version (v0.29) the behavior will change from a conditional use of AIC to simply \"num_features(10)\"!\n",
      "  \"l1_reg=\\\"auto\\\" is deprecated and in the next version (v0.29) the behavior will change from a \" \\\n",
      "100%|████████████████████████████████████████████████████████████████████████████████████| 1/1 [00:02<00:00,  2.34s/it]\n"
     ]
    },
    {
     "name": "stdout",
     "output_type": "stream",
     "text": [
      "Predicted Probability: 58.537%\n",
      "Percentile of Predicted Probability: 95.109%\n",
      "Feature Importance (sorted low to high): {'ADDSCEV': -0.35132357064305375, 'IRALCRC': -0.08406081673429172, 'CIGAGE': -0.06207293118356408, 'IRALCAGE': -0.03920724144756482, 'IRCIGRC': -0.031043022660993777, 'IRCRKRC': -0.023873848732125794, 'CABINGEVR': -0.015359772362778523, 'FUMJ18': -0.012819891388145654, 'IRECSTMOREC': -0.010046941236139084, 'BOOKED': -0.009940106483637051, 'IRMJRC': -0.007921861620482279, 'IRSEX': -0.007076225190979474, 'CIGDLYMO': 0.0, 'FUCIG18': 0.0, 'IRALCFY': 0.0, 'IRLSDRC': 0.0, 'IRMJFY': 0.0, 'TXEVRRCVD2': 0.0, 'EDUHIGHCAT': 0.008005591516004662, 'TOBYR': 0.01752654840297435, 'IRCOCRC': 0.026719632076473473, 'AGE2': 0.035759625149877905, 'IRHALLUCREC': 0.06838599775351702, 'TXYRRECVD2': 0.08786054033652013, 'IRMETHAMREC': 0.09124687418014565, 'IRINHALREC': 0.12240858543068303, 'ADDPREV': 0.30133859035848454, 'IRHERRC': 0.31841310614984486}\n",
      "\n",
      "IRMJFY 40  | TEST 90\n",
      "\n",
      "{'NAME': 'Test Scripter', 'IRSEX': 2, 'EDUHIGHCAT': 5, 'AGE2': 6, 'IRALCRC': 2, 'IRALCFY': 1, 'CABINGEVR': 1, 'IRALCAGE': 14, 'TXYRRECVD2': 0, 'TXEVRRCVD2': 1, 'IRCIGRC': 4, 'CIGDLYMO': 1, 'CIGAGE': 25, 'TOBYR': 1, 'FUCIG18': 1, 'IRMJRC': 9, 'IRMJFY': 40, 'FUMJ18': 2, 'IRCOCRC': 2, 'IRCRKRC': 9, 'IRHERRC': 2, 'IRHALLUCREC': 3, 'IRLSDRC': 1, 'IRECSTMOREC': 3, 'IRINHALREC': 3, 'IRMETHAMREC': 2, 'ADDPREV': 94, 'ADDSCEV': 1, 'BOOKED': 2}\n"
     ]
    },
    {
     "name": "stderr",
     "output_type": "stream",
     "text": [
      "  0%|                                                                                            | 0/1 [00:00<?, ?it/s]C:\\Users\\camke\\Anaconda3\\lib\\site-packages\\shap\\explainers\\kernel.py:535: UserWarning: l1_reg=\"auto\" is deprecated and in the next version (v0.29) the behavior will change from a conditional use of AIC to simply \"num_features(10)\"!\n",
      "  \"l1_reg=\\\"auto\\\" is deprecated and in the next version (v0.29) the behavior will change from a \" \\\n",
      "C:\\Users\\camke\\Anaconda3\\lib\\site-packages\\shap\\explainers\\kernel.py:535: UserWarning: l1_reg=\"auto\" is deprecated and in the next version (v0.29) the behavior will change from a conditional use of AIC to simply \"num_features(10)\"!\n",
      "  \"l1_reg=\\\"auto\\\" is deprecated and in the next version (v0.29) the behavior will change from a \" \\\n",
      "100%|████████████████████████████████████████████████████████████████████████████████████| 1/1 [00:02<00:00,  2.38s/it]\n"
     ]
    },
    {
     "name": "stdout",
     "output_type": "stream",
     "text": [
      "Predicted Probability: 83.333%\n",
      "Percentile of Predicted Probability: 99.257%\n",
      "Feature Importance (sorted low to high): {'EDUHIGHCAT': -0.09334125866987039, 'ADDSCEV': -0.08133753893888374, 'IRCIGRC': -0.07068241519328733, 'IRLSDRC': -0.038412945489393224, 'IRMJRC': -0.019362837482568562, 'TOBYR': -0.01913593969729016, 'IRALCFY': -0.012939540626574458, 'BOOKED': 0.0, 'CIGDLYMO': 0.0, 'FUMJ18': 0.0, 'IRCRKRC': 0.0, 'IRSEX': 0.0, 'TXYRRECVD2': 0.0, 'CIGAGE': 0.0044611700326021575, 'CABINGEVR': 0.007283513803274466, 'IRALCAGE': 0.0072943239072608135, 'TXEVRRCVD2': 0.008395921015713181, 'FUCIG18': 0.009323631212668881, 'IRALCRC': 0.010387190347731223, 'IRHALLUCREC': 0.014708650140357132, 'IRMJFY': 0.017257358578882886, 'IRECSTMOREC': 0.02694102890402361, 'IRINHALREC': 0.047973029328655103, 'AGE2': 0.06796671242442087, 'IRCOCRC': 0.0794109625424968, 'IRMETHAMREC': 0.11689942041061019, 'IRHERRC': 0.274269640464498, 'ADDPREV': 0.313526264330239}\n",
      "\n",
      "IRMJFY 50  | TEST 91\n",
      "\n",
      "{'NAME': 'Test Scripter', 'IRSEX': 1, 'EDUHIGHCAT': 1, 'AGE2': 6, 'IRALCRC': 2, 'IRALCFY': 300, 'CABINGEVR': 991, 'IRALCAGE': 17, 'TXYRRECVD2': 0, 'TXEVRRCVD2': 1, 'IRCIGRC': 2, 'CIGDLYMO': 91, 'CIGAGE': 20, 'TOBYR': 1, 'FUCIG18': 1, 'IRMJRC': 3, 'IRMJFY': 50, 'FUMJ18': 1, 'IRCOCRC': 3, 'IRCRKRC': 1, 'IRHERRC': 3, 'IRHALLUCREC': 3, 'IRLSDRC': 9, 'IRECSTMOREC': 1, 'IRINHALREC': 2, 'IRMETHAMREC': 1, 'ADDPREV': 94, 'ADDSCEV': 2, 'BOOKED': 1}\n"
     ]
    },
    {
     "name": "stderr",
     "output_type": "stream",
     "text": [
      "  0%|                                                                                            | 0/1 [00:00<?, ?it/s]C:\\Users\\camke\\Anaconda3\\lib\\site-packages\\shap\\explainers\\kernel.py:535: UserWarning: l1_reg=\"auto\" is deprecated and in the next version (v0.29) the behavior will change from a conditional use of AIC to simply \"num_features(10)\"!\n",
      "  \"l1_reg=\\\"auto\\\" is deprecated and in the next version (v0.29) the behavior will change from a \" \\\n",
      "C:\\Users\\camke\\Anaconda3\\lib\\site-packages\\shap\\explainers\\kernel.py:535: UserWarning: l1_reg=\"auto\" is deprecated and in the next version (v0.29) the behavior will change from a conditional use of AIC to simply \"num_features(10)\"!\n",
      "  \"l1_reg=\\\"auto\\\" is deprecated and in the next version (v0.29) the behavior will change from a \" \\\n",
      "100%|████████████████████████████████████████████████████████████████████████████████████| 1/1 [00:02<00:00,  2.33s/it]\n"
     ]
    },
    {
     "name": "stdout",
     "output_type": "stream",
     "text": [
      "Predicted Probability: 91.892%\n",
      "Percentile of Predicted Probability: 99.700%\n",
      "Feature Importance (sorted low to high): {'ADDSCEV': -0.05599208778704845, 'IRCRKRC': -0.031218359969094167, 'IRCIGRC': -0.025819808905641117, 'IRALCAGE': -0.02543465387833721, 'CIGAGE': -0.01793850427535504, 'TOBYR': -0.013758552807782598, 'IRMJRC': -0.00843430656575378, 'IRALCRC': -0.003921872607694499, 'BOOKED': 0.0, 'CIGDLYMO': 0.0, 'TXEVRRCVD2': 0.0, 'TXYRRECVD2': 0.0, 'IRLSDRC': 0.006827421276618728, 'IRSEX': 0.009026235342159072, 'CABINGEVR': 0.009799911404393735, 'FUMJ18': 0.011858957741447185, 'FUCIG18': 0.01426113283263411, 'IRHALLUCREC': 0.020122188032598354, 'IRCOCRC': 0.025378393757073847, 'IRALCFY': 0.03404234650007659, 'IRMJFY': 0.034215963998427856, 'IRECSTMOREC': 0.04938258365138937, 'AGE2': 0.054735951018846984, 'EDUHIGHCAT': 0.05611856771137069, 'IRMETHAMREC': 0.06913808674878164, 'IRINHALREC': 0.11753263049009038, 'IRHERRC': 0.1414501165257041, 'ADDPREV': 0.28509958669624613}\n",
      "\n",
      "IRMJFY 100  | TEST 92\n",
      "\n",
      "{'NAME': 'Test Scripter', 'IRSEX': 1, 'EDUHIGHCAT': 1, 'AGE2': 11, 'IRALCRC': 2, 'IRALCFY': 50, 'CABINGEVR': 991, 'IRALCAGE': 17, 'TXYRRECVD2': 1, 'TXEVRRCVD2': 0, 'IRCIGRC': 2, 'CIGDLYMO': 1, 'CIGAGE': 999, 'TOBYR': 1, 'FUCIG18': 1, 'IRMJRC': 9, 'IRMJFY': 100, 'FUMJ18': 1, 'IRCOCRC': 2, 'IRCRKRC': 3, 'IRHERRC': 9, 'IRHALLUCREC': 9, 'IRLSDRC': 3, 'IRECSTMOREC': 1, 'IRINHALREC': 2, 'IRMETHAMREC': 3, 'ADDPREV': 1, 'ADDSCEV': 94, 'BOOKED': 2}\n"
     ]
    },
    {
     "name": "stderr",
     "output_type": "stream",
     "text": [
      "  0%|                                                                                            | 0/1 [00:00<?, ?it/s]C:\\Users\\camke\\Anaconda3\\lib\\site-packages\\shap\\explainers\\kernel.py:535: UserWarning: l1_reg=\"auto\" is deprecated and in the next version (v0.29) the behavior will change from a conditional use of AIC to simply \"num_features(10)\"!\n",
      "  \"l1_reg=\\\"auto\\\" is deprecated and in the next version (v0.29) the behavior will change from a \" \\\n",
      "C:\\Users\\camke\\Anaconda3\\lib\\site-packages\\shap\\explainers\\kernel.py:535: UserWarning: l1_reg=\"auto\" is deprecated and in the next version (v0.29) the behavior will change from a conditional use of AIC to simply \"num_features(10)\"!\n",
      "  \"l1_reg=\\\"auto\\\" is deprecated and in the next version (v0.29) the behavior will change from a \" \\\n",
      "100%|████████████████████████████████████████████████████████████████████████████████████| 1/1 [00:02<00:00,  2.36s/it]\n"
     ]
    },
    {
     "name": "stdout",
     "output_type": "stream",
     "text": [
      "Predicted Probability: 21.134%\n",
      "Percentile of Predicted Probability: 73.569%\n",
      "Feature Importance (sorted low to high): {'ADDSCEV': -0.3541936832185766, 'ADDPREV': -0.04497139521250379, 'IRCIGRC': -0.03144310932530776, 'IRMJRC': -0.017512075759648305, 'TOBYR': -0.014236610673405764, 'IRALCAGE': -0.010443588777310369, 'IRHALLUCREC': -0.008167376421192531, 'IRHERRC': -0.0056792267969922455, 'BOOKED': 0.0, 'CIGDLYMO': 0.0, 'TXEVRRCVD2': 0.0, 'IRLSDRC': 0.00033762423473267245, 'IRALCFY': 0.0010625017472173093, 'IRALCRC': 0.0014071617529346474, 'IRCRKRC': 0.0019734761905096584, 'CABINGEVR': 0.00537711464888272, 'FUCIG18': 0.011687252387069757, 'FUMJ18': 0.013471784840062659, 'IRSEX': 0.014432357823179469, 'IRMETHAMREC': 0.014596128779283221, 'IRMJFY': 0.01597872546469043, 'AGE2': 0.034510766017588713, 'IRECSTMOREC': 0.051665045555668546, 'EDUHIGHCAT': 0.053534120298874194, 'CIGAGE': 0.05591187199904454, 'TXYRRECVD2': 0.06959379067712027, 'IRCOCRC': 0.0793171854123548, 'IRINHALREC': 0.11068337255352367}\n",
      "\n",
      "IRMJFY 200  | TEST 93\n",
      "\n",
      "{'NAME': 'Test Scripter', 'IRSEX': 2, 'EDUHIGHCAT': 5, 'AGE2': 4, 'IRALCRC': 3, 'IRALCFY': 12, 'CABINGEVR': 991, 'IRALCAGE': 17, 'TXYRRECVD2': 0, 'TXEVRRCVD2': 1, 'IRCIGRC': 9, 'CIGDLYMO': 91, 'CIGAGE': 99, 'TOBYR': 1, 'FUCIG18': 1, 'IRMJRC': 3, 'IRMJFY': 200, 'FUMJ18': 1, 'IRCOCRC': 2, 'IRCRKRC': 9, 'IRHERRC': 1, 'IRHALLUCREC': 1, 'IRLSDRC': 1, 'IRECSTMOREC': 3, 'IRINHALREC': 1, 'IRMETHAMREC': 1, 'ADDPREV': 1, 'ADDSCEV': 94, 'BOOKED': 94}\n"
     ]
    },
    {
     "name": "stderr",
     "output_type": "stream",
     "text": [
      "  0%|                                                                                            | 0/1 [00:00<?, ?it/s]C:\\Users\\camke\\Anaconda3\\lib\\site-packages\\shap\\explainers\\kernel.py:535: UserWarning: l1_reg=\"auto\" is deprecated and in the next version (v0.29) the behavior will change from a conditional use of AIC to simply \"num_features(10)\"!\n",
      "  \"l1_reg=\\\"auto\\\" is deprecated and in the next version (v0.29) the behavior will change from a \" \\\n",
      "C:\\Users\\camke\\Anaconda3\\lib\\site-packages\\shap\\explainers\\kernel.py:535: UserWarning: l1_reg=\"auto\" is deprecated and in the next version (v0.29) the behavior will change from a conditional use of AIC to simply \"num_features(10)\"!\n",
      "  \"l1_reg=\\\"auto\\\" is deprecated and in the next version (v0.29) the behavior will change from a \" \\\n",
      "100%|████████████████████████████████████████████████████████████████████████████████████| 1/1 [00:02<00:00,  2.35s/it]\n"
     ]
    },
    {
     "name": "stdout",
     "output_type": "stream",
     "text": [
      "Predicted Probability: 64.115%\n",
      "Percentile of Predicted Probability: 96.371%\n",
      "Feature Importance (sorted low to high): {'ADDSCEV': -0.35789092062877614, 'EDUHIGHCAT': -0.10479467495670244, 'BOOKED': -0.0788038048585449, 'ADDPREV': -0.05682738794201564, 'IRLSDRC': -0.0319254396210491, 'TOBYR': -0.02011928107316613, 'IRALCRC': -0.013287011562777395, 'IRALCAGE': -0.005836188513037632, 'IRALCFY': -0.00536627710813381, 'CABINGEVR': 0.0, 'CIGDLYMO': 0.0, 'IRCRKRC': 0.0, 'IRSEX': 0.0, 'TXEVRRCVD2': 0.0, 'TXYRRECVD2': 0.0, 'IRMJRC': 0.0006192917447380708, 'IRMJFY': 0.011253674380385714, 'FUCIG18': 0.011707464926604433, 'FUMJ18': 0.014188001146891421, 'IRECSTMOREC': 0.037040766740021325, 'IRCIGRC': 0.038293092959162056, 'AGE2': 0.07118994448246169, 'IRHALLUCREC': 0.07664302598707587, 'IRMETHAMREC': 0.08479629612040496, 'IRCOCRC': 0.08614817406145944, 'IRINHALREC': 0.12037583979586328, 'CIGAGE': 0.27110335208145675, 'IRHERRC': 0.3301933952087631}\n",
      "\n",
      "IRMJFY 300  | TEST 94\n",
      "\n",
      "{'NAME': 'Test Scripter', 'IRSEX': 1, 'EDUHIGHCAT': 5, 'AGE2': 13, 'IRALCRC': 3, 'IRALCFY': 50, 'CABINGEVR': 991, 'IRALCAGE': 17, 'TXYRRECVD2': 1, 'TXEVRRCVD2': 0, 'IRCIGRC': 9, 'CIGDLYMO': 1, 'CIGAGE': 10, 'TOBYR': 1, 'FUCIG18': 1, 'IRMJRC': 1, 'IRMJFY': 300, 'FUMJ18': 2, 'IRCOCRC': 3, 'IRCRKRC': 1, 'IRHERRC': 3, 'IRHALLUCREC': 9, 'IRLSDRC': 3, 'IRECSTMOREC': 1, 'IRINHALREC': 2, 'IRMETHAMREC': 3, 'ADDPREV': 1, 'ADDSCEV': 94, 'BOOKED': 94}\n"
     ]
    },
    {
     "name": "stderr",
     "output_type": "stream",
     "text": [
      "  0%|                                                                                            | 0/1 [00:00<?, ?it/s]C:\\Users\\camke\\Anaconda3\\lib\\site-packages\\shap\\explainers\\kernel.py:535: UserWarning: l1_reg=\"auto\" is deprecated and in the next version (v0.29) the behavior will change from a conditional use of AIC to simply \"num_features(10)\"!\n",
      "  \"l1_reg=\\\"auto\\\" is deprecated and in the next version (v0.29) the behavior will change from a \" \\\n",
      "C:\\Users\\camke\\Anaconda3\\lib\\site-packages\\shap\\explainers\\kernel.py:535: UserWarning: l1_reg=\"auto\" is deprecated and in the next version (v0.29) the behavior will change from a conditional use of AIC to simply \"num_features(10)\"!\n",
      "  \"l1_reg=\\\"auto\\\" is deprecated and in the next version (v0.29) the behavior will change from a \" \\\n",
      "100%|████████████████████████████████████████████████████████████████████████████████████| 1/1 [00:02<00:00,  2.37s/it]\n"
     ]
    },
    {
     "name": "stdout",
     "output_type": "stream",
     "text": [
      "Predicted Probability: 3.589%\n",
      "Percentile of Predicted Probability: 10.738%\n",
      "Feature Importance (sorted low to high): {'ADDSCEV': -0.24282283859508508, 'EDUHIGHCAT': -0.06210094440517698, 'BOOKED': -0.04443495527887484, 'ADDPREV': -0.03203834125272653, 'IRCRKRC': -0.02649548464572518, 'CIGAGE': -0.013698936320672192, 'TOBYR': -0.011178357151646556, 'IRALCRC': -0.009894497760374932, 'IRHALLUCREC': -0.009762730519928403, 'IRALCAGE': -0.008542874477182855, 'FUMJ18': -0.0062281157072398285, 'CABINGEVR': 0.0, 'CIGDLYMO': 0.0, 'TXEVRRCVD2': 0.0, 'IRLSDRC': 0.0006760448208178588, 'FUCIG18': 0.0051387541401183845, 'IRALCFY': 0.006098380237139281, 'IRMETHAMREC': 0.006518280605854229, 'IRSEX': 0.009873496363100337, 'AGE2': 0.00993117467728824, 'IRCOCRC': 0.01689423353979301, 'IRCIGRC': 0.022078319497513127, 'IRMJRC': 0.02511646611987544, 'IRMJFY': 0.03496627099185335, 'IRECSTMOREC': 0.03702691558384119, 'TXYRRECVD2': 0.04592753972992525, 'IRHERRC': 0.04791290114496291, 'IRINHALREC': 0.07248339578369462}\n",
      "\n",
      "IRMJFY 365  | TEST 95\n",
      "\n",
      "{'NAME': 'Test Scripter', 'IRSEX': 2, 'EDUHIGHCAT': 5, 'AGE2': 8, 'IRALCRC': 9, 'IRALCFY': 50, 'CABINGEVR': 2, 'IRALCAGE': 17, 'TXYRRECVD2': 0, 'TXEVRRCVD2': 0, 'IRCIGRC': 3, 'CIGDLYMO': 1, 'CIGAGE': 99, 'TOBYR': 1, 'FUCIG18': 2, 'IRMJRC': 2, 'IRMJFY': 365, 'FUMJ18': 2, 'IRCOCRC': 1, 'IRCRKRC': 2, 'IRHERRC': 9, 'IRHALLUCREC': 9, 'IRLSDRC': 9, 'IRECSTMOREC': 3, 'IRINHALREC': 1, 'IRMETHAMREC': 1, 'ADDPREV': 1, 'ADDSCEV': 94, 'BOOKED': 97}\n"
     ]
    },
    {
     "name": "stderr",
     "output_type": "stream",
     "text": [
      "  0%|                                                                                            | 0/1 [00:00<?, ?it/s]C:\\Users\\camke\\Anaconda3\\lib\\site-packages\\shap\\explainers\\kernel.py:535: UserWarning: l1_reg=\"auto\" is deprecated and in the next version (v0.29) the behavior will change from a conditional use of AIC to simply \"num_features(10)\"!\n",
      "  \"l1_reg=\\\"auto\\\" is deprecated and in the next version (v0.29) the behavior will change from a \" \\\n",
      "C:\\Users\\camke\\Anaconda3\\lib\\site-packages\\shap\\explainers\\kernel.py:535: UserWarning: l1_reg=\"auto\" is deprecated and in the next version (v0.29) the behavior will change from a conditional use of AIC to simply \"num_features(10)\"!\n",
      "  \"l1_reg=\\\"auto\\\" is deprecated and in the next version (v0.29) the behavior will change from a \" \\\n",
      "100%|████████████████████████████████████████████████████████████████████████████████████| 1/1 [00:02<00:00,  2.38s/it]\n"
     ]
    },
    {
     "name": "stdout",
     "output_type": "stream",
     "text": [
      "Predicted Probability: 3.589%\n",
      "Percentile of Predicted Probability: 10.738%\n",
      "Feature Importance (sorted low to high): {'ADDSCEV': -0.22866230331451765, 'EDUHIGHCAT': -0.0591056976065714, 'IRALCRC': -0.05316231786122749, 'IRCIGRC': -0.03940503655229834, 'BOOKED': -0.039335604765586826, 'ADDPREV': -0.027074974886591288, 'IRCRKRC': -0.026809766313901695, 'CABINGEVR': -0.014203858481130496, 'IRALCAGE': -0.011632443340562203, 'TOBYR': -0.0089536529642361, 'FUMJ18': -0.008618801343750482, 'FUCIG18': -0.008310442231827142, 'IRHERRC': -0.008003301997741172, 'IRHALLUCREC': -0.006656369189161113, 'IRSEX': -0.005706302210096881, 'CIGDLYMO': 0.0, 'TXEVRRCVD2': 0.0, 'TXYRRECVD2': 0.0, 'IRLSDRC': 0.0030118093007910005, 'IRALCFY': 0.006419196725084633, 'IRECSTMOREC': 0.013572669283997682, 'IRMJRC': 0.01759183294170618, 'AGE2': 0.02780731184954599, 'IRMJFY': 0.03950298417311108, 'IRCOCRC': 0.04389484047804265, 'IRMETHAMREC': 0.057244518535858845, 'IRINHALREC': 0.059578631453101244, 'CIGAGE': 0.15046117543910498}\n",
      "\n",
      "FUMJ18 2  | TEST 96\n",
      "\n",
      "{'NAME': 'Test Scripter', 'IRSEX': 1, 'EDUHIGHCAT': 5, 'AGE2': 8, 'IRALCRC': 9, 'IRALCFY': 993, 'CABINGEVR': 1, 'IRALCAGE': 17, 'TXYRRECVD2': 1, 'TXEVRRCVD2': 0, 'IRCIGRC': 1, 'CIGDLYMO': 2, 'CIGAGE': 40, 'TOBYR': 1, 'FUCIG18': 1, 'IRMJRC': 2, 'IRMJFY': 100, 'FUMJ18': 2, 'IRCOCRC': 3, 'IRCRKRC': 1, 'IRHERRC': 9, 'IRHALLUCREC': 2, 'IRLSDRC': 2, 'IRECSTMOREC': 9, 'IRINHALREC': 2, 'IRMETHAMREC': 1, 'ADDPREV': 94, 'ADDSCEV': 1, 'BOOKED': 2}\n"
     ]
    },
    {
     "name": "stderr",
     "output_type": "stream",
     "text": [
      "  0%|                                                                                            | 0/1 [00:00<?, ?it/s]C:\\Users\\camke\\Anaconda3\\lib\\site-packages\\shap\\explainers\\kernel.py:535: UserWarning: l1_reg=\"auto\" is deprecated and in the next version (v0.29) the behavior will change from a conditional use of AIC to simply \"num_features(10)\"!\n",
      "  \"l1_reg=\\\"auto\\\" is deprecated and in the next version (v0.29) the behavior will change from a \" \\\n",
      "C:\\Users\\camke\\Anaconda3\\lib\\site-packages\\shap\\explainers\\kernel.py:535: UserWarning: l1_reg=\"auto\" is deprecated and in the next version (v0.29) the behavior will change from a conditional use of AIC to simply \"num_features(10)\"!\n",
      "  \"l1_reg=\\\"auto\\\" is deprecated and in the next version (v0.29) the behavior will change from a \" \\\n",
      "100%|████████████████████████████████████████████████████████████████████████████████████| 1/1 [00:02<00:00,  2.37s/it]\n"
     ]
    },
    {
     "name": "stdout",
     "output_type": "stream",
     "text": [
      "Predicted Probability: 65.574%\n",
      "Percentile of Predicted Probability: 97.614%\n",
      "Feature Importance (sorted low to high): {'EDUHIGHCAT': -0.0999771968956904, 'IRALCRC': -0.09750267375371746, 'ADDSCEV': -0.07021259129231278, 'IRCRKRC': -0.044671246075365934, 'CIGAGE': -0.0392551457864872, 'TOBYR': -0.015029638191979056, 'FUMJ18': -0.014119057385217237, 'IRECSTMOREC': -0.011977358958305068, 'IRALCAGE': -0.010945853382006765, 'IRALCFY': -0.008193390771769865, 'BOOKED': 0.0, 'CIGDLYMO': 0.0, 'IRHERRC': 0.0, 'TXEVRRCVD2': 0.0, 'CABINGEVR': 0.007067327655366107, 'FUCIG18': 0.01000138722421165, 'IRCIGRC': 0.011076411382249185, 'IRSEX': 0.01836913129235576, 'IRMJFY': 0.019934880362432295, 'IRLSDRC': 0.02513390678901009, 'IRMJRC': 0.029853756665299047, 'IRCOCRC': 0.03347575059466856, 'IRHALLUCREC': 0.04071682064152454, 'AGE2': 0.05759031225194938, 'TXYRRECVD2': 0.08060960880562795, 'IRMETHAMREC': 0.09960705890170629, 'IRINHALREC': 0.13253485947820692, 'ADDPREV': 0.3392036533785097}\n",
      "\n",
      "FUMJ18 1  | TEST 97\n",
      "\n",
      "{'NAME': 'Test Scripter', 'IRSEX': 2, 'EDUHIGHCAT': 4, 'AGE2': 6, 'IRALCRC': 3, 'IRALCFY': 991, 'CABINGEVR': 1, 'IRALCAGE': 100, 'TXYRRECVD2': 0, 'TXEVRRCVD2': 1, 'IRCIGRC': 4, 'CIGDLYMO': 1, 'CIGAGE': 50, 'TOBYR': 1, 'FUCIG18': 2, 'IRMJRC': 3, 'IRMJFY': 1, 'FUMJ18': 1, 'IRCOCRC': 2, 'IRCRKRC': 1, 'IRHERRC': 9, 'IRHALLUCREC': 2, 'IRLSDRC': 3, 'IRECSTMOREC': 3, 'IRINHALREC': 9, 'IRMETHAMREC': 3, 'ADDPREV': 2, 'ADDSCEV': 2, 'BOOKED': 2}\n"
     ]
    },
    {
     "name": "stderr",
     "output_type": "stream",
     "text": [
      "  0%|                                                                                            | 0/1 [00:00<?, ?it/s]C:\\Users\\camke\\Anaconda3\\lib\\site-packages\\shap\\explainers\\kernel.py:535: UserWarning: l1_reg=\"auto\" is deprecated and in the next version (v0.29) the behavior will change from a conditional use of AIC to simply \"num_features(10)\"!\n",
      "  \"l1_reg=\\\"auto\\\" is deprecated and in the next version (v0.29) the behavior will change from a \" \\\n",
      "C:\\Users\\camke\\Anaconda3\\lib\\site-packages\\shap\\explainers\\kernel.py:535: UserWarning: l1_reg=\"auto\" is deprecated and in the next version (v0.29) the behavior will change from a conditional use of AIC to simply \"num_features(10)\"!\n",
      "  \"l1_reg=\\\"auto\\\" is deprecated and in the next version (v0.29) the behavior will change from a \" \\\n",
      "100%|████████████████████████████████████████████████████████████████████████████████████| 1/1 [00:02<00:00,  2.33s/it]\n"
     ]
    },
    {
     "name": "stdout",
     "output_type": "stream",
     "text": [
      "Predicted Probability: 6.897%\n",
      "Percentile of Predicted Probability: 25.462%\n",
      "Feature Importance (sorted low to high): {'IRCIGRC': -0.05798711503991522, 'CIGAGE': -0.05636437067360579, 'ADDSCEV': -0.04600087010285016, 'IRCRKRC': -0.030923733553824294, 'IRALCAGE': -0.027135910252085692, 'IRALCRC': -0.010621636887148143, 'TOBYR': -0.009223699563552762, 'FUCIG18': -0.008744218484040278, 'IRINHALREC': -0.006673626223284719, 'IRALCFY': -0.0060847868338470695, 'IRSEX': -0.00606828750539657, 'IRMJRC': -0.0034891122291566476, 'IRHERRC': -0.0031596558407512507, 'IRMJFY': -0.0024694633816305656, 'IRLSDRC': -0.00019927816341484134, 'CIGDLYMO': 0.0, 'TXEVRRCVD2': 0.0, 'TXYRRECVD2': 0.0, 'BOOKED': 0.0021296281915045776, 'CABINGEVR': 0.00380839373690163, 'FUMJ18': 0.008336758164460528, 'EDUHIGHCAT': 0.008358629520000938, 'IRMETHAMREC': 0.009131813089079906, 'IRECSTMOREC': 0.014278001921284832, 'ADDPREV': 0.018985484796998423, 'IRHALLUCREC': 0.023357336265625833, 'AGE2': 0.035771825589138107, 'IRCOCRC': 0.05750641871312155}\n",
      "\n",
      "IRCOCRC 9  | TEST 98\n",
      "\n",
      "{'NAME': 'Test Scripter', 'IRSEX': 2, 'EDUHIGHCAT': 5, 'AGE2': 16, 'IRALCRC': 3, 'IRALCFY': 100, 'CABINGEVR': 2, 'IRALCAGE': 991, 'TXYRRECVD2': 0, 'TXEVRRCVD2': 0, 'IRCIGRC': 3, 'CIGDLYMO': 1, 'CIGAGE': 50, 'TOBYR': 1, 'FUCIG18': 2, 'IRMJRC': 3, 'IRMJFY': 100, 'FUMJ18': 1, 'IRCOCRC': 9, 'IRCRKRC': 9, 'IRHERRC': 9, 'IRHALLUCREC': 2, 'IRLSDRC': 1, 'IRECSTMOREC': 2, 'IRINHALREC': 1, 'IRMETHAMREC': 2, 'ADDPREV': 1, 'ADDSCEV': 1, 'BOOKED': 94}\n"
     ]
    },
    {
     "name": "stderr",
     "output_type": "stream",
     "text": [
      "  0%|                                                                                            | 0/1 [00:00<?, ?it/s]C:\\Users\\camke\\Anaconda3\\lib\\site-packages\\shap\\explainers\\kernel.py:535: UserWarning: l1_reg=\"auto\" is deprecated and in the next version (v0.29) the behavior will change from a conditional use of AIC to simply \"num_features(10)\"!\n",
      "  \"l1_reg=\\\"auto\\\" is deprecated and in the next version (v0.29) the behavior will change from a \" \\\n",
      "C:\\Users\\camke\\Anaconda3\\lib\\site-packages\\shap\\explainers\\kernel.py:535: UserWarning: l1_reg=\"auto\" is deprecated and in the next version (v0.29) the behavior will change from a conditional use of AIC to simply \"num_features(10)\"!\n",
      "  \"l1_reg=\\\"auto\\\" is deprecated and in the next version (v0.29) the behavior will change from a \" \\\n",
      "100%|████████████████████████████████████████████████████████████████████████████████████| 1/1 [00:02<00:00,  2.35s/it]\n"
     ]
    },
    {
     "name": "stdout",
     "output_type": "stream",
     "text": [
      "Predicted Probability: 1.802%\n",
      "Percentile of Predicted Probability: 1.543%\n",
      "Feature Importance (sorted low to high): {'EDUHIGHCAT': -0.04209166253835927, 'CIGAGE': -0.04122264471458542, 'ADDSCEV': -0.04087490385139058, 'AGE2': -0.04076332796708591, 'BOOKED': -0.03358250164880687, 'IRCIGRC': -0.032751963538789536, 'ADDPREV': -0.02217574543630542, 'IRLSDRC': -0.020841419708118855, 'CABINGEVR': -0.012050077112653934, 'IRALCRC': -0.0083764455297832, 'TOBYR': -0.006005338084190542, 'IRCOCRC': -0.005758972664908421, 'FUCIG18': -0.005640105738094939, 'IRSEX': -0.00547661164557911, 'IRMJRC': -0.0023765986798812977, 'IRHERRC': -0.0021065154125187585, 'CIGDLYMO': 0.0, 'IRCRKRC': 0.0, 'TXEVRRCVD2': 0.0, 'TXYRRECVD2': 0.0, 'FUMJ18': 0.005824668658850021, 'IRMJFY': 0.005898755840738096, 'IRALCAGE': 0.006290355161068795, 'IRALCFY': 0.014719425678375024, 'IRHALLUCREC': 0.016563490023375954, 'IRECSTMOREC': 0.017697322348353514, 'IRINHALREC': 0.04891703265675726, 'IRMETHAMREC': 0.06175480993378451}\n",
      "\n",
      "IRCOCRC 1  | TEST 99\n",
      "\n",
      "{'NAME': 'Test Scripter', 'IRSEX': 2, 'EDUHIGHCAT': 4, 'AGE2': 6, 'IRALCRC': 9, 'IRALCFY': 100, 'CABINGEVR': 991, 'IRALCAGE': 14, 'TXYRRECVD2': 1, 'TXEVRRCVD2': 1, 'IRCIGRC': 1, 'CIGDLYMO': 2, 'CIGAGE': 19, 'TOBYR': 0, 'FUCIG18': 1, 'IRMJRC': 2, 'IRMJFY': 30, 'FUMJ18': 1, 'IRCOCRC': 1, 'IRCRKRC': 3, 'IRHERRC': 2, 'IRHALLUCREC': 9, 'IRLSDRC': 9, 'IRECSTMOREC': 9, 'IRINHALREC': 9, 'IRMETHAMREC': 3, 'ADDPREV': 2, 'ADDSCEV': 94, 'BOOKED': 97}\n"
     ]
    },
    {
     "name": "stderr",
     "output_type": "stream",
     "text": [
      "  0%|                                                                                            | 0/1 [00:00<?, ?it/s]C:\\Users\\camke\\Anaconda3\\lib\\site-packages\\shap\\explainers\\kernel.py:535: UserWarning: l1_reg=\"auto\" is deprecated and in the next version (v0.29) the behavior will change from a conditional use of AIC to simply \"num_features(10)\"!\n",
      "  \"l1_reg=\\\"auto\\\" is deprecated and in the next version (v0.29) the behavior will change from a \" \\\n",
      "C:\\Users\\camke\\Anaconda3\\lib\\site-packages\\shap\\explainers\\kernel.py:535: UserWarning: l1_reg=\"auto\" is deprecated and in the next version (v0.29) the behavior will change from a conditional use of AIC to simply \"num_features(10)\"!\n",
      "  \"l1_reg=\\\"auto\\\" is deprecated and in the next version (v0.29) the behavior will change from a \" \\\n",
      "100%|████████████████████████████████████████████████████████████████████████████████████| 1/1 [00:02<00:00,  2.35s/it]\n"
     ]
    },
    {
     "name": "stdout",
     "output_type": "stream",
     "text": [
      "Predicted Probability: 14.812%\n",
      "Percentile of Predicted Probability: 64.074%\n",
      "Feature Importance (sorted low to high): {'ADDSCEV': -0.345483747353745, 'IRALCRC': -0.07615480559122058, 'BOOKED': -0.05791637161659358, 'CIGAGE': -0.03170119079262934, 'IRSEX': -0.007388665797173059, 'IRHALLUCREC': -0.005800196528221436, 'IRINHALREC': -0.005411924068821985, 'IRECSTMOREC': -0.005318678362074657, 'IRCRKRC': -0.0017013556866803253, 'CIGDLYMO': 0.0, 'IRMJFY': 0.0, 'TXEVRRCVD2': 0.0, 'IRLSDRC': 0.0019233986276256543, 'CABINGEVR': 0.002693987426035868, 'TOBYR': 0.008852658827446028, 'FUCIG18': 0.009085728166682468, 'EDUHIGHCAT': 0.010727457982623229, 'FUMJ18': 0.011028755274009153, 'IRCIGRC': 0.011633833196085255, 'IRMETHAMREC': 0.01226051155558655, 'IRALCAGE': 0.01793215111604598, 'ADDPREV': 0.0227163015942649, 'IRMJRC': 0.023095715187333388, 'IRALCFY': 0.028417806282009503, 'AGE2': 0.04583256927781664, 'IRCOCRC': 0.0623845857755088, 'TXYRRECVD2': 0.06326612850867012, 'IRHERRC': 0.1907016794084322}\n",
      "\n",
      "IRCOCRC 2  | TEST 100\n",
      "\n",
      "{'NAME': 'Test Scripter', 'IRSEX': 2, 'EDUHIGHCAT': 3, 'AGE2': 9, 'IRALCRC': 3, 'IRALCFY': 991, 'CABINGEVR': 1, 'IRALCAGE': 20, 'TXYRRECVD2': 1, 'TXEVRRCVD2': 1, 'IRCIGRC': 4, 'CIGDLYMO': 2, 'CIGAGE': 13, 'TOBYR': 0, 'FUCIG18': 1, 'IRMJRC': 9, 'IRMJFY': 365, 'FUMJ18': 1, 'IRCOCRC': 2, 'IRCRKRC': 1, 'IRHERRC': 1, 'IRHALLUCREC': 1, 'IRLSDRC': 3, 'IRECSTMOREC': 9, 'IRINHALREC': 1, 'IRMETHAMREC': 1, 'ADDPREV': 94, 'ADDSCEV': 2, 'BOOKED': 97}\n"
     ]
    },
    {
     "name": "stderr",
     "output_type": "stream",
     "text": [
      "  0%|                                                                                            | 0/1 [00:00<?, ?it/s]C:\\Users\\camke\\Anaconda3\\lib\\site-packages\\shap\\explainers\\kernel.py:535: UserWarning: l1_reg=\"auto\" is deprecated and in the next version (v0.29) the behavior will change from a conditional use of AIC to simply \"num_features(10)\"!\n",
      "  \"l1_reg=\\\"auto\\\" is deprecated and in the next version (v0.29) the behavior will change from a \" \\\n",
      "C:\\Users\\camke\\Anaconda3\\lib\\site-packages\\shap\\explainers\\kernel.py:535: UserWarning: l1_reg=\"auto\" is deprecated and in the next version (v0.29) the behavior will change from a conditional use of AIC to simply \"num_features(10)\"!\n",
      "  \"l1_reg=\\\"auto\\\" is deprecated and in the next version (v0.29) the behavior will change from a \" \\\n",
      "100%|████████████████████████████████████████████████████████████████████████████████████| 1/1 [00:02<00:00,  2.30s/it]\n"
     ]
    },
    {
     "name": "stdout",
     "output_type": "stream",
     "text": [
      "Predicted Probability: 100.000%\n",
      "Percentile of Predicted Probability: 99.913%\n",
      "Feature Importance (sorted low to high): {'BOOKED': -0.06593361010157872, 'IRCIGRC': -0.05900344480300379, 'ADDSCEV': -0.05589490031510258, 'IRALCAGE': -0.037246033689041724, 'IRCRKRC': -0.03171679505151331, 'IRALCRC': -0.015047970803400368, 'CIGAGE': -0.01447929045224522, 'IRSEX': -0.012552892337225896, 'IRMJRC': -0.00786106343205073, 'EDUHIGHCAT': -0.0002461401090840809, 'CABINGEVR': 0.0, 'CIGDLYMO': 0.0, 'FUMJ18': 0.0, 'IRALCFY': 0.0, 'IRECSTMOREC': 0.0, 'TXEVRRCVD2': 0.0, 'IRLSDRC': 0.0025508126841637946, 'FUCIG18': 0.009518851257231176, 'TOBYR': 0.014868261785276338, 'AGE2': 0.05209420327743741, 'IRMJFY': 0.06569889707877957, 'TXYRRECVD2': 0.07024436598222306, 'IRHALLUCREC': 0.07144359982830062, 'IRCOCRC': 0.08136533568688753, 'IRMETHAMREC': 0.08263674876177907, 'IRINHALREC': 0.086213398538105, 'ADDPREV': 0.29075183164617374, 'IRHERRC': 0.3101488425801222}\n",
      "\n",
      "IRCOCRC 3  | TEST 101\n",
      "\n",
      "{'NAME': 'Test Scripter', 'IRSEX': 2, 'EDUHIGHCAT': 4, 'AGE2': 1, 'IRALCRC': 3, 'IRALCFY': 12, 'CABINGEVR': 1, 'IRALCAGE': 17, 'TXYRRECVD2': 1, 'TXEVRRCVD2': 1, 'IRCIGRC': 1, 'CIGDLYMO': 91, 'CIGAGE': 30, 'TOBYR': 0, 'FUCIG18': 1, 'IRMJRC': 3, 'IRMJFY': 1, 'FUMJ18': 1, 'IRCOCRC': 3, 'IRCRKRC': 9, 'IRHERRC': 3, 'IRHALLUCREC': 3, 'IRLSDRC': 1, 'IRECSTMOREC': 1, 'IRINHALREC': 1, 'IRMETHAMREC': 9, 'ADDPREV': 2, 'ADDSCEV': 2, 'BOOKED': 1}\n"
     ]
    },
    {
     "name": "stderr",
     "output_type": "stream",
     "text": [
      "  0%|                                                                                            | 0/1 [00:00<?, ?it/s]C:\\Users\\camke\\Anaconda3\\lib\\site-packages\\shap\\explainers\\kernel.py:535: UserWarning: l1_reg=\"auto\" is deprecated and in the next version (v0.29) the behavior will change from a conditional use of AIC to simply \"num_features(10)\"!\n",
      "  \"l1_reg=\\\"auto\\\" is deprecated and in the next version (v0.29) the behavior will change from a \" \\\n",
      "C:\\Users\\camke\\Anaconda3\\lib\\site-packages\\shap\\explainers\\kernel.py:535: UserWarning: l1_reg=\"auto\" is deprecated and in the next version (v0.29) the behavior will change from a conditional use of AIC to simply \"num_features(10)\"!\n",
      "  \"l1_reg=\\\"auto\\\" is deprecated and in the next version (v0.29) the behavior will change from a \" \\\n",
      "100%|████████████████████████████████████████████████████████████████████████████████████| 1/1 [00:02<00:00,  2.33s/it]\n"
     ]
    },
    {
     "name": "stdout",
     "output_type": "stream",
     "text": [
      "Predicted Probability: 60.000%\n",
      "Percentile of Predicted Probability: 95.359%\n",
      "Feature Importance (sorted low to high): {'ADDSCEV': -0.0644084864983451, 'CIGAGE': -0.05242677214997944, 'IRLSDRC': -0.03976987362716192, 'IRSEX': -0.016396322792612383, 'BOOKED': -0.014169315066153154, 'IRALCAGE': -0.013859233103879862, 'IRALCRC': -0.0132832127044894, 'CABINGEVR': 0.0, 'CIGDLYMO': 0.0, 'IRMETHAMREC': 0.0, 'IRMJFY': 0.0, 'TXEVRRCVD2': 0.0, 'IRMJRC': 0.002698011420293578, 'TOBYR': 0.009085643669373866, 'IRCRKRC': 0.009464931211108418, 'IRCIGRC': 0.011858801676706221, 'FUCIG18': 0.012464406130321265, 'FUMJ18': 0.014574192410715003, 'EDUHIGHCAT': 0.018798022951355603, 'IRHALLUCREC': 0.026688561385805276, 'IRALCFY': 0.026969442303617863, 'ADDPREV': 0.029959069238338604, 'IRCOCRC': 0.035500227502977294, 'IRECSTMOREC': 0.05641439658575284, 'TXYRRECVD2': 0.08370061220815073, 'AGE2': 0.08687189972963022, 'IRINHALREC': 0.10891860988594436, 'IRHERRC': 0.11789939564476315}\n",
      "\n",
      "IRCRKRC 9  | TEST 102\n",
      "\n",
      "{'NAME': 'Test Scripter', 'IRSEX': 2, 'EDUHIGHCAT': 3, 'AGE2': 5, 'IRALCRC': 9, 'IRALCFY': 300, 'CABINGEVR': 991, 'IRALCAGE': 14, 'TXYRRECVD2': 0, 'TXEVRRCVD2': 1, 'IRCIGRC': 9, 'CIGDLYMO': 2, 'CIGAGE': 17, 'TOBYR': 0, 'FUCIG18': 2, 'IRMJRC': 3, 'IRMJFY': 365, 'FUMJ18': 1, 'IRCOCRC': 9, 'IRCRKRC': 9, 'IRHERRC': 3, 'IRHALLUCREC': 3, 'IRLSDRC': 3, 'IRECSTMOREC': 1, 'IRINHALREC': 9, 'IRMETHAMREC': 2, 'ADDPREV': 94, 'ADDSCEV': 2, 'BOOKED': 1}\n"
     ]
    },
    {
     "name": "stderr",
     "output_type": "stream",
     "text": [
      "  0%|                                                                                            | 0/1 [00:00<?, ?it/s]C:\\Users\\camke\\Anaconda3\\lib\\site-packages\\shap\\explainers\\kernel.py:535: UserWarning: l1_reg=\"auto\" is deprecated and in the next version (v0.29) the behavior will change from a conditional use of AIC to simply \"num_features(10)\"!\n",
      "  \"l1_reg=\\\"auto\\\" is deprecated and in the next version (v0.29) the behavior will change from a \" \\\n",
      "C:\\Users\\camke\\Anaconda3\\lib\\site-packages\\shap\\explainers\\kernel.py:535: UserWarning: l1_reg=\"auto\" is deprecated and in the next version (v0.29) the behavior will change from a conditional use of AIC to simply \"num_features(10)\"!\n",
      "  \"l1_reg=\\\"auto\\\" is deprecated and in the next version (v0.29) the behavior will change from a \" \\\n",
      "100%|████████████████████████████████████████████████████████████████████████████████████| 1/1 [00:02<00:00,  2.36s/it]\n"
     ]
    },
    {
     "name": "stdout",
     "output_type": "stream",
     "text": [
      "Predicted Probability: 83.333%\n",
      "Percentile of Predicted Probability: 99.257%\n",
      "Feature Importance (sorted low to high): {'IRALCRC': -0.07512465852302652, 'ADDSCEV': -0.0597153388347193, 'BOOKED': -0.01791546386081061, 'FUCIG18': -0.017332102143553962, 'CIGAGE': -0.013290125609228931, 'EDUHIGHCAT': -0.00675050791395046, 'IRLSDRC': -0.005194462665837396, 'CABINGEVR': 0.0, 'CIGDLYMO': 0.0, 'IRCRKRC': 0.0, 'IRINHALREC': 0.0, 'IRSEX': 0.0, 'TXEVRRCVD2': 0.0, 'TXYRRECVD2': 0.0, 'IRMJRC': 0.0013716674787047078, 'IRCOCRC': 0.006166794632415873, 'IRHALLUCREC': 0.009491613927973264, 'TOBYR': 0.010180105391049188, 'FUMJ18': 0.011044615578460149, 'IRALCAGE': 0.015902460517349337, 'IRCIGRC': 0.03436568656480979, 'IRALCFY': 0.046133056323490074, 'AGE2': 0.05593280483898716, 'IRECSTMOREC': 0.05672854104104336, 'IRMJFY': 0.07275302110993603, 'IRMETHAMREC': 0.11541179413186697, 'IRHERRC': 0.12790948414588732, 'ADDPREV': 0.3028173552147203}\n",
      "\n",
      "IRCRKRC 1  | TEST 103\n",
      "\n",
      "{'NAME': 'Test Scripter', 'IRSEX': 1, 'EDUHIGHCAT': 2, 'AGE2': 17, 'IRALCRC': 2, 'IRALCFY': 991, 'CABINGEVR': 1, 'IRALCAGE': 21, 'TXYRRECVD2': 1, 'TXEVRRCVD2': 0, 'IRCIGRC': 2, 'CIGDLYMO': 91, 'CIGAGE': 20, 'TOBYR': 0, 'FUCIG18': 2, 'IRMJRC': 3, 'IRMJFY': 10, 'FUMJ18': 2, 'IRCOCRC': 1, 'IRCRKRC': 1, 'IRHERRC': 1, 'IRHALLUCREC': 3, 'IRLSDRC': 2, 'IRECSTMOREC': 3, 'IRINHALREC': 3, 'IRMETHAMREC': 2, 'ADDPREV': 1, 'ADDSCEV': 94, 'BOOKED': 2}\n"
     ]
    },
    {
     "name": "stderr",
     "output_type": "stream",
     "text": [
      "  0%|                                                                                            | 0/1 [00:00<?, ?it/s]C:\\Users\\camke\\Anaconda3\\lib\\site-packages\\shap\\explainers\\kernel.py:535: UserWarning: l1_reg=\"auto\" is deprecated and in the next version (v0.29) the behavior will change from a conditional use of AIC to simply \"num_features(10)\"!\n",
      "  \"l1_reg=\\\"auto\\\" is deprecated and in the next version (v0.29) the behavior will change from a \" \\\n",
      "C:\\Users\\camke\\Anaconda3\\lib\\site-packages\\shap\\explainers\\kernel.py:535: UserWarning: l1_reg=\"auto\" is deprecated and in the next version (v0.29) the behavior will change from a conditional use of AIC to simply \"num_features(10)\"!\n",
      "  \"l1_reg=\\\"auto\\\" is deprecated and in the next version (v0.29) the behavior will change from a \" \\\n",
      "100%|████████████████████████████████████████████████████████████████████████████████████| 1/1 [00:02<00:00,  2.32s/it]\n"
     ]
    },
    {
     "name": "stdout",
     "output_type": "stream",
     "text": [
      "Predicted Probability: 9.091%\n",
      "Percentile of Predicted Probability: 50.687%\n",
      "Feature Importance (sorted low to high): {'ADDSCEV': -0.30912355485244747, 'AGE2': -0.10472088893138701, 'IRALCAGE': -0.05957044820042121, 'ADDPREV': -0.03945171677115644, 'IRCRKRC': -0.037834574022408946, 'IRCIGRC': -0.030719528634371246, 'CIGAGE': -0.019835682841942814, 'FUMJ18': -0.009829176699716238, 'FUCIG18': -0.009181582180237735, 'IRALCFY': -0.0077279708230645686, 'IRMJRC': -0.001890473260848874, 'IRALCRC': -0.0014668411050516722, 'BOOKED': 0.0, 'CABINGEVR': 0.0, 'CIGDLYMO': 0.0, 'TXEVRRCVD2': 0.0, 'IRMJFY': 0.005369142808180738, 'TOBYR': 0.007949438066254678, 'EDUHIGHCAT': 0.008282778327494848, 'IRSEX': 0.01051205012257446, 'IRHALLUCREC': 0.013365486721242291, 'IRECSTMOREC': 0.01753424682593386, 'IRLSDRC': 0.018496609157165333, 'IRINHALREC': 0.036488175831386666, 'TXYRRECVD2': 0.059218273580941505, 'IRCOCRC': 0.05999520851780123, 'IRMETHAMREC': 0.09515169183912706, 'IRHERRC': 0.2274514354462754}\n",
      "\n",
      "IRCRKRC 2  | TEST 104\n",
      "\n",
      "{'NAME': 'Test Scripter', 'IRSEX': 2, 'EDUHIGHCAT': 2, 'AGE2': 17, 'IRALCRC': 3, 'IRALCFY': 1, 'CABINGEVR': 1, 'IRALCAGE': 100, 'TXYRRECVD2': 0, 'TXEVRRCVD2': 0, 'IRCIGRC': 4, 'CIGDLYMO': 91, 'CIGAGE': 994, 'TOBYR': 1, 'FUCIG18': 2, 'IRMJRC': 1, 'IRMJFY': 991, 'FUMJ18': 2, 'IRCOCRC': 3, 'IRCRKRC': 2, 'IRHERRC': 9, 'IRHALLUCREC': 9, 'IRLSDRC': 1, 'IRECSTMOREC': 2, 'IRINHALREC': 2, 'IRMETHAMREC': 9, 'ADDPREV': 2, 'ADDSCEV': 1, 'BOOKED': 2}\n"
     ]
    },
    {
     "name": "stderr",
     "output_type": "stream",
     "text": [
      "  0%|                                                                                            | 0/1 [00:00<?, ?it/s]C:\\Users\\camke\\Anaconda3\\lib\\site-packages\\shap\\explainers\\kernel.py:535: UserWarning: l1_reg=\"auto\" is deprecated and in the next version (v0.29) the behavior will change from a conditional use of AIC to simply \"num_features(10)\"!\n",
      "  \"l1_reg=\\\"auto\\\" is deprecated and in the next version (v0.29) the behavior will change from a \" \\\n",
      "C:\\Users\\camke\\Anaconda3\\lib\\site-packages\\shap\\explainers\\kernel.py:535: UserWarning: l1_reg=\"auto\" is deprecated and in the next version (v0.29) the behavior will change from a conditional use of AIC to simply \"num_features(10)\"!\n",
      "  \"l1_reg=\\\"auto\\\" is deprecated and in the next version (v0.29) the behavior will change from a \" \\\n",
      "100%|████████████████████████████████████████████████████████████████████████████████████| 1/1 [00:02<00:00,  2.33s/it]\n"
     ]
    },
    {
     "name": "stdout",
     "output_type": "stream",
     "text": [
      "Predicted Probability: 2.524%\n",
      "Percentile of Predicted Probability: 3.323%\n",
      "Feature Importance (sorted low to high): {'AGE2': -0.06140059911073417, 'IRCIGRC': -0.04096188887669293, 'ADDSCEV': -0.03914261703257681, 'CIGAGE': -0.027699530653718357, 'IRLSDRC': -0.021040152757152417, 'IRCRKRC': -0.01853860354945258, 'IRALCAGE': -0.018429511708807397, 'IRALCRC': -0.008244074974629062, 'FUCIG18': -0.006503301396452166, 'TOBYR': -0.006149560580048841, 'IRSEX': -0.005631192892481873, 'FUMJ18': -0.005486107074736464, 'IRHALLUCREC': -0.00490679761077896, 'IRALCFY': -0.0040296023275352075, 'IRHERRC': -0.0028111467566083945, 'IRMETHAMREC': -0.001551080702631269, 'BOOKED': 0.0, 'CIGDLYMO': 0.0, 'IRMJFY': 0.0, 'TXEVRRCVD2': 0.0, 'TXYRRECVD2': 0.0, 'CABINGEVR': 0.0031408587764936956, 'EDUHIGHCAT': 0.009319861631540916, 'ADDPREV': 0.014134002990687525, 'IRCOCRC': 0.01514086990064465, 'IRMJRC': 0.016186838154320905, 'IRECSTMOREC': 0.01970962601933711, 'IRINHALREC': 0.05768331160418208}\n",
      "\n",
      "IRCRKRC 3  | TEST 105\n",
      "\n",
      "{'NAME': 'Test Scripter', 'IRSEX': 2, 'EDUHIGHCAT': 1, 'AGE2': 13, 'IRALCRC': 3, 'IRALCFY': 991, 'CABINGEVR': 991, 'IRALCAGE': 17, 'TXYRRECVD2': 0, 'TXEVRRCVD2': 1, 'IRCIGRC': 3, 'CIGDLYMO': 2, 'CIGAGE': 19, 'TOBYR': 0, 'FUCIG18': 1, 'IRMJRC': 3, 'IRMJFY': 7, 'FUMJ18': 2, 'IRCOCRC': 1, 'IRCRKRC': 3, 'IRHERRC': 9, 'IRHALLUCREC': 2, 'IRLSDRC': 9, 'IRECSTMOREC': 3, 'IRINHALREC': 3, 'IRMETHAMREC': 9, 'ADDPREV': 94, 'ADDSCEV': 94, 'BOOKED': 94}\n"
     ]
    },
    {
     "name": "stderr",
     "output_type": "stream",
     "text": [
      "  0%|                                                                                            | 0/1 [00:00<?, ?it/s]C:\\Users\\camke\\Anaconda3\\lib\\site-packages\\shap\\explainers\\kernel.py:535: UserWarning: l1_reg=\"auto\" is deprecated and in the next version (v0.29) the behavior will change from a conditional use of AIC to simply \"num_features(10)\"!\n",
      "  \"l1_reg=\\\"auto\\\" is deprecated and in the next version (v0.29) the behavior will change from a \" \\\n",
      "C:\\Users\\camke\\Anaconda3\\lib\\site-packages\\shap\\explainers\\kernel.py:535: UserWarning: l1_reg=\"auto\" is deprecated and in the next version (v0.29) the behavior will change from a conditional use of AIC to simply \"num_features(10)\"!\n",
      "  \"l1_reg=\\\"auto\\\" is deprecated and in the next version (v0.29) the behavior will change from a \" \\\n",
      "100%|████████████████████████████████████████████████████████████████████████████████████| 1/1 [00:02<00:00,  2.35s/it]\n"
     ]
    },
    {
     "name": "stdout",
     "output_type": "stream",
     "text": [
      "Predicted Probability: 7.547%\n",
      "Percentile of Predicted Probability: 31.890%\n",
      "Feature Importance (sorted low to high): {'ADDSCEV': -0.29782910019117764, 'BOOKED': -0.05607892352019335, 'IRCIGRC': -0.05343740389071985, 'CIGAGE': -0.026341254105963108, 'IRALCAGE': -0.010195299704536871, 'IRMJFY': -0.009798329727290375, 'IRALCRC': -0.00885241357726576, 'IRHERRC': -0.007711421819946981, 'FUMJ18': -0.007500932060247406, 'IRSEX': -0.0065858463101875625, 'IRMJRC': -0.0041896645343825895, 'IRALCFY': -0.0041190253405102226, 'IRMETHAMREC': -0.0007037370923403882, 'IRCRKRC': -0.00030361757706824644, 'CABINGEVR': 0.0, 'CIGDLYMO': 0.0, 'TXEVRRCVD2': 0.0, 'TXYRRECVD2': 0.0, 'IRLSDRC': 0.005036560710499072, 'FUCIG18': 0.006658499858877967, 'TOBYR': 0.009549002490849334, 'AGE2': 0.012386043539658068, 'IRECSTMOREC': 0.01591418762076855, 'IRHALLUCREC': 0.024435661218570937, 'IRINHALREC': 0.03299724041021272, 'EDUHIGHCAT': 0.043463346452687, 'IRCOCRC': 0.05612235648487011, 'ADDPREV': 0.2001087767902772}\n",
      "\n",
      "IRHERRC 9  | TEST 106\n",
      "\n",
      "{'NAME': 'Test Scripter', 'IRSEX': 2, 'EDUHIGHCAT': 5, 'AGE2': 11, 'IRALCRC': 2, 'IRALCFY': 300, 'CABINGEVR': 1, 'IRALCAGE': 14, 'TXYRRECVD2': 1, 'TXEVRRCVD2': 0, 'IRCIGRC': 4, 'CIGDLYMO': 1, 'CIGAGE': 25, 'TOBYR': 1, 'FUCIG18': 1, 'IRMJRC': 3, 'IRMJFY': 365, 'FUMJ18': 2, 'IRCOCRC': 1, 'IRCRKRC': 1, 'IRHERRC': 9, 'IRHALLUCREC': 2, 'IRLSDRC': 2, 'IRECSTMOREC': 9, 'IRINHALREC': 3, 'IRMETHAMREC': 3, 'ADDPREV': 94, 'ADDSCEV': 2, 'BOOKED': 97}\n"
     ]
    },
    {
     "name": "stderr",
     "output_type": "stream",
     "text": [
      "  0%|                                                                                            | 0/1 [00:00<?, ?it/s]C:\\Users\\camke\\Anaconda3\\lib\\site-packages\\shap\\explainers\\kernel.py:535: UserWarning: l1_reg=\"auto\" is deprecated and in the next version (v0.29) the behavior will change from a conditional use of AIC to simply \"num_features(10)\"!\n",
      "  \"l1_reg=\\\"auto\\\" is deprecated and in the next version (v0.29) the behavior will change from a \" \\\n",
      "C:\\Users\\camke\\Anaconda3\\lib\\site-packages\\shap\\explainers\\kernel.py:535: UserWarning: l1_reg=\"auto\" is deprecated and in the next version (v0.29) the behavior will change from a conditional use of AIC to simply \"num_features(10)\"!\n",
      "  \"l1_reg=\\\"auto\\\" is deprecated and in the next version (v0.29) the behavior will change from a \" \\\n",
      "100%|████████████████████████████████████████████████████████████████████████████████████| 1/1 [00:02<00:00,  2.36s/it]\n"
     ]
    },
    {
     "name": "stdout",
     "output_type": "stream",
     "text": [
      "Predicted Probability: 64.115%\n",
      "Percentile of Predicted Probability: 96.371%\n",
      "Feature Importance (sorted low to high): {'EDUHIGHCAT': -0.11505637593373344, 'IRCIGRC': -0.08252658783204966, 'BOOKED': -0.07506668903424568, 'ADDSCEV': -0.07478270559077646, 'IRCRKRC': -0.0465625980366155, 'TOBYR': -0.01692108907115264, 'IRALCRC': -0.0034305647465287803, 'IRMJRC': -0.00037586494935110126, 'CABINGEVR': 0.0, 'CIGDLYMO': 0.0, 'FUMJ18': 0.0, 'IRECSTMOREC': 0.0, 'IRHERRC': 0.0, 'IRSEX': 0.0, 'TXEVRRCVD2': 0.0, 'CIGAGE': 0.008962353990169203, 'IRALCAGE': 0.01290614700460499, 'FUCIG18': 0.014204291151845683, 'IRMETHAMREC': 0.030430667784884693, 'IRLSDRC': 0.03453702720370716, 'IRHALLUCREC': 0.04214758272023822, 'AGE2': 0.04954932490666658, 'IRALCFY': 0.0613990897617569, 'IRINHALREC': 0.07057656585415109, 'IRCOCRC': 0.07524463837466583, 'IRMJFY': 0.07581060568953149, 'TXYRRECVD2': 0.08341467607527242, 'ADDPREV': 0.3342408380480437}\n",
      "\n",
      "IRHERRC 1  | TEST 107\n",
      "\n",
      "{'NAME': 'Test Scripter', 'IRSEX': 1, 'EDUHIGHCAT': 1, 'AGE2': 16, 'IRALCRC': 2, 'IRALCFY': 1, 'CABINGEVR': 1, 'IRALCAGE': 21, 'TXYRRECVD2': 1, 'TXEVRRCVD2': 0, 'IRCIGRC': 3, 'CIGDLYMO': 91, 'CIGAGE': 994, 'TOBYR': 0, 'FUCIG18': 1, 'IRMJRC': 9, 'IRMJFY': 365, 'FUMJ18': 1, 'IRCOCRC': 9, 'IRCRKRC': 3, 'IRHERRC': 1, 'IRHALLUCREC': 2, 'IRLSDRC': 1, 'IRECSTMOREC': 1, 'IRINHALREC': 9, 'IRMETHAMREC': 3, 'ADDPREV': 94, 'ADDSCEV': 94, 'BOOKED': 2}\n"
     ]
    },
    {
     "name": "stderr",
     "output_type": "stream",
     "text": [
      "  0%|                                                                                            | 0/1 [00:00<?, ?it/s]C:\\Users\\camke\\Anaconda3\\lib\\site-packages\\shap\\explainers\\kernel.py:535: UserWarning: l1_reg=\"auto\" is deprecated and in the next version (v0.29) the behavior will change from a conditional use of AIC to simply \"num_features(10)\"!\n",
      "  \"l1_reg=\\\"auto\\\" is deprecated and in the next version (v0.29) the behavior will change from a \" \\\n",
      "C:\\Users\\camke\\Anaconda3\\lib\\site-packages\\shap\\explainers\\kernel.py:535: UserWarning: l1_reg=\"auto\" is deprecated and in the next version (v0.29) the behavior will change from a conditional use of AIC to simply \"num_features(10)\"!\n",
      "  \"l1_reg=\\\"auto\\\" is deprecated and in the next version (v0.29) the behavior will change from a \" \\\n",
      "100%|████████████████████████████████████████████████████████████████████████████████████| 1/1 [00:02<00:00,  2.33s/it]\n"
     ]
    },
    {
     "name": "stdout",
     "output_type": "stream",
     "text": [
      "Predicted Probability: 32.719%\n",
      "Percentile of Predicted Probability: 87.931%\n",
      "Feature Importance (sorted low to high): {'ADDSCEV': -0.34923112603413065, 'IRALCAGE': -0.09083550832432934, 'AGE2': -0.07905605847974298, 'IRCIGRC': -0.06049236749648089, 'CIGAGE': -0.0547531209685515, 'IRLSDRC': -0.043399702053897815, 'IRCOCRC': -0.013759292402156918, 'IRMJRC': -0.012370282480865302, 'IRALCFY': -0.0050687187515993555, 'IRINHALREC': -0.0034328110302926686, 'IRCRKRC': -0.00260188872979282, 'BOOKED': 0.0, 'CABINGEVR': 0.0, 'CIGDLYMO': 0.0, 'TXEVRRCVD2': 0.0, 'FUCIG18': 0.007224272809025767, 'TOBYR': 0.008609917535870065, 'IRALCRC': 0.012373889235387833, 'IRSEX': 0.014669785356731052, 'FUMJ18': 0.01477817832121122, 'IRMETHAMREC': 0.0185056148636569, 'IRHALLUCREC': 0.037164200667109994, 'EDUHIGHCAT': 0.044496654737487054, 'IRECSTMOREC': 0.04633906370324848, 'IRMJFY': 0.06195899024084636, 'TXYRRECVD2': 0.07627326232004539, 'ADDPREV': 0.2541825972693408, 'IRHERRC': 0.2831663977962784}\n",
      "\n",
      "IRHERRC 2  | TEST 108\n",
      "\n",
      "{'NAME': 'Test Scripter', 'IRSEX': 2, 'EDUHIGHCAT': 3, 'AGE2': 2, 'IRALCRC': 9, 'IRALCFY': 300, 'CABINGEVR': 2, 'IRALCAGE': 991, 'TXYRRECVD2': 1, 'TXEVRRCVD2': 0, 'IRCIGRC': 2, 'CIGDLYMO': 91, 'CIGAGE': 22, 'TOBYR': 0, 'FUCIG18': 2, 'IRMJRC': 1, 'IRMJFY': 10, 'FUMJ18': 1, 'IRCOCRC': 9, 'IRCRKRC': 9, 'IRHERRC': 2, 'IRHALLUCREC': 3, 'IRLSDRC': 9, 'IRECSTMOREC': 3, 'IRINHALREC': 2, 'IRMETHAMREC': 1, 'ADDPREV': 94, 'ADDSCEV': 94, 'BOOKED': 94}\n"
     ]
    },
    {
     "name": "stderr",
     "output_type": "stream",
     "text": [
      "  0%|                                                                                            | 0/1 [00:00<?, ?it/s]C:\\Users\\camke\\Anaconda3\\lib\\site-packages\\shap\\explainers\\kernel.py:535: UserWarning: l1_reg=\"auto\" is deprecated and in the next version (v0.29) the behavior will change from a conditional use of AIC to simply \"num_features(10)\"!\n",
      "  \"l1_reg=\\\"auto\\\" is deprecated and in the next version (v0.29) the behavior will change from a \" \\\n",
      "C:\\Users\\camke\\Anaconda3\\lib\\site-packages\\shap\\explainers\\kernel.py:535: UserWarning: l1_reg=\"auto\" is deprecated and in the next version (v0.29) the behavior will change from a conditional use of AIC to simply \"num_features(10)\"!\n",
      "  \"l1_reg=\\\"auto\\\" is deprecated and in the next version (v0.29) the behavior will change from a \" \\\n",
      "100%|████████████████████████████████████████████████████████████████████████████████████| 1/1 [00:02<00:00,  2.34s/it]\n"
     ]
    },
    {
     "name": "stdout",
     "output_type": "stream",
     "text": [
      "Predicted Probability: 81.739%\n",
      "Percentile of Predicted Probability: 98.619%\n",
      "Feature Importance (sorted low to high): {'ADDSCEV': -0.3416984767820283, 'IRALCRC': -0.07843945299079319, 'BOOKED': -0.07202830075955086, 'IRCIGRC': -0.058485971972435546, 'CABINGEVR': -0.03064585830799288, 'IRSEX': -0.015585795989532525, 'CIGDLYMO': 0.0, 'FUCIG18': 0.0, 'IRALCAGE': 0.0, 'IRCRKRC': 0.0, 'TXEVRRCVD2': 0.0, 'TOBYR': 0.009419395450185275, 'IRMJFY': 0.009675525310261723, 'FUMJ18': 0.014054409879969865, 'IRCOCRC': 0.01787379531300709, 'IRLSDRC': 0.01791303111895831, 'EDUHIGHCAT': 0.022720873004027586, 'IRHALLUCREC': 0.029167408979425657, 'IRALCFY': 0.040057995450260286, 'IRECSTMOREC': 0.049432638594207545, 'IRMJRC': 0.0501231511111882, 'CIGAGE': 0.051304819925781286, 'AGE2': 0.0686529638731338, 'TXYRRECVD2': 0.08215845205575789, 'IRMETHAMREC': 0.08697460016828429, 'IRINHALREC': 0.12454944506801946, 'IRHERRC': 0.2653596136122574, 'ADDPREV': 0.31239005024766664}\n",
      "\n",
      "IRHERRC 3  | TEST 109\n",
      "\n",
      "{'NAME': 'Test Scripter', 'IRSEX': 1, 'EDUHIGHCAT': 2, 'AGE2': 13, 'IRALCRC': 3, 'IRALCFY': 12, 'CABINGEVR': 2, 'IRALCAGE': 14, 'TXYRRECVD2': 0, 'TXEVRRCVD2': 0, 'IRCIGRC': 4, 'CIGDLYMO': 2, 'CIGAGE': 18, 'TOBYR': 0, 'FUCIG18': 1, 'IRMJRC': 3, 'IRMJFY': 365, 'FUMJ18': 2, 'IRCOCRC': 1, 'IRCRKRC': 9, 'IRHERRC': 3, 'IRHALLUCREC': 3, 'IRLSDRC': 3, 'IRECSTMOREC': 9, 'IRINHALREC': 1, 'IRMETHAMREC': 9, 'ADDPREV': 2, 'ADDSCEV': 94, 'BOOKED': 1}\n"
     ]
    },
    {
     "name": "stderr",
     "output_type": "stream",
     "text": [
      "  0%|                                                                                            | 0/1 [00:00<?, ?it/s]C:\\Users\\camke\\Anaconda3\\lib\\site-packages\\shap\\explainers\\kernel.py:535: UserWarning: l1_reg=\"auto\" is deprecated and in the next version (v0.29) the behavior will change from a conditional use of AIC to simply \"num_features(10)\"!\n",
      "  \"l1_reg=\\\"auto\\\" is deprecated and in the next version (v0.29) the behavior will change from a \" \\\n",
      "C:\\Users\\camke\\Anaconda3\\lib\\site-packages\\shap\\explainers\\kernel.py:535: UserWarning: l1_reg=\"auto\" is deprecated and in the next version (v0.29) the behavior will change from a conditional use of AIC to simply \"num_features(10)\"!\n",
      "  \"l1_reg=\\\"auto\\\" is deprecated and in the next version (v0.29) the behavior will change from a \" \\\n",
      "100%|████████████████████████████████████████████████████████████████████████████████████| 1/1 [00:02<00:00,  2.31s/it]\n"
     ]
    },
    {
     "name": "stdout",
     "output_type": "stream",
     "text": [
      "Predicted Probability: 7.547%\n",
      "Percentile of Predicted Probability: 31.890%\n",
      "Feature Importance (sorted low to high): {'ADDSCEV': -0.28521787037833146, 'IRCIGRC': -0.06034337459194365, 'CABINGEVR': -0.01891745001383502, 'IRALCRC': -0.012603826205812543, 'IRECSTMOREC': -0.01152862377938587, 'FUMJ18': -0.007253421502116025, 'BOOKED': -0.006228596748850096, 'IRMETHAMREC': -0.0029849228808735903, 'IRMJRC': -0.00132500482866129, 'CIGAGE': -0.0012910941622187762, 'CIGDLYMO': 0.0, 'IRCRKRC': 0.0, 'TXEVRRCVD2': 0.0, 'TXYRRECVD2': 0.0, 'IRLSDRC': 0.0009700871187184948, 'IRALCAGE': 0.0067359932181175475, 'FUCIG18': 0.006796279439066175, 'TOBYR': 0.008200224078588933, 'IRHALLUCREC': 0.009208936117741727, 'EDUHIGHCAT': 0.01077686610763269, 'IRALCFY': 0.01128970126936104, 'IRSEX': 0.011495166218389696, 'AGE2': 0.013562657048500223, 'ADDPREV': 0.021880624249164822, 'IRCOCRC': 0.049382157883693156, 'IRMJFY': 0.05046930125108259, 'IRHERRC': 0.05049531575396496, 'IRINHALREC': 0.06945558146344677}\n",
      "\n",
      "IRHALLUCREC 9  | TEST 110\n",
      "\n",
      "{'NAME': 'Test Scripter', 'IRSEX': 2, 'EDUHIGHCAT': 4, 'AGE2': 15, 'IRALCRC': 9, 'IRALCFY': 50, 'CABINGEVR': 2, 'IRALCAGE': 17, 'TXYRRECVD2': 0, 'TXEVRRCVD2': 1, 'IRCIGRC': 2, 'CIGDLYMO': 1, 'CIGAGE': 50, 'TOBYR': 1, 'FUCIG18': 1, 'IRMJRC': 9, 'IRMJFY': 2, 'FUMJ18': 1, 'IRCOCRC': 1, 'IRCRKRC': 2, 'IRHERRC': 1, 'IRHALLUCREC': 9, 'IRLSDRC': 3, 'IRECSTMOREC': 1, 'IRINHALREC': 3, 'IRMETHAMREC': 9, 'ADDPREV': 94, 'ADDSCEV': 2, 'BOOKED': 1}\n"
     ]
    },
    {
     "name": "stderr",
     "output_type": "stream",
     "text": [
      "  0%|                                                                                            | 0/1 [00:00<?, ?it/s]C:\\Users\\camke\\Anaconda3\\lib\\site-packages\\shap\\explainers\\kernel.py:535: UserWarning: l1_reg=\"auto\" is deprecated and in the next version (v0.29) the behavior will change from a conditional use of AIC to simply \"num_features(10)\"!\n",
      "  \"l1_reg=\\\"auto\\\" is deprecated and in the next version (v0.29) the behavior will change from a \" \\\n",
      "C:\\Users\\camke\\Anaconda3\\lib\\site-packages\\shap\\explainers\\kernel.py:535: UserWarning: l1_reg=\"auto\" is deprecated and in the next version (v0.29) the behavior will change from a conditional use of AIC to simply \"num_features(10)\"!\n",
      "  \"l1_reg=\\\"auto\\\" is deprecated and in the next version (v0.29) the behavior will change from a \" \\\n",
      "100%|████████████████████████████████████████████████████████████████████████████████████| 1/1 [00:02<00:00,  2.33s/it]\n"
     ]
    },
    {
     "name": "stdout",
     "output_type": "stream",
     "text": [
      "Predicted Probability: 64.115%\n",
      "Percentile of Predicted Probability: 96.371%\n",
      "Feature Importance (sorted low to high): {'IRALCRC': -0.0784128284923811, 'CIGAGE': -0.07591015076359842, 'ADDSCEV': -0.07160170137249583, 'IRCRKRC': -0.045020112417838654, 'IRMJFY': -0.02473771401737601, 'AGE2': -0.02469859843109215, 'IRCIGRC': -0.024450775707859557, 'CABINGEVR': -0.022662988637745046, 'IRMJRC': -0.018150198936071338, 'TOBYR': -0.012134372600703158, 'BOOKED': -0.0095442392049368, 'IRHALLUCREC': -0.006697516598440728, 'IRALCAGE': -0.0029848263181255774, 'CIGDLYMO': 0.0, 'IRALCFY': 0.0, 'IRMETHAMREC': 0.0, 'IRSEX': 0.0, 'TXEVRRCVD2': 0.0, 'TXYRRECVD2': 0.0, 'IRLSDRC': 0.0006387822647690722, 'EDUHIGHCAT': 0.008196344057739308, 'FUMJ18': 0.012046853611099584, 'FUCIG18': 0.012235564552976641, 'IRECSTMOREC': 0.0632074876247384, 'IRINHALREC': 0.0659238921067476, 'IRCOCRC': 0.06916440949563002, 'ADDPREV': 0.3101435710176136, 'IRHERRC': 0.35415045213843477}\n",
      "\n",
      "IRHALLUCREC 1  | TEST 111\n",
      "\n",
      "{'NAME': 'Test Scripter', 'IRSEX': 1, 'EDUHIGHCAT': 4, 'AGE2': 3, 'IRALCRC': 1, 'IRALCFY': 300, 'CABINGEVR': 991, 'IRALCAGE': 20, 'TXYRRECVD2': 0, 'TXEVRRCVD2': 0, 'IRCIGRC': 9, 'CIGDLYMO': 2, 'CIGAGE': 999, 'TOBYR': 1, 'FUCIG18': 1, 'IRMJRC': 3, 'IRMJFY': 20, 'FUMJ18': 1, 'IRCOCRC': 1, 'IRCRKRC': 1, 'IRHERRC': 3, 'IRHALLUCREC': 1, 'IRLSDRC': 1, 'IRECSTMOREC': 2, 'IRINHALREC': 2, 'IRMETHAMREC': 1, 'ADDPREV': 2, 'ADDSCEV': 1, 'BOOKED': 2}\n"
     ]
    },
    {
     "name": "stderr",
     "output_type": "stream",
     "text": [
      "  0%|                                                                                            | 0/1 [00:00<?, ?it/s]C:\\Users\\camke\\Anaconda3\\lib\\site-packages\\shap\\explainers\\kernel.py:535: UserWarning: l1_reg=\"auto\" is deprecated and in the next version (v0.29) the behavior will change from a conditional use of AIC to simply \"num_features(10)\"!\n",
      "  \"l1_reg=\\\"auto\\\" is deprecated and in the next version (v0.29) the behavior will change from a \" \\\n",
      "C:\\Users\\camke\\Anaconda3\\lib\\site-packages\\shap\\explainers\\kernel.py:535: UserWarning: l1_reg=\"auto\" is deprecated and in the next version (v0.29) the behavior will change from a conditional use of AIC to simply \"num_features(10)\"!\n",
      "  \"l1_reg=\\\"auto\\\" is deprecated and in the next version (v0.29) the behavior will change from a \" \\\n",
      "100%|████████████████████████████████████████████████████████████████████████████████████| 1/1 [00:02<00:00,  2.33s/it]\n"
     ]
    },
    {
     "name": "stdout",
     "output_type": "stream",
     "text": [
      "Predicted Probability: 83.333%\n",
      "Percentile of Predicted Probability: 99.257%\n",
      "Feature Importance (sorted low to high): {'ADDSCEV': -0.07140649225292778, 'IRCRKRC': -0.04596304953029462, 'IRALCAGE': -0.0345146393146849, 'IRLSDRC': -0.034176113449282675, 'TOBYR': -0.019816379974015308, 'EDUHIGHCAT': -0.0023832333534217487, 'IRMJRC': -0.001022915396554247, 'BOOKED': 0.0, 'CIGDLYMO': 0.0, 'TXEVRRCVD2': 0.0, 'TXYRRECVD2': 0.0, 'CABINGEVR': 0.004722880387809103, 'IRMJFY': 0.009784200400993814, 'FUMJ18': 0.011175733173340807, 'IRSEX': 0.013853001189122582, 'FUCIG18': 0.014233741710354797, 'IRALCRC': 0.022456357539428762, 'ADDPREV': 0.023195632916090614, 'IRECSTMOREC': 0.037250282189703054, 'IRCIGRC': 0.038286688491168175, 'IRALCFY': 0.051471661593025964, 'CIGAGE': 0.06948471568938447, 'IRHALLUCREC': 0.07192065837863248, 'IRCOCRC': 0.07309042817684702, 'AGE2': 0.07309479035982358, 'IRMETHAMREC': 0.09139031634184219, 'IRINHALREC': 0.12073404297786927, 'IRHERRC': 0.15402403310131074}\n",
      "\n",
      "IRHALLUCREC 2  | TEST 112\n",
      "\n",
      "{'NAME': 'Test Scripter', 'IRSEX': 1, 'EDUHIGHCAT': 1, 'AGE2': 11, 'IRALCRC': 3, 'IRALCFY': 300, 'CABINGEVR': 1, 'IRALCAGE': 17, 'TXYRRECVD2': 0, 'TXEVRRCVD2': 1, 'IRCIGRC': 4, 'CIGDLYMO': 2, 'CIGAGE': 25, 'TOBYR': 1, 'FUCIG18': 2, 'IRMJRC': 2, 'IRMJFY': 2, 'FUMJ18': 1, 'IRCOCRC': 3, 'IRCRKRC': 3, 'IRHERRC': 1, 'IRHALLUCREC': 2, 'IRLSDRC': 1, 'IRECSTMOREC': 3, 'IRINHALREC': 2, 'IRMETHAMREC': 9, 'ADDPREV': 94, 'ADDSCEV': 1, 'BOOKED': 2}\n"
     ]
    },
    {
     "name": "stderr",
     "output_type": "stream",
     "text": [
      "  0%|                                                                                            | 0/1 [00:00<?, ?it/s]C:\\Users\\camke\\Anaconda3\\lib\\site-packages\\shap\\explainers\\kernel.py:535: UserWarning: l1_reg=\"auto\" is deprecated and in the next version (v0.29) the behavior will change from a conditional use of AIC to simply \"num_features(10)\"!\n",
      "  \"l1_reg=\\\"auto\\\" is deprecated and in the next version (v0.29) the behavior will change from a \" \\\n",
      "C:\\Users\\camke\\Anaconda3\\lib\\site-packages\\shap\\explainers\\kernel.py:535: UserWarning: l1_reg=\"auto\" is deprecated and in the next version (v0.29) the behavior will change from a conditional use of AIC to simply \"num_features(10)\"!\n",
      "  \"l1_reg=\\\"auto\\\" is deprecated and in the next version (v0.29) the behavior will change from a \" \\\n",
      "100%|████████████████████████████████████████████████████████████████████████████████████| 1/1 [00:02<00:00,  2.36s/it]\n"
     ]
    },
    {
     "name": "stdout",
     "output_type": "stream",
     "text": [
      "Predicted Probability: 100.000%\n",
      "Percentile of Predicted Probability: 99.913%\n",
      "Feature Importance (sorted low to high): {'IRCIGRC': -0.06602369131689545, 'ADDSCEV': -0.06021736547327, 'IRLSDRC': -0.033016432123596395, 'IRALCAGE': -0.019082903127508988, 'IRMJFY': -0.018641296463710988, 'IRALCRC': -0.014605616645868902, 'TOBYR': -0.014398919911398522, 'FUCIG18': -0.012687539542655168, 'BOOKED': 0.0, 'CABINGEVR': 0.0, 'CIGDLYMO': 0.0, 'IRMETHAMREC': 0.0, 'TXEVRRCVD2': 0.0, 'TXYRRECVD2': 0.0, 'IRCRKRC': 0.006152630421131233, 'CIGAGE': 0.008551050868522037, 'FUMJ18': 0.01387521903590161, 'IRSEX': 0.017921852206663536, 'IRMJRC': 0.02475985053871793, 'IRECSTMOREC': 0.027055202004343082, 'IRCOCRC': 0.03643976216419731, 'AGE2': 0.0390222166205898, 'IRHALLUCREC': 0.04501313618153885, 'EDUHIGHCAT': 0.05427599879738737, 'IRALCFY': 0.05740345417459647, 'IRINHALREC': 0.114187030637669, 'ADDPREV': 0.3081657534631732, 'IRHERRC': 0.323403615502706}\n",
      "\n",
      "IRHALLUCREC 3  | TEST 113\n",
      "\n",
      "{'NAME': 'Test Scripter', 'IRSEX': 2, 'EDUHIGHCAT': 4, 'AGE2': 9, 'IRALCRC': 1, 'IRALCFY': 100, 'CABINGEVR': 1, 'IRALCAGE': 17, 'TXYRRECVD2': 1, 'TXEVRRCVD2': 1, 'IRCIGRC': 2, 'CIGDLYMO': 91, 'CIGAGE': 10, 'TOBYR': 0, 'FUCIG18': 1, 'IRMJRC': 1, 'IRMJFY': 7, 'FUMJ18': 2, 'IRCOCRC': 9, 'IRCRKRC': 3, 'IRHERRC': 2, 'IRHALLUCREC': 3, 'IRLSDRC': 3, 'IRECSTMOREC': 3, 'IRINHALREC': 9, 'IRMETHAMREC': 3, 'ADDPREV': 1, 'ADDSCEV': 2, 'BOOKED': 1}\n"
     ]
    },
    {
     "name": "stderr",
     "output_type": "stream",
     "text": [
      "  0%|                                                                                            | 0/1 [00:00<?, ?it/s]C:\\Users\\camke\\Anaconda3\\lib\\site-packages\\shap\\explainers\\kernel.py:535: UserWarning: l1_reg=\"auto\" is deprecated and in the next version (v0.29) the behavior will change from a conditional use of AIC to simply \"num_features(10)\"!\n",
      "  \"l1_reg=\\\"auto\\\" is deprecated and in the next version (v0.29) the behavior will change from a \" \\\n",
      "C:\\Users\\camke\\Anaconda3\\lib\\site-packages\\shap\\explainers\\kernel.py:535: UserWarning: l1_reg=\"auto\" is deprecated and in the next version (v0.29) the behavior will change from a conditional use of AIC to simply \"num_features(10)\"!\n",
      "  \"l1_reg=\\\"auto\\\" is deprecated and in the next version (v0.29) the behavior will change from a \" \\\n",
      "100%|████████████████████████████████████████████████████████████████████████████████████| 1/1 [00:02<00:00,  2.33s/it]\n"
     ]
    },
    {
     "name": "stdout",
     "output_type": "stream",
     "text": [
      "Predicted Probability: 53.383%\n",
      "Percentile of Predicted Probability: 94.390%\n",
      "Feature Importance (sorted low to high): {'ADDSCEV': -0.07282529872840561, 'ADDPREV': -0.05414480452574491, 'IRCIGRC': -0.04324953381405776, 'CIGAGE': -0.022886128940886624, 'FUMJ18': -0.014754668885010869, 'BOOKED': -0.014328547252202992, 'IRMJFY': -0.013796500151768698, 'IRALCAGE': -0.013755490372067483, 'IRSEX': -0.012533541904237055, 'IRCOCRC': -0.010424308747188415, 'IRINHALREC': -0.0055056135307400556, 'IRLSDRC': -0.002954223170730602, 'CIGDLYMO': 0.0, 'TXEVRRCVD2': 0.0, 'IRCRKRC': 0.00156039969867508, 'CABINGEVR': 0.007024848242029841, 'TOBYR': 0.01403864815865069, 'FUCIG18': 0.014292336464195421, 'EDUHIGHCAT': 0.01553482815257469, 'IRALCRC': 0.019971266796132148, 'IRHALLUCREC': 0.025384930318243723, 'IRMETHAMREC': 0.025530471331852767, 'IRECSTMOREC': 0.027306048688251428, 'IRALCFY': 0.03569536324916281, 'IRMJRC': 0.04540413860771489, 'AGE2': 0.053265140072434325, 'TXYRRECVD2': 0.08829644895606914, 'IRHERRC': 0.27924138576545265}\n",
      "\n",
      "IRLSDRC 9  | TEST 114\n",
      "\n",
      "{'NAME': 'Test Scripter', 'IRSEX': 2, 'EDUHIGHCAT': 2, 'AGE2': 7, 'IRALCRC': 1, 'IRALCFY': 300, 'CABINGEVR': 1, 'IRALCAGE': 17, 'TXYRRECVD2': 1, 'TXEVRRCVD2': 0, 'IRCIGRC': 1, 'CIGDLYMO': 1, 'CIGAGE': 991, 'TOBYR': 1, 'FUCIG18': 2, 'IRMJRC': 1, 'IRMJFY': 20, 'FUMJ18': 1, 'IRCOCRC': 9, 'IRCRKRC': 3, 'IRHERRC': 1, 'IRHALLUCREC': 2, 'IRLSDRC': 9, 'IRECSTMOREC': 3, 'IRINHALREC': 3, 'IRMETHAMREC': 3, 'ADDPREV': 1, 'ADDSCEV': 1, 'BOOKED': 1}\n"
     ]
    },
    {
     "name": "stderr",
     "output_type": "stream",
     "text": [
      "  0%|                                                                                            | 0/1 [00:00<?, ?it/s]C:\\Users\\camke\\Anaconda3\\lib\\site-packages\\shap\\explainers\\kernel.py:535: UserWarning: l1_reg=\"auto\" is deprecated and in the next version (v0.29) the behavior will change from a conditional use of AIC to simply \"num_features(10)\"!\n",
      "  \"l1_reg=\\\"auto\\\" is deprecated and in the next version (v0.29) the behavior will change from a \" \\\n",
      "C:\\Users\\camke\\Anaconda3\\lib\\site-packages\\shap\\explainers\\kernel.py:535: UserWarning: l1_reg=\"auto\" is deprecated and in the next version (v0.29) the behavior will change from a conditional use of AIC to simply \"num_features(10)\"!\n",
      "  \"l1_reg=\\\"auto\\\" is deprecated and in the next version (v0.29) the behavior will change from a \" \\\n",
      "100%|████████████████████████████████████████████████████████████████████████████████████| 1/1 [00:02<00:00,  2.33s/it]\n"
     ]
    },
    {
     "name": "stdout",
     "output_type": "stream",
     "text": [
      "Predicted Probability: 81.739%\n",
      "Percentile of Predicted Probability: 98.619%\n",
      "Feature Importance (sorted low to high): {'ADDSCEV': -0.07046717769003785, 'ADDPREV': -0.052467464543245745, 'CIGAGE': -0.025145404633839963, 'IRALCAGE': -0.019857930030083737, 'TOBYR': -0.01349093026922138, 'FUCIG18': -0.01200330553229903, 'IRSEX': -0.009428206856064603, 'IRLSDRC': -0.007464290620860681, 'BOOKED': -0.007188501736048181, 'IRCOCRC': -0.004403034797638372, 'CIGDLYMO': 0.0, 'TXEVRRCVD2': 0.0, 'IRCRKRC': 0.0022669927890077712, 'CABINGEVR': 0.007081728687260452, 'EDUHIGHCAT': 0.010973077376743412, 'IRMJFY': 0.013042720658053286, 'IRALCRC': 0.015441884950748053, 'IRMETHAMREC': 0.016964735199433534, 'FUMJ18': 0.01714870277376193, 'IRCIGRC': 0.018930222384870354, 'IRECSTMOREC': 0.02961996217130544, 'IRMJRC': 0.04524142919991103, 'IRHALLUCREC': 0.04967913558548609, 'IRALCFY': 0.052825662360768244, 'AGE2': 0.06332054101510604, 'IRINHALREC': 0.06345096043721343, 'TXYRRECVD2': 0.08384031896447786, 'IRHERRC': 0.3870324845152517}\n",
      "\n",
      "IRLSDRC 1  | TEST 115\n",
      "\n",
      "{'NAME': 'Test Scripter', 'IRSEX': 1, 'EDUHIGHCAT': 5, 'AGE2': 6, 'IRALCRC': 9, 'IRALCFY': 50, 'CABINGEVR': 2, 'IRALCAGE': 20, 'TXYRRECVD2': 1, 'TXEVRRCVD2': 0, 'IRCIGRC': 4, 'CIGDLYMO': 91, 'CIGAGE': 99, 'TOBYR': 1, 'FUCIG18': 2, 'IRMJRC': 1, 'IRMJFY': 1, 'FUMJ18': 2, 'IRCOCRC': 9, 'IRCRKRC': 3, 'IRHERRC': 1, 'IRHALLUCREC': 1, 'IRLSDRC': 1, 'IRECSTMOREC': 2, 'IRINHALREC': 3, 'IRMETHAMREC': 3, 'ADDPREV': 2, 'ADDSCEV': 94, 'BOOKED': 1}\n"
     ]
    },
    {
     "name": "stderr",
     "output_type": "stream",
     "text": [
      "  0%|                                                                                            | 0/1 [00:00<?, ?it/s]C:\\Users\\camke\\Anaconda3\\lib\\site-packages\\shap\\explainers\\kernel.py:535: UserWarning: l1_reg=\"auto\" is deprecated and in the next version (v0.29) the behavior will change from a conditional use of AIC to simply \"num_features(10)\"!\n",
      "  \"l1_reg=\\\"auto\\\" is deprecated and in the next version (v0.29) the behavior will change from a \" \\\n",
      "C:\\Users\\camke\\Anaconda3\\lib\\site-packages\\shap\\explainers\\kernel.py:535: UserWarning: l1_reg=\"auto\" is deprecated and in the next version (v0.29) the behavior will change from a conditional use of AIC to simply \"num_features(10)\"!\n",
      "  \"l1_reg=\\\"auto\\\" is deprecated and in the next version (v0.29) the behavior will change from a \" \\\n",
      "100%|████████████████████████████████████████████████████████████████████████████████████| 1/1 [00:02<00:00,  2.33s/it]\n"
     ]
    },
    {
     "name": "stdout",
     "output_type": "stream",
     "text": [
      "Predicted Probability: 27.047%\n",
      "Percentile of Predicted Probability: 82.184%\n",
      "Feature Importance (sorted low to high): {'ADDSCEV': -0.3462226680012642, 'EDUHIGHCAT': -0.1050917060941421, 'IRALCRC': -0.0758857236508099, 'IRCIGRC': -0.0712935436836053, 'IRLSDRC': -0.03568702517911686, 'IRALCAGE': -0.035606610187602514, 'CABINGEVR': -0.02193487843816369, 'IRCOCRC': -0.012948800537095614, 'FUMJ18': -0.010720576785602079, 'TOBYR': -0.0103916384325769, 'FUCIG18': -0.009940179032439083, 'BOOKED': -0.008633830452986584, 'CIGDLYMO': 0.0, 'IRMJFY': 0.0, 'TXEVRRCVD2': 0.0, 'IRCRKRC': 0.004379623222745162, 'IRMETHAMREC': 0.010320086963024402, 'IRALCFY': 0.012096115816245145, 'IRSEX': 0.016626685904674893, 'ADDPREV': 0.021468674107372063, 'IRECSTMOREC': 0.03270722719094297, 'IRMJRC': 0.03546347533129252, 'IRINHALREC': 0.04097537274842661, 'AGE2': 0.0468030117499615, 'TXYRRECVD2': 0.06590993257646105, 'IRHALLUCREC': 0.06978791434321391, 'CIGAGE': 0.2253573522650923, 'IRHERRC': 0.2704861802880365}\n",
      "\n",
      "IRLSDRC 2  | TEST 116\n",
      "\n",
      "{'NAME': 'Test Scripter', 'IRSEX': 2, 'EDUHIGHCAT': 5, 'AGE2': 16, 'IRALCRC': 9, 'IRALCFY': 1, 'CABINGEVR': 991, 'IRALCAGE': 20, 'TXYRRECVD2': 1, 'TXEVRRCVD2': 1, 'IRCIGRC': 2, 'CIGDLYMO': 1, 'CIGAGE': 994, 'TOBYR': 0, 'FUCIG18': 2, 'IRMJRC': 9, 'IRMJFY': 50, 'FUMJ18': 2, 'IRCOCRC': 9, 'IRCRKRC': 9, 'IRHERRC': 3, 'IRHALLUCREC': 2, 'IRLSDRC': 2, 'IRECSTMOREC': 3, 'IRINHALREC': 3, 'IRMETHAMREC': 1, 'ADDPREV': 2, 'ADDSCEV': 2, 'BOOKED': 97}\n"
     ]
    },
    {
     "name": "stderr",
     "output_type": "stream",
     "text": [
      "  0%|                                                                                            | 0/1 [00:00<?, ?it/s]C:\\Users\\camke\\Anaconda3\\lib\\site-packages\\shap\\explainers\\kernel.py:535: UserWarning: l1_reg=\"auto\" is deprecated and in the next version (v0.29) the behavior will change from a conditional use of AIC to simply \"num_features(10)\"!\n",
      "  \"l1_reg=\\\"auto\\\" is deprecated and in the next version (v0.29) the behavior will change from a \" \\\n",
      "C:\\Users\\camke\\Anaconda3\\lib\\site-packages\\shap\\explainers\\kernel.py:535: UserWarning: l1_reg=\"auto\" is deprecated and in the next version (v0.29) the behavior will change from a conditional use of AIC to simply \"num_features(10)\"!\n",
      "  \"l1_reg=\\\"auto\\\" is deprecated and in the next version (v0.29) the behavior will change from a \" \\\n",
      "100%|████████████████████████████████████████████████████████████████████████████████████| 1/1 [00:02<00:00,  2.38s/it]\n"
     ]
    },
    {
     "name": "stdout",
     "output_type": "stream",
     "text": [
      "Predicted Probability: 4.706%\n",
      "Percentile of Predicted Probability: 13.862%\n",
      "Feature Importance (sorted low to high): {'EDUHIGHCAT': -0.0644298069315192, 'IRALCRC': -0.05664964063837269, 'AGE2': -0.05537856641338963, 'ADDSCEV': -0.04258434750963054, 'BOOKED': -0.042533387802853734, 'CIGAGE': -0.03993561239856078, 'IRALCAGE': -0.024302147260548468, 'IRCIGRC': -0.020471402424829116, 'IRMJRC': -0.01517308887265495, 'FUCIG18': -0.007768168017832769, 'IRCOCRC': -0.005837181596060559, 'FUMJ18': -0.00555605373209106, 'IRSEX': -0.005298261893390117, 'IRALCFY': -0.0026243260602552554, 'CIGDLYMO': 0.0, 'IRCRKRC': 0.0, 'TXEVRRCVD2': 0.0, 'CABINGEVR': 0.003947972843343028, 'TOBYR': 0.007307240892396774, 'IRLSDRC': 0.012679296437464432, 'IRECSTMOREC': 0.014038796723998534, 'ADDPREV': 0.01664239882484398, 'IRMJFY': 0.01912661734112442, 'IRHALLUCREC': 0.022253886059266655, 'IRINHALREC': 0.031337190383869, 'IRHERRC': 0.04599877299339783, 'TXYRRECVD2': 0.046565908487307184, 'IRMETHAMREC': 0.05325574210662183}\n",
      "\n",
      "IRLSDRC 3  | TEST 117\n",
      "\n",
      "{'NAME': 'Test Scripter', 'IRSEX': 1, 'EDUHIGHCAT': 5, 'AGE2': 3, 'IRALCRC': 2, 'IRALCFY': 12, 'CABINGEVR': 2, 'IRALCAGE': 17, 'TXYRRECVD2': 1, 'TXEVRRCVD2': 0, 'IRCIGRC': 2, 'CIGDLYMO': 1, 'CIGAGE': 15, 'TOBYR': 1, 'FUCIG18': 2, 'IRMJRC': 2, 'IRMJFY': 10, 'FUMJ18': 2, 'IRCOCRC': 1, 'IRCRKRC': 1, 'IRHERRC': 1, 'IRHALLUCREC': 3, 'IRLSDRC': 3, 'IRECSTMOREC': 2, 'IRINHALREC': 2, 'IRMETHAMREC': 3, 'ADDPREV': 1, 'ADDSCEV': 2, 'BOOKED': 94}\n"
     ]
    },
    {
     "name": "stderr",
     "output_type": "stream",
     "text": [
      "  0%|                                                                                            | 0/1 [00:00<?, ?it/s]C:\\Users\\camke\\Anaconda3\\lib\\site-packages\\shap\\explainers\\kernel.py:535: UserWarning: l1_reg=\"auto\" is deprecated and in the next version (v0.29) the behavior will change from a conditional use of AIC to simply \"num_features(10)\"!\n",
      "  \"l1_reg=\\\"auto\\\" is deprecated and in the next version (v0.29) the behavior will change from a \" \\\n",
      "C:\\Users\\camke\\Anaconda3\\lib\\site-packages\\shap\\explainers\\kernel.py:535: UserWarning: l1_reg=\"auto\" is deprecated and in the next version (v0.29) the behavior will change from a conditional use of AIC to simply \"num_features(10)\"!\n",
      "  \"l1_reg=\\\"auto\\\" is deprecated and in the next version (v0.29) the behavior will change from a \" \\\n",
      "100%|████████████████████████████████████████████████████████████████████████████████████| 1/1 [00:02<00:00,  2.35s/it]\n"
     ]
    },
    {
     "name": "stdout",
     "output_type": "stream",
     "text": [
      "Predicted Probability: 60.000%\n",
      "Percentile of Predicted Probability: 95.359%\n",
      "Feature Importance (sorted low to high): {'EDUHIGHCAT': -0.09512761880749768, 'BOOKED': -0.08155963497179047, 'ADDSCEV': -0.06686495513714072, 'ADDPREV': -0.05324063913326761, 'IRCRKRC': -0.05277464727788084, 'CABINGEVR': -0.027622946393013742, 'IRCIGRC': -0.025869020744161725, 'CIGAGE': -0.021505895545063186, 'TOBYR': -0.017052628854338697, 'IRALCAGE': -0.012697392199460145, 'FUCIG18': -0.012673901660866849, 'FUMJ18': -0.011690369663993477, 'IRALCRC': -0.0015032986099478007, 'CIGDLYMO': 0.0, 'TXEVRRCVD2': 0.0, 'IRMJFY': 0.0038315235999853703, 'IRLSDRC': 0.00524669476340045, 'IRSEX': 0.01608275648005919, 'IRALCFY': 0.01746759643295584, 'IRHALLUCREC': 0.02143845619301063, 'IRMETHAMREC': 0.02669582636301082, 'IRMJRC': 0.030631718442513223, 'IRECSTMOREC': 0.05207482133288205, 'AGE2': 0.08055868728460674, 'IRCOCRC': 0.08330252990016618, 'TXYRRECVD2': 0.08693470191371261, 'IRINHALREC': 0.13726038624925418, 'IRHERRC': 0.3562102580550986}\n",
      "\n",
      "IRECSTMOREC 9  | TEST 118\n",
      "\n",
      "{'NAME': 'Test Scripter', 'IRSEX': 1, 'EDUHIGHCAT': 1, 'AGE2': 5, 'IRALCRC': 1, 'IRALCFY': 100, 'CABINGEVR': 2, 'IRALCAGE': 21, 'TXYRRECVD2': 0, 'TXEVRRCVD2': 0, 'IRCIGRC': 3, 'CIGDLYMO': 1, 'CIGAGE': 99, 'TOBYR': 1, 'FUCIG18': 2, 'IRMJRC': 3, 'IRMJFY': 3, 'FUMJ18': 2, 'IRCOCRC': 1, 'IRCRKRC': 9, 'IRHERRC': 9, 'IRHALLUCREC': 1, 'IRLSDRC': 2, 'IRECSTMOREC': 9, 'IRINHALREC': 1, 'IRMETHAMREC': 1, 'ADDPREV': 2, 'ADDSCEV': 2, 'BOOKED': 97}\n"
     ]
    },
    {
     "name": "stderr",
     "output_type": "stream",
     "text": [
      "  0%|                                                                                            | 0/1 [00:00<?, ?it/s]C:\\Users\\camke\\Anaconda3\\lib\\site-packages\\shap\\explainers\\kernel.py:535: UserWarning: l1_reg=\"auto\" is deprecated and in the next version (v0.29) the behavior will change from a conditional use of AIC to simply \"num_features(10)\"!\n",
      "  \"l1_reg=\\\"auto\\\" is deprecated and in the next version (v0.29) the behavior will change from a \" \\\n",
      "C:\\Users\\camke\\Anaconda3\\lib\\site-packages\\shap\\explainers\\kernel.py:535: UserWarning: l1_reg=\"auto\" is deprecated and in the next version (v0.29) the behavior will change from a conditional use of AIC to simply \"num_features(10)\"!\n",
      "  \"l1_reg=\\\"auto\\\" is deprecated and in the next version (v0.29) the behavior will change from a \" \\\n",
      "100%|████████████████████████████████████████████████████████████████████████████████████| 1/1 [00:02<00:00,  2.35s/it]\n"
     ]
    },
    {
     "name": "stdout",
     "output_type": "stream",
     "text": [
      "Predicted Probability: 81.739%\n",
      "Percentile of Predicted Probability: 98.619%\n",
      "Feature Importance (sorted low to high): {'IRALCAGE': -0.08086510786283341, 'BOOKED': -0.07447539383226298, 'ADDSCEV': -0.06138887548815025, 'IRCIGRC': -0.05743037394153311, 'CABINGEVR': -0.030712916575246607, 'TOBYR': -0.017934822151020047, 'FUMJ18': -0.013233852742718544, 'FUCIG18': -0.012983630479833863, 'IRMJRC': -0.00239206338387582, 'CIGDLYMO': 0.0, 'IRCRKRC': 0.0, 'IRHERRC': 0.0, 'IRMJFY': 0.0, 'TXEVRRCVD2': 0.0, 'TXYRRECVD2': 0.0, 'IRECSTMOREC': 0.003770059617527022, 'IRALCRC': 0.011541718317043537, 'IRSEX': 0.018214927819462323, 'ADDPREV': 0.029408182915809655, 'IRLSDRC': 0.034737959423846776, 'IRALCFY': 0.03984376880270857, 'EDUHIGHCAT': 0.06984513903815254, 'AGE2': 0.07555239007076514, 'IRHALLUCREC': 0.08348934200257146, 'IRCOCRC': 0.09173479593634903, 'IRMETHAMREC': 0.10874176280094056, 'IRINHALREC': 0.11463298918805798, 'CIGAGE': 0.32484831288429916}\n",
      "\n",
      "IRECSTMOREC 1  | TEST 119\n",
      "\n",
      "{'NAME': 'Test Scripter', 'IRSEX': 2, 'EDUHIGHCAT': 3, 'AGE2': 8, 'IRALCRC': 3, 'IRALCFY': 300, 'CABINGEVR': 1, 'IRALCAGE': 20, 'TXYRRECVD2': 0, 'TXEVRRCVD2': 0, 'IRCIGRC': 1, 'CIGDLYMO': 91, 'CIGAGE': 10, 'TOBYR': 0, 'FUCIG18': 1, 'IRMJRC': 3, 'IRMJFY': 100, 'FUMJ18': 2, 'IRCOCRC': 3, 'IRCRKRC': 9, 'IRHERRC': 2, 'IRHALLUCREC': 3, 'IRLSDRC': 1, 'IRECSTMOREC': 1, 'IRINHALREC': 2, 'IRMETHAMREC': 9, 'ADDPREV': 2, 'ADDSCEV': 94, 'BOOKED': 2}\n"
     ]
    },
    {
     "name": "stderr",
     "output_type": "stream",
     "text": [
      "  0%|                                                                                            | 0/1 [00:00<?, ?it/s]C:\\Users\\camke\\Anaconda3\\lib\\site-packages\\shap\\explainers\\kernel.py:535: UserWarning: l1_reg=\"auto\" is deprecated and in the next version (v0.29) the behavior will change from a conditional use of AIC to simply \"num_features(10)\"!\n",
      "  \"l1_reg=\\\"auto\\\" is deprecated and in the next version (v0.29) the behavior will change from a \" \\\n",
      "C:\\Users\\camke\\Anaconda3\\lib\\site-packages\\shap\\explainers\\kernel.py:535: UserWarning: l1_reg=\"auto\" is deprecated and in the next version (v0.29) the behavior will change from a conditional use of AIC to simply \"num_features(10)\"!\n",
      "  \"l1_reg=\\\"auto\\\" is deprecated and in the next version (v0.29) the behavior will change from a \" \\\n",
      "100%|████████████████████████████████████████████████████████████████████████████████████| 1/1 [00:02<00:00,  2.33s/it]\n"
     ]
    },
    {
     "name": "stdout",
     "output_type": "stream",
     "text": [
      "Predicted Probability: 27.047%\n",
      "Percentile of Predicted Probability: 82.184%\n",
      "Feature Importance (sorted low to high): {'ADDSCEV': -0.35777712028870245, 'IRALCAGE': -0.035434610572201555, 'IRLSDRC': -0.0344069345820509, 'CIGAGE': -0.021761530504380282, 'IRALCRC': -0.011227721325778522, 'IRSEX': -0.01037170232667358, 'FUMJ18': -0.01019335133672435, 'IRMJRC': -0.0038841067898348416, 'EDUHIGHCAT': -0.0017423202621454428, 'BOOKED': 0.0, 'CABINGEVR': 0.0, 'CIGDLYMO': 0.0, 'IRCRKRC': 0.0, 'IRMETHAMREC': 0.0, 'TXEVRRCVD2': 0.0, 'TXYRRECVD2': 0.0, 'FUCIG18': 0.008513588526681715, 'TOBYR': 0.011071974622818226, 'IRMJFY': 0.01530401219933341, 'IRHALLUCREC': 0.017100078639144804, 'IRCIGRC': 0.021332624261893335, 'ADDPREV': 0.025518556763100567, 'IRCOCRC': 0.02725955035722477, 'IRECSTMOREC': 0.04558851505253228, 'AGE2': 0.04861093004755372, 'IRALCFY': 0.05077022175342065, 'IRINHALREC': 0.11278303284614753, 'IRHERRC': 0.21097078495072508}\n",
      "\n",
      "IRECSTMOREC 2  | TEST 120\n",
      "\n",
      "{'NAME': 'Test Scripter', 'IRSEX': 1, 'EDUHIGHCAT': 3, 'AGE2': 16, 'IRALCRC': 9, 'IRALCFY': 991, 'CABINGEVR': 2, 'IRALCAGE': 17, 'TXYRRECVD2': 0, 'TXEVRRCVD2': 1, 'IRCIGRC': 1, 'CIGDLYMO': 2, 'CIGAGE': 22, 'TOBYR': 0, 'FUCIG18': 1, 'IRMJRC': 2, 'IRMJFY': 10, 'FUMJ18': 2, 'IRCOCRC': 9, 'IRCRKRC': 3, 'IRHERRC': 1, 'IRHALLUCREC': 3, 'IRLSDRC': 9, 'IRECSTMOREC': 2, 'IRINHALREC': 9, 'IRMETHAMREC': 3, 'ADDPREV': 94, 'ADDSCEV': 1, 'BOOKED': 97}\n"
     ]
    },
    {
     "name": "stderr",
     "output_type": "stream",
     "text": [
      "  0%|                                                                                            | 0/1 [00:00<?, ?it/s]C:\\Users\\camke\\Anaconda3\\lib\\site-packages\\shap\\explainers\\kernel.py:535: UserWarning: l1_reg=\"auto\" is deprecated and in the next version (v0.29) the behavior will change from a conditional use of AIC to simply \"num_features(10)\"!\n",
      "  \"l1_reg=\\\"auto\\\" is deprecated and in the next version (v0.29) the behavior will change from a \" \\\n",
      "C:\\Users\\camke\\Anaconda3\\lib\\site-packages\\shap\\explainers\\kernel.py:535: UserWarning: l1_reg=\"auto\" is deprecated and in the next version (v0.29) the behavior will change from a conditional use of AIC to simply \"num_features(10)\"!\n",
      "  \"l1_reg=\\\"auto\\\" is deprecated and in the next version (v0.29) the behavior will change from a \" \\\n",
      "100%|████████████████████████████████████████████████████████████████████████████████████| 1/1 [00:02<00:00,  2.31s/it]\n"
     ]
    },
    {
     "name": "stdout",
     "output_type": "stream",
     "text": [
      "Predicted Probability: 65.574%\n",
      "Percentile of Predicted Probability: 97.614%\n",
      "Feature Importance (sorted low to high): {'IRALCRC': -0.09356427414974397, 'AGE2': -0.08409777854102454, 'ADDSCEV': -0.0804238401035727, 'BOOKED': -0.07268182944439686, 'CABINGEVR': -0.02745021688858018, 'IRALCAGE': -0.012292067989748967, 'FUMJ18': -0.012093074397430459, 'IRCOCRC': -0.01035131692033403, 'IRINHALREC': -0.006517006408600423, 'IRALCFY': -0.006394382174864766, 'IRCRKRC': -0.0026216019084617237, 'CIGDLYMO': 0.0, 'IRLSDRC': 0.0, 'IRMJFY': 0.0, 'TXEVRRCVD2': 0.0, 'TXYRRECVD2': 0.0, 'EDUHIGHCAT': 0.008427020965982523, 'IRSEX': 0.013400628136331083, 'TOBYR': 0.013433740903995794, 'FUCIG18': 0.014813181517596696, 'IRCIGRC': 0.014879522998865025, 'IRMETHAMREC': 0.017411077653752688, 'IRHALLUCREC': 0.018747280212114636, 'IRMJRC': 0.030409289127032724, 'CIGAGE': 0.03999723951563397, 'IRECSTMOREC': 0.05125095110258526, 'ADDPREV': 0.3251504054500304, 'IRHERRC': 0.35385776427310356}\n",
      "\n",
      "IRECSTMOREC 3  | TEST 121\n",
      "\n",
      "{'NAME': 'Test Scripter', 'IRSEX': 1, 'EDUHIGHCAT': 1, 'AGE2': 6, 'IRALCRC': 1, 'IRALCFY': 50, 'CABINGEVR': 991, 'IRALCAGE': 21, 'TXYRRECVD2': 1, 'TXEVRRCVD2': 1, 'IRCIGRC': 4, 'CIGDLYMO': 91, 'CIGAGE': 99, 'TOBYR': 1, 'FUCIG18': 2, 'IRMJRC': 2, 'IRMJFY': 100, 'FUMJ18': 1, 'IRCOCRC': 1, 'IRCRKRC': 9, 'IRHERRC': 2, 'IRHALLUCREC': 9, 'IRLSDRC': 1, 'IRECSTMOREC': 3, 'IRINHALREC': 9, 'IRMETHAMREC': 2, 'ADDPREV': 2, 'ADDSCEV': 1, 'BOOKED': 1}\n"
     ]
    },
    {
     "name": "stderr",
     "output_type": "stream",
     "text": [
      "  0%|                                                                                            | 0/1 [00:00<?, ?it/s]C:\\Users\\camke\\Anaconda3\\lib\\site-packages\\shap\\explainers\\kernel.py:535: UserWarning: l1_reg=\"auto\" is deprecated and in the next version (v0.29) the behavior will change from a conditional use of AIC to simply \"num_features(10)\"!\n",
      "  \"l1_reg=\\\"auto\\\" is deprecated and in the next version (v0.29) the behavior will change from a \" \\\n",
      "C:\\Users\\camke\\Anaconda3\\lib\\site-packages\\shap\\explainers\\kernel.py:535: UserWarning: l1_reg=\"auto\" is deprecated and in the next version (v0.29) the behavior will change from a conditional use of AIC to simply \"num_features(10)\"!\n",
      "  \"l1_reg=\\\"auto\\\" is deprecated and in the next version (v0.29) the behavior will change from a \" \\\n",
      "100%|████████████████████████████████████████████████████████████████████████████████████| 1/1 [00:02<00:00,  2.33s/it]\n"
     ]
    },
    {
     "name": "stdout",
     "output_type": "stream",
     "text": [
      "Predicted Probability: 91.892%\n",
      "Percentile of Predicted Probability: 99.700%\n",
      "Feature Importance (sorted low to high): {'IRALCAGE': -0.08233248928677206, 'IRCIGRC': -0.0733944329084836, 'ADDSCEV': -0.06625103733935256, 'IRLSDRC': -0.040926158238496824, 'TOBYR': -0.018665428338480727, 'FUCIG18': -0.01759476856775133, 'BOOKED': -0.013033400813500295, 'IRHALLUCREC': -0.01133905668059898, 'CIGDLYMO': 0.0, 'IRINHALREC': 0.0, 'TXEVRRCVD2': 0.0, 'IRCRKRC': 0.006812681254519115, 'CABINGEVR': 0.008767425924204097, 'FUMJ18': 0.010813078006128518, 'IRALCFY': 0.01282886648189796, 'IRMJFY': 0.014284860349324191, 'IRSEX': 0.015043735350435516, 'IRALCRC': 0.016896070661372664, 'IRECSTMOREC': 0.022263023772952084, 'ADDPREV': 0.022585414797273107, 'IRMJRC': 0.03808583593074344, 'EDUHIGHCAT': 0.04745942237212142, 'AGE2': 0.06447498458349371, 'IRCOCRC': 0.06959223712851026, 'TXYRRECVD2': 0.07406432344784453, 'IRMETHAMREC': 0.12130662228045841, 'IRHERRC': 0.2617413749315176, 'CIGAGE': 0.27298874183179167}\n",
      "\n",
      "IRINHALREC 9  | TEST 122\n",
      "\n",
      "{'NAME': 'Test Scripter', 'IRSEX': 1, 'EDUHIGHCAT': 1, 'AGE2': 17, 'IRALCRC': 9, 'IRALCFY': 300, 'CABINGEVR': 2, 'IRALCAGE': 14, 'TXYRRECVD2': 0, 'TXEVRRCVD2': 0, 'IRCIGRC': 1, 'CIGDLYMO': 91, 'CIGAGE': 17, 'TOBYR': 1, 'FUCIG18': 2, 'IRMJRC': 1, 'IRMJFY': 50, 'FUMJ18': 1, 'IRCOCRC': 2, 'IRCRKRC': 2, 'IRHERRC': 2, 'IRHALLUCREC': 9, 'IRLSDRC': 1, 'IRECSTMOREC': 2, 'IRINHALREC': 9, 'IRMETHAMREC': 3, 'ADDPREV': 94, 'ADDSCEV': 94, 'BOOKED': 1}\n"
     ]
    },
    {
     "name": "stderr",
     "output_type": "stream",
     "text": [
      "  0%|                                                                                            | 0/1 [00:00<?, ?it/s]C:\\Users\\camke\\Anaconda3\\lib\\site-packages\\shap\\explainers\\kernel.py:535: UserWarning: l1_reg=\"auto\" is deprecated and in the next version (v0.29) the behavior will change from a conditional use of AIC to simply \"num_features(10)\"!\n",
      "  \"l1_reg=\\\"auto\\\" is deprecated and in the next version (v0.29) the behavior will change from a \" \\\n",
      "C:\\Users\\camke\\Anaconda3\\lib\\site-packages\\shap\\explainers\\kernel.py:535: UserWarning: l1_reg=\"auto\" is deprecated and in the next version (v0.29) the behavior will change from a conditional use of AIC to simply \"num_features(10)\"!\n",
      "  \"l1_reg=\\\"auto\\\" is deprecated and in the next version (v0.29) the behavior will change from a \" \\\n",
      "100%|████████████████████████████████████████████████████████████████████████████████████| 1/1 [00:02<00:00,  2.37s/it]\n"
     ]
    },
    {
     "name": "stdout",
     "output_type": "stream",
     "text": [
      "Predicted Probability: 23.109%\n",
      "Percentile of Predicted Probability: 77.680%\n",
      "Feature Importance (sorted low to high): {'ADDSCEV': -0.3347141740608699, 'AGE2': -0.118964659864259, 'IRALCRC': -0.07444751930280091, 'IRCRKRC': -0.04126291381609767, 'IRLSDRC': -0.03722000716444429, 'CIGAGE': -0.02293793352326614, 'CABINGEVR': -0.019022008673269884, 'IRINHALREC': -0.013929006040274253, 'FUCIG18': -0.013507641614269057, 'TOBYR': -0.011287338001380154, 'BOOKED': -0.005637691163987317, 'IRHALLUCREC': -0.005315028992397056, 'CIGDLYMO': 0.0, 'TXEVRRCVD2': 0.0, 'TXYRRECVD2': 0.0, 'FUMJ18': 0.010544262891504407, 'IRCIGRC': 0.01115957596506649, 'IRMETHAMREC': 0.011341161487453857, 'IRSEX': 0.012462607887719655, 'IRALCAGE': 0.01736818927861753, 'IRMJFY': 0.025803065480450124, 'IRMJRC': 0.035741111561725845, 'IRECSTMOREC': 0.03783182291668939, 'IRALCFY': 0.048375309605116365, 'EDUHIGHCAT': 0.053108315303680355, 'IRCOCRC': 0.0699615495947738, 'IRHERRC': 0.19883267048034473, 'ADDPREV': 0.23435594527296744}\n",
      "\n",
      "IRINHALREC 1  | TEST 123\n",
      "\n",
      "{'NAME': 'Test Scripter', 'IRSEX': 2, 'EDUHIGHCAT': 1, 'AGE2': 13, 'IRALCRC': 2, 'IRALCFY': 993, 'CABINGEVR': 1, 'IRALCAGE': 991, 'TXYRRECVD2': 1, 'TXEVRRCVD2': 1, 'IRCIGRC': 2, 'CIGDLYMO': 1, 'CIGAGE': 99, 'TOBYR': 0, 'FUCIG18': 2, 'IRMJRC': 9, 'IRMJFY': 300, 'FUMJ18': 1, 'IRCOCRC': 9, 'IRCRKRC': 2, 'IRHERRC': 9, 'IRHALLUCREC': 3, 'IRLSDRC': 9, 'IRECSTMOREC': 1, 'IRINHALREC': 1, 'IRMETHAMREC': 9, 'ADDPREV': 1, 'ADDSCEV': 94, 'BOOKED': 2}\n"
     ]
    },
    {
     "name": "stderr",
     "output_type": "stream",
     "text": [
      "  0%|                                                                                            | 0/1 [00:00<?, ?it/s]C:\\Users\\camke\\Anaconda3\\lib\\site-packages\\shap\\explainers\\kernel.py:535: UserWarning: l1_reg=\"auto\" is deprecated and in the next version (v0.29) the behavior will change from a conditional use of AIC to simply \"num_features(10)\"!\n",
      "  \"l1_reg=\\\"auto\\\" is deprecated and in the next version (v0.29) the behavior will change from a \" \\\n",
      "C:\\Users\\camke\\Anaconda3\\lib\\site-packages\\shap\\explainers\\kernel.py:535: UserWarning: l1_reg=\"auto\" is deprecated and in the next version (v0.29) the behavior will change from a conditional use of AIC to simply \"num_features(10)\"!\n",
      "  \"l1_reg=\\\"auto\\\" is deprecated and in the next version (v0.29) the behavior will change from a \" \\\n",
      "100%|████████████████████████████████████████████████████████████████████████████████████| 1/1 [00:02<00:00,  2.33s/it]\n"
     ]
    },
    {
     "name": "stdout",
     "output_type": "stream",
     "text": [
      "Predicted Probability: 23.109%\n",
      "Percentile of Predicted Probability: 77.680%\n",
      "Feature Importance (sorted low to high): {'ADDSCEV': -0.3658013366588785, 'ADDPREV': -0.045680213412605634, 'IRCRKRC': -0.042099722535230935, 'IRCIGRC': -0.03241401706276919, 'IRMJRC': -0.01897684003289611, 'FUCIG18': -0.011172005624579127, 'IRSEX': -0.009675178846535844, 'IRCOCRC': -0.007463556294617245, 'IRMETHAMREC': -0.007242252407020543, 'IRALCFY': -0.005642624330907051, 'IRHERRC': -0.0035186100315309247, 'IRALCRC': -0.0017484662192323776, 'CIGDLYMO': 0.0, 'TXEVRRCVD2': 0.0, 'IRLSDRC': 0.00030678641640580987, 'BOOKED': 0.0018803847493553422, 'CABINGEVR': 0.00506435315394669, 'TOBYR': 0.009855132629318107, 'FUMJ18': 0.011640629865865556, 'IRHALLUCREC': 0.015701030547162292, 'AGE2': 0.01768500088911861, 'IRALCAGE': 0.017952828274317996, 'IRMJFY': 0.04948484641680522, 'EDUHIGHCAT': 0.052641104240168705, 'IRECSTMOREC': 0.05401546291587133, 'TXYRRECVD2': 0.06971432591636284, 'IRINHALREC': 0.08968952131059987, 'CIGAGE': 0.22444308164029922}\n",
      "\n",
      "IRINHALREC 2  | TEST 124\n",
      "\n",
      "{'NAME': 'Test Scripter', 'IRSEX': 2, 'EDUHIGHCAT': 2, 'AGE2': 11, 'IRALCRC': 1, 'IRALCFY': 1, 'CABINGEVR': 2, 'IRALCAGE': 100, 'TXYRRECVD2': 1, 'TXEVRRCVD2': 1, 'IRCIGRC': 9, 'CIGDLYMO': 2, 'CIGAGE': 991, 'TOBYR': 0, 'FUCIG18': 2, 'IRMJRC': 2, 'IRMJFY': 1, 'FUMJ18': 1, 'IRCOCRC': 1, 'IRCRKRC': 3, 'IRHERRC': 9, 'IRHALLUCREC': 1, 'IRLSDRC': 9, 'IRECSTMOREC': 2, 'IRINHALREC': 2, 'IRMETHAMREC': 3, 'ADDPREV': 1, 'ADDSCEV': 1, 'BOOKED': 2}\n"
     ]
    },
    {
     "name": "stderr",
     "output_type": "stream",
     "text": [
      "  0%|                                                                                            | 0/1 [00:00<?, ?it/s]C:\\Users\\camke\\Anaconda3\\lib\\site-packages\\shap\\explainers\\kernel.py:535: UserWarning: l1_reg=\"auto\" is deprecated and in the next version (v0.29) the behavior will change from a conditional use of AIC to simply \"num_features(10)\"!\n",
      "  \"l1_reg=\\\"auto\\\" is deprecated and in the next version (v0.29) the behavior will change from a \" \\\n",
      "C:\\Users\\camke\\Anaconda3\\lib\\site-packages\\shap\\explainers\\kernel.py:535: UserWarning: l1_reg=\"auto\" is deprecated and in the next version (v0.29) the behavior will change from a conditional use of AIC to simply \"num_features(10)\"!\n",
      "  \"l1_reg=\\\"auto\\\" is deprecated and in the next version (v0.29) the behavior will change from a \" \\\n",
      "100%|████████████████████████████████████████████████████████████████████████████████████| 1/1 [00:02<00:00,  2.37s/it]\n"
     ]
    },
    {
     "name": "stdout",
     "output_type": "stream",
     "text": [
      "Predicted Probability: 64.115%\n",
      "Percentile of Predicted Probability: 96.371%\n",
      "Feature Importance (sorted low to high): {'ADDSCEV': -0.09497300788342512, 'ADDPREV': -0.05809997660713234, 'IRALCAGE': -0.03849135397621481, 'CABINGEVR': -0.03204992843941362, 'CIGAGE': -0.028294687526873863, 'FUCIG18': -0.015059006208060666, 'IRSEX': -0.011187263144098208, 'IRALCFY': -0.00889595682098096, 'IRHERRC': -0.0019066043990882964, 'BOOKED': 0.0, 'CIGDLYMO': 0.0, 'IRMJFY': 0.0, 'TXEVRRCVD2': 0.0, 'IRLSDRC': 0.002500543619480211, 'IRCRKRC': 0.011894885979942454, 'TOBYR': 0.014402055727699759, 'IRALCRC': 0.018841155406665783, 'FUMJ18': 0.02043867396326099, 'EDUHIGHCAT': 0.028149003259729632, 'IRMETHAMREC': 0.028245265985400475, 'IRMJRC': 0.038640723182159054, 'IRCIGRC': 0.04878725885255078, 'AGE2': 0.05086893926788752, 'IRECSTMOREC': 0.0521460096418109, 'IRHALLUCREC': 0.09228271865072138, 'TXYRRECVD2': 0.09743038717631669, 'IRCOCRC': 0.10264365159204364, 'IRINHALREC': 0.16038784607070333}\n",
      "\n",
      "IRINHALREC 3  | TEST 125\n",
      "\n",
      "{'NAME': 'Test Scripter', 'IRSEX': 2, 'EDUHIGHCAT': 1, 'AGE2': 14, 'IRALCRC': 1, 'IRALCFY': 1, 'CABINGEVR': 1, 'IRALCAGE': 20, 'TXYRRECVD2': 1, 'TXEVRRCVD2': 1, 'IRCIGRC': 4, 'CIGDLYMO': 1, 'CIGAGE': 17, 'TOBYR': 1, 'FUCIG18': 1, 'IRMJRC': 3, 'IRMJFY': 100, 'FUMJ18': 1, 'IRCOCRC': 1, 'IRCRKRC': 1, 'IRHERRC': 1, 'IRHALLUCREC': 1, 'IRLSDRC': 3, 'IRECSTMOREC': 9, 'IRINHALREC': 3, 'IRMETHAMREC': 1, 'ADDPREV': 1, 'ADDSCEV': 1, 'BOOKED': 94}\n"
     ]
    },
    {
     "name": "stderr",
     "output_type": "stream",
     "text": [
      "  0%|                                                                                            | 0/1 [00:00<?, ?it/s]C:\\Users\\camke\\Anaconda3\\lib\\site-packages\\shap\\explainers\\kernel.py:535: UserWarning: l1_reg=\"auto\" is deprecated and in the next version (v0.29) the behavior will change from a conditional use of AIC to simply \"num_features(10)\"!\n",
      "  \"l1_reg=\\\"auto\\\" is deprecated and in the next version (v0.29) the behavior will change from a \" \\\n",
      "C:\\Users\\camke\\Anaconda3\\lib\\site-packages\\shap\\explainers\\kernel.py:535: UserWarning: l1_reg=\"auto\" is deprecated and in the next version (v0.29) the behavior will change from a conditional use of AIC to simply \"num_features(10)\"!\n",
      "  \"l1_reg=\\\"auto\\\" is deprecated and in the next version (v0.29) the behavior will change from a \" \\\n",
      "100%|████████████████████████████████████████████████████████████████████████████████████| 1/1 [00:02<00:00,  2.35s/it]\n"
     ]
    },
    {
     "name": "stdout",
     "output_type": "stream",
     "text": [
      "Predicted Probability: 64.115%\n",
      "Percentile of Predicted Probability: 96.371%\n",
      "Feature Importance (sorted low to high): {'IRCIGRC': -0.08616960701453555, 'ADDSCEV': -0.07647865288365195, 'BOOKED': -0.06963229318736862, 'ADDPREV': -0.06077609531204625, 'IRCRKRC': -0.04860552142305413, 'IRALCAGE': -0.03904768276232995, 'CIGAGE': -0.027049460323866806, 'TOBYR': -0.014288091253839647, 'IRECSTMOREC': -0.012737939889892358, 'IRMJRC': -0.0028935970698543145, 'CIGDLYMO': 0.0, 'IRALCFY': 0.0, 'IRSEX': 0.0, 'TXEVRRCVD2': 0.0, 'IRLSDRC': 0.0028775694313091515, 'AGE2': 0.004728896192414733, 'CABINGEVR': 0.005203920394343198, 'FUCIG18': 0.009003985392309427, 'FUMJ18': 0.011232022435367695, 'IRMJFY': 0.015934313545808765, 'IRALCRC': 0.016543403497752462, 'IRINHALREC': 0.06122805546744817, 'EDUHIGHCAT': 0.0658204548030987, 'IRHALLUCREC': 0.08164786224134832, 'TXYRRECVD2': 0.08517683701636097, 'IRCOCRC': 0.08837087076075628, 'IRMETHAMREC': 0.0975276015278772, 'IRHERRC': 0.3710844817853292}\n",
      "\n",
      "IRMETHAMREC 9  | TEST 126\n",
      "\n",
      "{'NAME': 'Test Scripter', 'IRSEX': 2, 'EDUHIGHCAT': 4, 'AGE2': 4, 'IRALCRC': 3, 'IRALCFY': 300, 'CABINGEVR': 991, 'IRALCAGE': 14, 'TXYRRECVD2': 0, 'TXEVRRCVD2': 0, 'IRCIGRC': 3, 'CIGDLYMO': 2, 'CIGAGE': 991, 'TOBYR': 0, 'FUCIG18': 1, 'IRMJRC': 9, 'IRMJFY': 365, 'FUMJ18': 2, 'IRCOCRC': 9, 'IRCRKRC': 9, 'IRHERRC': 3, 'IRHALLUCREC': 9, 'IRLSDRC': 1, 'IRECSTMOREC': 3, 'IRINHALREC': 9, 'IRMETHAMREC': 9, 'ADDPREV': 94, 'ADDSCEV': 2, 'BOOKED': 1}\n"
     ]
    },
    {
     "name": "stderr",
     "output_type": "stream",
     "text": [
      "  0%|                                                                                            | 0/1 [00:00<?, ?it/s]C:\\Users\\camke\\Anaconda3\\lib\\site-packages\\shap\\explainers\\kernel.py:535: UserWarning: l1_reg=\"auto\" is deprecated and in the next version (v0.29) the behavior will change from a conditional use of AIC to simply \"num_features(10)\"!\n",
      "  \"l1_reg=\\\"auto\\\" is deprecated and in the next version (v0.29) the behavior will change from a \" \\\n",
      "C:\\Users\\camke\\Anaconda3\\lib\\site-packages\\shap\\explainers\\kernel.py:535: UserWarning: l1_reg=\"auto\" is deprecated and in the next version (v0.29) the behavior will change from a conditional use of AIC to simply \"num_features(10)\"!\n",
      "  \"l1_reg=\\\"auto\\\" is deprecated and in the next version (v0.29) the behavior will change from a \" \\\n",
      "100%|████████████████████████████████████████████████████████████████████████████████████| 1/1 [00:02<00:00,  2.40s/it]\n"
     ]
    },
    {
     "name": "stdout",
     "output_type": "stream",
     "text": [
      "Predicted Probability: 60.000%\n",
      "Percentile of Predicted Probability: 95.359%\n",
      "Feature Importance (sorted low to high): {'ADDSCEV': -0.0607692664446208, 'IRCIGRC': -0.05396229896732227, 'IRLSDRC': -0.04240911565490596, 'IRMJRC': -0.0241841114481198, 'IRALCRC': -0.018571066209495835, 'CIGAGE': -0.018296386672632392, 'FUMJ18': -0.0144951632769309, 'BOOKED': -0.01338491145812154, 'IRCOCRC': -0.009862895873756772, 'IRSEX': -0.009431497277320788, 'IRHALLUCREC': -0.005571157642101171, 'EDUHIGHCAT': -0.0016925964653749098, 'CIGDLYMO': 0.0, 'FUCIG18': 0.0, 'IRCRKRC': 0.0, 'IRMETHAMREC': 0.0, 'TOBYR': 0.0, 'TXEVRRCVD2': 0.0, 'TXYRRECVD2': 0.0, 'IRALCAGE': 0.011136681422121097, 'IRINHALREC': 0.012522048908122557, 'CABINGEVR': 0.013177864758585761, 'IRECSTMOREC': 0.03311078062352907, 'IRALCFY': 0.060674119307443264, 'IRMJFY': 0.07574018224450191, 'AGE2': 0.07738237206587673, 'IRHERRC': 0.11949831156449403, 'ADDPREV': 0.3069411145082617}\n",
      "\n",
      "IRMETHAMREC 1  | TEST 127\n",
      "\n",
      "{'NAME': 'Test Scripter', 'IRSEX': 2, 'EDUHIGHCAT': 1, 'AGE2': 11, 'IRALCRC': 9, 'IRALCFY': 991, 'CABINGEVR': 1, 'IRALCAGE': 20, 'TXYRRECVD2': 0, 'TXEVRRCVD2': 1, 'IRCIGRC': 9, 'CIGDLYMO': 2, 'CIGAGE': 19, 'TOBYR': 0, 'FUCIG18': 2, 'IRMJRC': 3, 'IRMJFY': 40, 'FUMJ18': 1, 'IRCOCRC': 1, 'IRCRKRC': 3, 'IRHERRC': 3, 'IRHALLUCREC': 1, 'IRLSDRC': 1, 'IRECSTMOREC': 3, 'IRINHALREC': 2, 'IRMETHAMREC': 1, 'ADDPREV': 2, 'ADDSCEV': 2, 'BOOKED': 1}\n"
     ]
    },
    {
     "name": "stderr",
     "output_type": "stream",
     "text": [
      "  0%|                                                                                            | 0/1 [00:00<?, ?it/s]C:\\Users\\camke\\Anaconda3\\lib\\site-packages\\shap\\explainers\\kernel.py:535: UserWarning: l1_reg=\"auto\" is deprecated and in the next version (v0.29) the behavior will change from a conditional use of AIC to simply \"num_features(10)\"!\n",
      "  \"l1_reg=\\\"auto\\\" is deprecated and in the next version (v0.29) the behavior will change from a \" \\\n",
      "C:\\Users\\camke\\Anaconda3\\lib\\site-packages\\shap\\explainers\\kernel.py:535: UserWarning: l1_reg=\"auto\" is deprecated and in the next version (v0.29) the behavior will change from a conditional use of AIC to simply \"num_features(10)\"!\n",
      "  \"l1_reg=\\\"auto\\\" is deprecated and in the next version (v0.29) the behavior will change from a \" \\\n",
      "100%|████████████████████████████████████████████████████████████████████████████████████| 1/1 [00:02<00:00,  2.60s/it]\n"
     ]
    },
    {
     "name": "stdout",
     "output_type": "stream",
     "text": [
      "Predicted Probability: 64.115%\n",
      "Percentile of Predicted Probability: 96.371%\n",
      "Feature Importance (sorted low to high): {'IRALCRC': -0.09342203629370283, 'ADDSCEV': -0.0687572225762988, 'IRLSDRC': -0.03906975968941523, 'CIGAGE': -0.03770745148668392, 'IRALCAGE': -0.03183061189791453, 'IRSEX': -0.013805260359032234, 'FUCIG18': -0.01065730815136301, 'BOOKED': -0.008801072639636254, 'IRMJRC': -0.004803689656116494, 'CIGDLYMO': 0.0, 'IRALCFY': 0.0, 'TXEVRRCVD2': 0.0, 'TXYRRECVD2': 0.0, 'IRCRKRC': 0.0028940139050531166, 'CABINGEVR': 0.009103926052586447, 'TOBYR': 0.010041347338770434, 'FUMJ18': 0.015795707699874373, 'IRMJFY': 0.016604210319717733, 'ADDPREV': 0.025105122549256786, 'IRECSTMOREC': 0.0283601181733458, 'IRCIGRC': 0.03974736736023593, 'AGE2': 0.043098745915915865, 'EDUHIGHCAT': 0.05872742178228277, 'IRHALLUCREC': 0.08489109138397616, 'IRCOCRC': 0.08703869633410463, 'IRMETHAMREC': 0.10757172851345861, 'IRHERRC': 0.12572083092325637, 'IRINHALREC': 0.13285541786941293}\n",
      "\n",
      "IRMETHAMREC 2  | TEST 128\n",
      "\n",
      "{'NAME': 'Test Scripter', 'IRSEX': 2, 'EDUHIGHCAT': 1, 'AGE2': 9, 'IRALCRC': 1, 'IRALCFY': 1, 'CABINGEVR': 991, 'IRALCAGE': 14, 'TXYRRECVD2': 0, 'TXEVRRCVD2': 0, 'IRCIGRC': 3, 'CIGDLYMO': 91, 'CIGAGE': 22, 'TOBYR': 1, 'FUCIG18': 1, 'IRMJRC': 3, 'IRMJFY': 3, 'FUMJ18': 1, 'IRCOCRC': 3, 'IRCRKRC': 1, 'IRHERRC': 2, 'IRHALLUCREC': 3, 'IRLSDRC': 2, 'IRECSTMOREC': 2, 'IRINHALREC': 1, 'IRMETHAMREC': 2, 'ADDPREV': 1, 'ADDSCEV': 2, 'BOOKED': 2}\n"
     ]
    },
    {
     "name": "stderr",
     "output_type": "stream",
     "text": [
      "  0%|                                                                                            | 0/1 [00:00<?, ?it/s]C:\\Users\\camke\\Anaconda3\\lib\\site-packages\\shap\\explainers\\kernel.py:535: UserWarning: l1_reg=\"auto\" is deprecated and in the next version (v0.29) the behavior will change from a conditional use of AIC to simply \"num_features(10)\"!\n",
      "  \"l1_reg=\\\"auto\\\" is deprecated and in the next version (v0.29) the behavior will change from a \" \\\n",
      "C:\\Users\\camke\\Anaconda3\\lib\\site-packages\\shap\\explainers\\kernel.py:535: UserWarning: l1_reg=\"auto\" is deprecated and in the next version (v0.29) the behavior will change from a conditional use of AIC to simply \"num_features(10)\"!\n",
      "  \"l1_reg=\\\"auto\\\" is deprecated and in the next version (v0.29) the behavior will change from a \" \\\n",
      "100%|████████████████████████████████████████████████████████████████████████████████████| 1/1 [00:02<00:00,  2.36s/it]\n"
     ]
    },
    {
     "name": "stdout",
     "output_type": "stream",
     "text": [
      "Predicted Probability: 81.739%\n",
      "Percentile of Predicted Probability: 98.619%\n",
      "Feature Importance (sorted low to high): {'IRCIGRC': -0.06611505697223918, 'ADDSCEV': -0.06594602961716622, 'ADDPREV': -0.05327043078012508, 'IRCRKRC': -0.048173255612481924, 'TOBYR': -0.01866354331965614, 'BOOKED': 0.0, 'CIGDLYMO': 0.0, 'IRALCFY': 0.0, 'IRMJFY': 0.0, 'IRSEX': 0.0, 'TXEVRRCVD2': 0.0, 'TXYRRECVD2': 0.0, 'IRMJRC': 0.0004927049822415208, 'IRALCAGE': 0.005617005722745483, 'CABINGEVR': 0.006701937514169531, 'FUCIG18': 0.010541185083108973, 'FUMJ18': 0.012825902553968094, 'IRALCRC': 0.01744837761194712, 'IRHALLUCREC': 0.02383606501098018, 'IRLSDRC': 0.025849755371762095, 'IRCOCRC': 0.03467476800063041, 'CIGAGE': 0.040171369320657624, 'IRECSTMOREC': 0.04434528909841989, 'AGE2': 0.05639586849783762, 'EDUHIGHCAT': 0.06834798459087649, 'IRINHALREC': 0.11053672479851445, 'IRMETHAMREC': 0.14431923180775075, 'IRHERRC': 0.3050084586961174}\n",
      "\n",
      "IRMETHAMREC 3  | TEST 129\n",
      "\n",
      "{'NAME': 'Test Scripter', 'IRSEX': 1, 'EDUHIGHCAT': 2, 'AGE2': 12, 'IRALCRC': 9, 'IRALCFY': 50, 'CABINGEVR': 991, 'IRALCAGE': 17, 'TXYRRECVD2': 0, 'TXEVRRCVD2': 0, 'IRCIGRC': 3, 'CIGDLYMO': 2, 'CIGAGE': 25, 'TOBYR': 1, 'FUCIG18': 1, 'IRMJRC': 3, 'IRMJFY': 100, 'FUMJ18': 1, 'IRCOCRC': 3, 'IRCRKRC': 3, 'IRHERRC': 2, 'IRHALLUCREC': 9, 'IRLSDRC': 1, 'IRECSTMOREC': 2, 'IRINHALREC': 1, 'IRMETHAMREC': 3, 'ADDPREV': 1, 'ADDSCEV': 1, 'BOOKED': 97}\n"
     ]
    },
    {
     "name": "stderr",
     "output_type": "stream",
     "text": [
      "  0%|                                                                                            | 0/1 [00:00<?, ?it/s]C:\\Users\\camke\\Anaconda3\\lib\\site-packages\\shap\\explainers\\kernel.py:535: UserWarning: l1_reg=\"auto\" is deprecated and in the next version (v0.29) the behavior will change from a conditional use of AIC to simply \"num_features(10)\"!\n",
      "  \"l1_reg=\\\"auto\\\" is deprecated and in the next version (v0.29) the behavior will change from a \" \\\n",
      "C:\\Users\\camke\\Anaconda3\\lib\\site-packages\\shap\\explainers\\kernel.py:535: UserWarning: l1_reg=\"auto\" is deprecated and in the next version (v0.29) the behavior will change from a conditional use of AIC to simply \"num_features(10)\"!\n",
      "  \"l1_reg=\\\"auto\\\" is deprecated and in the next version (v0.29) the behavior will change from a \" \\\n",
      "100%|████████████████████████████████████████████████████████████████████████████████████| 1/1 [00:02<00:00,  2.34s/it]\n"
     ]
    },
    {
     "name": "stdout",
     "output_type": "stream",
     "text": [
      "Predicted Probability: 23.109%\n",
      "Percentile of Predicted Probability: 77.680%\n",
      "Feature Importance (sorted low to high): {'IRALCRC': -0.08466010736129254, 'ADDSCEV': -0.07891355502116712, 'BOOKED': -0.06560219195940749, 'IRCIGRC': -0.063807633180856, 'ADDPREV': -0.04912183807154883, 'IRLSDRC': -0.037644362602480184, 'TOBYR': -0.014667915176981572, 'IRALCAGE': -0.01059474965110829, 'IRHALLUCREC': -0.006768492482207011, 'IRMJRC': -0.0026327339371171946, 'CABINGEVR': 0.0, 'CIGDLYMO': 0.0, 'TXEVRRCVD2': 0.0, 'TXYRRECVD2': 0.0, 'IRALCFY': 0.0024401560973832913, 'IRCRKRC': 0.002648909831045494, 'CIGAGE': 0.004898246536388831, 'FUCIG18': 0.00885027606720765, 'IRMETHAMREC': 0.009244666094310766, 'EDUHIGHCAT': 0.011333909569311372, 'FUMJ18': 0.012740806866388302, 'IRSEX': 0.014273339828251325, 'IRMJFY': 0.015778886159432008, 'IRCOCRC': 0.02593863660315819, 'AGE2': 0.026380228389210253, 'IRECSTMOREC': 0.036612029173237526, 'IRINHALREC': 0.09401160493237504, 'IRHERRC': 0.21790154880526047}\n",
      "\n",
      "ADDPREV 1  | TEST 130\n",
      "\n",
      "{'NAME': 'Test Scripter', 'IRSEX': 2, 'EDUHIGHCAT': 5, 'AGE2': 7, 'IRALCRC': 9, 'IRALCFY': 993, 'CABINGEVR': 2, 'IRALCAGE': 991, 'TXYRRECVD2': 0, 'TXEVRRCVD2': 0, 'IRCIGRC': 4, 'CIGDLYMO': 1, 'CIGAGE': 994, 'TOBYR': 1, 'FUCIG18': 2, 'IRMJRC': 2, 'IRMJFY': 1, 'FUMJ18': 1, 'IRCOCRC': 2, 'IRCRKRC': 3, 'IRHERRC': 3, 'IRHALLUCREC': 9, 'IRLSDRC': 9, 'IRECSTMOREC': 3, 'IRINHALREC': 3, 'IRMETHAMREC': 2, 'ADDPREV': 1, 'ADDSCEV': 1, 'BOOKED': 2}\n"
     ]
    },
    {
     "name": "stderr",
     "output_type": "stream",
     "text": [
      "  0%|                                                                                            | 0/1 [00:00<?, ?it/s]C:\\Users\\camke\\Anaconda3\\lib\\site-packages\\shap\\explainers\\kernel.py:535: UserWarning: l1_reg=\"auto\" is deprecated and in the next version (v0.29) the behavior will change from a conditional use of AIC to simply \"num_features(10)\"!\n",
      "  \"l1_reg=\\\"auto\\\" is deprecated and in the next version (v0.29) the behavior will change from a \" \\\n",
      "C:\\Users\\camke\\Anaconda3\\lib\\site-packages\\shap\\explainers\\kernel.py:535: UserWarning: l1_reg=\"auto\" is deprecated and in the next version (v0.29) the behavior will change from a conditional use of AIC to simply \"num_features(10)\"!\n",
      "  \"l1_reg=\\\"auto\\\" is deprecated and in the next version (v0.29) the behavior will change from a \" \\\n",
      "100%|████████████████████████████████████████████████████████████████████████████████████| 1/1 [00:02<00:00,  2.34s/it]\n"
     ]
    },
    {
     "name": "stdout",
     "output_type": "stream",
     "text": [
      "Predicted Probability: 7.547%\n",
      "Percentile of Predicted Probability: 31.890%\n",
      "Feature Importance (sorted low to high): {'EDUHIGHCAT': -0.07779401540318387, 'IRALCRC': -0.06718145214165769, 'IRCIGRC': -0.06565283408890452, 'ADDSCEV': -0.06371390897381263, 'CIGAGE': -0.04684264272257891, 'ADDPREV': -0.0381234320610366, 'CABINGEVR': -0.01992573563451955, 'TOBYR': -0.01026550862123081, 'FUCIG18': -0.009200830664702675, 'IRSEX': -0.007572046957449334, 'IRHALLUCREC': -0.006140607903502059, 'IRALCFY': -0.004801565033829232, 'BOOKED': 0.0, 'CIGDLYMO': 0.0, 'IRMJFY': 0.0, 'TXEVRRCVD2': 0.0, 'TXYRRECVD2': 0.0, 'IRCRKRC': 0.0003896409902445566, 'IRLSDRC': 0.0006663320624715648, 'FUMJ18': 0.00938176326929431, 'IRALCAGE': 0.012025196552111152, 'IRECSTMOREC': 0.017597057766655246, 'IRMJRC': 0.020805813248572905, 'IRINHALREC': 0.03304071044603775, 'AGE2': 0.03645128369446238, 'IRHERRC': 0.04624440161705509, 'IRCOCRC': 0.06398337359500662, 'IRMETHAMREC': 0.08965371308993675}\n",
      "\n",
      "ADDPREV 2  | TEST 131\n",
      "\n",
      "{'NAME': 'Test Scripter', 'IRSEX': 1, 'EDUHIGHCAT': 5, 'AGE2': 11, 'IRALCRC': 9, 'IRALCFY': 300, 'CABINGEVR': 2, 'IRALCAGE': 17, 'TXYRRECVD2': 1, 'TXEVRRCVD2': 0, 'IRCIGRC': 2, 'CIGDLYMO': 2, 'CIGAGE': 994, 'TOBYR': 1, 'FUCIG18': 1, 'IRMJRC': 9, 'IRMJFY': 40, 'FUMJ18': 2, 'IRCOCRC': 1, 'IRCRKRC': 3, 'IRHERRC': 3, 'IRHALLUCREC': 3, 'IRLSDRC': 9, 'IRECSTMOREC': 9, 'IRINHALREC': 2, 'IRMETHAMREC': 3, 'ADDPREV': 2, 'ADDSCEV': 2, 'BOOKED': 97}\n"
     ]
    },
    {
     "name": "stderr",
     "output_type": "stream",
     "text": [
      "  0%|                                                                                            | 0/1 [00:00<?, ?it/s]C:\\Users\\camke\\Anaconda3\\lib\\site-packages\\shap\\explainers\\kernel.py:535: UserWarning: l1_reg=\"auto\" is deprecated and in the next version (v0.29) the behavior will change from a conditional use of AIC to simply \"num_features(10)\"!\n",
      "  \"l1_reg=\\\"auto\\\" is deprecated and in the next version (v0.29) the behavior will change from a \" \\\n",
      "C:\\Users\\camke\\Anaconda3\\lib\\site-packages\\shap\\explainers\\kernel.py:535: UserWarning: l1_reg=\"auto\" is deprecated and in the next version (v0.29) the behavior will change from a conditional use of AIC to simply \"num_features(10)\"!\n",
      "  \"l1_reg=\\\"auto\\\" is deprecated and in the next version (v0.29) the behavior will change from a \" \\\n",
      "100%|████████████████████████████████████████████████████████████████████████████████████| 1/1 [00:02<00:00,  2.40s/it]\n"
     ]
    },
    {
     "name": "stdout",
     "output_type": "stream",
     "text": [
      "Predicted Probability: 14.812%\n",
      "Percentile of Predicted Probability: 64.074%\n",
      "Feature Importance (sorted low to high): {'EDUHIGHCAT': -0.08586685000211748, 'IRALCRC': -0.07550925528777237, 'BOOKED': -0.06072452127087526, 'CIGAGE': -0.058062713287768505, 'ADDSCEV': -0.057290158916378724, 'IRCIGRC': -0.035350789960823414, 'CABINGEVR': -0.023803344137655523, 'IRMJRC': -0.01916696868419355, 'TOBYR': -0.013417246388337078, 'IRALCAGE': -0.01309970936660411, 'FUMJ18': -0.007860101969884986, 'IRECSTMOREC': -0.0036372810552244943, 'IRCRKRC': -0.0009196193823651985, 'CIGDLYMO': 0.0, 'TXEVRRCVD2': 0.0, 'IRLSDRC': 1.603474645438252e-05, 'FUCIG18': 0.008695246015944461, 'IRSEX': 0.012572482524164867, 'IRMETHAMREC': 0.012617455389237253, 'IRHALLUCREC': 0.01507320947586787, 'IRMJFY': 0.016851098527004962, 'ADDPREV': 0.025589712773032465, 'AGE2': 0.03213333612116108, 'IRALCFY': 0.0400579386234946, 'IRHERRC': 0.04688729717446605, 'TXYRRECVD2': 0.0637488282977344, 'IRCOCRC': 0.0640848413031334, 'IRINHALREC': 0.1020574111473207}\n",
      "\n",
      "ADDPREV 94  | TEST 132\n",
      "\n",
      "{'NAME': 'Test Scripter', 'IRSEX': 2, 'EDUHIGHCAT': 5, 'AGE2': 7, 'IRALCRC': 1, 'IRALCFY': 100, 'CABINGEVR': 2, 'IRALCAGE': 100, 'TXYRRECVD2': 0, 'TXEVRRCVD2': 1, 'IRCIGRC': 3, 'CIGDLYMO': 91, 'CIGAGE': 13, 'TOBYR': 1, 'FUCIG18': 1, 'IRMJRC': 2, 'IRMJFY': 993, 'FUMJ18': 2, 'IRCOCRC': 1, 'IRCRKRC': 3, 'IRHERRC': 2, 'IRHALLUCREC': 9, 'IRLSDRC': 1, 'IRECSTMOREC': 3, 'IRINHALREC': 3, 'IRMETHAMREC': 3, 'ADDPREV': 94, 'ADDSCEV': 94, 'BOOKED': 94}\n"
     ]
    },
    {
     "name": "stderr",
     "output_type": "stream",
     "text": [
      "  0%|                                                                                            | 0/1 [00:00<?, ?it/s]C:\\Users\\camke\\Anaconda3\\lib\\site-packages\\shap\\explainers\\kernel.py:535: UserWarning: l1_reg=\"auto\" is deprecated and in the next version (v0.29) the behavior will change from a conditional use of AIC to simply \"num_features(10)\"!\n",
      "  \"l1_reg=\\\"auto\\\" is deprecated and in the next version (v0.29) the behavior will change from a \" \\\n",
      "C:\\Users\\camke\\Anaconda3\\lib\\site-packages\\shap\\explainers\\kernel.py:535: UserWarning: l1_reg=\"auto\" is deprecated and in the next version (v0.29) the behavior will change from a conditional use of AIC to simply \"num_features(10)\"!\n",
      "  \"l1_reg=\\\"auto\\\" is deprecated and in the next version (v0.29) the behavior will change from a \" \\\n",
      "100%|████████████████████████████████████████████████████████████████████████████████████| 1/1 [00:02<00:00,  2.33s/it]\n"
     ]
    },
    {
     "name": "stdout",
     "output_type": "stream",
     "text": [
      "Predicted Probability: 14.812%\n",
      "Percentile of Predicted Probability: 64.074%\n",
      "Feature Importance (sorted low to high): {'ADDSCEV': -0.31783874843540044, 'EDUHIGHCAT': -0.08219418957916774, 'BOOKED': -0.06048040750860907, 'IRCIGRC': -0.05709461229271578, 'IRLSDRC': -0.03278893804693485, 'IRALCAGE': -0.029347098544104083, 'CIGAGE': -0.02132908368078633, 'CABINGEVR': -0.021135479002534735, 'TOBYR': -0.012981987572792727, 'FUMJ18': -0.00855973824603475, 'IRSEX': -0.007597761029603325, 'IRHALLUCREC': -0.0034081713359369846, 'CIGDLYMO': 0.0, 'IRMJFY': 0.0, 'TXEVRRCVD2': 0.0, 'TXYRRECVD2': 0.0, 'IRCRKRC': 0.004950805139935309, 'FUCIG18': 0.007080410712349196, 'IRMETHAMREC': 0.0075938820659365025, 'IRALCRC': 0.015629081117076733, 'IRECSTMOREC': 0.01567379649598667, 'IRALCFY': 0.022707837135983303, 'IRMJRC': 0.025895669912769696, 'IRINHALREC': 0.03552424656636484, 'AGE2': 0.0433157348321698, 'IRCOCRC': 0.06658700384578999, 'IRHERRC': 0.1798637989116527, 'ADDPREV': 0.21561028094762202}\n",
      "\n",
      "ADDSCEV 1  | TEST 133\n",
      "\n",
      "{'NAME': 'Test Scripter', 'IRSEX': 2, 'EDUHIGHCAT': 4, 'AGE2': 4, 'IRALCRC': 1, 'IRALCFY': 993, 'CABINGEVR': 1, 'IRALCAGE': 20, 'TXYRRECVD2': 1, 'TXEVRRCVD2': 1, 'IRCIGRC': 2, 'CIGDLYMO': 1, 'CIGAGE': 20, 'TOBYR': 0, 'FUCIG18': 2, 'IRMJRC': 3, 'IRMJFY': 50, 'FUMJ18': 2, 'IRCOCRC': 2, 'IRCRKRC': 1, 'IRHERRC': 3, 'IRHALLUCREC': 1, 'IRLSDRC': 3, 'IRECSTMOREC': 9, 'IRINHALREC': 9, 'IRMETHAMREC': 1, 'ADDPREV': 1, 'ADDSCEV': 1, 'BOOKED': 97}\n"
     ]
    },
    {
     "name": "stderr",
     "output_type": "stream",
     "text": [
      "  0%|                                                                                            | 0/1 [00:00<?, ?it/s]C:\\Users\\camke\\Anaconda3\\lib\\site-packages\\shap\\explainers\\kernel.py:535: UserWarning: l1_reg=\"auto\" is deprecated and in the next version (v0.29) the behavior will change from a conditional use of AIC to simply \"num_features(10)\"!\n",
      "  \"l1_reg=\\\"auto\\\" is deprecated and in the next version (v0.29) the behavior will change from a \" \\\n",
      "C:\\Users\\camke\\Anaconda3\\lib\\site-packages\\shap\\explainers\\kernel.py:535: UserWarning: l1_reg=\"auto\" is deprecated and in the next version (v0.29) the behavior will change from a conditional use of AIC to simply \"num_features(10)\"!\n",
      "  \"l1_reg=\\\"auto\\\" is deprecated and in the next version (v0.29) the behavior will change from a \" \\\n",
      "100%|████████████████████████████████████████████████████████████████████████████████████| 1/1 [00:02<00:00,  2.39s/it]\n"
     ]
    },
    {
     "name": "stdout",
     "output_type": "stream",
     "text": [
      "Predicted Probability: 27.047%\n",
      "Percentile of Predicted Probability: 82.184%\n",
      "Feature Importance (sorted low to high): {'ADDSCEV': -0.08093282179412967, 'BOOKED': -0.06681177884627455, 'ADDPREV': -0.04884075893698117, 'IRCRKRC': -0.04333888008478211, 'IRALCAGE': -0.037880506471315474, 'IRCIGRC': -0.034335838689130926, 'CIGAGE': -0.020519534466468453, 'FUMJ18': -0.010816788074788409, 'FUCIG18': -0.010565365816881243, 'IRSEX': -0.00869226743562087, 'IRINHALREC': -0.006699450889259774, 'IRALCFY': -0.0052879971472443235, 'IRMJRC': -0.0034372095872514594, 'IRLSDRC': -0.0029804717432021857, 'IRECSTMOREC': -0.0025840782599664824, 'CIGDLYMO': 0.0, 'TXEVRRCVD2': 0.0, 'CABINGEVR': 0.005029704817933354, 'EDUHIGHCAT': 0.008500148269278175, 'TOBYR': 0.013457366086897099, 'IRALCRC': 0.01479066813115609, 'IRMJFY': 0.026298289037970837, 'AGE2': 0.0597106162144998, 'IRHERRC': 0.06137797242545412, 'IRHALLUCREC': 0.06669104775525443, 'TXYRRECVD2': 0.07019053426445596, 'IRCOCRC': 0.07724713938548602, 'IRMETHAMREC': 0.08845473388699546}\n",
      "\n",
      "ADDSCEV 2  | TEST 134\n",
      "\n",
      "{'NAME': 'Test Scripter', 'IRSEX': 2, 'EDUHIGHCAT': 3, 'AGE2': 14, 'IRALCRC': 2, 'IRALCFY': 993, 'CABINGEVR': 991, 'IRALCAGE': 991, 'TXYRRECVD2': 1, 'TXEVRRCVD2': 1, 'IRCIGRC': 2, 'CIGDLYMO': 2, 'CIGAGE': 15, 'TOBYR': 0, 'FUCIG18': 1, 'IRMJRC': 9, 'IRMJFY': 3, 'FUMJ18': 2, 'IRCOCRC': 3, 'IRCRKRC': 2, 'IRHERRC': 2, 'IRHALLUCREC': 3, 'IRLSDRC': 9, 'IRECSTMOREC': 1, 'IRINHALREC': 3, 'IRMETHAMREC': 2, 'ADDPREV': 1, 'ADDSCEV': 2, 'BOOKED': 1}\n"
     ]
    },
    {
     "name": "stderr",
     "output_type": "stream",
     "text": [
      "  0%|                                                                                            | 0/1 [00:00<?, ?it/s]C:\\Users\\camke\\Anaconda3\\lib\\site-packages\\shap\\explainers\\kernel.py:535: UserWarning: l1_reg=\"auto\" is deprecated and in the next version (v0.29) the behavior will change from a conditional use of AIC to simply \"num_features(10)\"!\n",
      "  \"l1_reg=\\\"auto\\\" is deprecated and in the next version (v0.29) the behavior will change from a \" \\\n",
      "C:\\Users\\camke\\Anaconda3\\lib\\site-packages\\shap\\explainers\\kernel.py:535: UserWarning: l1_reg=\"auto\" is deprecated and in the next version (v0.29) the behavior will change from a conditional use of AIC to simply \"num_features(10)\"!\n",
      "  \"l1_reg=\\\"auto\\\" is deprecated and in the next version (v0.29) the behavior will change from a \" \\\n",
      "100%|████████████████████████████████████████████████████████████████████████████████████| 1/1 [00:02<00:00,  2.36s/it]\n"
     ]
    },
    {
     "name": "stdout",
     "output_type": "stream",
     "text": [
      "Predicted Probability: 64.115%\n",
      "Percentile of Predicted Probability: 96.371%\n",
      "Feature Importance (sorted low to high): {'ADDSCEV': -0.06392165378655855, 'ADDPREV': -0.051843654404001044, 'IRCRKRC': -0.05002908932114053, 'IRCIGRC': -0.023866551793678803, 'IRMJRC': -0.0210139351946195, 'CIGAGE': -0.02068579985652136, 'IRMJFY': -0.012295985586435632, 'IRALCRC': -0.004891828485832916, 'AGE2': 0.0, 'BOOKED': 0.0, 'CABINGEVR': 0.0, 'CIGDLYMO': 0.0, 'FUCIG18': 0.0, 'FUMJ18': 0.0, 'IRALCAGE': 0.0, 'IRALCFY': 0.0, 'IRSEX': 0.0, 'TXEVRRCVD2': 0.0, 'EDUHIGHCAT': 0.004894056403973807, 'IRLSDRC': 0.008664147742099115, 'TOBYR': 0.00998559810895161, 'IRHALLUCREC': 0.022193513283549127, 'IRCOCRC': 0.03838579477653739, 'IRECSTMOREC': 0.06275112838072366, 'IRINHALREC': 0.06283661460467035, 'TXYRRECVD2': 0.08806832160096739, 'IRMETHAMREC': 0.13011478629466755, 'IRHERRC': 0.29935587060373303}\n",
      "\n",
      "ADDSCEV 94  | TEST 135\n",
      "\n",
      "{'NAME': 'Test Scripter', 'IRSEX': 2, 'EDUHIGHCAT': 4, 'AGE2': 13, 'IRALCRC': 2, 'IRALCFY': 50, 'CABINGEVR': 991, 'IRALCAGE': 14, 'TXYRRECVD2': 1, 'TXEVRRCVD2': 0, 'IRCIGRC': 3, 'CIGDLYMO': 1, 'CIGAGE': 19, 'TOBYR': 0, 'FUCIG18': 1, 'IRMJRC': 3, 'IRMJFY': 40, 'FUMJ18': 1, 'IRCOCRC': 9, 'IRCRKRC': 3, 'IRHERRC': 9, 'IRHALLUCREC': 9, 'IRLSDRC': 3, 'IRECSTMOREC': 3, 'IRINHALREC': 9, 'IRMETHAMREC': 3, 'ADDPREV': 94, 'ADDSCEV': 94, 'BOOKED': 2}\n"
     ]
    },
    {
     "name": "stderr",
     "output_type": "stream",
     "text": [
      "  0%|                                                                                            | 0/1 [00:00<?, ?it/s]C:\\Users\\camke\\Anaconda3\\lib\\site-packages\\shap\\explainers\\kernel.py:535: UserWarning: l1_reg=\"auto\" is deprecated and in the next version (v0.29) the behavior will change from a conditional use of AIC to simply \"num_features(10)\"!\n",
      "  \"l1_reg=\\\"auto\\\" is deprecated and in the next version (v0.29) the behavior will change from a \" \\\n",
      "C:\\Users\\camke\\Anaconda3\\lib\\site-packages\\shap\\explainers\\kernel.py:535: UserWarning: l1_reg=\"auto\" is deprecated and in the next version (v0.29) the behavior will change from a conditional use of AIC to simply \"num_features(10)\"!\n",
      "  \"l1_reg=\\\"auto\\\" is deprecated and in the next version (v0.29) the behavior will change from a \" \\\n",
      "100%|████████████████████████████████████████████████████████████████████████████████████| 1/1 [00:02<00:00,  2.39s/it]\n"
     ]
    },
    {
     "name": "stdout",
     "output_type": "stream",
     "text": [
      "Predicted Probability: 11.383%\n",
      "Percentile of Predicted Probability: 54.791%\n",
      "Feature Importance (sorted low to high): {'ADDSCEV': -0.3142129523314787, 'IRCIGRC': -0.055648804769949704, 'CIGAGE': -0.02908917424910351, 'IRSEX': -0.00855361363350056, 'IRCOCRC': -0.00823302100650078, 'IRHALLUCREC': -0.006495636354880097, 'IRINHALREC': -0.005754379052756553, 'IRMJRC': -0.005179907781376933, 'IRHERRC': -0.0031762560116630825, 'IRALCRC': -0.00027035838832371525, 'IRLSDRC': -0.00025251589259190493, 'BOOKED': 0.0, 'CIGDLYMO': 0.0, 'TXEVRRCVD2': 0.0, 'IRCRKRC': 0.0013511845050428323, 'IRALCFY': 0.002775749646968903, 'CABINGEVR': 0.004868820118575021, 'FUCIG18': 0.008709830384445436, 'EDUHIGHCAT': 0.008838255794775297, 'TOBYR': 0.009699564506696408, 'IRMETHAMREC': 0.009733555438059961, 'FUMJ18': 0.010357787394507885, 'IRALCAGE': 0.01280193832990853, 'AGE2': 0.014791744657114525, 'IRMJFY': 0.016166469940107328, 'IRECSTMOREC': 0.016924361991338815, 'TXYRRECVD2': 0.059149431301531774, 'ADDPREV': 0.21208202282657102}\n",
      "\n",
      "BOOKED 1  | TEST 136\n",
      "\n",
      "{'NAME': 'Test Scripter', 'IRSEX': 1, 'EDUHIGHCAT': 4, 'AGE2': 11, 'IRALCRC': 1, 'IRALCFY': 991, 'CABINGEVR': 2, 'IRALCAGE': 17, 'TXYRRECVD2': 1, 'TXEVRRCVD2': 1, 'IRCIGRC': 9, 'CIGDLYMO': 91, 'CIGAGE': 40, 'TOBYR': 1, 'FUCIG18': 2, 'IRMJRC': 1, 'IRMJFY': 991, 'FUMJ18': 1, 'IRCOCRC': 9, 'IRCRKRC': 9, 'IRHERRC': 3, 'IRHALLUCREC': 1, 'IRLSDRC': 1, 'IRECSTMOREC': 3, 'IRINHALREC': 9, 'IRMETHAMREC': 2, 'ADDPREV': 1, 'ADDSCEV': 94, 'BOOKED': 1}\n"
     ]
    },
    {
     "name": "stderr",
     "output_type": "stream",
     "text": [
      "  0%|                                                                                            | 0/1 [00:00<?, ?it/s]C:\\Users\\camke\\Anaconda3\\lib\\site-packages\\shap\\explainers\\kernel.py:535: UserWarning: l1_reg=\"auto\" is deprecated and in the next version (v0.29) the behavior will change from a conditional use of AIC to simply \"num_features(10)\"!\n",
      "  \"l1_reg=\\\"auto\\\" is deprecated and in the next version (v0.29) the behavior will change from a \" \\\n",
      "C:\\Users\\camke\\Anaconda3\\lib\\site-packages\\shap\\explainers\\kernel.py:535: UserWarning: l1_reg=\"auto\" is deprecated and in the next version (v0.29) the behavior will change from a conditional use of AIC to simply \"num_features(10)\"!\n",
      "  \"l1_reg=\\\"auto\\\" is deprecated and in the next version (v0.29) the behavior will change from a \" \\\n",
      "100%|████████████████████████████████████████████████████████████████████████████████████| 1/1 [00:02<00:00,  2.35s/it]\n"
     ]
    },
    {
     "name": "stdout",
     "output_type": "stream",
     "text": [
      "Predicted Probability: 7.547%\n",
      "Percentile of Predicted Probability: 31.890%\n",
      "Feature Importance (sorted low to high): {'ADDSCEV': -0.2937978270297718, 'ADDPREV': -0.03723985801361204, 'IRLSDRC': -0.030877379459566867, 'CIGAGE': -0.029029188030830703, 'CABINGEVR': -0.01780591752137871, 'TOBYR': -0.009524091874052926, 'IRALCAGE': -0.009521576107447395, 'FUCIG18': -0.008255525494036145, 'BOOKED': -0.007210461526216905, 'IRCOCRC': -0.007099907300558608, 'IRINHALREC': -0.005808369214743078, 'IRALCFY': -0.004120918363807388, 'CIGDLYMO': 0.0, 'IRCRKRC': 0.0, 'IRMJFY': 0.0, 'TXEVRRCVD2': 0.0, 'EDUHIGHCAT': 0.004894351711212268, 'IRSEX': 0.009840515076130658, 'FUMJ18': 0.010286977838895456, 'IRALCRC': 0.010289445285714106, 'IRECSTMOREC': 0.01850111186995232, 'AGE2': 0.02615327586915081, 'IRCIGRC': 0.027692248520631846, 'IRMJRC': 0.028197297242300697, 'IRHERRC': 0.04754366727208176, 'IRHALLUCREC': 0.048317557954382806, 'TXYRRECVD2': 0.05342218699393837, 'IRMETHAMREC': 0.08817709042707202}\n",
      "\n",
      "BOOKED 2  | TEST 137\n",
      "\n",
      "{'NAME': 'Test Scripter', 'IRSEX': 2, 'EDUHIGHCAT': 1, 'AGE2': 3, 'IRALCRC': 3, 'IRALCFY': 993, 'CABINGEVR': 2, 'IRALCAGE': 17, 'TXYRRECVD2': 0, 'TXEVRRCVD2': 1, 'IRCIGRC': 2, 'CIGDLYMO': 2, 'CIGAGE': 999, 'TOBYR': 0, 'FUCIG18': 1, 'IRMJRC': 9, 'IRMJFY': 20, 'FUMJ18': 2, 'IRCOCRC': 3, 'IRCRKRC': 1, 'IRHERRC': 2, 'IRHALLUCREC': 1, 'IRLSDRC': 1, 'IRECSTMOREC': 3, 'IRINHALREC': 3, 'IRMETHAMREC': 9, 'ADDPREV': 94, 'ADDSCEV': 2, 'BOOKED': 2}\n"
     ]
    },
    {
     "name": "stderr",
     "output_type": "stream",
     "text": [
      "  0%|                                                                                            | 0/1 [00:00<?, ?it/s]C:\\Users\\camke\\Anaconda3\\lib\\site-packages\\shap\\explainers\\kernel.py:535: UserWarning: l1_reg=\"auto\" is deprecated and in the next version (v0.29) the behavior will change from a conditional use of AIC to simply \"num_features(10)\"!\n",
      "  \"l1_reg=\\\"auto\\\" is deprecated and in the next version (v0.29) the behavior will change from a \" \\\n",
      "C:\\Users\\camke\\Anaconda3\\lib\\site-packages\\shap\\explainers\\kernel.py:535: UserWarning: l1_reg=\"auto\" is deprecated and in the next version (v0.29) the behavior will change from a conditional use of AIC to simply \"num_features(10)\"!\n",
      "  \"l1_reg=\\\"auto\\\" is deprecated and in the next version (v0.29) the behavior will change from a \" \\\n",
      "100%|████████████████████████████████████████████████████████████████████████████████████| 1/1 [00:02<00:00,  2.37s/it]\n"
     ]
    },
    {
     "name": "stdout",
     "output_type": "stream",
     "text": [
      "Predicted Probability: 88.235%\n",
      "Percentile of Predicted Probability: 99.488%\n",
      "Feature Importance (sorted low to high): {'ADDSCEV': -0.06705369111082246, 'IRCRKRC': -0.04232112001306987, 'IRLSDRC': -0.034887394004050276, 'CABINGEVR': -0.02757681659166647, 'IRALCAGE': -0.023284666237221974, 'IRMJRC': -0.018024668720724946, 'IRCIGRC': -0.016160424853900124, 'IRALCRC': -0.013423205693829043, 'BOOKED': 0.0, 'CIGDLYMO': 0.0, 'FUCIG18': 0.0, 'FUMJ18': 0.0, 'IRALCFY': 0.0, 'IRMETHAMREC': 0.0, 'IRMJFY': 0.0, 'IRSEX': 0.0, 'TXEVRRCVD2': 0.0, 'TXYRRECVD2': 0.0, 'TOBYR': 0.01321138324138671, 'IRECSTMOREC': 0.020702734432548164, 'IRCOCRC': 0.03952880426496508, 'EDUHIGHCAT': 0.047860889559658726, 'IRINHALREC': 0.052360159036585974, 'IRHALLUCREC': 0.06332421385564052, 'AGE2': 0.06940733005287603, 'CIGAGE': 0.07174648780318121, 'IRHERRC': 0.2689938736657305, 'ADDPREV': 0.31550206050141605}\n",
      "\n",
      "BOOKED 94  | TEST 138\n",
      "\n",
      "{'NAME': 'Test Scripter', 'IRSEX': 2, 'EDUHIGHCAT': 3, 'AGE2': 17, 'IRALCRC': 2, 'IRALCFY': 100, 'CABINGEVR': 991, 'IRALCAGE': 21, 'TXYRRECVD2': 0, 'TXEVRRCVD2': 1, 'IRCIGRC': 4, 'CIGDLYMO': 2, 'CIGAGE': 19, 'TOBYR': 0, 'FUCIG18': 2, 'IRMJRC': 9, 'IRMJFY': 7, 'FUMJ18': 2, 'IRCOCRC': 2, 'IRCRKRC': 3, 'IRHERRC': 2, 'IRHALLUCREC': 1, 'IRLSDRC': 2, 'IRECSTMOREC': 9, 'IRINHALREC': 1, 'IRMETHAMREC': 3, 'ADDPREV': 1, 'ADDSCEV': 2, 'BOOKED': 94}\n"
     ]
    },
    {
     "name": "stderr",
     "output_type": "stream",
     "text": [
      "  0%|                                                                                            | 0/1 [00:00<?, ?it/s]C:\\Users\\camke\\Anaconda3\\lib\\site-packages\\shap\\explainers\\kernel.py:535: UserWarning: l1_reg=\"auto\" is deprecated and in the next version (v0.29) the behavior will change from a conditional use of AIC to simply \"num_features(10)\"!\n",
      "  \"l1_reg=\\\"auto\\\" is deprecated and in the next version (v0.29) the behavior will change from a \" \\\n",
      "C:\\Users\\camke\\Anaconda3\\lib\\site-packages\\shap\\explainers\\kernel.py:535: UserWarning: l1_reg=\"auto\" is deprecated and in the next version (v0.29) the behavior will change from a conditional use of AIC to simply \"num_features(10)\"!\n",
      "  \"l1_reg=\\\"auto\\\" is deprecated and in the next version (v0.29) the behavior will change from a \" \\\n",
      "100%|████████████████████████████████████████████████████████████████████████████████████| 1/1 [00:02<00:00,  2.38s/it]\n"
     ]
    },
    {
     "name": "stdout",
     "output_type": "stream",
     "text": [
      "Predicted Probability: 14.754%\n",
      "Percentile of Predicted Probability: 58.415%\n",
      "Feature Importance (sorted low to high): {'AGE2': -0.10848249902164664, 'IRCIGRC': -0.07364508481899729, 'IRALCAGE': -0.0629569091840037, 'BOOKED': -0.05954096058997741, 'ADDSCEV': -0.053703113578544355, 'ADDPREV': -0.04061925667341777, 'CIGAGE': -0.028926875911365033, 'IRMJRC': -0.01754326708501928, 'FUCIG18': -0.008836556435527535, 'IRSEX': -0.008256858329671867, 'FUMJ18': -0.008035109849291932, 'IRMJFY': -0.007298494607347722, 'IRECSTMOREC': -0.004909943865879598, 'TXYRRECVD2': -0.002186470260764309, 'IRALCRC': -0.0006280506703139135, 'CIGDLYMO': 0.0, 'TXEVRRCVD2': 0.0, 'EDUHIGHCAT': 0.0031338217705804312, 'IRCRKRC': 0.004310592252054761, 'CABINGEVR': 0.004518607643931383, 'IRMETHAMREC': 0.009945496509890364, 'TOBYR': 0.010469700318633677, 'IRLSDRC': 0.018673775350799917, 'IRALCFY': 0.027864142778236067, 'IRHALLUCREC': 0.0556603241481709, 'IRCOCRC': 0.07234542379959238, 'IRINHALREC': 0.08041079748766097, 'IRHERRC': 0.183330760441008}\n",
      "\n",
      "BOOKED 97  | TEST 139\n",
      "\n",
      "{'NAME': 'Test Scripter', 'IRSEX': 1, 'EDUHIGHCAT': 2, 'AGE2': 4, 'IRALCRC': 2, 'IRALCFY': 100, 'CABINGEVR': 1, 'IRALCAGE': 991, 'TXYRRECVD2': 1, 'TXEVRRCVD2': 1, 'IRCIGRC': 9, 'CIGDLYMO': 2, 'CIGAGE': 40, 'TOBYR': 0, 'FUCIG18': 1, 'IRMJRC': 3, 'IRMJFY': 991, 'FUMJ18': 1, 'IRCOCRC': 1, 'IRCRKRC': 2, 'IRHERRC': 1, 'IRHALLUCREC': 2, 'IRLSDRC': 2, 'IRECSTMOREC': 9, 'IRINHALREC': 2, 'IRMETHAMREC': 2, 'ADDPREV': 1, 'ADDSCEV': 1, 'BOOKED': 97}\n"
     ]
    },
    {
     "name": "stderr",
     "output_type": "stream",
     "text": [
      "  0%|                                                                                            | 0/1 [00:00<?, ?it/s]C:\\Users\\camke\\Anaconda3\\lib\\site-packages\\shap\\explainers\\kernel.py:535: UserWarning: l1_reg=\"auto\" is deprecated and in the next version (v0.29) the behavior will change from a conditional use of AIC to simply \"num_features(10)\"!\n",
      "  \"l1_reg=\\\"auto\\\" is deprecated and in the next version (v0.29) the behavior will change from a \" \\\n",
      "C:\\Users\\camke\\Anaconda3\\lib\\site-packages\\shap\\explainers\\kernel.py:535: UserWarning: l1_reg=\"auto\" is deprecated and in the next version (v0.29) the behavior will change from a conditional use of AIC to simply \"num_features(10)\"!\n",
      "  \"l1_reg=\\\"auto\\\" is deprecated and in the next version (v0.29) the behavior will change from a \" \\\n",
      "100%|████████████████████████████████████████████████████████████████████████████████████| 1/1 [00:02<00:00,  2.34s/it]\n"
     ]
    },
    {
     "name": "stdout",
     "output_type": "stream",
     "text": [
      "Predicted Probability: 91.892%\n",
      "Percentile of Predicted Probability: 99.700%\n",
      "Feature Importance (sorted low to high): {'ADDSCEV': -0.060571686030688465, 'BOOKED': -0.058957301847929244, 'IRCRKRC': -0.04879446357372785, 'ADDPREV': -0.04531642622585036, 'CIGAGE': -0.02105899156204888, 'CABINGEVR': 0.0, 'CIGDLYMO': 0.0, 'FUCIG18': 0.0, 'FUMJ18': 0.0, 'IRALCAGE': 0.0, 'IRECSTMOREC': 0.0, 'IRMJFY': 0.0, 'TXEVRRCVD2': 0.0, 'IRMJRC': 0.0034086721428806532, 'IRALCRC': 0.009950807557177421, 'TOBYR': 0.010035138871212546, 'EDUHIGHCAT': 0.01598245964436662, 'IRSEX': 0.019546925474583976, 'IRLSDRC': 0.02458920009415122, 'IRHALLUCREC': 0.030496164219763255, 'IRALCFY': 0.031875407773943765, 'IRCIGRC': 0.04231569599027288, 'IRCOCRC': 0.06604716658567561, 'AGE2': 0.06805538604310535, 'TXYRRECVD2': 0.08209531585065077, 'IRINHALREC': 0.11613701753513123, 'IRMETHAMREC': 0.12001826674516852, 'IRHERRC': 0.3506171716433128}\n",
      "\n",
      "Total Test Cases: 140\n"
     ]
    }
   ],
   "source": [
    "inputDict = dict()\n",
    "numTests = 0\n",
    "\n",
    "for k in allChoicesDict:\n",
    "    for item in allChoicesDict[k]:\n",
    "        print(k, item, ' | ', end='')\n",
    "        \n",
    "        for k2 in allChoicesDict:\n",
    "            if k2 == k:  #Intentionally pick the item in the loop\n",
    "                inputDict[k2] = item\n",
    "            else:  #Pick a random item\n",
    "                inputDict[k2] = random.choice(allChoicesDict[k2])\n",
    "        \n",
    "        print('TEST',numTests)\n",
    "        numTests+=1\n",
    "        print(inputDict)\n",
    "        \n",
    "        #Run Test!\n",
    "        predProb, predPercentile, predFI = oe.generateReport(inputDict)  #This one line \"does all the work\"\n",
    "        print('Predicted Probability: {:.3%}'.format(predProb))\n",
    "        print('Percentile of Predicted Probability: {:.3%}'.format(predPercentile))\n",
    "        print('Feature Importance (sorted low to high):', predFI)\n",
    "        print()\n",
    "        \n",
    "print('Total Test Cases:', numTests)"
   ]
  },
  {
   "cell_type": "code",
   "execution_count": null,
   "metadata": {},
   "outputs": [],
   "source": []
  },
  {
   "cell_type": "code",
   "execution_count": null,
   "metadata": {},
   "outputs": [],
   "source": []
  },
  {
   "cell_type": "code",
   "execution_count": null,
   "metadata": {},
   "outputs": [],
   "source": []
  },
  {
   "cell_type": "code",
   "execution_count": null,
   "metadata": {},
   "outputs": [],
   "source": []
  },
  {
   "cell_type": "code",
   "execution_count": null,
   "metadata": {},
   "outputs": [],
   "source": []
  },
  {
   "cell_type": "code",
   "execution_count": null,
   "metadata": {},
   "outputs": [],
   "source": []
  }
 ],
 "metadata": {
  "kernelspec": {
   "display_name": "Python 3",
   "language": "python",
   "name": "python3"
  },
  "language_info": {
   "codemirror_mode": {
    "name": "ipython",
    "version": 3
   },
   "file_extension": ".py",
   "mimetype": "text/x-python",
   "name": "python",
   "nbconvert_exporter": "python",
   "pygments_lexer": "ipython3",
   "version": "3.7.1"
  }
 },
 "nbformat": 4,
 "nbformat_minor": 2
}
