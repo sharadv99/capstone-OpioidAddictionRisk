{
 "cells": [
  {
   "cell_type": "markdown",
   "metadata": {},
   "source": [
    "# Opioid Addiction Project\n",
    "## Notebook 07: Testing\n",
    "\n",
    "This notebook tests the execution code with multiple inputs, looking for areas where the code either technically fails (won't run at all) or practically fails (produces nonsensical outputs).\n",
    "\n",
    "### W210, Capstone\n",
    "Summer 2019\n",
    "\n",
    "Team:  Cameron Kennedy, Aditi Khullar, Rachel Kramer, Sharad Varadarajan"
   ]
  },
  {
   "cell_type": "markdown",
   "metadata": {},
   "source": [
    "# 0. Load Libraries and Set Global Variables\n",
    "This analysis is performed in the cells below."
   ]
  },
  {
   "cell_type": "code",
   "execution_count": 5,
   "metadata": {},
   "outputs": [
    {
     "name": "stdout",
     "output_type": "stream",
     "text": [
      "Pandas Version 0.24.1\n"
     ]
    }
   ],
   "source": [
    "#Import Required Libraries\n",
    "import pandas as pd\n",
    "import random\n",
    "\n",
    "#Plotting\n",
    "import matplotlib.pyplot as plt\n",
    "import seaborn as sns\n",
    "\n",
    "#Custom data prep function used in both training and prediction \n",
    "import OpioidExecution as oe\n",
    "\n",
    "#Set initial parameter(s)\n",
    "pd.set_option('display.max_rows', 200)\n",
    "pd.options.display.max_columns = 150\n",
    "dataDir = './data/'\n",
    "\n",
    "print('Pandas Version', pd.__version__)"
   ]
  },
  {
   "cell_type": "markdown",
   "metadata": {},
   "source": [
    "# 1. Generate Multiple Input Scenarios\n",
    "\n",
    "## 1.1 Toy Example of Dictionary Parsing\n",
    "\n",
    "Here we build a tiny example of looping through every option of dictionary values for multiple keys, while choosing random values for other keys."
   ]
  },
  {
   "cell_type": "code",
   "execution_count": null,
   "metadata": {},
   "outputs": [],
   "source": [
    "#Build a test dictionary\n",
    "testDict = {'A':[1,2,3,4,5],\n",
    "            'B':['a','b','c'],\n",
    "            'C':[6,7,8,9,10]\n",
    "           }\n",
    "testDict"
   ]
  },
  {
   "cell_type": "code",
   "execution_count": null,
   "metadata": {},
   "outputs": [],
   "source": [
    "'''Loop through test dict, select each value once, \n",
    "while picking random values for non selected keys.\n",
    "'''\n",
    "inputDict = dict()\n",
    "\n",
    "for k in testDict:\n",
    "    for item in testDict[k]:\n",
    "        print(k, item, ' | ', end='')\n",
    "        \n",
    "        for k2 in testDict:\n",
    "            if k2 == k:  #Intentionally pick the item in the loop\n",
    "                inputDict[k2] = item\n",
    "            else:  #Pick a random item\n",
    "                inputDict[k2] = random.choice(testDict[k2])\n",
    "                \n",
    "        print(inputDict)"
   ]
  },
  {
   "cell_type": "markdown",
   "metadata": {},
   "source": [
    "## 1.2 Apply Toy Example to Dictionary of Possible Values"
   ]
  },
  {
   "cell_type": "code",
   "execution_count": null,
   "metadata": {},
   "outputs": [],
   "source": [
    "#Create dictionary of possible values\n",
    "allChoicesDict = {'NAME':['Test Scripter'],\n",
    "                  'IRSEX':[1,2],\n",
    "                  'EDUHIGHCAT':[1,2,3,4,5],\n",
    "                  'AGE2':[1,2,3,4,5,6,7,8,9,10,11,12,13,14,15,16,17],\n",
    "                  'IRALCRC':[1,2,3,9],\n",
    "                  'IRALCFY':[991,993,1,12,50,100,300],\n",
    "                  'CABINGEVR':[991,2,1],\n",
    "                  'IRALCAGE':[991,14,17,20,21,100],\n",
    "                  'TXYRRECVD2':[0,1],\n",
    "                  'TXEVRRCVD2':[0,1],\n",
    "                  'IRCIGRC':[9,1,2,3,4],\n",
    "                  #'CIGDLYMO':[91,2,1],\n",
    "                  'CIGAGE':[991,994,999,10,13,15,17,18,19,20,22,25,30,40,50,99],\n",
    "                  'TOBYR':[0,1],\n",
    "                  'FUCIG18':[2,1],\n",
    "                  'IRMJRC':[9,1,2,3],\n",
    "                  'IRMJFY':[991,993,1,2,3,7,10,20,30,40,50,100,200,300,365],\n",
    "                  'FUMJ18':[2,1],\n",
    "                  'IRCOCRC':[9,1,2,3],\n",
    "                  'IRCRKRC':[9,1,2,3],\n",
    "                  'IRHERRC':[9,1,2,3],\n",
    "                  'IRHALLUCREC':[9,1,2,3],\n",
    "                  'IRLSDRC':[9,1,2,3],\n",
    "                  'IRECSTMOREC':[9,1,2,3],\n",
    "                  'IRINHALREC':[9,1,2,3],\n",
    "                  'IRMETHAMREC':[9,1,2,3],\n",
    "                  'ADDPREV':[1,2,94],\n",
    "                  'ADDSCEV':[1,2,94,99],\n",
    "                  'BOOKED':[1,2,94,97],\n",
    "                 }\n",
    "\n",
    "allChoicesDict"
   ]
  },
  {
   "cell_type": "code",
   "execution_count": null,
   "metadata": {
    "scrolled": true
   },
   "outputs": [],
   "source": [
    "#Now generate all combinations for our full dictionary\n",
    "inputDict = dict()\n",
    "numTests = 0\n",
    "\n",
    "for k in allChoicesDict:\n",
    "    for item in allChoicesDict[k]:\n",
    "        print(k, item, ' | ', end='')\n",
    "        \n",
    "        for k2 in allChoicesDict:\n",
    "            if k2 == k:  #Intentionally pick the item in the loop\n",
    "                inputDict[k2] = item\n",
    "            else:  #Pick a random item\n",
    "                inputDict[k2] = random.choice(allChoicesDict[k2])\n",
    "                \n",
    "        numTests+=1\n",
    "        print(inputDict,'\\n')\n",
    "        \n",
    "print('Total Test Cases:', numTests)"
   ]
  },
  {
   "cell_type": "markdown",
   "metadata": {},
   "source": [
    "# 2. Run Tests"
   ]
  },
  {
   "cell_type": "code",
   "execution_count": null,
   "metadata": {
    "scrolled": true
   },
   "outputs": [],
   "source": [
    "#Run tests!\n",
    "\n",
    "verbose = 1\n",
    "\n",
    "inputDict = dict()\n",
    "dfTestResults = pd.DataFrame()\n",
    "numTests = 0\n",
    "\n",
    "for k in allChoicesDict:\n",
    "    for item in allChoicesDict[k]:\n",
    "        if verbose >= 1:\n",
    "            print('TEST',numTests, ' | ', k, '=', item)\n",
    "        \n",
    "        for k2 in allChoicesDict:\n",
    "            if k2 == k:  #Intentionally pick the item in the loop\n",
    "                inputDict[k2] = item\n",
    "            else:  #Pick a random item\n",
    "                inputDict[k2] = random.choice(allChoicesDict[k2])\n",
    "        \n",
    "        #Run Test!\n",
    "        predProb, predPercentile, predFI = oe.generateReport(inputDict)  #This one line \"does all the work\"\n",
    "        \n",
    "        #Rename dictionary keys in output (to prevent duplicates of input names)\n",
    "        keyList = [k3 for k3 in predFI]\n",
    "        for k3 in keyList:\n",
    "            predFI[k3+'_Shap'] = predFI.pop(k3)\n",
    "        \n",
    "        #Convert list items back to nonlist items (it converts to a list in oe.generateReport)\n",
    "        for k4 in inputDict:\n",
    "            inputDict[k4] = inputDict[k4][0]\n",
    "        \n",
    "        #Print Output\n",
    "        if verbose >= 2:\n",
    "            print('Input:', inputDict)\n",
    "            print('Predicted Probability: {:.3%}'.format(predProb))\n",
    "            print('Percentile of Predicted Probability: {:.3%}'.format(predPercentile))\n",
    "        if verbose >= 3:\n",
    "            print('Feature Importance (sorted low to high):', predFI)\n",
    "        \n",
    "        outDict = {**{'TestCase':numTests,'predProb':predProb, 'predPercentile':predPercentile},\n",
    "                   **inputDict, \n",
    "                   **predFI\n",
    "                  }\n",
    "        #{**dictA, **dictB, **dictC, etc.} is a handy (and pythonic!) way to merge dicts\n",
    "        \n",
    "        #Add test results to dataframe\n",
    "        dfTestResults = dfTestResults.append(outDict, ignore_index=True)\n",
    "        \n",
    "        if verbose >= 4:\n",
    "            print(dfTestResults)\n",
    "        \n",
    "        numTests+=1\n",
    "        \n",
    "print('Total Test Cases:', numTests)"
   ]
  },
  {
   "cell_type": "code",
   "execution_count": null,
   "metadata": {},
   "outputs": [],
   "source": [
    "#Convert data types (float to int)\n",
    "for k in inputDict:\n",
    "    if k != 'NAME':\n",
    "        dfTestResults[k] = dfTestResults[k].astype(int)\n",
    "        \n",
    "dfTestResults"
   ]
  },
  {
   "cell_type": "code",
   "execution_count": null,
   "metadata": {},
   "outputs": [],
   "source": [
    "#Save test results to file\n",
    "dfTestResults.to_csv(dataDir+'testResults.csv')"
   ]
  },
  {
   "cell_type": "markdown",
   "metadata": {},
   "source": [
    "# 3. Explore Test Results"
   ]
  },
  {
   "cell_type": "code",
   "execution_count": null,
   "metadata": {},
   "outputs": [],
   "source": [
    "for k in inputDict:\n",
    "    if k != 'NAME':\n",
    "        plt.figure() #Createes a new figure\n",
    "        print(k)\n",
    "        ax = sns.boxplot(x=k, y=k+'_Shap', data=dfTestResults).set_title(k)\n",
    "        ax = sns.swarmplot(x=k, y=k+'_Shap', data=dfTestResults, color='gray')\n",
    "        ax.axhline(0, ls='-', color='black') #Horizontal line\n",
    "        vals = ax.get_yticks()\n",
    "        ax.set_yticklabels(['{:,.1%}'.format(x) for x in vals])\n",
    "        plt.show()"
   ]
  },
  {
   "cell_type": "markdown",
   "metadata": {},
   "source": [
    "# 4. Other Testing"
   ]
  },
  {
   "cell_type": "code",
   "execution_count": 8,
   "metadata": {},
   "outputs": [
    {
     "data": {
      "text/plain": [
       "{'IRSEX': 'Gender',\n",
       " 'EDUHIGHCAT': 'Highest Education',\n",
       " 'AGE2': 'Age',\n",
       " 'IRALCRC': 'Alcohol Recency',\n",
       " 'IRALCFY': 'Alcohol Frequency ',\n",
       " 'CABINGEVR': 'Binge Drinking',\n",
       " 'IRALCAGE': 'Age First Used Alcohol',\n",
       " 'TXYRRECVD2': 'Alc/Drug Tx, Past Yr',\n",
       " 'TXEVRRCVD2': 'Alc/Drug Tx, Lifetime',\n",
       " 'IRCIGRC': 'Cigarette Recency',\n",
       " 'CIGAGE': 'Daily Cigarette Use Age',\n",
       " 'TOBYR': 'Tobacco Use, Past Year',\n",
       " 'FUCIG18': 'Cigarettes Under 18',\n",
       " 'IRMJRC': 'Marijuana Recency',\n",
       " 'IRMJFY': 'Marijuana Frequency',\n",
       " 'FUMJ18': 'Marijuana Under 18',\n",
       " 'IRCOCRC': 'Cocaine Recency',\n",
       " 'IRCRKRC': 'Crack Recency',\n",
       " 'IRHERRC': 'Heroine Recency',\n",
       " 'IRHALLUCREC': 'Hallucinogen Recency',\n",
       " 'IRLSDRC': 'LSD Recency',\n",
       " 'IRECSTMOREC': 'Ecstacy Recency',\n",
       " 'IRINHALREC': 'Inhalant Recency',\n",
       " 'IRMETHAMREC': 'Meth Recency',\n",
       " 'ADDPREV': 'Multi-Day Depression',\n",
       " 'ADDSCEV': 'Multi-Day Discouraged',\n",
       " 'BOOKED': 'Arrested and Booked'}"
      ]
     },
     "execution_count": 8,
     "metadata": {},
     "output_type": "execute_result"
    }
   ],
   "source": [
    "#Test that we can open the friendly names dictionary\n",
    "dictFriendlyVarNames = oe.getFriendlyVarNames()\n",
    "\n",
    "#OLD METHOD\n",
    "# with open(dataDir+'dictFriendlyVarNames.txt','r') as f:\n",
    "#     dictFriendlyVarNames = eval(f.read())\n",
    "    \n",
    "dictFriendlyVarNames"
   ]
  },
  {
   "cell_type": "markdown",
   "metadata": {},
   "source": [
    "# Appendix: Other Code, Function Testing, Etc."
   ]
  },
  {
   "cell_type": "code",
   "execution_count": null,
   "metadata": {},
   "outputs": [],
   "source": [
    "#Testing creating dataframe from dictionary\n",
    "a = {'predProb': 0.3271889400921659, 'predPercentile': 0.8793103448275862, 'NAME': 'Test Scripter'}\n",
    "b = {'predProb': 0.3271889400921659, 'predPercentile': 0.8793103448275862, 'NAME': 'Test Scripter', 'IRSEX': 1, 'EDUHIGHCAT': 2, 'AGE2': 13, 'IRALCRC': 1, 'IRALCFY': 100, 'CABINGEVR': 1, 'IRALCAGE': 991, 'TXYRRECVD2': 1, 'TXEVRRCVD2': 1, 'IRCIGRC': 3, 'CIGDLYMO': 2, 'CIGAGE': 30, 'TOBYR': 1, 'FUCIG18': 2, 'IRMJRC': 9, 'IRMJFY': 1, 'FUMJ18': 2, 'IRCOCRC': 9, 'IRCRKRC': 2, 'IRHERRC': 3, 'IRHALLUCREC': 9, 'IRLSDRC': 1, 'IRECSTMOREC': 1, 'IRINHALREC': 3, 'IRMETHAMREC': 2, 'ADDPREV': 2, 'ADDSCEV': 2, 'BOOKED': 2, 'IRCIGRC_Shap': -0.07299654091300585, 'ADDSCEV_Shap': -0.06865909213385069, 'CIGAGE_Shap': -0.05574356218385848, 'IRCRKRC_Shap': -0.04934079270700638, 'IRLSDRC_Shap': -0.04646291598195351, 'IRMJRC_Shap': -0.0200648067591507, 'TOBYR_Shap': -0.015489018333968665, 'FUCIG18_Shap': -0.01138623521782741, 'IRCOCRC_Shap': -0.010061910431149564, 'FUMJ18_Shap': -0.009741800963022434, 'IRHALLUCREC_Shap': -0.008625047228143813, 'IRMJFY_Shap': -0.004902287641520897, 'CIGDLYMO_Shap': 0.0, 'TXEVRRCVD2_Shap': 0.0, 'BOOKED_Shap': 0.0024776782586973176, 'CABINGEVR_Shap': 0.00685966595368058, 'EDUHIGHCAT_Shap': 0.014366252833132368, 'IRALCRC_Shap': 0.014641349875946778, 'IRSEX_Shap': 0.015423509266007558, 'IRALCAGE_Shap': 0.017224785647449774, 'AGE2_Shap': 0.02299620739872297, 'ADDPREV_Shap': 0.028591442326717936, 'IRALCFY_Shap': 0.036158901226165434, 'IRINHALREC_Shap': 0.04385787814223628, 'IRECSTMOREC_Shap': 0.055529423394040836, 'IRHERRC_Shap': 0.07470339366460665, 'TXYRRECVD2_Shap': 0.07821903891985728, 'IRMETHAMREC_Shap': 0.12716643169159556}\n",
    "c = {'predProb': 0.3271889400921659, 'predPercentile': 0.8793103448275862, 'NAME': 'Test Scripter', 'IRSEX': 1, 'EDUHIGHCAT': 2, 'AGE2': 13, 'IRALCRC': 1, 'IRALCFY': 100, 'CABINGEVR': 1, 'IRALCAGE': 991, 'TXYRRECVD2': 1, 'TXEVRRCVD2': 1, 'IRCIGRC': 3, 'CIGDLYMO': 2, 'CIGAGE': 30, 'TOBYR': 1, 'FUCIG18': 2, 'IRMJRC': 9, 'IRMJFY': 1, 'FUMJ18': 2, 'IRCOCRC': 9, 'IRCRKRC': 2, 'IRHERRC': 3, 'IRHALLUCREC': 9, 'IRLSDRC': 1, 'IRECSTMOREC': 1, 'IRINHALREC': 3, 'IRMETHAMREC': 2, 'ADDPREV': 2, 'ADDSCEV': 2, 'BOOKED': 2, 'IRCIGRC_Shap': -0.07299654091300585, 'ADDSCEV_Shap': -0.06865909213385069, 'CIGAGE_Shap': -0.05574356218385848, 'IRCRKRC_Shap': -0.04934079270700638, 'IRLSDRC_Shap': -0.04646291598195351, 'IRMJRC_Shap': -0.0200648067591507, 'TOBYR_Shap': -0.015489018333968665, 'FUCIG18_Shap': -0.01138623521782741, 'IRCOCRC_Shap': -0.010061910431149564, 'FUMJ18_Shap': -0.009741800963022434, 'IRHALLUCREC_Shap': -0.008625047228143813, 'IRMJFY_Shap': -0.004902287641520897, 'CIGDLYMO_Shap': 0.0, 'TXEVRRCVD2_Shap': 0.0, 'BOOKED_Shap': 0.0024776782586973176, 'CABINGEVR_Shap': 0.00685966595368058, 'EDUHIGHCAT_Shap': 0.014366252833132368, 'IRALCRC_Shap': 0.014641349875946778, 'IRSEX_Shap': 0.015423509266007558, 'IRALCAGE_Shap': 0.017224785647449774, 'AGE2_Shap': 0.02299620739872297, 'ADDPREV_Shap': 0.028591442326717936, 'IRALCFY_Shap': 0.036158901226165434, 'IRINHALREC_Shap': 0.04385787814223628, 'IRECSTMOREC_Shap': 0.055529423394040836, 'IRHERRC_Shap': 0.07470339366460665, 'TXYRRECVD2_Shap': 0.07821903891985728, 'IRMETHAMREC_Shap': 0.12716643169159556}\n",
    "\n",
    "# for k in a:\n",
    "#     a[k] = [k]\n",
    "\n",
    "df = pd.DataFrame()\n",
    "df = df.append(a, ignore_index=True)\n",
    "df = df.append(b, ignore_index=True)\n",
    "df"
   ]
  },
  {
   "cell_type": "code",
   "execution_count": null,
   "metadata": {},
   "outputs": [],
   "source": [
    "#This was used for early testing\n",
    "limChoicesDict = {'NAME':['Test Scripter'],\n",
    "                  'IRSEX':[1,],\n",
    "                  'EDUHIGHCAT':[3],\n",
    "                  'AGE2':[10],\n",
    "                  'IRALCRC':[1],\n",
    "                  'IRALCFY':[12],\n",
    "                  'CABINGEVR':[2],\n",
    "                  'IRALCAGE':[17],\n",
    "                  'TXYRRECVD2':[1],\n",
    "                  'TXEVRRCVD2':[0],\n",
    "                  'IRCIGRC':[2],\n",
    "                  'CIGDLYMO':[91],\n",
    "                  'CIGAGE':[18],\n",
    "                  'TOBYR':[0],\n",
    "                  'FUCIG18':[1],\n",
    "                  'IRMJRC':[3],\n",
    "                  'IRMJFY':[40],\n",
    "                  'FUMJ18':[2],\n",
    "                  'IRCOCRC':[1],\n",
    "                  'IRCRKRC':[1],\n",
    "                  'IRHERRC':[1],\n",
    "                  'IRHALLUCREC':[2],\n",
    "                  'IRLSDRC':[2],\n",
    "                  'IRECSTMOREC':[3],\n",
    "                  'IRINHALREC':[3],\n",
    "                  'IRMETHAMREC':[2],\n",
    "                  'ADDPREV':[1],\n",
    "                  'ADDSCEV':[1],\n",
    "                  'BOOKED':[1],\n",
    "                 }\n",
    "\n",
    "limChoicesDict"
   ]
  },
  {
   "cell_type": "code",
   "execution_count": null,
   "metadata": {},
   "outputs": [],
   "source": [
    "#Test plot\n",
    "ax = sns.boxplot(x=\"ADDPREV\", y=\"ADDPREV_Shap\", data=dfTestResults).set_title('ADDPREV')\n",
    "ax = sns.swarmplot(x=\"ADDPREV\", y=\"ADDPREV_Shap\", data=dfTestResults, color=\".25\")"
   ]
  },
  {
   "cell_type": "code",
   "execution_count": null,
   "metadata": {},
   "outputs": [],
   "source": []
  }
 ],
 "metadata": {
  "kernelspec": {
   "display_name": "Python 3",
   "language": "python",
   "name": "python3"
  },
  "language_info": {
   "codemirror_mode": {
    "name": "ipython",
    "version": 3
   },
   "file_extension": ".py",
   "mimetype": "text/x-python",
   "name": "python",
   "nbconvert_exporter": "python",
   "pygments_lexer": "ipython3",
   "version": "3.7.1"
  }
 },
 "nbformat": 4,
 "nbformat_minor": 2
}
