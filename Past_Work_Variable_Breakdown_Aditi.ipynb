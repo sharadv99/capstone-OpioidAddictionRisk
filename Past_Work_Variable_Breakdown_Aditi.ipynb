{
 "cells": [
  {
   "cell_type": "markdown",
   "metadata": {
    "colab_type": "text",
    "id": "view-in-github"
   },
   "source": [
    "<a href=\"https://colab.research.google.com/github/sharadv99/capstone-OpioidAddictionRisk/blob/master/Past_Work_Variable_Breakdown_Sharad.ipynb\" target=\"_parent\"><img src=\"https://colab.research.google.com/assets/colab-badge.svg\" alt=\"Open In Colab\"/></a>"
   ]
  },
  {
   "cell_type": "code",
   "execution_count": 1,
   "metadata": {
    "colab": {},
    "colab_type": "code",
    "id": "HWyHBw_ZSVXW"
   },
   "outputs": [],
   "source": [
    "import pandas as pd\n",
    "import numpy as np\n",
    "import pickle as pkl\n",
    "import zipfile\n",
    "import matplotlib.pyplot as plt\n",
    "%matplotlib inline"
   ]
  },
  {
   "cell_type": "code",
   "execution_count": 13,
   "metadata": {
    "colab": {},
    "colab_type": "code",
    "id": "kukFhOzTSVXa"
   },
   "outputs": [],
   "source": [
    "with zipfile.ZipFile(\"data.pickle.zip\") as z:\n",
    "    data = pd.read_pickle(z.open(\"data.pickle\"))"
   ]
  },
  {
   "cell_type": "code",
   "execution_count": 14,
   "metadata": {
    "colab": {},
    "colab_type": "code",
    "id": "eZqEwoxDSVXd",
    "outputId": "7271a4db-55cf-4c97-ca72-d77e18bb970d"
   },
   "outputs": [
    {
     "data": {
      "text/plain": [
       "(53358, 2631)"
      ]
     },
     "execution_count": 14,
     "metadata": {},
     "output_type": "execute_result"
    }
   ],
   "source": [
    "data.shape"
   ]
  },
  {
   "cell_type": "markdown",
   "metadata": {},
   "source": [
    "**Add misuse data**"
   ]
  },
  {
   "cell_type": "code",
   "execution_count": 55,
   "metadata": {},
   "outputs": [],
   "source": [
    "misuseCodes = [1, 2, 8]\n",
    "data['MISUSE'] = data.apply(lambda row: 1 if row.PNRNMREC in misuseCodes else 0,\n",
    "                                              axis=1)"
   ]
  },
  {
   "cell_type": "markdown",
   "metadata": {},
   "source": [
    "**Survey Questions sentiment - TEAM : should we use them? how?**\n",
    "\n",
    "Caveats of using survey data"
   ]
  },
  {
   "cell_type": "code",
   "execution_count": 15,
   "metadata": {},
   "outputs": [
    {
     "data": {
      "text/plain": [
       "2     49088\n",
       "1      4105\n",
       "98      165\n",
       "Name: TOOLONG, dtype: int64"
      ]
     },
     "execution_count": 15,
     "metadata": {},
     "output_type": "execute_result"
    }
   ],
   "source": [
    "# RESP SAID INTERVIEW WAS TOO LONG\n",
    "data.TOOLONG.value_counts()"
   ]
  },
  {
   "cell_type": "code",
   "execution_count": 16,
   "metadata": {},
   "outputs": [
    {
     "data": {
      "text/plain": [
       "2     50708\n",
       "1      2485\n",
       "98      165\n",
       "Name: TROUBUND, dtype: int64"
      ]
     },
     "execution_count": 16,
     "metadata": {},
     "output_type": "execute_result"
    }
   ],
   "source": [
    "# DID RESP HAVE TROUBLE UNDERSTANDING INTERVIEW\n",
    "data.TROUBUND.value_counts()"
   ]
  },
  {
   "cell_type": "markdown",
   "metadata": {
    "colab_type": "text",
    "id": "GsDPOSyDSVXh"
   },
   "source": [
    "# ALCOHOL"
   ]
  },
  {
   "cell_type": "markdown",
   "metadata": {
    "colab_type": "text",
    "id": "uClgDM9XSVXi"
   },
   "source": [
    "Variables of Interest :\n",
    "\n",
    "ALCEVER - EVER HAD DRINK OF ALCOHOLIC BEVERAGE -- boolean  \n",
    "ALCTRY - AGE WHEN FIRST DRANK ALCOHOLIC BEVERAGE - continuous but requires some bucketing  \n",
    "**ALCYFU - YEAR OF FIRST ALCOHOL USE - 64% SKIPPED -- IGNORE VARIABLE FOR FURTHER ANALYSIS**  \n",
    "**ALCMFU - MONTH OF FIRST ALCOHOL USE - 64% SKIPPED -- IGNORE VARIABLE FOR FURTHER ANALYSIS**  \n",
    "ALCREC - TIME SINCE LAST DRANK ALCOHOLIC BEVERAGE -- requires bucketing/binarizing   \n",
    "ALCYRTOT - TOTAL # OF DAYS USED ALCOHOL IN PAST 12 MOS -- continuous requires bucketing/binarizing  \n",
    "ALBSTWAY - EASIEST WAY TO TELL US # DAYS DRANK ALCOHOL -- requires bucketing/binarizing   \n",
    "ALDAYPYR - NUMBER DAYS DRANK ALCOHOL IN PAST 12 MOS -- continuous but requires bucketing  \n",
    "ALDAYPMO - # DAYS PER MONTH DRANK ALCOHOL IN PAST 12 MOS -- continuous but requires bucketing  \n",
    "ALDAYPWK - # DAYS PER WEEK DRANK ALCOHOL IN PAST 12 MOS -- continuous but requires bucketing  \n",
    "ALCDAYS - # DAYS HAD ONE OR MORE DRINKS PAST 30 DAYS -- continuous but requires bucketing  \n",
    "AL30EST - BEST ESTIMATE # DAYS HAD ONE OR MORE DRINKS -- continuous but requires bucketing  \n",
    "ALCUS30D - USUAL # OF DRINKS PER DAY PAST 30 DAYS -- continuous but requires bucketing  \n",
    "ALCBNG30D - # DAYS HAD FOUR/FIVE OR MORE DRINKS PAST 30 DYS -- continuous but requires bucketing "
   ]
  },
  {
   "cell_type": "markdown",
   "metadata": {},
   "source": [
    "### ALCEVR"
   ]
  },
  {
   "cell_type": "code",
   "execution_count": 12,
   "metadata": {},
   "outputs": [
    {
     "data": {
      "text/plain": [
       "1    45147\n",
       "0     8211\n",
       "Name: ALCEVER, dtype: int64"
      ]
     },
     "execution_count": 12,
     "metadata": {},
     "output_type": "execute_result"
    }
   ],
   "source": [
    "data.ALCEVER.value_counts()"
   ]
  },
  {
   "cell_type": "code",
   "execution_count": 11,
   "metadata": {},
   "outputs": [],
   "source": [
    "data[\"ALCEVER\"] = data[\"ALCEVER\"].apply(lambda row: 0 if row in [2, 85,94, 97] else row) #Never used smokeless tobacco"
   ]
  },
  {
   "cell_type": "markdown",
   "metadata": {
    "colab_type": "text",
    "id": "IHOsDrQUSVXj"
   },
   "source": [
    "### ALCTRY"
   ]
  },
  {
   "cell_type": "code",
   "execution_count": 10,
   "metadata": {},
   "outputs": [
    {
     "data": {
      "text/plain": [
       "<matplotlib.axes._subplots.AxesSubplot at 0x10fa9dcc0>"
      ]
     },
     "execution_count": 10,
     "metadata": {},
     "output_type": "execute_result"
    },
    {
     "data": {
      "image/png": "[encoded data removed]",
      "text/plain": [
       "<matplotlib.figure.Figure at 0x102bedcf8>"
      ]
     },
     "metadata": {
      "needs_background": "light"
     },
     "output_type": "display_data"
    }
   ],
   "source": [
    "data[\"ALCTRY\"] = data[\"ALCTRY\"].apply(lambda row: np.nan if row in [985,991,994,997, 998, 999] else row) #nulls for non smokers\n",
    "plt.figure(figsize=(12,5))\n",
    "data.ALCTRY.value_counts().sort_index().plot(kind = \"bar\")"
   ]
  },
  {
   "cell_type": "markdown",
   "metadata": {},
   "source": [
    "### ALCREC, ALCYRTOT, ALBSTWAY, ALDAYPYR, ALDAYPMO, ALDAYPWK\n",
    "ALCREC - TIME SINCE LAST DRANK ALCOHOLIC BEVERAGE -- requires bucketing/binarizing   \n",
    "ALCYRTOT - TOTAL # OF DAYS USED ALCOHOL IN PAST 12 MOS -- continuous requires bucketing/binarizing  \n",
    "ALBSTWAY - EASIEST WAY TO TELL US # DAYS DRANK ALCOHOL -- requires bucketing/binarizing   \n",
    "ALDAYPYR - NUMBER DAYS DRANK ALCOHOL IN PAST 12 MOS -- continuous but requires bucketing  \n",
    "ALDAYPMO - # DAYS PER MONTH DRANK ALCOHOL IN PAST 12 MOS -- continuous but requires bucketing  \n",
    "ALDAYPWK - # DAYS PER WEEK DRANK ALCOHOL IN PAST 12 MOS -- continuous but requires bucketing  "
   ]
  },
  {
   "cell_type": "markdown",
   "metadata": {},
   "source": [
    "#### ALREC: Time since last drank alcohol"
   ]
  },
  {
   "cell_type": "code",
   "execution_count": 17,
   "metadata": {},
   "outputs": [
    {
     "data": {
      "text/plain": [
       "<matplotlib.axes._subplots.AxesSubplot at 0x10dadba90>"
      ]
     },
     "execution_count": 17,
     "metadata": {},
     "output_type": "execute_result"
    },
    {
     "data": {
      "image/png": "[encoded data removed]",
      "text/plain": [
       "<matplotlib.figure.Figure at 0x10dac7ef0>"
      ]
     },
     "metadata": {
      "needs_background": "light"
     },
     "output_type": "display_data"
    }
   ],
   "source": [
    "data[\"ALCREC\"].value_counts().plot(kind = \"bar\")"
   ]
  },
  {
   "cell_type": "markdown",
   "metadata": {},
   "source": [
    "#### ALCYRTOT: Total # of days used alcohol in past 12 days"
   ]
  },
  {
   "cell_type": "code",
   "execution_count": 24,
   "metadata": {},
   "outputs": [
    {
     "data": {
      "text/plain": [
       "<matplotlib.axes._subplots.AxesSubplot at 0x10f968e48>"
      ]
     },
     "execution_count": 24,
     "metadata": {},
     "output_type": "execute_result"
    },
    {
     "data": {
      "image/png": "[encoded data removed]",
      "text/plain": [
       "<matplotlib.figure.Figure at 0x10fe56fd0>"
      ]
     },
     "metadata": {
      "needs_background": "light"
     },
     "output_type": "display_data"
    }
   ],
   "source": [
    "plt.figure(figsize=(16,5))\n",
    "data[\"ALCYRTOT\"].value_counts().sort_index()[:50].plot(kind = \"bar\")"
   ]
  },
  {
   "cell_type": "code",
   "execution_count": 26,
   "metadata": {},
   "outputs": [
    {
     "data": {
      "text/plain": [
       "<matplotlib.axes._subplots.AxesSubplot at 0x1106b9710>"
      ]
     },
     "execution_count": 26,
     "metadata": {},
     "output_type": "execute_result"
    },
    {
     "data": {
      "image/png": "[encoded data removed]",
      "text/plain": [
       "<matplotlib.figure.Figure at 0x110691f60>"
      ]
     },
     "metadata": {
      "needs_background": "light"
     },
     "output_type": "display_data"
    }
   ],
   "source": [
    "plt.figure(figsize=(16,5))\n",
    "data[\"ALCYRTOT\"].value_counts().sort_index(ascending=False)[:50].plot(kind = \"bar\")"
   ]
  },
  {
   "cell_type": "markdown",
   "metadata": {},
   "source": [
    "### Alcohol Days"
   ]
  },
  {
   "cell_type": "code",
   "execution_count": 36,
   "metadata": {},
   "outputs": [
    {
     "data": {
      "text/plain": [
       "<matplotlib.axes._subplots.AxesSubplot at 0x10da186d8>"
      ]
     },
     "execution_count": 36,
     "metadata": {},
     "output_type": "execute_result"
    },
    {
     "data": {
      "image/png": "[encoded data removed]",
      "text/plain": [
       "<matplotlib.figure.Figure at 0x10cc56390>"
      ]
     },
     "metadata": {
      "needs_background": "light"
     },
     "output_type": "display_data"
    }
   ],
   "source": [
    "data[\"ALBSTWAY\"] = data[\"ALBSTWAY\"].apply(lambda row: 1 if row in [1,11] else row).apply(lambda row: 3 if row in [3,13] else row).apply(lambda row: 2 if row in [2,12] else row).apply(lambda row: 0 if row in [85, 91,93, 94, 97, 98] else row)\n",
    "data[\"ALBSTWAY\"].value_counts().plot(kind = \"bar\")"
   ]
  },
  {
   "cell_type": "code",
   "execution_count": 50,
   "metadata": {},
   "outputs": [],
   "source": [
    "def get_day_12mo (row):\n",
    "    if row['ALBSTWAY'] == 0 :\n",
    "        return 0\n",
    "    if row['ALBSTWAY'] == 1:\n",
    "        return  row['ALDAYPWK'] * 52 if (row['ALDAYPWK'] < 90) else 0\n",
    "    if row['ALBSTWAY'] == 2:\n",
    "        return row['ALDAYPMO'] * 12 if row['ALDAYPMO'] < 90 else 0\n",
    "    if row['ALBSTWAY'] == 3:\n",
    "        return row['ALDAYPYR'] if row['ALDAYPYR'] < 90 else 0\n",
    "    return None"
   ]
  },
  {
   "cell_type": "code",
   "execution_count": 51,
   "metadata": {},
   "outputs": [
    {
     "data": {
      "text/html": [
       "<div>\n",
       "<style>\n",
       "    .dataframe thead tr:only-child th {\n",
       "        text-align: right;\n",
       "    }\n",
       "\n",
       "    .dataframe thead th {\n",
       "        text-align: left;\n",
       "    }\n",
       "\n",
       "    .dataframe tbody tr th {\n",
       "        vertical-align: top;\n",
       "    }\n",
       "</style>\n",
       "<table border=\"1\" class=\"dataframe\">\n",
       "  <thead>\n",
       "    <tr style=\"text-align: right;\">\n",
       "      <th></th>\n",
       "      <th>ALBSTWAY</th>\n",
       "      <th>ALDAYPYR</th>\n",
       "      <th>ALDAYPMO</th>\n",
       "      <th>ALDAYPWK</th>\n",
       "    </tr>\n",
       "  </thead>\n",
       "  <tbody>\n",
       "    <tr>\n",
       "      <th>19</th>\n",
       "      <td>0</td>\n",
       "      <td>991</td>\n",
       "      <td>91</td>\n",
       "      <td>91</td>\n",
       "    </tr>\n",
       "    <tr>\n",
       "      <th>20</th>\n",
       "      <td>2</td>\n",
       "      <td>999</td>\n",
       "      <td>5</td>\n",
       "      <td>99</td>\n",
       "    </tr>\n",
       "    <tr>\n",
       "      <th>21</th>\n",
       "      <td>3</td>\n",
       "      <td>20</td>\n",
       "      <td>99</td>\n",
       "      <td>99</td>\n",
       "    </tr>\n",
       "    <tr>\n",
       "      <th>23</th>\n",
       "      <td>0</td>\n",
       "      <td>993</td>\n",
       "      <td>93</td>\n",
       "      <td>93</td>\n",
       "    </tr>\n",
       "    <tr>\n",
       "      <th>33</th>\n",
       "      <td>2</td>\n",
       "      <td>999</td>\n",
       "      <td>16</td>\n",
       "      <td>99</td>\n",
       "    </tr>\n",
       "  </tbody>\n",
       "</table>\n",
       "</div>"
      ],
      "text/plain": [
       "    ALBSTWAY  ALDAYPYR  ALDAYPMO  ALDAYPWK\n",
       "19         0       991        91        91\n",
       "20         2       999         5        99\n",
       "21         3        20        99        99\n",
       "23         0       993        93        93\n",
       "33         2       999        16        99"
      ]
     },
     "execution_count": 51,
     "metadata": {},
     "output_type": "execute_result"
    }
   ],
   "source": [
    "data[[\"ALBSTWAY\", \"ALDAYPYR\", \"ALDAYPMO\", \"ALDAYPWK\"]].head()"
   ]
  },
  {
   "cell_type": "code",
   "execution_count": 52,
   "metadata": {},
   "outputs": [],
   "source": [
    "data[\"ALCDAYS\"] = data[[\"ALBSTWAY\", \"ALDAYPYR\", \"ALDAYPMO\", \"ALDAYPWK\"]].apply(lambda row: get_day_12mo(row), axis=1)"
   ]
  },
  {
   "cell_type": "code",
   "execution_count": 54,
   "metadata": {},
   "outputs": [
    {
     "data": {
      "text/plain": [
       "<matplotlib.axes._subplots.AxesSubplot at 0x10cf9e278>"
      ]
     },
     "execution_count": 54,
     "metadata": {},
     "output_type": "execute_result"
    },
    {
     "data": {
      "image/png": "[encoded data removed]",
      "text/plain": [
       "<matplotlib.figure.Figure at 0x10cf9e358>"
      ]
     },
     "metadata": {
      "needs_background": "light"
     },
     "output_type": "display_data"
    }
   ],
   "source": [
    "plt.figure(figsize=(16,5))\n",
    "data[\"ALCDAYS\"].value_counts().sort_index().plot(kind = \"bar\")"
   ]
  },
  {
   "cell_type": "markdown",
   "metadata": {},
   "source": [
    "# TOOLONG AND TROUBUND - Correlation check "
   ]
  },
  {
   "cell_type": "code",
   "execution_count": 63,
   "metadata": {},
   "outputs": [
    {
     "name": "stdout",
     "output_type": "stream",
     "text": [
      "TOOLONG and CIGTRY have a correlation of: -0.0046\n",
      "TOOLONG and CIG30USE have a correlation of: -0.0037\n",
      "TOOLONG and CIG30AV have a correlation of: -0.0040\n",
      "TOOLONG and CIGAGE have a correlation of: -0.0050\n",
      "TOOLONG and SMKLSSTRY have a correlation of: -0.0004\n",
      "TOOLONG and SMKLSS30N have a correlation of: 0.0019\n",
      "TOOLONG and CIGARTRY have a correlation of: 0.0037\n",
      "TOOLONG and CGR30USE have a correlation of: 0.0080\n",
      "\n",
      "\n",
      "Troubund and CIGTRY have a correlation of: -0.0077\n",
      "Troubund and CIG30USE have a correlation of: -0.0068\n",
      "Troubund and CIG30AV have a correlation of: -0.0072\n",
      "Troubund and CIGAGE have a correlation of: -0.0081\n",
      "Troubund and SMKLSSTRY have a correlation of: -0.0020\n",
      "Troubund and SMKLSS30N have a correlation of: 0.0013\n",
      "Troubund and CIGARTRY have a correlation of: 0.0023\n",
      "Troubund and CGR30USE have a correlation of: 0.0070\n"
     ]
    }
   ],
   "source": [
    "continuous_vars = [\"CIGTRY\", \"CIG30USE\", \"CIG30AV\", \"CIGAGE\", \"SMKLSSTRY\", \"SMKLSS30N\", \"CIGARTRY\", \"CGR30USE\"]\n",
    "for i in continuous_vars:\n",
    "    print(\"TOOLONG and {} have a correlation of: {:0.4f}\".format(i, data[['TOOLONG', i]].corr().iloc[0,1]))\n",
    "    \n",
    "print(\"\\n\")\n",
    "for i in continuous_vars:\n",
    "    print(\"Troubund and {} have a correlation of: {:0.4f}\".format(i, data[['TROUBUND', i]].corr().iloc[0,1]))\n",
    "    \n"
   ]
  },
  {
   "cell_type": "markdown",
   "metadata": {},
   "source": [
    "# MENTAL HEALTH UTILIZATION VARIABLES"
   ]
  },
  {
   "cell_type": "markdown",
   "metadata": {},
   "source": [
    "### AUINPYR1 Len : 2 STAY OVNT IN HOSP FOR MH TRMT PST 12 MOS"
   ]
  },
  {
   "cell_type": "markdown",
   "metadata": {},
   "source": [
    "### AUOPTYR1 Len : 2 RCVD OUTPATIENT MH TRMT PST 12 MOS"
   ]
  },
  {
   "cell_type": "markdown",
   "metadata": {},
   "source": [
    "### AURXYR1 Len : 2 TOOK ANY PRESCRIP MED FOR MH COND PAST 12 MOS"
   ]
  },
  {
   "cell_type": "markdown",
   "metadata": {},
   "source": [
    "### AUUNMTYR1 Len : 2 NEEDED MH TRMT BUT DIDN'T GET IT PAST 12 MOS"
   ]
  },
  {
   "cell_type": "markdown",
   "metadata": {},
   "source": [
    "### AUALTYR1 Len : 2 RCVD ALTERNATIVE MENT HLTH TRMT PAST 12 MOS"
   ]
  },
  {
   "cell_type": "markdown",
   "metadata": {},
   "source": [
    "# MENTAL HEALTH RECODED VARIABLES"
   ]
  },
  {
   "cell_type": "markdown",
   "metadata": {},
   "source": [
    "### DSTNRV301 Len : 2 HOW OFTEN FELT NERVOUS PAST 30 DAYS"
   ]
  },
  {
   "cell_type": "markdown",
   "metadata": {},
   "source": [
    "### DSTHOP301 Len : 2 HOW OFTEN FELT HOPELESS PAST 30 DAYS"
   ]
  },
  {
   "cell_type": "markdown",
   "metadata": {},
   "source": [
    "### DSTRST301 Len : 2 HOW OFTEN FELT RESTLESS/FIDGETY PST 30 DYS"
   ]
  },
  {
   "cell_type": "markdown",
   "metadata": {},
   "source": [
    "### DSTCHR301 Len : 2 HOW OFTEN FELT SAD NOTHING COULD CHEER YOU UP"
   ]
  },
  {
   "cell_type": "markdown",
   "metadata": {},
   "source": [
    "### DSTEFF301 Len : 2 HOW OFT FELT EVERYTHING EFFORT PST 30 DYS"
   ]
  },
  {
   "cell_type": "markdown",
   "metadata": {},
   "source": [
    "### DSTNGD301 Len : 2 HOW OFT FELT DOWN/WTHLSS/NO GOOD PST 30 DYS"
   ]
  },
  {
   "cell_type": "markdown",
   "metadata": {},
   "source": [
    "### DSTWORST1 Len : 2 MON IN PST 12 MOS FELT WORSE THAN PST 30 DYS"
   ]
  },
  {
   "cell_type": "markdown",
   "metadata": {},
   "source": [
    "### IMPREMEM1 Len : 2 DIFFICULTY REMEMBERING ONE MO IN PST 12 MOS"
   ]
  },
  {
   "cell_type": "markdown",
   "metadata": {},
   "source": [
    "### IMPCONCN1 Len : 2 DIFFICULTY CONCENTRATING ONE MO IN PST 12 MOS"
   ]
  },
  {
   "cell_type": "markdown",
   "metadata": {},
   "source": [
    "### IMPGOUT1 Len : 2 DIFFICULTY GOING OUT ONE MO IN PST 12 MO"
   ]
  },
  {
   "cell_type": "markdown",
   "metadata": {},
   "source": [
    "### IMPPEOP1 Len : 2 DIFFICULTY DEALING W STRANGERS ONE MO IN PST 12 M"
   ]
  },
  {
   "cell_type": "markdown",
   "metadata": {},
   "source": [
    "### IMPSOC1 Len : 2 DIFFICULTY PARTICIPATE IN SOCIAL ACT 1 MO /12 MO"
   ]
  },
  {
   "cell_type": "markdown",
   "metadata": {},
   "source": [
    "### IMPHHLD1 Len : 2 DIFFICULTY HOUSE RESPONS ONE MO IN PST 12 MO"
   ]
  },
  {
   "cell_type": "markdown",
   "metadata": {},
   "source": [
    "### IMPWEEKS1 Len : 2 NUM WEEKS HAVE DIFFICULTIES BECAUSE OF MENTL HLTH"
   ]
  },
  {
   "cell_type": "markdown",
   "metadata": {},
   "source": [
    "### IMPDYFRQ1 Len : 2 HOW MANY DAYS IN WEEK DID YOU HAVE DIFFICULTIES"
   ]
  },
  {
   "cell_type": "markdown",
   "metadata": {},
   "source": [
    "### IMPYDAYS1 Len : 3 HOW MANY DAY IN PAST YR YOU WERE UNABLE TO WORK"
   ]
  },
  {
   "cell_type": "markdown",
   "metadata": {},
   "source": [
    "### SUICTHNK1 Len : 2 SERIOUSLY THINK ABOUT KILLING SELF PST 12 MOS"
   ]
  },
  {
   "cell_type": "code",
   "execution_count": null,
   "metadata": {},
   "outputs": [],
   "source": []
  }
 ],
 "metadata": {
  "colab": {
   "include_colab_link": true,
   "name": "Past Work Variable Breakdown - Sharad.ipynb",
   "provenance": [],
   "version": "0.3.2"
  },
  "kernelspec": {
   "display_name": "Python 3",
   "language": "python",
   "name": "python3"
  },
  "language_info": {
   "codemirror_mode": {
    "name": "ipython",
    "version": 3
   },
   "file_extension": ".py",
   "mimetype": "text/x-python",
   "name": "python",
   "nbconvert_exporter": "python",
   "pygments_lexer": "ipython3",
   "version": "3.5.4"
  },
  "latex_envs": {
   "LaTeX_envs_menu_present": true,
   "autoclose": false,
   "autocomplete": true,
   "bibliofile": "biblio.bib",
   "cite_by": "apalike",
   "current_citInitial": 1,
   "eqLabelWithNumbers": true,
   "eqNumInitial": 1,
   "hotkeys": {
    "equation": "Ctrl-E",
    "itemize": "Ctrl-I"
   },
   "labels_anchors": false,
   "latex_user_defs": false,
   "report_style_numbering": false,
   "user_envs_cfg": false
  },
  "toc": {
   "base_numbering": 1,
   "nav_menu": {},
   "number_sections": true,
   "sideBar": true,
   "skip_h1_title": false,
   "title_cell": "Table of Contents",
   "title_sidebar": "Contents",
   "toc_cell": false,
   "toc_position": {},
   "toc_section_display": true,
   "toc_window_display": false
  },
  "varInspector": {
   "cols": {
    "lenName": 16,
    "lenType": 16,
    "lenVar": 40
   },
   "kernels_config": {
    "python": {
     "delete_cmd_postfix": "",
     "delete_cmd_prefix": "del ",
     "library": "var_list.py",
     "varRefreshCmd": "print(var_dic_list())"
    },
    "r": {
     "delete_cmd_postfix": ") ",
     "delete_cmd_prefix": "rm(",
     "library": "var_list.r",
     "varRefreshCmd": "cat(var_dic_list()) "
    }
   },
   "types_to_exclude": [
    "module",
    "function",
    "builtin_function_or_method",
    "instance",
    "_Feature"
   ],
   "window_display": false
  }
 },
 "nbformat": 4,
 "nbformat_minor": 1
}
