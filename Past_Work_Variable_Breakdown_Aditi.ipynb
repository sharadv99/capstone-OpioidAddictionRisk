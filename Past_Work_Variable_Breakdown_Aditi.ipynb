{
 "cells": [
  {
   "cell_type": "markdown",
   "metadata": {
    "colab_type": "text",
    "id": "view-in-github"
   },
   "source": [
    "<a href=\"https://colab.research.google.com/github/sharadv99/capstone-OpioidAddictionRisk/blob/master/Past_Work_Variable_Breakdown_Sharad.ipynb\" target=\"_parent\"><img src=\"https://colab.research.google.com/assets/colab-badge.svg\" alt=\"Open In Colab\"/></a>"
   ]
  },
  {
   "cell_type": "code",
   "execution_count": 6,
   "metadata": {
    "colab": {},
    "colab_type": "code",
    "id": "HWyHBw_ZSVXW"
   },
   "outputs": [],
   "source": [
    "import pandas as pd\n",
    "import numpy as np\n",
    "import pickle as pkl\n",
    "import zipfile\n",
    "import matplotlib.pyplot as plt\n",
    "%matplotlib inline"
   ]
  },
  {
   "cell_type": "code",
   "execution_count": 7,
   "metadata": {
    "colab": {},
    "colab_type": "code",
    "id": "kukFhOzTSVXa"
   },
   "outputs": [],
   "source": [
    "with zipfile.ZipFile(\"data.pickle.zip\") as z:\n",
    "    data = pd.read_pickle(z.open(\"data.pickle\"))"
   ]
  },
  {
   "cell_type": "code",
   "execution_count": 8,
   "metadata": {
    "colab": {},
    "colab_type": "code",
    "id": "eZqEwoxDSVXd",
    "outputId": "7271a4db-55cf-4c97-ca72-d77e18bb970d"
   },
   "outputs": [
    {
     "data": {
      "text/plain": [
       "(53358, 2631)"
      ]
     },
     "execution_count": 8,
     "metadata": {},
     "output_type": "execute_result"
    }
   ],
   "source": [
    "data.shape"
   ]
  },
  {
   "cell_type": "markdown",
   "metadata": {
    "colab_type": "text",
    "id": "GsDPOSyDSVXh"
   },
   "source": [
    "# TOBACCO"
   ]
  },
  {
   "cell_type": "markdown",
   "metadata": {
    "colab_type": "text",
    "id": "uClgDM9XSVXi"
   },
   "source": [
    "Variables of Interest :\n",
    "\n",
    "CIGEVER - EVER SMOKED A CIGARETTE -- boolean  \n",
    "CIGTRY - AGE WHEN FIRST SMOKED A CIGARETTE - continuous but requires some bucketing  \n",
    "CIGREC - TIME SINCE LAST SMOKED CIGARETTES   -- requires bucketing/binarizing  \n",
    "CIG30USE - HOW MANY DAYS SMOKED CIG IN PAST 30 DAYS  -- continuous but requires some bucketing  \n",
    "CIG30AV - AVG # CIGS SMOKED PER DAY/ON DAY SMOKED PAST 30 DAYS  -- continuous requires bucketing/binarizing    \n",
    "CIGDLYMO - EVER SMOKED CIG EVERY DAY FOR 30 DAYS  -- requires bucketing/binarizing  \n",
    "CIGAGE - AGE WHEN FIRST STARTED SMOKING CIGARETTES EVERYDAY -- continuous but requires bucketing  \n",
    "CIG100LF - HAVE YOU SMOKED 100 CIGS IN YOUR LIFE  -- requires bucketing/binarizing  \n",
    "SMKLSSEVR - EVER USED SMOKELESS TOBACCO  -- requires bucketing/binarizing  \n",
    "SMKLSSREC - TIME SINCE LAST USED SMOKELESS TOBACCO  -- requires bucketing/binarizing  \n",
    "SMKLSSTRY - AGE WHEN FIRST USED SMOKELESS TOBACCO -- continuous but requires bucketing  \n",
    "SMKLSS30N - HOW MANY DAYS USED SMOKELESS TOBACCO PAST 30 DAYS -- continuous but requires bucketing  \n",
    "CIGAREVR - EVER SMOKED PART OR ALL OF CIGAR  -- requires bucketing/binarizing  \n",
    "CIGARTRY - AGE WHEN FIRST SMOKED CIGAR -- continuous but requires bucketing  \n",
    "CIGARREC - TIME SINCE LAST SMOKED CIGAR  -- requires bucketing/binarizing  \n",
    "CGR30USE - HOW MANY DAYS SMOKED CIGAR IN PAST 30 DAYS  -- continuous but requires bucketing  \n",
    "PIPEVER - EVER SMOKED PIPE TOBACCO  -- requires bucketing/binarizing"
   ]
  },
  {
   "cell_type": "markdown",
   "metadata": {
    "colab_type": "text",
    "id": "IHOsDrQUSVXj"
   },
   "source": [
    "### Bucket Vals"
   ]
  },
  {
   "cell_type": "code",
   "execution_count": 0,
   "metadata": {
    "colab": {},
    "colab_type": "code",
    "id": "957cTdUHSVXj"
   },
   "outputs": [],
   "source": [
    "data[\"CIGTRY\"] = data[\"CIGTRY\"].apply(lambda row: np.nan if row in [985,991,994,997] else row) #nulls for non smokers"
   ]
  },
  {
   "cell_type": "code",
   "execution_count": 0,
   "metadata": {
    "colab": {},
    "colab_type": "code",
    "id": "C9dSGT07SVXn"
   },
   "outputs": [],
   "source": [
    "data[\"CIGREC\"] = data[\"CIGREC\"].apply(lambda row: 2 if row in [1,2,8,11] else row) #Current Cig Smoker\n",
    "data[\"CIGREC\"] = data[\"CIGREC\"].apply(lambda row: 1 if row in [3,4,9,14,19,29,39] else row) #Past Cig Smoker\n",
    "data[\"CIGREC\"] = data[\"CIGREC\"].apply(lambda row: 0 if row not in [1,2] else row) # Never Smoked Cigs"
   ]
  },
  {
   "cell_type": "code",
   "execution_count": 0,
   "metadata": {
    "colab": {},
    "colab_type": "code",
    "id": "or6t8x2dSVXq"
   },
   "outputs": [],
   "source": [
    "data[\"CIG30USE\"] = data[\"CIG30USE\"].apply(lambda row: 0 if row in [93] else row) #Didnt smoke in last 30 days\n",
    "data[\"CIG30USE\"] = data[\"CIG30USE\"].apply(lambda row: np.nan if row in [85,91,94,97,98] else row) #Never Smoked"
   ]
  },
  {
   "cell_type": "code",
   "execution_count": 0,
   "metadata": {
    "colab": {},
    "colab_type": "code",
    "id": "Wj4xIjLRSVXt"
   },
   "outputs": [],
   "source": [
    "data[\"CIG30AV\"] = data[\"CIG30AV\"].apply(lambda row: 0 if row in [93] else row) #Didnt smoke in last 30 days\n",
    "data[\"CIG30AV\"] = data[\"CIG30AV\"].apply(lambda row: np.nan if row in [85,91,94,97,98] else row) #Never Smoked"
   ]
  },
  {
   "cell_type": "code",
   "execution_count": 0,
   "metadata": {
    "colab": {},
    "colab_type": "code",
    "id": "Szns0HTaSVXx"
   },
   "outputs": [],
   "source": [
    "data[\"CIGDLYMO\"] = data[\"CIGDLYMO\"].apply(lambda row: 1 if row in [1,5] else row) #Smoked Cig Every Day 30 Days\n",
    "data[\"CIGDLYMO\"] = data[\"CIGDLYMO\"].apply(lambda row: 0 if row in [2, 91,94, 97, 98] else row) #Did not smoke everyday for 30 days"
   ]
  },
  {
   "cell_type": "code",
   "execution_count": 0,
   "metadata": {
    "colab": {},
    "colab_type": "code",
    "id": "c0nSHkdhSVX1"
   },
   "outputs": [],
   "source": [
    "data[\"CIGAGE\"] = data[\"CIGAGE\"].apply(lambda row: np.nan if row in [985,991,994,997, 998, 999] else row) #nulls for non smokers"
   ]
  },
  {
   "cell_type": "code",
   "execution_count": 0,
   "metadata": {
    "colab": {},
    "colab_type": "code",
    "id": "DUMqei15SVX5"
   },
   "outputs": [],
   "source": [
    "data[\"CIG100LF\"] = data[\"CIG100LF\"].apply(lambda row: 1 if row in [1,3,5] else row) #Smoked Cig Every 100 Days in Life\n",
    "data[\"CIG100LF\"] = data[\"CIG100LF\"].apply(lambda row: 0 if row in [2, 91,94, 97, 98] else row) #Did not smoke 100 cigs in Life"
   ]
  },
  {
   "cell_type": "code",
   "execution_count": 0,
   "metadata": {
    "colab": {},
    "colab_type": "code",
    "id": "7hnUpEbESVX9"
   },
   "outputs": [],
   "source": [
    "data[\"SMKLSSEVR\"] = data[\"SMKLSSEVR\"].apply(lambda row: 0 if row in [2, 85,94, 97] else row) #Never used smokeless tobacco"
   ]
  },
  {
   "cell_type": "code",
   "execution_count": 0,
   "metadata": {
    "colab": {},
    "colab_type": "code",
    "id": "nWene38mSVX_"
   },
   "outputs": [],
   "source": [
    "data[\"SMKLSSTRY\"] = data[\"SMKLSSTRY\"].apply(lambda row: np.nan if row in [985,991,994,997, 998] else row) #nulls for never using smokeless tobacco"
   ]
  },
  {
   "cell_type": "code",
   "execution_count": 0,
   "metadata": {
    "colab": {},
    "colab_type": "code",
    "id": "LkN2QZgKSVYB"
   },
   "outputs": [],
   "source": [
    "data[\"SMKLSSREC\"] = data[\"SMKLSSREC\"].apply(lambda row: 2 if row in [1,2,8,11] else row) #Current Smokeless Tobacco user\n",
    "data[\"SMKLSSREC\"] = data[\"SMKLSSREC\"].apply(lambda row: 1 if row in [3,4,9,14,19,29,39] else row) #Past Smokeless Tobacco user\n",
    "data[\"SMKLSSREC\"] = data[\"SMKLSSREC\"].apply(lambda row: 0 if row not in [1,2] else row) # Never Used"
   ]
  },
  {
   "cell_type": "code",
   "execution_count": 0,
   "metadata": {
    "colab": {},
    "colab_type": "code",
    "id": "Gu9guDgaSVYD"
   },
   "outputs": [],
   "source": [
    "data[\"SMKLSS30N\"] = data[\"SMKLSS30N\"].apply(lambda row: 0 if row in [93] else row) #Didnt use smokeless tobacco in last 30 days\n",
    "data[\"SMKLSS30N\"] = data[\"SMKLSS30N\"].apply(lambda row: np.nan if row in [91,94,97,98] else row) #Never Used"
   ]
  },
  {
   "cell_type": "code",
   "execution_count": 0,
   "metadata": {
    "colab": {},
    "colab_type": "code",
    "id": "cjFKfhUpSVYG"
   },
   "outputs": [],
   "source": [
    "data[\"CIGAREVR\"] = data[\"CIGAREVR\"].apply(lambda row: 0 if row in [2,94, 97] else row) #Never smoked cigar"
   ]
  },
  {
   "cell_type": "code",
   "execution_count": 0,
   "metadata": {
    "colab": {},
    "colab_type": "code",
    "id": "0LS7XjQASVYI"
   },
   "outputs": [],
   "source": [
    "data[\"CIGARTRY\"] = data[\"CIGARTRY\"].apply(lambda row: np.nan if row in [985,991,994,997, 998] else row) #nulls for non smokers"
   ]
  },
  {
   "cell_type": "code",
   "execution_count": 0,
   "metadata": {
    "colab": {},
    "colab_type": "code",
    "id": "RneVrU3OSVYN"
   },
   "outputs": [],
   "source": [
    "data[\"CIGARREC\"] = data[\"CIGARREC\"].apply(lambda row: 2 if row in [1,2,8,11] else row) #Current Cigar Smoker\n",
    "data[\"CIGARREC\"] = data[\"CIGARREC\"].apply(lambda row: 1 if row in [3,4,9,14,19,29,39] else row) #Past Cigar Smoker\n",
    "data[\"CIGARREC\"] = data[\"CIGARREC\"].apply(lambda row: 0 if row not in [1,2] else row) # Never Smoked Cigars"
   ]
  },
  {
   "cell_type": "code",
   "execution_count": 0,
   "metadata": {
    "colab": {},
    "colab_type": "code",
    "id": "sQZuc0HFSVYS"
   },
   "outputs": [],
   "source": [
    "data[\"CGR30USE\"] = data[\"CGR30USE\"].apply(lambda row: 0 if row in [93] else row) #Didnt smoke in last 30 days\n",
    "data[\"CGR30USE\"] = data[\"CGR30USE\"].apply(lambda row: np.nan if row in [91,94,97,98] else row) #Never Smoked"
   ]
  },
  {
   "cell_type": "code",
   "execution_count": 0,
   "metadata": {
    "colab": {},
    "colab_type": "code",
    "id": "M6-FaORTSVYV"
   },
   "outputs": [],
   "source": [
    "data[\"PIPEVER\"] = data[\"PIPEVER\"].apply(lambda row: 0 if row in [2, 91,94, 97, 98] else row) #Never used pipe tobacco"
   ]
  },
  {
   "cell_type": "markdown",
   "metadata": {
    "colab_type": "text",
    "id": "VKpiw9BqSVYZ"
   },
   "source": [
    "### Continuous Variable Correlations"
   ]
  },
  {
   "cell_type": "code",
   "execution_count": 0,
   "metadata": {
    "colab": {},
    "colab_type": "code",
    "id": "2rL5UkKaSVYa"
   },
   "outputs": [],
   "source": [
    "misuseCodes = [1, 2, 8]\n",
    "data['MISUSE'] = data.apply(lambda row: 1 if row.PNRNMREC in misuseCodes else 0,\n",
    "                                              axis=1)"
   ]
  },
  {
   "cell_type": "code",
   "execution_count": 0,
   "metadata": {
    "colab": {},
    "colab_type": "code",
    "id": "LYAXTSmiSVYd"
   },
   "outputs": [],
   "source": [
    "continuous_vars = [\"CIGTRY\", \"CIG30USE\", \"CIG30AV\", \"CIGAGE\", \"SMKLSSTRY\", \"SMKLSS30N\", \"CIGARTRY\", \"CGR30USE\"]\n",
    "categorical_vars = [\"CIGREC\", \"CIGDLYMO\", \"CIG100LF\", \"SMKLSSEVR\", \"SMKLSSREC\", \"CIGAREVR\", \"CIGARREC\", \"PIPEVER\"]\n",
    "binary_vars = [\"CIGDLYMO\", \"CIG100LF\", \"SMKLSSEVR\", \"CIGAREVR\", \"PIPEVER\"]"
   ]
  },
  {
   "cell_type": "code",
   "execution_count": 0,
   "metadata": {
    "colab": {},
    "colab_type": "code",
    "id": "IW_sL22KSVYh",
    "outputId": "62f44015-6c35-4def-b570-46350f60c554"
   },
   "outputs": [
    {
     "name": "stdout",
     "output_type": "stream",
     "text": [
      "MISUSE and CIGTRY have a correlation of: -0.11\n",
      "MISUSE and CIG30USE have a correlation of: 0.13\n",
      "MISUSE and CIG30AV have a correlation of: 0.14\n",
      "MISUSE and CIGAGE have a correlation of: -0.07\n",
      "MISUSE and SMKLSSTRY have a correlation of: -0.07\n",
      "MISUSE and SMKLSS30N have a correlation of: -0.01\n",
      "MISUSE and CIGARTRY have a correlation of: -0.17\n",
      "MISUSE and CGR30USE have a correlation of: 0.07\n"
     ]
    }
   ],
   "source": [
    "for i in continuous_vars:\n",
    "    print(\"MISUSE and {} have a correlation of: {:0.2f}\".format(i, data[['MISUSE', i]].corr().iloc[0,1]))"
   ]
  },
  {
   "cell_type": "markdown",
   "metadata": {
    "colab_type": "text",
    "id": "zUAs-ktzSVYk"
   },
   "source": [
    "**Weak correlation with the continuous variables and Misuse in tobacco section**"
   ]
  },
  {
   "cell_type": "code",
   "execution_count": 0,
   "metadata": {
    "colab": {},
    "colab_type": "code",
    "id": "Y8aEzSMaSVYl",
    "outputId": "12c4f69a-9984-4e7f-9e89-78ecbae7cc14"
   },
   "outputs": [
    {
     "name": "stdout",
     "output_type": "stream",
     "text": [
      "CIGREC  MISUSE\n",
      "0       0         17683\n",
      "        1          1938\n",
      "1       0         13709\n",
      "        1          1880\n",
      "2       0         13283\n",
      "        1          4865\n",
      "Name: CIGREC, dtype: int64\n",
      "CIGDLYMO  MISUSE\n",
      "0         0         28996\n",
      "          1          4457\n",
      "1         0         15679\n",
      "          1          4226\n",
      "Name: CIGDLYMO, dtype: int64\n",
      "CIG100LF  MISUSE\n",
      "0         0         27479\n",
      "          1          4057\n",
      "1         0         17196\n",
      "          1          4626\n",
      "Name: CIG100LF, dtype: int64\n",
      "SMKLSSEVR  MISUSE\n",
      "0          0         36558\n",
      "           1          5691\n",
      "1          0          8117\n",
      "           1          2992\n",
      "Name: SMKLSSEVR, dtype: int64\n",
      "SMKLSSREC  MISUSE\n",
      "0          0         36558\n",
      "           1          5691\n",
      "1          0          5527\n",
      "           1          1824\n",
      "2          0          2590\n",
      "           1          1168\n",
      "Name: SMKLSSREC, dtype: int64\n",
      "CIGAREVR  MISUSE\n",
      "0         0         29936\n",
      "          1          4124\n",
      "1         0         14739\n",
      "          1          4559\n",
      "Name: CIGAREVR, dtype: int64\n",
      "CIGARREC  MISUSE\n",
      "0         0         29936\n",
      "          1          4124\n",
      "1         0          9815\n",
      "          1          2336\n",
      "2         0          4924\n",
      "          1          2223\n",
      "Name: CIGARREC, dtype: int64\n",
      "PIPEVER  MISUSE\n",
      "0        0         39996\n",
      "         1          6969\n",
      "1        0          4679\n",
      "         1          1714\n",
      "Name: PIPEVER, dtype: int64\n"
     ]
    }
   ],
   "source": [
    "for variable in categorical_vars:\n",
    "    print(data.groupby([variable, 'MISUSE'])[variable].count())"
   ]
  },
  {
   "cell_type": "code",
   "execution_count": 0,
   "metadata": {
    "colab": {},
    "colab_type": "code",
    "id": "LRdJ29ltSVYm",
    "outputId": "ac55516a-9f1e-467e-d5bc-559a18d05d67"
   },
   "outputs": [
    {
     "name": "stdout",
     "output_type": "stream",
     "text": [
      "21.23% of users with CIGDLYMO = 1 misused, while only 13.32% of users with CIGDLYMO = 0 misused\n",
      "21.20% of users with CIG100LF = 1 misused, while only 12.86% of users with CIG100LF = 0 misused\n",
      "26.93% of users with SMKLSSEVR = 1 misused, while only 13.47% of users with SMKLSSEVR = 0 misused\n",
      "23.62% of users with CIGAREVR = 1 misused, while only 12.11% of users with CIGAREVR = 0 misused\n",
      "26.81% of users with PIPEVER = 1 misused, while only 14.84% of users with PIPEVER = 0 misused\n"
     ]
    }
   ],
   "source": [
    "for i in binary_vars:\n",
    "    pos_and_misuse = len(data[(data[i] == 1) & (data[\"MISUSE\"] == 1)])/len(data[data[i] == 1]) *100\n",
    "    neg_and_misuse = len(data[(data[i] == 0) & (data[\"MISUSE\"] == 1)])/len(data[data[i] == 0]) *100\n",
    "    print(\"{:0.2f}% of users with {} = 1 misused, while only {:0.2f}% of users with {} = 0 misused\".format(pos_and_misuse, i,\n",
    "                                                                                                   neg_and_misuse, i))"
   ]
  },
  {
   "cell_type": "code",
   "execution_count": 0,
   "metadata": {
    "colab": {},
    "colab_type": "code",
    "id": "jxGVNYIpSVYo",
    "outputId": "5621e328-0bd9-47a7-bb8d-40890b4a5cf2"
   },
   "outputs": [
    {
     "name": "stdout",
     "output_type": "stream",
     "text": [
      "26.81% of users with CIGREC = 2 misused, 12.06% of users with CIGREC = 1 misused,  while only 9.88% of users with CIGREC = 0 misused\n",
      "31.08% of users with SMKLSSREC = 2 misused, 24.81% of users with SMKLSSREC = 1 misused,  while only 13.47% of users with SMKLSSREC = 0 misused\n",
      "31.10% of users with CIGARREC = 2 misused, 19.22% of users with CIGARREC = 1 misused,  while only 12.11% of users with CIGARREC = 0 misused\n"
     ]
    }
   ],
   "source": [
    "categorical_vars_non_binary = [\"CIGREC\", \"SMKLSSREC\", \"CIGARREC\"]\n",
    "\n",
    "\n",
    "for i in categorical_vars_non_binary:\n",
    "    curr_and_misuse = len(data[(data[i] == 2) & (data[\"MISUSE\"] == 1)])/len(data[data[i] == 2]) *100\n",
    "    past_and_misuse = len(data[(data[i] == 1) & (data[\"MISUSE\"] == 1)])/len(data[data[i] == 1]) *100\n",
    "    neg_and_misuse = len(data[(data[i] == 0) & (data[\"MISUSE\"] == 1)])/len(data[data[i] == 0]) *100\n",
    "    print(\"{:0.2f}% of users with {} = 2 misused, {:0.2f}% of users with {} = 1 misused,  while only {:0.2f}% of users with {} = 0 misused\".format(curr_and_misuse, i,\n",
    "                                                                                                   past_and_misuse, i, neg_and_misuse, i))"
   ]
  },
  {
   "cell_type": "code",
   "execution_count": 0,
   "metadata": {
    "colab": {},
    "colab_type": "code",
    "id": "FU2mnSJeSVYs"
   },
   "outputs": [],
   "source": []
  }
 ],
 "metadata": {
  "colab": {
   "include_colab_link": true,
   "name": "Past Work Variable Breakdown - Sharad.ipynb",
   "provenance": [],
   "version": "0.3.2"
  },
  "kernelspec": {
   "display_name": "Python 3",
   "language": "python",
   "name": "python3"
  },
  "language_info": {
   "codemirror_mode": {
    "name": "ipython",
    "version": 3
   },
   "file_extension": ".py",
   "mimetype": "text/x-python",
   "name": "python",
   "nbconvert_exporter": "python",
   "pygments_lexer": "ipython3",
   "version": "3.5.4"
  },
  "latex_envs": {
   "LaTeX_envs_menu_present": true,
   "autoclose": false,
   "autocomplete": true,
   "bibliofile": "biblio.bib",
   "cite_by": "apalike",
   "current_citInitial": 1,
   "eqLabelWithNumbers": true,
   "eqNumInitial": 1,
   "hotkeys": {
    "equation": "Ctrl-E",
    "itemize": "Ctrl-I"
   },
   "labels_anchors": false,
   "latex_user_defs": false,
   "report_style_numbering": false,
   "user_envs_cfg": false
  },
  "toc": {
   "base_numbering": 1,
   "nav_menu": {},
   "number_sections": true,
   "sideBar": true,
   "skip_h1_title": false,
   "title_cell": "Table of Contents",
   "title_sidebar": "Contents",
   "toc_cell": false,
   "toc_position": {},
   "toc_section_display": true,
   "toc_window_display": false
  },
  "varInspector": {
   "cols": {
    "lenName": 16,
    "lenType": 16,
    "lenVar": 40
   },
   "kernels_config": {
    "python": {
     "delete_cmd_postfix": "",
     "delete_cmd_prefix": "del ",
     "library": "var_list.py",
     "varRefreshCmd": "print(var_dic_list())"
    },
    "r": {
     "delete_cmd_postfix": ") ",
     "delete_cmd_prefix": "rm(",
     "library": "var_list.r",
     "varRefreshCmd": "cat(var_dic_list()) "
    }
   },
   "types_to_exclude": [
    "module",
    "function",
    "builtin_function_or_method",
    "instance",
    "_Feature"
   ],
   "window_display": false
  }
 },
 "nbformat": 4,
 "nbformat_minor": 1
}
