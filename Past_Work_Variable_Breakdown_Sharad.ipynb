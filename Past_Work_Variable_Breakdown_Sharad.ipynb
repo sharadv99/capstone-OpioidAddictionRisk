{
  "nbformat": 4,
  "nbformat_minor": 0,
  "metadata": {
    "colab": {
      "name": "Past Work Variable Breakdown - Sharad.ipynb",
      "version": "0.3.2",
      "provenance": [],
      "include_colab_link": true
    },
    "language_info": {
      "codemirror_mode": {
        "name": "ipython",
        "version": 3
      },
      "file_extension": ".py",
      "mimetype": "text/x-python",
      "name": "python",
      "nbconvert_exporter": "python",
      "pygments_lexer": "ipython3",
      "version": "3.6.1"
    },
    "kernelspec": {
      "display_name": "Python 3",
      "language": "python",
      "name": "python3"
    }
  },
  "cells": [
    {
      "cell_type": "markdown",
      "metadata": {
        "id": "view-in-github",
        "colab_type": "text"
      },
      "source": [
        "<a href=\"https://colab.research.google.com/github/sharadv99/capstone-OpioidAddictionRisk/blob/master/Past_Work_Variable_Breakdown_Sharad.ipynb\" target=\"_parent\"><img src=\"https://colab.research.google.com/assets/colab-badge.svg\" alt=\"Open In Colab\"/></a>"
      ]
    },
    {
      "cell_type": "code",
      "metadata": {
        "id": "xS55DOv3KUne",
        "colab_type": "code",
        "colab": {}
      },
      "source": [
        "import pandas as pd\n",
        "import numpy as np\n",
        "import pickle as pkl\n",
        "import zipfile\n",
        "import matplotlib.pyplot as plt\n",
        "%matplotlib inline"
      ],
      "execution_count": 0,
      "outputs": []
    },
    {
      "cell_type": "code",
      "metadata": {
        "id": "a4rc5MypKUnl",
        "colab_type": "code",
        "colab": {}
      },
      "source": [
        "with zipfile.ZipFile(\"data.pickle.zip\") as z:\n",
        "    data = pd.read_pickle(z.open(\"data.pickle\"))"
      ],
      "execution_count": 0,
      "outputs": []
    },
    {
      "cell_type": "code",
      "metadata": {
        "id": "eHixsf2wKUno",
        "colab_type": "code",
        "colab": {},
        "outputId": "12a4db1a-b2c1-41ba-8293-a6411ba348c7"
      },
      "source": [
        "data.shape"
      ],
      "execution_count": 0,
      "outputs": [
        {
          "output_type": "execute_result",
          "data": {
            "text/plain": [
              "(53358, 2631)"
            ]
          },
          "metadata": {
            "tags": []
          },
          "execution_count": 152
        }
      ]
    },
    {
      "cell_type": "markdown",
      "metadata": {
        "id": "iXpEuZEnKUns",
        "colab_type": "text"
      },
      "source": [
        "# TOBACCO"
      ]
    },
    {
      "cell_type": "markdown",
      "metadata": {
        "id": "Mb_fj6_fKUnt",
        "colab_type": "text"
      },
      "source": [
        "Variables of Interest :\n",
        "\n",
        "CIGEVER - EVER SMOKED A CIGARETTE -- boolean  \n",
        "CIGTRY - AGE WHEN FIRST SMOKED A CIGARETTE - continuous but requires some bucketing  \n",
        "CIGREC - TIME SINCE LAST SMOKED CIGARETTES   -- requires bucketing/binarizing  \n",
        "CIG30USE - HOW MANY DAYS SMOKED CIG IN PAST 30 DAYS  -- continuous but requires some bucketing  \n",
        "CIG30AV - AVG # CIGS SMOKED PER DAY/ON DAY SMOKED PAST 30 DAYS  -- continuous requires bucketing/binarizing    \n",
        "CIGDLYMO - EVER SMOKED CIG EVERY DAY FOR 30 DAYS  -- requires bucketing/binarizing  \n",
        "CIGAGE - AGE WHEN FIRST STARTED SMOKING CIGARETTES EVERYDAY -- continuous but requires bucketing  \n",
        "CIG100LF - HAVE YOU SMOKED 100 CIGS IN YOUR LIFE  -- requires bucketing/binarizing  \n",
        "SMKLSSEVR - EVER USED SMOKELESS TOBACCO  -- requires bucketing/binarizing  \n",
        "SMKLSSREC - TIME SINCE LAST USED SMOKELESS TOBACCO  -- requires bucketing/binarizing  \n",
        "SMKLSSTRY - AGE WHEN FIRST USED SMOKELESS TOBACCO -- continuous but requires bucketing  \n",
        "SMKLSS30N - HOW MANY DAYS USED SMOKELESS TOBACCO PAST 30 DAYS -- continuous but requires bucketing  \n",
        "CIGAREVR - EVER SMOKED PART OR ALL OF CIGAR  -- requires bucketing/binarizing  \n",
        "CIGARTRY - AGE WHEN FIRST SMOKED CIGAR -- continuous but requires bucketing  \n",
        "CIGARREC - TIME SINCE LAST SMOKED CIGAR  -- requires bucketing/binarizing  \n",
        "CGR30USE - HOW MANY DAYS SMOKED CIGAR IN PAST 30 DAYS  -- continuous but requires bucketing  \n",
        "PIPEVER - EVER SMOKED PIPE TOBACCO  -- requires bucketing/binarizing"
      ]
    },
    {
      "cell_type": "markdown",
      "metadata": {
        "id": "YYR0Gh-kKUnu",
        "colab_type": "text"
      },
      "source": [
        "### Bucket Vals"
      ]
    },
    {
      "cell_type": "code",
      "metadata": {
        "id": "5pTwf23UKUnv",
        "colab_type": "code",
        "colab": {}
      },
      "source": [
        "data[\"CIGTRY\"] = data[\"CIGTRY\"].apply(lambda row: np.nan if row in [985,991,994,997] else row) #nulls for non smokers"
      ],
      "execution_count": 0,
      "outputs": []
    },
    {
      "cell_type": "code",
      "metadata": {
        "id": "u8hiKptxKUnx",
        "colab_type": "code",
        "colab": {}
      },
      "source": [
        "data[\"CIGREC\"] = data[\"CIGREC\"].apply(lambda row: 2 if row in [1,2,8,11] else row) #Current Cig Smoker\n",
        "data[\"CIGREC\"] = data[\"CIGREC\"].apply(lambda row: 1 if row in [3,4,9,14,19,29,39] else row) #Past Cig Smoker\n",
        "data[\"CIGREC\"] = data[\"CIGREC\"].apply(lambda row: 0 if row not in [1,2] else row) # Never Smoked Cigs"
      ],
      "execution_count": 0,
      "outputs": []
    },
    {
      "cell_type": "code",
      "metadata": {
        "id": "QWAcqg-bKUnz",
        "colab_type": "code",
        "colab": {}
      },
      "source": [
        "data[\"CIG30USE\"] = data[\"CIG30USE\"].apply(lambda row: 0 if row in [93] else row) #Didnt smoke in last 30 days\n",
        "data[\"CIG30USE\"] = data[\"CIG30USE\"].apply(lambda row: np.nan if row in [85,91,94,97,98] else row) #Never Smoked"
      ],
      "execution_count": 0,
      "outputs": []
    },
    {
      "cell_type": "code",
      "metadata": {
        "id": "l6dT9TUmKUn1",
        "colab_type": "code",
        "colab": {}
      },
      "source": [
        "data[\"CIG30AV\"] = data[\"CIG30AV\"].apply(lambda row: 0 if row in [93] else row) #Didnt smoke in last 30 days\n",
        "data[\"CIG30AV\"] = data[\"CIG30AV\"].apply(lambda row: np.nan if row in [85,91,94,97,98] else row) #Never Smoked"
      ],
      "execution_count": 0,
      "outputs": []
    },
    {
      "cell_type": "code",
      "metadata": {
        "id": "L337jfZ4KUn3",
        "colab_type": "code",
        "colab": {}
      },
      "source": [
        "data[\"CIGDLYMO\"] = data[\"CIGDLYMO\"].apply(lambda row: 1 if row in [1,5] else row) #Smoked Cig Every Day 30 Days\n",
        "data[\"CIGDLYMO\"] = data[\"CIGDLYMO\"].apply(lambda row: 0 if row in [2, 91,94, 97, 98] else row) #Did not smoke everyday for 30 days"
      ],
      "execution_count": 0,
      "outputs": []
    },
    {
      "cell_type": "code",
      "metadata": {
        "id": "28w4fbIUKUn6",
        "colab_type": "code",
        "colab": {}
      },
      "source": [
        "data[\"CIGAGE\"] = data[\"CIGAGE\"].apply(lambda row: np.nan if row in [985,991,994,997, 998, 999] else row) #nulls for non smokers"
      ],
      "execution_count": 0,
      "outputs": []
    },
    {
      "cell_type": "code",
      "metadata": {
        "id": "iedhzb16KUn_",
        "colab_type": "code",
        "colab": {}
      },
      "source": [
        "data[\"CIG100LF\"] = data[\"CIG100LF\"].apply(lambda row: 1 if row in [1,3,5] else row) #Smoked Cig Every 100 Days in Life\n",
        "data[\"CIG100LF\"] = data[\"CIG100LF\"].apply(lambda row: 0 if row in [2, 91,94, 97, 98] else row) #Did not smoke 100 cigs in Life"
      ],
      "execution_count": 0,
      "outputs": []
    },
    {
      "cell_type": "code",
      "metadata": {
        "id": "kq-mB3hxKUoB",
        "colab_type": "code",
        "colab": {}
      },
      "source": [
        "data[\"SMKLSSEVR\"] = data[\"SMKLSSEVR\"].apply(lambda row: 0 if row in [2, 85,94, 97] else row) #Never used smokeless tobacco"
      ],
      "execution_count": 0,
      "outputs": []
    },
    {
      "cell_type": "code",
      "metadata": {
        "id": "buPCEQ4XKUoD",
        "colab_type": "code",
        "colab": {}
      },
      "source": [
        "data[\"SMKLSSTRY\"] = data[\"SMKLSSTRY\"].apply(lambda row: np.nan if row in [985,991,994,997, 998] else row) #nulls for never using smokeless tobacco"
      ],
      "execution_count": 0,
      "outputs": []
    },
    {
      "cell_type": "code",
      "metadata": {
        "id": "RuhpBxgOKUoG",
        "colab_type": "code",
        "colab": {}
      },
      "source": [
        "data[\"SMKLSSREC\"] = data[\"SMKLSSREC\"].apply(lambda row: 2 if row in [1,2,8,11] else row) #Current Smokeless Tobacco user\n",
        "data[\"SMKLSSREC\"] = data[\"SMKLSSREC\"].apply(lambda row: 1 if row in [3,4,9,14,19,29,39] else row) #Past Smokeless Tobacco user\n",
        "data[\"SMKLSSREC\"] = data[\"SMKLSSREC\"].apply(lambda row: 0 if row not in [1,2] else row) # Never Used"
      ],
      "execution_count": 0,
      "outputs": []
    },
    {
      "cell_type": "code",
      "metadata": {
        "id": "XBYQm9zCKUoK",
        "colab_type": "code",
        "colab": {}
      },
      "source": [
        "data[\"SMKLSS30N\"] = data[\"SMKLSS30N\"].apply(lambda row: 0 if row in [93] else row) #Didnt use smokeless tobacco in last 30 days\n",
        "data[\"SMKLSS30N\"] = data[\"SMKLSS30N\"].apply(lambda row: np.nan if row in [91,94,97,98] else row) #Never Used"
      ],
      "execution_count": 0,
      "outputs": []
    },
    {
      "cell_type": "code",
      "metadata": {
        "id": "RUPvlI3LKUoN",
        "colab_type": "code",
        "colab": {}
      },
      "source": [
        "data[\"CIGAREVR\"] = data[\"CIGAREVR\"].apply(lambda row: 0 if row in [2,94, 97] else row) #Never smoked cigar"
      ],
      "execution_count": 0,
      "outputs": []
    },
    {
      "cell_type": "code",
      "metadata": {
        "id": "pZib1-DtKUoP",
        "colab_type": "code",
        "colab": {}
      },
      "source": [
        "data[\"CIGARTRY\"] = data[\"CIGARTRY\"].apply(lambda row: np.nan if row in [985,991,994,997, 998] else row) #nulls for non smokers"
      ],
      "execution_count": 0,
      "outputs": []
    },
    {
      "cell_type": "code",
      "metadata": {
        "id": "CRbX8N5XKUoR",
        "colab_type": "code",
        "colab": {}
      },
      "source": [
        "data[\"CIGARREC\"] = data[\"CIGARREC\"].apply(lambda row: 2 if row in [1,2,8,11] else row) #Current Cigar Smoker\n",
        "data[\"CIGARREC\"] = data[\"CIGARREC\"].apply(lambda row: 1 if row in [3,4,9,14,19,29,39] else row) #Past Cigar Smoker\n",
        "data[\"CIGARREC\"] = data[\"CIGARREC\"].apply(lambda row: 0 if row not in [1,2] else row) # Never Smoked Cigars"
      ],
      "execution_count": 0,
      "outputs": []
    },
    {
      "cell_type": "code",
      "metadata": {
        "id": "6uC9XColKUoV",
        "colab_type": "code",
        "colab": {}
      },
      "source": [
        "data[\"CGR30USE\"] = data[\"CGR30USE\"].apply(lambda row: 0 if row in [93] else row) #Didnt smoke in last 30 days\n",
        "data[\"CGR30USE\"] = data[\"CGR30USE\"].apply(lambda row: np.nan if row in [91,94,97,98] else row) #Never Smoked"
      ],
      "execution_count": 0,
      "outputs": []
    },
    {
      "cell_type": "code",
      "metadata": {
        "id": "7HVJIvjTKUoX",
        "colab_type": "code",
        "colab": {}
      },
      "source": [
        "data[\"PIPEVER\"] = data[\"PIPEVER\"].apply(lambda row: 0 if row in [2, 91,94, 97, 98] else row) #Never used pipe tobacco"
      ],
      "execution_count": 0,
      "outputs": []
    },
    {
      "cell_type": "markdown",
      "metadata": {
        "id": "q2gNQ2RuKUoa",
        "colab_type": "text"
      },
      "source": [
        "### Continuous Variable Correlations"
      ]
    },
    {
      "cell_type": "code",
      "metadata": {
        "id": "lAgjX6r7KUoa",
        "colab_type": "code",
        "colab": {}
      },
      "source": [
        "misuseCodes = [1, 2, 8]\n",
        "data['MISUSE'] = data.apply(lambda row: 1 if row.PNRNMREC in misuseCodes else 0,\n",
        "                                              axis=1)"
      ],
      "execution_count": 0,
      "outputs": []
    },
    {
      "cell_type": "code",
      "metadata": {
        "collapsed": true,
        "id": "MwG0n08_KUod",
        "colab_type": "code",
        "colab": {}
      },
      "source": [
        "continuous_vars = [\"CIGTRY\", \"CIG30USE\", \"CIG30AV\", \"CIGAGE\", \"SMKLSSTRY\", \"SMKLSS30N\", \"CIGARTRY\", \"CGR30USE\"]\n",
        "categorical_vars = [\"CIGREC\", \"CIGDLYMO\", \"CIG100LF\", \"SMKLSSEVR\", \"SMKLSSREC\", \"CIGAREVR\", \"CIGARREC\", \"PIPEVER\"]\n",
        "binary_vars = [\"CIGDLYMO\", \"CIG100LF\", \"SMKLSSEVR\", \"CIGAREVR\", \"PIPEVER\"]"
      ],
      "execution_count": 0,
      "outputs": []
    },
    {
      "cell_type": "code",
      "metadata": {
        "id": "vnXscuNKKUog",
        "colab_type": "code",
        "colab": {},
        "outputId": "4a48f02e-af33-4d9a-c18d-4df5f5808489"
      },
      "source": [
        "for i in continuous_vars:\n",
        "    print(\"MISUSE and {} have a correlation of: {:0.2f}\".format(i, data[['MISUSE', i]].corr().iloc[0,1]))"
      ],
      "execution_count": 0,
      "outputs": [
        {
          "output_type": "stream",
          "text": [
            "MISUSE and CIGTRY have a correlation of: -0.11\n",
            "MISUSE and CIG30USE have a correlation of: 0.13\n",
            "MISUSE and CIG30AV have a correlation of: 0.14\n",
            "MISUSE and CIGAGE have a correlation of: -0.07\n",
            "MISUSE and SMKLSSTRY have a correlation of: -0.07\n",
            "MISUSE and SMKLSS30N have a correlation of: -0.01\n",
            "MISUSE and CIGARTRY have a correlation of: -0.17\n",
            "MISUSE and CGR30USE have a correlation of: 0.07\n"
          ],
          "name": "stdout"
        }
      ]
    },
    {
      "cell_type": "markdown",
      "metadata": {
        "id": "sq4fVwDzKUoi",
        "colab_type": "text"
      },
      "source": [
        "**Weak correlation with the continuous variables and Misuse in tobacco section**"
      ]
    },
    {
      "cell_type": "code",
      "metadata": {
        "id": "wkHH1No3KUoj",
        "colab_type": "code",
        "colab": {},
        "outputId": "3db77cf4-7eb7-4284-f313-4cf17867466f"
      },
      "source": [
        "for variable in categorical_vars:\n",
        "    print(data.groupby([variable, 'MISUSE'])[variable].count())"
      ],
      "execution_count": 0,
      "outputs": [
        {
          "output_type": "stream",
          "text": [
            "CIGREC  MISUSE\n",
            "0       0         17683\n",
            "        1          1938\n",
            "1       0         13709\n",
            "        1          1880\n",
            "2       0         13283\n",
            "        1          4865\n",
            "Name: CIGREC, dtype: int64\n",
            "CIGDLYMO  MISUSE\n",
            "0         0         28996\n",
            "          1          4457\n",
            "1         0         15679\n",
            "          1          4226\n",
            "Name: CIGDLYMO, dtype: int64\n",
            "CIG100LF  MISUSE\n",
            "0         0         27479\n",
            "          1          4057\n",
            "1         0         17196\n",
            "          1          4626\n",
            "Name: CIG100LF, dtype: int64\n",
            "SMKLSSEVR  MISUSE\n",
            "0          0         36558\n",
            "           1          5691\n",
            "1          0          8117\n",
            "           1          2992\n",
            "Name: SMKLSSEVR, dtype: int64\n",
            "SMKLSSREC  MISUSE\n",
            "0          0         36558\n",
            "           1          5691\n",
            "1          0          5527\n",
            "           1          1824\n",
            "2          0          2590\n",
            "           1          1168\n",
            "Name: SMKLSSREC, dtype: int64\n",
            "CIGAREVR  MISUSE\n",
            "0         0         29936\n",
            "          1          4124\n",
            "1         0         14739\n",
            "          1          4559\n",
            "Name: CIGAREVR, dtype: int64\n",
            "CIGARREC  MISUSE\n",
            "0         0         29936\n",
            "          1          4124\n",
            "1         0          9815\n",
            "          1          2336\n",
            "2         0          4924\n",
            "          1          2223\n",
            "Name: CIGARREC, dtype: int64\n",
            "PIPEVER  MISUSE\n",
            "0        0         39996\n",
            "         1          6969\n",
            "1        0          4679\n",
            "         1          1714\n",
            "Name: PIPEVER, dtype: int64\n"
          ],
          "name": "stdout"
        }
      ]
    },
    {
      "cell_type": "code",
      "metadata": {
        "id": "NiAn7oJ3KUon",
        "colab_type": "code",
        "colab": {},
        "outputId": "71a468fd-87cd-4d7f-a93a-5a981266dfbe"
      },
      "source": [
        "for i in binary_vars:\n",
        "    pos_and_misuse = len(data[(data[i] == 1) & (data[\"MISUSE\"] == 1)])/len(data[data[i] == 1]) *100\n",
        "    neg_and_misuse = len(data[(data[i] == 0) & (data[\"MISUSE\"] == 1)])/len(data[data[i] == 0]) *100\n",
        "    print(\"{:0.2f}% of users with {} = 1 misused, while only {:0.2f}% of users with {} = 0 misused\".format(pos_and_misuse, i,\n",
        "                                                                                                   neg_and_misuse, i))"
      ],
      "execution_count": 0,
      "outputs": [
        {
          "output_type": "stream",
          "text": [
            "21.23% of users with CIGDLYMO = 1 misused, while only 13.32% of users with CIGDLYMO = 0 misused\n",
            "21.20% of users with CIG100LF = 1 misused, while only 12.86% of users with CIG100LF = 0 misused\n",
            "26.93% of users with SMKLSSEVR = 1 misused, while only 13.47% of users with SMKLSSEVR = 0 misused\n",
            "23.62% of users with CIGAREVR = 1 misused, while only 12.11% of users with CIGAREVR = 0 misused\n",
            "26.81% of users with PIPEVER = 1 misused, while only 14.84% of users with PIPEVER = 0 misused\n"
          ],
          "name": "stdout"
        }
      ]
    },
    {
      "cell_type": "code",
      "metadata": {
        "id": "AQYXCLR4KUoq",
        "colab_type": "code",
        "colab": {},
        "outputId": "4905c5ab-f94b-4664-fbb8-d83881d31163"
      },
      "source": [
        "categorical_vars_non_binary = [\"CIGREC\", \"SMKLSSREC\", \"CIGARREC\"]\n",
        "\n",
        "\n",
        "for i in categorical_vars_non_binary:\n",
        "    curr_and_misuse = len(data[(data[i] == 2) & (data[\"MISUSE\"] == 1)])/len(data[data[i] == 2]) *100\n",
        "    past_and_misuse = len(data[(data[i] == 1) & (data[\"MISUSE\"] == 1)])/len(data[data[i] == 1]) *100\n",
        "    neg_and_misuse = len(data[(data[i] == 0) & (data[\"MISUSE\"] == 1)])/len(data[data[i] == 0]) *100\n",
        "    print(\"{:0.2f}% of users with {} = 2 misused, {:0.2f}% of users with {} = 1 misused,  while only {:0.2f}% of users with {} = 0 misused\".format(curr_and_misuse, i,\n",
        "                                                                                                   past_and_misuse, i, neg_and_misuse, i))"
      ],
      "execution_count": 0,
      "outputs": [
        {
          "output_type": "stream",
          "text": [
            "26.81% of users with CIGREC = 2 misused, 12.06% of users with CIGREC = 1 misused,  while only 9.88% of users with CIGREC = 0 misused\n",
            "31.08% of users with SMKLSSREC = 2 misused, 24.81% of users with SMKLSSREC = 1 misused,  while only 13.47% of users with SMKLSSREC = 0 misused\n",
            "31.10% of users with CIGARREC = 2 misused, 19.22% of users with CIGARREC = 1 misused,  while only 12.11% of users with CIGARREC = 0 misused\n"
          ],
          "name": "stdout"
        }
      ]
    },
    {
      "cell_type": "markdown",
      "metadata": {
        "id": "FRJjRSuFKUos",
        "colab_type": "text"
      },
      "source": [
        "# MARIJUANA"
      ]
    },
    {
      "cell_type": "markdown",
      "metadata": {
        "id": "_fN1IWtEKUot",
        "colab_type": "text"
      },
      "source": [
        "Variables of Interest:  \n",
        "    \n",
        "MJEVER - EVER USED MARIJUANA/HASHISH -- requires bucketing/binarizing  \n",
        "MJAGE - AGE WHEN FIRST USED MARIJUANA/HASHISH -- continuous but requires bucketing  \n",
        "MJREC - TIME SINCE LAST USED MARIJUANA/HASHISH -- requires bucketing  \n",
        "MJYRTOT - TOTAL # OF DAYS USED MARIJUANA IN PAST 12 MOS -- continuous but requires bucketing  \n",
        "MRDAYPYR - DAYS USED MARIJUANA/HASHISH PAST 12 MONTHS -- continuous but requires bucketing  \n",
        "MRDAYPMO - DAYS PER MO USED MARIJUANA/HASHISH PAST 12 MOS -- continuous but requires bucketing  \n",
        "MRDAYPWK - DAYS PER WEEK USED MARIJUANA/HASHISH PAST 12 MOS -- continuous but requires bucketing  \n",
        "MJDAY30A - # DAYS USED MARIJUANA/HASHISH PAST 30 DAYS  -- continuous but requires bucketing"
      ]
    },
    {
      "cell_type": "markdown",
      "metadata": {
        "id": "StLho4a9KUou",
        "colab_type": "text"
      },
      "source": [
        "### Bucket Vals"
      ]
    },
    {
      "cell_type": "code",
      "metadata": {
        "collapsed": true,
        "id": "1ybOzVbQKUov",
        "colab_type": "code",
        "colab": {}
      },
      "source": [
        "data[\"MJEVER\"] = data[\"MJEVER\"].apply(lambda row: 0 if row in [2,94, 97] else row) #Never smoked mj"
      ],
      "execution_count": 0,
      "outputs": []
    },
    {
      "cell_type": "code",
      "metadata": {
        "collapsed": true,
        "id": "gnMCwZX1KUoy",
        "colab_type": "code",
        "colab": {}
      },
      "source": [
        "data[\"MJAGE\"] = data[\"MJAGE\"].apply(lambda row: np.nan if row in [985,991,994,997, 998] else row) #nulls for non smokers"
      ],
      "execution_count": 0,
      "outputs": []
    },
    {
      "cell_type": "code",
      "metadata": {
        "collapsed": true,
        "id": "e0xChhKcKUo0",
        "colab_type": "code",
        "colab": {}
      },
      "source": [
        "data[\"MJREC\"] = data[\"MJREC\"].apply(lambda row: 2 if row in [1,2,8,11] else row) #Current mj user\n",
        "data[\"MJREC\"] = data[\"MJREC\"].apply(lambda row: 1 if row in [3,9] else row) #Past mj user\n",
        "data[\"MJREC\"] = data[\"MJREC\"].apply(lambda row: 0 if row not in [1,2] else row) # Never Used"
      ],
      "execution_count": 0,
      "outputs": []
    },
    {
      "cell_type": "code",
      "metadata": {
        "collapsed": true,
        "id": "5OiWymxpKUo4",
        "colab_type": "code",
        "colab": {}
      },
      "source": [
        "#Lots of skips that were bucketed\n",
        "data[\"MJYRTOT\"] = data[\"MJYRTOT\"].apply(lambda row: 0 if row in [993] else row) #Didnt use in last 12 months\n",
        "data[\"MJYRTOT\"] = data[\"MJYRTOT\"].apply(lambda row: np.nan if row in [985,991,994,997,998] else row) #Never used"
      ],
      "execution_count": 0,
      "outputs": []
    },
    {
      "cell_type": "code",
      "metadata": {
        "collapsed": true,
        "id": "wleEKQj4KUo6",
        "colab_type": "code",
        "colab": {}
      },
      "source": [
        "#Lots of skips that were bucketed\n",
        "data[\"MRDAYPYR\"] = data[\"MRDAYPYR\"].apply(lambda row: 0 if row in [993] else row) #Didnt use in last 12 months\n",
        "data[\"MRDAYPYR\"] = data[\"MRDAYPYR\"].apply(lambda row: np.nan if row in [985, 989,991,994,997,998, 999] else row) #Never used"
      ],
      "execution_count": 0,
      "outputs": []
    },
    {
      "cell_type": "code",
      "metadata": {
        "collapsed": true,
        "id": "UkXd99NZKUo9",
        "colab_type": "code",
        "colab": {}
      },
      "source": [
        "#Lots of skips that were bucketed\n",
        "data[\"MRDAYPMO\"] = data[\"MRDAYPMO\"].apply(lambda row: 0 if row in [93] else row) #Didnt use in last 12 months\n",
        "data[\"MRDAYPMO\"] = data[\"MRDAYPMO\"].apply(lambda row: np.nan if row in [85, 89,91,94,97,98, 99] else row) #Never used"
      ],
      "execution_count": 0,
      "outputs": []
    },
    {
      "cell_type": "code",
      "metadata": {
        "collapsed": true,
        "id": "3or395FGKUpG",
        "colab_type": "code",
        "colab": {}
      },
      "source": [
        "#Lots of skips that were bucketed\n",
        "data[\"MRDAYPWK\"] = data[\"MRDAYPWK\"].apply(lambda row: 0 if row in [93] else row) #Didnt use in last 12 months\n",
        "data[\"MRDAYPWK\"] = data[\"MRDAYPWK\"].apply(lambda row: np.nan if row in [85, 91,94,97,98, 99] else row) #Never used"
      ],
      "execution_count": 0,
      "outputs": []
    },
    {
      "cell_type": "code",
      "metadata": {
        "collapsed": true,
        "id": "fpaliLKlKUpK",
        "colab_type": "code",
        "colab": {}
      },
      "source": [
        "#Lots of skips that were bucketed\n",
        "data[\"MJDAY30A\"] = data[\"MJDAY30A\"].apply(lambda row: 0 if row in [93] else row) #Didnt use in last 12 months\n",
        "data[\"MJDAY30A\"] = data[\"MJDAY30A\"].apply(lambda row: np.nan if row in [85, 91,94,97,98] else row) #Never used"
      ],
      "execution_count": 0,
      "outputs": []
    },
    {
      "cell_type": "code",
      "metadata": {
        "collapsed": true,
        "id": "AuB0npNzKUpM",
        "colab_type": "code",
        "colab": {}
      },
      "source": [
        "continuous_vars = [\"MJAGE\", \"MJYRTOT\", \"MRDAYPYR\", \"MRDAYPMO\", \"MRDAYPWK\", \"MJDAY30A\"]\n",
        "categorical_vars = [\"MJEVER\", \"MJREC\"]\n",
        "binary_vars = [\"MJEVER\"]"
      ],
      "execution_count": 0,
      "outputs": []
    },
    {
      "cell_type": "code",
      "metadata": {
        "id": "Km4DW59RKUpP",
        "colab_type": "code",
        "colab": {},
        "outputId": "af6b8296-f7cb-4583-ee16-f82dd930a16a"
      },
      "source": [
        "for i in continuous_vars:\n",
        "    print(\"MISUSE and {} have a correlation of: {:0.2f}\".format(i, data[['MISUSE', i]].corr().iloc[0,1]))"
      ],
      "execution_count": 0,
      "outputs": [
        {
          "output_type": "stream",
          "text": [
            "MISUSE and MJAGE have a correlation of: -0.17\n",
            "MISUSE and MJYRTOT have a correlation of: 0.26\n",
            "MISUSE and MRDAYPYR have a correlation of: 0.14\n",
            "MISUSE and MRDAYPMO have a correlation of: 0.18\n",
            "MISUSE and MRDAYPWK have a correlation of: 0.31\n",
            "MISUSE and MJDAY30A have a correlation of: 0.24\n"
          ],
          "name": "stdout"
        }
      ]
    },
    {
      "cell_type": "markdown",
      "metadata": {
        "id": "9o2qiYOFKUpV",
        "colab_type": "text"
      },
      "source": [
        "**stronger correlations than we observed for the continuous variables in tobacco section, but we should discuss other imputation strategies for missing data**"
      ]
    },
    {
      "cell_type": "code",
      "metadata": {
        "id": "PmrhIq51KUpV",
        "colab_type": "code",
        "colab": {},
        "outputId": "ef3e28ee-04b5-4c3f-c0dd-ec1baa676677"
      },
      "source": [
        "for variable in categorical_vars:\n",
        "    print(data.groupby([variable, 'MISUSE'])[variable].count())"
      ],
      "execution_count": 0,
      "outputs": [
        {
          "output_type": "stream",
          "text": [
            "MJEVER  MISUSE\n",
            "0       0         21493\n",
            "        1          1771\n",
            "1       0         23182\n",
            "        1          6912\n",
            "Name: MJEVER, dtype: int64\n",
            "MJREC  MISUSE\n",
            "0      0         21493\n",
            "       1          1771\n",
            "1      0         14471\n",
            "       1          2084\n",
            "2      0          8711\n",
            "       1          4828\n",
            "Name: MJREC, dtype: int64\n"
          ],
          "name": "stdout"
        }
      ]
    },
    {
      "cell_type": "code",
      "metadata": {
        "id": "8QWc7LTNKUpY",
        "colab_type": "code",
        "colab": {},
        "outputId": "0ab262f9-848d-4819-9010-f7e839cf6949"
      },
      "source": [
        "for i in binary_vars:\n",
        "    pos_and_misuse = len(data[(data[i] == 1) & (data[\"MISUSE\"] == 1)])/len(data[data[i] == 1]) *100\n",
        "    neg_and_misuse = len(data[(data[i] == 0) & (data[\"MISUSE\"] == 1)])/len(data[data[i] == 0]) *100\n",
        "    print(\"{:0.2f}% of users with {} = 1 misused, while only {:0.2f}% of users with {} = 0 misused\".format(pos_and_misuse, i,\n",
        "                                                                                                   neg_and_misuse, i))"
      ],
      "execution_count": 0,
      "outputs": [
        {
          "output_type": "stream",
          "text": [
            "22.97% of users with MJEVER = 1 misused, while only 7.61% of users with MJEVER = 0 misused\n"
          ],
          "name": "stdout"
        }
      ]
    },
    {
      "cell_type": "code",
      "metadata": {
        "id": "_pUvi8aAKUpb",
        "colab_type": "code",
        "colab": {},
        "outputId": "2e153fea-6959-4082-da2e-99643e62b2f7"
      },
      "source": [
        "categorical_vars_non_binary = [\"MJREC\"]\n",
        "\n",
        "\n",
        "for i in categorical_vars_non_binary:\n",
        "    curr_and_misuse = len(data[(data[i] == 2) & (data[\"MISUSE\"] == 1)])/len(data[data[i] == 2]) *100\n",
        "    past_and_misuse = len(data[(data[i] == 1) & (data[\"MISUSE\"] == 1)])/len(data[data[i] == 1]) *100\n",
        "    neg_and_misuse = len(data[(data[i] == 0) & (data[\"MISUSE\"] == 1)])/len(data[data[i] == 0]) *100\n",
        "    print(\"{:0.2f}% of users with {} = 2 misused, {:0.2f}% of users with {} = 1 misused,  while only {:0.2f}% of users with {} = 0 misused\".format(curr_and_misuse, i,\n",
        "                                                                                                   past_and_misuse, i, neg_and_misuse, i))"
      ],
      "execution_count": 0,
      "outputs": [
        {
          "output_type": "stream",
          "text": [
            "35.66% of users with MJREC = 2 misused, 12.59% of users with MJREC = 1 misused,  while only 7.61% of users with MJREC = 0 misused\n"
          ],
          "name": "stdout"
        }
      ]
    },
    {
      "cell_type": "markdown",
      "metadata": {
        "id": "oMBb76PlKUpe",
        "colab_type": "text"
      },
      "source": [
        "# COCAINE"
      ]
    },
    {
      "cell_type": "markdown",
      "metadata": {
        "id": "dy3Ie3h1KUpf",
        "colab_type": "text"
      },
      "source": [
        "Variables of Interest:  \n",
        "    \n",
        "COCEVER - EVER USED COCAINE -- requires bucketing/binarizing  \n",
        "COCAGE - AGE WHEN FIRST USED COCAINE -- continuous but requires bucketing  \n",
        "COCREC - TIME SINCE LAST USED COCAINE -- requires bucketing  \n",
        "COCYRTOT - TOTAL # OF DAYS USED COCAINE IN PAST 12 MONTHS -- continuous but requires bucketing  \n",
        "CCDAYPYR - # DAYS USED COCAINE PAST 12 MONTHS -- continuous but requires bucketing  \n",
        "CCDAYPMO - # DAYS PER MONTH USED COCAINE PAST 12 MONTHS -- continuous but requires bucketing  \n",
        "CCDAYPWK - # DAYS PER WEEK USED COCAINE PAST 12 MONTHS -- continuous but requires bucketing  \n",
        "COCUS30A - # DAYS USED COCAINE PAST 30 DAYS -- continuous but requires bucketing"
      ]
    },
    {
      "cell_type": "markdown",
      "metadata": {
        "id": "TYNkzVQzKUpf",
        "colab_type": "text"
      },
      "source": [
        "### Bucket Vals"
      ]
    },
    {
      "cell_type": "code",
      "metadata": {
        "collapsed": true,
        "id": "5lCNcvbPKUpg",
        "colab_type": "code",
        "colab": {}
      },
      "source": [
        "data[\"COCEVER\"] = data[\"COCEVER\"].apply(lambda row: 0 if row in [2,85,94, 97] else row) #Never used coke"
      ],
      "execution_count": 0,
      "outputs": []
    },
    {
      "cell_type": "code",
      "metadata": {
        "collapsed": true,
        "id": "COrrz3BpKUph",
        "colab_type": "code",
        "colab": {}
      },
      "source": [
        "data[\"COCAGE\"] = data[\"COCAGE\"].apply(lambda row: np.nan if row in [985,991,994,997, 998] else row) #nulls for non coke users"
      ],
      "execution_count": 0,
      "outputs": []
    },
    {
      "cell_type": "code",
      "metadata": {
        "collapsed": true,
        "id": "aF4-IQzHKUpj",
        "colab_type": "code",
        "colab": {}
      },
      "source": [
        "data[\"COCREC\"] = data[\"COCREC\"].apply(lambda row: 2 if row in [1,2,8,11,12] else row) #Current coke user\n",
        "data[\"COCREC\"] = data[\"COCREC\"].apply(lambda row: 1 if row in [3,9] else row) #Past coke user\n",
        "data[\"COCREC\"] = data[\"COCREC\"].apply(lambda row: 0 if row not in [1,2] else row) # Never Used"
      ],
      "execution_count": 0,
      "outputs": []
    },
    {
      "cell_type": "code",
      "metadata": {
        "collapsed": true,
        "id": "8a75i2SEKUpl",
        "colab_type": "code",
        "colab": {}
      },
      "source": [
        "data[\"COCYRTOT\"] = data[\"COCYRTOT\"].apply(lambda row: 0 if row in [993] else row) #Didnt use in last 12 months\n",
        "data[\"COCYRTOT\"] = data[\"COCYRTOT\"].apply(lambda row: np.nan if row in [985,991,994,997,998] else row) #Never used"
      ],
      "execution_count": 0,
      "outputs": []
    },
    {
      "cell_type": "code",
      "metadata": {
        "collapsed": true,
        "id": "NiEs7LqrKUpo",
        "colab_type": "code",
        "colab": {}
      },
      "source": [
        "data[\"CCDAYPYR\"] = data[\"CCDAYPYR\"].apply(lambda row: 0 if row in [993] else row) #Didnt use in last 12 months\n",
        "data[\"CCDAYPYR\"] = data[\"CCDAYPYR\"].apply(lambda row: np.nan if row in [985, 989,991,994,997,998, 999] else row) #Never used"
      ],
      "execution_count": 0,
      "outputs": []
    },
    {
      "cell_type": "code",
      "metadata": {
        "collapsed": true,
        "id": "Qq4xTBvzKUpq",
        "colab_type": "code",
        "colab": {}
      },
      "source": [
        "data[\"CCDAYPMO\"] = data[\"CCDAYPMO\"].apply(lambda row: 0 if row in [93] else row) #Didnt use in last 12 months\n",
        "data[\"CCDAYPMO\"] = data[\"CCDAYPMO\"].apply(lambda row: np.nan if row in [89,91,94,97,98, 99] else row) #Never used"
      ],
      "execution_count": 0,
      "outputs": []
    },
    {
      "cell_type": "code",
      "metadata": {
        "collapsed": true,
        "id": "dteLP2ZgKUpt",
        "colab_type": "code",
        "colab": {}
      },
      "source": [
        "data[\"CCDAYPWK\"] = data[\"CCDAYPWK\"].apply(lambda row: 0 if row in [93] else row) #Didnt use in last 12 months\n",
        "data[\"CCDAYPWK\"] = data[\"CCDAYPWK\"].apply(lambda row: np.nan if row in [85, 91,94,97,98, 99] else row) #Never used"
      ],
      "execution_count": 0,
      "outputs": []
    },
    {
      "cell_type": "code",
      "metadata": {
        "collapsed": true,
        "id": "l2zOlG0hKUpw",
        "colab_type": "code",
        "colab": {}
      },
      "source": [
        "data[\"COCUS30A\"] = data[\"COCUS30A\"].apply(lambda row: 0 if row in [93] else row) #Didnt use in last 12 months\n",
        "data[\"COCUS30A\"] = data[\"COCUS30A\"].apply(lambda row: np.nan if row in [91,97,98,99] else row) #Never used"
      ],
      "execution_count": 0,
      "outputs": []
    },
    {
      "cell_type": "code",
      "metadata": {
        "collapsed": true,
        "id": "PxnawDHgKUpx",
        "colab_type": "code",
        "colab": {}
      },
      "source": [
        "continuous_vars = [\"COCAGE\", \"COCYRTOT\", \"CCDAYPYR\", \"CCDAYPMO\", \"CCDAYPWK\", \"COCUS30A\"]\n",
        "categorical_vars = [\"COCEVER\", \"COCREC\"]\n",
        "binary_vars = [\"COCEVER\"]"
      ],
      "execution_count": 0,
      "outputs": []
    },
    {
      "cell_type": "code",
      "metadata": {
        "id": "lwXyH4nJKUpz",
        "colab_type": "code",
        "colab": {},
        "outputId": "7fd43a51-4017-42af-cf43-07551aea9dc9"
      },
      "source": [
        "for i in continuous_vars:\n",
        "    print(\"MISUSE and {} have a correlation of: {:0.2f}\".format(i, data[['MISUSE', i]].corr().iloc[0,1]))"
      ],
      "execution_count": 0,
      "outputs": [
        {
          "output_type": "stream",
          "text": [
            "MISUSE and COCAGE have a correlation of: -0.16\n",
            "MISUSE and COCYRTOT have a correlation of: 0.14\n",
            "MISUSE and CCDAYPYR have a correlation of: 0.06\n",
            "MISUSE and CCDAYPMO have a correlation of: 0.09\n",
            "MISUSE and CCDAYPWK have a correlation of: 0.06\n",
            "MISUSE and COCUS30A have a correlation of: 0.06\n"
          ],
          "name": "stdout"
        }
      ]
    },
    {
      "cell_type": "markdown",
      "metadata": {
        "id": "-cyNzc46KUp2",
        "colab_type": "text"
      },
      "source": [
        "**weaker correlations than marijuana**"
      ]
    },
    {
      "cell_type": "code",
      "metadata": {
        "id": "jkF3U85TKUp2",
        "colab_type": "code",
        "colab": {},
        "outputId": "49d862e8-a4c1-4e15-da17-b6143feef7b7"
      },
      "source": [
        "for variable in categorical_vars:\n",
        "    print(data.groupby([variable, 'MISUSE'])[variable].count())"
      ],
      "execution_count": 0,
      "outputs": [
        {
          "output_type": "stream",
          "text": [
            "COCEVER  MISUSE\n",
            "0        0         37764\n",
            "         1          5048\n",
            "1        0          6911\n",
            "         1          3635\n",
            "Name: COCEVER, dtype: int64\n",
            "COCREC  MISUSE\n",
            "0       0         37764\n",
            "        1          5048\n",
            "1       0          5991\n",
            "        1          2244\n",
            "2       0           920\n",
            "        1          1391\n",
            "Name: COCREC, dtype: int64\n"
          ],
          "name": "stdout"
        }
      ]
    },
    {
      "cell_type": "code",
      "metadata": {
        "id": "U0WoENRMKUp4",
        "colab_type": "code",
        "colab": {},
        "outputId": "d41d7f44-1a46-46e3-eb9b-1857e8c27fba"
      },
      "source": [
        "for i in binary_vars:\n",
        "    pos_and_misuse = len(data[(data[i] == 1) & (data[\"MISUSE\"] == 1)])/len(data[data[i] == 1]) *100\n",
        "    neg_and_misuse = len(data[(data[i] == 0) & (data[\"MISUSE\"] == 1)])/len(data[data[i] == 0]) *100\n",
        "    print(\"{:0.2f}% of users with {} = 1 misused, while only {:0.2f}% of users with {} = 0 misused\".format(pos_and_misuse, i,\n",
        "                                                                                                   neg_and_misuse, i))"
      ],
      "execution_count": 0,
      "outputs": [
        {
          "output_type": "stream",
          "text": [
            "34.47% of users with COCEVER = 1 misused, while only 11.79% of users with COCEVER = 0 misused\n"
          ],
          "name": "stdout"
        }
      ]
    },
    {
      "cell_type": "code",
      "metadata": {
        "id": "eCIs5x00KUp6",
        "colab_type": "code",
        "colab": {},
        "outputId": "1ffd8b11-0e44-411a-b161-86e946c111d6"
      },
      "source": [
        "categorical_vars_non_binary = [\"COCREC\"]\n",
        "\n",
        "\n",
        "for i in categorical_vars_non_binary:\n",
        "    curr_and_misuse = len(data[(data[i] == 2) & (data[\"MISUSE\"] == 1)])/len(data[data[i] == 2]) *100\n",
        "    past_and_misuse = len(data[(data[i] == 1) & (data[\"MISUSE\"] == 1)])/len(data[data[i] == 1]) *100\n",
        "    neg_and_misuse = len(data[(data[i] == 0) & (data[\"MISUSE\"] == 1)])/len(data[data[i] == 0]) *100\n",
        "    print(\"{:0.2f}% of users with {} = 2 misused, {:0.2f}% of users with {} = 1 misused,  while only {:0.2f}% of users with {} = 0 misused\".format(curr_and_misuse, i,\n",
        "                                                                                                   past_and_misuse, i, neg_and_misuse, i))"
      ],
      "execution_count": 0,
      "outputs": [
        {
          "output_type": "stream",
          "text": [
            "60.19% of users with COCREC = 2 misused, 27.25% of users with COCREC = 1 misused,  while only 11.79% of users with COCREC = 0 misused\n"
          ],
          "name": "stdout"
        }
      ]
    },
    {
      "cell_type": "markdown",
      "metadata": {
        "id": "xfmB5m0xKUp9",
        "colab_type": "text"
      },
      "source": [
        "**Majority of active coke users ended up misusing opiates**"
      ]
    },
    {
      "cell_type": "code",
      "metadata": {
        "collapsed": true,
        "id": "YFXmHXOFKUp-",
        "colab_type": "code",
        "colab": {}
      },
      "source": [
        ""
      ],
      "execution_count": 0,
      "outputs": []
    }
  ]
}