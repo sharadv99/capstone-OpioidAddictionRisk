{
  "nbformat": 4,
  "nbformat_minor": 0,
  "metadata": {
    "colab": {
      "name": "Past Work Variable Breakdown - Sharad.ipynb",
      "version": "0.3.2",
      "provenance": [],
      "include_colab_link": true
    },
    "language_info": {
      "codemirror_mode": {
        "name": "ipython",
        "version": 3
      },
      "file_extension": ".py",
      "mimetype": "text/x-python",
      "name": "python",
      "nbconvert_exporter": "python",
      "pygments_lexer": "ipython3",
      "version": "3.6.1"
    },
    "kernelspec": {
      "display_name": "Python 3",
      "language": "python",
      "name": "python3"
    }
  },
  "cells": [
    {
      "cell_type": "markdown",
      "metadata": {
        "id": "view-in-github",
        "colab_type": "text"
      },
      "source": [
        "<a href=\"https://colab.research.google.com/github/sharadv99/capstone-OpioidAddictionRisk/blob/master/Past_Work_Variable_Breakdown_Sharad.ipynb\" target=\"_parent\"><img src=\"https://colab.research.google.com/assets/colab-badge.svg\" alt=\"Open In Colab\"/></a>"
      ]
    },
    {
      "cell_type": "code",
      "metadata": {
        "id": "SVZOkFlu7Ove",
        "colab_type": "code",
        "colab": {}
      },
      "source": [
        "import pandas as pd\n",
        "import numpy as np\n",
        "import pickle as pkl\n",
        "import zipfile\n",
        "import matplotlib.pyplot as plt\n",
        "%matplotlib inline"
      ],
      "execution_count": 0,
      "outputs": []
    },
    {
      "cell_type": "code",
      "metadata": {
        "id": "BZ6dZPOZ7Ovh",
        "colab_type": "code",
        "colab": {}
      },
      "source": [
        "with zipfile.ZipFile(\"data.pickle.zip\") as z:\n",
        "    data = pd.read_pickle(z.open(\"data.pickle\"))"
      ],
      "execution_count": 0,
      "outputs": []
    },
    {
      "cell_type": "code",
      "metadata": {
        "id": "LPEq9AdF7Ovk",
        "colab_type": "code",
        "colab": {},
        "outputId": "476638a4-e42a-4862-e8a1-8625763c73b0"
      },
      "source": [
        "data.shape"
      ],
      "execution_count": 0,
      "outputs": [
        {
          "output_type": "execute_result",
          "data": {
            "text/plain": [
              "(53358, 2631)"
            ]
          },
          "metadata": {
            "tags": []
          },
          "execution_count": 152
        }
      ]
    },
    {
      "cell_type": "markdown",
      "metadata": {
        "id": "U1Gzpjg57Ovp",
        "colab_type": "text"
      },
      "source": [
        "# TOBACCO"
      ]
    },
    {
      "cell_type": "markdown",
      "metadata": {
        "id": "aeEy_jSY7Ovq",
        "colab_type": "text"
      },
      "source": [
        "Variables of Interest :\n",
        "\n",
        "CIGEVER - EVER SMOKED A CIGARETTE -- boolean  \n",
        "CIGTRY - AGE WHEN FIRST SMOKED A CIGARETTE - continuous but requires some bucketing  \n",
        "CIGREC - TIME SINCE LAST SMOKED CIGARETTES   -- requires bucketing/binarizing  \n",
        "CIG30USE - HOW MANY DAYS SMOKED CIG IN PAST 30 DAYS  -- continuous but requires some bucketing  \n",
        "CIG30AV - AVG # CIGS SMOKED PER DAY/ON DAY SMOKED PAST 30 DAYS  -- continuous requires bucketing/binarizing    \n",
        "CIGDLYMO - EVER SMOKED CIG EVERY DAY FOR 30 DAYS  -- requires bucketing/binarizing  \n",
        "CIGAGE - AGE WHEN FIRST STARTED SMOKING CIGARETTES EVERYDAY -- continuous but requires bucketing  \n",
        "CIG100LF - HAVE YOU SMOKED 100 CIGS IN YOUR LIFE  -- requires bucketing/binarizing  \n",
        "SMKLSSEVR - EVER USED SMOKELESS TOBACCO  -- requires bucketing/binarizing  \n",
        "SMKLSSREC - TIME SINCE LAST USED SMOKELESS TOBACCO  -- requires bucketing/binarizing  \n",
        "SMKLSSTRY - AGE WHEN FIRST USED SMOKELESS TOBACCO -- continuous but requires bucketing  \n",
        "SMKLSS30N - HOW MANY DAYS USED SMOKELESS TOBACCO PAST 30 DAYS -- continuous but requires bucketing  \n",
        "CIGAREVR - EVER SMOKED PART OR ALL OF CIGAR  -- requires bucketing/binarizing  \n",
        "CIGARTRY - AGE WHEN FIRST SMOKED CIGAR -- continuous but requires bucketing  \n",
        "CIGARREC - TIME SINCE LAST SMOKED CIGAR  -- requires bucketing/binarizing  \n",
        "CGR30USE - HOW MANY DAYS SMOKED CIGAR IN PAST 30 DAYS  -- continuous but requires bucketing  \n",
        "PIPEVER - EVER SMOKED PIPE TOBACCO  -- requires bucketing/binarizing"
      ]
    },
    {
      "cell_type": "markdown",
      "metadata": {
        "id": "_cpza5I17Ovr",
        "colab_type": "text"
      },
      "source": [
        "### Bucket Vals"
      ]
    },
    {
      "cell_type": "code",
      "metadata": {
        "id": "mp0ey8vW7Ovt",
        "colab_type": "code",
        "colab": {}
      },
      "source": [
        "data[\"CIGTRY\"] = data[\"CIGTRY\"].apply(lambda row: np.nan if row in [985,991,994,997] else row) #nulls for non smokers"
      ],
      "execution_count": 0,
      "outputs": []
    },
    {
      "cell_type": "code",
      "metadata": {
        "id": "jQtFpriB7Ovy",
        "colab_type": "code",
        "colab": {}
      },
      "source": [
        "data[\"CIGREC\"] = data[\"CIGREC\"].apply(lambda row: 2 if row in [1,2,8,11] else row) #Current Cig Smoker\n",
        "data[\"CIGREC\"] = data[\"CIGREC\"].apply(lambda row: 1 if row in [3,4,9,14,19,29,39] else row) #Past Cig Smoker\n",
        "data[\"CIGREC\"] = data[\"CIGREC\"].apply(lambda row: 0 if row not in [1,2] else row) # Never Smoked Cigs"
      ],
      "execution_count": 0,
      "outputs": []
    },
    {
      "cell_type": "code",
      "metadata": {
        "id": "sSoDiFnK7OwE",
        "colab_type": "code",
        "colab": {}
      },
      "source": [
        "data[\"CIG30USE\"] = data[\"CIG30USE\"].apply(lambda row: 0 if row in [93] else row) #Didnt smoke in last 30 days\n",
        "data[\"CIG30USE\"] = data[\"CIG30USE\"].apply(lambda row: np.nan if row in [85,91,94,97,98] else row) #Never Smoked"
      ],
      "execution_count": 0,
      "outputs": []
    },
    {
      "cell_type": "code",
      "metadata": {
        "id": "Q9WsikVX7OwU",
        "colab_type": "code",
        "colab": {}
      },
      "source": [
        "data[\"CIG30AV\"] = data[\"CIG30AV\"].apply(lambda row: 0 if row in [93] else row) #Didnt smoke in last 30 days\n",
        "data[\"CIG30AV\"] = data[\"CIG30AV\"].apply(lambda row: np.nan if row in [85,91,94,97,98] else row) #Never Smoked"
      ],
      "execution_count": 0,
      "outputs": []
    },
    {
      "cell_type": "code",
      "metadata": {
        "id": "jbUREGhc7Owg",
        "colab_type": "code",
        "colab": {}
      },
      "source": [
        "data[\"CIGDLYMO\"] = data[\"CIGDLYMO\"].apply(lambda row: 1 if row in [1,5] else row) #Smoked Cig Every Day 30 Days\n",
        "data[\"CIGDLYMO\"] = data[\"CIGDLYMO\"].apply(lambda row: 0 if row in [2, 91,94, 97, 98] else row) #Did not smoke everyday for 30 days"
      ],
      "execution_count": 0,
      "outputs": []
    },
    {
      "cell_type": "code",
      "metadata": {
        "id": "6KvP3b6O7Owk",
        "colab_type": "code",
        "colab": {}
      },
      "source": [
        "data[\"CIGAGE\"] = data[\"CIGAGE\"].apply(lambda row: np.nan if row in [985,991,994,997, 998, 999] else row) #nulls for non smokers"
      ],
      "execution_count": 0,
      "outputs": []
    },
    {
      "cell_type": "code",
      "metadata": {
        "id": "SSt1ibhm7Owq",
        "colab_type": "code",
        "colab": {}
      },
      "source": [
        "data[\"CIG100LF\"] = data[\"CIG100LF\"].apply(lambda row: 1 if row in [1,3,5] else row) #Smoked Cig Every 100 Days in Life\n",
        "data[\"CIG100LF\"] = data[\"CIG100LF\"].apply(lambda row: 0 if row in [2, 91,94, 97, 98] else row) #Did not smoke 100 cigs in Life"
      ],
      "execution_count": 0,
      "outputs": []
    },
    {
      "cell_type": "code",
      "metadata": {
        "id": "qxs9AYs67Ow0",
        "colab_type": "code",
        "colab": {}
      },
      "source": [
        "data[\"SMKLSSEVR\"] = data[\"SMKLSSEVR\"].apply(lambda row: 0 if row in [2, 85,94, 97] else row) #Never used smokeless tobacco"
      ],
      "execution_count": 0,
      "outputs": []
    },
    {
      "cell_type": "code",
      "metadata": {
        "id": "Z_nVrY2f7Ow3",
        "colab_type": "code",
        "colab": {}
      },
      "source": [
        "data[\"SMKLSSTRY\"] = data[\"SMKLSSTRY\"].apply(lambda row: np.nan if row in [985,991,994,997, 998] else row) #nulls for never using smokeless tobacco"
      ],
      "execution_count": 0,
      "outputs": []
    },
    {
      "cell_type": "code",
      "metadata": {
        "id": "gr5UQBqg7Ow7",
        "colab_type": "code",
        "colab": {}
      },
      "source": [
        "data[\"SMKLSSREC\"] = data[\"SMKLSSREC\"].apply(lambda row: 2 if row in [1,2,8,11] else row) #Current Smokeless Tobacco user\n",
        "data[\"SMKLSSREC\"] = data[\"SMKLSSREC\"].apply(lambda row: 1 if row in [3,4,9,14,19,29,39] else row) #Past Smokeless Tobacco user\n",
        "data[\"SMKLSSREC\"] = data[\"SMKLSSREC\"].apply(lambda row: 0 if row not in [1,2] else row) # Never Used"
      ],
      "execution_count": 0,
      "outputs": []
    },
    {
      "cell_type": "code",
      "metadata": {
        "id": "tioVc5u47Ow_",
        "colab_type": "code",
        "colab": {}
      },
      "source": [
        "data[\"SMKLSS30N\"] = data[\"SMKLSS30N\"].apply(lambda row: 0 if row in [93] else row) #Didnt use smokeless tobacco in last 30 days\n",
        "data[\"SMKLSS30N\"] = data[\"SMKLSS30N\"].apply(lambda row: np.nan if row in [91,94,97,98] else row) #Never Used"
      ],
      "execution_count": 0,
      "outputs": []
    },
    {
      "cell_type": "code",
      "metadata": {
        "id": "m6AUhy0k7OxB",
        "colab_type": "code",
        "colab": {}
      },
      "source": [
        "data[\"CIGAREVR\"] = data[\"CIGAREVR\"].apply(lambda row: 0 if row in [2,94, 97] else row) #Never smoked cigar"
      ],
      "execution_count": 0,
      "outputs": []
    },
    {
      "cell_type": "code",
      "metadata": {
        "id": "D_IzQF-87OxF",
        "colab_type": "code",
        "colab": {}
      },
      "source": [
        "data[\"CIGARTRY\"] = data[\"CIGARTRY\"].apply(lambda row: np.nan if row in [985,991,994,997, 998] else row) #nulls for non smokers"
      ],
      "execution_count": 0,
      "outputs": []
    },
    {
      "cell_type": "code",
      "metadata": {
        "id": "-wzLYhON7OxT",
        "colab_type": "code",
        "colab": {}
      },
      "source": [
        "data[\"CIGARREC\"] = data[\"CIGARREC\"].apply(lambda row: 2 if row in [1,2,8,11] else row) #Current Cigar Smoker\n",
        "data[\"CIGARREC\"] = data[\"CIGARREC\"].apply(lambda row: 1 if row in [3,4,9,14,19,29,39] else row) #Past Cigar Smoker\n",
        "data[\"CIGARREC\"] = data[\"CIGARREC\"].apply(lambda row: 0 if row not in [1,2] else row) # Never Smoked Cigars"
      ],
      "execution_count": 0,
      "outputs": []
    },
    {
      "cell_type": "code",
      "metadata": {
        "id": "MJR0FVRc7Ox9",
        "colab_type": "code",
        "colab": {}
      },
      "source": [
        "data[\"CGR30USE\"] = data[\"CGR30USE\"].apply(lambda row: 0 if row in [93] else row) #Didnt smoke in last 30 days\n",
        "data[\"CGR30USE\"] = data[\"CGR30USE\"].apply(lambda row: np.nan if row in [91,94,97,98] else row) #Never Smoked"
      ],
      "execution_count": 0,
      "outputs": []
    },
    {
      "cell_type": "code",
      "metadata": {
        "id": "15NHk5v87OyE",
        "colab_type": "code",
        "colab": {}
      },
      "source": [
        "data[\"PIPEVER\"] = data[\"PIPEVER\"].apply(lambda row: 0 if row in [2, 91,94, 97, 98] else row) #Never used pipe tobacco"
      ],
      "execution_count": 0,
      "outputs": []
    },
    {
      "cell_type": "markdown",
      "metadata": {
        "id": "mKfUmNag7OyI",
        "colab_type": "text"
      },
      "source": [
        "### Continuous Variable Correlations"
      ]
    },
    {
      "cell_type": "code",
      "metadata": {
        "id": "H0SMP9zn7OyN",
        "colab_type": "code",
        "colab": {}
      },
      "source": [
        "misuseCodes = [1, 2, 8]\n",
        "data['MISUSE'] = data.apply(lambda row: 1 if row.PNRNMREC in misuseCodes else 0,\n",
        "                                              axis=1)"
      ],
      "execution_count": 0,
      "outputs": []
    },
    {
      "cell_type": "code",
      "metadata": {
        "collapsed": true,
        "id": "2rpZJnTo7OyT",
        "colab_type": "code",
        "colab": {}
      },
      "source": [
        "continuous_vars = [\"CIGTRY\", \"CIG30USE\", \"CIG30AV\", \"CIGAGE\", \"SMKLSSTRY\", \"SMKLSS30N\", \"CIGARTRY\", \"CGR30USE\"]\n",
        "categorical_vars = [\"CIGREC\", \"CIGDLYMO\", \"CIG100LF\", \"SMKLSSEVR\", \"SMKLSSREC\", \"CIGAREVR\", \"CIGARREC\", \"PIPEVER\"]\n",
        "binary_vars = [\"CIGDLYMO\", \"CIG100LF\", \"SMKLSSEVR\", \"CIGAREVR\", \"PIPEVER\"]"
      ],
      "execution_count": 0,
      "outputs": []
    },
    {
      "cell_type": "code",
      "metadata": {
        "id": "JuqvFeBq7OyV",
        "colab_type": "code",
        "colab": {},
        "outputId": "e8856424-f686-46c4-9f89-7129cff82a0c"
      },
      "source": [
        "for i in continuous_vars:\n",
        "    print(\"MISUSE and {} have a correlation of: {:0.2f}\".format(i, data[['MISUSE', i]].corr().iloc[0,1]))"
      ],
      "execution_count": 0,
      "outputs": [
        {
          "output_type": "stream",
          "text": [
            "MISUSE and CIGTRY have a correlation of: -0.11\n",
            "MISUSE and CIG30USE have a correlation of: 0.13\n",
            "MISUSE and CIG30AV have a correlation of: 0.14\n",
            "MISUSE and CIGAGE have a correlation of: -0.07\n",
            "MISUSE and SMKLSSTRY have a correlation of: -0.07\n",
            "MISUSE and SMKLSS30N have a correlation of: -0.01\n",
            "MISUSE and CIGARTRY have a correlation of: -0.17\n",
            "MISUSE and CGR30USE have a correlation of: 0.07\n"
          ],
          "name": "stdout"
        }
      ]
    },
    {
      "cell_type": "markdown",
      "metadata": {
        "id": "wEGdncFG7OyY",
        "colab_type": "text"
      },
      "source": [
        "**Weak correlation with the continuous variables and Misuse in tobacco section**"
      ]
    },
    {
      "cell_type": "code",
      "metadata": {
        "id": "CZ-Mftd07OyZ",
        "colab_type": "code",
        "colab": {},
        "outputId": "9f97b008-eb6a-4339-81f2-f8d7b4d11c2a"
      },
      "source": [
        "for variable in categorical_vars:\n",
        "    print(data.groupby([variable, 'MISUSE'])[variable].count())"
      ],
      "execution_count": 0,
      "outputs": [
        {
          "output_type": "stream",
          "text": [
            "CIGREC  MISUSE\n",
            "0       0         17683\n",
            "        1          1938\n",
            "1       0         13709\n",
            "        1          1880\n",
            "2       0         13283\n",
            "        1          4865\n",
            "Name: CIGREC, dtype: int64\n",
            "CIGDLYMO  MISUSE\n",
            "0         0         28996\n",
            "          1          4457\n",
            "1         0         15679\n",
            "          1          4226\n",
            "Name: CIGDLYMO, dtype: int64\n",
            "CIG100LF  MISUSE\n",
            "0         0         27479\n",
            "          1          4057\n",
            "1         0         17196\n",
            "          1          4626\n",
            "Name: CIG100LF, dtype: int64\n",
            "SMKLSSEVR  MISUSE\n",
            "0          0         36558\n",
            "           1          5691\n",
            "1          0          8117\n",
            "           1          2992\n",
            "Name: SMKLSSEVR, dtype: int64\n",
            "SMKLSSREC  MISUSE\n",
            "0          0         36558\n",
            "           1          5691\n",
            "1          0          5527\n",
            "           1          1824\n",
            "2          0          2590\n",
            "           1          1168\n",
            "Name: SMKLSSREC, dtype: int64\n",
            "CIGAREVR  MISUSE\n",
            "0         0         29936\n",
            "          1          4124\n",
            "1         0         14739\n",
            "          1          4559\n",
            "Name: CIGAREVR, dtype: int64\n",
            "CIGARREC  MISUSE\n",
            "0         0         29936\n",
            "          1          4124\n",
            "1         0          9815\n",
            "          1          2336\n",
            "2         0          4924\n",
            "          1          2223\n",
            "Name: CIGARREC, dtype: int64\n",
            "PIPEVER  MISUSE\n",
            "0        0         39996\n",
            "         1          6969\n",
            "1        0          4679\n",
            "         1          1714\n",
            "Name: PIPEVER, dtype: int64\n"
          ],
          "name": "stdout"
        }
      ]
    },
    {
      "cell_type": "code",
      "metadata": {
        "id": "agfD7Sv17Oyc",
        "colab_type": "code",
        "colab": {},
        "outputId": "510d1589-7c48-4fea-f846-88b07df529de"
      },
      "source": [
        "for i in binary_vars:\n",
        "    pos_and_misuse = len(data[(data[i] == 1) & (data[\"MISUSE\"] == 1)])/len(data[data[i] == 1]) *100\n",
        "    neg_and_misuse = len(data[(data[i] == 0) & (data[\"MISUSE\"] == 1)])/len(data[data[i] == 0]) *100\n",
        "    print(\"{:0.2f}% of users with {} = 1 misused, while only {:0.2f}% of users with {} = 0 misused\".format(pos_and_misuse, i,\n",
        "                                                                                                   neg_and_misuse, i))"
      ],
      "execution_count": 0,
      "outputs": [
        {
          "output_type": "stream",
          "text": [
            "21.23% of users with CIGDLYMO = 1 misused, while only 13.32% of users with CIGDLYMO = 0 misused\n",
            "21.20% of users with CIG100LF = 1 misused, while only 12.86% of users with CIG100LF = 0 misused\n",
            "26.93% of users with SMKLSSEVR = 1 misused, while only 13.47% of users with SMKLSSEVR = 0 misused\n",
            "23.62% of users with CIGAREVR = 1 misused, while only 12.11% of users with CIGAREVR = 0 misused\n",
            "26.81% of users with PIPEVER = 1 misused, while only 14.84% of users with PIPEVER = 0 misused\n"
          ],
          "name": "stdout"
        }
      ]
    },
    {
      "cell_type": "code",
      "metadata": {
        "id": "waUTceYE7Oyf",
        "colab_type": "code",
        "colab": {},
        "outputId": "1cd91c7f-020a-4740-d14b-770e491e6094"
      },
      "source": [
        "categorical_vars_non_binary = [\"CIGREC\", \"SMKLSSREC\", \"CIGARREC\"]\n",
        "\n",
        "\n",
        "for i in categorical_vars_non_binary:\n",
        "    curr_and_misuse = len(data[(data[i] == 2) & (data[\"MISUSE\"] == 1)])/len(data[data[i] == 2]) *100\n",
        "    past_and_misuse = len(data[(data[i] == 1) & (data[\"MISUSE\"] == 1)])/len(data[data[i] == 1]) *100\n",
        "    neg_and_misuse = len(data[(data[i] == 0) & (data[\"MISUSE\"] == 1)])/len(data[data[i] == 0]) *100\n",
        "    print(\"{:0.2f}% of users with {} = 2 misused, {:0.2f}% of users with {} = 1 misused,  while only {:0.2f}% of users with {} = 0 misused\".format(curr_and_misuse, i,\n",
        "                                                                                                   past_and_misuse, i, neg_and_misuse, i))"
      ],
      "execution_count": 0,
      "outputs": [
        {
          "output_type": "stream",
          "text": [
            "26.81% of users with CIGREC = 2 misused, 12.06% of users with CIGREC = 1 misused,  while only 9.88% of users with CIGREC = 0 misused\n",
            "31.08% of users with SMKLSSREC = 2 misused, 24.81% of users with SMKLSSREC = 1 misused,  while only 13.47% of users with SMKLSSREC = 0 misused\n",
            "31.10% of users with CIGARREC = 2 misused, 19.22% of users with CIGARREC = 1 misused,  while only 12.11% of users with CIGARREC = 0 misused\n"
          ],
          "name": "stdout"
        }
      ]
    },
    {
      "cell_type": "markdown",
      "metadata": {
        "id": "LA7Bqawo7Oyo",
        "colab_type": "text"
      },
      "source": [
        "# MARIJUANA"
      ]
    },
    {
      "cell_type": "markdown",
      "metadata": {
        "id": "kyhowbLV7Oyp",
        "colab_type": "text"
      },
      "source": [
        "Variables of Interest:  \n",
        "    \n",
        "MJEVER - EVER USED MARIJUANA/HASHISH -- requires bucketing/binarizing  \n",
        "MJAGE - AGE WHEN FIRST USED MARIJUANA/HASHISH -- continuous but requires bucketing  \n",
        "MJREC - TIME SINCE LAST USED MARIJUANA/HASHISH -- requires bucketing  \n",
        "MJYRTOT - TOTAL # OF DAYS USED MARIJUANA IN PAST 12 MOS -- continuous but requires bucketing  \n",
        "MRDAYPYR - DAYS USED MARIJUANA/HASHISH PAST 12 MONTHS -- continuous but requires bucketing  \n",
        "MRDAYPMO - DAYS PER MO USED MARIJUANA/HASHISH PAST 12 MOS -- continuous but requires bucketing  \n",
        "MRDAYPWK - DAYS PER WEEK USED MARIJUANA/HASHISH PAST 12 MOS -- continuous but requires bucketing  \n",
        "MJDAY30A - # DAYS USED MARIJUANA/HASHISH PAST 30 DAYS  -- continuous but requires bucketing"
      ]
    },
    {
      "cell_type": "markdown",
      "metadata": {
        "id": "sB43jr5g7Oyq",
        "colab_type": "text"
      },
      "source": [
        "### Bucket Vals"
      ]
    },
    {
      "cell_type": "code",
      "metadata": {
        "collapsed": true,
        "id": "yhXxHdMq7Oyr",
        "colab_type": "code",
        "colab": {}
      },
      "source": [
        "data[\"MJEVER\"] = data[\"MJEVER\"].apply(lambda row: 0 if row in [2,94, 97] else row) #Never smoked mj"
      ],
      "execution_count": 0,
      "outputs": []
    },
    {
      "cell_type": "code",
      "metadata": {
        "collapsed": true,
        "id": "oKdOeKvF7Oyu",
        "colab_type": "code",
        "colab": {}
      },
      "source": [
        "data[\"MJAGE\"] = data[\"MJAGE\"].apply(lambda row: np.nan if row in [985,991,994,997, 998] else row) #nulls for non smokers"
      ],
      "execution_count": 0,
      "outputs": []
    },
    {
      "cell_type": "code",
      "metadata": {
        "collapsed": true,
        "id": "GgShb0Nx7Oy4",
        "colab_type": "code",
        "colab": {}
      },
      "source": [
        "data[\"MJREC\"] = data[\"MJREC\"].apply(lambda row: 2 if row in [1,2,8,11] else row) #Current mj user\n",
        "data[\"MJREC\"] = data[\"MJREC\"].apply(lambda row: 1 if row in [3,9] else row) #Past mj user\n",
        "data[\"MJREC\"] = data[\"MJREC\"].apply(lambda row: 0 if row not in [1,2] else row) # Never Used"
      ],
      "execution_count": 0,
      "outputs": []
    },
    {
      "cell_type": "code",
      "metadata": {
        "collapsed": true,
        "id": "0UQhZzKH7Oy_",
        "colab_type": "code",
        "colab": {}
      },
      "source": [
        "#Lots of skips that were bucketed\n",
        "data[\"MJYRTOT\"] = data[\"MJYRTOT\"].apply(lambda row: 0 if row in [993] else row) #Didnt use in last 12 months\n",
        "data[\"MJYRTOT\"] = data[\"MJYRTOT\"].apply(lambda row: np.nan if row in [985,991,994,997,998] else row) #Never used"
      ],
      "execution_count": 0,
      "outputs": []
    },
    {
      "cell_type": "code",
      "metadata": {
        "collapsed": true,
        "id": "13Cci8dC7OzC",
        "colab_type": "code",
        "colab": {}
      },
      "source": [
        "#Lots of skips that were bucketed\n",
        "data[\"MRDAYPYR\"] = data[\"MRDAYPYR\"].apply(lambda row: 0 if row in [993] else row) #Didnt use in last 12 months\n",
        "data[\"MRDAYPYR\"] = data[\"MRDAYPYR\"].apply(lambda row: np.nan if row in [985, 989,991,994,997,998, 999] else row) #Never used"
      ],
      "execution_count": 0,
      "outputs": []
    },
    {
      "cell_type": "code",
      "metadata": {
        "collapsed": true,
        "id": "lQHxig-O7OzE",
        "colab_type": "code",
        "colab": {}
      },
      "source": [
        "#Lots of skips that were bucketed\n",
        "data[\"MRDAYPMO\"] = data[\"MRDAYPMO\"].apply(lambda row: 0 if row in [93] else row) #Didnt use in last 12 months\n",
        "data[\"MRDAYPMO\"] = data[\"MRDAYPMO\"].apply(lambda row: np.nan if row in [85, 89,91,94,97,98, 99] else row) #Never used"
      ],
      "execution_count": 0,
      "outputs": []
    },
    {
      "cell_type": "code",
      "metadata": {
        "collapsed": true,
        "id": "yfBIejE-7OzG",
        "colab_type": "code",
        "colab": {}
      },
      "source": [
        "#Lots of skips that were bucketed\n",
        "data[\"MRDAYPWK\"] = data[\"MRDAYPWK\"].apply(lambda row: 0 if row in [93] else row) #Didnt use in last 12 months\n",
        "data[\"MRDAYPWK\"] = data[\"MRDAYPWK\"].apply(lambda row: np.nan if row in [85, 91,94,97,98, 99] else row) #Never used"
      ],
      "execution_count": 0,
      "outputs": []
    },
    {
      "cell_type": "code",
      "metadata": {
        "collapsed": true,
        "id": "B0ofPFsl7OzT",
        "colab_type": "code",
        "colab": {}
      },
      "source": [
        "#Lots of skips that were bucketed\n",
        "data[\"MJDAY30A\"] = data[\"MJDAY30A\"].apply(lambda row: 0 if row in [93] else row) #Didnt use in last 12 months\n",
        "data[\"MJDAY30A\"] = data[\"MJDAY30A\"].apply(lambda row: np.nan if row in [85, 91,94,97,98] else row) #Never used"
      ],
      "execution_count": 0,
      "outputs": []
    },
    {
      "cell_type": "code",
      "metadata": {
        "collapsed": true,
        "id": "dy993Hws7OzV",
        "colab_type": "code",
        "colab": {}
      },
      "source": [
        "continuous_vars = [\"MJAGE\", \"MJYRTOT\", \"MRDAYPYR\", \"MRDAYPMO\", \"MRDAYPWK\", \"MJDAY30A\"]\n",
        "categorical_vars = [\"MJEVER\", \"MJREC\"]\n",
        "binary_vars = [\"MJEVER\"]"
      ],
      "execution_count": 0,
      "outputs": []
    },
    {
      "cell_type": "code",
      "metadata": {
        "id": "oda94d_T7OzZ",
        "colab_type": "code",
        "colab": {},
        "outputId": "6d0de8a4-b628-4dca-9cb2-b524c6ec0727"
      },
      "source": [
        "for i in continuous_vars:\n",
        "    print(\"MISUSE and {} have a correlation of: {:0.2f}\".format(i, data[['MISUSE', i]].corr().iloc[0,1]))"
      ],
      "execution_count": 0,
      "outputs": [
        {
          "output_type": "stream",
          "text": [
            "MISUSE and MJAGE have a correlation of: -0.17\n",
            "MISUSE and MJYRTOT have a correlation of: 0.26\n",
            "MISUSE and MRDAYPYR have a correlation of: 0.14\n",
            "MISUSE and MRDAYPMO have a correlation of: 0.18\n",
            "MISUSE and MRDAYPWK have a correlation of: 0.31\n",
            "MISUSE and MJDAY30A have a correlation of: 0.24\n"
          ],
          "name": "stdout"
        }
      ]
    },
    {
      "cell_type": "markdown",
      "metadata": {
        "id": "j-rR0bpn7Ozb",
        "colab_type": "text"
      },
      "source": [
        "**stronger correlations than we observed for the continuous variables in tobacco section, but we should discuss other imputation strategies for missing data**"
      ]
    },
    {
      "cell_type": "code",
      "metadata": {
        "id": "_SQRxyhL7Oze",
        "colab_type": "code",
        "colab": {},
        "outputId": "b32721b3-764a-42d7-8f95-5a9aa5e23f03"
      },
      "source": [
        "for variable in categorical_vars:\n",
        "    print(data.groupby([variable, 'MISUSE'])[variable].count())"
      ],
      "execution_count": 0,
      "outputs": [
        {
          "output_type": "stream",
          "text": [
            "MJEVER  MISUSE\n",
            "0       0         21493\n",
            "        1          1771\n",
            "1       0         23182\n",
            "        1          6912\n",
            "Name: MJEVER, dtype: int64\n",
            "MJREC  MISUSE\n",
            "0      0         21493\n",
            "       1          1771\n",
            "1      0         14471\n",
            "       1          2084\n",
            "2      0          8711\n",
            "       1          4828\n",
            "Name: MJREC, dtype: int64\n"
          ],
          "name": "stdout"
        }
      ]
    },
    {
      "cell_type": "code",
      "metadata": {
        "id": "GI3Er8s17Ozg",
        "colab_type": "code",
        "colab": {},
        "outputId": "9af84f75-6d43-42a2-ba45-ede4329e185f"
      },
      "source": [
        "for i in binary_vars:\n",
        "    pos_and_misuse = len(data[(data[i] == 1) & (data[\"MISUSE\"] == 1)])/len(data[data[i] == 1]) *100\n",
        "    neg_and_misuse = len(data[(data[i] == 0) & (data[\"MISUSE\"] == 1)])/len(data[data[i] == 0]) *100\n",
        "    print(\"{:0.2f}% of users with {} = 1 misused, while only {:0.2f}% of users with {} = 0 misused\".format(pos_and_misuse, i,\n",
        "                                                                                                   neg_and_misuse, i))"
      ],
      "execution_count": 0,
      "outputs": [
        {
          "output_type": "stream",
          "text": [
            "22.97% of users with MJEVER = 1 misused, while only 7.61% of users with MJEVER = 0 misused\n"
          ],
          "name": "stdout"
        }
      ]
    },
    {
      "cell_type": "code",
      "metadata": {
        "id": "m1RsoIRx7Ozj",
        "colab_type": "code",
        "colab": {},
        "outputId": "a6f61f15-1b2d-4e8d-c9c5-a5a641b49b9b"
      },
      "source": [
        "categorical_vars_non_binary = [\"MJREC\"]\n",
        "\n",
        "\n",
        "for i in categorical_vars_non_binary:\n",
        "    curr_and_misuse = len(data[(data[i] == 2) & (data[\"MISUSE\"] == 1)])/len(data[data[i] == 2]) *100\n",
        "    past_and_misuse = len(data[(data[i] == 1) & (data[\"MISUSE\"] == 1)])/len(data[data[i] == 1]) *100\n",
        "    neg_and_misuse = len(data[(data[i] == 0) & (data[\"MISUSE\"] == 1)])/len(data[data[i] == 0]) *100\n",
        "    print(\"{:0.2f}% of users with {} = 2 misused, {:0.2f}% of users with {} = 1 misused,  while only {:0.2f}% of users with {} = 0 misused\".format(curr_and_misuse, i,\n",
        "                                                                                                   past_and_misuse, i, neg_and_misuse, i))"
      ],
      "execution_count": 0,
      "outputs": [
        {
          "output_type": "stream",
          "text": [
            "35.66% of users with MJREC = 2 misused, 12.59% of users with MJREC = 1 misused,  while only 7.61% of users with MJREC = 0 misused\n"
          ],
          "name": "stdout"
        }
      ]
    },
    {
      "cell_type": "markdown",
      "metadata": {
        "id": "O630pmbn7Ozp",
        "colab_type": "text"
      },
      "source": [
        "# COCAINE"
      ]
    },
    {
      "cell_type": "markdown",
      "metadata": {
        "id": "Rcv02qL07Ozr",
        "colab_type": "text"
      },
      "source": [
        "Variables of Interest:  \n",
        "    \n",
        "COCEVER - EVER USED COCAINE -- requires bucketing/binarizing  \n",
        "COCAGE - AGE WHEN FIRST USED COCAINE -- continuous but requires bucketing  \n",
        "COCREC - TIME SINCE LAST USED COCAINE -- requires bucketing  \n",
        "COCYRTOT - TOTAL # OF DAYS USED COCAINE IN PAST 12 MONTHS -- continuous but requires bucketing  \n",
        "CCDAYPYR - # DAYS USED COCAINE PAST 12 MONTHS -- continuous but requires bucketing  \n",
        "CCDAYPMO - # DAYS PER MONTH USED COCAINE PAST 12 MONTHS -- continuous but requires bucketing  \n",
        "CCDAYPWK - # DAYS PER WEEK USED COCAINE PAST 12 MONTHS -- continuous but requires bucketing  \n",
        "COCUS30A - # DAYS USED COCAINE PAST 30 DAYS -- continuous but requires bucketing"
      ]
    },
    {
      "cell_type": "markdown",
      "metadata": {
        "id": "oO0tfHAt7Ozr",
        "colab_type": "text"
      },
      "source": [
        "### Bucket Vals"
      ]
    },
    {
      "cell_type": "code",
      "metadata": {
        "collapsed": true,
        "id": "5-n6rgbG7Ozs",
        "colab_type": "code",
        "colab": {}
      },
      "source": [
        "data[\"COCEVER\"] = data[\"COCEVER\"].apply(lambda row: 0 if row in [2,85,94, 97] else row) #Never used coke"
      ],
      "execution_count": 0,
      "outputs": []
    },
    {
      "cell_type": "code",
      "metadata": {
        "collapsed": true,
        "id": "ZQCcRNEN7Ozu",
        "colab_type": "code",
        "colab": {}
      },
      "source": [
        "data[\"COCAGE\"] = data[\"COCAGE\"].apply(lambda row: np.nan if row in [985,991,994,997, 998] else row) #nulls for non coke users"
      ],
      "execution_count": 0,
      "outputs": []
    },
    {
      "cell_type": "code",
      "metadata": {
        "collapsed": true,
        "id": "oiuyBEii7Oz6",
        "colab_type": "code",
        "colab": {}
      },
      "source": [
        "data[\"COCREC\"] = data[\"COCREC\"].apply(lambda row: 2 if row in [1,2,8,11,12] else row) #Current coke user\n",
        "data[\"COCREC\"] = data[\"COCREC\"].apply(lambda row: 1 if row in [3,9] else row) #Past coke user\n",
        "data[\"COCREC\"] = data[\"COCREC\"].apply(lambda row: 0 if row not in [1,2] else row) # Never Used"
      ],
      "execution_count": 0,
      "outputs": []
    },
    {
      "cell_type": "code",
      "metadata": {
        "collapsed": true,
        "id": "wrrnoclw7Oz-",
        "colab_type": "code",
        "colab": {}
      },
      "source": [
        "data[\"COCYRTOT\"] = data[\"COCYRTOT\"].apply(lambda row: 0 if row in [993] else row) #Didnt use in last 12 months\n",
        "data[\"COCYRTOT\"] = data[\"COCYRTOT\"].apply(lambda row: np.nan if row in [985,991,994,997,998] else row) #Never used"
      ],
      "execution_count": 0,
      "outputs": []
    },
    {
      "cell_type": "code",
      "metadata": {
        "collapsed": true,
        "id": "tmOKic7f7O0A",
        "colab_type": "code",
        "colab": {}
      },
      "source": [
        "data[\"CCDAYPYR\"] = data[\"CCDAYPYR\"].apply(lambda row: 0 if row in [993] else row) #Didnt use in last 12 months\n",
        "data[\"CCDAYPYR\"] = data[\"CCDAYPYR\"].apply(lambda row: np.nan if row in [985, 989,991,994,997,998, 999] else row) #Never used"
      ],
      "execution_count": 0,
      "outputs": []
    },
    {
      "cell_type": "code",
      "metadata": {
        "collapsed": true,
        "id": "0NpFmecF7O0E",
        "colab_type": "code",
        "colab": {}
      },
      "source": [
        "data[\"CCDAYPMO\"] = data[\"CCDAYPMO\"].apply(lambda row: 0 if row in [93] else row) #Didnt use in last 12 months\n",
        "data[\"CCDAYPMO\"] = data[\"CCDAYPMO\"].apply(lambda row: np.nan if row in [89,91,94,97,98, 99] else row) #Never used"
      ],
      "execution_count": 0,
      "outputs": []
    },
    {
      "cell_type": "code",
      "metadata": {
        "collapsed": true,
        "id": "PcK1ENzP7O0H",
        "colab_type": "code",
        "colab": {}
      },
      "source": [
        "data[\"CCDAYPWK\"] = data[\"CCDAYPWK\"].apply(lambda row: 0 if row in [93] else row) #Didnt use in last 12 months\n",
        "data[\"CCDAYPWK\"] = data[\"CCDAYPWK\"].apply(lambda row: np.nan if row in [85, 91,94,97,98, 99] else row) #Never used"
      ],
      "execution_count": 0,
      "outputs": []
    },
    {
      "cell_type": "code",
      "metadata": {
        "collapsed": true,
        "id": "F8vfu9M27O0O",
        "colab_type": "code",
        "colab": {}
      },
      "source": [
        "data[\"COCUS30A\"] = data[\"COCUS30A\"].apply(lambda row: 0 if row in [93] else row) #Didnt use in last 12 months\n",
        "data[\"COCUS30A\"] = data[\"COCUS30A\"].apply(lambda row: np.nan if row in [91,97,98,99] else row) #Never used"
      ],
      "execution_count": 0,
      "outputs": []
    },
    {
      "cell_type": "code",
      "metadata": {
        "collapsed": true,
        "id": "BEi3_Z1l7O0P",
        "colab_type": "code",
        "colab": {}
      },
      "source": [
        "continuous_vars = [\"COCAGE\", \"COCYRTOT\", \"CCDAYPYR\", \"CCDAYPMO\", \"CCDAYPWK\", \"COCUS30A\"]\n",
        "categorical_vars = [\"COCEVER\", \"COCREC\"]\n",
        "binary_vars = [\"COCEVER\"]"
      ],
      "execution_count": 0,
      "outputs": []
    },
    {
      "cell_type": "code",
      "metadata": {
        "id": "K9yZ827V7O0R",
        "colab_type": "code",
        "colab": {},
        "outputId": "c37eb978-14a9-407a-925a-2dc54f80b341"
      },
      "source": [
        "for i in continuous_vars:\n",
        "    print(\"MISUSE and {} have a correlation of: {:0.2f}\".format(i, data[['MISUSE', i]].corr().iloc[0,1]))"
      ],
      "execution_count": 0,
      "outputs": [
        {
          "output_type": "stream",
          "text": [
            "MISUSE and COCAGE have a correlation of: -0.16\n",
            "MISUSE and COCYRTOT have a correlation of: 0.14\n",
            "MISUSE and CCDAYPYR have a correlation of: 0.06\n",
            "MISUSE and CCDAYPMO have a correlation of: 0.09\n",
            "MISUSE and CCDAYPWK have a correlation of: 0.06\n",
            "MISUSE and COCUS30A have a correlation of: 0.06\n"
          ],
          "name": "stdout"
        }
      ]
    },
    {
      "cell_type": "markdown",
      "metadata": {
        "id": "o8qgBpo47O0W",
        "colab_type": "text"
      },
      "source": [
        "**weaker correlations than marijuana**"
      ]
    },
    {
      "cell_type": "code",
      "metadata": {
        "id": "rQklr6wl7O0X",
        "colab_type": "code",
        "colab": {},
        "outputId": "8ce47202-9996-48db-f634-c0f4201a587d"
      },
      "source": [
        "for variable in categorical_vars:\n",
        "    print(data.groupby([variable, 'MISUSE'])[variable].count())"
      ],
      "execution_count": 0,
      "outputs": [
        {
          "output_type": "stream",
          "text": [
            "COCEVER  MISUSE\n",
            "0        0         37764\n",
            "         1          5048\n",
            "1        0          6911\n",
            "         1          3635\n",
            "Name: COCEVER, dtype: int64\n",
            "COCREC  MISUSE\n",
            "0       0         37764\n",
            "        1          5048\n",
            "1       0          5991\n",
            "        1          2244\n",
            "2       0           920\n",
            "        1          1391\n",
            "Name: COCREC, dtype: int64\n"
          ],
          "name": "stdout"
        }
      ]
    },
    {
      "cell_type": "code",
      "metadata": {
        "id": "AYEwFOeO7O0c",
        "colab_type": "code",
        "colab": {},
        "outputId": "797990f3-8164-4d3e-db8e-3e217c9939bc"
      },
      "source": [
        "for i in binary_vars:\n",
        "    pos_and_misuse = len(data[(data[i] == 1) & (data[\"MISUSE\"] == 1)])/len(data[data[i] == 1]) *100\n",
        "    neg_and_misuse = len(data[(data[i] == 0) & (data[\"MISUSE\"] == 1)])/len(data[data[i] == 0]) *100\n",
        "    print(\"{:0.2f}% of users with {} = 1 misused, while only {:0.2f}% of users with {} = 0 misused\".format(pos_and_misuse, i,\n",
        "                                                                                                   neg_and_misuse, i))"
      ],
      "execution_count": 0,
      "outputs": [
        {
          "output_type": "stream",
          "text": [
            "34.47% of users with COCEVER = 1 misused, while only 11.79% of users with COCEVER = 0 misused\n"
          ],
          "name": "stdout"
        }
      ]
    },
    {
      "cell_type": "code",
      "metadata": {
        "id": "MqkTQg8O7O0g",
        "colab_type": "code",
        "colab": {},
        "outputId": "377321d9-d9a4-4609-fbd6-29313491e6f2"
      },
      "source": [
        "categorical_vars_non_binary = [\"COCREC\"]\n",
        "\n",
        "\n",
        "for i in categorical_vars_non_binary:\n",
        "    curr_and_misuse = len(data[(data[i] == 2) & (data[\"MISUSE\"] == 1)])/len(data[data[i] == 2]) *100\n",
        "    past_and_misuse = len(data[(data[i] == 1) & (data[\"MISUSE\"] == 1)])/len(data[data[i] == 1]) *100\n",
        "    neg_and_misuse = len(data[(data[i] == 0) & (data[\"MISUSE\"] == 1)])/len(data[data[i] == 0]) *100\n",
        "    print(\"{:0.2f}% of users with {} = 2 misused, {:0.2f}% of users with {} = 1 misused,  while only {:0.2f}% of users with {} = 0 misused\".format(curr_and_misuse, i,\n",
        "                                                                                                   past_and_misuse, i, neg_and_misuse, i))"
      ],
      "execution_count": 0,
      "outputs": [
        {
          "output_type": "stream",
          "text": [
            "60.19% of users with COCREC = 2 misused, 27.25% of users with COCREC = 1 misused,  while only 11.79% of users with COCREC = 0 misused\n"
          ],
          "name": "stdout"
        }
      ]
    },
    {
      "cell_type": "markdown",
      "metadata": {
        "id": "zNveeIPP7O0j",
        "colab_type": "text"
      },
      "source": [
        "**Majority of active coke users ended up misusing opiates**"
      ]
    },
    {
      "cell_type": "markdown",
      "metadata": {
        "id": "B05L46L-7O0j",
        "colab_type": "text"
      },
      "source": [
        "# CRACK"
      ]
    },
    {
      "cell_type": "markdown",
      "metadata": {
        "id": "-3AWJNwQ7O0j",
        "colab_type": "text"
      },
      "source": [
        "**Not much variation in the data so limiting variable exploration to just a couple**\n",
        "\n",
        "Variables of Interest:  \n",
        "    \n",
        "CRKEVER - EVER USED CRACK -- requires bucketing/binarizing  \n",
        "CRKAGE - AGE WHEN FIRST USED CRACK -- continuous but requires bucketing  \n",
        "CRAKREC - TIME SINCE LAST USED CRACK -- requires bucketing"
      ]
    },
    {
      "cell_type": "markdown",
      "metadata": {
        "id": "QJPjuSFD7O0k",
        "colab_type": "text"
      },
      "source": [
        "### Bucket Vals"
      ]
    },
    {
      "cell_type": "code",
      "metadata": {
        "collapsed": true,
        "id": "1ztf9ZK47O0k",
        "colab_type": "code",
        "colab": {}
      },
      "source": [
        "data[\"CRKEVER\"] = data[\"CRKEVER\"].apply(lambda row: 0 if row in [2,85, 91, 94, 97, 98] else row) #Never used crack"
      ],
      "execution_count": 0,
      "outputs": []
    },
    {
      "cell_type": "code",
      "metadata": {
        "collapsed": true,
        "id": "hNF2PZau7O0m",
        "colab_type": "code",
        "colab": {}
      },
      "source": [
        "data[\"CRKAGE\"] = data[\"CRKAGE\"].apply(lambda row: np.nan if row in [985,991,994,997, 998] else row) #nulls for non crack users"
      ],
      "execution_count": 0,
      "outputs": []
    },
    {
      "cell_type": "code",
      "metadata": {
        "collapsed": true,
        "id": "JEOuS6DJ7O0n",
        "colab_type": "code",
        "colab": {}
      },
      "source": [
        "data[\"CRAKREC\"] = data[\"CRAKREC\"].apply(lambda row: 2 if row in [1,2,8] else row) #Current crack user\n",
        "data[\"CRAKREC\"] = data[\"CRAKREC\"].apply(lambda row: 1 if row in [3,9] else row) #Past crack user\n",
        "data[\"CRAKREC\"] = data[\"CRAKREC\"].apply(lambda row: 0 if row not in [1,2] else row) # Never Used"
      ],
      "execution_count": 0,
      "outputs": []
    },
    {
      "cell_type": "code",
      "metadata": {
        "collapsed": true,
        "id": "zTgfJCbp7O0o",
        "colab_type": "code",
        "colab": {}
      },
      "source": [
        "continuous_vars = [\"CRKAGE\"]\n",
        "categorical_vars = [\"CRKEVER\", \"CRAKREC\"]\n",
        "binary_vars = [\"CRKEVER\"]"
      ],
      "execution_count": 0,
      "outputs": []
    },
    {
      "cell_type": "code",
      "metadata": {
        "id": "jGo8hqpI7O0q",
        "colab_type": "code",
        "colab": {},
        "outputId": "83c8ff7d-430e-4ba7-bcc2-9a8004dc4d2d"
      },
      "source": [
        "for i in continuous_vars:\n",
        "    print(\"MISUSE and {} have a correlation of: {:0.2f}\".format(i, data[['MISUSE', i]].corr().iloc[0,1]))"
      ],
      "execution_count": 0,
      "outputs": [
        {
          "output_type": "stream",
          "text": [
            "MISUSE and CRKAGE have a correlation of: -0.17\n"
          ],
          "name": "stdout"
        }
      ]
    },
    {
      "cell_type": "markdown",
      "metadata": {
        "id": "lt95FYv-7O0y",
        "colab_type": "text"
      },
      "source": [
        "**weaker correlations than marijuana**"
      ]
    },
    {
      "cell_type": "code",
      "metadata": {
        "id": "hWd00z1O7O0y",
        "colab_type": "code",
        "colab": {},
        "outputId": "832afec5-568f-4283-9ac4-fc962a5b8130"
      },
      "source": [
        "for variable in categorical_vars:\n",
        "    print(data.groupby([variable, 'MISUSE'])[variable].count())"
      ],
      "execution_count": 0,
      "outputs": [
        {
          "output_type": "stream",
          "text": [
            "CRKEVER  MISUSE\n",
            "0        0         42936\n",
            "         1          7511\n",
            "1        0          1739\n",
            "         1          1172\n",
            "Name: CRKEVER, dtype: int64\n",
            "CRAKREC  MISUSE\n",
            "0        0         42936\n",
            "         1          7511\n",
            "1        0          1616\n",
            "         1           921\n",
            "2        0           123\n",
            "         1           251\n",
            "Name: CRAKREC, dtype: int64\n"
          ],
          "name": "stdout"
        }
      ]
    },
    {
      "cell_type": "code",
      "metadata": {
        "id": "0JU9fWAS7O01",
        "colab_type": "code",
        "colab": {},
        "outputId": "5c124aea-9180-4b75-cefd-bf60973c9fa9"
      },
      "source": [
        "for i in binary_vars:\n",
        "    pos_and_misuse = len(data[(data[i] == 1) & (data[\"MISUSE\"] == 1)])/len(data[data[i] == 1]) *100\n",
        "    neg_and_misuse = len(data[(data[i] == 0) & (data[\"MISUSE\"] == 1)])/len(data[data[i] == 0]) *100\n",
        "    print(\"{:0.2f}% of users with {} = 1 misused, while only {:0.2f}% of users with {} = 0 misused\".format(pos_and_misuse, i,\n",
        "                                                                                                   neg_and_misuse, i))"
      ],
      "execution_count": 0,
      "outputs": [
        {
          "output_type": "stream",
          "text": [
            "40.26% of users with CRKEVER = 1 misused, while only 14.89% of users with CRKEVER = 0 misused\n"
          ],
          "name": "stdout"
        }
      ]
    },
    {
      "cell_type": "code",
      "metadata": {
        "id": "qFyBAGRz7O04",
        "colab_type": "code",
        "colab": {},
        "outputId": "53a65f52-9b33-4312-9d54-587732150281"
      },
      "source": [
        "categorical_vars_non_binary = [\"CRAKREC\"]\n",
        "\n",
        "\n",
        "for i in categorical_vars_non_binary:\n",
        "    curr_and_misuse = len(data[(data[i] == 2) & (data[\"MISUSE\"] == 1)])/len(data[data[i] == 2]) *100\n",
        "    past_and_misuse = len(data[(data[i] == 1) & (data[\"MISUSE\"] == 1)])/len(data[data[i] == 1]) *100\n",
        "    neg_and_misuse = len(data[(data[i] == 0) & (data[\"MISUSE\"] == 1)])/len(data[data[i] == 0]) *100\n",
        "    print(\"{:0.2f}% of users with {} = 2 misused, {:0.2f}% of users with {} = 1 misused,  while only {:0.2f}% of users with {} = 0 misused\".format(curr_and_misuse, i,\n",
        "                                                                                                   past_and_misuse, i, neg_and_misuse, i))"
      ],
      "execution_count": 0,
      "outputs": [
        {
          "output_type": "stream",
          "text": [
            "67.11% of users with CRAKREC = 2 misused, 36.30% of users with CRAKREC = 1 misused,  while only 14.89% of users with CRAKREC = 0 misused\n"
          ],
          "name": "stdout"
        }
      ]
    },
    {
      "cell_type": "markdown",
      "metadata": {
        "id": "PJOFxLBa7O07",
        "colab_type": "text"
      },
      "source": [
        "**Majority of active crack users ended up misusing opiates**"
      ]
    },
    {
      "cell_type": "markdown",
      "metadata": {
        "id": "m1WKe01d7O08",
        "colab_type": "text"
      },
      "source": [
        "# HEROIN"
      ]
    },
    {
      "cell_type": "markdown",
      "metadata": {
        "id": "ho6XoPnk7O09",
        "colab_type": "text"
      },
      "source": [
        "**Not much variation in the data so limiting variable exploration to just a couple**\n",
        "\n",
        "Variables of Interest:  \n",
        "    \n",
        "HEREVER - EVER USED HEROIN -- requires bucketing/binarizing  \n",
        "HERAGE - AGE WHEN FIRST USED HEROIN -- continuous but requires bucketing  \n",
        "HERREC - TIME SINCE LAST USED HEROIN -- requires bucketing"
      ]
    },
    {
      "cell_type": "markdown",
      "metadata": {
        "id": "njURbSUB7O09",
        "colab_type": "text"
      },
      "source": [
        "### Bucket Vals"
      ]
    },
    {
      "cell_type": "code",
      "metadata": {
        "collapsed": true,
        "id": "fCZb1FvR7O0-",
        "colab_type": "code",
        "colab": {}
      },
      "source": [
        "data[\"HEREVER\"] = data[\"HEREVER\"].apply(lambda row: 0 if row in [2,94, 97] else row) #Never used heroin"
      ],
      "execution_count": 0,
      "outputs": []
    },
    {
      "cell_type": "code",
      "metadata": {
        "collapsed": true,
        "id": "60szLt2w7O1E",
        "colab_type": "code",
        "colab": {}
      },
      "source": [
        "data[\"HERAGE\"] = data[\"HERAGE\"].apply(lambda row: np.nan if row in [985,991,994,997, 998] else row) #nulls for non heroin users"
      ],
      "execution_count": 0,
      "outputs": []
    },
    {
      "cell_type": "code",
      "metadata": {
        "collapsed": true,
        "id": "gtv18fH57O1Q",
        "colab_type": "code",
        "colab": {}
      },
      "source": [
        "data[\"HERREC\"] = data[\"HERREC\"].apply(lambda row: 2 if row in [1,2,8] else row) #Current heroin user\n",
        "data[\"HERREC\"] = data[\"HERREC\"].apply(lambda row: 1 if row in [3,9] else row) #Past heroin user\n",
        "data[\"HERREC\"] = data[\"HERREC\"].apply(lambda row: 0 if row not in [1,2] else row) # Never Used"
      ],
      "execution_count": 0,
      "outputs": []
    },
    {
      "cell_type": "code",
      "metadata": {
        "collapsed": true,
        "id": "0-zaOsYJ7O1g",
        "colab_type": "code",
        "colab": {}
      },
      "source": [
        "continuous_vars = [\"HERAGE\"]\n",
        "categorical_vars = [\"HEREVER\", \"HERREC\"]\n",
        "binary_vars = [\"HEREVER\"]"
      ],
      "execution_count": 0,
      "outputs": []
    },
    {
      "cell_type": "code",
      "metadata": {
        "id": "YbliR8Dt7O1q",
        "colab_type": "code",
        "colab": {},
        "outputId": "9462181f-d3d9-4787-e651-1622cd5f07b5"
      },
      "source": [
        "for i in continuous_vars:\n",
        "    print(\"MISUSE and {} have a correlation of: {:0.2f}\".format(i, data[['MISUSE', i]].corr().iloc[0,1]))"
      ],
      "execution_count": 0,
      "outputs": [
        {
          "output_type": "stream",
          "text": [
            "MISUSE and HERAGE have a correlation of: -0.03\n"
          ],
          "name": "stdout"
        }
      ]
    },
    {
      "cell_type": "markdown",
      "metadata": {
        "id": "IEtM-xwq7O1v",
        "colab_type": "text"
      },
      "source": [
        "**weaker correlations than marijuana**"
      ]
    },
    {
      "cell_type": "code",
      "metadata": {
        "id": "xW8U-5V47O1w",
        "colab_type": "code",
        "colab": {},
        "outputId": "b4e6f6f7-c0f3-42da-a378-16b809412c4e"
      },
      "source": [
        "for variable in categorical_vars:\n",
        "    print(data.groupby([variable, 'MISUSE'])[variable].count())"
      ],
      "execution_count": 0,
      "outputs": [
        {
          "output_type": "stream",
          "text": [
            "HEREVER  MISUSE\n",
            "0        0         43757\n",
            "         1          7546\n",
            "1        0           918\n",
            "         1          1137\n",
            "Name: HEREVER, dtype: int64\n",
            "HERREC  MISUSE\n",
            "0       0         43757\n",
            "        1          7547\n",
            "1       0           807\n",
            "        1           639\n",
            "2       0           111\n",
            "        1           497\n",
            "Name: HERREC, dtype: int64\n"
          ],
          "name": "stdout"
        }
      ]
    },
    {
      "cell_type": "code",
      "metadata": {
        "id": "RrrFzja47O1z",
        "colab_type": "code",
        "colab": {},
        "outputId": "3346fee4-931f-4aac-ab3d-06d2b6f86eec"
      },
      "source": [
        "for i in binary_vars:\n",
        "    pos_and_misuse = len(data[(data[i] == 1) & (data[\"MISUSE\"] == 1)])/len(data[data[i] == 1]) *100\n",
        "    neg_and_misuse = len(data[(data[i] == 0) & (data[\"MISUSE\"] == 1)])/len(data[data[i] == 0]) *100\n",
        "    print(\"{:0.2f}% of users with {} = 1 misused, while only {:0.2f}% of users with {} = 0 misused\".format(pos_and_misuse, i,\n",
        "                                                                                                   neg_and_misuse, i))"
      ],
      "execution_count": 0,
      "outputs": [
        {
          "output_type": "stream",
          "text": [
            "55.33% of users with HEREVER = 1 misused, while only 14.71% of users with HEREVER = 0 misused\n"
          ],
          "name": "stdout"
        }
      ]
    },
    {
      "cell_type": "code",
      "metadata": {
        "id": "FyxNllNa7O10",
        "colab_type": "code",
        "colab": {},
        "outputId": "c3a2a718-a1ee-4348-e6ae-e45c0e6fc4e0"
      },
      "source": [
        "categorical_vars_non_binary = [\"HERREC\"]\n",
        "\n",
        "\n",
        "for i in categorical_vars_non_binary:\n",
        "    curr_and_misuse = len(data[(data[i] == 2) & (data[\"MISUSE\"] == 1)])/len(data[data[i] == 2]) *100\n",
        "    past_and_misuse = len(data[(data[i] == 1) & (data[\"MISUSE\"] == 1)])/len(data[data[i] == 1]) *100\n",
        "    neg_and_misuse = len(data[(data[i] == 0) & (data[\"MISUSE\"] == 1)])/len(data[data[i] == 0]) *100\n",
        "    print(\"{:0.2f}% of users with {} = 2 misused, {:0.2f}% of users with {} = 1 misused,  while only {:0.2f}% of users with {} = 0 misused\".format(curr_and_misuse, i,\n",
        "                                                                                                   past_and_misuse, i, neg_and_misuse, i))"
      ],
      "execution_count": 0,
      "outputs": [
        {
          "output_type": "stream",
          "text": [
            "81.74% of users with HERREC = 2 misused, 44.19% of users with HERREC = 1 misused,  while only 14.71% of users with HERREC = 0 misused\n"
          ],
          "name": "stdout"
        }
      ]
    },
    {
      "cell_type": "markdown",
      "metadata": {
        "id": "LJsAFhgQ7O14",
        "colab_type": "text"
      },
      "source": [
        "**Majority of active crack users ended up misusing opiates**"
      ]
    },
    {
      "cell_type": "code",
      "metadata": {
        "collapsed": true,
        "id": "BHW1vuA07O14",
        "colab_type": "code",
        "colab": {}
      },
      "source": [
        ""
      ],
      "execution_count": 0,
      "outputs": []
    }
  ]
}