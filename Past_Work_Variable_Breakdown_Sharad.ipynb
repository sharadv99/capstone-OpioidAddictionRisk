{
  "nbformat": 4,
  "nbformat_minor": 0,
  "metadata": {
    "colab": {
      "name": "Past Work Variable Breakdown - Sharad.ipynb",
      "version": "0.3.2",
      "provenance": [],
      "include_colab_link": true
    },
    "language_info": {
      "codemirror_mode": {
        "name": "ipython",
        "version": 3
      },
      "file_extension": ".py",
      "mimetype": "text/x-python",
      "name": "python",
      "nbconvert_exporter": "python",
      "pygments_lexer": "ipython3",
      "version": "3.6.1"
    },
    "kernelspec": {
      "display_name": "Python 3",
      "language": "python",
      "name": "python3"
    }
  },
  "cells": [
    {
      "cell_type": "markdown",
      "metadata": {
        "id": "view-in-github",
        "colab_type": "text"
      },
      "source": [
        "<a href=\"https://colab.research.google.com/github/sharadv99/capstone-OpioidAddictionRisk/blob/master/Past_Work_Variable_Breakdown_Sharad.ipynb\" target=\"_parent\"><img src=\"https://colab.research.google.com/assets/colab-badge.svg\" alt=\"Open In Colab\"/></a>"
      ]
    },
    {
      "cell_type": "code",
      "metadata": {
        "id": "89xlstyODyU2",
        "colab_type": "code",
        "colab": {}
      },
      "source": [
        "import pandas as pd\n",
        "import numpy as np\n",
        "import pickle as pkl\n",
        "import zipfile\n",
        "import matplotlib.pyplot as plt\n",
        "%matplotlib inline"
      ],
      "execution_count": 0,
      "outputs": []
    },
    {
      "cell_type": "code",
      "metadata": {
        "id": "VE0AY5uTDyU6",
        "colab_type": "code",
        "colab": {}
      },
      "source": [
        "with zipfile.ZipFile(\"data.pickle.zip\") as z:\n",
        "    data = pd.read_pickle(z.open(\"data.pickle\"))"
      ],
      "execution_count": 0,
      "outputs": []
    },
    {
      "cell_type": "code",
      "metadata": {
        "id": "lDPkvGr4DyU8",
        "colab_type": "code",
        "colab": {},
        "outputId": "8956aaaf-1ce5-45f7-f8b7-dd8feefd461e"
      },
      "source": [
        "data.shape"
      ],
      "execution_count": 0,
      "outputs": [
        {
          "output_type": "execute_result",
          "data": {
            "text/plain": [
              "(53358, 2631)"
            ]
          },
          "metadata": {
            "tags": []
          },
          "execution_count": 152
        }
      ]
    },
    {
      "cell_type": "markdown",
      "metadata": {
        "id": "bPNfAmG7DyVC",
        "colab_type": "text"
      },
      "source": [
        "# TOBACCO"
      ]
    },
    {
      "cell_type": "markdown",
      "metadata": {
        "id": "NHhaZSfBDyVD",
        "colab_type": "text"
      },
      "source": [
        "Variables of Interest :\n",
        "\n",
        "CIGEVER - EVER SMOKED A CIGARETTE -- boolean  \n",
        "CIGTRY - AGE WHEN FIRST SMOKED A CIGARETTE - continuous but requires some bucketing  \n",
        "CIGREC - TIME SINCE LAST SMOKED CIGARETTES   -- requires bucketing/binarizing  \n",
        "CIG30USE - HOW MANY DAYS SMOKED CIG IN PAST 30 DAYS  -- continuous but requires some bucketing  \n",
        "CIG30AV - AVG # CIGS SMOKED PER DAY/ON DAY SMOKED PAST 30 DAYS  -- continuous requires bucketing/binarizing    \n",
        "CIGDLYMO - EVER SMOKED CIG EVERY DAY FOR 30 DAYS  -- requires bucketing/binarizing  \n",
        "CIGAGE - AGE WHEN FIRST STARTED SMOKING CIGARETTES EVERYDAY -- continuous but requires bucketing  \n",
        "CIG100LF - HAVE YOU SMOKED 100 CIGS IN YOUR LIFE  -- requires bucketing/binarizing  \n",
        "SMKLSSEVR - EVER USED SMOKELESS TOBACCO  -- requires bucketing/binarizing  \n",
        "SMKLSSREC - TIME SINCE LAST USED SMOKELESS TOBACCO  -- requires bucketing/binarizing  \n",
        "SMKLSSTRY - AGE WHEN FIRST USED SMOKELESS TOBACCO -- continuous but requires bucketing  \n",
        "SMKLSS30N - HOW MANY DAYS USED SMOKELESS TOBACCO PAST 30 DAYS -- continuous but requires bucketing  \n",
        "CIGAREVR - EVER SMOKED PART OR ALL OF CIGAR  -- requires bucketing/binarizing  \n",
        "CIGARTRY - AGE WHEN FIRST SMOKED CIGAR -- continuous but requires bucketing  \n",
        "CIGARREC - TIME SINCE LAST SMOKED CIGAR  -- requires bucketing/binarizing  \n",
        "CGR30USE - HOW MANY DAYS SMOKED CIGAR IN PAST 30 DAYS  -- continuous but requires bucketing  \n",
        "PIPEVER - EVER SMOKED PIPE TOBACCO  -- requires bucketing/binarizing"
      ]
    },
    {
      "cell_type": "markdown",
      "metadata": {
        "id": "chwazdR5DyVD",
        "colab_type": "text"
      },
      "source": [
        "### Bucket Vals"
      ]
    },
    {
      "cell_type": "code",
      "metadata": {
        "id": "xnGbhxZqDyVE",
        "colab_type": "code",
        "colab": {}
      },
      "source": [
        "data[\"CIGTRY\"] = data[\"CIGTRY\"].apply(lambda row: np.nan if row in [985,991,994,997] else row) #nulls for non smokers"
      ],
      "execution_count": 0,
      "outputs": []
    },
    {
      "cell_type": "code",
      "metadata": {
        "id": "WRCZams5DyVH",
        "colab_type": "code",
        "colab": {}
      },
      "source": [
        "data[\"CIGREC\"] = data[\"CIGREC\"].apply(lambda row: 2 if row in [1,2,8,11] else row) #Current Cig Smoker\n",
        "data[\"CIGREC\"] = data[\"CIGREC\"].apply(lambda row: 1 if row in [3,4,9,14,19,29,39] else row) #Past Cig Smoker\n",
        "data[\"CIGREC\"] = data[\"CIGREC\"].apply(lambda row: 0 if row not in [1,2] else row) # Never Smoked Cigs"
      ],
      "execution_count": 0,
      "outputs": []
    },
    {
      "cell_type": "code",
      "metadata": {
        "id": "HziVmncNDyVJ",
        "colab_type": "code",
        "colab": {}
      },
      "source": [
        "data[\"CIG30USE\"] = data[\"CIG30USE\"].apply(lambda row: 0 if row in [93] else row) #Didnt smoke in last 30 days\n",
        "data[\"CIG30USE\"] = data[\"CIG30USE\"].apply(lambda row: np.nan if row in [85,91,94,97,98] else row) #Never Smoked"
      ],
      "execution_count": 0,
      "outputs": []
    },
    {
      "cell_type": "code",
      "metadata": {
        "id": "Ubak5wG3DyVL",
        "colab_type": "code",
        "colab": {}
      },
      "source": [
        "data[\"CIG30AV\"] = data[\"CIG30AV\"].apply(lambda row: 0 if row in [93] else row) #Didnt smoke in last 30 days\n",
        "data[\"CIG30AV\"] = data[\"CIG30AV\"].apply(lambda row: np.nan if row in [85,91,94,97,98] else row) #Never Smoked"
      ],
      "execution_count": 0,
      "outputs": []
    },
    {
      "cell_type": "code",
      "metadata": {
        "id": "vw6phfmsDyVO",
        "colab_type": "code",
        "colab": {}
      },
      "source": [
        "data[\"CIGDLYMO\"] = data[\"CIGDLYMO\"].apply(lambda row: 1 if row in [1,5] else row) #Smoked Cig Every Day 30 Days\n",
        "data[\"CIGDLYMO\"] = data[\"CIGDLYMO\"].apply(lambda row: 0 if row in [2, 91,94, 97, 98] else row) #Did not smoke everyday for 30 days"
      ],
      "execution_count": 0,
      "outputs": []
    },
    {
      "cell_type": "code",
      "metadata": {
        "id": "sD0YIQZZDyVR",
        "colab_type": "code",
        "colab": {}
      },
      "source": [
        "data[\"CIGAGE\"] = data[\"CIGAGE\"].apply(lambda row: np.nan if row in [985,991,994,997, 998, 999] else row) #nulls for non smokers"
      ],
      "execution_count": 0,
      "outputs": []
    },
    {
      "cell_type": "code",
      "metadata": {
        "id": "sjgcxf9mDyVT",
        "colab_type": "code",
        "colab": {}
      },
      "source": [
        "data[\"CIG100LF\"] = data[\"CIG100LF\"].apply(lambda row: 1 if row in [1,3,5] else row) #Smoked Cig Every 100 Days in Life\n",
        "data[\"CIG100LF\"] = data[\"CIG100LF\"].apply(lambda row: 0 if row in [2, 91,94, 97, 98] else row) #Did not smoke 100 cigs in Life"
      ],
      "execution_count": 0,
      "outputs": []
    },
    {
      "cell_type": "code",
      "metadata": {
        "id": "YAiT1EGADyVW",
        "colab_type": "code",
        "colab": {}
      },
      "source": [
        "data[\"SMKLSSEVR\"] = data[\"SMKLSSEVR\"].apply(lambda row: 0 if row in [2, 85,94, 97] else row) #Never used smokeless tobacco"
      ],
      "execution_count": 0,
      "outputs": []
    },
    {
      "cell_type": "code",
      "metadata": {
        "id": "VxnUutoBDyVY",
        "colab_type": "code",
        "colab": {}
      },
      "source": [
        "data[\"SMKLSSTRY\"] = data[\"SMKLSSTRY\"].apply(lambda row: np.nan if row in [985,991,994,997, 998] else row) #nulls for never using smokeless tobacco"
      ],
      "execution_count": 0,
      "outputs": []
    },
    {
      "cell_type": "code",
      "metadata": {
        "id": "psgZkbmJDyVb",
        "colab_type": "code",
        "colab": {}
      },
      "source": [
        "data[\"SMKLSSREC\"] = data[\"SMKLSSREC\"].apply(lambda row: 2 if row in [1,2,8,11] else row) #Current Smokeless Tobacco user\n",
        "data[\"SMKLSSREC\"] = data[\"SMKLSSREC\"].apply(lambda row: 1 if row in [3,4,9,14,19,29,39] else row) #Past Smokeless Tobacco user\n",
        "data[\"SMKLSSREC\"] = data[\"SMKLSSREC\"].apply(lambda row: 0 if row not in [1,2] else row) # Never Used"
      ],
      "execution_count": 0,
      "outputs": []
    },
    {
      "cell_type": "code",
      "metadata": {
        "id": "_xEFaOTsDyVf",
        "colab_type": "code",
        "colab": {}
      },
      "source": [
        "data[\"SMKLSS30N\"] = data[\"SMKLSS30N\"].apply(lambda row: 0 if row in [93] else row) #Didnt use smokeless tobacco in last 30 days\n",
        "data[\"SMKLSS30N\"] = data[\"SMKLSS30N\"].apply(lambda row: np.nan if row in [91,94,97,98] else row) #Never Used"
      ],
      "execution_count": 0,
      "outputs": []
    },
    {
      "cell_type": "code",
      "metadata": {
        "id": "3gJ9170-DyVh",
        "colab_type": "code",
        "colab": {}
      },
      "source": [
        "data[\"CIGAREVR\"] = data[\"CIGAREVR\"].apply(lambda row: 0 if row in [2,94, 97] else row) #Never smoked cigar"
      ],
      "execution_count": 0,
      "outputs": []
    },
    {
      "cell_type": "code",
      "metadata": {
        "id": "NDoMpwIfDyVk",
        "colab_type": "code",
        "colab": {}
      },
      "source": [
        "data[\"CIGARTRY\"] = data[\"CIGARTRY\"].apply(lambda row: np.nan if row in [985,991,994,997, 998] else row) #nulls for non smokers"
      ],
      "execution_count": 0,
      "outputs": []
    },
    {
      "cell_type": "code",
      "metadata": {
        "id": "GqFHE_qODyVn",
        "colab_type": "code",
        "colab": {}
      },
      "source": [
        "data[\"CIGARREC\"] = data[\"CIGARREC\"].apply(lambda row: 2 if row in [1,2,8,11] else row) #Current Cigar Smoker\n",
        "data[\"CIGARREC\"] = data[\"CIGARREC\"].apply(lambda row: 1 if row in [3,4,9,14,19,29,39] else row) #Past Cigar Smoker\n",
        "data[\"CIGARREC\"] = data[\"CIGARREC\"].apply(lambda row: 0 if row not in [1,2] else row) # Never Smoked Cigars"
      ],
      "execution_count": 0,
      "outputs": []
    },
    {
      "cell_type": "code",
      "metadata": {
        "id": "kGtqLu8yDyVr",
        "colab_type": "code",
        "colab": {}
      },
      "source": [
        "data[\"CGR30USE\"] = data[\"CGR30USE\"].apply(lambda row: 0 if row in [93] else row) #Didnt smoke in last 30 days\n",
        "data[\"CGR30USE\"] = data[\"CGR30USE\"].apply(lambda row: np.nan if row in [91,94,97,98] else row) #Never Smoked"
      ],
      "execution_count": 0,
      "outputs": []
    },
    {
      "cell_type": "code",
      "metadata": {
        "id": "TAToFS40DyVv",
        "colab_type": "code",
        "colab": {}
      },
      "source": [
        "data[\"PIPEVER\"] = data[\"PIPEVER\"].apply(lambda row: 0 if row in [2, 91,94, 97, 98] else row) #Never used pipe tobacco"
      ],
      "execution_count": 0,
      "outputs": []
    },
    {
      "cell_type": "markdown",
      "metadata": {
        "id": "kFVqdxnPDyVy",
        "colab_type": "text"
      },
      "source": [
        "### Continuous Variable Correlations"
      ]
    },
    {
      "cell_type": "code",
      "metadata": {
        "id": "fZPtIpSkDyVz",
        "colab_type": "code",
        "colab": {}
      },
      "source": [
        "misuseCodes = [1, 2, 8]\n",
        "data['MISUSE'] = data.apply(lambda row: 1 if row.PNRNMREC in misuseCodes else 0,\n",
        "                                              axis=1)"
      ],
      "execution_count": 0,
      "outputs": []
    },
    {
      "cell_type": "code",
      "metadata": {
        "collapsed": true,
        "id": "pUmwkWuvDyV1",
        "colab_type": "code",
        "colab": {}
      },
      "source": [
        "continuous_vars = [\"CIGTRY\", \"CIG30USE\", \"CIG30AV\", \"CIGAGE\", \"SMKLSSTRY\", \"SMKLSS30N\", \"CIGARTRY\", \"CGR30USE\"]\n",
        "categorical_vars = [\"CIGREC\", \"CIGDLYMO\", \"CIG100LF\", \"SMKLSSEVR\", \"SMKLSSREC\", \"CIGAREVR\", \"CIGARREC\", \"PIPEVER\"]\n",
        "binary_vars = [\"CIGDLYMO\", \"CIG100LF\", \"SMKLSSEVR\", \"CIGAREVR\", \"PIPEVER\"]"
      ],
      "execution_count": 0,
      "outputs": []
    },
    {
      "cell_type": "code",
      "metadata": {
        "id": "i2KOPfHtDyV5",
        "colab_type": "code",
        "colab": {},
        "outputId": "e3b24b6b-64b9-4a01-ce44-6fae32f79d6b"
      },
      "source": [
        "for i in continuous_vars:\n",
        "    print(\"MISUSE and {} have a correlation of: {:0.2f}\".format(i, data[['MISUSE', i]].corr().iloc[0,1]))"
      ],
      "execution_count": 0,
      "outputs": [
        {
          "output_type": "stream",
          "text": [
            "MISUSE and CIGTRY have a correlation of: -0.11\n",
            "MISUSE and CIG30USE have a correlation of: 0.13\n",
            "MISUSE and CIG30AV have a correlation of: 0.14\n",
            "MISUSE and CIGAGE have a correlation of: -0.07\n",
            "MISUSE and SMKLSSTRY have a correlation of: -0.07\n",
            "MISUSE and SMKLSS30N have a correlation of: -0.01\n",
            "MISUSE and CIGARTRY have a correlation of: -0.17\n",
            "MISUSE and CGR30USE have a correlation of: 0.07\n"
          ],
          "name": "stdout"
        }
      ]
    },
    {
      "cell_type": "markdown",
      "metadata": {
        "id": "mm-3B8riDyV9",
        "colab_type": "text"
      },
      "source": [
        "**Weak correlation with the continuous variables and Misuse in tobacco section**"
      ]
    },
    {
      "cell_type": "code",
      "metadata": {
        "id": "zYeCKJd1DyV9",
        "colab_type": "code",
        "colab": {},
        "outputId": "119a9ce9-d0fc-4058-ac23-97a823676a36"
      },
      "source": [
        "for variable in categorical_vars:\n",
        "    print(data.groupby([variable, 'MISUSE'])[variable].count())"
      ],
      "execution_count": 0,
      "outputs": [
        {
          "output_type": "stream",
          "text": [
            "CIGREC  MISUSE\n",
            "0       0         17683\n",
            "        1          1938\n",
            "1       0         13709\n",
            "        1          1880\n",
            "2       0         13283\n",
            "        1          4865\n",
            "Name: CIGREC, dtype: int64\n",
            "CIGDLYMO  MISUSE\n",
            "0         0         28996\n",
            "          1          4457\n",
            "1         0         15679\n",
            "          1          4226\n",
            "Name: CIGDLYMO, dtype: int64\n",
            "CIG100LF  MISUSE\n",
            "0         0         27479\n",
            "          1          4057\n",
            "1         0         17196\n",
            "          1          4626\n",
            "Name: CIG100LF, dtype: int64\n",
            "SMKLSSEVR  MISUSE\n",
            "0          0         36558\n",
            "           1          5691\n",
            "1          0          8117\n",
            "           1          2992\n",
            "Name: SMKLSSEVR, dtype: int64\n",
            "SMKLSSREC  MISUSE\n",
            "0          0         36558\n",
            "           1          5691\n",
            "1          0          5527\n",
            "           1          1824\n",
            "2          0          2590\n",
            "           1          1168\n",
            "Name: SMKLSSREC, dtype: int64\n",
            "CIGAREVR  MISUSE\n",
            "0         0         29936\n",
            "          1          4124\n",
            "1         0         14739\n",
            "          1          4559\n",
            "Name: CIGAREVR, dtype: int64\n",
            "CIGARREC  MISUSE\n",
            "0         0         29936\n",
            "          1          4124\n",
            "1         0          9815\n",
            "          1          2336\n",
            "2         0          4924\n",
            "          1          2223\n",
            "Name: CIGARREC, dtype: int64\n",
            "PIPEVER  MISUSE\n",
            "0        0         39996\n",
            "         1          6969\n",
            "1        0          4679\n",
            "         1          1714\n",
            "Name: PIPEVER, dtype: int64\n"
          ],
          "name": "stdout"
        }
      ]
    },
    {
      "cell_type": "code",
      "metadata": {
        "id": "m0s545OCDyWC",
        "colab_type": "code",
        "colab": {},
        "outputId": "c51d0b73-534c-4af7-b742-8db01b4428d2"
      },
      "source": [
        "for i in binary_vars:\n",
        "    pos_and_misuse = len(data[(data[i] == 1) & (data[\"MISUSE\"] == 1)])/len(data[data[i] == 1]) *100\n",
        "    neg_and_misuse = len(data[(data[i] == 0) & (data[\"MISUSE\"] == 1)])/len(data[data[i] == 0]) *100\n",
        "    print(\"{:0.2f}% of users with {} = 1 misused, while only {:0.2f}% of users with {} = 0 misused\".format(pos_and_misuse, i,\n",
        "                                                                                                   neg_and_misuse, i))"
      ],
      "execution_count": 0,
      "outputs": [
        {
          "output_type": "stream",
          "text": [
            "21.23% of users with CIGDLYMO = 1 misused, while only 13.32% of users with CIGDLYMO = 0 misused\n",
            "21.20% of users with CIG100LF = 1 misused, while only 12.86% of users with CIG100LF = 0 misused\n",
            "26.93% of users with SMKLSSEVR = 1 misused, while only 13.47% of users with SMKLSSEVR = 0 misused\n",
            "23.62% of users with CIGAREVR = 1 misused, while only 12.11% of users with CIGAREVR = 0 misused\n",
            "26.81% of users with PIPEVER = 1 misused, while only 14.84% of users with PIPEVER = 0 misused\n"
          ],
          "name": "stdout"
        }
      ]
    },
    {
      "cell_type": "code",
      "metadata": {
        "id": "9VOruGS2DyWE",
        "colab_type": "code",
        "colab": {},
        "outputId": "c1a33472-0378-4b93-dc0a-e2574960eee6"
      },
      "source": [
        "categorical_vars_non_binary = [\"CIGREC\", \"SMKLSSREC\", \"CIGARREC\"]\n",
        "\n",
        "\n",
        "for i in categorical_vars_non_binary:\n",
        "    curr_and_misuse = len(data[(data[i] == 2) & (data[\"MISUSE\"] == 1)])/len(data[data[i] == 2]) *100\n",
        "    past_and_misuse = len(data[(data[i] == 1) & (data[\"MISUSE\"] == 1)])/len(data[data[i] == 1]) *100\n",
        "    neg_and_misuse = len(data[(data[i] == 0) & (data[\"MISUSE\"] == 1)])/len(data[data[i] == 0]) *100\n",
        "    print(\"{:0.2f}% of users with {} = 2 misused, {:0.2f}% of users with {} = 1 misused,  while only {:0.2f}% of users with {} = 0 misused\".format(curr_and_misuse, i,\n",
        "                                                                                                   past_and_misuse, i, neg_and_misuse, i))"
      ],
      "execution_count": 0,
      "outputs": [
        {
          "output_type": "stream",
          "text": [
            "26.81% of users with CIGREC = 2 misused, 12.06% of users with CIGREC = 1 misused,  while only 9.88% of users with CIGREC = 0 misused\n",
            "31.08% of users with SMKLSSREC = 2 misused, 24.81% of users with SMKLSSREC = 1 misused,  while only 13.47% of users with SMKLSSREC = 0 misused\n",
            "31.10% of users with CIGARREC = 2 misused, 19.22% of users with CIGARREC = 1 misused,  while only 12.11% of users with CIGARREC = 0 misused\n"
          ],
          "name": "stdout"
        }
      ]
    },
    {
      "cell_type": "markdown",
      "metadata": {
        "id": "QA7IFcvuDyWH",
        "colab_type": "text"
      },
      "source": [
        "# MARIJUANA"
      ]
    },
    {
      "cell_type": "markdown",
      "metadata": {
        "id": "EfYiyoZMDyWI",
        "colab_type": "text"
      },
      "source": [
        "Variables of Interest:  \n",
        "    \n",
        "MJEVER - EVER USED MARIJUANA/HASHISH -- requires bucketing/binarizing  \n",
        "MJAGE - AGE WHEN FIRST USED MARIJUANA/HASHISH -- continuous but requires bucketing  \n",
        "MJREC - TIME SINCE LAST USED MARIJUANA/HASHISH -- requires bucketing  \n",
        "MJYRTOT - TOTAL # OF DAYS USED MARIJUANA IN PAST 12 MOS -- continuous but requires bucketing  \n",
        "MRDAYPYR - DAYS USED MARIJUANA/HASHISH PAST 12 MONTHS -- continuous but requires bucketing  \n",
        "MRDAYPMO - DAYS PER MO USED MARIJUANA/HASHISH PAST 12 MOS -- continuous but requires bucketing  \n",
        "MRDAYPWK - DAYS PER WEEK USED MARIJUANA/HASHISH PAST 12 MOS -- continuous but requires bucketing  \n",
        "MJDAY30A - # DAYS USED MARIJUANA/HASHISH PAST 30 DAYS  -- continuous but requires bucketing"
      ]
    },
    {
      "cell_type": "markdown",
      "metadata": {
        "id": "gDnM9-GkDyWJ",
        "colab_type": "text"
      },
      "source": [
        "### Bucket Vals"
      ]
    },
    {
      "cell_type": "code",
      "metadata": {
        "collapsed": true,
        "id": "1QgXIWlaDyWK",
        "colab_type": "code",
        "colab": {}
      },
      "source": [
        "data[\"MJEVER\"] = data[\"MJEVER\"].apply(lambda row: 0 if row in [2,94, 97] else row) #Never smoked mj"
      ],
      "execution_count": 0,
      "outputs": []
    },
    {
      "cell_type": "code",
      "metadata": {
        "collapsed": true,
        "id": "QD5QB2l9DyWQ",
        "colab_type": "code",
        "colab": {}
      },
      "source": [
        "data[\"MJAGE\"] = data[\"MJAGE\"].apply(lambda row: np.nan if row in [985,991,994,997, 998] else row) #nulls for non smokers"
      ],
      "execution_count": 0,
      "outputs": []
    },
    {
      "cell_type": "code",
      "metadata": {
        "collapsed": true,
        "id": "iKBLy9aXDyWS",
        "colab_type": "code",
        "colab": {}
      },
      "source": [
        "data[\"MJREC\"] = data[\"MJREC\"].apply(lambda row: 2 if row in [1,2,8,11] else row) #Current mj user\n",
        "data[\"MJREC\"] = data[\"MJREC\"].apply(lambda row: 1 if row in [3,9] else row) #Past mj user\n",
        "data[\"MJREC\"] = data[\"MJREC\"].apply(lambda row: 0 if row not in [1,2] else row) # Never Used"
      ],
      "execution_count": 0,
      "outputs": []
    },
    {
      "cell_type": "code",
      "metadata": {
        "collapsed": true,
        "id": "hb2PyJACDyWU",
        "colab_type": "code",
        "colab": {}
      },
      "source": [
        "data[\"MJYRTOT\"] = data[\"MJYRTOT\"].apply(lambda row: 0 if row in [993] else row) #Didnt use in last 12 months\n",
        "data[\"MJYRTOT\"] = data[\"MJYRTOT\"].apply(lambda row: np.nan if row in [985,991,994,997,998] else row) #Never used"
      ],
      "execution_count": 0,
      "outputs": []
    },
    {
      "cell_type": "code",
      "metadata": {
        "collapsed": true,
        "id": "StC8WUhuDyWV",
        "colab_type": "code",
        "colab": {}
      },
      "source": [
        "data[\"MRDAYPYR\"] = data[\"MRDAYPYR\"].apply(lambda row: 0 if row in [993] else row) #Didnt use in last 12 months\n",
        "data[\"MRDAYPYR\"] = data[\"MRDAYPYR\"].apply(lambda row: np.nan if row in [985, 989,991,994,997,998, 999] else row) #Never used"
      ],
      "execution_count": 0,
      "outputs": []
    },
    {
      "cell_type": "code",
      "metadata": {
        "collapsed": true,
        "id": "5_4k4ODODyWZ",
        "colab_type": "code",
        "colab": {}
      },
      "source": [
        "data[\"MRDAYPMO\"] = data[\"MRDAYPMO\"].apply(lambda row: 0 if row in [93] else row) #Didnt use in last 12 months\n",
        "data[\"MRDAYPMO\"] = data[\"MRDAYPMO\"].apply(lambda row: np.nan if row in [85, 89,91,94,97,98, 99] else row) #Never used"
      ],
      "execution_count": 0,
      "outputs": []
    },
    {
      "cell_type": "code",
      "metadata": {
        "collapsed": true,
        "id": "c9y19vsBDyWc",
        "colab_type": "code",
        "colab": {}
      },
      "source": [
        "data[\"MRDAYPWK\"] = data[\"MRDAYPWK\"].apply(lambda row: 0 if row in [93] else row) #Didnt use in last 12 months\n",
        "data[\"MRDAYPWK\"] = data[\"MRDAYPWK\"].apply(lambda row: np.nan if row in [85, 91,94,97,98, 99] else row) #Never used"
      ],
      "execution_count": 0,
      "outputs": []
    },
    {
      "cell_type": "code",
      "metadata": {
        "collapsed": true,
        "id": "BGfirAa1DyWe",
        "colab_type": "code",
        "colab": {}
      },
      "source": [
        "data[\"MJDAY30A\"] = data[\"MJDAY30A\"].apply(lambda row: 0 if row in [93] else row) #Didnt use in last 12 months\n",
        "data[\"MJDAY30A\"] = data[\"MJDAY30A\"].apply(lambda row: np.nan if row in [85, 91,94,97,98] else row) #Never used"
      ],
      "execution_count": 0,
      "outputs": []
    },
    {
      "cell_type": "code",
      "metadata": {
        "collapsed": true,
        "id": "HCt4GXdzDyWg",
        "colab_type": "code",
        "colab": {}
      },
      "source": [
        "continuous_vars = [\"MJAGE\", \"MJYRTOT\", \"MRDAYPYR\", \"MRDAYPMO\", \"MRDAYPWK\", \"MJDAY30A\"]\n",
        "categorical_vars = [\"MJEVER\", \"MJREC\"]\n",
        "binary_vars = [\"MJEVER\"]"
      ],
      "execution_count": 0,
      "outputs": []
    },
    {
      "cell_type": "code",
      "metadata": {
        "id": "qbfgx5yDDyWh",
        "colab_type": "code",
        "colab": {},
        "outputId": "03d382ab-0912-48b8-8a16-652bda9bf6cd"
      },
      "source": [
        "for i in continuous_vars:\n",
        "    print(\"MISUSE and {} have a correlation of: {:0.2f}\".format(i, data[['MISUSE', i]].corr().iloc[0,1]))"
      ],
      "execution_count": 0,
      "outputs": [
        {
          "output_type": "stream",
          "text": [
            "MISUSE and MJAGE have a correlation of: -0.17\n",
            "MISUSE and MJYRTOT have a correlation of: 0.26\n",
            "MISUSE and MRDAYPYR have a correlation of: 0.14\n",
            "MISUSE and MRDAYPMO have a correlation of: 0.18\n",
            "MISUSE and MRDAYPWK have a correlation of: 0.31\n",
            "MISUSE and MJDAY30A have a correlation of: 0.24\n"
          ],
          "name": "stdout"
        }
      ]
    },
    {
      "cell_type": "markdown",
      "metadata": {
        "id": "IgSLBrRSDyWk",
        "colab_type": "text"
      },
      "source": [
        "**stronger correlations than we observed for the continuous variables in tobacco section, but we should discuss other imputation strategies for missing data**"
      ]
    },
    {
      "cell_type": "code",
      "metadata": {
        "id": "niLby_U5DyWl",
        "colab_type": "code",
        "colab": {},
        "outputId": "a413cef4-f452-421c-b963-dab545cdbf05"
      },
      "source": [
        "for variable in categorical_vars:\n",
        "    print(data.groupby([variable, 'MISUSE'])[variable].count())"
      ],
      "execution_count": 0,
      "outputs": [
        {
          "output_type": "stream",
          "text": [
            "MJEVER  MISUSE\n",
            "0       0         21493\n",
            "        1          1771\n",
            "1       0         23182\n",
            "        1          6912\n",
            "Name: MJEVER, dtype: int64\n",
            "MJREC  MISUSE\n",
            "0      0         21493\n",
            "       1          1771\n",
            "1      0         14471\n",
            "       1          2084\n",
            "2      0          8711\n",
            "       1          4828\n",
            "Name: MJREC, dtype: int64\n"
          ],
          "name": "stdout"
        }
      ]
    },
    {
      "cell_type": "code",
      "metadata": {
        "id": "_hR6894BDyWr",
        "colab_type": "code",
        "colab": {},
        "outputId": "48e537f3-233f-4542-a818-837d179e7265"
      },
      "source": [
        "for i in binary_vars:\n",
        "    pos_and_misuse = len(data[(data[i] == 1) & (data[\"MISUSE\"] == 1)])/len(data[data[i] == 1]) *100\n",
        "    neg_and_misuse = len(data[(data[i] == 0) & (data[\"MISUSE\"] == 1)])/len(data[data[i] == 0]) *100\n",
        "    print(\"{:0.2f}% of users with {} = 1 misused, while only {:0.2f}% of users with {} = 0 misused\".format(pos_and_misuse, i,\n",
        "                                                                                                   neg_and_misuse, i))"
      ],
      "execution_count": 0,
      "outputs": [
        {
          "output_type": "stream",
          "text": [
            "22.97% of users with MJEVER = 1 misused, while only 7.61% of users with MJEVER = 0 misused\n"
          ],
          "name": "stdout"
        }
      ]
    },
    {
      "cell_type": "code",
      "metadata": {
        "id": "DpBvqEyNDyWt",
        "colab_type": "code",
        "colab": {},
        "outputId": "e248c15b-4de6-430a-aeb3-0b0ecb404d56"
      },
      "source": [
        "categorical_vars_non_binary = [\"MJREC\"]\n",
        "\n",
        "\n",
        "for i in categorical_vars_non_binary:\n",
        "    curr_and_misuse = len(data[(data[i] == 2) & (data[\"MISUSE\"] == 1)])/len(data[data[i] == 2]) *100\n",
        "    past_and_misuse = len(data[(data[i] == 1) & (data[\"MISUSE\"] == 1)])/len(data[data[i] == 1]) *100\n",
        "    neg_and_misuse = len(data[(data[i] == 0) & (data[\"MISUSE\"] == 1)])/len(data[data[i] == 0]) *100\n",
        "    print(\"{:0.2f}% of users with {} = 2 misused, {:0.2f}% of users with {} = 1 misused,  while only {:0.2f}% of users with {} = 0 misused\".format(curr_and_misuse, i,\n",
        "                                                                                                   past_and_misuse, i, neg_and_misuse, i))"
      ],
      "execution_count": 0,
      "outputs": [
        {
          "output_type": "stream",
          "text": [
            "35.66% of users with MJREC = 2 misused, 12.59% of users with MJREC = 1 misused,  while only 7.61% of users with MJREC = 0 misused\n"
          ],
          "name": "stdout"
        }
      ]
    },
    {
      "cell_type": "code",
      "metadata": {
        "collapsed": true,
        "id": "ljColE1CDyW1",
        "colab_type": "code",
        "colab": {}
      },
      "source": [
        ""
      ],
      "execution_count": 0,
      "outputs": []
    }
  ]
}