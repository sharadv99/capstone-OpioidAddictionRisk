{
  "nbformat": 4,
  "nbformat_minor": 0,
  "metadata": {
    "colab": {
      "name": "Past Work Variable Breakdown - Sharad.ipynb",
      "version": "0.3.2",
      "provenance": [],
      "include_colab_link": true
    },
    "language_info": {
      "codemirror_mode": {
        "name": "ipython",
        "version": 3
      },
      "file_extension": ".py",
      "mimetype": "text/x-python",
      "name": "python",
      "nbconvert_exporter": "python",
      "pygments_lexer": "ipython3",
      "version": "3.6.1"
    },
    "kernelspec": {
      "display_name": "Python 3",
      "language": "python",
      "name": "python3"
    }
  },
  "cells": [
    {
      "cell_type": "markdown",
      "metadata": {
        "id": "view-in-github",
        "colab_type": "text"
      },
      "source": [
        "<a href=\"https://colab.research.google.com/github/sharadv99/capstone-OpioidAddictionRisk/blob/master/Past_Work_Variable_Breakdown_Sharad.ipynb\" target=\"_parent\"><img src=\"https://colab.research.google.com/assets/colab-badge.svg\" alt=\"Open In Colab\"/></a>"
      ]
    },
    {
      "cell_type": "code",
      "metadata": {
        "id": "HWyHBw_ZSVXW",
        "colab_type": "code",
        "colab": {}
      },
      "source": [
        "import pandas as pd\n",
        "import numpy as np\n",
        "import pickle as pkl\n",
        "import zipfile\n",
        "import matplotlib.pyplot as plt\n",
        "%matplotlib inline"
      ],
      "execution_count": 0,
      "outputs": []
    },
    {
      "cell_type": "code",
      "metadata": {
        "id": "kukFhOzTSVXa",
        "colab_type": "code",
        "colab": {}
      },
      "source": [
        "with zipfile.ZipFile(\"data.pickle.zip\") as z:\n",
        "    data = pd.read_pickle(z.open(\"data.pickle\"))"
      ],
      "execution_count": 0,
      "outputs": []
    },
    {
      "cell_type": "code",
      "metadata": {
        "id": "eZqEwoxDSVXd",
        "colab_type": "code",
        "colab": {},
        "outputId": "7271a4db-55cf-4c97-ca72-d77e18bb970d"
      },
      "source": [
        "data.shape"
      ],
      "execution_count": 0,
      "outputs": [
        {
          "output_type": "execute_result",
          "data": {
            "text/plain": [
              "(53358, 2631)"
            ]
          },
          "metadata": {
            "tags": []
          },
          "execution_count": 101
        }
      ]
    },
    {
      "cell_type": "markdown",
      "metadata": {
        "id": "GsDPOSyDSVXh",
        "colab_type": "text"
      },
      "source": [
        "# TOBACCO"
      ]
    },
    {
      "cell_type": "markdown",
      "metadata": {
        "id": "uClgDM9XSVXi",
        "colab_type": "text"
      },
      "source": [
        "Variables of Interest :\n",
        "\n",
        "CIGEVER - EVER SMOKED A CIGARETTE -- boolean  \n",
        "CIGTRY - AGE WHEN FIRST SMOKED A CIGARETTE - continuous but requires some bucketing  \n",
        "CIGREC - TIME SINCE LAST SMOKED CIGARETTES   -- requires bucketing/binarizing  \n",
        "CIG30USE - HOW MANY DAYS SMOKED CIG IN PAST 30 DAYS  -- continuous but requires some bucketing  \n",
        "CIG30AV - AVG # CIGS SMOKED PER DAY/ON DAY SMOKED PAST 30 DAYS  -- continuous requires bucketing/binarizing    \n",
        "CIGDLYMO - EVER SMOKED CIG EVERY DAY FOR 30 DAYS  -- requires bucketing/binarizing  \n",
        "CIGAGE - AGE WHEN FIRST STARTED SMOKING CIGARETTES EVERYDAY -- continuous but requires bucketing  \n",
        "CIG100LF - HAVE YOU SMOKED 100 CIGS IN YOUR LIFE  -- requires bucketing/binarizing  \n",
        "SMKLSSEVR - EVER USED SMOKELESS TOBACCO  -- requires bucketing/binarizing  \n",
        "SMKLSSREC - TIME SINCE LAST USED SMOKELESS TOBACCO  -- requires bucketing/binarizing  \n",
        "SMKLSSTRY - AGE WHEN FIRST USED SMOKELESS TOBACCO -- continuous but requires bucketing  \n",
        "SMKLSS30N - HOW MANY DAYS USED SMOKELESS TOBACCO PAST 30 DAYS -- continuous but requires bucketing  \n",
        "CIGAREVR - EVER SMOKED PART OR ALL OF CIGAR  -- requires bucketing/binarizing  \n",
        "CIGARTRY - AGE WHEN FIRST SMOKED CIGAR -- continuous but requires bucketing  \n",
        "CIGARREC - TIME SINCE LAST SMOKED CIGAR  -- requires bucketing/binarizing  \n",
        "CGR30USE - HOW MANY DAYS SMOKED CIGAR IN PAST 30 DAYS  -- continuous but requires bucketing  \n",
        "PIPEVER - EVER SMOKED PIPE TOBACCO  -- requires bucketing/binarizing"
      ]
    },
    {
      "cell_type": "markdown",
      "metadata": {
        "id": "IHOsDrQUSVXj",
        "colab_type": "text"
      },
      "source": [
        "### Bucket Vals"
      ]
    },
    {
      "cell_type": "code",
      "metadata": {
        "id": "957cTdUHSVXj",
        "colab_type": "code",
        "colab": {}
      },
      "source": [
        "data[\"CIGTRY\"] = data[\"CIGTRY\"].apply(lambda row: np.nan if row in [985,991,994,997] else row) #nulls for non smokers"
      ],
      "execution_count": 0,
      "outputs": []
    },
    {
      "cell_type": "code",
      "metadata": {
        "id": "C9dSGT07SVXn",
        "colab_type": "code",
        "colab": {}
      },
      "source": [
        "data[\"CIGREC\"] = data[\"CIGREC\"].apply(lambda row: 2 if row in [1,2,8,11] else row) #Current Cig Smoker\n",
        "data[\"CIGREC\"] = data[\"CIGREC\"].apply(lambda row: 1 if row in [3,4,9,14,19,29,39] else row) #Past Cig Smoker\n",
        "data[\"CIGREC\"] = data[\"CIGREC\"].apply(lambda row: 0 if row not in [1,2] else row) # Never Smoked Cigs"
      ],
      "execution_count": 0,
      "outputs": []
    },
    {
      "cell_type": "code",
      "metadata": {
        "id": "or6t8x2dSVXq",
        "colab_type": "code",
        "colab": {}
      },
      "source": [
        "data[\"CIG30USE\"] = data[\"CIG30USE\"].apply(lambda row: 0 if row in [93] else row) #Didnt smoke in last 30 days\n",
        "data[\"CIG30USE\"] = data[\"CIG30USE\"].apply(lambda row: np.nan if row in [85,91,94,97,98] else row) #Never Smoked"
      ],
      "execution_count": 0,
      "outputs": []
    },
    {
      "cell_type": "code",
      "metadata": {
        "id": "Wj4xIjLRSVXt",
        "colab_type": "code",
        "colab": {}
      },
      "source": [
        "data[\"CIG30AV\"] = data[\"CIG30AV\"].apply(lambda row: 0 if row in [93] else row) #Didnt smoke in last 30 days\n",
        "data[\"CIG30AV\"] = data[\"CIG30AV\"].apply(lambda row: np.nan if row in [85,91,94,97,98] else row) #Never Smoked"
      ],
      "execution_count": 0,
      "outputs": []
    },
    {
      "cell_type": "code",
      "metadata": {
        "id": "Szns0HTaSVXx",
        "colab_type": "code",
        "colab": {}
      },
      "source": [
        "data[\"CIGDLYMO\"] = data[\"CIGDLYMO\"].apply(lambda row: 1 if row in [1,5] else row) #Smoked Cig Every Day 30 Days\n",
        "data[\"CIGDLYMO\"] = data[\"CIGDLYMO\"].apply(lambda row: 0 if row in [2, 91,94, 97, 98] else row) #Did not smoke everyday for 30 days"
      ],
      "execution_count": 0,
      "outputs": []
    },
    {
      "cell_type": "code",
      "metadata": {
        "id": "c0nSHkdhSVX1",
        "colab_type": "code",
        "colab": {}
      },
      "source": [
        "data[\"CIGAGE\"] = data[\"CIGAGE\"].apply(lambda row: np.nan if row in [985,991,994,997, 998, 999] else row) #nulls for non smokers"
      ],
      "execution_count": 0,
      "outputs": []
    },
    {
      "cell_type": "code",
      "metadata": {
        "id": "DUMqei15SVX5",
        "colab_type": "code",
        "colab": {}
      },
      "source": [
        "data[\"CIG100LF\"] = data[\"CIG100LF\"].apply(lambda row: 1 if row in [1,3,5] else row) #Smoked Cig Every 100 Days in Life\n",
        "data[\"CIG100LF\"] = data[\"CIG100LF\"].apply(lambda row: 0 if row in [2, 91,94, 97, 98] else row) #Did not smoke 100 cigs in Life"
      ],
      "execution_count": 0,
      "outputs": []
    },
    {
      "cell_type": "code",
      "metadata": {
        "id": "7hnUpEbESVX9",
        "colab_type": "code",
        "colab": {}
      },
      "source": [
        "data[\"SMKLSSEVR\"] = data[\"SMKLSSEVR\"].apply(lambda row: 0 if row in [2, 85,94, 97] else row) #Never used smokeless tobacco"
      ],
      "execution_count": 0,
      "outputs": []
    },
    {
      "cell_type": "code",
      "metadata": {
        "id": "nWene38mSVX_",
        "colab_type": "code",
        "colab": {}
      },
      "source": [
        "data[\"SMKLSSTRY\"] = data[\"SMKLSSTRY\"].apply(lambda row: np.nan if row in [985,991,994,997, 998] else row) #nulls for never using smokeless tobacco"
      ],
      "execution_count": 0,
      "outputs": []
    },
    {
      "cell_type": "code",
      "metadata": {
        "id": "LkN2QZgKSVYB",
        "colab_type": "code",
        "colab": {}
      },
      "source": [
        "data[\"SMKLSSREC\"] = data[\"SMKLSSREC\"].apply(lambda row: 2 if row in [1,2,8,11] else row) #Current Smokeless Tobacco user\n",
        "data[\"SMKLSSREC\"] = data[\"SMKLSSREC\"].apply(lambda row: 1 if row in [3,4,9,14,19,29,39] else row) #Past Smokeless Tobacco user\n",
        "data[\"SMKLSSREC\"] = data[\"SMKLSSREC\"].apply(lambda row: 0 if row not in [1,2] else row) # Never Used"
      ],
      "execution_count": 0,
      "outputs": []
    },
    {
      "cell_type": "code",
      "metadata": {
        "id": "Gu9guDgaSVYD",
        "colab_type": "code",
        "colab": {}
      },
      "source": [
        "data[\"SMKLSS30N\"] = data[\"SMKLSS30N\"].apply(lambda row: 0 if row in [93] else row) #Didnt use smokeless tobacco in last 30 days\n",
        "data[\"SMKLSS30N\"] = data[\"SMKLSS30N\"].apply(lambda row: np.nan if row in [91,94,97,98] else row) #Never Used"
      ],
      "execution_count": 0,
      "outputs": []
    },
    {
      "cell_type": "code",
      "metadata": {
        "id": "cjFKfhUpSVYG",
        "colab_type": "code",
        "colab": {}
      },
      "source": [
        "data[\"CIGAREVR\"] = data[\"CIGAREVR\"].apply(lambda row: 0 if row in [2,94, 97] else row) #Never smoked cigar"
      ],
      "execution_count": 0,
      "outputs": []
    },
    {
      "cell_type": "code",
      "metadata": {
        "id": "0LS7XjQASVYI",
        "colab_type": "code",
        "colab": {}
      },
      "source": [
        "data[\"CIGARTRY\"] = data[\"CIGARTRY\"].apply(lambda row: np.nan if row in [985,991,994,997, 998] else row) #nulls for non smokers"
      ],
      "execution_count": 0,
      "outputs": []
    },
    {
      "cell_type": "code",
      "metadata": {
        "id": "RneVrU3OSVYN",
        "colab_type": "code",
        "colab": {}
      },
      "source": [
        "data[\"CIGARREC\"] = data[\"CIGARREC\"].apply(lambda row: 2 if row in [1,2,8,11] else row) #Current Cigar Smoker\n",
        "data[\"CIGARREC\"] = data[\"CIGARREC\"].apply(lambda row: 1 if row in [3,4,9,14,19,29,39] else row) #Past Cigar Smoker\n",
        "data[\"CIGARREC\"] = data[\"CIGARREC\"].apply(lambda row: 0 if row not in [1,2] else row) # Never Smoked Cigars"
      ],
      "execution_count": 0,
      "outputs": []
    },
    {
      "cell_type": "code",
      "metadata": {
        "id": "sQZuc0HFSVYS",
        "colab_type": "code",
        "colab": {}
      },
      "source": [
        "data[\"CGR30USE\"] = data[\"CGR30USE\"].apply(lambda row: 0 if row in [93] else row) #Didnt smoke in last 30 days\n",
        "data[\"CGR30USE\"] = data[\"CGR30USE\"].apply(lambda row: np.nan if row in [91,94,97,98] else row) #Never Smoked"
      ],
      "execution_count": 0,
      "outputs": []
    },
    {
      "cell_type": "code",
      "metadata": {
        "id": "M6-FaORTSVYV",
        "colab_type": "code",
        "colab": {}
      },
      "source": [
        "data[\"PIPEVER\"] = data[\"PIPEVER\"].apply(lambda row: 0 if row in [2, 91,94, 97, 98] else row) #Never used pipe tobacco"
      ],
      "execution_count": 0,
      "outputs": []
    },
    {
      "cell_type": "markdown",
      "metadata": {
        "id": "VKpiw9BqSVYZ",
        "colab_type": "text"
      },
      "source": [
        "### Continuous Variable Correlations"
      ]
    },
    {
      "cell_type": "code",
      "metadata": {
        "id": "2rL5UkKaSVYa",
        "colab_type": "code",
        "colab": {}
      },
      "source": [
        "misuseCodes = [1, 2, 8]\n",
        "data['MISUSE'] = data.apply(lambda row: 1 if row.PNRNMREC in misuseCodes else 0,\n",
        "                                              axis=1)"
      ],
      "execution_count": 0,
      "outputs": []
    },
    {
      "cell_type": "code",
      "metadata": {
        "id": "LYAXTSmiSVYd",
        "colab_type": "code",
        "colab": {}
      },
      "source": [
        "continuous_vars = [\"CIGTRY\", \"CIG30USE\", \"CIG30AV\", \"CIGAGE\", \"SMKLSSTRY\", \"SMKLSS30N\", \"CIGARTRY\", \"CGR30USE\"]\n",
        "categorical_vars = [\"CIGREC\", \"CIGDLYMO\", \"CIG100LF\", \"SMKLSSEVR\", \"SMKLSSREC\", \"CIGAREVR\", \"CIGARREC\", \"PIPEVER\"]\n",
        "binary_vars = [\"CIGDLYMO\", \"CIG100LF\", \"SMKLSSEVR\", \"CIGAREVR\", \"PIPEVER\"]"
      ],
      "execution_count": 0,
      "outputs": []
    },
    {
      "cell_type": "code",
      "metadata": {
        "id": "IW_sL22KSVYh",
        "colab_type": "code",
        "colab": {},
        "outputId": "62f44015-6c35-4def-b570-46350f60c554"
      },
      "source": [
        "for i in continuous_vars:\n",
        "    print(\"MISUSE and {} have a correlation of: {:0.2f}\".format(i, data[['MISUSE', i]].corr().iloc[0,1]))"
      ],
      "execution_count": 0,
      "outputs": [
        {
          "output_type": "stream",
          "text": [
            "MISUSE and CIGTRY have a correlation of: -0.11\n",
            "MISUSE and CIG30USE have a correlation of: 0.13\n",
            "MISUSE and CIG30AV have a correlation of: 0.14\n",
            "MISUSE and CIGAGE have a correlation of: -0.07\n",
            "MISUSE and SMKLSSTRY have a correlation of: -0.07\n",
            "MISUSE and SMKLSS30N have a correlation of: -0.01\n",
            "MISUSE and CIGARTRY have a correlation of: -0.17\n",
            "MISUSE and CGR30USE have a correlation of: 0.07\n"
          ],
          "name": "stdout"
        }
      ]
    },
    {
      "cell_type": "markdown",
      "metadata": {
        "id": "zUAs-ktzSVYk",
        "colab_type": "text"
      },
      "source": [
        "**Weak correlation with the continuous variables and Misuse in tobacco section**"
      ]
    },
    {
      "cell_type": "code",
      "metadata": {
        "id": "Y8aEzSMaSVYl",
        "colab_type": "code",
        "colab": {},
        "outputId": "12c4f69a-9984-4e7f-9e89-78ecbae7cc14"
      },
      "source": [
        "for variable in categorical_vars:\n",
        "    print(data.groupby([variable, 'MISUSE'])[variable].count())"
      ],
      "execution_count": 0,
      "outputs": [
        {
          "output_type": "stream",
          "text": [
            "CIGREC  MISUSE\n",
            "0       0         17683\n",
            "        1          1938\n",
            "1       0         13709\n",
            "        1          1880\n",
            "2       0         13283\n",
            "        1          4865\n",
            "Name: CIGREC, dtype: int64\n",
            "CIGDLYMO  MISUSE\n",
            "0         0         28996\n",
            "          1          4457\n",
            "1         0         15679\n",
            "          1          4226\n",
            "Name: CIGDLYMO, dtype: int64\n",
            "CIG100LF  MISUSE\n",
            "0         0         27479\n",
            "          1          4057\n",
            "1         0         17196\n",
            "          1          4626\n",
            "Name: CIG100LF, dtype: int64\n",
            "SMKLSSEVR  MISUSE\n",
            "0          0         36558\n",
            "           1          5691\n",
            "1          0          8117\n",
            "           1          2992\n",
            "Name: SMKLSSEVR, dtype: int64\n",
            "SMKLSSREC  MISUSE\n",
            "0          0         36558\n",
            "           1          5691\n",
            "1          0          5527\n",
            "           1          1824\n",
            "2          0          2590\n",
            "           1          1168\n",
            "Name: SMKLSSREC, dtype: int64\n",
            "CIGAREVR  MISUSE\n",
            "0         0         29936\n",
            "          1          4124\n",
            "1         0         14739\n",
            "          1          4559\n",
            "Name: CIGAREVR, dtype: int64\n",
            "CIGARREC  MISUSE\n",
            "0         0         29936\n",
            "          1          4124\n",
            "1         0          9815\n",
            "          1          2336\n",
            "2         0          4924\n",
            "          1          2223\n",
            "Name: CIGARREC, dtype: int64\n",
            "PIPEVER  MISUSE\n",
            "0        0         39996\n",
            "         1          6969\n",
            "1        0          4679\n",
            "         1          1714\n",
            "Name: PIPEVER, dtype: int64\n"
          ],
          "name": "stdout"
        }
      ]
    },
    {
      "cell_type": "code",
      "metadata": {
        "id": "LRdJ29ltSVYm",
        "colab_type": "code",
        "colab": {},
        "outputId": "ac55516a-9f1e-467e-d5bc-559a18d05d67"
      },
      "source": [
        "for i in binary_vars:\n",
        "    pos_and_misuse = len(data[(data[i] == 1) & (data[\"MISUSE\"] == 1)])/len(data[data[i] == 1]) *100\n",
        "    neg_and_misuse = len(data[(data[i] == 0) & (data[\"MISUSE\"] == 1)])/len(data[data[i] == 0]) *100\n",
        "    print(\"{:0.2f}% of users with {} = 1 misused, while only {:0.2f}% of users with {} = 0 misused\".format(pos_and_misuse, i,\n",
        "                                                                                                   neg_and_misuse, i))"
      ],
      "execution_count": 0,
      "outputs": [
        {
          "output_type": "stream",
          "text": [
            "21.23% of users with CIGDLYMO = 1 misused, while only 13.32% of users with CIGDLYMO = 0 misused\n",
            "21.20% of users with CIG100LF = 1 misused, while only 12.86% of users with CIG100LF = 0 misused\n",
            "26.93% of users with SMKLSSEVR = 1 misused, while only 13.47% of users with SMKLSSEVR = 0 misused\n",
            "23.62% of users with CIGAREVR = 1 misused, while only 12.11% of users with CIGAREVR = 0 misused\n",
            "26.81% of users with PIPEVER = 1 misused, while only 14.84% of users with PIPEVER = 0 misused\n"
          ],
          "name": "stdout"
        }
      ]
    },
    {
      "cell_type": "code",
      "metadata": {
        "id": "jxGVNYIpSVYo",
        "colab_type": "code",
        "colab": {},
        "outputId": "5621e328-0bd9-47a7-bb8d-40890b4a5cf2"
      },
      "source": [
        "categorical_vars_non_binary = [\"CIGREC\", \"SMKLSSREC\", \"CIGARREC\"]\n",
        "\n",
        "\n",
        "for i in categorical_vars_non_binary:\n",
        "    curr_and_misuse = len(data[(data[i] == 2) & (data[\"MISUSE\"] == 1)])/len(data[data[i] == 2]) *100\n",
        "    past_and_misuse = len(data[(data[i] == 1) & (data[\"MISUSE\"] == 1)])/len(data[data[i] == 1]) *100\n",
        "    neg_and_misuse = len(data[(data[i] == 0) & (data[\"MISUSE\"] == 1)])/len(data[data[i] == 0]) *100\n",
        "    print(\"{:0.2f}% of users with {} = 2 misused, {:0.2f}% of users with {} = 1 misused,  while only {:0.2f}% of users with {} = 0 misused\".format(curr_and_misuse, i,\n",
        "                                                                                                   past_and_misuse, i, neg_and_misuse, i))"
      ],
      "execution_count": 0,
      "outputs": [
        {
          "output_type": "stream",
          "text": [
            "26.81% of users with CIGREC = 2 misused, 12.06% of users with CIGREC = 1 misused,  while only 9.88% of users with CIGREC = 0 misused\n",
            "31.08% of users with SMKLSSREC = 2 misused, 24.81% of users with SMKLSSREC = 1 misused,  while only 13.47% of users with SMKLSSREC = 0 misused\n",
            "31.10% of users with CIGARREC = 2 misused, 19.22% of users with CIGARREC = 1 misused,  while only 12.11% of users with CIGARREC = 0 misused\n"
          ],
          "name": "stdout"
        }
      ]
    },
    {
      "cell_type": "code",
      "metadata": {
        "id": "FU2mnSJeSVYs",
        "colab_type": "code",
        "colab": {}
      },
      "source": [
        ""
      ],
      "execution_count": 0,
      "outputs": []
    }
  ]
}